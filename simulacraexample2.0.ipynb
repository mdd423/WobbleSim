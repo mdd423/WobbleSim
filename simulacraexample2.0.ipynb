{
 "cells": [
  {
   "cell_type": "code",
   "execution_count": 1,
   "metadata": {},
   "outputs": [],
   "source": [
    "import simulacra.star"
   ]
  },
  {
   "cell_type": "code",
   "execution_count": 2,
   "metadata": {},
   "outputs": [],
   "source": [
    "import astropy.time as at"
   ]
  },
  {
   "cell_type": "code",
   "execution_count": 3,
   "metadata": {},
   "outputs": [],
   "source": [
    "import astropy.units as u\n",
    "import astropy.coordinates as coord\n",
    "import astropy.constants as const"
   ]
  },
  {
   "cell_type": "code",
   "execution_count": 4,
   "metadata": {},
   "outputs": [],
   "source": [
    "import numpy as np"
   ]
  },
  {
   "cell_type": "code",
   "execution_count": 5,
   "metadata": {},
   "outputs": [],
   "source": [
    "import astropy.io.fits"
   ]
  },
  {
   "cell_type": "code",
   "execution_count": 6,
   "metadata": {},
   "outputs": [],
   "source": [
    "def stellar_to_detector_flux(stellar_flux,wavelength,stellar_radius,exposure_time,distance,detector_area):\n",
    "    stellar_area = 4. * np.pi * stellar_radius**2\n",
    "    print(stellar_area)\n",
    "    ratio_of_areas = detector_area / (4.* np.pi * distance**2)\n",
    "    print(ratio_of_areas)\n",
    "    det_flux = np.multiply(stellar_flux,wavelength) * stellar_area * exposure_time * ratio_of_areas / (const.hbar * const.c)\n",
    "    return det_flux"
   ]
  },
  {
   "cell_type": "markdown",
   "metadata": {},
   "source": [
    "erg/cm^2/s/cm * SA * exposure_time * ratio_of_areas * lambda^2/ hbar c = N_photons"
   ]
  },
  {
   "cell_type": "code",
   "execution_count": 7,
   "metadata": {},
   "outputs": [],
   "source": [
    "tspace = at.Time.now() + np.linspace(0,365,3600)"
   ]
  },
  {
   "cell_type": "code",
   "execution_count": 8,
   "metadata": {},
   "outputs": [],
   "source": [
    "ra, dec = np.random.uniform(0,360) * u.degree, np.random.uniform(0,80) * u.degree\n",
    "obs = 'APO'\n",
    "loc = coord.EarthLocation.of_site(obs)\n",
    "target = coord.SkyCoord(ra,dec,frame='icrs')"
   ]
  },
  {
   "cell_type": "code",
   "execution_count": 9,
   "metadata": {
    "scrolled": false
   },
   "outputs": [
    {
     "name": "stderr",
     "output_type": "stream",
     "text": [
      "WARNING: Tried to get polar motions for times after IERS data is valid. Defaulting to polar motion from the 50-yr mean for those. This may affect precision at the 10s of arcsec level [astropy.coordinates.builtin_frames.utils]\n"
     ]
    }
   ],
   "source": [
    "tstart = at.Time.now()\n",
    "tend   = tstart + 365 * u.day\n",
    "night_grid = simulacra.star.get_night_grid(loc,tstart,tend)\n",
    "possible_times, airmass = simulacra.star.get_realistic_times(target,loc,night_grid)"
   ]
  },
  {
   "cell_type": "code",
   "execution_count": 10,
   "metadata": {},
   "outputs": [
    {
     "name": "stderr",
     "output_type": "stream",
     "text": [
      "/Library/Frameworks/Python.framework/Versions/3.7/lib/python3.7/site-packages/pysynphot/locations.py:46: UserWarning: PYSYN_CDBS is undefined; functionality will be SEVERELY crippled.\n",
      "  warnings.warn(\"PYSYN_CDBS is undefined; functionality will be SEVERELY \"\n",
      "/Library/Frameworks/Python.framework/Versions/3.7/lib/python3.7/site-packages/pysynphot/locations.py:345: UserWarning: Extinction files not found in extinction\n",
      "  warnings.warn('Extinction files not found in %s' % (extdir, ))\n"
     ]
    }
   ],
   "source": [
    "import simulacra.tellurics"
   ]
  },
  {
   "cell_type": "code",
   "execution_count": 11,
   "metadata": {},
   "outputs": [],
   "source": [
    "epoches = 2"
   ]
  },
  {
   "cell_type": "code",
   "execution_count": 12,
   "metadata": {},
   "outputs": [],
   "source": [
    "import random\n",
    "obs_ints = random.sample(range(len(airmass)),epoches)\n",
    "obs_times, obs_airmass = possible_times[obs_ints], airmass[obs_ints]"
   ]
  },
  {
   "cell_type": "code",
   "execution_count": 13,
   "metadata": {},
   "outputs": [],
   "source": [
    "wave_min = 500*u.nm\n",
    "wave_max = 600*u.nm\n",
    "tellurics_model = simulacra.tellurics.TelFitModel(wave_min,wave_max,obs_airmass,loc)"
   ]
  },
  {
   "cell_type": "code",
   "execution_count": 14,
   "metadata": {},
   "outputs": [],
   "source": [
    "tellurics_model.pressure    = 875 * u.hPa\n",
    "tellurics_model.temperature = 300 * u.Kelvin\n",
    "tellurics_model.humidity    = 50.0"
   ]
  },
  {
   "cell_type": "code",
   "execution_count": 15,
   "metadata": {},
   "outputs": [],
   "source": [
    "from simulacra.star import PhoenixModel"
   ]
  },
  {
   "cell_type": "code",
   "execution_count": 16,
   "metadata": {},
   "outputs": [
    {
     "name": "stdout",
     "output_type": "stream",
     "text": [
      "using saved wave file\n",
      "data/stellar/PHOENIX/lte04800-1.00-1.0.Alpha=+0.40.PHOENIX-ACES-AGSS-COND-2011-HiRes.fits\n",
      "using saved flux file\n",
      "reading in data/stellar/PHOENIX/WAVE_PHOENIX-ACES-AGSS-COND-2011.fits\n"
     ]
    }
   ],
   "source": [
    "logg = 1.0\n",
    "T    = 4800\n",
    "z    = 1.0\n",
    "alpha= 0.4\n",
    "amplitude = 2 * u.m/u.s\n",
    "period    = 65 * u.day\n",
    "stellar_model = PhoenixModel(alpha,z,T,logg,target,amplitude,period)"
   ]
  },
  {
   "cell_type": "code",
   "execution_count": 17,
   "metadata": {},
   "outputs": [],
   "source": [
    "from simulacra.detector import Detector, spacing_from_res"
   ]
  },
  {
   "cell_type": "code",
   "execution_count": 18,
   "metadata": {},
   "outputs": [],
   "source": [
    "resolution = 25_000\n",
    "area = 100 *u.m**2\n",
    "exp_times = 8 * np.ones(epoches)* u.minute \n",
    "dark_current = 0.1/u.s\n",
    "read_noise   = 0.1\n",
    "ccd_eff      = 0.9\n",
    "\n",
    "delta_x = spacing_from_res(resolution)\n",
    "x_grid = np.arange(np.log(wave_min.to(u.Angstrom).value),np.log(wave_max.to(u.Angstrom).value),delta_x)\n",
    "wave_grid = np.exp(x_grid) * u.Angstrom"
   ]
  },
  {
   "cell_type": "code",
   "execution_count": 19,
   "metadata": {},
   "outputs": [],
   "source": [
    "detector = Detector(stellar_model,resolution,loc,area,wave_grid,dark_current,read_noise,ccd_eff)"
   ]
  },
  {
   "cell_type": "code",
   "execution_count": 20,
   "metadata": {},
   "outputs": [
    {
     "name": "stdout",
     "output_type": "stream",
     "text": [
      "wave_grid min -> 500.0 nm\n"
     ]
    }
   ],
   "source": [
    "detector.add_model(tellurics_model)"
   ]
  },
  {
   "cell_type": "code",
   "execution_count": 21,
   "metadata": {},
   "outputs": [],
   "source": [
    "from simulacra.gascell import GasCellModel\n",
    "gascell_model = GasCellModel('data/gascell/keck_fts_inUse.idl')\n",
    "detector.add_model(gascell_model)"
   ]
  },
  {
   "cell_type": "code",
   "execution_count": 22,
   "metadata": {},
   "outputs": [
    {
     "data": {
      "text/plain": [
       "(<Quantity 500. nm>, <Quantity 600. nm>)"
      ]
     },
     "execution_count": 22,
     "metadata": {},
     "output_type": "execute_result"
    }
   ],
   "source": [
    "tellurics_model.lambmin, tellurics_model.lambmax"
   ]
  },
  {
   "cell_type": "code",
   "execution_count": 23,
   "metadata": {},
   "outputs": [
    {
     "name": "stdout",
     "output_type": "stream",
     "text": [
      "generating spectra...\n",
      "5e-05 cm 6.000000000000001e-05 cm\n",
      "humidity: 50.0\n",
      " pressure: 875.0\n",
      " temperature: 300.0\n",
      " lat: 32.78000000000001\n",
      " elevation: 2.797999999999601\n",
      " freqmin(cm-1): 16666.666666666664\n",
      " freqmax(cm-1): 20000.0\n",
      " angle: 66.35379485430568\n",
      "\n",
      "834800\n",
      "humidity: 50.0\n",
      " pressure: 875.0\n",
      " temperature: 300.0\n",
      " lat: 32.78000000000001\n",
      " elevation: 2.797999999999601\n",
      " freqmin(cm-1): 16666.666666666664\n",
      " freqmax(cm-1): 20000.0\n",
      " angle: 56.9314049212426\n",
      "\n",
      "834800\n",
      "<simulacra.tellurics.TelFitModel object at 0x7fa4ef8aaef0> [1.6178939059585673e-06, 2.181492142483421e-07, 2.181492142483421e-07]\n",
      "<simulacra.gascell.GasCellModel object at 0x7fa4ef8fe0b8> [1.6178939059585673e-06, 2.181492142483421e-07, 2.181492142483421e-07, 7.868814098088706e-07, 7.868814098088706e-07]\n",
      "interpolating spline...\n",
      "0\n",
      "1\n",
      "convolving...\n",
      "0\n",
      "1\n",
      "interpolating lanczos...\n",
      "0\n",
      "1\n",
      "adding noise...\n",
      "0\n",
      "1\n"
     ]
    }
   ],
   "source": [
    "\n",
    "data = detector.simulate(obs_times,exp_times)"
   ]
  },
  {
   "cell_type": "code",
   "execution_count": 24,
   "metadata": {},
   "outputs": [],
   "source": [
    "filename = 'out/datatest4.pkl'\n",
    "data.to_pickle(filename)"
   ]
  },
  {
   "cell_type": "code",
   "execution_count": 25,
   "metadata": {},
   "outputs": [],
   "source": [
    "import matplotlib.pyplot as plt"
   ]
  },
  {
   "cell_type": "code",
   "execution_count": 26,
   "metadata": {},
   "outputs": [
    {
     "data": {
      "text/plain": [
       "array([9.39403234e+63, 1.64861174e+64, 1.58012078e+64, ...,\n",
       "       1.17620888e+66, 1.72117880e+66, 1.01919859e+66])"
      ]
     },
     "execution_count": 26,
     "metadata": {},
     "output_type": "execute_result"
    }
   ],
   "source": [
    "data['data']['flux'][1]"
   ]
  },
  {
   "cell_type": "code",
   "execution_count": 27,
   "metadata": {},
   "outputs": [],
   "source": [
    "def print_keys(data):\n",
    "    for key in data.keys():\n",
    "        print(key)\n",
    "        if isinstance(data[key],dict):\n",
    "            print_keys(data[key])"
   ]
  },
  {
   "cell_type": "code",
   "execution_count": 28,
   "metadata": {},
   "outputs": [
    {
     "name": "stdout",
     "output_type": "stream",
     "text": [
      "[<Time object: scale='utc' format='jd' value=2459594.6387296575>\n",
      " <Time object: scale='utc' format='jd' value=2459823.3695667265>]\n"
     ]
    }
   ],
   "source": [
    "# print_keys(data['data']['obs_times'])\n",
    "print(data['data']['obs_times'])"
   ]
  },
  {
   "cell_type": "code",
   "execution_count": 29,
   "metadata": {},
   "outputs": [
    {
     "data": {
      "text/plain": [
       "<matplotlib.axes._subplots.AxesSubplot at 0x7fa4ecfb3748>"
      ]
     },
     "execution_count": 29,
     "metadata": {},
     "output_type": "execute_result"
    },
    {
     "data": {
      "image/png": "[encoded data removed]",
      "text/plain": [
       "<Figure size 1440x576 with 1 Axes>"
      ]
     },
     "metadata": {
      "needs_background": "light"
     },
     "output_type": "display_data"
    }
   ],
   "source": [
    "fig, ax = plt.subplots(figsize=(20,8))\n",
    "data.plot_flux(ax,0,['data','flux'],['data','wave'])"
   ]
  },
  {
   "cell_type": "code",
   "execution_count": null,
   "metadata": {},
   "outputs": [],
   "source": []
  }
 ],
 "metadata": {
  "kernelspec": {
   "display_name": "Python 3",
   "language": "python",
   "name": "python3"
  },
  "language_info": {
   "codemirror_mode": {
    "name": "ipython",
    "version": 3
   },
   "file_extension": ".py",
   "mimetype": "text/x-python",
   "name": "python",
   "nbconvert_exporter": "python",
   "pygments_lexer": "ipython3",
   "version": "3.7.1"
  }
 },
 "nbformat": 4,
 "nbformat_minor": 4
}
