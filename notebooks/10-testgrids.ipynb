{
 "cells": [
  {
   "cell_type": "code",
   "execution_count": 1,
   "metadata": {},
   "outputs": [
    {
     "name": "stderr",
     "output_type": "stream",
     "text": [
      "/ext3/miniconda3/envs/simulacraenv/lib/python3.7/site-packages/pysynphot/locations.py:46: UserWarning: PYSYN_CDBS is undefined; functionality will be SEVERELY crippled.\n",
      "  warnings.warn(\"PYSYN_CDBS is undefined; functionality will be SEVERELY \"\n",
      "/ext3/miniconda3/envs/simulacraenv/lib/python3.7/site-packages/pysynphot/locations.py:345: UserWarning: Extinction files not found in extinction\n",
      "  warnings.warn('Extinction files not found in %s' % (extdir, ))\n"
     ]
    }
   ],
   "source": [
    "import sys\n",
    "sys.path.insert(0,'..')\n",
    "import simulacra.star\n",
    "import simulacra.tellurics\n",
    "from simulacra.star import PhoenixModel\n",
    "\n",
    "import random\n",
    "random.seed(a=102102102)\n",
    "import numpy as np\n",
    "np.random.seed(102102102)\n",
    "\n",
    "import astropy.io.fits\n",
    "import astropy.time as at\n",
    "\n",
    "import astropy.units as u\n",
    "import astropy.coordinates as coord\n",
    "import astropy.constants as const"
   ]
  },
  {
   "cell_type": "code",
   "execution_count": 2,
   "metadata": {},
   "outputs": [],
   "source": [
    "from datetime import datetime\n",
    "import os\n",
    "date = datetime.today().strftime('%Y-%m-%d')\n",
    "outdir = os.path.join('/scratch/mdd423/simulacra/out/',date)\n",
    "os.makedirs(outdir,exist_ok=True)"
   ]
  },
  {
   "cell_type": "code",
   "execution_count": 3,
   "metadata": {},
   "outputs": [],
   "source": [
    "ra, dec = np.random.uniform(0,360) * u.degree, np.random.uniform(0,80) * u.degree\n",
    "obs = 'APO'\n",
    "loc = coord.EarthLocation.of_site(obs)\n",
    "target = coord.SkyCoord(ra,dec,frame='icrs')"
   ]
  },
  {
   "cell_type": "code",
   "execution_count": 4,
   "metadata": {
    "scrolled": false
   },
   "outputs": [],
   "source": [
    "tstart = at.Time('2020-01-01T08:10:00.123456789',format='isot',scale='utc')\n",
    "tend   = tstart + 720 * u.day\n",
    "night_grid = simulacra.star.get_night_grid(loc,tstart,tend,steps_per_night=20)\n",
    "possible_times, airmass = simulacra.star.get_realistic_times(target,loc,night_grid)"
   ]
  },
  {
   "cell_type": "code",
   "execution_count": 5,
   "metadata": {},
   "outputs": [],
   "source": [
    "epoches = 30"
   ]
  },
  {
   "cell_type": "markdown",
   "metadata": {},
   "source": [
    "Now we selected some random sample of these to observe at and the airmasses at those times"
   ]
  },
  {
   "cell_type": "code",
   "execution_count": 6,
   "metadata": {},
   "outputs": [],
   "source": [
    "obs_ints = random.sample(range(len(airmass)),epoches)\n",
    "obs_times, obs_airmass = possible_times[obs_ints], airmass[obs_ints]"
   ]
  },
  {
   "cell_type": "markdown",
   "metadata": {},
   "source": [
    "<h2>Tellurics Model</h2>\n",
    "The tellurics model requires these airmasses at the time of observation. However each of the pressure, temperatures, and humidities can be set by the user after initialization. If a single value is passed that is used for every epoch. Or you can pass it an array of quantities of size equal to the number of epoches."
   ]
  },
  {
   "cell_type": "code",
   "execution_count": 7,
   "metadata": {},
   "outputs": [],
   "source": [
    "wave_min = 700*u.nm\n",
    "wave_max = 900*u.nm\n",
    "tellurics_model = simulacra.tellurics.TelFitModel(wave_min,wave_max,loc)"
   ]
  },
  {
   "cell_type": "markdown",
   "metadata": {},
   "source": [
    "<h2>Star Model</h2>\n",
    "Here we define the star model with some temperature, distance, logg, and companion parameters. The logg, T, z, and alpha parameters must correspond to an appropriate atmosphere model from the PHOENIX libraray online. Then also give it some companion parameters that could affect its velocity. This is what we will be trying to find use jabble."
   ]
  },
  {
   "cell_type": "code",
   "execution_count": 8,
   "metadata": {},
   "outputs": [],
   "source": [
    "from simulacra.detector import Detector, spacing_from_res"
   ]
  },
  {
   "cell_type": "markdown",
   "metadata": {},
   "source": [
    "<h2>Detector</h2>\n",
    "Here we define our detector giving it an aperature area, resolution, dark current, read noise, and ccd efficiency. All of these can be except area can be given as an array of the same size as the wave_grid (eg. if the detector has varying resolution or noise levels)"
   ]
  },
  {
   "cell_type": "code",
   "execution_count": 9,
   "metadata": {},
   "outputs": [],
   "source": [
    "import matplotlib.pyplot as plt\n",
    "import scipy.ndimage\n",
    "def normalize(y,yerr,sigma):\n",
    "    y_low = scipy.ndimage.gaussian_filter(y,sigma)\n",
    "    return y/y_low, yerr/y"
   ]
  },
  {
   "cell_type": "code",
   "execution_count": 10,
   "metadata": {},
   "outputs": [],
   "source": [
    "resolution = 70_000.0\n",
    "area = np.pi*(4.3 * u.m/2)**2\n",
    "exp_times = 8 * np.ones(epoches)* u.minute \n",
    "dark_current = 1/u.s\n",
    "read_noise   = 1\n",
    "ccd_eff      = 0.99\n",
    "through_put  = 3e-7\n",
    "\n",
    "epsilon = 1.0\n",
    "w = 0.0\n",
    "gamma = 1.0\n",
    "\n",
    "delta_x = spacing_from_res(2*resolution)\n",
    "x_grid = np.arange(np.log(wave_min.to(u.Angstrom).value),np.log(wave_max.to(u.Angstrom).value),delta_x)\n",
    "wave_grid = np.exp(x_grid) * u.Angstrom"
   ]
  },
  {
   "cell_type": "markdown",
   "metadata": {},
   "source": [
    "<h2>Simulations</h2>\n",
    "Now we are going to simulate this star with the same detector defined by the above parameters at many different distances."
   ]
  },
  {
   "cell_type": "code",
   "execution_count": 11,
   "metadata": {},
   "outputs": [],
   "source": [
    "distances = [5 * u.pc, 10 * u.pc, 20*u.pc, 50*u.pc, 100 * u.pc, 150 * u.pc, 200 * u.pc, 250 * u.pc, 300 * u.pc, 350 * u.pc, 400 * u.pc]"
   ]
  },
  {
   "cell_type": "markdown",
   "metadata": {},
   "source": [
    "Now Simulate! And plot outputs before saving!"
   ]
  },
  {
   "cell_type": "code",
   "execution_count": 12,
   "metadata": {},
   "outputs": [],
   "source": [
    "logg = 1.0\n",
    "T    = 4800\n",
    "z    = -1.0\n",
    "alpha= 0.4\n",
    "amplitude = 2 * u.km/u.s\n",
    "period    = 40.3 * u.day"
   ]
  },
  {
   "cell_type": "code",
   "execution_count": 13,
   "metadata": {},
   "outputs": [
    {
     "name": "stdout",
     "output_type": "stream",
     "text": [
      "using saved wave file\n",
      "../data/stellar/PHOENIX/lte04800-1.00-1.0.Alpha=+0.40.PHOENIX-ACES-AGSS-COND-2011-HiRes.fits\n",
      "using saved flux file\n",
      "reading in ../data/stellar/PHOENIX/WAVE_PHOENIX-ACES-AGSS-COND-2011.fits\n",
      "wave_grid min -> 701.0 nm\n",
      "surface flux: mean 1.31e+14 erg / (cm3 s)\t median 1.14e+14 erg / (cm3 s)\n",
      "obs     flux: mean 1.51e+01 erg / (cm3 s)\t median 1.31e+01 erg / (cm3 s)\n"
     ]
    },
    {
     "name": "stderr",
     "output_type": "stream",
     "text": [
      "WARNING:root:tellurics epoches not the same as obs times\n",
      "resetting...\n"
     ]
    },
    {
     "name": "stdout",
     "output_type": "stream",
     "text": [
      "generating spectra...\n",
      "humidity: 50.0\n",
      " pressure: 10000.0\n",
      " temperature: 300.0\n",
      " lat: 32.78000000000001\n",
      " elevation: 2.797999999999601\n",
      " freqmin(cm-1): 11098.779134295226\n",
      " freqmax(cm-1): 14265.33523537803\n",
      " angle: 62.8613757400191\n",
      "\n",
      "\n",
      "Running exec: lblrtm\n",
      "\n",
      "\n"
     ]
    },
    {
     "name": "stderr",
     "output_type": "stream",
     "text": [
      "Note: The following floating-point exceptions are signalling: IEEE_INVALID_FLAG IEEE_UNDERFLOW_FLAG IEEE_DENORMAL\n",
      "STOP  LBLRTM EXIT \n",
      "2.18user 1.14system 0:04.73elapsed 70%CPU (0avgtext+0avgdata 7608maxresident)k\n",
      "0inputs+0outputs (0major+1233minor)pagefaults 0swaps\n"
     ]
    },
    {
     "name": "stdout",
     "output_type": "stream",
     "text": [
      "\n",
      "Running exec: lblrtm\n",
      "\n",
      "\n"
     ]
    },
    {
     "name": "stderr",
     "output_type": "stream",
     "text": [
      "Note: The following floating-point exceptions are signalling: IEEE_INVALID_FLAG IEEE_UNDERFLOW_FLAG IEEE_DENORMAL\n",
      "STOP  LBLRTM EXIT \n",
      "0.94user 0.90system 0:02.07elapsed 89%CPU (0avgtext+0avgdata 7720maxresident)k\n",
      "0inputs+0outputs (0major+1234minor)pagefaults 0swaps\n"
     ]
    },
    {
     "name": "stdout",
     "output_type": "stream",
     "text": [
      "1143628\n",
      "humidity: 50.0\n",
      " pressure: 10000.0\n",
      " temperature: 300.0\n",
      " lat: 32.78000000000001\n",
      " elevation: 2.797999999999601\n",
      " freqmin(cm-1): 11098.779134295226\n",
      " freqmax(cm-1): 14265.33523537803\n",
      " angle: 36.420938571519066\n",
      "\n",
      "\n",
      "Running exec: lblrtm\n",
      "\n",
      "\n"
     ]
    },
    {
     "name": "stderr",
     "output_type": "stream",
     "text": [
      "Note: The following floating-point exceptions are signalling: IEEE_INVALID_FLAG IEEE_UNDERFLOW_FLAG IEEE_DENORMAL\n",
      "STOP  LBLRTM EXIT \n",
      "2.12user 0.84system 0:03.19elapsed 93%CPU (0avgtext+0avgdata 7720maxresident)k\n",
      "0inputs+0outputs (0major+1234minor)pagefaults 0swaps\n"
     ]
    },
    {
     "name": "stdout",
     "output_type": "stream",
     "text": [
      "\n",
      "Running exec: lblrtm\n",
      "\n",
      "\n"
     ]
    },
    {
     "name": "stderr",
     "output_type": "stream",
     "text": [
      "Note: The following floating-point exceptions are signalling: IEEE_INVALID_FLAG IEEE_UNDERFLOW_FLAG IEEE_DENORMAL\n",
      "STOP  LBLRTM EXIT \n",
      "0.92user 0.69system 0:01.74elapsed 92%CPU (0avgtext+0avgdata 7668maxresident)k\n",
      "0inputs+0outputs (0major+1233minor)pagefaults 0swaps\n"
     ]
    },
    {
     "name": "stdout",
     "output_type": "stream",
     "text": [
      "1143628\n",
      "humidity: 50.0\n",
      " pressure: 10000.0\n",
      " temperature: 300.0\n",
      " lat: 32.78000000000001\n",
      " elevation: 2.797999999999601\n",
      " freqmin(cm-1): 11098.779134295226\n",
      " freqmax(cm-1): 14265.33523537803\n",
      " angle: 42.79961082627774\n",
      "\n",
      "\n",
      "Running exec: lblrtm\n",
      "\n",
      "\n"
     ]
    },
    {
     "name": "stderr",
     "output_type": "stream",
     "text": [
      "Note: The following floating-point exceptions are signalling: IEEE_INVALID_FLAG IEEE_UNDERFLOW_FLAG IEEE_DENORMAL\n",
      "STOP  LBLRTM EXIT \n",
      "2.15user 0.80system 0:03.30elapsed 89%CPU (0avgtext+0avgdata 7632maxresident)k\n",
      "0inputs+0outputs (0major+1234minor)pagefaults 0swaps\n"
     ]
    },
    {
     "name": "stdout",
     "output_type": "stream",
     "text": [
      "\n",
      "Running exec: lblrtm\n",
      "\n",
      "\n"
     ]
    },
    {
     "name": "stderr",
     "output_type": "stream",
     "text": [
      "Note: The following floating-point exceptions are signalling: IEEE_INVALID_FLAG IEEE_UNDERFLOW_FLAG IEEE_DENORMAL\n",
      "STOP  LBLRTM EXIT \n",
      "0.91user 0.70system 0:01.71elapsed 94%CPU (0avgtext+0avgdata 7668maxresident)k\n",
      "0inputs+0outputs (0major+1234minor)pagefaults 0swaps\n"
     ]
    },
    {
     "name": "stdout",
     "output_type": "stream",
     "text": [
      "1143628\n",
      "humidity: 50.0\n",
      " pressure: 10000.0\n",
      " temperature: 300.0\n",
      " lat: 32.78000000000001\n",
      " elevation: 2.797999999999601\n",
      " freqmin(cm-1): 11098.779134295226\n",
      " freqmax(cm-1): 14265.33523537803\n",
      " angle: 44.62927519288961\n",
      "\n",
      "\n",
      "Running exec: lblrtm\n",
      "\n",
      "\n"
     ]
    },
    {
     "name": "stderr",
     "output_type": "stream",
     "text": [
      "Note: The following floating-point exceptions are signalling: IEEE_INVALID_FLAG IEEE_UNDERFLOW_FLAG IEEE_DENORMAL\n",
      "STOP  LBLRTM EXIT \n",
      "2.16user 0.78system 0:03.27elapsed 89%CPU (0avgtext+0avgdata 7688maxresident)k\n",
      "0inputs+0outputs (0major+1237minor)pagefaults 0swaps\n"
     ]
    },
    {
     "name": "stdout",
     "output_type": "stream",
     "text": [
      "\n",
      "Running exec: lblrtm\n",
      "\n",
      "\n"
     ]
    },
    {
     "name": "stderr",
     "output_type": "stream",
     "text": [
      "Note: The following floating-point exceptions are signalling: IEEE_INVALID_FLAG IEEE_UNDERFLOW_FLAG IEEE_DENORMAL\n",
      "STOP  LBLRTM EXIT \n",
      "0.91user 0.71system 0:01.72elapsed 94%CPU (0avgtext+0avgdata 7668maxresident)k\n",
      "0inputs+0outputs (0major+1233minor)pagefaults 0swaps\n"
     ]
    },
    {
     "name": "stdout",
     "output_type": "stream",
     "text": [
      "1143628\n",
      "humidity: 50.0\n",
      " pressure: 10000.0\n",
      " temperature: 300.0\n",
      " lat: 32.78000000000001\n",
      " elevation: 2.797999999999601\n",
      " freqmin(cm-1): 11098.779134295226\n",
      " freqmax(cm-1): 14265.33523537803\n",
      " angle: 31.567632273477905\n",
      "\n",
      "\n",
      "Running exec: lblrtm\n",
      "\n",
      "\n"
     ]
    },
    {
     "name": "stderr",
     "output_type": "stream",
     "text": [
      "Note: The following floating-point exceptions are signalling: IEEE_INVALID_FLAG IEEE_UNDERFLOW_FLAG IEEE_DENORMAL\n",
      "STOP  LBLRTM EXIT \n",
      "2.09user 0.87system 0:03.20elapsed 92%CPU (0avgtext+0avgdata 7704maxresident)k\n",
      "0inputs+0outputs (0major+1237minor)pagefaults 0swaps\n"
     ]
    },
    {
     "name": "stdout",
     "output_type": "stream",
     "text": [
      "\n",
      "Running exec: lblrtm\n",
      "\n",
      "\n"
     ]
    },
    {
     "name": "stderr",
     "output_type": "stream",
     "text": [
      "Note: The following floating-point exceptions are signalling: IEEE_INVALID_FLAG IEEE_UNDERFLOW_FLAG IEEE_DENORMAL\n",
      "STOP  LBLRTM EXIT \n",
      "0.90user 0.70system 0:01.70elapsed 94%CPU (0avgtext+0avgdata 7624maxresident)k\n",
      "0inputs+0outputs (0major+1233minor)pagefaults 0swaps\n"
     ]
    },
    {
     "name": "stdout",
     "output_type": "stream",
     "text": [
      "1143628\n",
      "humidity: 50.0\n",
      " pressure: 10000.0\n",
      " temperature: 300.0\n",
      " lat: 32.78000000000001\n",
      " elevation: 2.797999999999601\n",
      " freqmin(cm-1): 11098.779134295226\n",
      " freqmax(cm-1): 14265.33523537803\n",
      " angle: 44.219986042892295\n",
      "\n",
      "\n",
      "Running exec: lblrtm\n",
      "\n",
      "\n"
     ]
    },
    {
     "name": "stderr",
     "output_type": "stream",
     "text": [
      "Note: The following floating-point exceptions are signalling: IEEE_INVALID_FLAG IEEE_UNDERFLOW_FLAG IEEE_DENORMAL\n",
      "STOP  LBLRTM EXIT \n",
      "2.17user 0.77system 0:03.28elapsed 89%CPU (0avgtext+0avgdata 7560maxresident)k\n",
      "0inputs+0outputs (0major+1233minor)pagefaults 0swaps\n"
     ]
    },
    {
     "name": "stdout",
     "output_type": "stream",
     "text": [
      "\n",
      "Running exec: lblrtm\n",
      "\n",
      "\n"
     ]
    },
    {
     "name": "stderr",
     "output_type": "stream",
     "text": [
      "Note: The following floating-point exceptions are signalling: IEEE_INVALID_FLAG IEEE_UNDERFLOW_FLAG IEEE_DENORMAL\n",
      "STOP  LBLRTM EXIT \n",
      "0.92user 0.72system 0:01.74elapsed 94%CPU (0avgtext+0avgdata 7792maxresident)k\n",
      "0inputs+0outputs (0major+1237minor)pagefaults 0swaps\n"
     ]
    },
    {
     "name": "stdout",
     "output_type": "stream",
     "text": [
      "1143628\n",
      "humidity: 50.0\n",
      " pressure: 10000.0\n",
      " temperature: 300.0\n",
      " lat: 32.78000000000001\n",
      " elevation: 2.797999999999601\n",
      " freqmin(cm-1): 11098.779134295226\n",
      " freqmax(cm-1): 14265.33523537803\n",
      " angle: 55.209073951412215\n",
      "\n",
      "\n",
      "Running exec: lblrtm\n",
      "\n",
      "\n"
     ]
    },
    {
     "name": "stderr",
     "output_type": "stream",
     "text": [
      "Note: The following floating-point exceptions are signalling: IEEE_INVALID_FLAG IEEE_UNDERFLOW_FLAG IEEE_DENORMAL\n",
      "STOP  LBLRTM EXIT \n",
      "2.08user 0.83system 0:03.17elapsed 91%CPU (0avgtext+0avgdata 7720maxresident)k\n",
      "0inputs+0outputs (0major+1234minor)pagefaults 0swaps\n"
     ]
    },
    {
     "name": "stdout",
     "output_type": "stream",
     "text": [
      "\n",
      "Running exec: lblrtm\n",
      "\n",
      "\n"
     ]
    },
    {
     "name": "stderr",
     "output_type": "stream",
     "text": [
      "Note: The following floating-point exceptions are signalling: IEEE_INVALID_FLAG IEEE_UNDERFLOW_FLAG IEEE_DENORMAL\n",
      "STOP  LBLRTM EXIT \n",
      "0.92user 0.72system 0:01.72elapsed 95%CPU (0avgtext+0avgdata 7792maxresident)k\n",
      "0inputs+0outputs (0major+1237minor)pagefaults 0swaps\n"
     ]
    },
    {
     "name": "stdout",
     "output_type": "stream",
     "text": [
      "1127403\n",
      "humidity: 50.0\n",
      " pressure: 10000.0\n",
      " temperature: 300.0\n",
      " lat: 32.78000000000001\n",
      " elevation: 2.797999999999601\n",
      " freqmin(cm-1): 11098.779134295226\n",
      " freqmax(cm-1): 14265.33523537803\n",
      " angle: 16.046253531664348\n",
      "\n",
      "\n",
      "Running exec: lblrtm\n",
      "\n",
      "\n"
     ]
    },
    {
     "name": "stderr",
     "output_type": "stream",
     "text": [
      "Note: The following floating-point exceptions are signalling: IEEE_INVALID_FLAG IEEE_UNDERFLOW_FLAG IEEE_DENORMAL\n",
      "STOP  LBLRTM EXIT \n",
      "2.14user 0.80system 0:03.16elapsed 93%CPU (0avgtext+0avgdata 7752maxresident)k\n",
      "0inputs+0outputs (0major+1237minor)pagefaults 0swaps\n"
     ]
    },
    {
     "name": "stdout",
     "output_type": "stream",
     "text": [
      "\n",
      "Running exec: lblrtm\n",
      "\n",
      "\n"
     ]
    },
    {
     "name": "stderr",
     "output_type": "stream",
     "text": [
      "Note: The following floating-point exceptions are signalling: IEEE_INVALID_FLAG IEEE_UNDERFLOW_FLAG IEEE_DENORMAL\n",
      "STOP  LBLRTM EXIT \n",
      "0.91user 0.69system 0:01.70elapsed 94%CPU (0avgtext+0avgdata 7624maxresident)k\n",
      "0inputs+0outputs (0major+1234minor)pagefaults 0swaps\n"
     ]
    },
    {
     "name": "stdout",
     "output_type": "stream",
     "text": [
      "1143628\n",
      "humidity: 50.0\n",
      " pressure: 10000.0\n",
      " temperature: 300.0\n",
      " lat: 32.78000000000001\n",
      " elevation: 2.797999999999601\n",
      " freqmin(cm-1): 11098.779134295226\n",
      " freqmax(cm-1): 14265.33523537803\n",
      " angle: 70.36083125348077\n",
      "\n",
      "\n",
      "Running exec: lblrtm\n",
      "\n",
      "\n"
     ]
    },
    {
     "name": "stderr",
     "output_type": "stream",
     "text": [
      "Note: The following floating-point exceptions are signalling: IEEE_INVALID_FLAG IEEE_UNDERFLOW_FLAG IEEE_DENORMAL\n",
      "STOP  LBLRTM EXIT \n",
      "2.18user 0.81system 0:03.18elapsed 94%CPU (0avgtext+0avgdata 7748maxresident)k\n",
      "0inputs+0outputs (0major+1234minor)pagefaults 0swaps\n"
     ]
    },
    {
     "name": "stdout",
     "output_type": "stream",
     "text": [
      "\n",
      "Running exec: lblrtm\n",
      "\n",
      "\n"
     ]
    },
    {
     "name": "stderr",
     "output_type": "stream",
     "text": [
      "Note: The following floating-point exceptions are signalling: IEEE_INVALID_FLAG IEEE_UNDERFLOW_FLAG IEEE_DENORMAL\n",
      "STOP  LBLRTM EXIT \n",
      "0.94user 0.68system 0:01.71elapsed 94%CPU (0avgtext+0avgdata 7668maxresident)k\n",
      "0inputs+0outputs (0major+1233minor)pagefaults 0swaps\n"
     ]
    },
    {
     "name": "stdout",
     "output_type": "stream",
     "text": [
      "1143628\n",
      "humidity: 50.0\n",
      " pressure: 10000.0\n",
      " temperature: 300.0\n",
      " lat: 32.78000000000001\n",
      " elevation: 2.797999999999601\n",
      " freqmin(cm-1): 11098.779134295226\n",
      " freqmax(cm-1): 14265.33523537803\n",
      " angle: 5.621114858253093\n",
      "\n",
      "\n",
      "Running exec: lblrtm\n",
      "\n",
      "\n"
     ]
    },
    {
     "name": "stderr",
     "output_type": "stream",
     "text": [
      "Note: The following floating-point exceptions are signalling: IEEE_INVALID_FLAG IEEE_UNDERFLOW_FLAG IEEE_DENORMAL\n",
      "STOP  LBLRTM EXIT \n",
      "2.11user 0.82system 0:03.15elapsed 93%CPU (0avgtext+0avgdata 7672maxresident)k\n",
      "0inputs+0outputs (0major+1234minor)pagefaults 0swaps\n"
     ]
    },
    {
     "name": "stdout",
     "output_type": "stream",
     "text": [
      "\n",
      "Running exec: lblrtm\n",
      "\n",
      "\n"
     ]
    },
    {
     "name": "stderr",
     "output_type": "stream",
     "text": [
      "Note: The following floating-point exceptions are signalling: IEEE_INVALID_FLAG IEEE_UNDERFLOW_FLAG IEEE_DENORMAL\n",
      "STOP  LBLRTM EXIT \n",
      "0.87user 0.73system 0:01.70elapsed 94%CPU (0avgtext+0avgdata 7624maxresident)k\n",
      "0inputs+0outputs (0major+1233minor)pagefaults 0swaps\n"
     ]
    },
    {
     "name": "stdout",
     "output_type": "stream",
     "text": [
      "1143628\n",
      "<simulacra.tellurics.TelFitModel object at 0x145c0d5fc9b0> [1.6178939077349241e-06, 2.1907587743896784e-07, 2.1907587743896784e-07, 2.1907587743896784e-07, 2.1907587743896784e-07, 2.2146180711501984e-07, 2.2147022882279543e-07, 2.1907587743896784e-07, 2.1907587743896784e-07, 2.1907587743896784e-07, 2.2717149938955572e-07, 2.1907587743896784e-07, 2.1907587743896784e-07, 2.1907587743896784e-07, 2.1907587743896784e-07, 2.1907587743896784e-07, 2.1907587743896784e-07, 2.1907587743896784e-07, 2.1907587743896784e-07, 2.1907587743896784e-07, 2.1907587743896784e-07, 2.1907587743896784e-07, 2.1907587743896784e-07, 2.1907587743896784e-07, 2.1907587743896784e-07, 2.1907587743896784e-07, 2.1907587743896784e-07, 2.1996264365498064e-07, 2.1907587743896784e-07, 2.1907587743896784e-07, 2.1907587743896784e-07]\n",
      "interpolating spline...\n",
      "0\n",
      "1\n",
      "2\n",
      "3\n",
      "4\n",
      "5\n",
      "6\n",
      "7\n",
      "8\n",
      "9\n",
      "10\n",
      "11\n",
      "12\n",
      "13\n",
      "14\n",
      "15\n",
      "16\n",
      "17\n",
      "18\n",
      "19\n",
      "20\n",
      "21\n",
      "22\n",
      "23\n",
      "24\n",
      "25\n",
      "26\n",
      "27\n",
      "28\n",
      "29\n",
      "combining grids...\n",
      "convolving...\n",
      "0\n",
      "1\n",
      "2\n",
      "3\n",
      "4\n",
      "5\n",
      "6\n",
      "7\n",
      "8\n",
      "9\n",
      "10\n",
      "11\n",
      "12\n",
      "13\n",
      "14\n",
      "15\n",
      "16\n",
      "17\n",
      "18\n",
      "19\n",
      "20\n",
      "21\n",
      "22\n",
      "23\n",
      "24\n",
      "25\n",
      "26\n",
      "27\n",
      "28\n",
      "29\n",
      "xs: 7005.007110494636 9004.98956196525\n",
      "xhat: 7010.007110494628 8999.990639003297\n",
      "interpolating lanczos...\n",
      "0\n",
      "1\n",
      "2\n",
      "3\n",
      "4\n",
      "5\n",
      "6\n",
      "7\n",
      "8\n",
      "9\n",
      "10\n",
      "11\n",
      "12\n",
      "13\n",
      "14\n",
      "15\n",
      "16\n",
      "17\n",
      "18\n",
      "19\n",
      "20\n",
      "21\n",
      "22\n",
      "23\n",
      "24\n",
      "25\n",
      "26\n",
      "27\n",
      "28\n",
      "29\n",
      "area: 14.522012041218817 m2\t avg d lambda: 0.05688267575202005 Angstrom\t avg lambda: 7963.6042297997865 Angstrom\t avg exp times: 8.0 min\n",
      "0 n mean: 6.01e+05\t n median: 7.25e+05\n",
      "1 n mean: 6.81e+05\t n median: 7.41e+05\n",
      "2 n mean: 6.32e+05\t n median: 7.18e+05\n",
      "3 n mean: 6.80e+05\t n median: 7.40e+05\n",
      "4 n mean: 6.48e+05\t n median: 7.27e+05\n",
      "5 n mean: 6.05e+05\t n median: 6.93e+05\n",
      "6 n mean: 6.85e+05\t n median: 7.42e+05\n",
      "7 n mean: 6.90e+05\t n median: 7.44e+05\n",
      "8 n mean: 6.89e+05\t n median: 7.44e+05\n",
      "9 n mean: 6.80e+05\t n median: 7.41e+05\n",
      "10 n mean: 6.85e+05\t n median: 7.42e+05\n",
      "11 n mean: 6.83e+05\t n median: 7.41e+05\n",
      "12 n mean: 6.89e+05\t n median: 7.44e+05\n",
      "13 n mean: 6.70e+05\t n median: 7.37e+05\n",
      "14 n mean: 6.41e+05\t n median: 7.24e+05\n",
      "15 n mean: 6.48e+05\t n median: 7.28e+05\n",
      "16 n mean: 6.90e+05\t n median: 7.44e+05\n",
      "17 n mean: 6.85e+05\t n median: 7.42e+05\n",
      "18 n mean: 6.77e+05\t n median: 7.39e+05\n",
      "19 n mean: 6.87e+05\t n median: 7.43e+05\n",
      "20 n mean: 6.80e+05\t n median: 7.40e+05\n",
      "21 n mean: 6.72e+05\t n median: 7.38e+05\n",
      "22 n mean: 6.77e+05\t n median: 7.39e+05\n",
      "23 n mean: 6.75e+05\t n median: 7.38e+05\n",
      "24 n mean: 6.83e+05\t n median: 7.41e+05\n",
      "25 n mean: 6.75e+05\t n median: 7.39e+05\n",
      "26 n mean: 6.01e+05\t n median: 7.41e+05\n",
      "27 n mean: 6.88e+05\t n median: 7.43e+05\n",
      "28 n mean: 6.28e+05\t n median: 7.16e+05\n",
      "29 n mean: 6.89e+05\t n median: 7.44e+05\n",
      "generating true signal to noise ratios...\n",
      "adding noise...\n",
      "generating exp signal to noise ratios...\n"
     ]
    },
    {
     "name": "stderr",
     "output_type": "stream",
     "text": [
      "../simulacra/detector.py:529: RuntimeWarning: invalid value encountered in add_noise_v\n",
      "  n_readout = add_noise_v(n_exp.flatten().value,snr_grid.flatten()).reshape(out_shape)\n"
     ]
    },
    {
     "name": "stdout",
     "output_type": "stream",
     "text": [
      "generating errors...\n",
      "done.\n",
      "/scratch/mdd423/simulacra/out/2021-11-02/data_e30_R70000.0_a2000.0_p40.3_l7.0e+039.0e+03_ep1.0_w0.0_snr7.9e+02_tp3e-07\n"
     ]
    },
    {
     "name": "stderr",
     "output_type": "stream",
     "text": [
      "../simulacra/detector.py:541: RuntimeWarning: invalid value encountered in generate_errors_v\n",
      "  nerr_out = generate_errors_v(n_readout.flatten(),snr_readout.flatten()).reshape(out_shape)\n"
     ]
    },
    {
     "name": "stdout",
     "output_type": "stream",
     "text": [
      "saving time\n",
      "quantity\n",
      "epoches  saving as string\n",
      "quantity\n",
      "quantity\n",
      "quantity\n",
      "quantity\n",
      "quantity\n",
      "quantity\n",
      "quantity\n",
      "flux  saving as string\n",
      "wave  saving as string\n",
      "quantity\n",
      "quantity\n",
      "quantity\n",
      "alpha  saving as string\n",
      "quantity\n",
      "quantity\n",
      "fluxname  saving as string\n",
      "generate_spectra  saving as string\n",
      "quantity\n",
      "quantity\n",
      "logg  saving as string\n",
      "outdir  saving as string\n",
      "quantity\n",
      "plot  saving as string\n",
      "plot_interpolated  saving as string\n",
      "quantity\n",
      "quantity\n",
      "saving target...340.28129510273834 deg 28.43612929851907 deg\n",
      "temperature  saving as string\n",
      "quantity\n",
      "quantity\n",
      "wavename  saving as string\n",
      "quantity\n",
      "z  saving as string\n",
      "quantity\n",
      "quantity\n",
      "quantity\n",
      "quantity\n",
      "a  saving as string\n",
      "add_model  saving as string\n",
      "quantity\n",
      "checkmax  saving as string\n",
      "checkmin  saving as string\n",
      "quantity\n",
      "epsilon  saving as string\n",
      "gamma  saving as string\n",
      "quantity\n",
      "quantity\n",
      "quantity\n",
      "lsf_centering  saving as string\n",
      "lsf_const_coeffs  saving as string\n",
      "resolution  saving as string\n",
      "sigma  saving as string\n",
      "sigma_range  saving as string\n",
      "simulate  saving as string\n",
      "stellar_model  saving as string\n",
      "through_put  saving as string\n",
      "transmission_cutoff  saving as string\n",
      "transmission_models  saving as string\n",
      "w  saving as string\n",
      "quantity\n",
      "quantity\n",
      "quantity\n",
      "_epoches  saving as string\n",
      "quantity\n",
      "quantity\n",
      "_name  saving as string\n",
      "quantity\n",
      "quantity\n",
      "check_property  saving as string\n",
      "check_shape_type  saving as string\n",
      "epoches  saving as string\n",
      "generate_transmission  saving as string\n",
      "quantity\n",
      "quantity\n",
      "quantity\n",
      "plot  saving as string\n",
      "plot_interpolated  saving as string\n",
      "quantity\n",
      "quantity\n",
      "quantity\n",
      "nan nan\n",
      "using saved wave file\n",
      "../data/stellar/PHOENIX/lte04800-1.00-1.0.Alpha=+0.40.PHOENIX-ACES-AGSS-COND-2011-HiRes.fits\n",
      "using saved flux file\n",
      "reading in ../data/stellar/PHOENIX/WAVE_PHOENIX-ACES-AGSS-COND-2011.fits\n",
      "wave_grid min -> 701.0 nm\n",
      "surface flux: mean 1.31e+14 erg / (cm3 s)\t median 1.14e+14 erg / (cm3 s)\n",
      "obs     flux: mean 3.78e+00 erg / (cm3 s)\t median 3.28e+00 erg / (cm3 s)\n",
      "generating spectra...\n",
      "humidity: 50.0\n",
      " pressure: 10000.0\n",
      " temperature: 300.0\n",
      " lat: 32.78000000000001\n",
      " elevation: 2.797999999999601\n",
      " freqmin(cm-1): 11098.779134295226\n",
      " freqmax(cm-1): 14265.33523537803\n",
      " angle: 62.8613757400191\n",
      "\n",
      "\n",
      "Running exec: lblrtm\n",
      "\n",
      "\n"
     ]
    },
    {
     "name": "stderr",
     "output_type": "stream",
     "text": [
      "Note: The following floating-point exceptions are signalling: IEEE_INVALID_FLAG IEEE_UNDERFLOW_FLAG IEEE_DENORMAL\n",
      "STOP  LBLRTM EXIT \n",
      "2.15user 0.82system 0:03.18elapsed 93%CPU (0avgtext+0avgdata 7556maxresident)k\n",
      "0inputs+0outputs (0major+1233minor)pagefaults 0swaps\n"
     ]
    },
    {
     "name": "stdout",
     "output_type": "stream",
     "text": [
      "\n",
      "Running exec: lblrtm\n",
      "\n",
      "\n"
     ]
    },
    {
     "name": "stderr",
     "output_type": "stream",
     "text": [
      "Note: The following floating-point exceptions are signalling: IEEE_INVALID_FLAG IEEE_UNDERFLOW_FLAG IEEE_DENORMAL\n",
      "STOP  LBLRTM EXIT \n",
      "0.91user 0.71system 0:01.72elapsed 94%CPU (0avgtext+0avgdata 7672maxresident)k\n",
      "0inputs+0outputs (0major+1234minor)pagefaults 0swaps\n"
     ]
    },
    {
     "name": "stdout",
     "output_type": "stream",
     "text": [
      "1143628\n",
      "humidity: 50.0\n",
      " pressure: 10000.0\n",
      " temperature: 300.0\n",
      " lat: 32.78000000000001\n",
      " elevation: 2.797999999999601\n",
      " freqmin(cm-1): 11098.779134295226\n",
      " freqmax(cm-1): 14265.33523537803\n",
      " angle: 36.420938571519066\n",
      "\n",
      "\n",
      "Running exec: lblrtm\n",
      "\n",
      "\n"
     ]
    },
    {
     "name": "stderr",
     "output_type": "stream",
     "text": [
      "Note: The following floating-point exceptions are signalling: IEEE_INVALID_FLAG IEEE_UNDERFLOW_FLAG IEEE_DENORMAL\n",
      "STOP  LBLRTM EXIT \n",
      "2.10user 0.84system 0:03.21elapsed 91%CPU (0avgtext+0avgdata 7560maxresident)k\n",
      "0inputs+0outputs (0major+1233minor)pagefaults 0swaps\n"
     ]
    },
    {
     "name": "stdout",
     "output_type": "stream",
     "text": [
      "\n",
      "Running exec: lblrtm\n",
      "\n",
      "\n"
     ]
    },
    {
     "name": "stderr",
     "output_type": "stream",
     "text": [
      "Note: The following floating-point exceptions are signalling: IEEE_INVALID_FLAG IEEE_UNDERFLOW_FLAG IEEE_DENORMAL\n",
      "STOP  LBLRTM EXIT \n",
      "0.88user 0.72system 0:01.70elapsed 94%CPU (0avgtext+0avgdata 7672maxresident)k\n",
      "0inputs+0outputs (0major+1233minor)pagefaults 0swaps\n"
     ]
    },
    {
     "name": "stdout",
     "output_type": "stream",
     "text": [
      "1143628\n",
      "humidity: 50.0\n",
      " pressure: 10000.0\n",
      " temperature: 300.0\n",
      " lat: 32.78000000000001\n",
      " elevation: 2.797999999999601\n",
      " freqmin(cm-1): 11098.779134295226\n",
      " freqmax(cm-1): 14265.33523537803\n",
      " angle: 70.23515457427514\n",
      "\n",
      "\n",
      "Running exec: lblrtm\n",
      "\n",
      "\n"
     ]
    },
    {
     "name": "stderr",
     "output_type": "stream",
     "text": [
      "Note: The following floating-point exceptions are signalling: IEEE_INVALID_FLAG IEEE_UNDERFLOW_FLAG IEEE_DENORMAL\n",
      "STOP  LBLRTM EXIT \n",
      "2.19user 0.79system 0:03.31elapsed 90%CPU (0avgtext+0avgdata 7560maxresident)k\n",
      "0inputs+0outputs (0major+1233minor)pagefaults 0swaps\n"
     ]
    },
    {
     "name": "stdout",
     "output_type": "stream",
     "text": [
      "\n",
      "Running exec: lblrtm\n",
      "\n",
      "\n"
     ]
    },
    {
     "name": "stderr",
     "output_type": "stream",
     "text": [
      "Note: The following floating-point exceptions are signalling: IEEE_INVALID_FLAG IEEE_UNDERFLOW_FLAG IEEE_DENORMAL\n",
      "STOP  LBLRTM EXIT \n",
      "0.95user 0.67system 0:01.73elapsed 93%CPU (0avgtext+0avgdata 7688maxresident)k\n",
      "0inputs+0outputs (0major+1236minor)pagefaults 0swaps\n"
     ]
    },
    {
     "name": "stdout",
     "output_type": "stream",
     "text": [
      "1143628\n",
      "humidity: 50.0\n",
      " pressure: 10000.0\n",
      " temperature: 300.0\n",
      " lat: 32.78000000000001\n",
      " elevation: 2.797999999999601\n",
      " freqmin(cm-1): 11098.779134295226\n",
      " freqmax(cm-1): 14265.33523537803\n",
      " angle: 37.41097711185363\n",
      "\n",
      "\n",
      "Running exec: lblrtm\n",
      "\n",
      "\n"
     ]
    },
    {
     "name": "stderr",
     "output_type": "stream",
     "text": [
      "Note: The following floating-point exceptions are signalling: IEEE_INVALID_FLAG IEEE_UNDERFLOW_FLAG IEEE_DENORMAL\n",
      "STOP  LBLRTM EXIT \n",
      "2.13user 0.85system 0:03.33elapsed 89%CPU (0avgtext+0avgdata 7624maxresident)k\n",
      "0inputs+0outputs (0major+1233minor)pagefaults 0swaps\n"
     ]
    },
    {
     "name": "stdout",
     "output_type": "stream",
     "text": [
      "\n",
      "Running exec: lblrtm\n",
      "\n",
      "\n"
     ]
    },
    {
     "name": "stderr",
     "output_type": "stream",
     "text": [
      "Note: The following floating-point exceptions are signalling: IEEE_INVALID_FLAG IEEE_UNDERFLOW_FLAG IEEE_DENORMAL\n",
      "STOP  LBLRTM EXIT \n",
      "0.90user 0.71system 0:01.72elapsed 93%CPU (0avgtext+0avgdata 7556maxresident)k\n",
      "0inputs+0outputs (0major+1234minor)pagefaults 0swaps\n"
     ]
    },
    {
     "name": "stdout",
     "output_type": "stream",
     "text": [
      "1143628\n",
      "humidity: 50.0\n",
      " pressure: 10000.0\n",
      " temperature: 300.0\n",
      " lat: 32.78000000000001\n",
      " elevation: 2.797999999999601\n",
      " freqmin(cm-1): 11098.779134295226\n",
      " freqmax(cm-1): 14265.33523537803\n",
      " angle: 65.09115788813192\n",
      "\n",
      "\n",
      "Running exec: lblrtm\n",
      "\n",
      "\n"
     ]
    },
    {
     "name": "stderr",
     "output_type": "stream",
     "text": [
      "Note: The following floating-point exceptions are signalling: IEEE_INVALID_FLAG IEEE_UNDERFLOW_FLAG IEEE_DENORMAL\n",
      "STOP  LBLRTM EXIT \n",
      "2.10user 0.82system 0:03.14elapsed 93%CPU (0avgtext+0avgdata 7556maxresident)k\n",
      "0inputs+0outputs (0major+1233minor)pagefaults 0swaps\n"
     ]
    },
    {
     "name": "stdout",
     "output_type": "stream",
     "text": [
      "\n",
      "Running exec: lblrtm\n",
      "\n",
      "\n"
     ]
    },
    {
     "name": "stderr",
     "output_type": "stream",
     "text": [
      "Note: The following floating-point exceptions are signalling: IEEE_INVALID_FLAG IEEE_UNDERFLOW_FLAG IEEE_DENORMAL\n",
      "STOP  LBLRTM EXIT \n",
      "0.89user 0.75system 0:01.74elapsed 94%CPU (0avgtext+0avgdata 7672maxresident)k\n",
      "0inputs+0outputs (0major+1233minor)pagefaults 0swaps\n"
     ]
    },
    {
     "name": "stdout",
     "output_type": "stream",
     "text": [
      "1127370\n",
      "humidity: 50.0\n",
      " pressure: 10000.0\n",
      " temperature: 300.0\n",
      " lat: 32.78000000000001\n",
      " elevation: 2.797999999999601\n",
      " freqmin(cm-1): 11098.779134295226\n",
      " freqmax(cm-1): 14265.33523537803\n",
      " angle: 59.94944845829285\n",
      "\n",
      "\n",
      "Running exec: lblrtm\n",
      "\n",
      "\n"
     ]
    },
    {
     "name": "stderr",
     "output_type": "stream",
     "text": [
      "Note: The following floating-point exceptions are signalling: IEEE_INVALID_FLAG IEEE_UNDERFLOW_FLAG IEEE_DENORMAL\n",
      "STOP  LBLRTM EXIT \n",
      "2.12user 0.82system 0:03.26elapsed 90%CPU (0avgtext+0avgdata 7628maxresident)k\n",
      "0inputs+0outputs (0major+1233minor)pagefaults 0swaps\n"
     ]
    },
    {
     "name": "stdout",
     "output_type": "stream",
     "text": [
      "\n",
      "Running exec: lblrtm\n",
      "\n",
      "\n"
     ]
    },
    {
     "name": "stderr",
     "output_type": "stream",
     "text": [
      "Note: The following floating-point exceptions are signalling: IEEE_INVALID_FLAG IEEE_UNDERFLOW_FLAG IEEE_DENORMAL\n",
      "STOP  LBLRTM EXIT \n",
      "0.95user 0.69system 0:01.73elapsed 94%CPU (0avgtext+0avgdata 7576maxresident)k\n",
      "0inputs+0outputs (0major+1234minor)pagefaults 0swaps\n"
     ]
    },
    {
     "name": "stdout",
     "output_type": "stream",
     "text": [
      "1124676\n",
      "humidity: 50.0\n",
      " pressure: 10000.0\n",
      " temperature: 300.0\n",
      " lat: 32.78000000000001\n",
      " elevation: 2.797999999999601\n",
      " freqmin(cm-1): 11098.779134295226\n",
      " freqmax(cm-1): 14265.33523537803\n",
      " angle: 27.811520651072378\n",
      "\n",
      "\n",
      "Running exec: lblrtm\n",
      "\n",
      "\n"
     ]
    },
    {
     "name": "stderr",
     "output_type": "stream",
     "text": [
      "Note: The following floating-point exceptions are signalling: IEEE_INVALID_FLAG IEEE_UNDERFLOW_FLAG IEEE_DENORMAL\n",
      "STOP  LBLRTM EXIT \n",
      "2.08user 0.86system 0:03.22elapsed 91%CPU (0avgtext+0avgdata 7792maxresident)k\n",
      "0inputs+0outputs (0major+1237minor)pagefaults 0swaps\n"
     ]
    },
    {
     "name": "stdout",
     "output_type": "stream",
     "text": [
      "\n",
      "Running exec: lblrtm\n",
      "\n",
      "\n"
     ]
    },
    {
     "name": "stderr",
     "output_type": "stream",
     "text": [
      "Note: The following floating-point exceptions are signalling: IEEE_INVALID_FLAG IEEE_UNDERFLOW_FLAG IEEE_DENORMAL\n",
      "STOP  LBLRTM EXIT \n",
      "0.91user 0.69system 0:01.76elapsed 91%CPU (0avgtext+0avgdata 7672maxresident)k\n",
      "0inputs+0outputs (0major+1234minor)pagefaults 0swaps\n"
     ]
    },
    {
     "name": "stdout",
     "output_type": "stream",
     "text": [
      "1143628\n",
      "humidity: 50.0\n",
      " pressure: 10000.0\n",
      " temperature: 300.0\n",
      " lat: 32.78000000000001\n",
      " elevation: 2.797999999999601\n",
      " freqmin(cm-1): 11098.779134295226\n",
      " freqmax(cm-1): 14265.33523537803\n",
      " angle: 4.6273790635876395\n",
      "\n",
      "\n",
      "Running exec: lblrtm\n",
      "\n",
      "\n"
     ]
    },
    {
     "name": "stderr",
     "output_type": "stream",
     "text": [
      "Note: The following floating-point exceptions are signalling: IEEE_INVALID_FLAG IEEE_UNDERFLOW_FLAG IEEE_DENORMAL\n",
      "STOP  LBLRTM EXIT \n",
      "2.13user 0.80system 0:03.20elapsed 91%CPU (0avgtext+0avgdata 7792maxresident)k\n",
      "0inputs+0outputs (0major+1237minor)pagefaults 0swaps\n"
     ]
    },
    {
     "name": "stdout",
     "output_type": "stream",
     "text": [
      "\n",
      "Running exec: lblrtm\n",
      "\n",
      "\n"
     ]
    },
    {
     "name": "stderr",
     "output_type": "stream",
     "text": [
      "Note: The following floating-point exceptions are signalling: IEEE_INVALID_FLAG IEEE_UNDERFLOW_FLAG IEEE_DENORMAL\n",
      "STOP  LBLRTM EXIT \n",
      "0.87user 0.73system 0:01.79elapsed 89%CPU (0avgtext+0avgdata 7624maxresident)k\n",
      "0inputs+0outputs (0major+1233minor)pagefaults 0swaps\n"
     ]
    },
    {
     "name": "stdout",
     "output_type": "stream",
     "text": [
      "1143628\n",
      "humidity: 50.0\n",
      " pressure: 10000.0\n",
      " temperature: 300.0\n",
      " lat: 32.78000000000001\n",
      " elevation: 2.797999999999601\n",
      " freqmin(cm-1): 11098.779134295226\n",
      " freqmax(cm-1): 14265.33523537803\n",
      " angle: 11.404396925323324\n",
      "\n",
      "\n",
      "Running exec: lblrtm\n",
      "\n",
      "\n"
     ]
    },
    {
     "name": "stderr",
     "output_type": "stream",
     "text": [
      "Note: The following floating-point exceptions are signalling: IEEE_INVALID_FLAG IEEE_UNDERFLOW_FLAG IEEE_DENORMAL\n",
      "STOP  LBLRTM EXIT \n",
      "2.14user 0.80system 0:03.46elapsed 84%CPU (0avgtext+0avgdata 7720maxresident)k\n",
      "0inputs+0outputs (0major+1234minor)pagefaults 0swaps\n"
     ]
    },
    {
     "name": "stdout",
     "output_type": "stream",
     "text": [
      "\n",
      "Running exec: lblrtm\n",
      "\n",
      "\n"
     ]
    },
    {
     "name": "stderr",
     "output_type": "stream",
     "text": [
      "Note: The following floating-point exceptions are signalling: IEEE_INVALID_FLAG IEEE_UNDERFLOW_FLAG IEEE_DENORMAL\n",
      "STOP  LBLRTM EXIT \n",
      "0.89user 0.72system 0:01.71elapsed 94%CPU (0avgtext+0avgdata 7624maxresident)k\n",
      "0inputs+0outputs (0major+1233minor)pagefaults 0swaps\n"
     ]
    },
    {
     "name": "stdout",
     "output_type": "stream",
     "text": [
      "1143628\n",
      "humidity: 50.0\n",
      " pressure: 10000.0\n",
      " temperature: 300.0\n",
      " lat: 32.78000000000001\n",
      " elevation: 2.797999999999601\n",
      " freqmin(cm-1): 11098.779134295226\n",
      " freqmax(cm-1): 14265.33523537803\n",
      " angle: 54.85857323188904\n",
      "\n",
      "\n",
      "Running exec: lblrtm\n",
      "\n",
      "\n"
     ]
    },
    {
     "name": "stderr",
     "output_type": "stream",
     "text": [
      "Note: The following floating-point exceptions are signalling: IEEE_INVALID_FLAG IEEE_UNDERFLOW_FLAG IEEE_DENORMAL\n",
      "STOP  LBLRTM EXIT \n",
      "2.12user 0.83system 0:03.46elapsed 85%CPU (0avgtext+0avgdata 7748maxresident)k\n",
      "0inputs+0outputs (0major+1235minor)pagefaults 0swaps\n"
     ]
    },
    {
     "name": "stdout",
     "output_type": "stream",
     "text": [
      "\n",
      "Running exec: lblrtm\n",
      "\n",
      "\n"
     ]
    },
    {
     "name": "stderr",
     "output_type": "stream",
     "text": [
      "Note: The following floating-point exceptions are signalling: IEEE_INVALID_FLAG IEEE_UNDERFLOW_FLAG IEEE_DENORMAL\n",
      "STOP  LBLRTM EXIT \n",
      "0.90user 0.71system 0:01.70elapsed 94%CPU (0avgtext+0avgdata 7752maxresident)k\n",
      "0inputs+0outputs (0major+1238minor)pagefaults 0swaps\n"
     ]
    },
    {
     "name": "stdout",
     "output_type": "stream",
     "text": [
      "1111626\n",
      "humidity: 50.0\n",
      " pressure: 10000.0\n",
      " temperature: 300.0\n",
      " lat: 32.78000000000001\n",
      " elevation: 2.797999999999601\n",
      " freqmin(cm-1): 11098.779134295226\n",
      " freqmax(cm-1): 14265.33523537803\n",
      " angle: 27.82399986133828\n",
      "\n",
      "\n",
      "Running exec: lblrtm\n",
      "\n",
      "\n"
     ]
    },
    {
     "name": "stderr",
     "output_type": "stream",
     "text": [
      "Note: The following floating-point exceptions are signalling: IEEE_INVALID_FLAG IEEE_UNDERFLOW_FLAG IEEE_DENORMAL\n",
      "STOP  LBLRTM EXIT \n",
      "2.11user 0.85system 0:03.26elapsed 90%CPU (0avgtext+0avgdata 7720maxresident)k\n",
      "0inputs+0outputs (0major+1234minor)pagefaults 0swaps\n"
     ]
    },
    {
     "name": "stdout",
     "output_type": "stream",
     "text": [
      "\n",
      "Running exec: lblrtm\n",
      "\n",
      "\n"
     ]
    },
    {
     "name": "stderr",
     "output_type": "stream",
     "text": [
      "Note: The following floating-point exceptions are signalling: IEEE_INVALID_FLAG IEEE_UNDERFLOW_FLAG IEEE_DENORMAL\n",
      "STOP  LBLRTM EXIT \n",
      "0.92user 0.73system 0:01.77elapsed 93%CPU (0avgtext+0avgdata 7792maxresident)k\n",
      "0inputs+0outputs (0major+1237minor)pagefaults 0swaps\n"
     ]
    },
    {
     "name": "stdout",
     "output_type": "stream",
     "text": [
      "1143628\n",
      "humidity: 50.0\n",
      " pressure: 10000.0\n",
      " temperature: 300.0\n",
      " lat: 32.78000000000001\n",
      " elevation: 2.797999999999601\n",
      " freqmin(cm-1): 11098.779134295226\n",
      " freqmax(cm-1): 14265.33523537803\n",
      " angle: 32.81380139483823\n",
      "\n",
      "\n",
      "Running exec: lblrtm\n",
      "\n",
      "\n"
     ]
    },
    {
     "name": "stderr",
     "output_type": "stream",
     "text": [
      "Note: The following floating-point exceptions are signalling: IEEE_INVALID_FLAG IEEE_UNDERFLOW_FLAG IEEE_DENORMAL\n",
      "STOP  LBLRTM EXIT \n",
      "2.14user 0.81system 0:03.59elapsed 82%CPU (0avgtext+0avgdata 7560maxresident)k\n",
      "0inputs+0outputs (0major+1233minor)pagefaults 0swaps\n"
     ]
    },
    {
     "name": "stdout",
     "output_type": "stream",
     "text": [
      "\n",
      "Running exec: lblrtm\n",
      "\n",
      "\n"
     ]
    },
    {
     "name": "stderr",
     "output_type": "stream",
     "text": [
      "Note: The following floating-point exceptions are signalling: IEEE_INVALID_FLAG IEEE_UNDERFLOW_FLAG IEEE_DENORMAL\n",
      "STOP  LBLRTM EXIT \n",
      "0.89user 0.72system 0:01.72elapsed 94%CPU (0avgtext+0avgdata 7712maxresident)k\n",
      "0inputs+0outputs (0major+1236minor)pagefaults 0swaps\n"
     ]
    },
    {
     "name": "stdout",
     "output_type": "stream",
     "text": [
      "1143628\n",
      "humidity: 50.0\n",
      " pressure: 10000.0\n",
      " temperature: 300.0\n",
      " lat: 32.78000000000001\n",
      " elevation: 2.797999999999601\n",
      " freqmin(cm-1): 11098.779134295226\n",
      " freqmax(cm-1): 14265.33523537803\n",
      " angle: 5.685228205863384\n",
      "\n",
      "\n",
      "Running exec: lblrtm\n",
      "\n",
      "\n"
     ]
    },
    {
     "name": "stderr",
     "output_type": "stream",
     "text": [
      "Note: The following floating-point exceptions are signalling: IEEE_INVALID_FLAG IEEE_UNDERFLOW_FLAG IEEE_DENORMAL\n",
      "STOP  LBLRTM EXIT \n",
      "2.11user 0.84system 0:03.19elapsed 92%CPU (0avgtext+0avgdata 7684maxresident)k\n",
      "0inputs+0outputs (0major+1237minor)pagefaults 0swaps\n"
     ]
    },
    {
     "name": "stdout",
     "output_type": "stream",
     "text": [
      "\n",
      "Running exec: lblrtm\n",
      "\n",
      "\n"
     ]
    },
    {
     "name": "stderr",
     "output_type": "stream",
     "text": [
      "Note: The following floating-point exceptions are signalling: IEEE_INVALID_FLAG IEEE_UNDERFLOW_FLAG IEEE_DENORMAL\n",
      "STOP  LBLRTM EXIT \n",
      "0.94user 0.67system 0:01.71elapsed 94%CPU (0avgtext+0avgdata 7792maxresident)k\n",
      "0inputs+0outputs (0major+1237minor)pagefaults 0swaps\n"
     ]
    },
    {
     "name": "stdout",
     "output_type": "stream",
     "text": [
      "1143628\n",
      "humidity: 50.0\n",
      " pressure: 10000.0\n",
      " temperature: 300.0\n",
      " lat: 32.78000000000001\n",
      " elevation: 2.797999999999601\n",
      " freqmin(cm-1): 11098.779134295226\n",
      " freqmax(cm-1): 14265.33523537803\n",
      " angle: 50.422615509223334\n",
      "\n",
      "\n",
      "Running exec: lblrtm\n",
      "\n",
      "\n"
     ]
    },
    {
     "name": "stderr",
     "output_type": "stream",
     "text": [
      "Note: The following floating-point exceptions are signalling: IEEE_INVALID_FLAG IEEE_UNDERFLOW_FLAG IEEE_DENORMAL\n",
      "STOP  LBLRTM EXIT \n",
      "2.16user 0.79system 0:03.09elapsed 95%CPU (0avgtext+0avgdata 7732maxresident)k\n",
      "0inputs+0outputs (0major+1236minor)pagefaults 0swaps\n"
     ]
    },
    {
     "name": "stdout",
     "output_type": "stream",
     "text": [
      "\n",
      "Running exec: lblrtm\n",
      "\n",
      "\n"
     ]
    },
    {
     "name": "stderr",
     "output_type": "stream",
     "text": [
      "Note: The following floating-point exceptions are signalling: IEEE_INVALID_FLAG IEEE_UNDERFLOW_FLAG IEEE_DENORMAL\n",
      "STOP  LBLRTM EXIT \n",
      "0.90user 0.72system 0:01.76elapsed 92%CPU (0avgtext+0avgdata 7704maxresident)k\n",
      "0inputs+0outputs (0major+1237minor)pagefaults 0swaps\n"
     ]
    },
    {
     "name": "stdout",
     "output_type": "stream",
     "text": [
      "1143628\n",
      "humidity: 50.0\n",
      " pressure: 10000.0\n",
      " temperature: 300.0\n",
      " lat: 32.78000000000001\n",
      " elevation: 2.797999999999601\n",
      " freqmin(cm-1): 11098.779134295226\n",
      " freqmax(cm-1): 14265.33523537803\n",
      " angle: 66.89041188034572\n",
      "\n",
      "\n",
      "Running exec: lblrtm\n",
      "\n",
      "\n"
     ]
    },
    {
     "name": "stderr",
     "output_type": "stream",
     "text": [
      "Note: The following floating-point exceptions are signalling: IEEE_INVALID_FLAG IEEE_UNDERFLOW_FLAG IEEE_DENORMAL\n",
      "STOP  LBLRTM EXIT \n",
      "2.16user 0.83system 0:03.22elapsed 92%CPU (0avgtext+0avgdata 7628maxresident)k\n",
      "0inputs+0outputs (0major+1233minor)pagefaults 0swaps\n"
     ]
    },
    {
     "name": "stdout",
     "output_type": "stream",
     "text": [
      "\n",
      "Running exec: lblrtm\n",
      "\n",
      "\n"
     ]
    },
    {
     "name": "stderr",
     "output_type": "stream",
     "text": [
      "Note: The following floating-point exceptions are signalling: IEEE_INVALID_FLAG IEEE_UNDERFLOW_FLAG IEEE_DENORMAL\n",
      "STOP  LBLRTM EXIT \n",
      "0.92user 0.72system 0:01.76elapsed 93%CPU (0avgtext+0avgdata 7572maxresident)k\n",
      "0inputs+0outputs (0major+1234minor)pagefaults 0swaps\n"
     ]
    },
    {
     "name": "stdout",
     "output_type": "stream",
     "text": [
      "1143628\n",
      "humidity: 50.0\n",
      " pressure: 10000.0\n",
      " temperature: 300.0\n",
      " lat: 32.78000000000001\n",
      " elevation: 2.797999999999601\n",
      " freqmin(cm-1): 11098.779134295226\n",
      " freqmax(cm-1): 14265.33523537803\n",
      " angle: 65.6425420077903\n",
      "\n",
      "\n",
      "Running exec: lblrtm\n",
      "\n",
      "\n"
     ]
    },
    {
     "name": "stderr",
     "output_type": "stream",
     "text": [
      "Note: The following floating-point exceptions are signalling: IEEE_INVALID_FLAG IEEE_UNDERFLOW_FLAG IEEE_DENORMAL\n",
      "STOP  LBLRTM EXIT \n",
      "2.13user 0.88system 0:03.22elapsed 93%CPU (0avgtext+0avgdata 7572maxresident)k\n",
      "0inputs+0outputs (0major+1234minor)pagefaults 0swaps\n"
     ]
    },
    {
     "name": "stdout",
     "output_type": "stream",
     "text": [
      "\n",
      "Running exec: lblrtm\n",
      "\n",
      "\n"
     ]
    },
    {
     "name": "stderr",
     "output_type": "stream",
     "text": [
      "Note: The following floating-point exceptions are signalling: IEEE_INVALID_FLAG IEEE_UNDERFLOW_FLAG IEEE_DENORMAL\n",
      "STOP  LBLRTM EXIT \n",
      "0.90user 0.72system 0:01.72elapsed 94%CPU (0avgtext+0avgdata 7752maxresident)k\n",
      "0inputs+0outputs (0major+1238minor)pagefaults 0swaps\n"
     ]
    },
    {
     "name": "stdout",
     "output_type": "stream",
     "text": [
      "1143628\n",
      "humidity: 50.0\n",
      " pressure: 10000.0\n",
      " temperature: 300.0\n",
      " lat: 32.78000000000001\n",
      " elevation: 2.797999999999601\n",
      " freqmin(cm-1): 11098.779134295226\n",
      " freqmax(cm-1): 14265.33523537803\n",
      " angle: 4.244341434002005\n",
      "\n",
      "\n",
      "Running exec: lblrtm\n",
      "\n",
      "\n"
     ]
    },
    {
     "name": "stderr",
     "output_type": "stream",
     "text": [
      "Note: The following floating-point exceptions are signalling: IEEE_INVALID_FLAG IEEE_UNDERFLOW_FLAG IEEE_DENORMAL\n",
      "STOP  LBLRTM EXIT \n",
      "2.12user 0.85system 0:03.18elapsed 93%CPU (0avgtext+0avgdata 7672maxresident)k\n",
      "0inputs+0outputs (0major+1234minor)pagefaults 0swaps\n"
     ]
    },
    {
     "name": "stdout",
     "output_type": "stream",
     "text": [
      "\n",
      "Running exec: lblrtm\n",
      "\n",
      "\n"
     ]
    },
    {
     "name": "stderr",
     "output_type": "stream",
     "text": [
      "Note: The following floating-point exceptions are signalling: IEEE_INVALID_FLAG IEEE_UNDERFLOW_FLAG IEEE_DENORMAL\n",
      "STOP  LBLRTM EXIT \n",
      "0.88user 0.74system 0:01.76elapsed 92%CPU (0avgtext+0avgdata 7792maxresident)k\n",
      "0inputs+0outputs (0major+1237minor)pagefaults 0swaps\n"
     ]
    },
    {
     "name": "stdout",
     "output_type": "stream",
     "text": [
      "1143628\n",
      "humidity: 50.0\n",
      " pressure: 10000.0\n",
      " temperature: 300.0\n",
      " lat: 32.78000000000001\n",
      " elevation: 2.797999999999601\n",
      " freqmin(cm-1): 11098.779134295226\n",
      " freqmax(cm-1): 14265.33523537803\n",
      " angle: 25.73402125733466\n",
      "\n",
      "\n",
      "Running exec: lblrtm\n",
      "\n",
      "\n"
     ]
    },
    {
     "name": "stderr",
     "output_type": "stream",
     "text": [
      "Note: The following floating-point exceptions are signalling: IEEE_INVALID_FLAG IEEE_UNDERFLOW_FLAG IEEE_DENORMAL\n",
      "STOP  LBLRTM EXIT \n",
      "2.13user 0.80system 0:03.21elapsed 91%CPU (0avgtext+0avgdata 7752maxresident)k\n",
      "0inputs+0outputs (0major+1237minor)pagefaults 0swaps\n"
     ]
    },
    {
     "name": "stdout",
     "output_type": "stream",
     "text": [
      "\n",
      "Running exec: lblrtm\n",
      "\n",
      "\n"
     ]
    },
    {
     "name": "stderr",
     "output_type": "stream",
     "text": [
      "Note: The following floating-point exceptions are signalling: IEEE_INVALID_FLAG IEEE_UNDERFLOW_FLAG IEEE_DENORMAL\n",
      "STOP  LBLRTM EXIT \n",
      "0.89user 0.70system 0:01.73elapsed 92%CPU (0avgtext+0avgdata 7624maxresident)k\n",
      "0inputs+0outputs (0major+1233minor)pagefaults 0swaps\n"
     ]
    },
    {
     "name": "stdout",
     "output_type": "stream",
     "text": [
      "1143628\n",
      "humidity: 50.0\n",
      " pressure: 10000.0\n",
      " temperature: 300.0\n",
      " lat: 32.78000000000001\n",
      " elevation: 2.797999999999601\n",
      " freqmin(cm-1): 11098.779134295226\n",
      " freqmax(cm-1): 14265.33523537803\n",
      " angle: 41.82411679419448\n",
      "\n",
      "\n",
      "Running exec: lblrtm\n",
      "\n",
      "\n"
     ]
    },
    {
     "name": "stderr",
     "output_type": "stream",
     "text": [
      "Note: The following floating-point exceptions are signalling: IEEE_INVALID_FLAG IEEE_UNDERFLOW_FLAG IEEE_DENORMAL\n",
      "STOP  LBLRTM EXIT \n",
      "2.14user 0.85system 0:03.31elapsed 90%CPU (0avgtext+0avgdata 7748maxresident)k\n",
      "0inputs+0outputs (0major+1234minor)pagefaults 0swaps\n"
     ]
    },
    {
     "name": "stdout",
     "output_type": "stream",
     "text": [
      "\n",
      "Running exec: lblrtm\n",
      "\n",
      "\n"
     ]
    },
    {
     "name": "stderr",
     "output_type": "stream",
     "text": [
      "Note: The following floating-point exceptions are signalling: IEEE_INVALID_FLAG IEEE_UNDERFLOW_FLAG IEEE_DENORMAL\n",
      "STOP  LBLRTM EXIT \n",
      "0.89user 0.74system 0:01.73elapsed 94%CPU (0avgtext+0avgdata 7624maxresident)k\n",
      "0inputs+0outputs (0major+1232minor)pagefaults 0swaps\n"
     ]
    },
    {
     "name": "stdout",
     "output_type": "stream",
     "text": [
      "1143628\n",
      "humidity: 50.0\n",
      " pressure: 10000.0\n",
      " temperature: 300.0\n",
      " lat: 32.78000000000001\n",
      " elevation: 2.797999999999601\n",
      " freqmin(cm-1): 11098.779134295226\n",
      " freqmax(cm-1): 14265.33523537803\n",
      " angle: 19.147041951230698\n",
      "\n",
      "\n",
      "Running exec: lblrtm\n",
      "\n",
      "\n"
     ]
    },
    {
     "name": "stderr",
     "output_type": "stream",
     "text": [
      "Note: The following floating-point exceptions are signalling: IEEE_INVALID_FLAG IEEE_UNDERFLOW_FLAG IEEE_DENORMAL\n",
      "STOP  LBLRTM EXIT \n",
      "2.12user 0.83system 0:03.24elapsed 91%CPU (0avgtext+0avgdata 7672maxresident)k\n",
      "0inputs+0outputs (0major+1233minor)pagefaults 0swaps\n"
     ]
    },
    {
     "name": "stdout",
     "output_type": "stream",
     "text": [
      "\n",
      "Running exec: lblrtm\n",
      "\n",
      "\n"
     ]
    },
    {
     "name": "stderr",
     "output_type": "stream",
     "text": [
      "Note: The following floating-point exceptions are signalling: IEEE_INVALID_FLAG IEEE_UNDERFLOW_FLAG IEEE_DENORMAL\n",
      "STOP  LBLRTM EXIT \n",
      "0.92user 0.70system 0:01.75elapsed 92%CPU (0avgtext+0avgdata 7816maxresident)k\n",
      "0inputs+0outputs (0major+1238minor)pagefaults 0swaps\n"
     ]
    },
    {
     "name": "stdout",
     "output_type": "stream",
     "text": [
      "1143628\n",
      "humidity: 50.0\n",
      " pressure: 10000.0\n",
      " temperature: 300.0\n",
      " lat: 32.78000000000001\n",
      " elevation: 2.797999999999601\n",
      " freqmin(cm-1): 11098.779134295226\n",
      " freqmax(cm-1): 14265.33523537803\n",
      " angle: 38.23670948006227\n",
      "\n",
      "\n",
      "Running exec: lblrtm\n",
      "\n",
      "\n"
     ]
    },
    {
     "name": "stderr",
     "output_type": "stream",
     "text": [
      "Note: The following floating-point exceptions are signalling: IEEE_INVALID_FLAG IEEE_UNDERFLOW_FLAG IEEE_DENORMAL\n",
      "STOP  LBLRTM EXIT \n",
      "2.16user 0.83system 0:03.28elapsed 91%CPU (0avgtext+0avgdata 7720maxresident)k\n",
      "0inputs+0outputs (0major+1234minor)pagefaults 0swaps\n"
     ]
    },
    {
     "name": "stdout",
     "output_type": "stream",
     "text": [
      "\n",
      "Running exec: lblrtm\n",
      "\n",
      "\n"
     ]
    },
    {
     "name": "stderr",
     "output_type": "stream",
     "text": [
      "Note: The following floating-point exceptions are signalling: IEEE_INVALID_FLAG IEEE_UNDERFLOW_FLAG IEEE_DENORMAL\n",
      "STOP  LBLRTM EXIT \n",
      "0.94user 0.66system 0:01.70elapsed 94%CPU (0avgtext+0avgdata 7720maxresident)k\n",
      "0inputs+0outputs (0major+1234minor)pagefaults 0swaps\n"
     ]
    },
    {
     "name": "stdout",
     "output_type": "stream",
     "text": [
      "1143628\n",
      "humidity: 50.0\n",
      " pressure: 10000.0\n",
      " temperature: 300.0\n",
      " lat: 32.78000000000001\n",
      " elevation: 2.797999999999601\n",
      " freqmin(cm-1): 11098.779134295226\n",
      " freqmax(cm-1): 14265.33523537803\n",
      " angle: 47.73236591064268\n",
      "\n",
      "\n",
      "Running exec: lblrtm\n",
      "\n",
      "\n"
     ]
    },
    {
     "name": "stderr",
     "output_type": "stream",
     "text": [
      "Note: The following floating-point exceptions are signalling: IEEE_INVALID_FLAG IEEE_UNDERFLOW_FLAG IEEE_DENORMAL\n",
      "STOP  LBLRTM EXIT \n",
      "2.14user 0.83system 0:03.44elapsed 86%CPU (0avgtext+0avgdata 7628maxresident)k\n",
      "0inputs+0outputs (0major+1233minor)pagefaults 0swaps\n"
     ]
    },
    {
     "name": "stdout",
     "output_type": "stream",
     "text": [
      "\n",
      "Running exec: lblrtm\n",
      "\n",
      "\n"
     ]
    },
    {
     "name": "stderr",
     "output_type": "stream",
     "text": [
      "Note: The following floating-point exceptions are signalling: IEEE_INVALID_FLAG IEEE_UNDERFLOW_FLAG IEEE_DENORMAL\n",
      "STOP  LBLRTM EXIT \n",
      "0.89user 0.75system 0:01.72elapsed 95%CPU (0avgtext+0avgdata 7792maxresident)k\n",
      "0inputs+0outputs (0major+1237minor)pagefaults 0swaps\n"
     ]
    },
    {
     "name": "stdout",
     "output_type": "stream",
     "text": [
      "1143628\n",
      "humidity: 50.0\n",
      " pressure: 10000.0\n",
      " temperature: 300.0\n",
      " lat: 32.78000000000001\n",
      " elevation: 2.797999999999601\n",
      " freqmin(cm-1): 11098.779134295226\n",
      " freqmax(cm-1): 14265.33523537803\n",
      " angle: 42.79961082627774\n",
      "\n",
      "\n",
      "Running exec: lblrtm\n",
      "\n",
      "\n"
     ]
    },
    {
     "name": "stderr",
     "output_type": "stream",
     "text": [
      "Note: The following floating-point exceptions are signalling: IEEE_INVALID_FLAG IEEE_UNDERFLOW_FLAG IEEE_DENORMAL\n",
      "STOP  LBLRTM EXIT \n",
      "2.16user 0.80system 0:03.44elapsed 86%CPU (0avgtext+0avgdata 7628maxresident)k\n",
      "0inputs+0outputs (0major+1232minor)pagefaults 0swaps\n"
     ]
    },
    {
     "name": "stdout",
     "output_type": "stream",
     "text": [
      "\n",
      "Running exec: lblrtm\n",
      "\n",
      "\n"
     ]
    },
    {
     "name": "stderr",
     "output_type": "stream",
     "text": [
      "Note: The following floating-point exceptions are signalling: IEEE_INVALID_FLAG IEEE_UNDERFLOW_FLAG IEEE_DENORMAL\n",
      "STOP  LBLRTM EXIT \n",
      "0.91user 0.72system 0:01.77elapsed 92%CPU (0avgtext+0avgdata 7708maxresident)k\n",
      "0inputs+0outputs (0major+1236minor)pagefaults 0swaps\n"
     ]
    },
    {
     "name": "stdout",
     "output_type": "stream",
     "text": [
      "1143628\n",
      "humidity: 50.0\n",
      " pressure: 10000.0\n",
      " temperature: 300.0\n",
      " lat: 32.78000000000001\n",
      " elevation: 2.797999999999601\n",
      " freqmin(cm-1): 11098.779134295226\n",
      " freqmax(cm-1): 14265.33523537803\n",
      " angle: 44.62927519288961\n",
      "\n",
      "\n",
      "Running exec: lblrtm\n",
      "\n",
      "\n"
     ]
    },
    {
     "name": "stderr",
     "output_type": "stream",
     "text": [
      "Note: The following floating-point exceptions are signalling: IEEE_INVALID_FLAG IEEE_UNDERFLOW_FLAG IEEE_DENORMAL\n",
      "STOP  LBLRTM EXIT \n",
      "2.12user 0.81system 0:03.18elapsed 92%CPU (0avgtext+0avgdata 7748maxresident)k\n",
      "0inputs+0outputs (0major+1234minor)pagefaults 0swaps\n"
     ]
    },
    {
     "name": "stdout",
     "output_type": "stream",
     "text": [
      "\n",
      "Running exec: lblrtm\n",
      "\n",
      "\n"
     ]
    },
    {
     "name": "stderr",
     "output_type": "stream",
     "text": [
      "Note: The following floating-point exceptions are signalling: IEEE_INVALID_FLAG IEEE_UNDERFLOW_FLAG IEEE_DENORMAL\n",
      "STOP  LBLRTM EXIT \n",
      "0.90user 0.73system 0:01.76elapsed 93%CPU (0avgtext+0avgdata 7624maxresident)k\n",
      "0inputs+0outputs (0major+1233minor)pagefaults 0swaps\n"
     ]
    },
    {
     "name": "stdout",
     "output_type": "stream",
     "text": [
      "1143628\n",
      "humidity: 50.0\n",
      " pressure: 10000.0\n",
      " temperature: 300.0\n",
      " lat: 32.78000000000001\n",
      " elevation: 2.797999999999601\n",
      " freqmin(cm-1): 11098.779134295226\n",
      " freqmax(cm-1): 14265.33523537803\n",
      " angle: 31.567632273477905\n",
      "\n",
      "\n",
      "Running exec: lblrtm\n",
      "\n",
      "\n"
     ]
    },
    {
     "name": "stderr",
     "output_type": "stream",
     "text": [
      "Note: The following floating-point exceptions are signalling: IEEE_INVALID_FLAG IEEE_UNDERFLOW_FLAG IEEE_DENORMAL\n",
      "STOP  LBLRTM EXIT \n",
      "2.15user 0.78system 0:03.13elapsed 93%CPU (0avgtext+0avgdata 7748maxresident)k\n",
      "0inputs+0outputs (0major+1237minor)pagefaults 0swaps\n"
     ]
    },
    {
     "name": "stdout",
     "output_type": "stream",
     "text": [
      "\n",
      "Running exec: lblrtm\n",
      "\n",
      "\n"
     ]
    },
    {
     "name": "stderr",
     "output_type": "stream",
     "text": [
      "Note: The following floating-point exceptions are signalling: IEEE_INVALID_FLAG IEEE_UNDERFLOW_FLAG IEEE_DENORMAL\n",
      "STOP  LBLRTM EXIT \n",
      "0.93user 0.70system 0:01.75elapsed 93%CPU (0avgtext+0avgdata 7632maxresident)k\n",
      "0inputs+0outputs (0major+1234minor)pagefaults 0swaps\n"
     ]
    },
    {
     "name": "stdout",
     "output_type": "stream",
     "text": [
      "1143628\n",
      "humidity: 50.0\n",
      " pressure: 10000.0\n",
      " temperature: 300.0\n",
      " lat: 32.78000000000001\n",
      " elevation: 2.797999999999601\n",
      " freqmin(cm-1): 11098.779134295226\n",
      " freqmax(cm-1): 14265.33523537803\n",
      " angle: 44.219986042892295\n",
      "\n",
      "\n",
      "Running exec: lblrtm\n",
      "\n",
      "\n"
     ]
    },
    {
     "name": "stderr",
     "output_type": "stream",
     "text": [
      "Note: The following floating-point exceptions are signalling: IEEE_INVALID_FLAG IEEE_UNDERFLOW_FLAG IEEE_DENORMAL\n",
      "STOP  LBLRTM EXIT \n",
      "2.12user 0.82system 0:03.21elapsed 91%CPU (0avgtext+0avgdata 7628maxresident)k\n",
      "0inputs+0outputs (0major+1233minor)pagefaults 0swaps\n"
     ]
    },
    {
     "name": "stdout",
     "output_type": "stream",
     "text": [
      "\n",
      "Running exec: lblrtm\n",
      "\n",
      "\n"
     ]
    },
    {
     "name": "stderr",
     "output_type": "stream",
     "text": [
      "Note: The following floating-point exceptions are signalling: IEEE_INVALID_FLAG IEEE_UNDERFLOW_FLAG IEEE_DENORMAL\n",
      "STOP  LBLRTM EXIT \n",
      "0.90user 0.73system 0:01.77elapsed 92%CPU (0avgtext+0avgdata 7732maxresident)k\n",
      "0inputs+0outputs (0major+1236minor)pagefaults 0swaps\n"
     ]
    },
    {
     "name": "stdout",
     "output_type": "stream",
     "text": [
      "1143628\n",
      "humidity: 50.0\n",
      " pressure: 10000.0\n",
      " temperature: 300.0\n",
      " lat: 32.78000000000001\n",
      " elevation: 2.797999999999601\n",
      " freqmin(cm-1): 11098.779134295226\n",
      " freqmax(cm-1): 14265.33523537803\n",
      " angle: 55.209073951412215\n",
      "\n",
      "\n",
      "Running exec: lblrtm\n",
      "\n",
      "\n"
     ]
    },
    {
     "name": "stderr",
     "output_type": "stream",
     "text": [
      "Note: The following floating-point exceptions are signalling: IEEE_INVALID_FLAG IEEE_UNDERFLOW_FLAG IEEE_DENORMAL\n",
      "STOP  LBLRTM EXIT \n",
      "2.04user 0.86system 0:03.04elapsed 95%CPU (0avgtext+0avgdata 7624maxresident)k\n",
      "0inputs+0outputs (0major+1233minor)pagefaults 0swaps\n"
     ]
    },
    {
     "name": "stdout",
     "output_type": "stream",
     "text": [
      "\n",
      "Running exec: lblrtm\n",
      "\n",
      "\n"
     ]
    },
    {
     "name": "stderr",
     "output_type": "stream",
     "text": [
      "Note: The following floating-point exceptions are signalling: IEEE_INVALID_FLAG IEEE_UNDERFLOW_FLAG IEEE_DENORMAL\n",
      "STOP  LBLRTM EXIT \n",
      "0.94user 0.70system 0:01.74elapsed 94%CPU (0avgtext+0avgdata 7672maxresident)k\n",
      "0inputs+0outputs (0major+1233minor)pagefaults 0swaps\n"
     ]
    },
    {
     "name": "stdout",
     "output_type": "stream",
     "text": [
      "1127403\n",
      "humidity: 50.0\n",
      " pressure: 10000.0\n",
      " temperature: 300.0\n",
      " lat: 32.78000000000001\n",
      " elevation: 2.797999999999601\n",
      " freqmin(cm-1): 11098.779134295226\n",
      " freqmax(cm-1): 14265.33523537803\n",
      " angle: 16.046253531664348\n",
      "\n",
      "\n",
      "Running exec: lblrtm\n",
      "\n",
      "\n"
     ]
    },
    {
     "name": "stderr",
     "output_type": "stream",
     "text": [
      "Note: The following floating-point exceptions are signalling: IEEE_INVALID_FLAG IEEE_UNDERFLOW_FLAG IEEE_DENORMAL\n",
      "STOP  LBLRTM EXIT \n",
      "2.12user 0.83system 0:03.43elapsed 86%CPU (0avgtext+0avgdata 7732maxresident)k\n",
      "0inputs+0outputs (0major+1236minor)pagefaults 0swaps\n"
     ]
    },
    {
     "name": "stdout",
     "output_type": "stream",
     "text": [
      "\n",
      "Running exec: lblrtm\n",
      "\n",
      "\n"
     ]
    },
    {
     "name": "stderr",
     "output_type": "stream",
     "text": [
      "Note: The following floating-point exceptions are signalling: IEEE_INVALID_FLAG IEEE_UNDERFLOW_FLAG IEEE_DENORMAL\n",
      "STOP  LBLRTM EXIT \n",
      "0.90user 0.70system 0:01.70elapsed 94%CPU (0avgtext+0avgdata 7636maxresident)k\n",
      "0inputs+0outputs (0major+1235minor)pagefaults 0swaps\n"
     ]
    },
    {
     "name": "stdout",
     "output_type": "stream",
     "text": [
      "1143628\n",
      "humidity: 50.0\n",
      " pressure: 10000.0\n",
      " temperature: 300.0\n",
      " lat: 32.78000000000001\n",
      " elevation: 2.797999999999601\n",
      " freqmin(cm-1): 11098.779134295226\n",
      " freqmax(cm-1): 14265.33523537803\n",
      " angle: 70.36083125348077\n",
      "\n",
      "\n",
      "Running exec: lblrtm\n",
      "\n",
      "\n"
     ]
    },
    {
     "name": "stderr",
     "output_type": "stream",
     "text": [
      "Note: The following floating-point exceptions are signalling: IEEE_INVALID_FLAG IEEE_UNDERFLOW_FLAG IEEE_DENORMAL\n",
      "STOP  LBLRTM EXIT \n",
      "2.20user 0.80system 0:03.26elapsed 92%CPU (0avgtext+0avgdata 7672maxresident)k\n",
      "0inputs+0outputs (0major+1234minor)pagefaults 0swaps\n"
     ]
    },
    {
     "name": "stdout",
     "output_type": "stream",
     "text": [
      "\n",
      "Running exec: lblrtm\n",
      "\n",
      "\n"
     ]
    },
    {
     "name": "stderr",
     "output_type": "stream",
     "text": [
      "Note: The following floating-point exceptions are signalling: IEEE_INVALID_FLAG IEEE_UNDERFLOW_FLAG IEEE_DENORMAL\n",
      "STOP  LBLRTM EXIT \n",
      "0.92user 0.73system 0:01.75elapsed 93%CPU (0avgtext+0avgdata 7520maxresident)k\n",
      "0inputs+0outputs (0major+1233minor)pagefaults 0swaps\n"
     ]
    },
    {
     "name": "stdout",
     "output_type": "stream",
     "text": [
      "1143628\n",
      "humidity: 50.0\n",
      " pressure: 10000.0\n",
      " temperature: 300.0\n",
      " lat: 32.78000000000001\n",
      " elevation: 2.797999999999601\n",
      " freqmin(cm-1): 11098.779134295226\n",
      " freqmax(cm-1): 14265.33523537803\n",
      " angle: 5.621114858253093\n",
      "\n",
      "\n",
      "Running exec: lblrtm\n",
      "\n",
      "\n"
     ]
    },
    {
     "name": "stderr",
     "output_type": "stream",
     "text": [
      "Note: The following floating-point exceptions are signalling: IEEE_INVALID_FLAG IEEE_UNDERFLOW_FLAG IEEE_DENORMAL\n",
      "STOP  LBLRTM EXIT \n",
      "2.15user 0.78system 0:03.12elapsed 93%CPU (0avgtext+0avgdata 7564maxresident)k\n",
      "0inputs+0outputs (0major+1233minor)pagefaults 0swaps\n"
     ]
    },
    {
     "name": "stdout",
     "output_type": "stream",
     "text": [
      "\n",
      "Running exec: lblrtm\n",
      "\n",
      "\n"
     ]
    },
    {
     "name": "stderr",
     "output_type": "stream",
     "text": [
      "Note: The following floating-point exceptions are signalling: IEEE_INVALID_FLAG IEEE_UNDERFLOW_FLAG IEEE_DENORMAL\n",
      "STOP  LBLRTM EXIT \n",
      "0.87user 0.73system 0:01.70elapsed 94%CPU (0avgtext+0avgdata 7560maxresident)k\n",
      "0inputs+0outputs (0major+1233minor)pagefaults 0swaps\n"
     ]
    },
    {
     "name": "stdout",
     "output_type": "stream",
     "text": [
      "1143628\n",
      "<simulacra.tellurics.TelFitModel object at 0x145c0d5fc9b0> [1.6178939077349241e-06, 2.1907587743896784e-07, 2.1907587743896784e-07, 2.1907587743896784e-07, 2.1907587743896784e-07, 2.2146180711501984e-07, 2.2147022882279543e-07, 2.1907587743896784e-07, 2.1907587743896784e-07, 2.1907587743896784e-07, 2.2717149938955572e-07, 2.1907587743896784e-07, 2.1907587743896784e-07, 2.1907587743896784e-07, 2.1907587743896784e-07, 2.1907587743896784e-07, 2.1907587743896784e-07, 2.1907587743896784e-07, 2.1907587743896784e-07, 2.1907587743896784e-07, 2.1907587743896784e-07, 2.1907587743896784e-07, 2.1907587743896784e-07, 2.1907587743896784e-07, 2.1907587743896784e-07, 2.1907587743896784e-07, 2.1907587743896784e-07, 2.1996264365498064e-07, 2.1907587743896784e-07, 2.1907587743896784e-07, 2.1907587743896784e-07]\n",
      "interpolating spline...\n",
      "0\n",
      "1\n",
      "2\n",
      "3\n",
      "4\n",
      "5\n",
      "6\n",
      "7\n",
      "8\n",
      "9\n",
      "10\n",
      "11\n",
      "12\n",
      "13\n",
      "14\n",
      "15\n",
      "16\n",
      "17\n",
      "18\n",
      "19\n",
      "20\n",
      "21\n",
      "22\n",
      "23\n",
      "24\n",
      "25\n",
      "26\n",
      "27\n",
      "28\n",
      "29\n",
      "combining grids...\n",
      "convolving...\n",
      "0\n",
      "1\n",
      "2\n",
      "3\n",
      "4\n",
      "5\n",
      "6\n",
      "7\n",
      "8\n",
      "9\n",
      "10\n",
      "11\n",
      "12\n",
      "13\n",
      "14\n",
      "15\n",
      "16\n",
      "17\n",
      "18\n",
      "19\n",
      "20\n",
      "21\n",
      "22\n",
      "23\n",
      "24\n",
      "25\n",
      "26\n",
      "27\n",
      "28\n",
      "29\n",
      "xs: 7005.007110494636 9004.98956196525\n",
      "xhat: 7010.007110494628 8999.990639003297\n",
      "interpolating lanczos...\n",
      "0\n",
      "1\n",
      "2\n",
      "3\n",
      "4\n",
      "5\n",
      "6\n",
      "7\n",
      "8\n",
      "9\n",
      "10\n",
      "11\n",
      "12\n",
      "13\n",
      "14\n",
      "15\n",
      "16\n",
      "17\n",
      "18\n",
      "19\n",
      "20\n",
      "21\n",
      "22\n",
      "23\n",
      "24\n",
      "25\n",
      "26\n",
      "27\n",
      "28\n",
      "29\n",
      "area: 14.522012041218817 m2\t avg d lambda: 0.05688267575202005 Angstrom\t avg lambda: 7963.6042297997865 Angstrom\t avg exp times: 8.0 min\n",
      "0 n mean: 1.50e+05\t n median: 1.81e+05\n",
      "1 n mean: 1.70e+05\t n median: 1.85e+05\n",
      "2 n mean: 1.58e+05\t n median: 1.80e+05\n",
      "3 n mean: 1.70e+05\t n median: 1.85e+05\n",
      "4 n mean: 1.62e+05\t n median: 1.82e+05\n",
      "5 n mean: 1.51e+05\t n median: 1.73e+05\n",
      "6 n mean: 1.71e+05\t n median: 1.85e+05\n",
      "7 n mean: 1.72e+05\t n median: 1.86e+05\n",
      "8 n mean: 1.72e+05\t n median: 1.86e+05\n",
      "9 n mean: 1.70e+05\t n median: 1.85e+05\n",
      "10 n mean: 1.71e+05\t n median: 1.85e+05\n",
      "11 n mean: 1.71e+05\t n median: 1.85e+05\n",
      "12 n mean: 1.72e+05\t n median: 1.86e+05\n",
      "13 n mean: 1.67e+05\t n median: 1.84e+05\n",
      "14 n mean: 1.60e+05\t n median: 1.81e+05\n",
      "15 n mean: 1.62e+05\t n median: 1.82e+05\n",
      "16 n mean: 1.72e+05\t n median: 1.86e+05\n",
      "17 n mean: 1.71e+05\t n median: 1.86e+05\n",
      "18 n mean: 1.69e+05\t n median: 1.85e+05\n",
      "19 n mean: 1.72e+05\t n median: 1.86e+05\n",
      "20 n mean: 1.70e+05\t n median: 1.85e+05\n",
      "21 n mean: 1.68e+05\t n median: 1.84e+05\n",
      "22 n mean: 1.69e+05\t n median: 1.85e+05\n",
      "23 n mean: 1.69e+05\t n median: 1.85e+05\n",
      "24 n mean: 1.71e+05\t n median: 1.85e+05\n",
      "25 n mean: 1.69e+05\t n median: 1.85e+05\n",
      "26 n mean: 1.50e+05\t n median: 1.85e+05\n",
      "27 n mean: 1.72e+05\t n median: 1.86e+05\n",
      "28 n mean: 1.57e+05\t n median: 1.79e+05\n",
      "29 n mean: 1.72e+05\t n median: 1.86e+05\n",
      "generating true signal to noise ratios...\n",
      "adding noise...\n",
      "generating exp signal to noise ratios...\n"
     ]
    },
    {
     "name": "stderr",
     "output_type": "stream",
     "text": [
      "../simulacra/detector.py:529: RuntimeWarning: invalid value encountered in add_noise_v\n",
      "  n_readout = add_noise_v(n_exp.flatten().value,snr_grid.flatten()).reshape(out_shape)\n"
     ]
    },
    {
     "name": "stdout",
     "output_type": "stream",
     "text": [
      "generating errors...\n",
      "done.\n",
      "/scratch/mdd423/simulacra/out/2021-11-02/data_e30_R70000.0_a2000.0_p40.3_l7.0e+039.0e+03_ep1.0_w0.0_snr4.0e+02_tp3e-07\n",
      "saving time\n",
      "quantity\n",
      "epoches  saving as string\n",
      "quantity\n",
      "quantity\n",
      "quantity\n",
      "quantity\n",
      "quantity\n"
     ]
    },
    {
     "name": "stderr",
     "output_type": "stream",
     "text": [
      "../simulacra/detector.py:541: RuntimeWarning: invalid value encountered in generate_errors_v\n",
      "  nerr_out = generate_errors_v(n_readout.flatten(),snr_readout.flatten()).reshape(out_shape)\n"
     ]
    },
    {
     "name": "stdout",
     "output_type": "stream",
     "text": [
      "quantity\n",
      "quantity\n",
      "flux  saving as string\n",
      "wave  saving as string\n",
      "quantity\n",
      "quantity\n",
      "quantity\n",
      "alpha  saving as string\n",
      "quantity\n",
      "quantity\n",
      "fluxname  saving as string\n",
      "generate_spectra  saving as string\n",
      "quantity\n",
      "quantity\n",
      "logg  saving as string\n",
      "outdir  saving as string\n",
      "quantity\n",
      "plot  saving as string\n",
      "plot_interpolated  saving as string\n",
      "quantity\n",
      "quantity\n",
      "saving target...340.28129510273834 deg 28.43612929851907 deg\n",
      "temperature  saving as string\n",
      "quantity\n",
      "quantity\n",
      "wavename  saving as string\n",
      "quantity\n",
      "z  saving as string\n",
      "quantity\n",
      "quantity\n",
      "quantity\n",
      "quantity\n",
      "a  saving as string\n",
      "add_model  saving as string\n",
      "quantity\n",
      "checkmax  saving as string\n",
      "checkmin  saving as string\n",
      "quantity\n",
      "epsilon  saving as string\n",
      "gamma  saving as string\n",
      "quantity\n",
      "quantity\n",
      "quantity\n",
      "lsf_centering  saving as string\n",
      "lsf_const_coeffs  saving as string\n",
      "resolution  saving as string\n",
      "sigma  saving as string\n",
      "sigma_range  saving as string\n",
      "simulate  saving as string\n",
      "stellar_model  saving as string\n",
      "through_put  saving as string\n",
      "transmission_cutoff  saving as string\n",
      "transmission_models  saving as string\n",
      "w  saving as string\n",
      "quantity\n",
      "quantity\n",
      "quantity\n",
      "_epoches  saving as string\n",
      "quantity\n",
      "quantity\n",
      "_name  saving as string\n",
      "quantity\n",
      "quantity\n",
      "check_property  saving as string\n",
      "check_shape_type  saving as string\n",
      "epoches  saving as string\n",
      "generate_transmission  saving as string\n",
      "quantity\n",
      "quantity\n",
      "quantity\n",
      "plot  saving as string\n",
      "plot_interpolated  saving as string\n",
      "quantity\n",
      "quantity\n",
      "quantity\n",
      "nan nan\n",
      "using saved wave file\n",
      "../data/stellar/PHOENIX/lte04800-1.00-1.0.Alpha=+0.40.PHOENIX-ACES-AGSS-COND-2011-HiRes.fits\n",
      "using saved flux file\n",
      "reading in ../data/stellar/PHOENIX/WAVE_PHOENIX-ACES-AGSS-COND-2011.fits\n",
      "wave_grid min -> 701.0 nm\n",
      "surface flux: mean 1.31e+14 erg / (cm3 s)\t median 1.14e+14 erg / (cm3 s)\n",
      "obs     flux: mean 9.45e-01 erg / (cm3 s)\t median 8.21e-01 erg / (cm3 s)\n",
      "generating spectra...\n",
      "humidity: 50.0\n",
      " pressure: 10000.0\n",
      " temperature: 300.0\n",
      " lat: 32.78000000000001\n",
      " elevation: 2.797999999999601\n",
      " freqmin(cm-1): 11098.779134295226\n",
      " freqmax(cm-1): 14265.33523537803\n",
      " angle: 62.8613757400191\n",
      "\n",
      "\n",
      "Running exec: lblrtm\n",
      "\n",
      "\n"
     ]
    },
    {
     "name": "stderr",
     "output_type": "stream",
     "text": [
      "Note: The following floating-point exceptions are signalling: IEEE_INVALID_FLAG IEEE_UNDERFLOW_FLAG IEEE_DENORMAL\n",
      "STOP  LBLRTM EXIT \n",
      "2.12user 0.84system 0:03.15elapsed 94%CPU (0avgtext+0avgdata 7572maxresident)k\n",
      "0inputs+0outputs (0major+1234minor)pagefaults 0swaps\n"
     ]
    },
    {
     "name": "stdout",
     "output_type": "stream",
     "text": [
      "\n",
      "Running exec: lblrtm\n",
      "\n",
      "\n"
     ]
    },
    {
     "name": "stderr",
     "output_type": "stream",
     "text": [
      "Note: The following floating-point exceptions are signalling: IEEE_INVALID_FLAG IEEE_UNDERFLOW_FLAG IEEE_DENORMAL\n",
      "STOP  LBLRTM EXIT \n",
      "0.91user 0.71system 0:01.72elapsed 94%CPU (0avgtext+0avgdata 7556maxresident)k\n",
      "0inputs+0outputs (0major+1233minor)pagefaults 0swaps\n"
     ]
    },
    {
     "name": "stdout",
     "output_type": "stream",
     "text": [
      "1143628\n",
      "humidity: 50.0\n",
      " pressure: 10000.0\n",
      " temperature: 300.0\n",
      " lat: 32.78000000000001\n",
      " elevation: 2.797999999999601\n",
      " freqmin(cm-1): 11098.779134295226\n",
      " freqmax(cm-1): 14265.33523537803\n",
      " angle: 36.420938571519066\n",
      "\n",
      "\n",
      "Running exec: lblrtm\n",
      "\n",
      "\n"
     ]
    },
    {
     "name": "stderr",
     "output_type": "stream",
     "text": [
      "Note: The following floating-point exceptions are signalling: IEEE_INVALID_FLAG IEEE_UNDERFLOW_FLAG IEEE_DENORMAL\n",
      "STOP  LBLRTM EXIT \n",
      "2.11user 0.84system 0:03.13elapsed 94%CPU (0avgtext+0avgdata 7684maxresident)k\n",
      "0inputs+0outputs (0major+1237minor)pagefaults 0swaps\n"
     ]
    },
    {
     "name": "stdout",
     "output_type": "stream",
     "text": [
      "\n",
      "Running exec: lblrtm\n",
      "\n",
      "\n"
     ]
    },
    {
     "name": "stderr",
     "output_type": "stream",
     "text": [
      "Note: The following floating-point exceptions are signalling: IEEE_INVALID_FLAG IEEE_UNDERFLOW_FLAG IEEE_DENORMAL\n",
      "STOP  LBLRTM EXIT \n",
      "0.89user 0.72system 0:01.71elapsed 94%CPU (0avgtext+0avgdata 7668maxresident)k\n",
      "0inputs+0outputs (0major+1234minor)pagefaults 0swaps\n"
     ]
    },
    {
     "name": "stdout",
     "output_type": "stream",
     "text": [
      "1143628\n",
      "humidity: 50.0\n",
      " pressure: 10000.0\n",
      " temperature: 300.0\n",
      " lat: 32.78000000000001\n",
      " elevation: 2.797999999999601\n",
      " freqmin(cm-1): 11098.779134295226\n",
      " freqmax(cm-1): 14265.33523537803\n",
      " angle: 70.23515457427514\n",
      "\n",
      "\n",
      "Running exec: lblrtm\n",
      "\n",
      "\n"
     ]
    },
    {
     "name": "stderr",
     "output_type": "stream",
     "text": [
      "Note: The following floating-point exceptions are signalling: IEEE_INVALID_FLAG IEEE_UNDERFLOW_FLAG IEEE_DENORMAL\n",
      "STOP  LBLRTM EXIT \n",
      "2.17user 0.80system 0:03.16elapsed 94%CPU (0avgtext+0avgdata 7648maxresident)k\n",
      "0inputs+0outputs (0major+1235minor)pagefaults 0swaps\n"
     ]
    },
    {
     "name": "stdout",
     "output_type": "stream",
     "text": [
      "\n",
      "Running exec: lblrtm\n",
      "\n",
      "\n"
     ]
    },
    {
     "name": "stderr",
     "output_type": "stream",
     "text": [
      "Note: The following floating-point exceptions are signalling: IEEE_INVALID_FLAG IEEE_UNDERFLOW_FLAG IEEE_DENORMAL\n",
      "STOP  LBLRTM EXIT \n",
      "0.89user 0.73system 0:01.74elapsed 93%CPU (0avgtext+0avgdata 7728maxresident)k\n",
      "0inputs+0outputs (0major+1235minor)pagefaults 0swaps\n"
     ]
    },
    {
     "name": "stdout",
     "output_type": "stream",
     "text": [
      "1143628\n",
      "humidity: 50.0\n",
      " pressure: 10000.0\n",
      " temperature: 300.0\n",
      " lat: 32.78000000000001\n",
      " elevation: 2.797999999999601\n",
      " freqmin(cm-1): 11098.779134295226\n",
      " freqmax(cm-1): 14265.33523537803\n",
      " angle: 37.41097711185363\n",
      "\n",
      "\n",
      "Running exec: lblrtm\n",
      "\n",
      "\n"
     ]
    },
    {
     "name": "stderr",
     "output_type": "stream",
     "text": [
      "Note: The following floating-point exceptions are signalling: IEEE_INVALID_FLAG IEEE_UNDERFLOW_FLAG IEEE_DENORMAL\n",
      "STOP  LBLRTM EXIT \n",
      "2.12user 0.80system 0:03.12elapsed 94%CPU (0avgtext+0avgdata 7720maxresident)k\n",
      "0inputs+0outputs (0major+1237minor)pagefaults 0swaps\n"
     ]
    },
    {
     "name": "stdout",
     "output_type": "stream",
     "text": [
      "\n",
      "Running exec: lblrtm\n",
      "\n",
      "\n"
     ]
    },
    {
     "name": "stderr",
     "output_type": "stream",
     "text": [
      "Note: The following floating-point exceptions are signalling: IEEE_INVALID_FLAG IEEE_UNDERFLOW_FLAG IEEE_DENORMAL\n",
      "STOP  LBLRTM EXIT \n",
      "0.91user 0.69system 0:01.73elapsed 93%CPU (0avgtext+0avgdata 7792maxresident)k\n",
      "0inputs+0outputs (0major+1238minor)pagefaults 0swaps\n"
     ]
    },
    {
     "name": "stdout",
     "output_type": "stream",
     "text": [
      "1143628\n",
      "humidity: 50.0\n",
      " pressure: 10000.0\n",
      " temperature: 300.0\n",
      " lat: 32.78000000000001\n",
      " elevation: 2.797999999999601\n",
      " freqmin(cm-1): 11098.779134295226\n",
      " freqmax(cm-1): 14265.33523537803\n",
      " angle: 65.09115788813192\n",
      "\n",
      "\n",
      "Running exec: lblrtm\n",
      "\n",
      "\n"
     ]
    },
    {
     "name": "stderr",
     "output_type": "stream",
     "text": [
      "Note: The following floating-point exceptions are signalling: IEEE_INVALID_FLAG IEEE_UNDERFLOW_FLAG IEEE_DENORMAL\n",
      "STOP  LBLRTM EXIT \n",
      "2.12user 0.80system 0:03.06elapsed 95%CPU (0avgtext+0avgdata 7628maxresident)k\n",
      "0inputs+0outputs (0major+1234minor)pagefaults 0swaps\n"
     ]
    },
    {
     "name": "stdout",
     "output_type": "stream",
     "text": [
      "\n",
      "Running exec: lblrtm\n",
      "\n",
      "\n"
     ]
    },
    {
     "name": "stderr",
     "output_type": "stream",
     "text": [
      "Note: The following floating-point exceptions are signalling: IEEE_INVALID_FLAG IEEE_UNDERFLOW_FLAG IEEE_DENORMAL\n",
      "STOP  LBLRTM EXIT \n",
      "0.91user 0.72system 0:01.74elapsed 94%CPU (0avgtext+0avgdata 7672maxresident)k\n",
      "0inputs+0outputs (0major+1233minor)pagefaults 0swaps\n"
     ]
    },
    {
     "name": "stdout",
     "output_type": "stream",
     "text": [
      "1127370\n",
      "humidity: 50.0\n",
      " pressure: 10000.0\n",
      " temperature: 300.0\n",
      " lat: 32.78000000000001\n",
      " elevation: 2.797999999999601\n",
      " freqmin(cm-1): 11098.779134295226\n",
      " freqmax(cm-1): 14265.33523537803\n",
      " angle: 59.94944845829285\n",
      "\n",
      "\n",
      "Running exec: lblrtm\n",
      "\n",
      "\n"
     ]
    },
    {
     "name": "stderr",
     "output_type": "stream",
     "text": [
      "Note: The following floating-point exceptions are signalling: IEEE_INVALID_FLAG IEEE_UNDERFLOW_FLAG IEEE_DENORMAL\n",
      "STOP  LBLRTM EXIT \n",
      "2.10user 0.81system 0:03.70elapsed 78%CPU (0avgtext+0avgdata 7720maxresident)k\n",
      "0inputs+0outputs (0major+1234minor)pagefaults 0swaps\n"
     ]
    },
    {
     "name": "stdout",
     "output_type": "stream",
     "text": [
      "\n",
      "Running exec: lblrtm\n",
      "\n",
      "\n"
     ]
    },
    {
     "name": "stderr",
     "output_type": "stream",
     "text": [
      "Note: The following floating-point exceptions are signalling: IEEE_INVALID_FLAG IEEE_UNDERFLOW_FLAG IEEE_DENORMAL\n",
      "STOP  LBLRTM EXIT \n",
      "0.95user 0.70system 0:01.78elapsed 93%CPU (0avgtext+0avgdata 7576maxresident)k\n",
      "0inputs+0outputs (0major+1234minor)pagefaults 0swaps\n"
     ]
    },
    {
     "name": "stdout",
     "output_type": "stream",
     "text": [
      "1124676\n",
      "humidity: 50.0\n",
      " pressure: 10000.0\n",
      " temperature: 300.0\n",
      " lat: 32.78000000000001\n",
      " elevation: 2.797999999999601\n",
      " freqmin(cm-1): 11098.779134295226\n",
      " freqmax(cm-1): 14265.33523537803\n",
      " angle: 27.811520651072378\n",
      "\n",
      "\n",
      "Running exec: lblrtm\n",
      "\n",
      "\n"
     ]
    },
    {
     "name": "stderr",
     "output_type": "stream",
     "text": [
      "Note: The following floating-point exceptions are signalling: IEEE_INVALID_FLAG IEEE_UNDERFLOW_FLAG IEEE_DENORMAL\n",
      "STOP  LBLRTM EXIT \n",
      "2.11user 0.86system 0:03.19elapsed 93%CPU (0avgtext+0avgdata 7740maxresident)k\n",
      "0inputs+0outputs (0major+1238minor)pagefaults 0swaps\n"
     ]
    },
    {
     "name": "stdout",
     "output_type": "stream",
     "text": [
      "\n",
      "Running exec: lblrtm\n",
      "\n",
      "\n"
     ]
    },
    {
     "name": "stderr",
     "output_type": "stream",
     "text": [
      "Note: The following floating-point exceptions are signalling: IEEE_INVALID_FLAG IEEE_UNDERFLOW_FLAG IEEE_DENORMAL\n",
      "STOP  LBLRTM EXIT \n",
      "0.89user 0.73system 0:01.73elapsed 94%CPU (0avgtext+0avgdata 7708maxresident)k\n",
      "0inputs+0outputs (0major+1236minor)pagefaults 0swaps\n"
     ]
    },
    {
     "name": "stdout",
     "output_type": "stream",
     "text": [
      "1143628\n",
      "humidity: 50.0\n",
      " pressure: 10000.0\n",
      " temperature: 300.0\n",
      " lat: 32.78000000000001\n",
      " elevation: 2.797999999999601\n",
      " freqmin(cm-1): 11098.779134295226\n",
      " freqmax(cm-1): 14265.33523537803\n",
      " angle: 4.6273790635876395\n",
      "\n",
      "\n",
      "Running exec: lblrtm\n",
      "\n",
      "\n"
     ]
    },
    {
     "name": "stderr",
     "output_type": "stream",
     "text": [
      "Note: The following floating-point exceptions are signalling: IEEE_INVALID_FLAG IEEE_UNDERFLOW_FLAG IEEE_DENORMAL\n",
      "STOP  LBLRTM EXIT \n",
      "2.13user 0.83system 0:03.13elapsed 94%CPU (0avgtext+0avgdata 7556maxresident)k\n",
      "0inputs+0outputs (0major+1233minor)pagefaults 0swaps\n"
     ]
    },
    {
     "name": "stdout",
     "output_type": "stream",
     "text": [
      "\n",
      "Running exec: lblrtm\n",
      "\n",
      "\n"
     ]
    },
    {
     "name": "stderr",
     "output_type": "stream",
     "text": [
      "Note: The following floating-point exceptions are signalling: IEEE_INVALID_FLAG IEEE_UNDERFLOW_FLAG IEEE_DENORMAL\n",
      "STOP  LBLRTM EXIT \n",
      "0.89user 0.72system 0:01.71elapsed 94%CPU (0avgtext+0avgdata 7516maxresident)k\n",
      "0inputs+0outputs (0major+1233minor)pagefaults 0swaps\n"
     ]
    },
    {
     "name": "stdout",
     "output_type": "stream",
     "text": [
      "1143628\n",
      "humidity: 50.0\n",
      " pressure: 10000.0\n",
      " temperature: 300.0\n",
      " lat: 32.78000000000001\n",
      " elevation: 2.797999999999601\n",
      " freqmin(cm-1): 11098.779134295226\n",
      " freqmax(cm-1): 14265.33523537803\n",
      " angle: 11.404396925323324\n",
      "\n",
      "\n",
      "Running exec: lblrtm\n",
      "\n",
      "\n"
     ]
    },
    {
     "name": "stderr",
     "output_type": "stream",
     "text": [
      "Note: The following floating-point exceptions are signalling: IEEE_INVALID_FLAG IEEE_UNDERFLOW_FLAG IEEE_DENORMAL\n",
      "STOP  LBLRTM EXIT \n",
      "2.11user 0.83system 0:03.21elapsed 91%CPU (0avgtext+0avgdata 7672maxresident)k\n",
      "0inputs+0outputs (0major+1233minor)pagefaults 0swaps\n"
     ]
    },
    {
     "name": "stdout",
     "output_type": "stream",
     "text": [
      "\n",
      "Running exec: lblrtm\n",
      "\n",
      "\n"
     ]
    },
    {
     "name": "stderr",
     "output_type": "stream",
     "text": [
      "Note: The following floating-point exceptions are signalling: IEEE_INVALID_FLAG IEEE_UNDERFLOW_FLAG IEEE_DENORMAL\n",
      "STOP  LBLRTM EXIT \n",
      "0.86user 0.74system 0:01.70elapsed 94%CPU (0avgtext+0avgdata 7788maxresident)k\n",
      "0inputs+0outputs (0major+1237minor)pagefaults 0swaps\n"
     ]
    },
    {
     "name": "stdout",
     "output_type": "stream",
     "text": [
      "1143628\n",
      "humidity: 50.0\n",
      " pressure: 10000.0\n",
      " temperature: 300.0\n",
      " lat: 32.78000000000001\n",
      " elevation: 2.797999999999601\n",
      " freqmin(cm-1): 11098.779134295226\n",
      " freqmax(cm-1): 14265.33523537803\n",
      " angle: 54.85857323188904\n",
      "\n",
      "\n",
      "Running exec: lblrtm\n",
      "\n",
      "\n"
     ]
    },
    {
     "name": "stderr",
     "output_type": "stream",
     "text": [
      "Note: The following floating-point exceptions are signalling: IEEE_INVALID_FLAG IEEE_UNDERFLOW_FLAG IEEE_DENORMAL\n",
      "STOP  LBLRTM EXIT \n",
      "2.13user 0.83system 0:03.15elapsed 94%CPU (0avgtext+0avgdata 7720maxresident)k\n",
      "0inputs+0outputs (0major+1237minor)pagefaults 0swaps\n"
     ]
    },
    {
     "name": "stdout",
     "output_type": "stream",
     "text": [
      "\n",
      "Running exec: lblrtm\n",
      "\n",
      "\n"
     ]
    },
    {
     "name": "stderr",
     "output_type": "stream",
     "text": [
      "Note: The following floating-point exceptions are signalling: IEEE_INVALID_FLAG IEEE_UNDERFLOW_FLAG IEEE_DENORMAL\n",
      "STOP  LBLRTM EXIT \n",
      "0.87user 0.72system 0:01.69elapsed 94%CPU (0avgtext+0avgdata 7792maxresident)k\n",
      "0inputs+0outputs (0major+1237minor)pagefaults 0swaps\n"
     ]
    },
    {
     "name": "stdout",
     "output_type": "stream",
     "text": [
      "1111626\n",
      "humidity: 50.0\n",
      " pressure: 10000.0\n",
      " temperature: 300.0\n",
      " lat: 32.78000000000001\n",
      " elevation: 2.797999999999601\n",
      " freqmin(cm-1): 11098.779134295226\n",
      " freqmax(cm-1): 14265.33523537803\n",
      " angle: 27.82399986133828\n",
      "\n",
      "\n",
      "Running exec: lblrtm\n",
      "\n",
      "\n"
     ]
    },
    {
     "name": "stderr",
     "output_type": "stream",
     "text": [
      "Note: The following floating-point exceptions are signalling: IEEE_INVALID_FLAG IEEE_UNDERFLOW_FLAG IEEE_DENORMAL\n",
      "STOP  LBLRTM EXIT \n",
      "2.15user 0.79system 0:03.14elapsed 93%CPU (0avgtext+0avgdata 7748maxresident)k\n",
      "0inputs+0outputs (0major+1234minor)pagefaults 0swaps\n"
     ]
    },
    {
     "name": "stdout",
     "output_type": "stream",
     "text": [
      "\n",
      "Running exec: lblrtm\n",
      "\n",
      "\n"
     ]
    },
    {
     "name": "stderr",
     "output_type": "stream",
     "text": [
      "Note: The following floating-point exceptions are signalling: IEEE_INVALID_FLAG IEEE_UNDERFLOW_FLAG IEEE_DENORMAL\n",
      "STOP  LBLRTM EXIT \n",
      "0.89user 0.71system 0:01.70elapsed 94%CPU (0avgtext+0avgdata 7684maxresident)k\n",
      "0inputs+0outputs (0major+1237minor)pagefaults 0swaps\n"
     ]
    },
    {
     "name": "stdout",
     "output_type": "stream",
     "text": [
      "1143628\n",
      "humidity: 50.0\n",
      " pressure: 10000.0\n",
      " temperature: 300.0\n",
      " lat: 32.78000000000001\n",
      " elevation: 2.797999999999601\n",
      " freqmin(cm-1): 11098.779134295226\n",
      " freqmax(cm-1): 14265.33523537803\n",
      " angle: 32.81380139483823\n",
      "\n",
      "\n",
      "Running exec: lblrtm\n",
      "\n",
      "\n"
     ]
    },
    {
     "name": "stderr",
     "output_type": "stream",
     "text": [
      "Note: The following floating-point exceptions are signalling: IEEE_INVALID_FLAG IEEE_UNDERFLOW_FLAG IEEE_DENORMAL\n",
      "STOP  LBLRTM EXIT \n",
      "2.15user 0.79system 0:03.19elapsed 92%CPU (0avgtext+0avgdata 7560maxresident)k\n",
      "0inputs+0outputs (0major+1233minor)pagefaults 0swaps\n"
     ]
    },
    {
     "name": "stdout",
     "output_type": "stream",
     "text": [
      "\n",
      "Running exec: lblrtm\n",
      "\n",
      "\n"
     ]
    },
    {
     "name": "stderr",
     "output_type": "stream",
     "text": [
      "Note: The following floating-point exceptions are signalling: IEEE_INVALID_FLAG IEEE_UNDERFLOW_FLAG IEEE_DENORMAL\n",
      "STOP  LBLRTM EXIT \n",
      "0.90user 0.71system 0:01.72elapsed 94%CPU (0avgtext+0avgdata 7520maxresident)k\n",
      "0inputs+0outputs (0major+1233minor)pagefaults 0swaps\n"
     ]
    },
    {
     "name": "stdout",
     "output_type": "stream",
     "text": [
      "1143628\n",
      "humidity: 50.0\n",
      " pressure: 10000.0\n",
      " temperature: 300.0\n",
      " lat: 32.78000000000001\n",
      " elevation: 2.797999999999601\n",
      " freqmin(cm-1): 11098.779134295226\n",
      " freqmax(cm-1): 14265.33523537803\n",
      " angle: 5.685228205863384\n",
      "\n",
      "\n",
      "Running exec: lblrtm\n",
      "\n",
      "\n"
     ]
    },
    {
     "name": "stderr",
     "output_type": "stream",
     "text": [
      "Note: The following floating-point exceptions are signalling: IEEE_INVALID_FLAG IEEE_UNDERFLOW_FLAG IEEE_DENORMAL\n",
      "STOP  LBLRTM EXIT \n",
      "2.13user 0.82system 0:03.15elapsed 93%CPU (0avgtext+0avgdata 7732maxresident)k\n",
      "0inputs+0outputs (0major+1236minor)pagefaults 0swaps\n"
     ]
    },
    {
     "name": "stdout",
     "output_type": "stream",
     "text": [
      "\n",
      "Running exec: lblrtm\n",
      "\n",
      "\n"
     ]
    },
    {
     "name": "stderr",
     "output_type": "stream",
     "text": [
      "Note: The following floating-point exceptions are signalling: IEEE_INVALID_FLAG IEEE_UNDERFLOW_FLAG IEEE_DENORMAL\n",
      "STOP  LBLRTM EXIT \n",
      "0.90user 0.70system 0:01.70elapsed 94%CPU (0avgtext+0avgdata 7640maxresident)k\n",
      "0inputs+0outputs (0major+1235minor)pagefaults 0swaps\n"
     ]
    },
    {
     "name": "stdout",
     "output_type": "stream",
     "text": [
      "1143628\n",
      "humidity: 50.0\n",
      " pressure: 10000.0\n",
      " temperature: 300.0\n",
      " lat: 32.78000000000001\n",
      " elevation: 2.797999999999601\n",
      " freqmin(cm-1): 11098.779134295226\n",
      " freqmax(cm-1): 14265.33523537803\n",
      " angle: 50.422615509223334\n",
      "\n",
      "\n",
      "Running exec: lblrtm\n",
      "\n",
      "\n"
     ]
    },
    {
     "name": "stderr",
     "output_type": "stream",
     "text": [
      "Note: The following floating-point exceptions are signalling: IEEE_INVALID_FLAG IEEE_UNDERFLOW_FLAG IEEE_DENORMAL\n",
      "STOP  LBLRTM EXIT \n",
      "2.14user 0.84system 0:03.15elapsed 94%CPU (0avgtext+0avgdata 7684maxresident)k\n",
      "0inputs+0outputs (0major+1238minor)pagefaults 0swaps\n"
     ]
    },
    {
     "name": "stdout",
     "output_type": "stream",
     "text": [
      "\n",
      "Running exec: lblrtm\n",
      "\n",
      "\n"
     ]
    },
    {
     "name": "stderr",
     "output_type": "stream",
     "text": [
      "Note: The following floating-point exceptions are signalling: IEEE_INVALID_FLAG IEEE_UNDERFLOW_FLAG IEEE_DENORMAL\n",
      "STOP  LBLRTM EXIT \n",
      "0.91user 0.70system 0:01.71elapsed 94%CPU (0avgtext+0avgdata 7720maxresident)k\n",
      "0inputs+0outputs (0major+1234minor)pagefaults 0swaps\n"
     ]
    },
    {
     "name": "stdout",
     "output_type": "stream",
     "text": [
      "1143628\n",
      "humidity: 50.0\n",
      " pressure: 10000.0\n",
      " temperature: 300.0\n",
      " lat: 32.78000000000001\n",
      " elevation: 2.797999999999601\n",
      " freqmin(cm-1): 11098.779134295226\n",
      " freqmax(cm-1): 14265.33523537803\n",
      " angle: 66.89041188034572\n",
      "\n",
      "\n",
      "Running exec: lblrtm\n",
      "\n",
      "\n"
     ]
    },
    {
     "name": "stderr",
     "output_type": "stream",
     "text": [
      "Note: The following floating-point exceptions are signalling: IEEE_INVALID_FLAG IEEE_UNDERFLOW_FLAG IEEE_DENORMAL\n",
      "STOP  LBLRTM EXIT \n",
      "2.16user 0.81system 0:03.13elapsed 95%CPU (0avgtext+0avgdata 7752maxresident)k\n",
      "0inputs+0outputs (0major+1237minor)pagefaults 0swaps\n"
     ]
    },
    {
     "name": "stdout",
     "output_type": "stream",
     "text": [
      "\n",
      "Running exec: lblrtm\n",
      "\n",
      "\n"
     ]
    },
    {
     "name": "stderr",
     "output_type": "stream",
     "text": [
      "Note: The following floating-point exceptions are signalling: IEEE_INVALID_FLAG IEEE_UNDERFLOW_FLAG IEEE_DENORMAL\n",
      "STOP  LBLRTM EXIT \n",
      "0.94user 0.67system 0:01.71elapsed 94%CPU (0avgtext+0avgdata 7684maxresident)k\n",
      "0inputs+0outputs (0major+1237minor)pagefaults 0swaps\n"
     ]
    },
    {
     "name": "stdout",
     "output_type": "stream",
     "text": [
      "1143628\n",
      "humidity: 50.0\n",
      " pressure: 10000.0\n",
      " temperature: 300.0\n",
      " lat: 32.78000000000001\n",
      " elevation: 2.797999999999601\n",
      " freqmin(cm-1): 11098.779134295226\n",
      " freqmax(cm-1): 14265.33523537803\n",
      " angle: 65.6425420077903\n",
      "\n",
      "\n",
      "Running exec: lblrtm\n",
      "\n",
      "\n"
     ]
    },
    {
     "name": "stderr",
     "output_type": "stream",
     "text": [
      "Note: The following floating-point exceptions are signalling: IEEE_INVALID_FLAG IEEE_UNDERFLOW_FLAG IEEE_DENORMAL\n",
      "STOP  LBLRTM EXIT \n",
      "2.15user 0.83system 0:03.19elapsed 93%CPU (0avgtext+0avgdata 7676maxresident)k\n",
      "0inputs+0outputs (0major+1233minor)pagefaults 0swaps\n"
     ]
    },
    {
     "name": "stdout",
     "output_type": "stream",
     "text": [
      "\n",
      "Running exec: lblrtm\n",
      "\n",
      "\n"
     ]
    },
    {
     "name": "stderr",
     "output_type": "stream",
     "text": [
      "Note: The following floating-point exceptions are signalling: IEEE_INVALID_FLAG IEEE_UNDERFLOW_FLAG IEEE_DENORMAL\n",
      "STOP  LBLRTM EXIT \n",
      "0.91user 0.70system 0:01.74elapsed 92%CPU (0avgtext+0avgdata 7688maxresident)k\n",
      "0inputs+0outputs (0major+1237minor)pagefaults 0swaps\n"
     ]
    },
    {
     "name": "stdout",
     "output_type": "stream",
     "text": [
      "1143628\n",
      "humidity: 50.0\n",
      " pressure: 10000.0\n",
      " temperature: 300.0\n",
      " lat: 32.78000000000001\n",
      " elevation: 2.797999999999601\n",
      " freqmin(cm-1): 11098.779134295226\n",
      " freqmax(cm-1): 14265.33523537803\n",
      " angle: 4.244341434002005\n",
      "\n",
      "\n",
      "Running exec: lblrtm\n",
      "\n",
      "\n"
     ]
    },
    {
     "name": "stderr",
     "output_type": "stream",
     "text": [
      "Note: The following floating-point exceptions are signalling: IEEE_INVALID_FLAG IEEE_UNDERFLOW_FLAG IEEE_DENORMAL\n",
      "STOP  LBLRTM EXIT \n",
      "2.12user 0.85system 0:03.22elapsed 92%CPU (0avgtext+0avgdata 7732maxresident)k\n",
      "0inputs+0outputs (0major+1236minor)pagefaults 0swaps\n"
     ]
    },
    {
     "name": "stdout",
     "output_type": "stream",
     "text": [
      "\n",
      "Running exec: lblrtm\n",
      "\n",
      "\n"
     ]
    },
    {
     "name": "stderr",
     "output_type": "stream",
     "text": [
      "Note: The following floating-point exceptions are signalling: IEEE_INVALID_FLAG IEEE_UNDERFLOW_FLAG IEEE_DENORMAL\n",
      "STOP  LBLRTM EXIT \n",
      "0.91user 0.71system 0:01.72elapsed 94%CPU (0avgtext+0avgdata 7732maxresident)k\n",
      "0inputs+0outputs (0major+1237minor)pagefaults 0swaps\n"
     ]
    },
    {
     "name": "stdout",
     "output_type": "stream",
     "text": [
      "1143628\n",
      "humidity: 50.0\n",
      " pressure: 10000.0\n",
      " temperature: 300.0\n",
      " lat: 32.78000000000001\n",
      " elevation: 2.797999999999601\n",
      " freqmin(cm-1): 11098.779134295226\n",
      " freqmax(cm-1): 14265.33523537803\n",
      " angle: 25.73402125733466\n",
      "\n",
      "\n",
      "Running exec: lblrtm\n",
      "\n",
      "\n"
     ]
    },
    {
     "name": "stderr",
     "output_type": "stream",
     "text": [
      "Note: The following floating-point exceptions are signalling: IEEE_INVALID_FLAG IEEE_UNDERFLOW_FLAG IEEE_DENORMAL\n",
      "STOP  LBLRTM EXIT \n",
      "2.10user 0.85system 0:03.16elapsed 93%CPU (0avgtext+0avgdata 7684maxresident)k\n",
      "0inputs+0outputs (0major+1238minor)pagefaults 0swaps\n"
     ]
    },
    {
     "name": "stdout",
     "output_type": "stream",
     "text": [
      "\n",
      "Running exec: lblrtm\n",
      "\n",
      "\n"
     ]
    },
    {
     "name": "stderr",
     "output_type": "stream",
     "text": [
      "Note: The following floating-point exceptions are signalling: IEEE_INVALID_FLAG IEEE_UNDERFLOW_FLAG IEEE_DENORMAL\n",
      "STOP  LBLRTM EXIT \n",
      "0.90user 0.73system 0:01.75elapsed 93%CPU (0avgtext+0avgdata 7752maxresident)k\n",
      "0inputs+0outputs (0major+1237minor)pagefaults 0swaps\n"
     ]
    },
    {
     "name": "stdout",
     "output_type": "stream",
     "text": [
      "1143628\n",
      "humidity: 50.0\n",
      " pressure: 10000.0\n",
      " temperature: 300.0\n",
      " lat: 32.78000000000001\n",
      " elevation: 2.797999999999601\n",
      " freqmin(cm-1): 11098.779134295226\n",
      " freqmax(cm-1): 14265.33523537803\n",
      " angle: 41.82411679419448\n",
      "\n",
      "\n",
      "Running exec: lblrtm\n",
      "\n",
      "\n"
     ]
    },
    {
     "name": "stderr",
     "output_type": "stream",
     "text": [
      "Note: The following floating-point exceptions are signalling: IEEE_INVALID_FLAG IEEE_UNDERFLOW_FLAG IEEE_DENORMAL\n",
      "STOP  LBLRTM EXIT \n",
      "2.14user 0.82system 0:03.18elapsed 93%CPU (0avgtext+0avgdata 7720maxresident)k\n",
      "0inputs+0outputs (0major+1234minor)pagefaults 0swaps\n"
     ]
    },
    {
     "name": "stdout",
     "output_type": "stream",
     "text": [
      "\n",
      "Running exec: lblrtm\n",
      "\n",
      "\n"
     ]
    },
    {
     "name": "stderr",
     "output_type": "stream",
     "text": [
      "Note: The following floating-point exceptions are signalling: IEEE_INVALID_FLAG IEEE_UNDERFLOW_FLAG IEEE_DENORMAL\n",
      "STOP  LBLRTM EXIT \n",
      "0.92user 0.68system 0:01.71elapsed 94%CPU (0avgtext+0avgdata 7676maxresident)k\n",
      "0inputs+0outputs (0major+1233minor)pagefaults 0swaps\n"
     ]
    },
    {
     "name": "stdout",
     "output_type": "stream",
     "text": [
      "1143628\n",
      "humidity: 50.0\n",
      " pressure: 10000.0\n",
      " temperature: 300.0\n",
      " lat: 32.78000000000001\n",
      " elevation: 2.797999999999601\n",
      " freqmin(cm-1): 11098.779134295226\n",
      " freqmax(cm-1): 14265.33523537803\n",
      " angle: 19.147041951230698\n",
      "\n",
      "\n",
      "Running exec: lblrtm\n",
      "\n",
      "\n"
     ]
    },
    {
     "name": "stderr",
     "output_type": "stream",
     "text": [
      "Note: The following floating-point exceptions are signalling: IEEE_INVALID_FLAG IEEE_UNDERFLOW_FLAG IEEE_DENORMAL\n",
      "STOP  LBLRTM EXIT \n",
      "2.13user 0.82system 0:03.19elapsed 92%CPU (0avgtext+0avgdata 7712maxresident)k\n",
      "0inputs+0outputs (0major+1236minor)pagefaults 0swaps\n"
     ]
    },
    {
     "name": "stdout",
     "output_type": "stream",
     "text": [
      "\n",
      "Running exec: lblrtm\n",
      "\n",
      "\n"
     ]
    },
    {
     "name": "stderr",
     "output_type": "stream",
     "text": [
      "Note: The following floating-point exceptions are signalling: IEEE_INVALID_FLAG IEEE_UNDERFLOW_FLAG IEEE_DENORMAL\n",
      "STOP  LBLRTM EXIT \n",
      "0.90user 0.71system 0:01.70elapsed 94%CPU (0avgtext+0avgdata 7792maxresident)k\n",
      "0inputs+0outputs (0major+1238minor)pagefaults 0swaps\n"
     ]
    },
    {
     "name": "stdout",
     "output_type": "stream",
     "text": [
      "1143628\n",
      "humidity: 50.0\n",
      " pressure: 10000.0\n",
      " temperature: 300.0\n",
      " lat: 32.78000000000001\n",
      " elevation: 2.797999999999601\n",
      " freqmin(cm-1): 11098.779134295226\n",
      " freqmax(cm-1): 14265.33523537803\n",
      " angle: 38.23670948006227\n",
      "\n",
      "\n",
      "Running exec: lblrtm\n",
      "\n",
      "\n"
     ]
    },
    {
     "name": "stderr",
     "output_type": "stream",
     "text": [
      "Note: The following floating-point exceptions are signalling: IEEE_INVALID_FLAG IEEE_UNDERFLOW_FLAG IEEE_DENORMAL\n",
      "STOP  LBLRTM EXIT \n",
      "2.16user 0.78system 0:03.18elapsed 92%CPU (0avgtext+0avgdata 7792maxresident)k\n",
      "0inputs+0outputs (0major+1237minor)pagefaults 0swaps\n"
     ]
    },
    {
     "name": "stdout",
     "output_type": "stream",
     "text": [
      "\n",
      "Running exec: lblrtm\n",
      "\n",
      "\n"
     ]
    },
    {
     "name": "stderr",
     "output_type": "stream",
     "text": [
      "Note: The following floating-point exceptions are signalling: IEEE_INVALID_FLAG IEEE_UNDERFLOW_FLAG IEEE_DENORMAL\n",
      "STOP  LBLRTM EXIT \n",
      "0.91user 0.70system 0:01.74elapsed 93%CPU (0avgtext+0avgdata 7632maxresident)k\n",
      "0inputs+0outputs (0major+1236minor)pagefaults 0swaps\n"
     ]
    },
    {
     "name": "stdout",
     "output_type": "stream",
     "text": [
      "1143628\n",
      "humidity: 50.0\n",
      " pressure: 10000.0\n",
      " temperature: 300.0\n",
      " lat: 32.78000000000001\n",
      " elevation: 2.797999999999601\n",
      " freqmin(cm-1): 11098.779134295226\n",
      " freqmax(cm-1): 14265.33523537803\n",
      " angle: 47.73236591064268\n",
      "\n",
      "\n",
      "Running exec: lblrtm\n",
      "\n",
      "\n"
     ]
    },
    {
     "name": "stderr",
     "output_type": "stream",
     "text": [
      "Note: The following floating-point exceptions are signalling: IEEE_INVALID_FLAG IEEE_UNDERFLOW_FLAG IEEE_DENORMAL\n",
      "STOP  LBLRTM EXIT \n",
      "2.17user 0.80system 0:03.23elapsed 91%CPU (0avgtext+0avgdata 7628maxresident)k\n",
      "0inputs+0outputs (0major+1233minor)pagefaults 0swaps\n"
     ]
    },
    {
     "name": "stdout",
     "output_type": "stream",
     "text": [
      "\n",
      "Running exec: lblrtm\n",
      "\n",
      "\n"
     ]
    },
    {
     "name": "stderr",
     "output_type": "stream",
     "text": [
      "Note: The following floating-point exceptions are signalling: IEEE_INVALID_FLAG IEEE_UNDERFLOW_FLAG IEEE_DENORMAL\n",
      "STOP  LBLRTM EXIT \n",
      "0.92user 0.71system 0:01.71elapsed 95%CPU (0avgtext+0avgdata 7624maxresident)k\n",
      "0inputs+0outputs (0major+1234minor)pagefaults 0swaps\n"
     ]
    },
    {
     "name": "stdout",
     "output_type": "stream",
     "text": [
      "1143628\n",
      "humidity: 50.0\n",
      " pressure: 10000.0\n",
      " temperature: 300.0\n",
      " lat: 32.78000000000001\n",
      " elevation: 2.797999999999601\n",
      " freqmin(cm-1): 11098.779134295226\n",
      " freqmax(cm-1): 14265.33523537803\n",
      " angle: 42.79961082627774\n",
      "\n",
      "\n",
      "Running exec: lblrtm\n",
      "\n",
      "\n"
     ]
    },
    {
     "name": "stderr",
     "output_type": "stream",
     "text": [
      "Note: The following floating-point exceptions are signalling: IEEE_INVALID_FLAG IEEE_UNDERFLOW_FLAG IEEE_DENORMAL\n",
      "STOP  LBLRTM EXIT \n",
      "2.11user 0.86system 0:03.18elapsed 93%CPU (0avgtext+0avgdata 7752maxresident)k\n",
      "0inputs+0outputs (0major+1237minor)pagefaults 0swaps\n"
     ]
    },
    {
     "name": "stdout",
     "output_type": "stream",
     "text": [
      "\n",
      "Running exec: lblrtm\n",
      "\n",
      "\n"
     ]
    },
    {
     "name": "stderr",
     "output_type": "stream",
     "text": [
      "Note: The following floating-point exceptions are signalling: IEEE_INVALID_FLAG IEEE_UNDERFLOW_FLAG IEEE_DENORMAL\n",
      "STOP  LBLRTM EXIT \n",
      "0.94user 0.68system 0:01.71elapsed 94%CPU (0avgtext+0avgdata 7636maxresident)k\n",
      "0inputs+0outputs (0major+1235minor)pagefaults 0swaps\n"
     ]
    },
    {
     "name": "stdout",
     "output_type": "stream",
     "text": [
      "1143628\n",
      "humidity: 50.0\n",
      " pressure: 10000.0\n",
      " temperature: 300.0\n",
      " lat: 32.78000000000001\n",
      " elevation: 2.797999999999601\n",
      " freqmin(cm-1): 11098.779134295226\n",
      " freqmax(cm-1): 14265.33523537803\n",
      " angle: 44.62927519288961\n",
      "\n",
      "\n",
      "Running exec: lblrtm\n",
      "\n",
      "\n"
     ]
    },
    {
     "name": "stderr",
     "output_type": "stream",
     "text": [
      "Note: The following floating-point exceptions are signalling: IEEE_INVALID_FLAG IEEE_UNDERFLOW_FLAG IEEE_DENORMAL\n",
      "STOP  LBLRTM EXIT \n",
      "2.13user 0.81system 0:03.14elapsed 93%CPU (0avgtext+0avgdata 7564maxresident)k\n",
      "0inputs+0outputs (0major+1233minor)pagefaults 0swaps\n"
     ]
    },
    {
     "name": "stdout",
     "output_type": "stream",
     "text": [
      "\n",
      "Running exec: lblrtm\n",
      "\n",
      "\n"
     ]
    },
    {
     "name": "stderr",
     "output_type": "stream",
     "text": [
      "Note: The following floating-point exceptions are signalling: IEEE_INVALID_FLAG IEEE_UNDERFLOW_FLAG IEEE_DENORMAL\n",
      "STOP  LBLRTM EXIT \n",
      "0.91user 0.70system 0:01.71elapsed 94%CPU (0avgtext+0avgdata 7624maxresident)k\n",
      "0inputs+0outputs (0major+1233minor)pagefaults 0swaps\n"
     ]
    },
    {
     "name": "stdout",
     "output_type": "stream",
     "text": [
      "1143628\n",
      "humidity: 50.0\n",
      " pressure: 10000.0\n",
      " temperature: 300.0\n",
      " lat: 32.78000000000001\n",
      " elevation: 2.797999999999601\n",
      " freqmin(cm-1): 11098.779134295226\n",
      " freqmax(cm-1): 14265.33523537803\n",
      " angle: 31.567632273477905\n",
      "\n",
      "\n",
      "Running exec: lblrtm\n",
      "\n",
      "\n"
     ]
    },
    {
     "name": "stderr",
     "output_type": "stream",
     "text": [
      "Note: The following floating-point exceptions are signalling: IEEE_INVALID_FLAG IEEE_UNDERFLOW_FLAG IEEE_DENORMAL\n",
      "STOP  LBLRTM EXIT \n",
      "2.15user 0.79system 0:03.16elapsed 93%CPU (0avgtext+0avgdata 7708maxresident)k\n",
      "0inputs+0outputs (0major+1237minor)pagefaults 0swaps\n"
     ]
    },
    {
     "name": "stdout",
     "output_type": "stream",
     "text": [
      "\n",
      "Running exec: lblrtm\n",
      "\n",
      "\n"
     ]
    },
    {
     "name": "stderr",
     "output_type": "stream",
     "text": [
      "Note: The following floating-point exceptions are signalling: IEEE_INVALID_FLAG IEEE_UNDERFLOW_FLAG IEEE_DENORMAL\n",
      "STOP  LBLRTM EXIT \n",
      "0.93user 0.71system 0:01.71elapsed 95%CPU (0avgtext+0avgdata 7732maxresident)k\n",
      "0inputs+0outputs (0major+1236minor)pagefaults 0swaps\n"
     ]
    },
    {
     "name": "stdout",
     "output_type": "stream",
     "text": [
      "1143628\n",
      "humidity: 50.0\n",
      " pressure: 10000.0\n",
      " temperature: 300.0\n",
      " lat: 32.78000000000001\n",
      " elevation: 2.797999999999601\n",
      " freqmin(cm-1): 11098.779134295226\n",
      " freqmax(cm-1): 14265.33523537803\n",
      " angle: 44.219986042892295\n",
      "\n",
      "\n",
      "Running exec: lblrtm\n",
      "\n",
      "\n"
     ]
    },
    {
     "name": "stderr",
     "output_type": "stream",
     "text": [
      "Note: The following floating-point exceptions are signalling: IEEE_INVALID_FLAG IEEE_UNDERFLOW_FLAG IEEE_DENORMAL\n",
      "STOP  LBLRTM EXIT \n",
      "2.17user 0.80system 0:03.13elapsed 94%CPU (0avgtext+0avgdata 7684maxresident)k\n",
      "0inputs+0outputs (0major+1238minor)pagefaults 0swaps\n"
     ]
    },
    {
     "name": "stdout",
     "output_type": "stream",
     "text": [
      "\n",
      "Running exec: lblrtm\n",
      "\n",
      "\n"
     ]
    },
    {
     "name": "stderr",
     "output_type": "stream",
     "text": [
      "Note: The following floating-point exceptions are signalling: IEEE_INVALID_FLAG IEEE_UNDERFLOW_FLAG IEEE_DENORMAL\n",
      "STOP  LBLRTM EXIT \n",
      "0.92user 0.70system 0:01.74elapsed 92%CPU (0avgtext+0avgdata 7672maxresident)k\n",
      "0inputs+0outputs (0major+1234minor)pagefaults 0swaps\n"
     ]
    },
    {
     "name": "stdout",
     "output_type": "stream",
     "text": [
      "1143628\n",
      "humidity: 50.0\n",
      " pressure: 10000.0\n",
      " temperature: 300.0\n",
      " lat: 32.78000000000001\n",
      " elevation: 2.797999999999601\n",
      " freqmin(cm-1): 11098.779134295226\n",
      " freqmax(cm-1): 14265.33523537803\n",
      " angle: 55.209073951412215\n",
      "\n",
      "\n",
      "Running exec: lblrtm\n",
      "\n",
      "\n"
     ]
    },
    {
     "name": "stderr",
     "output_type": "stream",
     "text": [
      "Note: The following floating-point exceptions are signalling: IEEE_INVALID_FLAG IEEE_UNDERFLOW_FLAG IEEE_DENORMAL\n",
      "STOP  LBLRTM EXIT \n",
      "2.05user 0.85system 0:03.08elapsed 94%CPU (0avgtext+0avgdata 7732maxresident)k\n",
      "0inputs+0outputs (0major+1237minor)pagefaults 0swaps\n"
     ]
    },
    {
     "name": "stdout",
     "output_type": "stream",
     "text": [
      "\n",
      "Running exec: lblrtm\n",
      "\n",
      "\n"
     ]
    },
    {
     "name": "stderr",
     "output_type": "stream",
     "text": [
      "Note: The following floating-point exceptions are signalling: IEEE_INVALID_FLAG IEEE_UNDERFLOW_FLAG IEEE_DENORMAL\n",
      "STOP  LBLRTM EXIT \n",
      "0.92user 0.74system 0:01.77elapsed 94%CPU (0avgtext+0avgdata 7556maxresident)k\n",
      "0inputs+0outputs (0major+1233minor)pagefaults 0swaps\n"
     ]
    },
    {
     "name": "stdout",
     "output_type": "stream",
     "text": [
      "1127403\n",
      "humidity: 50.0\n",
      " pressure: 10000.0\n",
      " temperature: 300.0\n",
      " lat: 32.78000000000001\n",
      " elevation: 2.797999999999601\n",
      " freqmin(cm-1): 11098.779134295226\n",
      " freqmax(cm-1): 14265.33523537803\n",
      " angle: 16.046253531664348\n",
      "\n",
      "\n",
      "Running exec: lblrtm\n",
      "\n",
      "\n"
     ]
    },
    {
     "name": "stderr",
     "output_type": "stream",
     "text": [
      "Note: The following floating-point exceptions are signalling: IEEE_INVALID_FLAG IEEE_UNDERFLOW_FLAG IEEE_DENORMAL\n",
      "STOP  LBLRTM EXIT \n",
      "2.15user 0.82system 0:03.09elapsed 95%CPU (0avgtext+0avgdata 7672maxresident)k\n",
      "0inputs+0outputs (0major+1234minor)pagefaults 0swaps\n"
     ]
    },
    {
     "name": "stdout",
     "output_type": "stream",
     "text": [
      "\n",
      "Running exec: lblrtm\n",
      "\n",
      "\n"
     ]
    },
    {
     "name": "stderr",
     "output_type": "stream",
     "text": [
      "Note: The following floating-point exceptions are signalling: IEEE_INVALID_FLAG IEEE_UNDERFLOW_FLAG IEEE_DENORMAL\n",
      "STOP  LBLRTM EXIT \n",
      "0.91user 0.69system 0:01.76elapsed 91%CPU (0avgtext+0avgdata 7672maxresident)k\n",
      "0inputs+0outputs (0major+1236minor)pagefaults 0swaps\n"
     ]
    },
    {
     "name": "stdout",
     "output_type": "stream",
     "text": [
      "1143628\n",
      "humidity: 50.0\n",
      " pressure: 10000.0\n",
      " temperature: 300.0\n",
      " lat: 32.78000000000001\n",
      " elevation: 2.797999999999601\n",
      " freqmin(cm-1): 11098.779134295226\n",
      " freqmax(cm-1): 14265.33523537803\n",
      " angle: 70.36083125348077\n",
      "\n",
      "\n",
      "Running exec: lblrtm\n",
      "\n",
      "\n"
     ]
    },
    {
     "name": "stderr",
     "output_type": "stream",
     "text": [
      "Note: The following floating-point exceptions are signalling: IEEE_INVALID_FLAG IEEE_UNDERFLOW_FLAG IEEE_DENORMAL\n",
      "STOP  LBLRTM EXIT \n",
      "2.17user 0.80system 0:03.16elapsed 94%CPU (0avgtext+0avgdata 7720maxresident)k\n",
      "0inputs+0outputs (0major+1237minor)pagefaults 0swaps\n"
     ]
    },
    {
     "name": "stdout",
     "output_type": "stream",
     "text": [
      "\n",
      "Running exec: lblrtm\n",
      "\n",
      "\n"
     ]
    },
    {
     "name": "stderr",
     "output_type": "stream",
     "text": [
      "Note: The following floating-point exceptions are signalling: IEEE_INVALID_FLAG IEEE_UNDERFLOW_FLAG IEEE_DENORMAL\n",
      "STOP  LBLRTM EXIT \n",
      "0.93user 0.70system 0:01.75elapsed 93%CPU (0avgtext+0avgdata 7680maxresident)k\n",
      "0inputs+0outputs (0major+1237minor)pagefaults 0swaps\n"
     ]
    },
    {
     "name": "stdout",
     "output_type": "stream",
     "text": [
      "1143628\n",
      "humidity: 50.0\n",
      " pressure: 10000.0\n",
      " temperature: 300.0\n",
      " lat: 32.78000000000001\n",
      " elevation: 2.797999999999601\n",
      " freqmin(cm-1): 11098.779134295226\n",
      " freqmax(cm-1): 14265.33523537803\n",
      " angle: 5.621114858253093\n",
      "\n",
      "\n",
      "Running exec: lblrtm\n",
      "\n",
      "\n"
     ]
    },
    {
     "name": "stderr",
     "output_type": "stream",
     "text": [
      "Note: The following floating-point exceptions are signalling: IEEE_INVALID_FLAG IEEE_UNDERFLOW_FLAG IEEE_DENORMAL\n",
      "STOP  LBLRTM EXIT \n",
      "2.09user 0.85system 0:03.13elapsed 94%CPU (0avgtext+0avgdata 7732maxresident)k\n",
      "0inputs+0outputs (0major+1238minor)pagefaults 0swaps\n"
     ]
    },
    {
     "name": "stdout",
     "output_type": "stream",
     "text": [
      "\n",
      "Running exec: lblrtm\n",
      "\n",
      "\n"
     ]
    },
    {
     "name": "stderr",
     "output_type": "stream",
     "text": [
      "Note: The following floating-point exceptions are signalling: IEEE_INVALID_FLAG IEEE_UNDERFLOW_FLAG IEEE_DENORMAL\n",
      "STOP  LBLRTM EXIT \n",
      "0.89user 0.72system 0:01.74elapsed 92%CPU (0avgtext+0avgdata 7640maxresident)k\n",
      "0inputs+0outputs (0major+1236minor)pagefaults 0swaps\n"
     ]
    },
    {
     "name": "stdout",
     "output_type": "stream",
     "text": [
      "1143628\n",
      "<simulacra.tellurics.TelFitModel object at 0x145c0d5fc9b0> [1.6178939077349241e-06, 2.1907587743896784e-07, 2.1907587743896784e-07, 2.1907587743896784e-07, 2.1907587743896784e-07, 2.2146180711501984e-07, 2.2147022882279543e-07, 2.1907587743896784e-07, 2.1907587743896784e-07, 2.1907587743896784e-07, 2.2717149938955572e-07, 2.1907587743896784e-07, 2.1907587743896784e-07, 2.1907587743896784e-07, 2.1907587743896784e-07, 2.1907587743896784e-07, 2.1907587743896784e-07, 2.1907587743896784e-07, 2.1907587743896784e-07, 2.1907587743896784e-07, 2.1907587743896784e-07, 2.1907587743896784e-07, 2.1907587743896784e-07, 2.1907587743896784e-07, 2.1907587743896784e-07, 2.1907587743896784e-07, 2.1907587743896784e-07, 2.1996264365498064e-07, 2.1907587743896784e-07, 2.1907587743896784e-07, 2.1907587743896784e-07]\n",
      "interpolating spline...\n",
      "0\n",
      "1\n",
      "2\n",
      "3\n",
      "4\n",
      "5\n",
      "6\n",
      "7\n",
      "8\n",
      "9\n",
      "10\n",
      "11\n",
      "12\n",
      "13\n",
      "14\n",
      "15\n",
      "16\n",
      "17\n",
      "18\n",
      "19\n",
      "20\n",
      "21\n",
      "22\n",
      "23\n",
      "24\n",
      "25\n",
      "26\n",
      "27\n",
      "28\n",
      "29\n",
      "combining grids...\n",
      "convolving...\n",
      "0\n",
      "1\n",
      "2\n",
      "3\n",
      "4\n",
      "5\n",
      "6\n",
      "7\n",
      "8\n",
      "9\n",
      "10\n",
      "11\n",
      "12\n",
      "13\n",
      "14\n",
      "15\n",
      "16\n",
      "17\n",
      "18\n",
      "19\n",
      "20\n",
      "21\n",
      "22\n",
      "23\n",
      "24\n",
      "25\n",
      "26\n",
      "27\n",
      "28\n",
      "29\n",
      "xs: 7005.007110494636 9004.98956196525\n",
      "xhat: 7010.007110494628 8999.990639003297\n",
      "interpolating lanczos...\n",
      "0\n",
      "1\n",
      "2\n",
      "3\n",
      "4\n",
      "5\n",
      "6\n",
      "7\n",
      "8\n",
      "9\n",
      "10\n",
      "11\n",
      "12\n",
      "13\n",
      "14\n",
      "15\n",
      "16\n",
      "17\n",
      "18\n",
      "19\n",
      "20\n",
      "21\n",
      "22\n",
      "23\n",
      "24\n",
      "25\n",
      "26\n",
      "27\n",
      "28\n",
      "29\n",
      "area: 14.522012041218817 m2\t avg d lambda: 0.05688267575202005 Angstrom\t avg lambda: 7963.6042297997865 Angstrom\t avg exp times: 8.0 min\n",
      "0 n mean: 3.75e+04\t n median: 4.53e+04\n",
      "1 n mean: 4.25e+04\t n median: 4.63e+04\n",
      "2 n mean: 3.95e+04\t n median: 4.49e+04\n",
      "3 n mean: 4.25e+04\t n median: 4.63e+04\n",
      "4 n mean: 4.05e+04\t n median: 4.54e+04\n",
      "5 n mean: 3.78e+04\t n median: 4.33e+04\n",
      "6 n mean: 4.28e+04\t n median: 4.64e+04\n",
      "7 n mean: 4.31e+04\t n median: 4.65e+04\n",
      "8 n mean: 4.31e+04\t n median: 4.65e+04\n",
      "9 n mean: 4.25e+04\t n median: 4.63e+04\n",
      "10 n mean: 4.28e+04\t n median: 4.64e+04\n",
      "11 n mean: 4.27e+04\t n median: 4.63e+04\n",
      "12 n mean: 4.31e+04\t n median: 4.65e+04\n",
      "13 n mean: 4.19e+04\t n median: 4.60e+04\n",
      "14 n mean: 4.01e+04\t n median: 4.52e+04\n",
      "15 n mean: 4.05e+04\t n median: 4.55e+04\n",
      "16 n mean: 4.31e+04\t n median: 4.65e+04\n",
      "17 n mean: 4.28e+04\t n median: 4.64e+04\n",
      "18 n mean: 4.23e+04\t n median: 4.62e+04\n",
      "19 n mean: 4.30e+04\t n median: 4.64e+04\n",
      "20 n mean: 4.25e+04\t n median: 4.63e+04\n",
      "21 n mean: 4.20e+04\t n median: 4.61e+04\n",
      "22 n mean: 4.23e+04\t n median: 4.62e+04\n",
      "23 n mean: 4.22e+04\t n median: 4.62e+04\n",
      "24 n mean: 4.27e+04\t n median: 4.63e+04\n",
      "25 n mean: 4.22e+04\t n median: 4.62e+04\n",
      "26 n mean: 3.75e+04\t n median: 4.63e+04\n",
      "27 n mean: 4.30e+04\t n median: 4.65e+04\n",
      "28 n mean: 3.92e+04\t n median: 4.48e+04\n",
      "29 n mean: 4.31e+04\t n median: 4.65e+04\n",
      "generating true signal to noise ratios...\n",
      "adding noise...\n",
      "generating exp signal to noise ratios...\n"
     ]
    },
    {
     "name": "stderr",
     "output_type": "stream",
     "text": [
      "../simulacra/detector.py:529: RuntimeWarning: invalid value encountered in add_noise_v\n",
      "  n_readout = add_noise_v(n_exp.flatten().value,snr_grid.flatten()).reshape(out_shape)\n"
     ]
    },
    {
     "name": "stdout",
     "output_type": "stream",
     "text": [
      "generating errors...\n",
      "done.\n",
      "/scratch/mdd423/simulacra/out/2021-11-02/data_e30_R70000.0_a2000.0_p40.3_l7.0e+039.0e+03_ep1.0_w0.0_snr2.0e+02_tp3e-07\n",
      "saving time\n",
      "quantity\n",
      "epoches  saving as string\n",
      "quantity\n",
      "quantity\n",
      "quantity\n",
      "quantity\n",
      "quantity\n"
     ]
    },
    {
     "name": "stderr",
     "output_type": "stream",
     "text": [
      "../simulacra/detector.py:541: RuntimeWarning: invalid value encountered in generate_errors_v\n",
      "  nerr_out = generate_errors_v(n_readout.flatten(),snr_readout.flatten()).reshape(out_shape)\n"
     ]
    },
    {
     "name": "stdout",
     "output_type": "stream",
     "text": [
      "quantity\n",
      "quantity\n",
      "flux  saving as string\n",
      "wave  saving as string\n",
      "quantity\n",
      "quantity\n",
      "quantity\n",
      "alpha  saving as string\n",
      "quantity\n",
      "quantity\n",
      "fluxname  saving as string\n",
      "generate_spectra  saving as string\n",
      "quantity\n",
      "quantity\n",
      "logg  saving as string\n",
      "outdir  saving as string\n",
      "quantity\n",
      "plot  saving as string\n",
      "plot_interpolated  saving as string\n",
      "quantity\n",
      "quantity\n",
      "saving target...340.28129510273834 deg 28.43612929851907 deg\n",
      "temperature  saving as string\n",
      "quantity\n",
      "quantity\n",
      "wavename  saving as string\n",
      "quantity\n",
      "z  saving as string\n",
      "quantity\n",
      "quantity\n",
      "quantity\n",
      "quantity\n",
      "a  saving as string\n",
      "add_model  saving as string\n",
      "quantity\n",
      "checkmax  saving as string\n",
      "checkmin  saving as string\n",
      "quantity\n",
      "epsilon  saving as string\n",
      "gamma  saving as string\n",
      "quantity\n",
      "quantity\n",
      "quantity\n",
      "lsf_centering  saving as string\n",
      "lsf_const_coeffs  saving as string\n",
      "resolution  saving as string\n",
      "sigma  saving as string\n",
      "sigma_range  saving as string\n",
      "simulate  saving as string\n",
      "stellar_model  saving as string\n",
      "through_put  saving as string\n",
      "transmission_cutoff  saving as string\n",
      "transmission_models  saving as string\n",
      "w  saving as string\n",
      "quantity\n",
      "quantity\n",
      "quantity\n",
      "_epoches  saving as string\n",
      "quantity\n",
      "quantity\n",
      "_name  saving as string\n",
      "quantity\n",
      "quantity\n",
      "check_property  saving as string\n",
      "check_shape_type  saving as string\n",
      "epoches  saving as string\n",
      "generate_transmission  saving as string\n",
      "quantity\n",
      "quantity\n",
      "quantity\n",
      "plot  saving as string\n",
      "plot_interpolated  saving as string\n",
      "quantity\n",
      "quantity\n",
      "quantity\n",
      "nan nan\n",
      "using saved wave file\n",
      "../data/stellar/PHOENIX/lte04800-1.00-1.0.Alpha=+0.40.PHOENIX-ACES-AGSS-COND-2011-HiRes.fits\n",
      "using saved flux file\n",
      "reading in ../data/stellar/PHOENIX/WAVE_PHOENIX-ACES-AGSS-COND-2011.fits\n",
      "wave_grid min -> 701.0 nm\n",
      "surface flux: mean 1.31e+14 erg / (cm3 s)\t median 1.14e+14 erg / (cm3 s)\n",
      "obs     flux: mean 1.51e-01 erg / (cm3 s)\t median 1.31e-01 erg / (cm3 s)\n",
      "generating spectra...\n",
      "humidity: 50.0\n",
      " pressure: 10000.0\n",
      " temperature: 300.0\n",
      " lat: 32.78000000000001\n",
      " elevation: 2.797999999999601\n",
      " freqmin(cm-1): 11098.779134295226\n",
      " freqmax(cm-1): 14265.33523537803\n",
      " angle: 62.8613757400191\n",
      "\n",
      "\n",
      "Running exec: lblrtm\n",
      "\n",
      "\n"
     ]
    },
    {
     "name": "stderr",
     "output_type": "stream",
     "text": [
      "Note: The following floating-point exceptions are signalling: IEEE_INVALID_FLAG IEEE_UNDERFLOW_FLAG IEEE_DENORMAL\n",
      "STOP  LBLRTM EXIT \n",
      "2.13user 0.84system 0:03.18elapsed 93%CPU (0avgtext+0avgdata 7748maxresident)k\n",
      "0inputs+0outputs (0major+1237minor)pagefaults 0swaps\n"
     ]
    },
    {
     "name": "stdout",
     "output_type": "stream",
     "text": [
      "\n",
      "Running exec: lblrtm\n",
      "\n",
      "\n"
     ]
    },
    {
     "name": "stderr",
     "output_type": "stream",
     "text": [
      "Note: The following floating-point exceptions are signalling: IEEE_INVALID_FLAG IEEE_UNDERFLOW_FLAG IEEE_DENORMAL\n",
      "STOP  LBLRTM EXIT \n",
      "0.91user 0.71system 0:01.71elapsed 94%CPU (0avgtext+0avgdata 7556maxresident)k\n",
      "0inputs+0outputs (0major+1234minor)pagefaults 0swaps\n"
     ]
    },
    {
     "name": "stdout",
     "output_type": "stream",
     "text": [
      "1143628\n",
      "humidity: 50.0\n",
      " pressure: 10000.0\n",
      " temperature: 300.0\n",
      " lat: 32.78000000000001\n",
      " elevation: 2.797999999999601\n",
      " freqmin(cm-1): 11098.779134295226\n",
      " freqmax(cm-1): 14265.33523537803\n",
      " angle: 36.420938571519066\n",
      "\n",
      "\n",
      "Running exec: lblrtm\n",
      "\n",
      "\n"
     ]
    },
    {
     "name": "stderr",
     "output_type": "stream",
     "text": [
      "Note: The following floating-point exceptions are signalling: IEEE_INVALID_FLAG IEEE_UNDERFLOW_FLAG IEEE_DENORMAL\n",
      "STOP  LBLRTM EXIT \n",
      "2.14user 0.80system 0:03.26elapsed 90%CPU (0avgtext+0avgdata 7792maxresident)k\n",
      "0inputs+0outputs (0major+1237minor)pagefaults 0swaps\n"
     ]
    },
    {
     "name": "stdout",
     "output_type": "stream",
     "text": [
      "\n",
      "Running exec: lblrtm\n",
      "\n",
      "\n"
     ]
    },
    {
     "name": "stderr",
     "output_type": "stream",
     "text": [
      "Note: The following floating-point exceptions are signalling: IEEE_INVALID_FLAG IEEE_UNDERFLOW_FLAG IEEE_DENORMAL\n",
      "STOP  LBLRTM EXIT \n",
      "0.92user 0.70system 0:01.75elapsed 93%CPU (0avgtext+0avgdata 7720maxresident)k\n",
      "0inputs+0outputs (0major+1238minor)pagefaults 0swaps\n"
     ]
    },
    {
     "name": "stdout",
     "output_type": "stream",
     "text": [
      "1143628\n",
      "humidity: 50.0\n",
      " pressure: 10000.0\n",
      " temperature: 300.0\n",
      " lat: 32.78000000000001\n",
      " elevation: 2.797999999999601\n",
      " freqmin(cm-1): 11098.779134295226\n",
      " freqmax(cm-1): 14265.33523537803\n",
      " angle: 70.23515457427514\n",
      "\n",
      "\n",
      "Running exec: lblrtm\n",
      "\n",
      "\n"
     ]
    },
    {
     "name": "stderr",
     "output_type": "stream",
     "text": [
      "Note: The following floating-point exceptions are signalling: IEEE_INVALID_FLAG IEEE_UNDERFLOW_FLAG IEEE_DENORMAL\n",
      "STOP  LBLRTM EXIT \n",
      "2.18user 0.80system 0:03.19elapsed 93%CPU (0avgtext+0avgdata 7672maxresident)k\n",
      "0inputs+0outputs (0major+1234minor)pagefaults 0swaps\n"
     ]
    },
    {
     "name": "stdout",
     "output_type": "stream",
     "text": [
      "\n",
      "Running exec: lblrtm\n",
      "\n",
      "\n"
     ]
    },
    {
     "name": "stderr",
     "output_type": "stream",
     "text": [
      "Note: The following floating-point exceptions are signalling: IEEE_INVALID_FLAG IEEE_UNDERFLOW_FLAG IEEE_DENORMAL\n",
      "STOP  LBLRTM EXIT \n",
      "0.92user 0.73system 0:01.76elapsed 94%CPU (0avgtext+0avgdata 7672maxresident)k\n",
      "0inputs+0outputs (0major+1234minor)pagefaults 0swaps\n"
     ]
    },
    {
     "name": "stdout",
     "output_type": "stream",
     "text": [
      "1143628\n",
      "humidity: 50.0\n",
      " pressure: 10000.0\n",
      " temperature: 300.0\n",
      " lat: 32.78000000000001\n",
      " elevation: 2.797999999999601\n",
      " freqmin(cm-1): 11098.779134295226\n",
      " freqmax(cm-1): 14265.33523537803\n",
      " angle: 37.41097711185363\n",
      "\n",
      "\n",
      "Running exec: lblrtm\n",
      "\n",
      "\n"
     ]
    },
    {
     "name": "stderr",
     "output_type": "stream",
     "text": [
      "Note: The following floating-point exceptions are signalling: IEEE_INVALID_FLAG IEEE_UNDERFLOW_FLAG IEEE_DENORMAL\n",
      "STOP  LBLRTM EXIT \n",
      "2.13user 0.83system 0:03.20elapsed 92%CPU (0avgtext+0avgdata 7616maxresident)k\n",
      "0inputs+0outputs (0major+1235minor)pagefaults 0swaps\n"
     ]
    },
    {
     "name": "stdout",
     "output_type": "stream",
     "text": [
      "\n",
      "Running exec: lblrtm\n",
      "\n",
      "\n"
     ]
    },
    {
     "name": "stderr",
     "output_type": "stream",
     "text": [
      "Note: The following floating-point exceptions are signalling: IEEE_INVALID_FLAG IEEE_UNDERFLOW_FLAG IEEE_DENORMAL\n",
      "STOP  LBLRTM EXIT \n",
      "0.90user 0.72system 0:01.76elapsed 92%CPU (0avgtext+0avgdata 7788maxresident)k\n",
      "0inputs+0outputs (0major+1237minor)pagefaults 0swaps\n"
     ]
    },
    {
     "name": "stdout",
     "output_type": "stream",
     "text": [
      "1143628\n",
      "humidity: 50.0\n",
      " pressure: 10000.0\n",
      " temperature: 300.0\n",
      " lat: 32.78000000000001\n",
      " elevation: 2.797999999999601\n",
      " freqmin(cm-1): 11098.779134295226\n",
      " freqmax(cm-1): 14265.33523537803\n",
      " angle: 65.09115788813192\n",
      "\n",
      "\n",
      "Running exec: lblrtm\n",
      "\n",
      "\n"
     ]
    },
    {
     "name": "stderr",
     "output_type": "stream",
     "text": [
      "Note: The following floating-point exceptions are signalling: IEEE_INVALID_FLAG IEEE_UNDERFLOW_FLAG IEEE_DENORMAL\n",
      "STOP  LBLRTM EXIT \n",
      "2.13user 0.78system 0:03.08elapsed 94%CPU (0avgtext+0avgdata 7732maxresident)k\n",
      "0inputs+0outputs (0major+1236minor)pagefaults 0swaps\n"
     ]
    },
    {
     "name": "stdout",
     "output_type": "stream",
     "text": [
      "\n",
      "Running exec: lblrtm\n",
      "\n",
      "\n"
     ]
    },
    {
     "name": "stderr",
     "output_type": "stream",
     "text": [
      "Note: The following floating-point exceptions are signalling: IEEE_INVALID_FLAG IEEE_UNDERFLOW_FLAG IEEE_DENORMAL\n",
      "STOP  LBLRTM EXIT \n",
      "0.91user 0.70system 0:01.81elapsed 89%CPU (0avgtext+0avgdata 7684maxresident)k\n",
      "0inputs+0outputs (0major+1237minor)pagefaults 0swaps\n"
     ]
    },
    {
     "name": "stdout",
     "output_type": "stream",
     "text": [
      "1127370\n",
      "humidity: 50.0\n",
      " pressure: 10000.0\n",
      " temperature: 300.0\n",
      " lat: 32.78000000000001\n",
      " elevation: 2.797999999999601\n",
      " freqmin(cm-1): 11098.779134295226\n",
      " freqmax(cm-1): 14265.33523537803\n",
      " angle: 59.94944845829285\n",
      "\n",
      "\n",
      "Running exec: lblrtm\n",
      "\n",
      "\n"
     ]
    },
    {
     "name": "stderr",
     "output_type": "stream",
     "text": [
      "Note: The following floating-point exceptions are signalling: IEEE_INVALID_FLAG IEEE_UNDERFLOW_FLAG IEEE_DENORMAL\n",
      "STOP  LBLRTM EXIT \n",
      "2.11user 0.77system 0:03.19elapsed 90%CPU (0avgtext+0avgdata 7672maxresident)k\n",
      "0inputs+0outputs (0major+1236minor)pagefaults 0swaps\n"
     ]
    },
    {
     "name": "stdout",
     "output_type": "stream",
     "text": [
      "\n",
      "Running exec: lblrtm\n",
      "\n",
      "\n"
     ]
    },
    {
     "name": "stderr",
     "output_type": "stream",
     "text": [
      "Note: The following floating-point exceptions are signalling: IEEE_INVALID_FLAG IEEE_UNDERFLOW_FLAG IEEE_DENORMAL\n",
      "STOP  LBLRTM EXIT \n",
      "0.92user 0.74system 0:01.78elapsed 93%CPU (0avgtext+0avgdata 7716maxresident)k\n",
      "0inputs+0outputs (0major+1237minor)pagefaults 0swaps\n"
     ]
    },
    {
     "name": "stdout",
     "output_type": "stream",
     "text": [
      "1124676\n",
      "humidity: 50.0\n",
      " pressure: 10000.0\n",
      " temperature: 300.0\n",
      " lat: 32.78000000000001\n",
      " elevation: 2.797999999999601\n",
      " freqmin(cm-1): 11098.779134295226\n",
      " freqmax(cm-1): 14265.33523537803\n",
      " angle: 27.811520651072378\n",
      "\n",
      "\n",
      "Running exec: lblrtm\n",
      "\n",
      "\n"
     ]
    },
    {
     "name": "stderr",
     "output_type": "stream",
     "text": [
      "Note: The following floating-point exceptions are signalling: IEEE_INVALID_FLAG IEEE_UNDERFLOW_FLAG IEEE_DENORMAL\n",
      "STOP  LBLRTM EXIT \n",
      "2.09user 0.84system 0:03.14elapsed 93%CPU (0avgtext+0avgdata 7644maxresident)k\n",
      "0inputs+0outputs (0major+1234minor)pagefaults 0swaps\n"
     ]
    },
    {
     "name": "stdout",
     "output_type": "stream",
     "text": [
      "\n",
      "Running exec: lblrtm\n",
      "\n",
      "\n"
     ]
    },
    {
     "name": "stderr",
     "output_type": "stream",
     "text": [
      "Note: The following floating-point exceptions are signalling: IEEE_INVALID_FLAG IEEE_UNDERFLOW_FLAG IEEE_DENORMAL\n",
      "STOP  LBLRTM EXIT \n",
      "0.89user 0.72system 0:01.76elapsed 91%CPU (0avgtext+0avgdata 7636maxresident)k\n",
      "0inputs+0outputs (0major+1235minor)pagefaults 0swaps\n"
     ]
    },
    {
     "name": "stdout",
     "output_type": "stream",
     "text": [
      "1143628\n",
      "humidity: 50.0\n",
      " pressure: 10000.0\n",
      " temperature: 300.0\n",
      " lat: 32.78000000000001\n",
      " elevation: 2.797999999999601\n",
      " freqmin(cm-1): 11098.779134295226\n",
      " freqmax(cm-1): 14265.33523537803\n",
      " angle: 4.6273790635876395\n",
      "\n",
      "\n",
      "Running exec: lblrtm\n",
      "\n",
      "\n"
     ]
    },
    {
     "name": "stderr",
     "output_type": "stream",
     "text": [
      "Note: The following floating-point exceptions are signalling: IEEE_INVALID_FLAG IEEE_UNDERFLOW_FLAG IEEE_DENORMAL\n",
      "STOP  LBLRTM EXIT \n",
      "2.14user 0.81system 0:03.15elapsed 93%CPU (0avgtext+0avgdata 7636maxresident)k\n",
      "0inputs+0outputs (0major+1235minor)pagefaults 0swaps\n"
     ]
    },
    {
     "name": "stdout",
     "output_type": "stream",
     "text": [
      "\n",
      "Running exec: lblrtm\n",
      "\n",
      "\n"
     ]
    },
    {
     "name": "stderr",
     "output_type": "stream",
     "text": [
      "Note: The following floating-point exceptions are signalling: IEEE_INVALID_FLAG IEEE_UNDERFLOW_FLAG IEEE_DENORMAL\n",
      "STOP  LBLRTM EXIT \n",
      "0.90user 0.69system 0:01.72elapsed 92%CPU (0avgtext+0avgdata 7816maxresident)k\n",
      "0inputs+0outputs (0major+1238minor)pagefaults 0swaps\n"
     ]
    },
    {
     "name": "stdout",
     "output_type": "stream",
     "text": [
      "1143628\n",
      "humidity: 50.0\n",
      " pressure: 10000.0\n",
      " temperature: 300.0\n",
      " lat: 32.78000000000001\n",
      " elevation: 2.797999999999601\n",
      " freqmin(cm-1): 11098.779134295226\n",
      " freqmax(cm-1): 14265.33523537803\n",
      " angle: 11.404396925323324\n",
      "\n",
      "\n",
      "Running exec: lblrtm\n",
      "\n",
      "\n"
     ]
    },
    {
     "name": "stderr",
     "output_type": "stream",
     "text": [
      "Note: The following floating-point exceptions are signalling: IEEE_INVALID_FLAG IEEE_UNDERFLOW_FLAG IEEE_DENORMAL\n",
      "STOP  LBLRTM EXIT \n",
      "2.12user 0.80system 0:03.12elapsed 93%CPU (0avgtext+0avgdata 7548maxresident)k\n",
      "0inputs+0outputs (0major+1233minor)pagefaults 0swaps\n"
     ]
    },
    {
     "name": "stdout",
     "output_type": "stream",
     "text": [
      "\n",
      "Running exec: lblrtm\n",
      "\n",
      "\n"
     ]
    },
    {
     "name": "stderr",
     "output_type": "stream",
     "text": [
      "Note: The following floating-point exceptions are signalling: IEEE_INVALID_FLAG IEEE_UNDERFLOW_FLAG IEEE_DENORMAL\n",
      "STOP  LBLRTM EXIT \n",
      "0.91user 0.70system 0:01.72elapsed 93%CPU (0avgtext+0avgdata 7516maxresident)k\n",
      "0inputs+0outputs (0major+1233minor)pagefaults 0swaps\n"
     ]
    },
    {
     "name": "stdout",
     "output_type": "stream",
     "text": [
      "1143628\n",
      "humidity: 50.0\n",
      " pressure: 10000.0\n",
      " temperature: 300.0\n",
      " lat: 32.78000000000001\n",
      " elevation: 2.797999999999601\n",
      " freqmin(cm-1): 11098.779134295226\n",
      " freqmax(cm-1): 14265.33523537803\n",
      " angle: 54.85857323188904\n",
      "\n",
      "\n",
      "Running exec: lblrtm\n",
      "\n",
      "\n"
     ]
    },
    {
     "name": "stderr",
     "output_type": "stream",
     "text": [
      "Note: The following floating-point exceptions are signalling: IEEE_INVALID_FLAG IEEE_UNDERFLOW_FLAG IEEE_DENORMAL\n",
      "STOP  LBLRTM EXIT \n",
      "2.13user 0.82system 0:03.13elapsed 94%CPU (0avgtext+0avgdata 7564maxresident)k\n",
      "0inputs+0outputs (0major+1234minor)pagefaults 0swaps\n"
     ]
    },
    {
     "name": "stdout",
     "output_type": "stream",
     "text": [
      "\n",
      "Running exec: lblrtm\n",
      "\n",
      "\n"
     ]
    },
    {
     "name": "stderr",
     "output_type": "stream",
     "text": [
      "Note: The following floating-point exceptions are signalling: IEEE_INVALID_FLAG IEEE_UNDERFLOW_FLAG IEEE_DENORMAL\n",
      "STOP  LBLRTM EXIT \n",
      "0.89user 0.71system 0:01.70elapsed 94%CPU (0avgtext+0avgdata 7556maxresident)k\n",
      "0inputs+0outputs (0major+1234minor)pagefaults 0swaps\n"
     ]
    },
    {
     "name": "stdout",
     "output_type": "stream",
     "text": [
      "1111626\n",
      "humidity: 50.0\n",
      " pressure: 10000.0\n",
      " temperature: 300.0\n",
      " lat: 32.78000000000001\n",
      " elevation: 2.797999999999601\n",
      " freqmin(cm-1): 11098.779134295226\n",
      " freqmax(cm-1): 14265.33523537803\n",
      " angle: 27.82399986133828\n",
      "\n",
      "\n",
      "Running exec: lblrtm\n",
      "\n",
      "\n"
     ]
    },
    {
     "name": "stderr",
     "output_type": "stream",
     "text": [
      "Note: The following floating-point exceptions are signalling: IEEE_INVALID_FLAG IEEE_UNDERFLOW_FLAG IEEE_DENORMAL\n",
      "STOP  LBLRTM EXIT \n",
      "2.16user 0.78system 0:03.23elapsed 91%CPU (0avgtext+0avgdata 7672maxresident)k\n",
      "0inputs+0outputs (0major+1234minor)pagefaults 0swaps\n"
     ]
    },
    {
     "name": "stdout",
     "output_type": "stream",
     "text": [
      "\n",
      "Running exec: lblrtm\n",
      "\n",
      "\n"
     ]
    },
    {
     "name": "stderr",
     "output_type": "stream",
     "text": [
      "Note: The following floating-point exceptions are signalling: IEEE_INVALID_FLAG IEEE_UNDERFLOW_FLAG IEEE_DENORMAL\n",
      "STOP  LBLRTM EXIT \n",
      "0.88user 0.72system 0:01.71elapsed 94%CPU (0avgtext+0avgdata 7556maxresident)k\n",
      "0inputs+0outputs (0major+1233minor)pagefaults 0swaps\n"
     ]
    },
    {
     "name": "stdout",
     "output_type": "stream",
     "text": [
      "1143628\n",
      "humidity: 50.0\n",
      " pressure: 10000.0\n",
      " temperature: 300.0\n",
      " lat: 32.78000000000001\n",
      " elevation: 2.797999999999601\n",
      " freqmin(cm-1): 11098.779134295226\n",
      " freqmax(cm-1): 14265.33523537803\n",
      " angle: 32.81380139483823\n",
      "\n",
      "\n",
      "Running exec: lblrtm\n",
      "\n",
      "\n"
     ]
    },
    {
     "name": "stderr",
     "output_type": "stream",
     "text": [
      "Note: The following floating-point exceptions are signalling: IEEE_INVALID_FLAG IEEE_UNDERFLOW_FLAG IEEE_DENORMAL\n",
      "STOP  LBLRTM EXIT \n",
      "2.12user 0.80system 0:03.14elapsed 93%CPU (0avgtext+0avgdata 7720maxresident)k\n",
      "0inputs+0outputs (0major+1237minor)pagefaults 0swaps\n"
     ]
    },
    {
     "name": "stdout",
     "output_type": "stream",
     "text": [
      "\n",
      "Running exec: lblrtm\n",
      "\n",
      "\n"
     ]
    },
    {
     "name": "stderr",
     "output_type": "stream",
     "text": [
      "Note: The following floating-point exceptions are signalling: IEEE_INVALID_FLAG IEEE_UNDERFLOW_FLAG IEEE_DENORMAL\n",
      "STOP  LBLRTM EXIT \n",
      "0.89user 0.72system 0:01.69elapsed 95%CPU (0avgtext+0avgdata 7612maxresident)k\n",
      "0inputs+0outputs (0major+1233minor)pagefaults 0swaps\n"
     ]
    },
    {
     "name": "stdout",
     "output_type": "stream",
     "text": [
      "1143628\n",
      "humidity: 50.0\n",
      " pressure: 10000.0\n",
      " temperature: 300.0\n",
      " lat: 32.78000000000001\n",
      " elevation: 2.797999999999601\n",
      " freqmin(cm-1): 11098.779134295226\n",
      " freqmax(cm-1): 14265.33523537803\n",
      " angle: 5.685228205863384\n",
      "\n",
      "\n",
      "Running exec: lblrtm\n",
      "\n",
      "\n"
     ]
    },
    {
     "name": "stderr",
     "output_type": "stream",
     "text": [
      "Note: The following floating-point exceptions are signalling: IEEE_INVALID_FLAG IEEE_UNDERFLOW_FLAG IEEE_DENORMAL\n",
      "STOP  LBLRTM EXIT \n",
      "2.12user 0.84system 0:03.15elapsed 93%CPU (0avgtext+0avgdata 7636maxresident)k\n",
      "0inputs+0outputs (0major+1235minor)pagefaults 0swaps\n"
     ]
    },
    {
     "name": "stdout",
     "output_type": "stream",
     "text": [
      "\n",
      "Running exec: lblrtm\n",
      "\n",
      "\n"
     ]
    },
    {
     "name": "stderr",
     "output_type": "stream",
     "text": [
      "Note: The following floating-point exceptions are signalling: IEEE_INVALID_FLAG IEEE_UNDERFLOW_FLAG IEEE_DENORMAL\n",
      "STOP  LBLRTM EXIT \n",
      "0.87user 0.73system 0:01.70elapsed 94%CPU (0avgtext+0avgdata 7636maxresident)k\n",
      "0inputs+0outputs (0major+1235minor)pagefaults 0swaps\n"
     ]
    },
    {
     "name": "stdout",
     "output_type": "stream",
     "text": [
      "1143628\n",
      "humidity: 50.0\n",
      " pressure: 10000.0\n",
      " temperature: 300.0\n",
      " lat: 32.78000000000001\n",
      " elevation: 2.797999999999601\n",
      " freqmin(cm-1): 11098.779134295226\n",
      " freqmax(cm-1): 14265.33523537803\n",
      " angle: 50.422615509223334\n",
      "\n",
      "\n",
      "Running exec: lblrtm\n",
      "\n",
      "\n"
     ]
    },
    {
     "name": "stderr",
     "output_type": "stream",
     "text": [
      "Note: The following floating-point exceptions are signalling: IEEE_INVALID_FLAG IEEE_UNDERFLOW_FLAG IEEE_DENORMAL\n",
      "STOP  LBLRTM EXIT \n",
      "2.13user 0.82system 0:03.23elapsed 91%CPU (0avgtext+0avgdata 7572maxresident)k\n",
      "0inputs+0outputs (0major+1234minor)pagefaults 0swaps\n"
     ]
    },
    {
     "name": "stdout",
     "output_type": "stream",
     "text": [
      "\n",
      "Running exec: lblrtm\n",
      "\n",
      "\n"
     ]
    },
    {
     "name": "stderr",
     "output_type": "stream",
     "text": [
      "Note: The following floating-point exceptions are signalling: IEEE_INVALID_FLAG IEEE_UNDERFLOW_FLAG IEEE_DENORMAL\n",
      "STOP  LBLRTM EXIT \n",
      "0.89user 0.72system 0:01.70elapsed 94%CPU (0avgtext+0avgdata 7732maxresident)k\n",
      "0inputs+0outputs (0major+1236minor)pagefaults 0swaps\n"
     ]
    },
    {
     "name": "stdout",
     "output_type": "stream",
     "text": [
      "1143628\n",
      "humidity: 50.0\n",
      " pressure: 10000.0\n",
      " temperature: 300.0\n",
      " lat: 32.78000000000001\n",
      " elevation: 2.797999999999601\n",
      " freqmin(cm-1): 11098.779134295226\n",
      " freqmax(cm-1): 14265.33523537803\n",
      " angle: 66.89041188034572\n",
      "\n",
      "\n",
      "Running exec: lblrtm\n",
      "\n",
      "\n"
     ]
    },
    {
     "name": "stderr",
     "output_type": "stream",
     "text": [
      "Note: The following floating-point exceptions are signalling: IEEE_INVALID_FLAG IEEE_UNDERFLOW_FLAG IEEE_DENORMAL\n",
      "STOP  LBLRTM EXIT \n",
      "2.18user 0.83system 0:03.27elapsed 92%CPU (0avgtext+0avgdata 7672maxresident)k\n",
      "0inputs+0outputs (0major+1233minor)pagefaults 0swaps\n"
     ]
    },
    {
     "name": "stdout",
     "output_type": "stream",
     "text": [
      "\n",
      "Running exec: lblrtm\n",
      "\n",
      "\n"
     ]
    },
    {
     "name": "stderr",
     "output_type": "stream",
     "text": [
      "Note: The following floating-point exceptions are signalling: IEEE_INVALID_FLAG IEEE_UNDERFLOW_FLAG IEEE_DENORMAL\n",
      "STOP  LBLRTM EXIT \n",
      "0.91user 0.72system 0:01.73elapsed 94%CPU (0avgtext+0avgdata 7748maxresident)k\n",
      "0inputs+0outputs (0major+1236minor)pagefaults 0swaps\n"
     ]
    },
    {
     "name": "stdout",
     "output_type": "stream",
     "text": [
      "1143628\n",
      "humidity: 50.0\n",
      " pressure: 10000.0\n",
      " temperature: 300.0\n",
      " lat: 32.78000000000001\n",
      " elevation: 2.797999999999601\n",
      " freqmin(cm-1): 11098.779134295226\n",
      " freqmax(cm-1): 14265.33523537803\n",
      " angle: 65.6425420077903\n",
      "\n",
      "\n",
      "Running exec: lblrtm\n",
      "\n",
      "\n"
     ]
    },
    {
     "name": "stderr",
     "output_type": "stream",
     "text": [
      "Note: The following floating-point exceptions are signalling: IEEE_INVALID_FLAG IEEE_UNDERFLOW_FLAG IEEE_DENORMAL\n",
      "STOP  LBLRTM EXIT \n",
      "2.16user 0.80system 0:03.16elapsed 93%CPU (0avgtext+0avgdata 7792maxresident)k\n",
      "0inputs+0outputs (0major+1237minor)pagefaults 0swaps\n"
     ]
    },
    {
     "name": "stdout",
     "output_type": "stream",
     "text": [
      "\n",
      "Running exec: lblrtm\n",
      "\n",
      "\n"
     ]
    },
    {
     "name": "stderr",
     "output_type": "stream",
     "text": [
      "Note: The following floating-point exceptions are signalling: IEEE_INVALID_FLAG IEEE_UNDERFLOW_FLAG IEEE_DENORMAL\n",
      "STOP  LBLRTM EXIT \n",
      "0.92user 0.71system 0:01.74elapsed 94%CPU (0avgtext+0avgdata 7792maxresident)k\n",
      "0inputs+0outputs (0major+1237minor)pagefaults 0swaps\n"
     ]
    },
    {
     "name": "stdout",
     "output_type": "stream",
     "text": [
      "1143628\n",
      "humidity: 50.0\n",
      " pressure: 10000.0\n",
      " temperature: 300.0\n",
      " lat: 32.78000000000001\n",
      " elevation: 2.797999999999601\n",
      " freqmin(cm-1): 11098.779134295226\n",
      " freqmax(cm-1): 14265.33523537803\n",
      " angle: 4.244341434002005\n",
      "\n",
      "\n",
      "Running exec: lblrtm\n",
      "\n",
      "\n"
     ]
    },
    {
     "name": "stderr",
     "output_type": "stream",
     "text": [
      "Note: The following floating-point exceptions are signalling: IEEE_INVALID_FLAG IEEE_UNDERFLOW_FLAG IEEE_DENORMAL\n",
      "STOP  LBLRTM EXIT \n",
      "2.10user 0.83system 0:03.21elapsed 91%CPU (0avgtext+0avgdata 7636maxresident)k\n",
      "0inputs+0outputs (0major+1235minor)pagefaults 0swaps\n"
     ]
    },
    {
     "name": "stdout",
     "output_type": "stream",
     "text": [
      "\n",
      "Running exec: lblrtm\n",
      "\n",
      "\n"
     ]
    },
    {
     "name": "stderr",
     "output_type": "stream",
     "text": [
      "Note: The following floating-point exceptions are signalling: IEEE_INVALID_FLAG IEEE_UNDERFLOW_FLAG IEEE_DENORMAL\n",
      "STOP  LBLRTM EXIT \n",
      "0.89user 0.72system 0:01.72elapsed 94%CPU (0avgtext+0avgdata 7752maxresident)k\n",
      "0inputs+0outputs (0major+1237minor)pagefaults 0swaps\n"
     ]
    },
    {
     "name": "stdout",
     "output_type": "stream",
     "text": [
      "1143628\n",
      "humidity: 50.0\n",
      " pressure: 10000.0\n",
      " temperature: 300.0\n",
      " lat: 32.78000000000001\n",
      " elevation: 2.797999999999601\n",
      " freqmin(cm-1): 11098.779134295226\n",
      " freqmax(cm-1): 14265.33523537803\n",
      " angle: 25.73402125733466\n",
      "\n",
      "\n",
      "Running exec: lblrtm\n",
      "\n",
      "\n"
     ]
    },
    {
     "name": "stderr",
     "output_type": "stream",
     "text": [
      "Note: The following floating-point exceptions are signalling: IEEE_INVALID_FLAG IEEE_UNDERFLOW_FLAG IEEE_DENORMAL\n",
      "STOP  LBLRTM EXIT \n",
      "2.13user 0.81system 0:03.21elapsed 91%CPU (0avgtext+0avgdata 7672maxresident)k\n",
      "0inputs+0outputs (0major+1234minor)pagefaults 0swaps\n"
     ]
    },
    {
     "name": "stdout",
     "output_type": "stream",
     "text": [
      "\n",
      "Running exec: lblrtm\n",
      "\n",
      "\n"
     ]
    },
    {
     "name": "stderr",
     "output_type": "stream",
     "text": [
      "Note: The following floating-point exceptions are signalling: IEEE_INVALID_FLAG IEEE_UNDERFLOW_FLAG IEEE_DENORMAL\n",
      "STOP  LBLRTM EXIT \n",
      "0.90user 0.72system 0:01.77elapsed 91%CPU (0avgtext+0avgdata 7732maxresident)k\n",
      "0inputs+0outputs (0major+1236minor)pagefaults 0swaps\n"
     ]
    },
    {
     "name": "stdout",
     "output_type": "stream",
     "text": [
      "1143628\n",
      "humidity: 50.0\n",
      " pressure: 10000.0\n",
      " temperature: 300.0\n",
      " lat: 32.78000000000001\n",
      " elevation: 2.797999999999601\n",
      " freqmin(cm-1): 11098.779134295226\n",
      " freqmax(cm-1): 14265.33523537803\n",
      " angle: 41.82411679419448\n",
      "\n",
      "\n",
      "Running exec: lblrtm\n",
      "\n",
      "\n"
     ]
    },
    {
     "name": "stderr",
     "output_type": "stream",
     "text": [
      "Note: The following floating-point exceptions are signalling: IEEE_INVALID_FLAG IEEE_UNDERFLOW_FLAG IEEE_DENORMAL\n",
      "STOP  LBLRTM EXIT \n",
      "2.16user 0.83system 0:03.15elapsed 95%CPU (0avgtext+0avgdata 7720maxresident)k\n",
      "0inputs+0outputs (0major+1237minor)pagefaults 0swaps\n"
     ]
    },
    {
     "name": "stdout",
     "output_type": "stream",
     "text": [
      "\n",
      "Running exec: lblrtm\n",
      "\n",
      "\n"
     ]
    },
    {
     "name": "stderr",
     "output_type": "stream",
     "text": [
      "Note: The following floating-point exceptions are signalling: IEEE_INVALID_FLAG IEEE_UNDERFLOW_FLAG IEEE_DENORMAL\n",
      "STOP  LBLRTM EXIT \n",
      "0.90user 0.71system 0:01.75elapsed 92%CPU (0avgtext+0avgdata 7792maxresident)k\n",
      "0inputs+0outputs (0major+1238minor)pagefaults 0swaps\n"
     ]
    },
    {
     "name": "stdout",
     "output_type": "stream",
     "text": [
      "1143628\n",
      "humidity: 50.0\n",
      " pressure: 10000.0\n",
      " temperature: 300.0\n",
      " lat: 32.78000000000001\n",
      " elevation: 2.797999999999601\n",
      " freqmin(cm-1): 11098.779134295226\n",
      " freqmax(cm-1): 14265.33523537803\n",
      " angle: 19.147041951230698\n",
      "\n",
      "\n",
      "Running exec: lblrtm\n",
      "\n",
      "\n"
     ]
    },
    {
     "name": "stderr",
     "output_type": "stream",
     "text": [
      "Note: The following floating-point exceptions are signalling: IEEE_INVALID_FLAG IEEE_UNDERFLOW_FLAG IEEE_DENORMAL\n",
      "STOP  LBLRTM EXIT \n",
      "2.12user 0.82system 0:03.16elapsed 93%CPU (0avgtext+0avgdata 7732maxresident)k\n",
      "0inputs+0outputs (0major+1237minor)pagefaults 0swaps\n"
     ]
    },
    {
     "name": "stdout",
     "output_type": "stream",
     "text": [
      "\n",
      "Running exec: lblrtm\n",
      "\n",
      "\n"
     ]
    },
    {
     "name": "stderr",
     "output_type": "stream",
     "text": [
      "Note: The following floating-point exceptions are signalling: IEEE_INVALID_FLAG IEEE_UNDERFLOW_FLAG IEEE_DENORMAL\n",
      "STOP  LBLRTM EXIT \n",
      "0.91user 0.69system 0:01.76elapsed 91%CPU (0avgtext+0avgdata 7708maxresident)k\n",
      "0inputs+0outputs (0major+1236minor)pagefaults 0swaps\n"
     ]
    },
    {
     "name": "stdout",
     "output_type": "stream",
     "text": [
      "1143628\n",
      "humidity: 50.0\n",
      " pressure: 10000.0\n",
      " temperature: 300.0\n",
      " lat: 32.78000000000001\n",
      " elevation: 2.797999999999601\n",
      " freqmin(cm-1): 11098.779134295226\n",
      " freqmax(cm-1): 14265.33523537803\n",
      " angle: 38.23670948006227\n",
      "\n",
      "\n",
      "Running exec: lblrtm\n",
      "\n",
      "\n"
     ]
    },
    {
     "name": "stderr",
     "output_type": "stream",
     "text": [
      "Note: The following floating-point exceptions are signalling: IEEE_INVALID_FLAG IEEE_UNDERFLOW_FLAG IEEE_DENORMAL\n",
      "STOP  LBLRTM EXIT \n",
      "2.14user 0.82system 0:03.16elapsed 93%CPU (0avgtext+0avgdata 7732maxresident)k\n",
      "0inputs+0outputs (0major+1237minor)pagefaults 0swaps\n"
     ]
    },
    {
     "name": "stdout",
     "output_type": "stream",
     "text": [
      "\n",
      "Running exec: lblrtm\n",
      "\n",
      "\n"
     ]
    },
    {
     "name": "stderr",
     "output_type": "stream",
     "text": [
      "Note: The following floating-point exceptions are signalling: IEEE_INVALID_FLAG IEEE_UNDERFLOW_FLAG IEEE_DENORMAL\n",
      "STOP  LBLRTM EXIT \n",
      "0.88user 0.73system 0:01.75elapsed 92%CPU (0avgtext+0avgdata 7668maxresident)k\n",
      "0inputs+0outputs (0major+1233minor)pagefaults 0swaps\n"
     ]
    },
    {
     "name": "stdout",
     "output_type": "stream",
     "text": [
      "1143628\n",
      "humidity: 50.0\n",
      " pressure: 10000.0\n",
      " temperature: 300.0\n",
      " lat: 32.78000000000001\n",
      " elevation: 2.797999999999601\n",
      " freqmin(cm-1): 11098.779134295226\n",
      " freqmax(cm-1): 14265.33523537803\n",
      " angle: 47.73236591064268\n",
      "\n",
      "\n",
      "Running exec: lblrtm\n",
      "\n",
      "\n"
     ]
    },
    {
     "name": "stderr",
     "output_type": "stream",
     "text": [
      "Note: The following floating-point exceptions are signalling: IEEE_INVALID_FLAG IEEE_UNDERFLOW_FLAG IEEE_DENORMAL\n",
      "STOP  LBLRTM EXIT \n",
      "2.19user 0.77system 0:03.19elapsed 92%CPU (0avgtext+0avgdata 7628maxresident)k\n",
      "0inputs+0outputs (0major+1233minor)pagefaults 0swaps\n"
     ]
    },
    {
     "name": "stdout",
     "output_type": "stream",
     "text": [
      "\n",
      "Running exec: lblrtm\n",
      "\n",
      "\n"
     ]
    },
    {
     "name": "stderr",
     "output_type": "stream",
     "text": [
      "Note: The following floating-point exceptions are signalling: IEEE_INVALID_FLAG IEEE_UNDERFLOW_FLAG IEEE_DENORMAL\n",
      "STOP  LBLRTM EXIT \n",
      "0.90user 0.72system 0:01.72elapsed 94%CPU (0avgtext+0avgdata 7748maxresident)k\n",
      "0inputs+0outputs (0major+1234minor)pagefaults 0swaps\n"
     ]
    },
    {
     "name": "stdout",
     "output_type": "stream",
     "text": [
      "1143628\n",
      "humidity: 50.0\n",
      " pressure: 10000.0\n",
      " temperature: 300.0\n",
      " lat: 32.78000000000001\n",
      " elevation: 2.797999999999601\n",
      " freqmin(cm-1): 11098.779134295226\n",
      " freqmax(cm-1): 14265.33523537803\n",
      " angle: 42.79961082627774\n",
      "\n",
      "\n",
      "Running exec: lblrtm\n",
      "\n",
      "\n"
     ]
    },
    {
     "name": "stderr",
     "output_type": "stream",
     "text": [
      "Note: The following floating-point exceptions are signalling: IEEE_INVALID_FLAG IEEE_UNDERFLOW_FLAG IEEE_DENORMAL\n",
      "STOP  LBLRTM EXIT \n",
      "2.12user 0.84system 0:03.13elapsed 94%CPU (0avgtext+0avgdata 7672maxresident)k\n",
      "0inputs+0outputs (0major+1234minor)pagefaults 0swaps\n"
     ]
    },
    {
     "name": "stdout",
     "output_type": "stream",
     "text": [
      "\n",
      "Running exec: lblrtm\n",
      "\n",
      "\n"
     ]
    },
    {
     "name": "stderr",
     "output_type": "stream",
     "text": [
      "Note: The following floating-point exceptions are signalling: IEEE_INVALID_FLAG IEEE_UNDERFLOW_FLAG IEEE_DENORMAL\n",
      "STOP  LBLRTM EXIT \n",
      "0.89user 0.73system 0:01.73elapsed 93%CPU (0avgtext+0avgdata 7732maxresident)k\n",
      "0inputs+0outputs (0major+1236minor)pagefaults 0swaps\n"
     ]
    },
    {
     "name": "stdout",
     "output_type": "stream",
     "text": [
      "1143628\n",
      "humidity: 50.0\n",
      " pressure: 10000.0\n",
      " temperature: 300.0\n",
      " lat: 32.78000000000001\n",
      " elevation: 2.797999999999601\n",
      " freqmin(cm-1): 11098.779134295226\n",
      " freqmax(cm-1): 14265.33523537803\n",
      " angle: 44.62927519288961\n",
      "\n",
      "\n",
      "Running exec: lblrtm\n",
      "\n",
      "\n"
     ]
    },
    {
     "name": "stderr",
     "output_type": "stream",
     "text": [
      "Note: The following floating-point exceptions are signalling: IEEE_INVALID_FLAG IEEE_UNDERFLOW_FLAG IEEE_DENORMAL\n",
      "STOP  LBLRTM EXIT \n",
      "2.14user 0.81system 0:03.10elapsed 95%CPU (0avgtext+0avgdata 7672maxresident)k\n",
      "0inputs+0outputs (0major+1233minor)pagefaults 0swaps\n"
     ]
    },
    {
     "name": "stdout",
     "output_type": "stream",
     "text": [
      "\n",
      "Running exec: lblrtm\n",
      "\n",
      "\n"
     ]
    },
    {
     "name": "stderr",
     "output_type": "stream",
     "text": [
      "Note: The following floating-point exceptions are signalling: IEEE_INVALID_FLAG IEEE_UNDERFLOW_FLAG IEEE_DENORMAL\n",
      "STOP  LBLRTM EXIT \n",
      "0.92user 0.71system 0:01.75elapsed 93%CPU (0avgtext+0avgdata 7624maxresident)k\n",
      "0inputs+0outputs (0major+1233minor)pagefaults 0swaps\n"
     ]
    },
    {
     "name": "stdout",
     "output_type": "stream",
     "text": [
      "1143628\n",
      "humidity: 50.0\n",
      " pressure: 10000.0\n",
      " temperature: 300.0\n",
      " lat: 32.78000000000001\n",
      " elevation: 2.797999999999601\n",
      " freqmin(cm-1): 11098.779134295226\n",
      " freqmax(cm-1): 14265.33523537803\n",
      " angle: 31.567632273477905\n",
      "\n",
      "\n",
      "Running exec: lblrtm\n",
      "\n",
      "\n"
     ]
    },
    {
     "name": "stderr",
     "output_type": "stream",
     "text": [
      "Note: The following floating-point exceptions are signalling: IEEE_INVALID_FLAG IEEE_UNDERFLOW_FLAG IEEE_DENORMAL\n",
      "STOP  LBLRTM EXIT \n",
      "2.12user 0.85system 0:03.16elapsed 94%CPU (0avgtext+0avgdata 7672maxresident)k\n",
      "0inputs+0outputs (0major+1234minor)pagefaults 0swaps\n"
     ]
    },
    {
     "name": "stdout",
     "output_type": "stream",
     "text": [
      "\n",
      "Running exec: lblrtm\n",
      "\n",
      "\n"
     ]
    },
    {
     "name": "stderr",
     "output_type": "stream",
     "text": [
      "Note: The following floating-point exceptions are signalling: IEEE_INVALID_FLAG IEEE_UNDERFLOW_FLAG IEEE_DENORMAL\n",
      "STOP  LBLRTM EXIT \n",
      "0.92user 0.69system 0:01.69elapsed 95%CPU (0avgtext+0avgdata 7720maxresident)k\n",
      "0inputs+0outputs (0major+1237minor)pagefaults 0swaps\n"
     ]
    },
    {
     "name": "stdout",
     "output_type": "stream",
     "text": [
      "1143628\n",
      "humidity: 50.0\n",
      " pressure: 10000.0\n",
      " temperature: 300.0\n",
      " lat: 32.78000000000001\n",
      " elevation: 2.797999999999601\n",
      " freqmin(cm-1): 11098.779134295226\n",
      " freqmax(cm-1): 14265.33523537803\n",
      " angle: 44.219986042892295\n",
      "\n",
      "\n",
      "Running exec: lblrtm\n",
      "\n",
      "\n"
     ]
    },
    {
     "name": "stderr",
     "output_type": "stream",
     "text": [
      "Note: The following floating-point exceptions are signalling: IEEE_INVALID_FLAG IEEE_UNDERFLOW_FLAG IEEE_DENORMAL\n",
      "STOP  LBLRTM EXIT \n",
      "2.16user 0.83system 0:03.18elapsed 94%CPU (0avgtext+0avgdata 7748maxresident)k\n",
      "0inputs+0outputs (0major+1235minor)pagefaults 0swaps\n"
     ]
    },
    {
     "name": "stdout",
     "output_type": "stream",
     "text": [
      "\n",
      "Running exec: lblrtm\n",
      "\n",
      "\n"
     ]
    },
    {
     "name": "stderr",
     "output_type": "stream",
     "text": [
      "Note: The following floating-point exceptions are signalling: IEEE_INVALID_FLAG IEEE_UNDERFLOW_FLAG IEEE_DENORMAL\n",
      "STOP  LBLRTM EXIT \n",
      "0.89user 0.71system 0:01.70elapsed 94%CPU (0avgtext+0avgdata 7688maxresident)k\n",
      "0inputs+0outputs (0major+1236minor)pagefaults 0swaps\n"
     ]
    },
    {
     "name": "stdout",
     "output_type": "stream",
     "text": [
      "1143628\n",
      "humidity: 50.0\n",
      " pressure: 10000.0\n",
      " temperature: 300.0\n",
      " lat: 32.78000000000001\n",
      " elevation: 2.797999999999601\n",
      " freqmin(cm-1): 11098.779134295226\n",
      " freqmax(cm-1): 14265.33523537803\n",
      " angle: 55.209073951412215\n",
      "\n",
      "\n",
      "Running exec: lblrtm\n",
      "\n",
      "\n"
     ]
    },
    {
     "name": "stderr",
     "output_type": "stream",
     "text": [
      "Note: The following floating-point exceptions are signalling: IEEE_INVALID_FLAG IEEE_UNDERFLOW_FLAG IEEE_DENORMAL\n",
      "STOP  LBLRTM EXIT \n",
      "2.08user 0.80system 0:03.08elapsed 93%CPU (0avgtext+0avgdata 7748maxresident)k\n",
      "0inputs+0outputs (0major+1234minor)pagefaults 0swaps\n"
     ]
    },
    {
     "name": "stdout",
     "output_type": "stream",
     "text": [
      "\n",
      "Running exec: lblrtm\n",
      "\n",
      "\n"
     ]
    },
    {
     "name": "stderr",
     "output_type": "stream",
     "text": [
      "Note: The following floating-point exceptions are signalling: IEEE_INVALID_FLAG IEEE_UNDERFLOW_FLAG IEEE_DENORMAL\n",
      "STOP  LBLRTM EXIT \n",
      "0.93user 0.70system 0:01.73elapsed 94%CPU (0avgtext+0avgdata 7624maxresident)k\n",
      "0inputs+0outputs (0major+1234minor)pagefaults 0swaps\n"
     ]
    },
    {
     "name": "stdout",
     "output_type": "stream",
     "text": [
      "1127403\n",
      "humidity: 50.0\n",
      " pressure: 10000.0\n",
      " temperature: 300.0\n",
      " lat: 32.78000000000001\n",
      " elevation: 2.797999999999601\n",
      " freqmin(cm-1): 11098.779134295226\n",
      " freqmax(cm-1): 14265.33523537803\n",
      " angle: 16.046253531664348\n",
      "\n",
      "\n",
      "Running exec: lblrtm\n",
      "\n",
      "\n"
     ]
    },
    {
     "name": "stderr",
     "output_type": "stream",
     "text": [
      "Note: The following floating-point exceptions are signalling: IEEE_INVALID_FLAG IEEE_UNDERFLOW_FLAG IEEE_DENORMAL\n",
      "STOP  LBLRTM EXIT \n",
      "2.13user 0.81system 0:03.22elapsed 91%CPU (0avgtext+0avgdata 7748maxresident)k\n",
      "0inputs+0outputs (0major+1234minor)pagefaults 0swaps\n"
     ]
    },
    {
     "name": "stdout",
     "output_type": "stream",
     "text": [
      "\n",
      "Running exec: lblrtm\n",
      "\n",
      "\n"
     ]
    },
    {
     "name": "stderr",
     "output_type": "stream",
     "text": [
      "Note: The following floating-point exceptions are signalling: IEEE_INVALID_FLAG IEEE_UNDERFLOW_FLAG IEEE_DENORMAL\n",
      "STOP  LBLRTM EXIT \n",
      "0.91user 0.71system 0:01.72elapsed 94%CPU (0avgtext+0avgdata 7684maxresident)k\n",
      "0inputs+0outputs (0major+1237minor)pagefaults 0swaps\n"
     ]
    },
    {
     "name": "stdout",
     "output_type": "stream",
     "text": [
      "1143628\n",
      "humidity: 50.0\n",
      " pressure: 10000.0\n",
      " temperature: 300.0\n",
      " lat: 32.78000000000001\n",
      " elevation: 2.797999999999601\n",
      " freqmin(cm-1): 11098.779134295226\n",
      " freqmax(cm-1): 14265.33523537803\n",
      " angle: 70.36083125348077\n",
      "\n",
      "\n",
      "Running exec: lblrtm\n",
      "\n",
      "\n"
     ]
    },
    {
     "name": "stderr",
     "output_type": "stream",
     "text": [
      "Note: The following floating-point exceptions are signalling: IEEE_INVALID_FLAG IEEE_UNDERFLOW_FLAG IEEE_DENORMAL\n",
      "STOP  LBLRTM EXIT \n",
      "2.17user 0.83system 0:03.16elapsed 95%CPU (0avgtext+0avgdata 7556maxresident)k\n",
      "0inputs+0outputs (0major+1233minor)pagefaults 0swaps\n"
     ]
    },
    {
     "name": "stdout",
     "output_type": "stream",
     "text": [
      "\n",
      "Running exec: lblrtm\n",
      "\n",
      "\n"
     ]
    },
    {
     "name": "stderr",
     "output_type": "stream",
     "text": [
      "Note: The following floating-point exceptions are signalling: IEEE_INVALID_FLAG IEEE_UNDERFLOW_FLAG IEEE_DENORMAL\n",
      "STOP  LBLRTM EXIT \n",
      "0.92user 0.71system 0:01.73elapsed 94%CPU (0avgtext+0avgdata 7788maxresident)k\n",
      "0inputs+0outputs (0major+1237minor)pagefaults 0swaps\n"
     ]
    },
    {
     "name": "stdout",
     "output_type": "stream",
     "text": [
      "1143628\n",
      "humidity: 50.0\n",
      " pressure: 10000.0\n",
      " temperature: 300.0\n",
      " lat: 32.78000000000001\n",
      " elevation: 2.797999999999601\n",
      " freqmin(cm-1): 11098.779134295226\n",
      " freqmax(cm-1): 14265.33523537803\n",
      " angle: 5.621114858253093\n",
      "\n",
      "\n",
      "Running exec: lblrtm\n",
      "\n",
      "\n"
     ]
    },
    {
     "name": "stderr",
     "output_type": "stream",
     "text": [
      "Note: The following floating-point exceptions are signalling: IEEE_INVALID_FLAG IEEE_UNDERFLOW_FLAG IEEE_DENORMAL\n",
      "STOP  LBLRTM EXIT \n",
      "2.11user 0.84system 0:03.11elapsed 95%CPU (0avgtext+0avgdata 7676maxresident)k\n",
      "0inputs+0outputs (0major+1233minor)pagefaults 0swaps\n"
     ]
    },
    {
     "name": "stdout",
     "output_type": "stream",
     "text": [
      "\n",
      "Running exec: lblrtm\n",
      "\n",
      "\n"
     ]
    },
    {
     "name": "stderr",
     "output_type": "stream",
     "text": [
      "Note: The following floating-point exceptions are signalling: IEEE_INVALID_FLAG IEEE_UNDERFLOW_FLAG IEEE_DENORMAL\n",
      "STOP  LBLRTM EXIT \n",
      "0.88user 0.73system 0:01.79elapsed 90%CPU (0avgtext+0avgdata 7712maxresident)k\n",
      "0inputs+0outputs (0major+1236minor)pagefaults 0swaps\n"
     ]
    },
    {
     "name": "stdout",
     "output_type": "stream",
     "text": [
      "1143628\n",
      "<simulacra.tellurics.TelFitModel object at 0x145c0d5fc9b0> [1.6178939077349241e-06, 2.1907587743896784e-07, 2.1907587743896784e-07, 2.1907587743896784e-07, 2.1907587743896784e-07, 2.2146180711501984e-07, 2.2147022882279543e-07, 2.1907587743896784e-07, 2.1907587743896784e-07, 2.1907587743896784e-07, 2.2717149938955572e-07, 2.1907587743896784e-07, 2.1907587743896784e-07, 2.1907587743896784e-07, 2.1907587743896784e-07, 2.1907587743896784e-07, 2.1907587743896784e-07, 2.1907587743896784e-07, 2.1907587743896784e-07, 2.1907587743896784e-07, 2.1907587743896784e-07, 2.1907587743896784e-07, 2.1907587743896784e-07, 2.1907587743896784e-07, 2.1907587743896784e-07, 2.1907587743896784e-07, 2.1907587743896784e-07, 2.1996264365498064e-07, 2.1907587743896784e-07, 2.1907587743896784e-07, 2.1907587743896784e-07]\n",
      "interpolating spline...\n",
      "0\n",
      "1\n",
      "2\n",
      "3\n",
      "4\n",
      "5\n",
      "6\n",
      "7\n",
      "8\n",
      "9\n",
      "10\n",
      "11\n",
      "12\n",
      "13\n",
      "14\n",
      "15\n",
      "16\n",
      "17\n",
      "18\n",
      "19\n",
      "20\n",
      "21\n",
      "22\n",
      "23\n",
      "24\n",
      "25\n",
      "26\n",
      "27\n",
      "28\n",
      "29\n",
      "combining grids...\n",
      "convolving...\n",
      "0\n",
      "1\n",
      "2\n",
      "3\n",
      "4\n",
      "5\n",
      "6\n",
      "7\n",
      "8\n",
      "9\n",
      "10\n",
      "11\n",
      "12\n",
      "13\n",
      "14\n",
      "15\n",
      "16\n",
      "17\n",
      "18\n",
      "19\n",
      "20\n",
      "21\n",
      "22\n",
      "23\n",
      "24\n",
      "25\n",
      "26\n",
      "27\n",
      "28\n",
      "29\n",
      "xs: 7005.007110494636 9004.98956196525\n",
      "xhat: 7010.007110494628 8999.990639003297\n",
      "interpolating lanczos...\n",
      "0\n",
      "1\n",
      "2\n",
      "3\n",
      "4\n",
      "5\n",
      "6\n",
      "7\n",
      "8\n",
      "9\n",
      "10\n",
      "11\n",
      "12\n",
      "13\n",
      "14\n",
      "15\n",
      "16\n",
      "17\n",
      "18\n",
      "19\n",
      "20\n",
      "21\n",
      "22\n",
      "23\n",
      "24\n",
      "25\n",
      "26\n",
      "27\n",
      "28\n",
      "29\n",
      "area: 14.522012041218817 m2\t avg d lambda: 0.05688267575202005 Angstrom\t avg lambda: 7963.6042297997865 Angstrom\t avg exp times: 8.0 min\n",
      "0 n mean: 6.01e+03\t n median: 7.25e+03\n",
      "1 n mean: 6.81e+03\t n median: 7.41e+03\n",
      "2 n mean: 6.32e+03\t n median: 7.18e+03\n",
      "3 n mean: 6.80e+03\t n median: 7.40e+03\n",
      "4 n mean: 6.48e+03\t n median: 7.27e+03\n",
      "5 n mean: 6.05e+03\t n median: 6.93e+03\n",
      "6 n mean: 6.85e+03\t n median: 7.42e+03\n",
      "7 n mean: 6.90e+03\t n median: 7.44e+03\n",
      "8 n mean: 6.89e+03\t n median: 7.44e+03\n",
      "9 n mean: 6.80e+03\t n median: 7.41e+03\n",
      "10 n mean: 6.85e+03\t n median: 7.42e+03\n",
      "11 n mean: 6.83e+03\t n median: 7.41e+03\n",
      "12 n mean: 6.89e+03\t n median: 7.44e+03\n",
      "13 n mean: 6.70e+03\t n median: 7.37e+03\n",
      "14 n mean: 6.41e+03\t n median: 7.24e+03\n",
      "15 n mean: 6.48e+03\t n median: 7.28e+03\n",
      "16 n mean: 6.90e+03\t n median: 7.44e+03\n",
      "17 n mean: 6.85e+03\t n median: 7.42e+03\n",
      "18 n mean: 6.77e+03\t n median: 7.39e+03\n",
      "19 n mean: 6.87e+03\t n median: 7.43e+03\n",
      "20 n mean: 6.80e+03\t n median: 7.40e+03\n",
      "21 n mean: 6.72e+03\t n median: 7.38e+03\n",
      "22 n mean: 6.77e+03\t n median: 7.39e+03\n",
      "23 n mean: 6.75e+03\t n median: 7.38e+03\n",
      "24 n mean: 6.83e+03\t n median: 7.41e+03\n",
      "25 n mean: 6.75e+03\t n median: 7.39e+03\n",
      "26 n mean: 6.01e+03\t n median: 7.41e+03\n",
      "27 n mean: 6.88e+03\t n median: 7.43e+03\n",
      "28 n mean: 6.28e+03\t n median: 7.16e+03\n",
      "29 n mean: 6.89e+03\t n median: 7.44e+03\n",
      "generating true signal to noise ratios...\n",
      "adding noise...\n",
      "generating exp signal to noise ratios...\n"
     ]
    },
    {
     "name": "stderr",
     "output_type": "stream",
     "text": [
      "../simulacra/detector.py:529: RuntimeWarning: invalid value encountered in add_noise_v\n",
      "  n_readout = add_noise_v(n_exp.flatten().value,snr_grid.flatten()).reshape(out_shape)\n"
     ]
    },
    {
     "name": "stdout",
     "output_type": "stream",
     "text": [
      "generating errors...\n",
      "done.\n",
      "/scratch/mdd423/simulacra/out/2021-11-02/data_e30_R70000.0_a2000.0_p40.3_l7.0e+039.0e+03_ep1.0_w0.0_snr7.7e+01_tp3e-07\n",
      "saving time\n",
      "quantity\n",
      "epoches  saving as string\n",
      "quantity\n",
      "quantity\n",
      "quantity\n",
      "quantity\n",
      "quantity\n"
     ]
    },
    {
     "name": "stderr",
     "output_type": "stream",
     "text": [
      "../simulacra/detector.py:541: RuntimeWarning: invalid value encountered in generate_errors_v\n",
      "  nerr_out = generate_errors_v(n_readout.flatten(),snr_readout.flatten()).reshape(out_shape)\n"
     ]
    },
    {
     "name": "stdout",
     "output_type": "stream",
     "text": [
      "quantity\n",
      "quantity\n",
      "flux  saving as string\n",
      "wave  saving as string\n",
      "quantity\n",
      "quantity\n",
      "quantity\n",
      "alpha  saving as string\n",
      "quantity\n",
      "quantity\n",
      "fluxname  saving as string\n",
      "generate_spectra  saving as string\n",
      "quantity\n",
      "quantity\n",
      "logg  saving as string\n",
      "outdir  saving as string\n",
      "quantity\n",
      "plot  saving as string\n",
      "plot_interpolated  saving as string\n",
      "quantity\n",
      "quantity\n",
      "saving target...340.28129510273834 deg 28.43612929851907 deg\n",
      "temperature  saving as string\n",
      "quantity\n",
      "quantity\n",
      "wavename  saving as string\n",
      "quantity\n",
      "z  saving as string\n",
      "quantity\n",
      "quantity\n",
      "quantity\n",
      "quantity\n",
      "a  saving as string\n",
      "add_model  saving as string\n",
      "quantity\n",
      "checkmax  saving as string\n",
      "checkmin  saving as string\n",
      "quantity\n",
      "epsilon  saving as string\n",
      "gamma  saving as string\n",
      "quantity\n",
      "quantity\n",
      "quantity\n",
      "lsf_centering  saving as string\n",
      "lsf_const_coeffs  saving as string\n",
      "resolution  saving as string\n",
      "sigma  saving as string\n",
      "sigma_range  saving as string\n",
      "simulate  saving as string\n",
      "stellar_model  saving as string\n",
      "through_put  saving as string\n",
      "transmission_cutoff  saving as string\n",
      "transmission_models  saving as string\n",
      "w  saving as string\n",
      "quantity\n",
      "quantity\n",
      "quantity\n",
      "_epoches  saving as string\n",
      "quantity\n",
      "quantity\n",
      "_name  saving as string\n",
      "quantity\n",
      "quantity\n",
      "check_property  saving as string\n",
      "check_shape_type  saving as string\n",
      "epoches  saving as string\n",
      "generate_transmission  saving as string\n",
      "quantity\n",
      "quantity\n",
      "quantity\n",
      "plot  saving as string\n",
      "plot_interpolated  saving as string\n",
      "quantity\n",
      "quantity\n",
      "quantity\n",
      "nan nan\n",
      "using saved wave file\n",
      "../data/stellar/PHOENIX/lte04800-1.00-1.0.Alpha=+0.40.PHOENIX-ACES-AGSS-COND-2011-HiRes.fits\n",
      "using saved flux file\n",
      "reading in ../data/stellar/PHOENIX/WAVE_PHOENIX-ACES-AGSS-COND-2011.fits\n",
      "wave_grid min -> 701.0 nm\n",
      "surface flux: mean 1.31e+14 erg / (cm3 s)\t median 1.14e+14 erg / (cm3 s)\n",
      "obs     flux: mean 3.78e-02 erg / (cm3 s)\t median 3.28e-02 erg / (cm3 s)\n",
      "generating spectra...\n",
      "humidity: 50.0\n",
      " pressure: 10000.0\n",
      " temperature: 300.0\n",
      " lat: 32.78000000000001\n",
      " elevation: 2.797999999999601\n",
      " freqmin(cm-1): 11098.779134295226\n",
      " freqmax(cm-1): 14265.33523537803\n",
      " angle: 62.8613757400191\n",
      "\n",
      "\n",
      "Running exec: lblrtm\n",
      "\n",
      "\n"
     ]
    },
    {
     "name": "stderr",
     "output_type": "stream",
     "text": [
      "Note: The following floating-point exceptions are signalling: IEEE_INVALID_FLAG IEEE_UNDERFLOW_FLAG IEEE_DENORMAL\n",
      "STOP  LBLRTM EXIT \n",
      "2.15user 0.83system 0:03.14elapsed 95%CPU (0avgtext+0avgdata 7560maxresident)k\n",
      "0inputs+0outputs (0major+1233minor)pagefaults 0swaps\n"
     ]
    },
    {
     "name": "stdout",
     "output_type": "stream",
     "text": [
      "\n",
      "Running exec: lblrtm\n",
      "\n",
      "\n"
     ]
    },
    {
     "name": "stderr",
     "output_type": "stream",
     "text": [
      "Note: The following floating-point exceptions are signalling: IEEE_INVALID_FLAG IEEE_UNDERFLOW_FLAG IEEE_DENORMAL\n",
      "STOP  LBLRTM EXIT \n",
      "0.92user 0.70system 0:01.71elapsed 94%CPU (0avgtext+0avgdata 7748maxresident)k\n",
      "0inputs+0outputs (0major+1234minor)pagefaults 0swaps\n"
     ]
    },
    {
     "name": "stdout",
     "output_type": "stream",
     "text": [
      "1143628\n",
      "humidity: 50.0\n",
      " pressure: 10000.0\n",
      " temperature: 300.0\n",
      " lat: 32.78000000000001\n",
      " elevation: 2.797999999999601\n",
      " freqmin(cm-1): 11098.779134295226\n",
      " freqmax(cm-1): 14265.33523537803\n",
      " angle: 36.420938571519066\n",
      "\n",
      "\n",
      "Running exec: lblrtm\n",
      "\n",
      "\n"
     ]
    },
    {
     "name": "stderr",
     "output_type": "stream",
     "text": [
      "Note: The following floating-point exceptions are signalling: IEEE_INVALID_FLAG IEEE_UNDERFLOW_FLAG IEEE_DENORMAL\n",
      "STOP  LBLRTM EXIT \n",
      "2.11user 0.85system 0:03.28elapsed 90%CPU (0avgtext+0avgdata 7688maxresident)k\n",
      "0inputs+0outputs (0major+1237minor)pagefaults 0swaps\n"
     ]
    },
    {
     "name": "stdout",
     "output_type": "stream",
     "text": [
      "\n",
      "Running exec: lblrtm\n",
      "\n",
      "\n"
     ]
    },
    {
     "name": "stderr",
     "output_type": "stream",
     "text": [
      "Note: The following floating-point exceptions are signalling: IEEE_INVALID_FLAG IEEE_UNDERFLOW_FLAG IEEE_DENORMAL\n",
      "STOP  LBLRTM EXIT \n",
      "0.92user 0.72system 0:01.72elapsed 95%CPU (0avgtext+0avgdata 7732maxresident)k\n",
      "0inputs+0outputs (0major+1236minor)pagefaults 0swaps\n"
     ]
    },
    {
     "name": "stdout",
     "output_type": "stream",
     "text": [
      "1143628\n",
      "humidity: 50.0\n",
      " pressure: 10000.0\n",
      " temperature: 300.0\n",
      " lat: 32.78000000000001\n",
      " elevation: 2.797999999999601\n",
      " freqmin(cm-1): 11098.779134295226\n",
      " freqmax(cm-1): 14265.33523537803\n",
      " angle: 70.23515457427514\n",
      "\n",
      "\n",
      "Running exec: lblrtm\n",
      "\n",
      "\n"
     ]
    },
    {
     "name": "stderr",
     "output_type": "stream",
     "text": [
      "Note: The following floating-point exceptions are signalling: IEEE_INVALID_FLAG IEEE_UNDERFLOW_FLAG IEEE_DENORMAL\n",
      "STOP  LBLRTM EXIT \n",
      "2.16user 0.81system 0:03.25elapsed 91%CPU (0avgtext+0avgdata 7648maxresident)k\n",
      "0inputs+0outputs (0major+1235minor)pagefaults 0swaps\n"
     ]
    },
    {
     "name": "stdout",
     "output_type": "stream",
     "text": [
      "\n",
      "Running exec: lblrtm\n",
      "\n",
      "\n"
     ]
    },
    {
     "name": "stderr",
     "output_type": "stream",
     "text": [
      "Note: The following floating-point exceptions are signalling: IEEE_INVALID_FLAG IEEE_UNDERFLOW_FLAG IEEE_DENORMAL\n",
      "STOP  LBLRTM EXIT \n",
      "0.92user 0.70system 0:01.76elapsed 92%CPU (0avgtext+0avgdata 7720maxresident)k\n",
      "0inputs+0outputs (0major+1234minor)pagefaults 0swaps\n"
     ]
    },
    {
     "name": "stdout",
     "output_type": "stream",
     "text": [
      "1143628\n",
      "humidity: 50.0\n",
      " pressure: 10000.0\n",
      " temperature: 300.0\n",
      " lat: 32.78000000000001\n",
      " elevation: 2.797999999999601\n",
      " freqmin(cm-1): 11098.779134295226\n",
      " freqmax(cm-1): 14265.33523537803\n",
      " angle: 37.41097711185363\n",
      "\n",
      "\n",
      "Running exec: lblrtm\n",
      "\n",
      "\n"
     ]
    },
    {
     "name": "stderr",
     "output_type": "stream",
     "text": [
      "Note: The following floating-point exceptions are signalling: IEEE_INVALID_FLAG IEEE_UNDERFLOW_FLAG IEEE_DENORMAL\n",
      "STOP  LBLRTM EXIT \n",
      "2.14user 0.82system 0:03.20elapsed 92%CPU (0avgtext+0avgdata 7668maxresident)k\n",
      "0inputs+0outputs (0major+1234minor)pagefaults 0swaps\n"
     ]
    },
    {
     "name": "stdout",
     "output_type": "stream",
     "text": [
      "\n",
      "Running exec: lblrtm\n",
      "\n",
      "\n"
     ]
    },
    {
     "name": "stderr",
     "output_type": "stream",
     "text": [
      "Note: The following floating-point exceptions are signalling: IEEE_INVALID_FLAG IEEE_UNDERFLOW_FLAG IEEE_DENORMAL\n",
      "STOP  LBLRTM EXIT \n",
      "0.90user 0.71system 0:01.71elapsed 94%CPU (0avgtext+0avgdata 7732maxresident)k\n",
      "0inputs+0outputs (0major+1237minor)pagefaults 0swaps\n"
     ]
    },
    {
     "name": "stdout",
     "output_type": "stream",
     "text": [
      "1143628\n",
      "humidity: 50.0\n",
      " pressure: 10000.0\n",
      " temperature: 300.0\n",
      " lat: 32.78000000000001\n",
      " elevation: 2.797999999999601\n",
      " freqmin(cm-1): 11098.779134295226\n",
      " freqmax(cm-1): 14265.33523537803\n",
      " angle: 65.09115788813192\n",
      "\n",
      "\n",
      "Running exec: lblrtm\n",
      "\n",
      "\n"
     ]
    },
    {
     "name": "stderr",
     "output_type": "stream",
     "text": [
      "Note: The following floating-point exceptions are signalling: IEEE_INVALID_FLAG IEEE_UNDERFLOW_FLAG IEEE_DENORMAL\n",
      "STOP  LBLRTM EXIT \n",
      "2.11user 0.82system 0:03.18elapsed 92%CPU (0avgtext+0avgdata 7524maxresident)k\n",
      "0inputs+0outputs (0major+1233minor)pagefaults 0swaps\n"
     ]
    },
    {
     "name": "stdout",
     "output_type": "stream",
     "text": [
      "\n",
      "Running exec: lblrtm\n",
      "\n",
      "\n"
     ]
    },
    {
     "name": "stderr",
     "output_type": "stream",
     "text": [
      "Note: The following floating-point exceptions are signalling: IEEE_INVALID_FLAG IEEE_UNDERFLOW_FLAG IEEE_DENORMAL\n",
      "STOP  LBLRTM EXIT \n",
      "0.92user 0.70system 0:01.73elapsed 94%CPU (0avgtext+0avgdata 7624maxresident)k\n",
      "0inputs+0outputs (0major+1233minor)pagefaults 0swaps\n"
     ]
    },
    {
     "name": "stdout",
     "output_type": "stream",
     "text": [
      "1127370\n",
      "humidity: 50.0\n",
      " pressure: 10000.0\n",
      " temperature: 300.0\n",
      " lat: 32.78000000000001\n",
      " elevation: 2.797999999999601\n",
      " freqmin(cm-1): 11098.779134295226\n",
      " freqmax(cm-1): 14265.33523537803\n",
      " angle: 59.94944845829285\n",
      "\n",
      "\n",
      "Running exec: lblrtm\n",
      "\n",
      "\n"
     ]
    },
    {
     "name": "stderr",
     "output_type": "stream",
     "text": [
      "Note: The following floating-point exceptions are signalling: IEEE_INVALID_FLAG IEEE_UNDERFLOW_FLAG IEEE_DENORMAL\n",
      "STOP  LBLRTM EXIT \n",
      "2.12user 0.82system 0:03.07elapsed 95%CPU (0avgtext+0avgdata 7728maxresident)k\n",
      "0inputs+0outputs (0major+1235minor)pagefaults 0swaps\n"
     ]
    },
    {
     "name": "stdout",
     "output_type": "stream",
     "text": [
      "\n",
      "Running exec: lblrtm\n",
      "\n",
      "\n"
     ]
    },
    {
     "name": "stderr",
     "output_type": "stream",
     "text": [
      "Note: The following floating-point exceptions are signalling: IEEE_INVALID_FLAG IEEE_UNDERFLOW_FLAG IEEE_DENORMAL\n",
      "STOP  LBLRTM EXIT \n",
      "0.94user 0.71system 0:01.77elapsed 93%CPU (0avgtext+0avgdata 7672maxresident)k\n",
      "0inputs+0outputs (0major+1233minor)pagefaults 0swaps\n"
     ]
    },
    {
     "name": "stdout",
     "output_type": "stream",
     "text": [
      "1124676\n",
      "humidity: 50.0\n",
      " pressure: 10000.0\n",
      " temperature: 300.0\n",
      " lat: 32.78000000000001\n",
      " elevation: 2.797999999999601\n",
      " freqmin(cm-1): 11098.779134295226\n",
      " freqmax(cm-1): 14265.33523537803\n",
      " angle: 27.811520651072378\n",
      "\n",
      "\n",
      "Running exec: lblrtm\n",
      "\n",
      "\n"
     ]
    },
    {
     "name": "stderr",
     "output_type": "stream",
     "text": [
      "Note: The following floating-point exceptions are signalling: IEEE_INVALID_FLAG IEEE_UNDERFLOW_FLAG IEEE_DENORMAL\n",
      "STOP  LBLRTM EXIT \n",
      "2.14user 0.80system 0:03.17elapsed 92%CPU (0avgtext+0avgdata 7716maxresident)k\n",
      "0inputs+0outputs (0major+1237minor)pagefaults 0swaps\n"
     ]
    },
    {
     "name": "stdout",
     "output_type": "stream",
     "text": [
      "\n",
      "Running exec: lblrtm\n",
      "\n",
      "\n"
     ]
    },
    {
     "name": "stderr",
     "output_type": "stream",
     "text": [
      "Note: The following floating-point exceptions are signalling: IEEE_INVALID_FLAG IEEE_UNDERFLOW_FLAG IEEE_DENORMAL\n",
      "STOP  LBLRTM EXIT \n",
      "0.89user 0.73system 0:01.73elapsed 93%CPU (0avgtext+0avgdata 7720maxresident)k\n",
      "0inputs+0outputs (0major+1234minor)pagefaults 0swaps\n"
     ]
    },
    {
     "name": "stdout",
     "output_type": "stream",
     "text": [
      "1143628\n",
      "humidity: 50.0\n",
      " pressure: 10000.0\n",
      " temperature: 300.0\n",
      " lat: 32.78000000000001\n",
      " elevation: 2.797999999999601\n",
      " freqmin(cm-1): 11098.779134295226\n",
      " freqmax(cm-1): 14265.33523537803\n",
      " angle: 4.6273790635876395\n",
      "\n",
      "\n",
      "Running exec: lblrtm\n",
      "\n",
      "\n"
     ]
    },
    {
     "name": "stderr",
     "output_type": "stream",
     "text": [
      "Note: The following floating-point exceptions are signalling: IEEE_INVALID_FLAG IEEE_UNDERFLOW_FLAG IEEE_DENORMAL\n",
      "STOP  LBLRTM EXIT \n",
      "2.13user 0.83system 0:03.08elapsed 96%CPU (0avgtext+0avgdata 7708maxresident)k\n",
      "0inputs+0outputs (0major+1236minor)pagefaults 0swaps\n"
     ]
    },
    {
     "name": "stdout",
     "output_type": "stream",
     "text": [
      "\n",
      "Running exec: lblrtm\n",
      "\n",
      "\n"
     ]
    },
    {
     "name": "stderr",
     "output_type": "stream",
     "text": [
      "Note: The following floating-point exceptions are signalling: IEEE_INVALID_FLAG IEEE_UNDERFLOW_FLAG IEEE_DENORMAL\n",
      "STOP  LBLRTM EXIT \n",
      "0.86user 0.74system 0:01.71elapsed 93%CPU (0avgtext+0avgdata 7624maxresident)k\n",
      "0inputs+0outputs (0major+1233minor)pagefaults 0swaps\n"
     ]
    },
    {
     "name": "stdout",
     "output_type": "stream",
     "text": [
      "1143628\n",
      "humidity: 50.0\n",
      " pressure: 10000.0\n",
      " temperature: 300.0\n",
      " lat: 32.78000000000001\n",
      " elevation: 2.797999999999601\n",
      " freqmin(cm-1): 11098.779134295226\n",
      " freqmax(cm-1): 14265.33523537803\n",
      " angle: 11.404396925323324\n",
      "\n",
      "\n",
      "Running exec: lblrtm\n",
      "\n",
      "\n"
     ]
    },
    {
     "name": "stderr",
     "output_type": "stream",
     "text": [
      "Note: The following floating-point exceptions are signalling: IEEE_INVALID_FLAG IEEE_UNDERFLOW_FLAG IEEE_DENORMAL\n",
      "STOP  LBLRTM EXIT \n",
      "2.14user 0.82system 0:03.22elapsed 92%CPU (0avgtext+0avgdata 7636maxresident)k\n",
      "0inputs+0outputs (0major+1235minor)pagefaults 0swaps\n"
     ]
    },
    {
     "name": "stdout",
     "output_type": "stream",
     "text": [
      "\n",
      "Running exec: lblrtm\n",
      "\n",
      "\n"
     ]
    },
    {
     "name": "stderr",
     "output_type": "stream",
     "text": [
      "Note: The following floating-point exceptions are signalling: IEEE_INVALID_FLAG IEEE_UNDERFLOW_FLAG IEEE_DENORMAL\n",
      "STOP  LBLRTM EXIT \n",
      "0.91user 0.69system 0:01.70elapsed 94%CPU (0avgtext+0avgdata 7728maxresident)k\n",
      "0inputs+0outputs (0major+1236minor)pagefaults 0swaps\n"
     ]
    },
    {
     "name": "stdout",
     "output_type": "stream",
     "text": [
      "1143628\n",
      "humidity: 50.0\n",
      " pressure: 10000.0\n",
      " temperature: 300.0\n",
      " lat: 32.78000000000001\n",
      " elevation: 2.797999999999601\n",
      " freqmin(cm-1): 11098.779134295226\n",
      " freqmax(cm-1): 14265.33523537803\n",
      " angle: 54.85857323188904\n",
      "\n",
      "\n",
      "Running exec: lblrtm\n",
      "\n",
      "\n"
     ]
    },
    {
     "name": "stderr",
     "output_type": "stream",
     "text": [
      "Note: The following floating-point exceptions are signalling: IEEE_INVALID_FLAG IEEE_UNDERFLOW_FLAG IEEE_DENORMAL\n",
      "STOP  LBLRTM EXIT \n",
      "2.11user 0.85system 0:03.12elapsed 95%CPU (0avgtext+0avgdata 7672maxresident)k\n",
      "0inputs+0outputs (0major+1233minor)pagefaults 0swaps\n"
     ]
    },
    {
     "name": "stdout",
     "output_type": "stream",
     "text": [
      "\n",
      "Running exec: lblrtm\n",
      "\n",
      "\n"
     ]
    },
    {
     "name": "stderr",
     "output_type": "stream",
     "text": [
      "Note: The following floating-point exceptions are signalling: IEEE_INVALID_FLAG IEEE_UNDERFLOW_FLAG IEEE_DENORMAL\n",
      "STOP  LBLRTM EXIT \n",
      "0.88user 0.71system 0:01.69elapsed 94%CPU (0avgtext+0avgdata 7720maxresident)k\n",
      "0inputs+0outputs (0major+1234minor)pagefaults 0swaps\n"
     ]
    },
    {
     "name": "stdout",
     "output_type": "stream",
     "text": [
      "1111626\n",
      "humidity: 50.0\n",
      " pressure: 10000.0\n",
      " temperature: 300.0\n",
      " lat: 32.78000000000001\n",
      " elevation: 2.797999999999601\n",
      " freqmin(cm-1): 11098.779134295226\n",
      " freqmax(cm-1): 14265.33523537803\n",
      " angle: 27.82399986133828\n",
      "\n",
      "\n",
      "Running exec: lblrtm\n",
      "\n",
      "\n"
     ]
    },
    {
     "name": "stderr",
     "output_type": "stream",
     "text": [
      "Note: The following floating-point exceptions are signalling: IEEE_INVALID_FLAG IEEE_UNDERFLOW_FLAG IEEE_DENORMAL\n",
      "STOP  LBLRTM EXIT \n",
      "2.15user 0.81system 0:03.14elapsed 94%CPU (0avgtext+0avgdata 7672maxresident)k\n",
      "0inputs+0outputs (0major+1234minor)pagefaults 0swaps\n"
     ]
    },
    {
     "name": "stdout",
     "output_type": "stream",
     "text": [
      "\n",
      "Running exec: lblrtm\n",
      "\n",
      "\n"
     ]
    },
    {
     "name": "stderr",
     "output_type": "stream",
     "text": [
      "Note: The following floating-point exceptions are signalling: IEEE_INVALID_FLAG IEEE_UNDERFLOW_FLAG IEEE_DENORMAL\n",
      "STOP  LBLRTM EXIT \n",
      "0.87user 0.75system 0:01.69elapsed 95%CPU (0avgtext+0avgdata 7552maxresident)k\n",
      "0inputs+0outputs (0major+1233minor)pagefaults 0swaps\n"
     ]
    },
    {
     "name": "stdout",
     "output_type": "stream",
     "text": [
      "1143628\n",
      "humidity: 50.0\n",
      " pressure: 10000.0\n",
      " temperature: 300.0\n",
      " lat: 32.78000000000001\n",
      " elevation: 2.797999999999601\n",
      " freqmin(cm-1): 11098.779134295226\n",
      " freqmax(cm-1): 14265.33523537803\n",
      " angle: 32.81380139483823\n",
      "\n",
      "\n",
      "Running exec: lblrtm\n",
      "\n",
      "\n"
     ]
    },
    {
     "name": "stderr",
     "output_type": "stream",
     "text": [
      "Note: The following floating-point exceptions are signalling: IEEE_INVALID_FLAG IEEE_UNDERFLOW_FLAG IEEE_DENORMAL\n",
      "STOP  LBLRTM EXIT \n",
      "2.13user 0.80system 0:03.15elapsed 93%CPU (0avgtext+0avgdata 7560maxresident)k\n",
      "0inputs+0outputs (0major+1233minor)pagefaults 0swaps\n"
     ]
    },
    {
     "name": "stdout",
     "output_type": "stream",
     "text": [
      "\n",
      "Running exec: lblrtm\n",
      "\n",
      "\n"
     ]
    },
    {
     "name": "stderr",
     "output_type": "stream",
     "text": [
      "Note: The following floating-point exceptions are signalling: IEEE_INVALID_FLAG IEEE_UNDERFLOW_FLAG IEEE_DENORMAL\n",
      "STOP  LBLRTM EXIT \n",
      "0.92user 0.69system 0:01.71elapsed 94%CPU (0avgtext+0avgdata 7720maxresident)k\n",
      "0inputs+0outputs (0major+1234minor)pagefaults 0swaps\n"
     ]
    },
    {
     "name": "stdout",
     "output_type": "stream",
     "text": [
      "1143628\n",
      "humidity: 50.0\n",
      " pressure: 10000.0\n",
      " temperature: 300.0\n",
      " lat: 32.78000000000001\n",
      " elevation: 2.797999999999601\n",
      " freqmin(cm-1): 11098.779134295226\n",
      " freqmax(cm-1): 14265.33523537803\n",
      " angle: 5.685228205863384\n",
      "\n",
      "\n",
      "Running exec: lblrtm\n",
      "\n",
      "\n"
     ]
    },
    {
     "name": "stderr",
     "output_type": "stream",
     "text": [
      "Note: The following floating-point exceptions are signalling: IEEE_INVALID_FLAG IEEE_UNDERFLOW_FLAG IEEE_DENORMAL\n",
      "STOP  LBLRTM EXIT \n",
      "2.13user 0.81system 0:03.14elapsed 93%CPU (0avgtext+0avgdata 7728maxresident)k\n",
      "0inputs+0outputs (0major+1236minor)pagefaults 0swaps\n"
     ]
    },
    {
     "name": "stdout",
     "output_type": "stream",
     "text": [
      "\n",
      "Running exec: lblrtm\n",
      "\n",
      "\n"
     ]
    },
    {
     "name": "stderr",
     "output_type": "stream",
     "text": [
      "Note: The following floating-point exceptions are signalling: IEEE_INVALID_FLAG IEEE_UNDERFLOW_FLAG IEEE_DENORMAL\n",
      "STOP  LBLRTM EXIT \n",
      "0.91user 0.70system 0:01.70elapsed 94%CPU (0avgtext+0avgdata 7672maxresident)k\n",
      "0inputs+0outputs (0major+1233minor)pagefaults 0swaps\n"
     ]
    },
    {
     "name": "stdout",
     "output_type": "stream",
     "text": [
      "1143628\n",
      "humidity: 50.0\n",
      " pressure: 10000.0\n",
      " temperature: 300.0\n",
      " lat: 32.78000000000001\n",
      " elevation: 2.797999999999601\n",
      " freqmin(cm-1): 11098.779134295226\n",
      " freqmax(cm-1): 14265.33523537803\n",
      " angle: 50.422615509223334\n",
      "\n",
      "\n",
      "Running exec: lblrtm\n",
      "\n",
      "\n"
     ]
    },
    {
     "name": "stderr",
     "output_type": "stream",
     "text": [
      "Note: The following floating-point exceptions are signalling: IEEE_INVALID_FLAG IEEE_UNDERFLOW_FLAG IEEE_DENORMAL\n",
      "STOP  LBLRTM EXIT \n",
      "2.10user 0.89system 0:03.25elapsed 92%CPU (0avgtext+0avgdata 7556maxresident)k\n",
      "0inputs+0outputs (0major+1233minor)pagefaults 0swaps\n"
     ]
    },
    {
     "name": "stdout",
     "output_type": "stream",
     "text": [
      "\n",
      "Running exec: lblrtm\n",
      "\n",
      "\n"
     ]
    },
    {
     "name": "stderr",
     "output_type": "stream",
     "text": [
      "Note: The following floating-point exceptions are signalling: IEEE_INVALID_FLAG IEEE_UNDERFLOW_FLAG IEEE_DENORMAL\n",
      "STOP  LBLRTM EXIT \n",
      "0.91user 0.72system 0:01.74elapsed 94%CPU (0avgtext+0avgdata 7720maxresident)k\n",
      "0inputs+0outputs (0major+1238minor)pagefaults 0swaps\n"
     ]
    },
    {
     "name": "stdout",
     "output_type": "stream",
     "text": [
      "1143628\n",
      "humidity: 50.0\n",
      " pressure: 10000.0\n",
      " temperature: 300.0\n",
      " lat: 32.78000000000001\n",
      " elevation: 2.797999999999601\n",
      " freqmin(cm-1): 11098.779134295226\n",
      " freqmax(cm-1): 14265.33523537803\n",
      " angle: 66.89041188034572\n",
      "\n",
      "\n",
      "Running exec: lblrtm\n",
      "\n",
      "\n"
     ]
    },
    {
     "name": "stderr",
     "output_type": "stream",
     "text": [
      "Note: The following floating-point exceptions are signalling: IEEE_INVALID_FLAG IEEE_UNDERFLOW_FLAG IEEE_DENORMAL\n",
      "STOP  LBLRTM EXIT \n",
      "2.16user 0.81system 0:03.19elapsed 93%CPU (0avgtext+0avgdata 7556maxresident)k\n",
      "0inputs+0outputs (0major+1233minor)pagefaults 0swaps\n"
     ]
    },
    {
     "name": "stdout",
     "output_type": "stream",
     "text": [
      "\n",
      "Running exec: lblrtm\n",
      "\n",
      "\n"
     ]
    },
    {
     "name": "stderr",
     "output_type": "stream",
     "text": [
      "Note: The following floating-point exceptions are signalling: IEEE_INVALID_FLAG IEEE_UNDERFLOW_FLAG IEEE_DENORMAL\n",
      "STOP  LBLRTM EXIT \n",
      "0.92user 0.70system 0:01.72elapsed 94%CPU (0avgtext+0avgdata 7624maxresident)k\n",
      "0inputs+0outputs (0major+1233minor)pagefaults 0swaps\n"
     ]
    },
    {
     "name": "stdout",
     "output_type": "stream",
     "text": [
      "1143628\n",
      "humidity: 50.0\n",
      " pressure: 10000.0\n",
      " temperature: 300.0\n",
      " lat: 32.78000000000001\n",
      " elevation: 2.797999999999601\n",
      " freqmin(cm-1): 11098.779134295226\n",
      " freqmax(cm-1): 14265.33523537803\n",
      " angle: 65.6425420077903\n",
      "\n",
      "\n",
      "Running exec: lblrtm\n",
      "\n",
      "\n"
     ]
    },
    {
     "name": "stderr",
     "output_type": "stream",
     "text": [
      "Note: The following floating-point exceptions are signalling: IEEE_INVALID_FLAG IEEE_UNDERFLOW_FLAG IEEE_DENORMAL\n",
      "STOP  LBLRTM EXIT \n",
      "2.15user 0.83system 0:03.18elapsed 93%CPU (0avgtext+0avgdata 7680maxresident)k\n",
      "0inputs+0outputs (0major+1236minor)pagefaults 0swaps\n"
     ]
    },
    {
     "name": "stdout",
     "output_type": "stream",
     "text": [
      "\n",
      "Running exec: lblrtm\n",
      "\n",
      "\n"
     ]
    },
    {
     "name": "stderr",
     "output_type": "stream",
     "text": [
      "Note: The following floating-point exceptions are signalling: IEEE_INVALID_FLAG IEEE_UNDERFLOW_FLAG IEEE_DENORMAL\n",
      "STOP  LBLRTM EXIT \n",
      "0.91user 0.70system 0:01.74elapsed 93%CPU (0avgtext+0avgdata 7748maxresident)k\n",
      "0inputs+0outputs (0major+1234minor)pagefaults 0swaps\n"
     ]
    },
    {
     "name": "stdout",
     "output_type": "stream",
     "text": [
      "1143628\n",
      "humidity: 50.0\n",
      " pressure: 10000.0\n",
      " temperature: 300.0\n",
      " lat: 32.78000000000001\n",
      " elevation: 2.797999999999601\n",
      " freqmin(cm-1): 11098.779134295226\n",
      " freqmax(cm-1): 14265.33523537803\n",
      " angle: 4.244341434002005\n",
      "\n",
      "\n",
      "Running exec: lblrtm\n",
      "\n",
      "\n"
     ]
    },
    {
     "name": "stderr",
     "output_type": "stream",
     "text": [
      "Note: The following floating-point exceptions are signalling: IEEE_INVALID_FLAG IEEE_UNDERFLOW_FLAG IEEE_DENORMAL\n",
      "STOP  LBLRTM EXIT \n",
      "2.15user 0.77system 0:03.14elapsed 93%CPU (0avgtext+0avgdata 7528maxresident)k\n",
      "0inputs+0outputs (0major+1235minor)pagefaults 0swaps\n"
     ]
    },
    {
     "name": "stdout",
     "output_type": "stream",
     "text": [
      "\n",
      "Running exec: lblrtm\n",
      "\n",
      "\n"
     ]
    },
    {
     "name": "stderr",
     "output_type": "stream",
     "text": [
      "Note: The following floating-point exceptions are signalling: IEEE_INVALID_FLAG IEEE_UNDERFLOW_FLAG IEEE_DENORMAL\n",
      "STOP  LBLRTM EXIT \n",
      "0.92user 0.68system 0:01.70elapsed 94%CPU (0avgtext+0avgdata 7672maxresident)k\n",
      "0inputs+0outputs (0major+1234minor)pagefaults 0swaps\n"
     ]
    },
    {
     "name": "stdout",
     "output_type": "stream",
     "text": [
      "1143628\n",
      "humidity: 50.0\n",
      " pressure: 10000.0\n",
      " temperature: 300.0\n",
      " lat: 32.78000000000001\n",
      " elevation: 2.797999999999601\n",
      " freqmin(cm-1): 11098.779134295226\n",
      " freqmax(cm-1): 14265.33523537803\n",
      " angle: 25.73402125733466\n",
      "\n",
      "\n",
      "Running exec: lblrtm\n",
      "\n",
      "\n"
     ]
    },
    {
     "name": "stderr",
     "output_type": "stream",
     "text": [
      "Note: The following floating-point exceptions are signalling: IEEE_INVALID_FLAG IEEE_UNDERFLOW_FLAG IEEE_DENORMAL\n",
      "STOP  LBLRTM EXIT \n",
      "2.12user 0.81system 0:03.15elapsed 93%CPU (0avgtext+0avgdata 7784maxresident)k\n",
      "0inputs+0outputs (0major+1237minor)pagefaults 0swaps\n"
     ]
    },
    {
     "name": "stdout",
     "output_type": "stream",
     "text": [
      "\n",
      "Running exec: lblrtm\n",
      "\n",
      "\n"
     ]
    },
    {
     "name": "stderr",
     "output_type": "stream",
     "text": [
      "Note: The following floating-point exceptions are signalling: IEEE_INVALID_FLAG IEEE_UNDERFLOW_FLAG IEEE_DENORMAL\n",
      "STOP  LBLRTM EXIT \n",
      "0.91user 0.69system 0:01.73elapsed 93%CPU (0avgtext+0avgdata 7752maxresident)k\n",
      "0inputs+0outputs (0major+1237minor)pagefaults 0swaps\n"
     ]
    },
    {
     "name": "stdout",
     "output_type": "stream",
     "text": [
      "1143628\n",
      "humidity: 50.0\n",
      " pressure: 10000.0\n",
      " temperature: 300.0\n",
      " lat: 32.78000000000001\n",
      " elevation: 2.797999999999601\n",
      " freqmin(cm-1): 11098.779134295226\n",
      " freqmax(cm-1): 14265.33523537803\n",
      " angle: 41.82411679419448\n",
      "\n",
      "\n",
      "Running exec: lblrtm\n",
      "\n",
      "\n"
     ]
    },
    {
     "name": "stderr",
     "output_type": "stream",
     "text": [
      "Note: The following floating-point exceptions are signalling: IEEE_INVALID_FLAG IEEE_UNDERFLOW_FLAG IEEE_DENORMAL\n",
      "STOP  LBLRTM EXIT \n",
      "2.10user 0.87system 0:03.16elapsed 93%CPU (0avgtext+0avgdata 7720maxresident)k\n",
      "0inputs+0outputs (0major+1235minor)pagefaults 0swaps\n"
     ]
    },
    {
     "name": "stdout",
     "output_type": "stream",
     "text": [
      "\n",
      "Running exec: lblrtm\n",
      "\n",
      "\n"
     ]
    },
    {
     "name": "stderr",
     "output_type": "stream",
     "text": [
      "Note: The following floating-point exceptions are signalling: IEEE_INVALID_FLAG IEEE_UNDERFLOW_FLAG IEEE_DENORMAL\n",
      "STOP  LBLRTM EXIT \n",
      "0.91user 0.72system 0:01.76elapsed 93%CPU (0avgtext+0avgdata 7684maxresident)k\n",
      "0inputs+0outputs (0major+1237minor)pagefaults 0swaps\n"
     ]
    },
    {
     "name": "stdout",
     "output_type": "stream",
     "text": [
      "1143628\n",
      "humidity: 50.0\n",
      " pressure: 10000.0\n",
      " temperature: 300.0\n",
      " lat: 32.78000000000001\n",
      " elevation: 2.797999999999601\n",
      " freqmin(cm-1): 11098.779134295226\n",
      " freqmax(cm-1): 14265.33523537803\n",
      " angle: 19.147041951230698\n",
      "\n",
      "\n",
      "Running exec: lblrtm\n",
      "\n",
      "\n"
     ]
    },
    {
     "name": "stderr",
     "output_type": "stream",
     "text": [
      "Note: The following floating-point exceptions are signalling: IEEE_INVALID_FLAG IEEE_UNDERFLOW_FLAG IEEE_DENORMAL\n",
      "STOP  LBLRTM EXIT \n",
      "2.10user 0.87system 0:03.23elapsed 92%CPU (0avgtext+0avgdata 7816maxresident)k\n",
      "0inputs+0outputs (0major+1238minor)pagefaults 0swaps\n"
     ]
    },
    {
     "name": "stdout",
     "output_type": "stream",
     "text": [
      "\n",
      "Running exec: lblrtm\n",
      "\n",
      "\n"
     ]
    },
    {
     "name": "stderr",
     "output_type": "stream",
     "text": [
      "Note: The following floating-point exceptions are signalling: IEEE_INVALID_FLAG IEEE_UNDERFLOW_FLAG IEEE_DENORMAL\n",
      "STOP  LBLRTM EXIT \n",
      "0.90user 0.71system 0:01.72elapsed 93%CPU (0avgtext+0avgdata 7712maxresident)k\n",
      "0inputs+0outputs (0major+1236minor)pagefaults 0swaps\n"
     ]
    },
    {
     "name": "stdout",
     "output_type": "stream",
     "text": [
      "1143628\n",
      "humidity: 50.0\n",
      " pressure: 10000.0\n",
      " temperature: 300.0\n",
      " lat: 32.78000000000001\n",
      " elevation: 2.797999999999601\n",
      " freqmin(cm-1): 11098.779134295226\n",
      " freqmax(cm-1): 14265.33523537803\n",
      " angle: 38.23670948006227\n",
      "\n",
      "\n",
      "Running exec: lblrtm\n",
      "\n",
      "\n"
     ]
    },
    {
     "name": "stderr",
     "output_type": "stream",
     "text": [
      "Note: The following floating-point exceptions are signalling: IEEE_INVALID_FLAG IEEE_UNDERFLOW_FLAG IEEE_DENORMAL\n",
      "STOP  LBLRTM EXIT \n",
      "2.15user 0.78system 0:03.06elapsed 96%CPU (0avgtext+0avgdata 7720maxresident)k\n",
      "0inputs+0outputs (0major+1237minor)pagefaults 0swaps\n"
     ]
    },
    {
     "name": "stdout",
     "output_type": "stream",
     "text": [
      "\n",
      "Running exec: lblrtm\n",
      "\n",
      "\n"
     ]
    },
    {
     "name": "stderr",
     "output_type": "stream",
     "text": [
      "Note: The following floating-point exceptions are signalling: IEEE_INVALID_FLAG IEEE_UNDERFLOW_FLAG IEEE_DENORMAL\n",
      "STOP  LBLRTM EXIT \n",
      "0.89user 0.71system 0:01.74elapsed 92%CPU (0avgtext+0avgdata 7688maxresident)k\n",
      "0inputs+0outputs (0major+1236minor)pagefaults 0swaps\n"
     ]
    },
    {
     "name": "stdout",
     "output_type": "stream",
     "text": [
      "1143628\n",
      "humidity: 50.0\n",
      " pressure: 10000.0\n",
      " temperature: 300.0\n",
      " lat: 32.78000000000001\n",
      " elevation: 2.797999999999601\n",
      " freqmin(cm-1): 11098.779134295226\n",
      " freqmax(cm-1): 14265.33523537803\n",
      " angle: 47.73236591064268\n",
      "\n",
      "\n",
      "Running exec: lblrtm\n",
      "\n",
      "\n"
     ]
    },
    {
     "name": "stderr",
     "output_type": "stream",
     "text": [
      "Note: The following floating-point exceptions are signalling: IEEE_INVALID_FLAG IEEE_UNDERFLOW_FLAG IEEE_DENORMAL\n",
      "STOP  LBLRTM EXIT \n",
      "2.15user 0.79system 0:03.16elapsed 93%CPU (0avgtext+0avgdata 7720maxresident)k\n",
      "0inputs+0outputs (0major+1237minor)pagefaults 0swaps\n"
     ]
    },
    {
     "name": "stdout",
     "output_type": "stream",
     "text": [
      "\n",
      "Running exec: lblrtm\n",
      "\n",
      "\n"
     ]
    },
    {
     "name": "stderr",
     "output_type": "stream",
     "text": [
      "Note: The following floating-point exceptions are signalling: IEEE_INVALID_FLAG IEEE_UNDERFLOW_FLAG IEEE_DENORMAL\n",
      "STOP  LBLRTM EXIT \n",
      "0.93user 0.70system 0:01.75elapsed 93%CPU (0avgtext+0avgdata 7624maxresident)k\n",
      "0inputs+0outputs (0major+1233minor)pagefaults 0swaps\n"
     ]
    },
    {
     "name": "stdout",
     "output_type": "stream",
     "text": [
      "1143628\n",
      "humidity: 50.0\n",
      " pressure: 10000.0\n",
      " temperature: 300.0\n",
      " lat: 32.78000000000001\n",
      " elevation: 2.797999999999601\n",
      " freqmin(cm-1): 11098.779134295226\n",
      " freqmax(cm-1): 14265.33523537803\n",
      " angle: 42.79961082627774\n",
      "\n",
      "\n",
      "Running exec: lblrtm\n",
      "\n",
      "\n"
     ]
    },
    {
     "name": "stderr",
     "output_type": "stream",
     "text": [
      "Note: The following floating-point exceptions are signalling: IEEE_INVALID_FLAG IEEE_UNDERFLOW_FLAG IEEE_DENORMAL\n",
      "STOP  LBLRTM EXIT \n",
      "2.14user 0.83system 0:03.17elapsed 93%CPU (0avgtext+0avgdata 7628maxresident)k\n",
      "0inputs+0outputs (0major+1233minor)pagefaults 0swaps\n"
     ]
    },
    {
     "name": "stdout",
     "output_type": "stream",
     "text": [
      "\n",
      "Running exec: lblrtm\n",
      "\n",
      "\n"
     ]
    },
    {
     "name": "stderr",
     "output_type": "stream",
     "text": [
      "Note: The following floating-point exceptions are signalling: IEEE_INVALID_FLAG IEEE_UNDERFLOW_FLAG IEEE_DENORMAL\n",
      "STOP  LBLRTM EXIT \n",
      "0.91user 0.70system 0:01.71elapsed 94%CPU (0avgtext+0avgdata 7672maxresident)k\n",
      "0inputs+0outputs (0major+1233minor)pagefaults 0swaps\n"
     ]
    },
    {
     "name": "stdout",
     "output_type": "stream",
     "text": [
      "1143628\n",
      "humidity: 50.0\n",
      " pressure: 10000.0\n",
      " temperature: 300.0\n",
      " lat: 32.78000000000001\n",
      " elevation: 2.797999999999601\n",
      " freqmin(cm-1): 11098.779134295226\n",
      " freqmax(cm-1): 14265.33523537803\n",
      " angle: 44.62927519288961\n",
      "\n",
      "\n",
      "Running exec: lblrtm\n",
      "\n",
      "\n"
     ]
    },
    {
     "name": "stderr",
     "output_type": "stream",
     "text": [
      "Note: The following floating-point exceptions are signalling: IEEE_INVALID_FLAG IEEE_UNDERFLOW_FLAG IEEE_DENORMAL\n",
      "STOP  LBLRTM EXIT \n",
      "2.12user 0.84system 0:03.20elapsed 92%CPU (0avgtext+0avgdata 7672maxresident)k\n",
      "0inputs+0outputs (0major+1233minor)pagefaults 0swaps\n"
     ]
    },
    {
     "name": "stdout",
     "output_type": "stream",
     "text": [
      "\n",
      "Running exec: lblrtm\n",
      "\n",
      "\n"
     ]
    },
    {
     "name": "stderr",
     "output_type": "stream",
     "text": [
      "Note: The following floating-point exceptions are signalling: IEEE_INVALID_FLAG IEEE_UNDERFLOW_FLAG IEEE_DENORMAL\n",
      "STOP  LBLRTM EXIT \n",
      "0.91user 0.72system 0:01.73elapsed 94%CPU (0avgtext+0avgdata 7708maxresident)k\n",
      "0inputs+0outputs (0major+1236minor)pagefaults 0swaps\n"
     ]
    },
    {
     "name": "stdout",
     "output_type": "stream",
     "text": [
      "1143628\n",
      "humidity: 50.0\n",
      " pressure: 10000.0\n",
      " temperature: 300.0\n",
      " lat: 32.78000000000001\n",
      " elevation: 2.797999999999601\n",
      " freqmin(cm-1): 11098.779134295226\n",
      " freqmax(cm-1): 14265.33523537803\n",
      " angle: 31.567632273477905\n",
      "\n",
      "\n",
      "Running exec: lblrtm\n",
      "\n",
      "\n"
     ]
    },
    {
     "name": "stderr",
     "output_type": "stream",
     "text": [
      "Note: The following floating-point exceptions are signalling: IEEE_INVALID_FLAG IEEE_UNDERFLOW_FLAG IEEE_DENORMAL\n",
      "STOP  LBLRTM EXIT \n",
      "2.10user 0.83system 0:03.13elapsed 93%CPU (0avgtext+0avgdata 7624maxresident)k\n",
      "0inputs+0outputs (0major+1233minor)pagefaults 0swaps\n"
     ]
    },
    {
     "name": "stdout",
     "output_type": "stream",
     "text": [
      "\n",
      "Running exec: lblrtm\n",
      "\n",
      "\n"
     ]
    },
    {
     "name": "stderr",
     "output_type": "stream",
     "text": [
      "Note: The following floating-point exceptions are signalling: IEEE_INVALID_FLAG IEEE_UNDERFLOW_FLAG IEEE_DENORMAL\n",
      "STOP  LBLRTM EXIT \n",
      "0.89user 0.72system 0:01.69elapsed 95%CPU (0avgtext+0avgdata 7604maxresident)k\n",
      "0inputs+0outputs (0major+1233minor)pagefaults 0swaps\n"
     ]
    },
    {
     "name": "stdout",
     "output_type": "stream",
     "text": [
      "1143628\n",
      "humidity: 50.0\n",
      " pressure: 10000.0\n",
      " temperature: 300.0\n",
      " lat: 32.78000000000001\n",
      " elevation: 2.797999999999601\n",
      " freqmin(cm-1): 11098.779134295226\n",
      " freqmax(cm-1): 14265.33523537803\n",
      " angle: 44.219986042892295\n",
      "\n",
      "\n",
      "Running exec: lblrtm\n",
      "\n",
      "\n"
     ]
    },
    {
     "name": "stderr",
     "output_type": "stream",
     "text": [
      "Note: The following floating-point exceptions are signalling: IEEE_INVALID_FLAG IEEE_UNDERFLOW_FLAG IEEE_DENORMAL\n",
      "STOP  LBLRTM EXIT \n",
      "2.15user 0.79system 0:03.19elapsed 92%CPU (0avgtext+0avgdata 7712maxresident)k\n",
      "0inputs+0outputs (0major+1236minor)pagefaults 0swaps\n"
     ]
    },
    {
     "name": "stdout",
     "output_type": "stream",
     "text": [
      "\n",
      "Running exec: lblrtm\n",
      "\n",
      "\n"
     ]
    },
    {
     "name": "stderr",
     "output_type": "stream",
     "text": [
      "Note: The following floating-point exceptions are signalling: IEEE_INVALID_FLAG IEEE_UNDERFLOW_FLAG IEEE_DENORMAL\n",
      "STOP  LBLRTM EXIT \n",
      "0.93user 0.69system 0:01.70elapsed 95%CPU (0avgtext+0avgdata 7624maxresident)k\n",
      "0inputs+0outputs (0major+1233minor)pagefaults 0swaps\n"
     ]
    },
    {
     "name": "stdout",
     "output_type": "stream",
     "text": [
      "1143628\n",
      "humidity: 50.0\n",
      " pressure: 10000.0\n",
      " temperature: 300.0\n",
      " lat: 32.78000000000001\n",
      " elevation: 2.797999999999601\n",
      " freqmin(cm-1): 11098.779134295226\n",
      " freqmax(cm-1): 14265.33523537803\n",
      " angle: 55.209073951412215\n",
      "\n",
      "\n",
      "Running exec: lblrtm\n",
      "\n",
      "\n"
     ]
    },
    {
     "name": "stderr",
     "output_type": "stream",
     "text": [
      "Note: The following floating-point exceptions are signalling: IEEE_INVALID_FLAG IEEE_UNDERFLOW_FLAG IEEE_DENORMAL\n",
      "STOP  LBLRTM EXIT \n",
      "2.08user 0.85system 0:03.14elapsed 93%CPU (0avgtext+0avgdata 7560maxresident)k\n",
      "0inputs+0outputs (0major+1233minor)pagefaults 0swaps\n"
     ]
    },
    {
     "name": "stdout",
     "output_type": "stream",
     "text": [
      "\n",
      "Running exec: lblrtm\n",
      "\n",
      "\n"
     ]
    },
    {
     "name": "stderr",
     "output_type": "stream",
     "text": [
      "Note: The following floating-point exceptions are signalling: IEEE_INVALID_FLAG IEEE_UNDERFLOW_FLAG IEEE_DENORMAL\n",
      "STOP  LBLRTM EXIT \n",
      "0.92user 0.72system 0:01.73elapsed 95%CPU (0avgtext+0avgdata 7552maxresident)k\n",
      "0inputs+0outputs (0major+1234minor)pagefaults 0swaps\n"
     ]
    },
    {
     "name": "stdout",
     "output_type": "stream",
     "text": [
      "1127403\n",
      "humidity: 50.0\n",
      " pressure: 10000.0\n",
      " temperature: 300.0\n",
      " lat: 32.78000000000001\n",
      " elevation: 2.797999999999601\n",
      " freqmin(cm-1): 11098.779134295226\n",
      " freqmax(cm-1): 14265.33523537803\n",
      " angle: 16.046253531664348\n",
      "\n",
      "\n",
      "Running exec: lblrtm\n",
      "\n",
      "\n"
     ]
    },
    {
     "name": "stderr",
     "output_type": "stream",
     "text": [
      "Note: The following floating-point exceptions are signalling: IEEE_INVALID_FLAG IEEE_UNDERFLOW_FLAG IEEE_DENORMAL\n",
      "STOP  LBLRTM EXIT \n",
      "2.13user 0.80system 0:03.19elapsed 92%CPU (0avgtext+0avgdata 7624maxresident)k\n",
      "0inputs+0outputs (0major+1233minor)pagefaults 0swaps\n"
     ]
    },
    {
     "name": "stdout",
     "output_type": "stream",
     "text": [
      "\n",
      "Running exec: lblrtm\n",
      "\n",
      "\n"
     ]
    },
    {
     "name": "stderr",
     "output_type": "stream",
     "text": [
      "Note: The following floating-point exceptions are signalling: IEEE_INVALID_FLAG IEEE_UNDERFLOW_FLAG IEEE_DENORMAL\n",
      "STOP  LBLRTM EXIT \n",
      "0.88user 0.75system 0:01.73elapsed 94%CPU (0avgtext+0avgdata 7544maxresident)k\n",
      "0inputs+0outputs (0major+1233minor)pagefaults 0swaps\n"
     ]
    },
    {
     "name": "stdout",
     "output_type": "stream",
     "text": [
      "1143628\n",
      "humidity: 50.0\n",
      " pressure: 10000.0\n",
      " temperature: 300.0\n",
      " lat: 32.78000000000001\n",
      " elevation: 2.797999999999601\n",
      " freqmin(cm-1): 11098.779134295226\n",
      " freqmax(cm-1): 14265.33523537803\n",
      " angle: 70.36083125348077\n",
      "\n",
      "\n",
      "Running exec: lblrtm\n",
      "\n",
      "\n"
     ]
    },
    {
     "name": "stderr",
     "output_type": "stream",
     "text": [
      "Note: The following floating-point exceptions are signalling: IEEE_INVALID_FLAG IEEE_UNDERFLOW_FLAG IEEE_DENORMAL\n",
      "STOP  LBLRTM EXIT \n",
      "2.14user 0.85system 0:03.18elapsed 94%CPU (0avgtext+0avgdata 7684maxresident)k\n",
      "0inputs+0outputs (0major+1235minor)pagefaults 0swaps\n"
     ]
    },
    {
     "name": "stdout",
     "output_type": "stream",
     "text": [
      "\n",
      "Running exec: lblrtm\n",
      "\n",
      "\n"
     ]
    },
    {
     "name": "stderr",
     "output_type": "stream",
     "text": [
      "Note: The following floating-point exceptions are signalling: IEEE_INVALID_FLAG IEEE_UNDERFLOW_FLAG IEEE_DENORMAL\n",
      "STOP  LBLRTM EXIT \n",
      "0.87user 0.76system 0:01.74elapsed 93%CPU (0avgtext+0avgdata 7720maxresident)k\n",
      "0inputs+0outputs (0major+1234minor)pagefaults 0swaps\n"
     ]
    },
    {
     "name": "stdout",
     "output_type": "stream",
     "text": [
      "1143628\n",
      "humidity: 50.0\n",
      " pressure: 10000.0\n",
      " temperature: 300.0\n",
      " lat: 32.78000000000001\n",
      " elevation: 2.797999999999601\n",
      " freqmin(cm-1): 11098.779134295226\n",
      " freqmax(cm-1): 14265.33523537803\n",
      " angle: 5.621114858253093\n",
      "\n",
      "\n",
      "Running exec: lblrtm\n",
      "\n",
      "\n"
     ]
    },
    {
     "name": "stderr",
     "output_type": "stream",
     "text": [
      "Note: The following floating-point exceptions are signalling: IEEE_INVALID_FLAG IEEE_UNDERFLOW_FLAG IEEE_DENORMAL\n",
      "STOP  LBLRTM EXIT \n",
      "2.12user 0.85system 0:03.13elapsed 95%CPU (0avgtext+0avgdata 7792maxresident)k\n",
      "0inputs+0outputs (0major+1237minor)pagefaults 0swaps\n"
     ]
    },
    {
     "name": "stdout",
     "output_type": "stream",
     "text": [
      "\n",
      "Running exec: lblrtm\n",
      "\n",
      "\n"
     ]
    },
    {
     "name": "stderr",
     "output_type": "stream",
     "text": [
      "Note: The following floating-point exceptions are signalling: IEEE_INVALID_FLAG IEEE_UNDERFLOW_FLAG IEEE_DENORMAL\n",
      "STOP  LBLRTM EXIT \n",
      "0.90user 0.71system 0:01.71elapsed 94%CPU (0avgtext+0avgdata 7556maxresident)k\n",
      "0inputs+0outputs (0major+1234minor)pagefaults 0swaps\n"
     ]
    },
    {
     "name": "stdout",
     "output_type": "stream",
     "text": [
      "1143628\n",
      "<simulacra.tellurics.TelFitModel object at 0x145c0d5fc9b0> [1.6178939077349241e-06, 2.1907587743896784e-07, 2.1907587743896784e-07, 2.1907587743896784e-07, 2.1907587743896784e-07, 2.2146180711501984e-07, 2.2147022882279543e-07, 2.1907587743896784e-07, 2.1907587743896784e-07, 2.1907587743896784e-07, 2.2717149938955572e-07, 2.1907587743896784e-07, 2.1907587743896784e-07, 2.1907587743896784e-07, 2.1907587743896784e-07, 2.1907587743896784e-07, 2.1907587743896784e-07, 2.1907587743896784e-07, 2.1907587743896784e-07, 2.1907587743896784e-07, 2.1907587743896784e-07, 2.1907587743896784e-07, 2.1907587743896784e-07, 2.1907587743896784e-07, 2.1907587743896784e-07, 2.1907587743896784e-07, 2.1907587743896784e-07, 2.1996264365498064e-07, 2.1907587743896784e-07, 2.1907587743896784e-07, 2.1907587743896784e-07]\n",
      "interpolating spline...\n",
      "0\n",
      "1\n",
      "2\n",
      "3\n",
      "4\n",
      "5\n",
      "6\n",
      "7\n",
      "8\n",
      "9\n",
      "10\n",
      "11\n",
      "12\n",
      "13\n",
      "14\n",
      "15\n",
      "16\n",
      "17\n",
      "18\n",
      "19\n",
      "20\n",
      "21\n",
      "22\n",
      "23\n",
      "24\n",
      "25\n",
      "26\n",
      "27\n",
      "28\n",
      "29\n",
      "combining grids...\n",
      "convolving...\n",
      "0\n",
      "1\n",
      "2\n",
      "3\n",
      "4\n",
      "5\n",
      "6\n",
      "7\n",
      "8\n",
      "9\n",
      "10\n",
      "11\n",
      "12\n",
      "13\n",
      "14\n",
      "15\n",
      "16\n",
      "17\n",
      "18\n",
      "19\n",
      "20\n",
      "21\n",
      "22\n",
      "23\n",
      "24\n",
      "25\n",
      "26\n",
      "27\n",
      "28\n",
      "29\n",
      "xs: 7005.007110494636 9004.98956196525\n",
      "xhat: 7010.007110494628 8999.990639003297\n",
      "interpolating lanczos...\n",
      "0\n",
      "1\n",
      "2\n",
      "3\n",
      "4\n",
      "5\n",
      "6\n",
      "7\n",
      "8\n",
      "9\n",
      "10\n",
      "11\n",
      "12\n",
      "13\n",
      "14\n",
      "15\n",
      "16\n",
      "17\n",
      "18\n",
      "19\n",
      "20\n",
      "21\n",
      "22\n",
      "23\n",
      "24\n",
      "25\n",
      "26\n",
      "27\n",
      "28\n",
      "29\n",
      "area: 14.522012041218817 m2\t avg d lambda: 0.05688267575202005 Angstrom\t avg lambda: 7963.6042297997865 Angstrom\t avg exp times: 8.0 min\n",
      "0 n mean: 1.50e+03\t n median: 1.81e+03\n",
      "1 n mean: 1.70e+03\t n median: 1.85e+03\n",
      "2 n mean: 1.58e+03\t n median: 1.80e+03\n",
      "3 n mean: 1.70e+03\t n median: 1.85e+03\n",
      "4 n mean: 1.62e+03\t n median: 1.82e+03\n",
      "5 n mean: 1.51e+03\t n median: 1.73e+03\n",
      "6 n mean: 1.71e+03\t n median: 1.85e+03\n",
      "7 n mean: 1.72e+03\t n median: 1.86e+03\n",
      "8 n mean: 1.72e+03\t n median: 1.86e+03\n",
      "9 n mean: 1.70e+03\t n median: 1.85e+03\n",
      "10 n mean: 1.71e+03\t n median: 1.85e+03\n",
      "11 n mean: 1.71e+03\t n median: 1.85e+03\n",
      "12 n mean: 1.72e+03\t n median: 1.86e+03\n",
      "13 n mean: 1.67e+03\t n median: 1.84e+03\n",
      "14 n mean: 1.60e+03\t n median: 1.81e+03\n",
      "15 n mean: 1.62e+03\t n median: 1.82e+03\n",
      "16 n mean: 1.72e+03\t n median: 1.86e+03\n",
      "17 n mean: 1.71e+03\t n median: 1.86e+03\n",
      "18 n mean: 1.69e+03\t n median: 1.85e+03\n",
      "19 n mean: 1.72e+03\t n median: 1.86e+03\n",
      "20 n mean: 1.70e+03\t n median: 1.85e+03\n",
      "21 n mean: 1.68e+03\t n median: 1.84e+03\n",
      "22 n mean: 1.69e+03\t n median: 1.85e+03\n",
      "23 n mean: 1.69e+03\t n median: 1.85e+03\n",
      "24 n mean: 1.71e+03\t n median: 1.85e+03\n",
      "25 n mean: 1.69e+03\t n median: 1.85e+03\n",
      "26 n mean: 1.50e+03\t n median: 1.85e+03\n",
      "27 n mean: 1.72e+03\t n median: 1.86e+03\n",
      "28 n mean: 1.57e+03\t n median: 1.79e+03\n",
      "29 n mean: 1.72e+03\t n median: 1.86e+03\n",
      "generating true signal to noise ratios...\n",
      "adding noise...\n",
      "generating exp signal to noise ratios...\n"
     ]
    },
    {
     "name": "stderr",
     "output_type": "stream",
     "text": [
      "../simulacra/detector.py:529: RuntimeWarning: invalid value encountered in add_noise_v\n",
      "  n_readout = add_noise_v(n_exp.flatten().value,snr_grid.flatten()).reshape(out_shape)\n"
     ]
    },
    {
     "name": "stdout",
     "output_type": "stream",
     "text": [
      "generating errors...\n",
      "done.\n",
      "/scratch/mdd423/simulacra/out/2021-11-02/data_e30_R70000.0_a2000.0_p40.3_l7.0e+039.0e+03_ep1.0_w0.0_snr3.5e+01_tp3e-07\n"
     ]
    },
    {
     "name": "stderr",
     "output_type": "stream",
     "text": [
      "../simulacra/detector.py:541: RuntimeWarning: invalid value encountered in generate_errors_v\n",
      "  nerr_out = generate_errors_v(n_readout.flatten(),snr_readout.flatten()).reshape(out_shape)\n"
     ]
    },
    {
     "name": "stdout",
     "output_type": "stream",
     "text": [
      "saving time\n",
      "quantity\n",
      "epoches  saving as string\n",
      "quantity\n",
      "quantity\n",
      "quantity\n",
      "quantity\n",
      "quantity\n",
      "quantity\n",
      "quantity\n",
      "flux  saving as string\n",
      "wave  saving as string\n",
      "quantity\n",
      "quantity\n",
      "quantity\n",
      "alpha  saving as string\n",
      "quantity\n",
      "quantity\n",
      "fluxname  saving as string\n",
      "generate_spectra  saving as string\n",
      "quantity\n",
      "quantity\n",
      "logg  saving as string\n",
      "outdir  saving as string\n",
      "quantity\n",
      "plot  saving as string\n",
      "plot_interpolated  saving as string\n",
      "quantity\n",
      "quantity\n",
      "saving target...340.28129510273834 deg 28.43612929851907 deg\n",
      "temperature  saving as string\n",
      "quantity\n",
      "quantity\n",
      "wavename  saving as string\n",
      "quantity\n",
      "z  saving as string\n",
      "quantity\n",
      "quantity\n",
      "quantity\n",
      "quantity\n",
      "a  saving as string\n",
      "add_model  saving as string\n",
      "quantity\n",
      "checkmax  saving as string\n",
      "checkmin  saving as string\n",
      "quantity\n",
      "epsilon  saving as string\n",
      "gamma  saving as string\n",
      "quantity\n",
      "quantity\n",
      "quantity\n",
      "lsf_centering  saving as string\n",
      "lsf_const_coeffs  saving as string\n",
      "resolution  saving as string\n",
      "sigma  saving as string\n",
      "sigma_range  saving as string\n",
      "simulate  saving as string\n",
      "stellar_model  saving as string\n",
      "through_put  saving as string\n",
      "transmission_cutoff  saving as string\n",
      "transmission_models  saving as string\n",
      "w  saving as string\n",
      "quantity\n",
      "quantity\n",
      "quantity\n",
      "_epoches  saving as string\n",
      "quantity\n",
      "quantity\n",
      "_name  saving as string\n",
      "quantity\n",
      "quantity\n",
      "check_property  saving as string\n",
      "check_shape_type  saving as string\n",
      "epoches  saving as string\n",
      "generate_transmission  saving as string\n",
      "quantity\n",
      "quantity\n",
      "quantity\n",
      "plot  saving as string\n",
      "plot_interpolated  saving as string\n",
      "quantity\n",
      "quantity\n",
      "quantity\n",
      "nan nan\n",
      "using saved wave file\n",
      "../data/stellar/PHOENIX/lte04800-1.00-1.0.Alpha=+0.40.PHOENIX-ACES-AGSS-COND-2011-HiRes.fits\n",
      "using saved flux file\n",
      "reading in ../data/stellar/PHOENIX/WAVE_PHOENIX-ACES-AGSS-COND-2011.fits\n",
      "wave_grid min -> 701.0 nm\n",
      "surface flux: mean 1.31e+14 erg / (cm3 s)\t median 1.14e+14 erg / (cm3 s)\n",
      "obs     flux: mean 1.68e-02 erg / (cm3 s)\t median 1.46e-02 erg / (cm3 s)\n",
      "generating spectra...\n",
      "humidity: 50.0\n",
      " pressure: 10000.0\n",
      " temperature: 300.0\n",
      " lat: 32.78000000000001\n",
      " elevation: 2.797999999999601\n",
      " freqmin(cm-1): 11098.779134295226\n",
      " freqmax(cm-1): 14265.33523537803\n",
      " angle: 62.8613757400191\n",
      "\n",
      "\n",
      "Running exec: lblrtm\n",
      "\n",
      "\n"
     ]
    },
    {
     "name": "stderr",
     "output_type": "stream",
     "text": [
      "Note: The following floating-point exceptions are signalling: IEEE_INVALID_FLAG IEEE_UNDERFLOW_FLAG IEEE_DENORMAL\n",
      "STOP  LBLRTM EXIT \n",
      "2.17user 0.83system 0:03.31elapsed 90%CPU (0avgtext+0avgdata 7636maxresident)k\n",
      "0inputs+0outputs (0major+1235minor)pagefaults 0swaps\n"
     ]
    },
    {
     "name": "stdout",
     "output_type": "stream",
     "text": [
      "\n",
      "Running exec: lblrtm\n",
      "\n",
      "\n"
     ]
    },
    {
     "name": "stderr",
     "output_type": "stream",
     "text": [
      "Note: The following floating-point exceptions are signalling: IEEE_INVALID_FLAG IEEE_UNDERFLOW_FLAG IEEE_DENORMAL\n",
      "STOP  LBLRTM EXIT \n",
      "0.91user 0.70system 0:01.72elapsed 94%CPU (0avgtext+0avgdata 7752maxresident)k\n",
      "0inputs+0outputs (0major+1237minor)pagefaults 0swaps\n"
     ]
    },
    {
     "name": "stdout",
     "output_type": "stream",
     "text": [
      "1143628\n",
      "humidity: 50.0\n",
      " pressure: 10000.0\n",
      " temperature: 300.0\n",
      " lat: 32.78000000000001\n",
      " elevation: 2.797999999999601\n",
      " freqmin(cm-1): 11098.779134295226\n",
      " freqmax(cm-1): 14265.33523537803\n",
      " angle: 36.420938571519066\n",
      "\n",
      "\n",
      "Running exec: lblrtm\n",
      "\n",
      "\n"
     ]
    },
    {
     "name": "stderr",
     "output_type": "stream",
     "text": [
      "Note: The following floating-point exceptions are signalling: IEEE_INVALID_FLAG IEEE_UNDERFLOW_FLAG IEEE_DENORMAL\n",
      "STOP  LBLRTM EXIT \n",
      "2.11user 0.85system 0:03.16elapsed 93%CPU (0avgtext+0avgdata 7556maxresident)k\n",
      "0inputs+0outputs (0major+1233minor)pagefaults 0swaps\n"
     ]
    },
    {
     "name": "stdout",
     "output_type": "stream",
     "text": [
      "\n",
      "Running exec: lblrtm\n",
      "\n",
      "\n"
     ]
    },
    {
     "name": "stderr",
     "output_type": "stream",
     "text": [
      "Note: The following floating-point exceptions are signalling: IEEE_INVALID_FLAG IEEE_UNDERFLOW_FLAG IEEE_DENORMAL\n",
      "STOP  LBLRTM EXIT \n",
      "0.89user 0.71system 0:01.71elapsed 94%CPU (0avgtext+0avgdata 7684maxresident)k\n",
      "0inputs+0outputs (0major+1237minor)pagefaults 0swaps\n"
     ]
    },
    {
     "name": "stdout",
     "output_type": "stream",
     "text": [
      "1143628\n",
      "humidity: 50.0\n",
      " pressure: 10000.0\n",
      " temperature: 300.0\n",
      " lat: 32.78000000000001\n",
      " elevation: 2.797999999999601\n",
      " freqmin(cm-1): 11098.779134295226\n",
      " freqmax(cm-1): 14265.33523537803\n",
      " angle: 70.23515457427514\n",
      "\n",
      "\n",
      "Running exec: lblrtm\n",
      "\n",
      "\n"
     ]
    },
    {
     "name": "stderr",
     "output_type": "stream",
     "text": [
      "Note: The following floating-point exceptions are signalling: IEEE_INVALID_FLAG IEEE_UNDERFLOW_FLAG IEEE_DENORMAL\n",
      "STOP  LBLRTM EXIT \n",
      "2.18user 0.79system 0:03.16elapsed 93%CPU (0avgtext+0avgdata 7720maxresident)k\n",
      "0inputs+0outputs (0major+1237minor)pagefaults 0swaps\n"
     ]
    },
    {
     "name": "stdout",
     "output_type": "stream",
     "text": [
      "\n",
      "Running exec: lblrtm\n",
      "\n",
      "\n"
     ]
    },
    {
     "name": "stderr",
     "output_type": "stream",
     "text": [
      "Note: The following floating-point exceptions are signalling: IEEE_INVALID_FLAG IEEE_UNDERFLOW_FLAG IEEE_DENORMAL\n",
      "STOP  LBLRTM EXIT \n",
      "0.90user 0.72system 0:01.75elapsed 92%CPU (0avgtext+0avgdata 7748maxresident)k\n",
      "0inputs+0outputs (0major+1234minor)pagefaults 0swaps\n"
     ]
    },
    {
     "name": "stdout",
     "output_type": "stream",
     "text": [
      "1143628\n",
      "humidity: 50.0\n",
      " pressure: 10000.0\n",
      " temperature: 300.0\n",
      " lat: 32.78000000000001\n",
      " elevation: 2.797999999999601\n",
      " freqmin(cm-1): 11098.779134295226\n",
      " freqmax(cm-1): 14265.33523537803\n",
      " angle: 37.41097711185363\n",
      "\n",
      "\n",
      "Running exec: lblrtm\n",
      "\n",
      "\n"
     ]
    },
    {
     "name": "stderr",
     "output_type": "stream",
     "text": [
      "Note: The following floating-point exceptions are signalling: IEEE_INVALID_FLAG IEEE_UNDERFLOW_FLAG IEEE_DENORMAL\n",
      "STOP  LBLRTM EXIT \n",
      "2.13user 0.82system 0:03.14elapsed 93%CPU (0avgtext+0avgdata 7520maxresident)k\n",
      "0inputs+0outputs (0major+1233minor)pagefaults 0swaps\n"
     ]
    },
    {
     "name": "stdout",
     "output_type": "stream",
     "text": [
      "\n",
      "Running exec: lblrtm\n",
      "\n",
      "\n"
     ]
    },
    {
     "name": "stderr",
     "output_type": "stream",
     "text": [
      "Note: The following floating-point exceptions are signalling: IEEE_INVALID_FLAG IEEE_UNDERFLOW_FLAG IEEE_DENORMAL\n",
      "STOP  LBLRTM EXIT \n",
      "0.92user 0.68system 0:01.70elapsed 94%CPU (0avgtext+0avgdata 7720maxresident)k\n",
      "0inputs+0outputs (0major+1237minor)pagefaults 0swaps\n"
     ]
    },
    {
     "name": "stdout",
     "output_type": "stream",
     "text": [
      "1143628\n",
      "humidity: 50.0\n",
      " pressure: 10000.0\n",
      " temperature: 300.0\n",
      " lat: 32.78000000000001\n",
      " elevation: 2.797999999999601\n",
      " freqmin(cm-1): 11098.779134295226\n",
      " freqmax(cm-1): 14265.33523537803\n",
      " angle: 65.09115788813192\n",
      "\n",
      "\n",
      "Running exec: lblrtm\n",
      "\n",
      "\n"
     ]
    },
    {
     "name": "stderr",
     "output_type": "stream",
     "text": [
      "Note: The following floating-point exceptions are signalling: IEEE_INVALID_FLAG IEEE_UNDERFLOW_FLAG IEEE_DENORMAL\n",
      "STOP  LBLRTM EXIT \n",
      "2.10user 0.84system 0:03.13elapsed 93%CPU (0avgtext+0avgdata 7720maxresident)k\n",
      "0inputs+0outputs (0major+1234minor)pagefaults 0swaps\n"
     ]
    },
    {
     "name": "stdout",
     "output_type": "stream",
     "text": [
      "\n",
      "Running exec: lblrtm\n",
      "\n",
      "\n"
     ]
    },
    {
     "name": "stderr",
     "output_type": "stream",
     "text": [
      "Note: The following floating-point exceptions are signalling: IEEE_INVALID_FLAG IEEE_UNDERFLOW_FLAG IEEE_DENORMAL\n",
      "STOP  LBLRTM EXIT \n",
      "0.89user 0.73system 0:01.70elapsed 95%CPU (0avgtext+0avgdata 7624maxresident)k\n",
      "0inputs+0outputs (0major+1233minor)pagefaults 0swaps\n"
     ]
    },
    {
     "name": "stdout",
     "output_type": "stream",
     "text": [
      "1127370\n",
      "humidity: 50.0\n",
      " pressure: 10000.0\n",
      " temperature: 300.0\n",
      " lat: 32.78000000000001\n",
      " elevation: 2.797999999999601\n",
      " freqmin(cm-1): 11098.779134295226\n",
      " freqmax(cm-1): 14265.33523537803\n",
      " angle: 59.94944845829285\n",
      "\n",
      "\n",
      "Running exec: lblrtm\n",
      "\n",
      "\n"
     ]
    },
    {
     "name": "stderr",
     "output_type": "stream",
     "text": [
      "Note: The following floating-point exceptions are signalling: IEEE_INVALID_FLAG IEEE_UNDERFLOW_FLAG IEEE_DENORMAL\n",
      "STOP  LBLRTM EXIT \n",
      "2.10user 0.79system 0:03.12elapsed 92%CPU (0avgtext+0avgdata 7560maxresident)k\n",
      "0inputs+0outputs (0major+1233minor)pagefaults 0swaps\n"
     ]
    },
    {
     "name": "stdout",
     "output_type": "stream",
     "text": [
      "\n",
      "Running exec: lblrtm\n",
      "\n",
      "\n"
     ]
    },
    {
     "name": "stderr",
     "output_type": "stream",
     "text": [
      "Note: The following floating-point exceptions are signalling: IEEE_INVALID_FLAG IEEE_UNDERFLOW_FLAG IEEE_DENORMAL\n",
      "STOP  LBLRTM EXIT \n",
      "0.94user 0.71system 0:01.74elapsed 94%CPU (0avgtext+0avgdata 7684maxresident)k\n",
      "0inputs+0outputs (0major+1238minor)pagefaults 0swaps\n"
     ]
    },
    {
     "name": "stdout",
     "output_type": "stream",
     "text": [
      "1124676\n",
      "humidity: 50.0\n",
      " pressure: 10000.0\n",
      " temperature: 300.0\n",
      " lat: 32.78000000000001\n",
      " elevation: 2.797999999999601\n",
      " freqmin(cm-1): 11098.779134295226\n",
      " freqmax(cm-1): 14265.33523537803\n",
      " angle: 27.811520651072378\n",
      "\n",
      "\n",
      "Running exec: lblrtm\n",
      "\n",
      "\n"
     ]
    },
    {
     "name": "stderr",
     "output_type": "stream",
     "text": [
      "Note: The following floating-point exceptions are signalling: IEEE_INVALID_FLAG IEEE_UNDERFLOW_FLAG IEEE_DENORMAL\n",
      "STOP  LBLRTM EXIT \n",
      "2.10user 0.88system 0:03.17elapsed 93%CPU (0avgtext+0avgdata 7720maxresident)k\n",
      "0inputs+0outputs (0major+1237minor)pagefaults 0swaps\n"
     ]
    },
    {
     "name": "stdout",
     "output_type": "stream",
     "text": [
      "\n",
      "Running exec: lblrtm\n",
      "\n",
      "\n"
     ]
    },
    {
     "name": "stderr",
     "output_type": "stream",
     "text": [
      "Note: The following floating-point exceptions are signalling: IEEE_INVALID_FLAG IEEE_UNDERFLOW_FLAG IEEE_DENORMAL\n",
      "STOP  LBLRTM EXIT \n",
      "0.88user 0.72system 0:01.70elapsed 94%CPU (0avgtext+0avgdata 7720maxresident)k\n",
      "0inputs+0outputs (0major+1234minor)pagefaults 0swaps\n"
     ]
    },
    {
     "name": "stdout",
     "output_type": "stream",
     "text": [
      "1143628\n",
      "humidity: 50.0\n",
      " pressure: 10000.0\n",
      " temperature: 300.0\n",
      " lat: 32.78000000000001\n",
      " elevation: 2.797999999999601\n",
      " freqmin(cm-1): 11098.779134295226\n",
      " freqmax(cm-1): 14265.33523537803\n",
      " angle: 4.6273790635876395\n",
      "\n",
      "\n",
      "Running exec: lblrtm\n",
      "\n",
      "\n"
     ]
    },
    {
     "name": "stderr",
     "output_type": "stream",
     "text": [
      "Note: The following floating-point exceptions are signalling: IEEE_INVALID_FLAG IEEE_UNDERFLOW_FLAG IEEE_DENORMAL\n",
      "STOP  LBLRTM EXIT \n",
      "2.08user 0.89system 0:03.24elapsed 92%CPU (0avgtext+0avgdata 7672maxresident)k\n",
      "0inputs+0outputs (0major+1234minor)pagefaults 0swaps\n"
     ]
    },
    {
     "name": "stdout",
     "output_type": "stream",
     "text": [
      "\n",
      "Running exec: lblrtm\n",
      "\n",
      "\n"
     ]
    },
    {
     "name": "stderr",
     "output_type": "stream",
     "text": [
      "Note: The following floating-point exceptions are signalling: IEEE_INVALID_FLAG IEEE_UNDERFLOW_FLAG IEEE_DENORMAL\n",
      "STOP  LBLRTM EXIT \n",
      "0.89user 0.71system 0:01.72elapsed 93%CPU (0avgtext+0avgdata 7792maxresident)k\n",
      "0inputs+0outputs (0major+1237minor)pagefaults 0swaps\n"
     ]
    },
    {
     "name": "stdout",
     "output_type": "stream",
     "text": [
      "1143628\n",
      "humidity: 50.0\n",
      " pressure: 10000.0\n",
      " temperature: 300.0\n",
      " lat: 32.78000000000001\n",
      " elevation: 2.797999999999601\n",
      " freqmin(cm-1): 11098.779134295226\n",
      " freqmax(cm-1): 14265.33523537803\n",
      " angle: 11.404396925323324\n",
      "\n",
      "\n",
      "Running exec: lblrtm\n",
      "\n",
      "\n"
     ]
    },
    {
     "name": "stderr",
     "output_type": "stream",
     "text": [
      "Note: The following floating-point exceptions are signalling: IEEE_INVALID_FLAG IEEE_UNDERFLOW_FLAG IEEE_DENORMAL\n",
      "STOP  LBLRTM EXIT \n",
      "2.16user 0.76system 0:03.20elapsed 91%CPU (0avgtext+0avgdata 7560maxresident)k\n",
      "0inputs+0outputs (0major+1233minor)pagefaults 0swaps\n"
     ]
    },
    {
     "name": "stdout",
     "output_type": "stream",
     "text": [
      "\n",
      "Running exec: lblrtm\n",
      "\n",
      "\n"
     ]
    },
    {
     "name": "stderr",
     "output_type": "stream",
     "text": [
      "Note: The following floating-point exceptions are signalling: IEEE_INVALID_FLAG IEEE_UNDERFLOW_FLAG IEEE_DENORMAL\n",
      "STOP  LBLRTM EXIT \n",
      "0.90user 0.70system 0:01.73elapsed 92%CPU (0avgtext+0avgdata 7720maxresident)k\n",
      "0inputs+0outputs (0major+1234minor)pagefaults 0swaps\n"
     ]
    },
    {
     "name": "stdout",
     "output_type": "stream",
     "text": [
      "1143628\n",
      "humidity: 50.0\n",
      " pressure: 10000.0\n",
      " temperature: 300.0\n",
      " lat: 32.78000000000001\n",
      " elevation: 2.797999999999601\n",
      " freqmin(cm-1): 11098.779134295226\n",
      " freqmax(cm-1): 14265.33523537803\n",
      " angle: 54.85857323188904\n",
      "\n",
      "\n",
      "Running exec: lblrtm\n",
      "\n",
      "\n"
     ]
    },
    {
     "name": "stderr",
     "output_type": "stream",
     "text": [
      "Note: The following floating-point exceptions are signalling: IEEE_INVALID_FLAG IEEE_UNDERFLOW_FLAG IEEE_DENORMAL\n",
      "STOP  LBLRTM EXIT \n",
      "2.10user 0.86system 0:03.10elapsed 95%CPU (0avgtext+0avgdata 7672maxresident)k\n",
      "0inputs+0outputs (0major+1233minor)pagefaults 0swaps\n"
     ]
    },
    {
     "name": "stdout",
     "output_type": "stream",
     "text": [
      "\n",
      "Running exec: lblrtm\n",
      "\n",
      "\n"
     ]
    },
    {
     "name": "stderr",
     "output_type": "stream",
     "text": [
      "Note: The following floating-point exceptions are signalling: IEEE_INVALID_FLAG IEEE_UNDERFLOW_FLAG IEEE_DENORMAL\n",
      "STOP  LBLRTM EXIT \n",
      "0.91user 0.70system 0:01.70elapsed 95%CPU (0avgtext+0avgdata 7624maxresident)k\n",
      "0inputs+0outputs (0major+1233minor)pagefaults 0swaps\n"
     ]
    },
    {
     "name": "stdout",
     "output_type": "stream",
     "text": [
      "1111626\n",
      "humidity: 50.0\n",
      " pressure: 10000.0\n",
      " temperature: 300.0\n",
      " lat: 32.78000000000001\n",
      " elevation: 2.797999999999601\n",
      " freqmin(cm-1): 11098.779134295226\n",
      " freqmax(cm-1): 14265.33523537803\n",
      " angle: 27.82399986133828\n",
      "\n",
      "\n",
      "Running exec: lblrtm\n",
      "\n",
      "\n"
     ]
    },
    {
     "name": "stderr",
     "output_type": "stream",
     "text": [
      "Note: The following floating-point exceptions are signalling: IEEE_INVALID_FLAG IEEE_UNDERFLOW_FLAG IEEE_DENORMAL\n",
      "STOP  LBLRTM EXIT \n",
      "2.11user 0.86system 0:03.18elapsed 93%CPU (0avgtext+0avgdata 7720maxresident)k\n",
      "0inputs+0outputs (0major+1235minor)pagefaults 0swaps\n"
     ]
    },
    {
     "name": "stdout",
     "output_type": "stream",
     "text": [
      "\n",
      "Running exec: lblrtm\n",
      "\n",
      "\n"
     ]
    },
    {
     "name": "stderr",
     "output_type": "stream",
     "text": [
      "Note: The following floating-point exceptions are signalling: IEEE_INVALID_FLAG IEEE_UNDERFLOW_FLAG IEEE_DENORMAL\n",
      "STOP  LBLRTM EXIT \n",
      "0.93user 0.67system 0:01.73elapsed 92%CPU (0avgtext+0avgdata 7672maxresident)k\n",
      "0inputs+0outputs (0major+1233minor)pagefaults 0swaps\n"
     ]
    },
    {
     "name": "stdout",
     "output_type": "stream",
     "text": [
      "1143628\n",
      "humidity: 50.0\n",
      " pressure: 10000.0\n",
      " temperature: 300.0\n",
      " lat: 32.78000000000001\n",
      " elevation: 2.797999999999601\n",
      " freqmin(cm-1): 11098.779134295226\n",
      " freqmax(cm-1): 14265.33523537803\n",
      " angle: 32.81380139483823\n",
      "\n",
      "\n",
      "Running exec: lblrtm\n",
      "\n",
      "\n"
     ]
    },
    {
     "name": "stderr",
     "output_type": "stream",
     "text": [
      "Note: The following floating-point exceptions are signalling: IEEE_INVALID_FLAG IEEE_UNDERFLOW_FLAG IEEE_DENORMAL\n",
      "STOP  LBLRTM EXIT \n",
      "2.11user 0.82system 0:03.10elapsed 94%CPU (0avgtext+0avgdata 7712maxresident)k\n",
      "0inputs+0outputs (0major+1237minor)pagefaults 0swaps\n"
     ]
    },
    {
     "name": "stdout",
     "output_type": "stream",
     "text": [
      "\n",
      "Running exec: lblrtm\n",
      "\n",
      "\n"
     ]
    },
    {
     "name": "stderr",
     "output_type": "stream",
     "text": [
      "Note: The following floating-point exceptions are signalling: IEEE_INVALID_FLAG IEEE_UNDERFLOW_FLAG IEEE_DENORMAL\n",
      "STOP  LBLRTM EXIT \n",
      "0.88user 0.73system 0:01.71elapsed 94%CPU (0avgtext+0avgdata 7636maxresident)k\n",
      "0inputs+0outputs (0major+1235minor)pagefaults 0swaps\n"
     ]
    },
    {
     "name": "stdout",
     "output_type": "stream",
     "text": [
      "1143628\n",
      "humidity: 50.0\n",
      " pressure: 10000.0\n",
      " temperature: 300.0\n",
      " lat: 32.78000000000001\n",
      " elevation: 2.797999999999601\n",
      " freqmin(cm-1): 11098.779134295226\n",
      " freqmax(cm-1): 14265.33523537803\n",
      " angle: 5.685228205863384\n",
      "\n",
      "\n",
      "Running exec: lblrtm\n",
      "\n",
      "\n"
     ]
    },
    {
     "name": "stderr",
     "output_type": "stream",
     "text": [
      "Note: The following floating-point exceptions are signalling: IEEE_INVALID_FLAG IEEE_UNDERFLOW_FLAG IEEE_DENORMAL\n",
      "STOP  LBLRTM EXIT \n",
      "2.12user 0.81system 0:03.06elapsed 95%CPU (0avgtext+0avgdata 7608maxresident)k\n",
      "0inputs+0outputs (0major+1233minor)pagefaults 0swaps\n"
     ]
    },
    {
     "name": "stdout",
     "output_type": "stream",
     "text": [
      "\n",
      "Running exec: lblrtm\n",
      "\n",
      "\n"
     ]
    },
    {
     "name": "stderr",
     "output_type": "stream",
     "text": [
      "Note: The following floating-point exceptions are signalling: IEEE_INVALID_FLAG IEEE_UNDERFLOW_FLAG IEEE_DENORMAL\n",
      "STOP  LBLRTM EXIT \n",
      "0.90user 0.70system 0:01.69elapsed 95%CPU (0avgtext+0avgdata 7716maxresident)k\n",
      "0inputs+0outputs (0major+1236minor)pagefaults 0swaps\n"
     ]
    },
    {
     "name": "stdout",
     "output_type": "stream",
     "text": [
      "1143628\n",
      "humidity: 50.0\n",
      " pressure: 10000.0\n",
      " temperature: 300.0\n",
      " lat: 32.78000000000001\n",
      " elevation: 2.797999999999601\n",
      " freqmin(cm-1): 11098.779134295226\n",
      " freqmax(cm-1): 14265.33523537803\n",
      " angle: 50.422615509223334\n",
      "\n",
      "\n",
      "Running exec: lblrtm\n",
      "\n",
      "\n"
     ]
    },
    {
     "name": "stderr",
     "output_type": "stream",
     "text": [
      "Note: The following floating-point exceptions are signalling: IEEE_INVALID_FLAG IEEE_UNDERFLOW_FLAG IEEE_DENORMAL\n",
      "STOP  LBLRTM EXIT \n",
      "2.16user 0.79system 0:03.10elapsed 95%CPU (0avgtext+0avgdata 7716maxresident)k\n",
      "0inputs+0outputs (0major+1233minor)pagefaults 0swaps\n"
     ]
    },
    {
     "name": "stdout",
     "output_type": "stream",
     "text": [
      "\n",
      "Running exec: lblrtm\n",
      "\n",
      "\n"
     ]
    },
    {
     "name": "stderr",
     "output_type": "stream",
     "text": [
      "Note: The following floating-point exceptions are signalling: IEEE_INVALID_FLAG IEEE_UNDERFLOW_FLAG IEEE_DENORMAL\n",
      "STOP  LBLRTM EXIT \n",
      "0.93user 0.69system 0:01.72elapsed 94%CPU (0avgtext+0avgdata 7556maxresident)k\n",
      "0inputs+0outputs (0major+1233minor)pagefaults 0swaps\n"
     ]
    },
    {
     "name": "stdout",
     "output_type": "stream",
     "text": [
      "1143628\n",
      "humidity: 50.0\n",
      " pressure: 10000.0\n",
      " temperature: 300.0\n",
      " lat: 32.78000000000001\n",
      " elevation: 2.797999999999601\n",
      " freqmin(cm-1): 11098.779134295226\n",
      " freqmax(cm-1): 14265.33523537803\n",
      " angle: 66.89041188034572\n",
      "\n",
      "\n",
      "Running exec: lblrtm\n",
      "\n",
      "\n"
     ]
    },
    {
     "name": "stderr",
     "output_type": "stream",
     "text": [
      "Note: The following floating-point exceptions are signalling: IEEE_INVALID_FLAG IEEE_UNDERFLOW_FLAG IEEE_DENORMAL\n",
      "STOP  LBLRTM EXIT \n",
      "2.16user 0.82system 0:03.22elapsed 92%CPU (0avgtext+0avgdata 7792maxresident)k\n",
      "0inputs+0outputs (0major+1237minor)pagefaults 0swaps\n"
     ]
    },
    {
     "name": "stdout",
     "output_type": "stream",
     "text": [
      "\n",
      "Running exec: lblrtm\n",
      "\n",
      "\n"
     ]
    },
    {
     "name": "stderr",
     "output_type": "stream",
     "text": [
      "Note: The following floating-point exceptions are signalling: IEEE_INVALID_FLAG IEEE_UNDERFLOW_FLAG IEEE_DENORMAL\n",
      "STOP  LBLRTM EXIT \n",
      "0.91user 0.72system 0:01.70elapsed 95%CPU (0avgtext+0avgdata 7624maxresident)k\n",
      "0inputs+0outputs (0major+1233minor)pagefaults 0swaps\n"
     ]
    },
    {
     "name": "stdout",
     "output_type": "stream",
     "text": [
      "1143628\n",
      "humidity: 50.0\n",
      " pressure: 10000.0\n",
      " temperature: 300.0\n",
      " lat: 32.78000000000001\n",
      " elevation: 2.797999999999601\n",
      " freqmin(cm-1): 11098.779134295226\n",
      " freqmax(cm-1): 14265.33523537803\n",
      " angle: 65.6425420077903\n",
      "\n",
      "\n",
      "Running exec: lblrtm\n",
      "\n",
      "\n"
     ]
    },
    {
     "name": "stderr",
     "output_type": "stream",
     "text": [
      "Note: The following floating-point exceptions are signalling: IEEE_INVALID_FLAG IEEE_UNDERFLOW_FLAG IEEE_DENORMAL\n",
      "STOP  LBLRTM EXIT \n",
      "2.18user 0.81system 0:03.16elapsed 94%CPU (0avgtext+0avgdata 7752maxresident)k\n",
      "0inputs+0outputs (0major+1237minor)pagefaults 0swaps\n"
     ]
    },
    {
     "name": "stdout",
     "output_type": "stream",
     "text": [
      "\n",
      "Running exec: lblrtm\n",
      "\n",
      "\n"
     ]
    },
    {
     "name": "stderr",
     "output_type": "stream",
     "text": [
      "Note: The following floating-point exceptions are signalling: IEEE_INVALID_FLAG IEEE_UNDERFLOW_FLAG IEEE_DENORMAL\n",
      "STOP  LBLRTM EXIT \n",
      "0.91user 0.72system 0:01.73elapsed 94%CPU (0avgtext+0avgdata 7576maxresident)k\n",
      "0inputs+0outputs (0major+1234minor)pagefaults 0swaps\n"
     ]
    },
    {
     "name": "stdout",
     "output_type": "stream",
     "text": [
      "1143628\n",
      "humidity: 50.0\n",
      " pressure: 10000.0\n",
      " temperature: 300.0\n",
      " lat: 32.78000000000001\n",
      " elevation: 2.797999999999601\n",
      " freqmin(cm-1): 11098.779134295226\n",
      " freqmax(cm-1): 14265.33523537803\n",
      " angle: 4.244341434002005\n",
      "\n",
      "\n",
      "Running exec: lblrtm\n",
      "\n",
      "\n"
     ]
    },
    {
     "name": "stderr",
     "output_type": "stream",
     "text": [
      "Note: The following floating-point exceptions are signalling: IEEE_INVALID_FLAG IEEE_UNDERFLOW_FLAG IEEE_DENORMAL\n",
      "STOP  LBLRTM EXIT \n",
      "2.12user 0.84system 0:03.15elapsed 94%CPU (0avgtext+0avgdata 7732maxresident)k\n",
      "0inputs+0outputs (0major+1236minor)pagefaults 0swaps\n"
     ]
    },
    {
     "name": "stdout",
     "output_type": "stream",
     "text": [
      "\n",
      "Running exec: lblrtm\n",
      "\n",
      "\n"
     ]
    },
    {
     "name": "stderr",
     "output_type": "stream",
     "text": [
      "Note: The following floating-point exceptions are signalling: IEEE_INVALID_FLAG IEEE_UNDERFLOW_FLAG IEEE_DENORMAL\n",
      "STOP  LBLRTM EXIT \n",
      "0.88user 0.73system 0:01.72elapsed 94%CPU (0avgtext+0avgdata 7624maxresident)k\n",
      "0inputs+0outputs (0major+1233minor)pagefaults 0swaps\n"
     ]
    },
    {
     "name": "stdout",
     "output_type": "stream",
     "text": [
      "1143628\n",
      "humidity: 50.0\n",
      " pressure: 10000.0\n",
      " temperature: 300.0\n",
      " lat: 32.78000000000001\n",
      " elevation: 2.797999999999601\n",
      " freqmin(cm-1): 11098.779134295226\n",
      " freqmax(cm-1): 14265.33523537803\n",
      " angle: 25.73402125733466\n",
      "\n",
      "\n",
      "Running exec: lblrtm\n",
      "\n",
      "\n"
     ]
    },
    {
     "name": "stderr",
     "output_type": "stream",
     "text": [
      "Note: The following floating-point exceptions are signalling: IEEE_INVALID_FLAG IEEE_UNDERFLOW_FLAG IEEE_DENORMAL\n",
      "STOP  LBLRTM EXIT \n",
      "2.13user 0.82system 0:03.16elapsed 93%CPU (0avgtext+0avgdata 7720maxresident)k\n",
      "0inputs+0outputs (0major+1234minor)pagefaults 0swaps\n"
     ]
    },
    {
     "name": "stdout",
     "output_type": "stream",
     "text": [
      "\n",
      "Running exec: lblrtm\n",
      "\n",
      "\n"
     ]
    },
    {
     "name": "stderr",
     "output_type": "stream",
     "text": [
      "Note: The following floating-point exceptions are signalling: IEEE_INVALID_FLAG IEEE_UNDERFLOW_FLAG IEEE_DENORMAL\n",
      "STOP  LBLRTM EXIT \n",
      "0.91user 0.70system 0:01.70elapsed 94%CPU (0avgtext+0avgdata 7732maxresident)k\n",
      "0inputs+0outputs (0major+1237minor)pagefaults 0swaps\n"
     ]
    },
    {
     "name": "stdout",
     "output_type": "stream",
     "text": [
      "1143628\n",
      "humidity: 50.0\n",
      " pressure: 10000.0\n",
      " temperature: 300.0\n",
      " lat: 32.78000000000001\n",
      " elevation: 2.797999999999601\n",
      " freqmin(cm-1): 11098.779134295226\n",
      " freqmax(cm-1): 14265.33523537803\n",
      " angle: 41.82411679419448\n",
      "\n",
      "\n",
      "Running exec: lblrtm\n",
      "\n",
      "\n"
     ]
    },
    {
     "name": "stderr",
     "output_type": "stream",
     "text": [
      "Note: The following floating-point exceptions are signalling: IEEE_INVALID_FLAG IEEE_UNDERFLOW_FLAG IEEE_DENORMAL\n",
      "STOP  LBLRTM EXIT \n",
      "2.15user 0.79system 0:03.19elapsed 92%CPU (0avgtext+0avgdata 7636maxresident)k\n",
      "0inputs+0outputs (0major+1235minor)pagefaults 0swaps\n"
     ]
    },
    {
     "name": "stdout",
     "output_type": "stream",
     "text": [
      "\n",
      "Running exec: lblrtm\n",
      "\n",
      "\n"
     ]
    },
    {
     "name": "stderr",
     "output_type": "stream",
     "text": [
      "Note: The following floating-point exceptions are signalling: IEEE_INVALID_FLAG IEEE_UNDERFLOW_FLAG IEEE_DENORMAL\n",
      "STOP  LBLRTM EXIT \n",
      "0.90user 0.72system 0:01.74elapsed 93%CPU (0avgtext+0avgdata 7672maxresident)k\n",
      "0inputs+0outputs (0major+1233minor)pagefaults 0swaps\n"
     ]
    },
    {
     "name": "stdout",
     "output_type": "stream",
     "text": [
      "1143628\n",
      "humidity: 50.0\n",
      " pressure: 10000.0\n",
      " temperature: 300.0\n",
      " lat: 32.78000000000001\n",
      " elevation: 2.797999999999601\n",
      " freqmin(cm-1): 11098.779134295226\n",
      " freqmax(cm-1): 14265.33523537803\n",
      " angle: 19.147041951230698\n",
      "\n",
      "\n",
      "Running exec: lblrtm\n",
      "\n",
      "\n"
     ]
    },
    {
     "name": "stderr",
     "output_type": "stream",
     "text": [
      "Note: The following floating-point exceptions are signalling: IEEE_INVALID_FLAG IEEE_UNDERFLOW_FLAG IEEE_DENORMAL\n",
      "STOP  LBLRTM EXIT \n",
      "2.08user 0.87system 0:03.19elapsed 92%CPU (0avgtext+0avgdata 7752maxresident)k\n",
      "0inputs+0outputs (0major+1237minor)pagefaults 0swaps\n"
     ]
    },
    {
     "name": "stdout",
     "output_type": "stream",
     "text": [
      "\n",
      "Running exec: lblrtm\n",
      "\n",
      "\n"
     ]
    },
    {
     "name": "stderr",
     "output_type": "stream",
     "text": [
      "Note: The following floating-point exceptions are signalling: IEEE_INVALID_FLAG IEEE_UNDERFLOW_FLAG IEEE_DENORMAL\n",
      "STOP  LBLRTM EXIT \n",
      "0.88user 0.75system 0:01.73elapsed 94%CPU (0avgtext+0avgdata 7616maxresident)k\n",
      "0inputs+0outputs (0major+1235minor)pagefaults 0swaps\n"
     ]
    },
    {
     "name": "stdout",
     "output_type": "stream",
     "text": [
      "1143628\n",
      "humidity: 50.0\n",
      " pressure: 10000.0\n",
      " temperature: 300.0\n",
      " lat: 32.78000000000001\n",
      " elevation: 2.797999999999601\n",
      " freqmin(cm-1): 11098.779134295226\n",
      " freqmax(cm-1): 14265.33523537803\n",
      " angle: 38.23670948006227\n",
      "\n",
      "\n",
      "Running exec: lblrtm\n",
      "\n",
      "\n"
     ]
    },
    {
     "name": "stderr",
     "output_type": "stream",
     "text": [
      "Note: The following floating-point exceptions are signalling: IEEE_INVALID_FLAG IEEE_UNDERFLOW_FLAG IEEE_DENORMAL\n",
      "STOP  LBLRTM EXIT \n",
      "2.13user 0.85system 0:03.20elapsed 93%CPU (0avgtext+0avgdata 7672maxresident)k\n",
      "0inputs+0outputs (0major+1234minor)pagefaults 0swaps\n"
     ]
    },
    {
     "name": "stdout",
     "output_type": "stream",
     "text": [
      "\n",
      "Running exec: lblrtm\n",
      "\n",
      "\n"
     ]
    },
    {
     "name": "stderr",
     "output_type": "stream",
     "text": [
      "Note: The following floating-point exceptions are signalling: IEEE_INVALID_FLAG IEEE_UNDERFLOW_FLAG IEEE_DENORMAL\n",
      "STOP  LBLRTM EXIT \n",
      "0.87user 0.73system 0:01.71elapsed 94%CPU (0avgtext+0avgdata 7636maxresident)k\n",
      "0inputs+0outputs (0major+1235minor)pagefaults 0swaps\n"
     ]
    },
    {
     "name": "stdout",
     "output_type": "stream",
     "text": [
      "1143628\n",
      "humidity: 50.0\n",
      " pressure: 10000.0\n",
      " temperature: 300.0\n",
      " lat: 32.78000000000001\n",
      " elevation: 2.797999999999601\n",
      " freqmin(cm-1): 11098.779134295226\n",
      " freqmax(cm-1): 14265.33523537803\n",
      " angle: 47.73236591064268\n",
      "\n",
      "\n",
      "Running exec: lblrtm\n",
      "\n",
      "\n"
     ]
    },
    {
     "name": "stderr",
     "output_type": "stream",
     "text": [
      "Note: The following floating-point exceptions are signalling: IEEE_INVALID_FLAG IEEE_UNDERFLOW_FLAG IEEE_DENORMAL\n",
      "STOP  LBLRTM EXIT \n",
      "2.12user 0.85system 0:03.15elapsed 94%CPU (0avgtext+0avgdata 7632maxresident)k\n",
      "0inputs+0outputs (0major+1233minor)pagefaults 0swaps\n"
     ]
    },
    {
     "name": "stdout",
     "output_type": "stream",
     "text": [
      "\n",
      "Running exec: lblrtm\n",
      "\n",
      "\n"
     ]
    },
    {
     "name": "stderr",
     "output_type": "stream",
     "text": [
      "Note: The following floating-point exceptions are signalling: IEEE_INVALID_FLAG IEEE_UNDERFLOW_FLAG IEEE_DENORMAL\n",
      "STOP  LBLRTM EXIT \n",
      "0.89user 0.75system 0:01.72elapsed 95%CPU (0avgtext+0avgdata 7636maxresident)k\n",
      "0inputs+0outputs (0major+1235minor)pagefaults 0swaps\n"
     ]
    },
    {
     "name": "stdout",
     "output_type": "stream",
     "text": [
      "1143628\n",
      "humidity: 50.0\n",
      " pressure: 10000.0\n",
      " temperature: 300.0\n",
      " lat: 32.78000000000001\n",
      " elevation: 2.797999999999601\n",
      " freqmin(cm-1): 11098.779134295226\n",
      " freqmax(cm-1): 14265.33523537803\n",
      " angle: 42.79961082627774\n",
      "\n",
      "\n",
      "Running exec: lblrtm\n",
      "\n",
      "\n"
     ]
    },
    {
     "name": "stderr",
     "output_type": "stream",
     "text": [
      "Note: The following floating-point exceptions are signalling: IEEE_INVALID_FLAG IEEE_UNDERFLOW_FLAG IEEE_DENORMAL\n",
      "STOP  LBLRTM EXIT \n",
      "2.11user 0.83system 0:03.09elapsed 95%CPU (0avgtext+0avgdata 7748maxresident)k\n",
      "0inputs+0outputs (0major+1234minor)pagefaults 0swaps\n"
     ]
    },
    {
     "name": "stdout",
     "output_type": "stream",
     "text": [
      "\n",
      "Running exec: lblrtm\n",
      "\n",
      "\n"
     ]
    },
    {
     "name": "stderr",
     "output_type": "stream",
     "text": [
      "Note: The following floating-point exceptions are signalling: IEEE_INVALID_FLAG IEEE_UNDERFLOW_FLAG IEEE_DENORMAL\n",
      "STOP  LBLRTM EXIT \n",
      "0.91user 0.72system 0:01.79elapsed 91%CPU (0avgtext+0avgdata 7624maxresident)k\n",
      "0inputs+0outputs (0major+1233minor)pagefaults 0swaps\n"
     ]
    },
    {
     "name": "stdout",
     "output_type": "stream",
     "text": [
      "1143628\n",
      "humidity: 50.0\n",
      " pressure: 10000.0\n",
      " temperature: 300.0\n",
      " lat: 32.78000000000001\n",
      " elevation: 2.797999999999601\n",
      " freqmin(cm-1): 11098.779134295226\n",
      " freqmax(cm-1): 14265.33523537803\n",
      " angle: 44.62927519288961\n",
      "\n",
      "\n",
      "Running exec: lblrtm\n",
      "\n",
      "\n"
     ]
    },
    {
     "name": "stderr",
     "output_type": "stream",
     "text": [
      "Note: The following floating-point exceptions are signalling: IEEE_INVALID_FLAG IEEE_UNDERFLOW_FLAG IEEE_DENORMAL\n",
      "STOP  LBLRTM EXIT \n",
      "2.14user 0.82system 0:03.11elapsed 95%CPU (0avgtext+0avgdata 7684maxresident)k\n",
      "0inputs+0outputs (0major+1237minor)pagefaults 0swaps\n"
     ]
    },
    {
     "name": "stdout",
     "output_type": "stream",
     "text": [
      "\n",
      "Running exec: lblrtm\n",
      "\n",
      "\n"
     ]
    },
    {
     "name": "stderr",
     "output_type": "stream",
     "text": [
      "Note: The following floating-point exceptions are signalling: IEEE_INVALID_FLAG IEEE_UNDERFLOW_FLAG IEEE_DENORMAL\n",
      "STOP  LBLRTM EXIT \n",
      "0.89user 0.72system 0:01.74elapsed 92%CPU (0avgtext+0avgdata 7688maxresident)k\n",
      "0inputs+0outputs (0major+1236minor)pagefaults 0swaps\n"
     ]
    },
    {
     "name": "stdout",
     "output_type": "stream",
     "text": [
      "1143628\n",
      "humidity: 50.0\n",
      " pressure: 10000.0\n",
      " temperature: 300.0\n",
      " lat: 32.78000000000001\n",
      " elevation: 2.797999999999601\n",
      " freqmin(cm-1): 11098.779134295226\n",
      " freqmax(cm-1): 14265.33523537803\n",
      " angle: 31.567632273477905\n",
      "\n",
      "\n",
      "Running exec: lblrtm\n",
      "\n",
      "\n"
     ]
    },
    {
     "name": "stderr",
     "output_type": "stream",
     "text": [
      "Note: The following floating-point exceptions are signalling: IEEE_INVALID_FLAG IEEE_UNDERFLOW_FLAG IEEE_DENORMAL\n",
      "STOP  LBLRTM EXIT \n",
      "2.13user 0.81system 0:03.17elapsed 92%CPU (0avgtext+0avgdata 7560maxresident)k\n",
      "0inputs+0outputs (0major+1233minor)pagefaults 0swaps\n"
     ]
    },
    {
     "name": "stdout",
     "output_type": "stream",
     "text": [
      "\n",
      "Running exec: lblrtm\n",
      "\n",
      "\n"
     ]
    },
    {
     "name": "stderr",
     "output_type": "stream",
     "text": [
      "Note: The following floating-point exceptions are signalling: IEEE_INVALID_FLAG IEEE_UNDERFLOW_FLAG IEEE_DENORMAL\n",
      "STOP  LBLRTM EXIT \n",
      "0.93user 0.68system 0:01.75elapsed 92%CPU (0avgtext+0avgdata 7624maxresident)k\n",
      "0inputs+0outputs (0major+1233minor)pagefaults 0swaps\n"
     ]
    },
    {
     "name": "stdout",
     "output_type": "stream",
     "text": [
      "1143628\n",
      "humidity: 50.0\n",
      " pressure: 10000.0\n",
      " temperature: 300.0\n",
      " lat: 32.78000000000001\n",
      " elevation: 2.797999999999601\n",
      " freqmin(cm-1): 11098.779134295226\n",
      " freqmax(cm-1): 14265.33523537803\n",
      " angle: 44.219986042892295\n",
      "\n",
      "\n",
      "Running exec: lblrtm\n",
      "\n",
      "\n"
     ]
    },
    {
     "name": "stderr",
     "output_type": "stream",
     "text": [
      "Note: The following floating-point exceptions are signalling: IEEE_INVALID_FLAG IEEE_UNDERFLOW_FLAG IEEE_DENORMAL\n",
      "STOP  LBLRTM EXIT \n",
      "2.14user 0.80system 0:03.15elapsed 93%CPU (0avgtext+0avgdata 7792maxresident)k\n",
      "0inputs+0outputs (0major+1238minor)pagefaults 0swaps\n"
     ]
    },
    {
     "name": "stdout",
     "output_type": "stream",
     "text": [
      "\n",
      "Running exec: lblrtm\n",
      "\n",
      "\n"
     ]
    },
    {
     "name": "stderr",
     "output_type": "stream",
     "text": [
      "Note: The following floating-point exceptions are signalling: IEEE_INVALID_FLAG IEEE_UNDERFLOW_FLAG IEEE_DENORMAL\n",
      "STOP  LBLRTM EXIT \n",
      "0.92user 0.71system 0:01.75elapsed 93%CPU (0avgtext+0avgdata 7672maxresident)k\n",
      "0inputs+0outputs (0major+1233minor)pagefaults 0swaps\n"
     ]
    },
    {
     "name": "stdout",
     "output_type": "stream",
     "text": [
      "1143628\n",
      "humidity: 50.0\n",
      " pressure: 10000.0\n",
      " temperature: 300.0\n",
      " lat: 32.78000000000001\n",
      " elevation: 2.797999999999601\n",
      " freqmin(cm-1): 11098.779134295226\n",
      " freqmax(cm-1): 14265.33523537803\n",
      " angle: 55.209073951412215\n",
      "\n",
      "\n",
      "Running exec: lblrtm\n",
      "\n",
      "\n"
     ]
    },
    {
     "name": "stderr",
     "output_type": "stream",
     "text": [
      "Note: The following floating-point exceptions are signalling: IEEE_INVALID_FLAG IEEE_UNDERFLOW_FLAG IEEE_DENORMAL\n",
      "STOP  LBLRTM EXIT \n",
      "2.06user 0.85system 0:03.13elapsed 93%CPU (0avgtext+0avgdata 7628maxresident)k\n",
      "0inputs+0outputs (0major+1233minor)pagefaults 0swaps\n"
     ]
    },
    {
     "name": "stdout",
     "output_type": "stream",
     "text": [
      "\n",
      "Running exec: lblrtm\n",
      "\n",
      "\n"
     ]
    },
    {
     "name": "stderr",
     "output_type": "stream",
     "text": [
      "Note: The following floating-point exceptions are signalling: IEEE_INVALID_FLAG IEEE_UNDERFLOW_FLAG IEEE_DENORMAL\n",
      "STOP  LBLRTM EXIT \n",
      "0.92user 0.72system 0:01.73elapsed 94%CPU (0avgtext+0avgdata 7672maxresident)k\n",
      "0inputs+0outputs (0major+1234minor)pagefaults 0swaps\n"
     ]
    },
    {
     "name": "stdout",
     "output_type": "stream",
     "text": [
      "1127403\n",
      "humidity: 50.0\n",
      " pressure: 10000.0\n",
      " temperature: 300.0\n",
      " lat: 32.78000000000001\n",
      " elevation: 2.797999999999601\n",
      " freqmin(cm-1): 11098.779134295226\n",
      " freqmax(cm-1): 14265.33523537803\n",
      " angle: 16.046253531664348\n",
      "\n",
      "\n",
      "Running exec: lblrtm\n",
      "\n",
      "\n"
     ]
    },
    {
     "name": "stderr",
     "output_type": "stream",
     "text": [
      "Note: The following floating-point exceptions are signalling: IEEE_INVALID_FLAG IEEE_UNDERFLOW_FLAG IEEE_DENORMAL\n",
      "STOP  LBLRTM EXIT \n",
      "2.14user 0.81system 0:03.09elapsed 95%CPU (0avgtext+0avgdata 7624maxresident)k\n",
      "0inputs+0outputs (0major+1233minor)pagefaults 0swaps\n"
     ]
    },
    {
     "name": "stdout",
     "output_type": "stream",
     "text": [
      "\n",
      "Running exec: lblrtm\n",
      "\n",
      "\n"
     ]
    },
    {
     "name": "stderr",
     "output_type": "stream",
     "text": [
      "Note: The following floating-point exceptions are signalling: IEEE_INVALID_FLAG IEEE_UNDERFLOW_FLAG IEEE_DENORMAL\n",
      "STOP  LBLRTM EXIT \n",
      "0.90user 0.71system 0:01.69elapsed 95%CPU (0avgtext+0avgdata 7728maxresident)k\n",
      "0inputs+0outputs (0major+1236minor)pagefaults 0swaps\n"
     ]
    },
    {
     "name": "stdout",
     "output_type": "stream",
     "text": [
      "1143628\n",
      "humidity: 50.0\n",
      " pressure: 10000.0\n",
      " temperature: 300.0\n",
      " lat: 32.78000000000001\n",
      " elevation: 2.797999999999601\n",
      " freqmin(cm-1): 11098.779134295226\n",
      " freqmax(cm-1): 14265.33523537803\n",
      " angle: 70.36083125348077\n",
      "\n",
      "\n",
      "Running exec: lblrtm\n",
      "\n",
      "\n"
     ]
    },
    {
     "name": "stderr",
     "output_type": "stream",
     "text": [
      "Note: The following floating-point exceptions are signalling: IEEE_INVALID_FLAG IEEE_UNDERFLOW_FLAG IEEE_DENORMAL\n",
      "STOP  LBLRTM EXIT \n",
      "2.18user 0.82system 0:03.19elapsed 93%CPU (0avgtext+0avgdata 7748maxresident)k\n",
      "0inputs+0outputs (0major+1234minor)pagefaults 0swaps\n"
     ]
    },
    {
     "name": "stdout",
     "output_type": "stream",
     "text": [
      "\n",
      "Running exec: lblrtm\n",
      "\n",
      "\n"
     ]
    },
    {
     "name": "stderr",
     "output_type": "stream",
     "text": [
      "Note: The following floating-point exceptions are signalling: IEEE_INVALID_FLAG IEEE_UNDERFLOW_FLAG IEEE_DENORMAL\n",
      "STOP  LBLRTM EXIT \n",
      "0.90user 0.73system 0:01.72elapsed 94%CPU (0avgtext+0avgdata 7552maxresident)k\n",
      "0inputs+0outputs (0major+1233minor)pagefaults 0swaps\n"
     ]
    },
    {
     "name": "stdout",
     "output_type": "stream",
     "text": [
      "1143628\n",
      "humidity: 50.0\n",
      " pressure: 10000.0\n",
      " temperature: 300.0\n",
      " lat: 32.78000000000001\n",
      " elevation: 2.797999999999601\n",
      " freqmin(cm-1): 11098.779134295226\n",
      " freqmax(cm-1): 14265.33523537803\n",
      " angle: 5.621114858253093\n",
      "\n",
      "\n",
      "Running exec: lblrtm\n",
      "\n",
      "\n"
     ]
    },
    {
     "name": "stderr",
     "output_type": "stream",
     "text": [
      "Note: The following floating-point exceptions are signalling: IEEE_INVALID_FLAG IEEE_UNDERFLOW_FLAG IEEE_DENORMAL\n",
      "STOP  LBLRTM EXIT \n",
      "2.12user 0.84system 0:03.15elapsed 94%CPU (0avgtext+0avgdata 7720maxresident)k\n",
      "0inputs+0outputs (0major+1237minor)pagefaults 0swaps\n"
     ]
    },
    {
     "name": "stdout",
     "output_type": "stream",
     "text": [
      "\n",
      "Running exec: lblrtm\n",
      "\n",
      "\n"
     ]
    },
    {
     "name": "stderr",
     "output_type": "stream",
     "text": [
      "Note: The following floating-point exceptions are signalling: IEEE_INVALID_FLAG IEEE_UNDERFLOW_FLAG IEEE_DENORMAL\n",
      "STOP  LBLRTM EXIT \n",
      "0.87user 0.74system 0:01.69elapsed 95%CPU (0avgtext+0avgdata 7624maxresident)k\n",
      "0inputs+0outputs (0major+1234minor)pagefaults 0swaps\n"
     ]
    },
    {
     "name": "stdout",
     "output_type": "stream",
     "text": [
      "1143628\n",
      "<simulacra.tellurics.TelFitModel object at 0x145c0d5fc9b0> [1.6178939077349241e-06, 2.1907587743896784e-07, 2.1907587743896784e-07, 2.1907587743896784e-07, 2.1907587743896784e-07, 2.2146180711501984e-07, 2.2147022882279543e-07, 2.1907587743896784e-07, 2.1907587743896784e-07, 2.1907587743896784e-07, 2.2717149938955572e-07, 2.1907587743896784e-07, 2.1907587743896784e-07, 2.1907587743896784e-07, 2.1907587743896784e-07, 2.1907587743896784e-07, 2.1907587743896784e-07, 2.1907587743896784e-07, 2.1907587743896784e-07, 2.1907587743896784e-07, 2.1907587743896784e-07, 2.1907587743896784e-07, 2.1907587743896784e-07, 2.1907587743896784e-07, 2.1907587743896784e-07, 2.1907587743896784e-07, 2.1907587743896784e-07, 2.1996264365498064e-07, 2.1907587743896784e-07, 2.1907587743896784e-07, 2.1907587743896784e-07]\n",
      "interpolating spline...\n",
      "0\n",
      "1\n",
      "2\n",
      "3\n",
      "4\n",
      "5\n",
      "6\n",
      "7\n",
      "8\n",
      "9\n",
      "10\n",
      "11\n",
      "12\n",
      "13\n",
      "14\n",
      "15\n",
      "16\n",
      "17\n",
      "18\n",
      "19\n",
      "20\n",
      "21\n",
      "22\n",
      "23\n",
      "24\n",
      "25\n",
      "26\n",
      "27\n",
      "28\n",
      "29\n",
      "combining grids...\n",
      "convolving...\n",
      "0\n",
      "1\n",
      "2\n",
      "3\n",
      "4\n",
      "5\n",
      "6\n",
      "7\n",
      "8\n",
      "9\n",
      "10\n",
      "11\n",
      "12\n",
      "13\n",
      "14\n",
      "15\n",
      "16\n",
      "17\n",
      "18\n",
      "19\n",
      "20\n",
      "21\n",
      "22\n",
      "23\n",
      "24\n",
      "25\n",
      "26\n",
      "27\n",
      "28\n",
      "29\n",
      "xs: 7005.007110494636 9004.98956196525\n",
      "xhat: 7010.007110494628 8999.990639003297\n",
      "interpolating lanczos...\n",
      "0\n",
      "1\n",
      "2\n",
      "3\n",
      "4\n",
      "5\n",
      "6\n",
      "7\n",
      "8\n",
      "9\n",
      "10\n",
      "11\n",
      "12\n",
      "13\n",
      "14\n",
      "15\n",
      "16\n",
      "17\n",
      "18\n",
      "19\n",
      "20\n",
      "21\n",
      "22\n",
      "23\n",
      "24\n",
      "25\n",
      "26\n",
      "27\n",
      "28\n",
      "29\n",
      "area: 14.522012041218817 m2\t avg d lambda: 0.05688267575202005 Angstrom\t avg lambda: 7963.6042297997865 Angstrom\t avg exp times: 8.0 min\n",
      "0 n mean: 6.67e+02\t n median: 8.05e+02\n",
      "1 n mean: 7.56e+02\t n median: 8.23e+02\n",
      "2 n mean: 7.02e+02\t n median: 7.98e+02\n",
      "3 n mean: 7.56e+02\t n median: 8.23e+02\n",
      "4 n mean: 7.20e+02\t n median: 8.07e+02\n",
      "5 n mean: 6.72e+02\t n median: 7.70e+02\n",
      "6 n mean: 7.61e+02\t n median: 8.24e+02\n",
      "7 n mean: 7.66e+02\t n median: 8.26e+02\n",
      "8 n mean: 7.65e+02\t n median: 8.26e+02\n",
      "9 n mean: 7.55e+02\t n median: 8.23e+02\n",
      "10 n mean: 7.61e+02\t n median: 8.24e+02\n",
      "11 n mean: 7.58e+02\t n median: 8.24e+02\n",
      "12 n mean: 7.66e+02\t n median: 8.26e+02\n",
      "13 n mean: 7.44e+02\t n median: 8.18e+02\n",
      "14 n mean: 7.13e+02\t n median: 8.04e+02\n",
      "15 n mean: 7.20e+02\t n median: 8.09e+02\n",
      "16 n mean: 7.66e+02\t n median: 8.26e+02\n",
      "17 n mean: 7.62e+02\t n median: 8.25e+02\n",
      "18 n mean: 7.52e+02\t n median: 8.21e+02\n",
      "19 n mean: 7.64e+02\t n median: 8.26e+02\n",
      "20 n mean: 7.55e+02\t n median: 8.23e+02\n",
      "21 n mean: 7.47e+02\t n median: 8.19e+02\n",
      "22 n mean: 7.52e+02\t n median: 8.21e+02\n",
      "23 n mean: 7.50e+02\t n median: 8.20e+02\n",
      "24 n mean: 7.59e+02\t n median: 8.24e+02\n",
      "25 n mean: 7.50e+02\t n median: 8.21e+02\n",
      "26 n mean: 6.68e+02\t n median: 8.23e+02\n",
      "27 n mean: 7.65e+02\t n median: 8.26e+02\n",
      "28 n mean: 6.98e+02\t n median: 7.96e+02\n",
      "29 n mean: 7.66e+02\t n median: 8.26e+02\n",
      "generating true signal to noise ratios...\n",
      "adding noise...\n",
      "generating exp signal to noise ratios...\n"
     ]
    },
    {
     "name": "stderr",
     "output_type": "stream",
     "text": [
      "../simulacra/detector.py:529: RuntimeWarning: invalid value encountered in add_noise_v\n",
      "  n_readout = add_noise_v(n_exp.flatten().value,snr_grid.flatten()).reshape(out_shape)\n"
     ]
    },
    {
     "name": "stdout",
     "output_type": "stream",
     "text": [
      "generating errors...\n",
      "done.\n",
      "/scratch/mdd423/simulacra/out/2021-11-02/data_e30_R70000.0_a2000.0_p40.3_l7.0e+039.0e+03_ep1.0_w0.0_snr2.1e+01_tp3e-07\n",
      "saving time\n",
      "quantity\n",
      "epoches  saving as string\n",
      "quantity\n",
      "quantity\n",
      "quantity\n",
      "quantity\n",
      "quantity\n"
     ]
    },
    {
     "name": "stderr",
     "output_type": "stream",
     "text": [
      "../simulacra/detector.py:541: RuntimeWarning: invalid value encountered in generate_errors_v\n",
      "  nerr_out = generate_errors_v(n_readout.flatten(),snr_readout.flatten()).reshape(out_shape)\n"
     ]
    },
    {
     "name": "stdout",
     "output_type": "stream",
     "text": [
      "quantity\n",
      "quantity\n",
      "flux  saving as string\n",
      "wave  saving as string\n",
      "quantity\n",
      "quantity\n",
      "quantity\n",
      "alpha  saving as string\n",
      "quantity\n",
      "quantity\n",
      "fluxname  saving as string\n",
      "generate_spectra  saving as string\n",
      "quantity\n",
      "quantity\n",
      "logg  saving as string\n",
      "outdir  saving as string\n",
      "quantity\n",
      "plot  saving as string\n",
      "plot_interpolated  saving as string\n",
      "quantity\n",
      "quantity\n",
      "saving target...340.28129510273834 deg 28.43612929851907 deg\n",
      "temperature  saving as string\n",
      "quantity\n",
      "quantity\n",
      "wavename  saving as string\n",
      "quantity\n",
      "z  saving as string\n",
      "quantity\n",
      "quantity\n",
      "quantity\n",
      "quantity\n",
      "a  saving as string\n",
      "add_model  saving as string\n",
      "quantity\n",
      "checkmax  saving as string\n",
      "checkmin  saving as string\n",
      "quantity\n",
      "epsilon  saving as string\n",
      "gamma  saving as string\n",
      "quantity\n",
      "quantity\n",
      "quantity\n",
      "lsf_centering  saving as string\n",
      "lsf_const_coeffs  saving as string\n",
      "resolution  saving as string\n",
      "sigma  saving as string\n",
      "sigma_range  saving as string\n",
      "simulate  saving as string\n",
      "stellar_model  saving as string\n",
      "through_put  saving as string\n",
      "transmission_cutoff  saving as string\n",
      "transmission_models  saving as string\n",
      "w  saving as string\n",
      "quantity\n",
      "quantity\n",
      "quantity\n",
      "_epoches  saving as string\n",
      "quantity\n",
      "quantity\n",
      "_name  saving as string\n",
      "quantity\n",
      "quantity\n",
      "check_property  saving as string\n",
      "check_shape_type  saving as string\n",
      "epoches  saving as string\n",
      "generate_transmission  saving as string\n",
      "quantity\n",
      "quantity\n",
      "quantity\n",
      "plot  saving as string\n",
      "plot_interpolated  saving as string\n",
      "quantity\n",
      "quantity\n",
      "quantity\n",
      "nan nan\n",
      "using saved wave file\n",
      "../data/stellar/PHOENIX/lte04800-1.00-1.0.Alpha=+0.40.PHOENIX-ACES-AGSS-COND-2011-HiRes.fits\n",
      "using saved flux file\n",
      "reading in ../data/stellar/PHOENIX/WAVE_PHOENIX-ACES-AGSS-COND-2011.fits\n",
      "wave_grid min -> 701.0 nm\n",
      "surface flux: mean 1.31e+14 erg / (cm3 s)\t median 1.14e+14 erg / (cm3 s)\n",
      "obs     flux: mean 9.45e-03 erg / (cm3 s)\t median 8.21e-03 erg / (cm3 s)\n",
      "generating spectra...\n",
      "humidity: 50.0\n",
      " pressure: 10000.0\n",
      " temperature: 300.0\n",
      " lat: 32.78000000000001\n",
      " elevation: 2.797999999999601\n",
      " freqmin(cm-1): 11098.779134295226\n",
      " freqmax(cm-1): 14265.33523537803\n",
      " angle: 62.8613757400191\n",
      "\n",
      "\n",
      "Running exec: lblrtm\n",
      "\n",
      "\n"
     ]
    },
    {
     "name": "stderr",
     "output_type": "stream",
     "text": [
      "Note: The following floating-point exceptions are signalling: IEEE_INVALID_FLAG IEEE_UNDERFLOW_FLAG IEEE_DENORMAL\n",
      "STOP  LBLRTM EXIT \n",
      "2.17user 0.82system 0:03.22elapsed 93%CPU (0avgtext+0avgdata 7712maxresident)k\n",
      "0inputs+0outputs (0major+1236minor)pagefaults 0swaps\n"
     ]
    },
    {
     "name": "stdout",
     "output_type": "stream",
     "text": [
      "\n",
      "Running exec: lblrtm\n",
      "\n",
      "\n"
     ]
    },
    {
     "name": "stderr",
     "output_type": "stream",
     "text": [
      "Note: The following floating-point exceptions are signalling: IEEE_INVALID_FLAG IEEE_UNDERFLOW_FLAG IEEE_DENORMAL\n",
      "STOP  LBLRTM EXIT \n",
      "0.90user 0.71system 0:01.71elapsed 94%CPU (0avgtext+0avgdata 7676maxresident)k\n",
      "0inputs+0outputs (0major+1237minor)pagefaults 0swaps\n"
     ]
    },
    {
     "name": "stdout",
     "output_type": "stream",
     "text": [
      "1143628\n",
      "humidity: 50.0\n",
      " pressure: 10000.0\n",
      " temperature: 300.0\n",
      " lat: 32.78000000000001\n",
      " elevation: 2.797999999999601\n",
      " freqmin(cm-1): 11098.779134295226\n",
      " freqmax(cm-1): 14265.33523537803\n",
      " angle: 36.420938571519066\n",
      "\n",
      "\n",
      "Running exec: lblrtm\n",
      "\n",
      "\n"
     ]
    },
    {
     "name": "stderr",
     "output_type": "stream",
     "text": [
      "Note: The following floating-point exceptions are signalling: IEEE_INVALID_FLAG IEEE_UNDERFLOW_FLAG IEEE_DENORMAL\n",
      "STOP  LBLRTM EXIT \n",
      "2.15user 0.78system 0:03.09elapsed 94%CPU (0avgtext+0avgdata 7748maxresident)k\n",
      "0inputs+0outputs (0major+1235minor)pagefaults 0swaps\n"
     ]
    },
    {
     "name": "stdout",
     "output_type": "stream",
     "text": [
      "\n",
      "Running exec: lblrtm\n",
      "\n",
      "\n"
     ]
    },
    {
     "name": "stderr",
     "output_type": "stream",
     "text": [
      "Note: The following floating-point exceptions are signalling: IEEE_INVALID_FLAG IEEE_UNDERFLOW_FLAG IEEE_DENORMAL\n",
      "STOP  LBLRTM EXIT \n",
      "0.90user 0.70system 0:01.68elapsed 95%CPU (0avgtext+0avgdata 7792maxresident)k\n",
      "0inputs+0outputs (0major+1238minor)pagefaults 0swaps\n"
     ]
    },
    {
     "name": "stdout",
     "output_type": "stream",
     "text": [
      "1143628\n",
      "humidity: 50.0\n",
      " pressure: 10000.0\n",
      " temperature: 300.0\n",
      " lat: 32.78000000000001\n",
      " elevation: 2.797999999999601\n",
      " freqmin(cm-1): 11098.779134295226\n",
      " freqmax(cm-1): 14265.33523537803\n",
      " angle: 70.23515457427514\n",
      "\n",
      "\n",
      "Running exec: lblrtm\n",
      "\n",
      "\n"
     ]
    },
    {
     "name": "stderr",
     "output_type": "stream",
     "text": [
      "Note: The following floating-point exceptions are signalling: IEEE_INVALID_FLAG IEEE_UNDERFLOW_FLAG IEEE_DENORMAL\n",
      "STOP  LBLRTM EXIT \n",
      "2.15user 0.85system 0:03.17elapsed 94%CPU (0avgtext+0avgdata 7720maxresident)k\n",
      "0inputs+0outputs (0major+1237minor)pagefaults 0swaps\n"
     ]
    },
    {
     "name": "stdout",
     "output_type": "stream",
     "text": [
      "\n",
      "Running exec: lblrtm\n",
      "\n",
      "\n"
     ]
    },
    {
     "name": "stderr",
     "output_type": "stream",
     "text": [
      "Note: The following floating-point exceptions are signalling: IEEE_INVALID_FLAG IEEE_UNDERFLOW_FLAG IEEE_DENORMAL\n",
      "STOP  LBLRTM EXIT \n",
      "0.91user 0.71system 0:01.71elapsed 94%CPU (0avgtext+0avgdata 7624maxresident)k\n",
      "0inputs+0outputs (0major+1233minor)pagefaults 0swaps\n"
     ]
    },
    {
     "name": "stdout",
     "output_type": "stream",
     "text": [
      "1143628\n",
      "humidity: 50.0\n",
      " pressure: 10000.0\n",
      " temperature: 300.0\n",
      " lat: 32.78000000000001\n",
      " elevation: 2.797999999999601\n",
      " freqmin(cm-1): 11098.779134295226\n",
      " freqmax(cm-1): 14265.33523537803\n",
      " angle: 37.41097711185363\n",
      "\n",
      "\n",
      "Running exec: lblrtm\n",
      "\n",
      "\n"
     ]
    },
    {
     "name": "stderr",
     "output_type": "stream",
     "text": [
      "Note: The following floating-point exceptions are signalling: IEEE_INVALID_FLAG IEEE_UNDERFLOW_FLAG IEEE_DENORMAL\n",
      "STOP  LBLRTM EXIT \n",
      "2.15user 0.79system 0:03.15elapsed 93%CPU (0avgtext+0avgdata 7684maxresident)k\n",
      "0inputs+0outputs (0major+1237minor)pagefaults 0swaps\n"
     ]
    },
    {
     "name": "stdout",
     "output_type": "stream",
     "text": [
      "\n",
      "Running exec: lblrtm\n",
      "\n",
      "\n"
     ]
    },
    {
     "name": "stderr",
     "output_type": "stream",
     "text": [
      "Note: The following floating-point exceptions are signalling: IEEE_INVALID_FLAG IEEE_UNDERFLOW_FLAG IEEE_DENORMAL\n",
      "STOP  LBLRTM EXIT \n",
      "0.91user 0.70system 0:01.69elapsed 95%CPU (0avgtext+0avgdata 7716maxresident)k\n",
      "0inputs+0outputs (0major+1236minor)pagefaults 0swaps\n"
     ]
    },
    {
     "name": "stdout",
     "output_type": "stream",
     "text": [
      "1143628\n",
      "humidity: 50.0\n",
      " pressure: 10000.0\n",
      " temperature: 300.0\n",
      " lat: 32.78000000000001\n",
      " elevation: 2.797999999999601\n",
      " freqmin(cm-1): 11098.779134295226\n",
      " freqmax(cm-1): 14265.33523537803\n",
      " angle: 65.09115788813192\n",
      "\n",
      "\n",
      "Running exec: lblrtm\n",
      "\n",
      "\n"
     ]
    },
    {
     "name": "stderr",
     "output_type": "stream",
     "text": [
      "Note: The following floating-point exceptions are signalling: IEEE_INVALID_FLAG IEEE_UNDERFLOW_FLAG IEEE_DENORMAL\n",
      "STOP  LBLRTM EXIT \n",
      "2.11user 0.83system 0:03.12elapsed 94%CPU (0avgtext+0avgdata 7572maxresident)k\n",
      "0inputs+0outputs (0major+1234minor)pagefaults 0swaps\n"
     ]
    },
    {
     "name": "stdout",
     "output_type": "stream",
     "text": [
      "\n",
      "Running exec: lblrtm\n",
      "\n",
      "\n"
     ]
    },
    {
     "name": "stderr",
     "output_type": "stream",
     "text": [
      "Note: The following floating-point exceptions are signalling: IEEE_INVALID_FLAG IEEE_UNDERFLOW_FLAG IEEE_DENORMAL\n",
      "STOP  LBLRTM EXIT \n",
      "0.90user 0.72system 0:01.76elapsed 92%CPU (0avgtext+0avgdata 7720maxresident)k\n",
      "0inputs+0outputs (0major+1234minor)pagefaults 0swaps\n"
     ]
    },
    {
     "name": "stdout",
     "output_type": "stream",
     "text": [
      "1127370\n",
      "humidity: 50.0\n",
      " pressure: 10000.0\n",
      " temperature: 300.0\n",
      " lat: 32.78000000000001\n",
      " elevation: 2.797999999999601\n",
      " freqmin(cm-1): 11098.779134295226\n",
      " freqmax(cm-1): 14265.33523537803\n",
      " angle: 59.94944845829285\n",
      "\n",
      "\n",
      "Running exec: lblrtm\n",
      "\n",
      "\n"
     ]
    },
    {
     "name": "stderr",
     "output_type": "stream",
     "text": [
      "Note: The following floating-point exceptions are signalling: IEEE_INVALID_FLAG IEEE_UNDERFLOW_FLAG IEEE_DENORMAL\n",
      "STOP  LBLRTM EXIT \n",
      "2.09user 0.80system 0:03.06elapsed 94%CPU (0avgtext+0avgdata 7712maxresident)k\n",
      "0inputs+0outputs (0major+1236minor)pagefaults 0swaps\n"
     ]
    },
    {
     "name": "stdout",
     "output_type": "stream",
     "text": [
      "\n",
      "Running exec: lblrtm\n",
      "\n",
      "\n"
     ]
    },
    {
     "name": "stderr",
     "output_type": "stream",
     "text": [
      "Note: The following floating-point exceptions are signalling: IEEE_INVALID_FLAG IEEE_UNDERFLOW_FLAG IEEE_DENORMAL\n",
      "STOP  LBLRTM EXIT \n",
      "0.98user 0.67system 0:01.83elapsed 90%CPU (0avgtext+0avgdata 7668maxresident)k\n",
      "0inputs+0outputs (0major+1233minor)pagefaults 0swaps\n"
     ]
    },
    {
     "name": "stdout",
     "output_type": "stream",
     "text": [
      "1124676\n",
      "humidity: 50.0\n",
      " pressure: 10000.0\n",
      " temperature: 300.0\n",
      " lat: 32.78000000000001\n",
      " elevation: 2.797999999999601\n",
      " freqmin(cm-1): 11098.779134295226\n",
      " freqmax(cm-1): 14265.33523537803\n",
      " angle: 27.811520651072378\n",
      "\n",
      "\n",
      "Running exec: lblrtm\n",
      "\n",
      "\n"
     ]
    },
    {
     "name": "stderr",
     "output_type": "stream",
     "text": [
      "Note: The following floating-point exceptions are signalling: IEEE_INVALID_FLAG IEEE_UNDERFLOW_FLAG IEEE_DENORMAL\n",
      "STOP  LBLRTM EXIT \n",
      "2.11user 0.86system 0:03.14elapsed 94%CPU (0avgtext+0avgdata 7640maxresident)k\n",
      "0inputs+0outputs (0major+1236minor)pagefaults 0swaps\n"
     ]
    },
    {
     "name": "stdout",
     "output_type": "stream",
     "text": [
      "\n",
      "Running exec: lblrtm\n",
      "\n",
      "\n"
     ]
    },
    {
     "name": "stderr",
     "output_type": "stream",
     "text": [
      "Note: The following floating-point exceptions are signalling: IEEE_INVALID_FLAG IEEE_UNDERFLOW_FLAG IEEE_DENORMAL\n",
      "STOP  LBLRTM EXIT \n",
      "0.89user 0.72system 0:01.72elapsed 94%CPU (0avgtext+0avgdata 7744maxresident)k\n",
      "0inputs+0outputs (0major+1234minor)pagefaults 0swaps\n"
     ]
    },
    {
     "name": "stdout",
     "output_type": "stream",
     "text": [
      "1143628\n",
      "humidity: 50.0\n",
      " pressure: 10000.0\n",
      " temperature: 300.0\n",
      " lat: 32.78000000000001\n",
      " elevation: 2.797999999999601\n",
      " freqmin(cm-1): 11098.779134295226\n",
      " freqmax(cm-1): 14265.33523537803\n",
      " angle: 4.6273790635876395\n",
      "\n",
      "\n",
      "Running exec: lblrtm\n",
      "\n",
      "\n"
     ]
    },
    {
     "name": "stderr",
     "output_type": "stream",
     "text": [
      "Note: The following floating-point exceptions are signalling: IEEE_INVALID_FLAG IEEE_UNDERFLOW_FLAG IEEE_DENORMAL\n",
      "STOP  LBLRTM EXIT \n",
      "2.16user 0.77system 0:03.10elapsed 94%CPU (0avgtext+0avgdata 7720maxresident)k\n",
      "0inputs+0outputs (0major+1234minor)pagefaults 0swaps\n"
     ]
    },
    {
     "name": "stdout",
     "output_type": "stream",
     "text": [
      "\n",
      "Running exec: lblrtm\n",
      "\n",
      "\n"
     ]
    },
    {
     "name": "stderr",
     "output_type": "stream",
     "text": [
      "Note: The following floating-point exceptions are signalling: IEEE_INVALID_FLAG IEEE_UNDERFLOW_FLAG IEEE_DENORMAL\n",
      "STOP  LBLRTM EXIT \n",
      "0.89user 0.71system 0:01.72elapsed 93%CPU (0avgtext+0avgdata 7792maxresident)k\n",
      "0inputs+0outputs (0major+1237minor)pagefaults 0swaps\n"
     ]
    },
    {
     "name": "stdout",
     "output_type": "stream",
     "text": [
      "1143628\n",
      "humidity: 50.0\n",
      " pressure: 10000.0\n",
      " temperature: 300.0\n",
      " lat: 32.78000000000001\n",
      " elevation: 2.797999999999601\n",
      " freqmin(cm-1): 11098.779134295226\n",
      " freqmax(cm-1): 14265.33523537803\n",
      " angle: 11.404396925323324\n",
      "\n",
      "\n",
      "Running exec: lblrtm\n",
      "\n",
      "\n"
     ]
    },
    {
     "name": "stderr",
     "output_type": "stream",
     "text": [
      "Note: The following floating-point exceptions are signalling: IEEE_INVALID_FLAG IEEE_UNDERFLOW_FLAG IEEE_DENORMAL\n",
      "STOP  LBLRTM EXIT \n",
      "2.10user 0.85system 0:03.16elapsed 93%CPU (0avgtext+0avgdata 7528maxresident)k\n",
      "0inputs+0outputs (0major+1235minor)pagefaults 0swaps\n"
     ]
    },
    {
     "name": "stdout",
     "output_type": "stream",
     "text": [
      "\n",
      "Running exec: lblrtm\n",
      "\n",
      "\n"
     ]
    },
    {
     "name": "stderr",
     "output_type": "stream",
     "text": [
      "Note: The following floating-point exceptions are signalling: IEEE_INVALID_FLAG IEEE_UNDERFLOW_FLAG IEEE_DENORMAL\n",
      "STOP  LBLRTM EXIT \n",
      "0.91user 0.70system 0:01.68elapsed 95%CPU (0avgtext+0avgdata 7552maxresident)k\n",
      "0inputs+0outputs (0major+1233minor)pagefaults 0swaps\n"
     ]
    },
    {
     "name": "stdout",
     "output_type": "stream",
     "text": [
      "1143628\n",
      "humidity: 50.0\n",
      " pressure: 10000.0\n",
      " temperature: 300.0\n",
      " lat: 32.78000000000001\n",
      " elevation: 2.797999999999601\n",
      " freqmin(cm-1): 11098.779134295226\n",
      " freqmax(cm-1): 14265.33523537803\n",
      " angle: 54.85857323188904\n",
      "\n",
      "\n",
      "Running exec: lblrtm\n",
      "\n",
      "\n"
     ]
    },
    {
     "name": "stderr",
     "output_type": "stream",
     "text": [
      "Note: The following floating-point exceptions are signalling: IEEE_INVALID_FLAG IEEE_UNDERFLOW_FLAG IEEE_DENORMAL\n",
      "STOP  LBLRTM EXIT \n",
      "2.10user 0.82system 0:03.15elapsed 93%CPU (0avgtext+0avgdata 7624maxresident)k\n",
      "0inputs+0outputs (0major+1233minor)pagefaults 0swaps\n"
     ]
    },
    {
     "name": "stdout",
     "output_type": "stream",
     "text": [
      "\n",
      "Running exec: lblrtm\n",
      "\n",
      "\n"
     ]
    },
    {
     "name": "stderr",
     "output_type": "stream",
     "text": [
      "Note: The following floating-point exceptions are signalling: IEEE_INVALID_FLAG IEEE_UNDERFLOW_FLAG IEEE_DENORMAL\n",
      "STOP  LBLRTM EXIT \n",
      "0.91user 0.67system 0:01.69elapsed 94%CPU (0avgtext+0avgdata 7748maxresident)k\n",
      "0inputs+0outputs (0major+1234minor)pagefaults 0swaps\n"
     ]
    },
    {
     "name": "stdout",
     "output_type": "stream",
     "text": [
      "1111626\n",
      "humidity: 50.0\n",
      " pressure: 10000.0\n",
      " temperature: 300.0\n",
      " lat: 32.78000000000001\n",
      " elevation: 2.797999999999601\n",
      " freqmin(cm-1): 11098.779134295226\n",
      " freqmax(cm-1): 14265.33523537803\n",
      " angle: 27.82399986133828\n",
      "\n",
      "\n",
      "Running exec: lblrtm\n",
      "\n",
      "\n"
     ]
    },
    {
     "name": "stderr",
     "output_type": "stream",
     "text": [
      "Note: The following floating-point exceptions are signalling: IEEE_INVALID_FLAG IEEE_UNDERFLOW_FLAG IEEE_DENORMAL\n",
      "STOP  LBLRTM EXIT \n",
      "2.12user 0.83system 0:03.14elapsed 94%CPU (0avgtext+0avgdata 7684maxresident)k\n",
      "0inputs+0outputs (0major+1238minor)pagefaults 0swaps\n"
     ]
    },
    {
     "name": "stdout",
     "output_type": "stream",
     "text": [
      "\n",
      "Running exec: lblrtm\n",
      "\n",
      "\n"
     ]
    },
    {
     "name": "stderr",
     "output_type": "stream",
     "text": [
      "Note: The following floating-point exceptions are signalling: IEEE_INVALID_FLAG IEEE_UNDERFLOW_FLAG IEEE_DENORMAL\n",
      "STOP  LBLRTM EXIT \n",
      "0.90user 0.71system 0:01.69elapsed 95%CPU (0avgtext+0avgdata 7792maxresident)k\n",
      "0inputs+0outputs (0major+1237minor)pagefaults 0swaps\n"
     ]
    },
    {
     "name": "stdout",
     "output_type": "stream",
     "text": [
      "1143628\n",
      "humidity: 50.0\n",
      " pressure: 10000.0\n",
      " temperature: 300.0\n",
      " lat: 32.78000000000001\n",
      " elevation: 2.797999999999601\n",
      " freqmin(cm-1): 11098.779134295226\n",
      " freqmax(cm-1): 14265.33523537803\n",
      " angle: 32.81380139483823\n",
      "\n",
      "\n",
      "Running exec: lblrtm\n",
      "\n",
      "\n"
     ]
    },
    {
     "name": "stderr",
     "output_type": "stream",
     "text": [
      "Note: The following floating-point exceptions are signalling: IEEE_INVALID_FLAG IEEE_UNDERFLOW_FLAG IEEE_DENORMAL\n",
      "STOP  LBLRTM EXIT \n",
      "2.13user 0.83system 0:03.13elapsed 94%CPU (0avgtext+0avgdata 7672maxresident)k\n",
      "0inputs+0outputs (0major+1234minor)pagefaults 0swaps\n"
     ]
    },
    {
     "name": "stdout",
     "output_type": "stream",
     "text": [
      "\n",
      "Running exec: lblrtm\n",
      "\n",
      "\n"
     ]
    },
    {
     "name": "stderr",
     "output_type": "stream",
     "text": [
      "Note: The following floating-point exceptions are signalling: IEEE_INVALID_FLAG IEEE_UNDERFLOW_FLAG IEEE_DENORMAL\n",
      "STOP  LBLRTM EXIT \n",
      "0.90user 0.72system 0:01.71elapsed 94%CPU (0avgtext+0avgdata 7708maxresident)k\n",
      "0inputs+0outputs (0major+1236minor)pagefaults 0swaps\n"
     ]
    },
    {
     "name": "stdout",
     "output_type": "stream",
     "text": [
      "1143628\n",
      "humidity: 50.0\n",
      " pressure: 10000.0\n",
      " temperature: 300.0\n",
      " lat: 32.78000000000001\n",
      " elevation: 2.797999999999601\n",
      " freqmin(cm-1): 11098.779134295226\n",
      " freqmax(cm-1): 14265.33523537803\n",
      " angle: 5.685228205863384\n",
      "\n",
      "\n",
      "Running exec: lblrtm\n",
      "\n",
      "\n"
     ]
    },
    {
     "name": "stderr",
     "output_type": "stream",
     "text": [
      "Note: The following floating-point exceptions are signalling: IEEE_INVALID_FLAG IEEE_UNDERFLOW_FLAG IEEE_DENORMAL\n",
      "STOP  LBLRTM EXIT \n",
      "2.11user 0.84system 0:03.13elapsed 94%CPU (0avgtext+0avgdata 7720maxresident)k\n",
      "0inputs+0outputs (0major+1234minor)pagefaults 0swaps\n"
     ]
    },
    {
     "name": "stdout",
     "output_type": "stream",
     "text": [
      "\n",
      "Running exec: lblrtm\n",
      "\n",
      "\n"
     ]
    },
    {
     "name": "stderr",
     "output_type": "stream",
     "text": [
      "Note: The following floating-point exceptions are signalling: IEEE_INVALID_FLAG IEEE_UNDERFLOW_FLAG IEEE_DENORMAL\n",
      "STOP  LBLRTM EXIT \n",
      "0.89user 0.72system 0:01.71elapsed 94%CPU (0avgtext+0avgdata 7516maxresident)k\n",
      "0inputs+0outputs (0major+1233minor)pagefaults 0swaps\n"
     ]
    },
    {
     "name": "stdout",
     "output_type": "stream",
     "text": [
      "1143628\n",
      "humidity: 50.0\n",
      " pressure: 10000.0\n",
      " temperature: 300.0\n",
      " lat: 32.78000000000001\n",
      " elevation: 2.797999999999601\n",
      " freqmin(cm-1): 11098.779134295226\n",
      " freqmax(cm-1): 14265.33523537803\n",
      " angle: 50.422615509223334\n",
      "\n",
      "\n",
      "Running exec: lblrtm\n",
      "\n",
      "\n"
     ]
    },
    {
     "name": "stderr",
     "output_type": "stream",
     "text": [
      "Note: The following floating-point exceptions are signalling: IEEE_INVALID_FLAG IEEE_UNDERFLOW_FLAG IEEE_DENORMAL\n",
      "STOP  LBLRTM EXIT \n",
      "2.13user 0.84system 0:03.21elapsed 92%CPU (0avgtext+0avgdata 7684maxresident)k\n",
      "0inputs+0outputs (0major+1237minor)pagefaults 0swaps\n"
     ]
    },
    {
     "name": "stdout",
     "output_type": "stream",
     "text": [
      "\n",
      "Running exec: lblrtm\n",
      "\n",
      "\n"
     ]
    },
    {
     "name": "stderr",
     "output_type": "stream",
     "text": [
      "Note: The following floating-point exceptions are signalling: IEEE_INVALID_FLAG IEEE_UNDERFLOW_FLAG IEEE_DENORMAL\n",
      "STOP  LBLRTM EXIT \n",
      "0.90user 0.72system 0:01.72elapsed 94%CPU (0avgtext+0avgdata 7556maxresident)k\n",
      "0inputs+0outputs (0major+1233minor)pagefaults 0swaps\n"
     ]
    },
    {
     "name": "stdout",
     "output_type": "stream",
     "text": [
      "1143628\n",
      "humidity: 50.0\n",
      " pressure: 10000.0\n",
      " temperature: 300.0\n",
      " lat: 32.78000000000001\n",
      " elevation: 2.797999999999601\n",
      " freqmin(cm-1): 11098.779134295226\n",
      " freqmax(cm-1): 14265.33523537803\n",
      " angle: 66.89041188034572\n",
      "\n",
      "\n",
      "Running exec: lblrtm\n",
      "\n",
      "\n"
     ]
    },
    {
     "name": "stderr",
     "output_type": "stream",
     "text": [
      "Note: The following floating-point exceptions are signalling: IEEE_INVALID_FLAG IEEE_UNDERFLOW_FLAG IEEE_DENORMAL\n",
      "STOP  LBLRTM EXIT \n",
      "2.16user 0.81system 0:03.19elapsed 93%CPU (0avgtext+0avgdata 7720maxresident)k\n",
      "0inputs+0outputs (0major+1237minor)pagefaults 0swaps\n"
     ]
    },
    {
     "name": "stdout",
     "output_type": "stream",
     "text": [
      "\n",
      "Running exec: lblrtm\n",
      "\n",
      "\n"
     ]
    },
    {
     "name": "stderr",
     "output_type": "stream",
     "text": [
      "Note: The following floating-point exceptions are signalling: IEEE_INVALID_FLAG IEEE_UNDERFLOW_FLAG IEEE_DENORMAL\n",
      "STOP  LBLRTM EXIT \n",
      "0.89user 0.73system 0:01.72elapsed 94%CPU (0avgtext+0avgdata 7752maxresident)k\n",
      "0inputs+0outputs (0major+1237minor)pagefaults 0swaps\n"
     ]
    },
    {
     "name": "stdout",
     "output_type": "stream",
     "text": [
      "1143628\n",
      "humidity: 50.0\n",
      " pressure: 10000.0\n",
      " temperature: 300.0\n",
      " lat: 32.78000000000001\n",
      " elevation: 2.797999999999601\n",
      " freqmin(cm-1): 11098.779134295226\n",
      " freqmax(cm-1): 14265.33523537803\n",
      " angle: 65.6425420077903\n",
      "\n",
      "\n",
      "Running exec: lblrtm\n",
      "\n",
      "\n"
     ]
    },
    {
     "name": "stderr",
     "output_type": "stream",
     "text": [
      "Note: The following floating-point exceptions are signalling: IEEE_INVALID_FLAG IEEE_UNDERFLOW_FLAG IEEE_DENORMAL\n",
      "STOP  LBLRTM EXIT \n",
      "2.16user 0.83system 0:03.19elapsed 93%CPU (0avgtext+0avgdata 7780maxresident)k\n",
      "0inputs+0outputs (0major+1237minor)pagefaults 0swaps\n"
     ]
    },
    {
     "name": "stdout",
     "output_type": "stream",
     "text": [
      "\n",
      "Running exec: lblrtm\n",
      "\n",
      "\n"
     ]
    },
    {
     "name": "stderr",
     "output_type": "stream",
     "text": [
      "Note: The following floating-point exceptions are signalling: IEEE_INVALID_FLAG IEEE_UNDERFLOW_FLAG IEEE_DENORMAL\n",
      "STOP  LBLRTM EXIT \n",
      "0.92user 0.70system 0:01.72elapsed 94%CPU (0avgtext+0avgdata 7556maxresident)k\n",
      "0inputs+0outputs (0major+1233minor)pagefaults 0swaps\n"
     ]
    },
    {
     "name": "stdout",
     "output_type": "stream",
     "text": [
      "1143628\n",
      "humidity: 50.0\n",
      " pressure: 10000.0\n",
      " temperature: 300.0\n",
      " lat: 32.78000000000001\n",
      " elevation: 2.797999999999601\n",
      " freqmin(cm-1): 11098.779134295226\n",
      " freqmax(cm-1): 14265.33523537803\n",
      " angle: 4.244341434002005\n",
      "\n",
      "\n",
      "Running exec: lblrtm\n",
      "\n",
      "\n"
     ]
    },
    {
     "name": "stderr",
     "output_type": "stream",
     "text": [
      "Note: The following floating-point exceptions are signalling: IEEE_INVALID_FLAG IEEE_UNDERFLOW_FLAG IEEE_DENORMAL\n",
      "STOP  LBLRTM EXIT \n",
      "2.11user 0.84system 0:03.11elapsed 95%CPU (0avgtext+0avgdata 7816maxresident)k\n",
      "0inputs+0outputs (0major+1238minor)pagefaults 0swaps\n"
     ]
    },
    {
     "name": "stdout",
     "output_type": "stream",
     "text": [
      "\n",
      "Running exec: lblrtm\n",
      "\n",
      "\n"
     ]
    },
    {
     "name": "stderr",
     "output_type": "stream",
     "text": [
      "Note: The following floating-point exceptions are signalling: IEEE_INVALID_FLAG IEEE_UNDERFLOW_FLAG IEEE_DENORMAL\n",
      "STOP  LBLRTM EXIT \n",
      "0.89user 0.72system 0:01.71elapsed 94%CPU (0avgtext+0avgdata 7680maxresident)k\n",
      "0inputs+0outputs (0major+1236minor)pagefaults 0swaps\n"
     ]
    },
    {
     "name": "stdout",
     "output_type": "stream",
     "text": [
      "1143628\n",
      "humidity: 50.0\n",
      " pressure: 10000.0\n",
      " temperature: 300.0\n",
      " lat: 32.78000000000001\n",
      " elevation: 2.797999999999601\n",
      " freqmin(cm-1): 11098.779134295226\n",
      " freqmax(cm-1): 14265.33523537803\n",
      " angle: 25.73402125733466\n",
      "\n",
      "\n",
      "Running exec: lblrtm\n",
      "\n",
      "\n"
     ]
    },
    {
     "name": "stderr",
     "output_type": "stream",
     "text": [
      "Note: The following floating-point exceptions are signalling: IEEE_INVALID_FLAG IEEE_UNDERFLOW_FLAG IEEE_DENORMAL\n",
      "STOP  LBLRTM EXIT \n",
      "2.09user 0.83system 0:03.19elapsed 91%CPU (0avgtext+0avgdata 7792maxresident)k\n",
      "0inputs+0outputs (0major+1238minor)pagefaults 0swaps\n"
     ]
    },
    {
     "name": "stdout",
     "output_type": "stream",
     "text": [
      "\n",
      "Running exec: lblrtm\n",
      "\n",
      "\n"
     ]
    },
    {
     "name": "stderr",
     "output_type": "stream",
     "text": [
      "Note: The following floating-point exceptions are signalling: IEEE_INVALID_FLAG IEEE_UNDERFLOW_FLAG IEEE_DENORMAL\n",
      "STOP  LBLRTM EXIT \n",
      "0.89user 0.73system 0:01.70elapsed 94%CPU (0avgtext+0avgdata 7672maxresident)k\n",
      "0inputs+0outputs (0major+1233minor)pagefaults 0swaps\n"
     ]
    },
    {
     "name": "stdout",
     "output_type": "stream",
     "text": [
      "1143628\n",
      "humidity: 50.0\n",
      " pressure: 10000.0\n",
      " temperature: 300.0\n",
      " lat: 32.78000000000001\n",
      " elevation: 2.797999999999601\n",
      " freqmin(cm-1): 11098.779134295226\n",
      " freqmax(cm-1): 14265.33523537803\n",
      " angle: 41.82411679419448\n",
      "\n",
      "\n",
      "Running exec: lblrtm\n",
      "\n",
      "\n"
     ]
    },
    {
     "name": "stderr",
     "output_type": "stream",
     "text": [
      "Note: The following floating-point exceptions are signalling: IEEE_INVALID_FLAG IEEE_UNDERFLOW_FLAG IEEE_DENORMAL\n",
      "STOP  LBLRTM EXIT \n",
      "2.08user 0.89system 0:03.15elapsed 94%CPU (0avgtext+0avgdata 7688maxresident)k\n",
      "0inputs+0outputs (0major+1236minor)pagefaults 0swaps\n"
     ]
    },
    {
     "name": "stdout",
     "output_type": "stream",
     "text": [
      "\n",
      "Running exec: lblrtm\n",
      "\n",
      "\n"
     ]
    },
    {
     "name": "stderr",
     "output_type": "stream",
     "text": [
      "Note: The following floating-point exceptions are signalling: IEEE_INVALID_FLAG IEEE_UNDERFLOW_FLAG IEEE_DENORMAL\n",
      "STOP  LBLRTM EXIT \n",
      "0.89user 0.72system 0:01.70elapsed 95%CPU (0avgtext+0avgdata 7680maxresident)k\n",
      "0inputs+0outputs (0major+1237minor)pagefaults 0swaps\n"
     ]
    },
    {
     "name": "stdout",
     "output_type": "stream",
     "text": [
      "1143628\n",
      "humidity: 50.0\n",
      " pressure: 10000.0\n",
      " temperature: 300.0\n",
      " lat: 32.78000000000001\n",
      " elevation: 2.797999999999601\n",
      " freqmin(cm-1): 11098.779134295226\n",
      " freqmax(cm-1): 14265.33523537803\n",
      " angle: 19.147041951230698\n",
      "\n",
      "\n",
      "Running exec: lblrtm\n",
      "\n",
      "\n"
     ]
    },
    {
     "name": "stderr",
     "output_type": "stream",
     "text": [
      "Note: The following floating-point exceptions are signalling: IEEE_INVALID_FLAG IEEE_UNDERFLOW_FLAG IEEE_DENORMAL\n",
      "STOP  LBLRTM EXIT \n",
      "2.11user 0.82system 0:03.11elapsed 94%CPU (0avgtext+0avgdata 7684maxresident)k\n",
      "0inputs+0outputs (0major+1237minor)pagefaults 0swaps\n"
     ]
    },
    {
     "name": "stdout",
     "output_type": "stream",
     "text": [
      "\n",
      "Running exec: lblrtm\n",
      "\n",
      "\n"
     ]
    },
    {
     "name": "stderr",
     "output_type": "stream",
     "text": [
      "Note: The following floating-point exceptions are signalling: IEEE_INVALID_FLAG IEEE_UNDERFLOW_FLAG IEEE_DENORMAL\n",
      "STOP  LBLRTM EXIT \n",
      "0.89user 0.73system 0:01.72elapsed 94%CPU (0avgtext+0avgdata 7684maxresident)k\n",
      "0inputs+0outputs (0major+1237minor)pagefaults 0swaps\n"
     ]
    },
    {
     "name": "stdout",
     "output_type": "stream",
     "text": [
      "1143628\n",
      "humidity: 50.0\n",
      " pressure: 10000.0\n",
      " temperature: 300.0\n",
      " lat: 32.78000000000001\n",
      " elevation: 2.797999999999601\n",
      " freqmin(cm-1): 11098.779134295226\n",
      " freqmax(cm-1): 14265.33523537803\n",
      " angle: 38.23670948006227\n",
      "\n",
      "\n",
      "Running exec: lblrtm\n",
      "\n",
      "\n"
     ]
    },
    {
     "name": "stderr",
     "output_type": "stream",
     "text": [
      "Note: The following floating-point exceptions are signalling: IEEE_INVALID_FLAG IEEE_UNDERFLOW_FLAG IEEE_DENORMAL\n",
      "STOP  LBLRTM EXIT \n",
      "2.16user 0.77system 0:03.06elapsed 96%CPU (0avgtext+0avgdata 7636maxresident)k\n",
      "0inputs+0outputs (0major+1236minor)pagefaults 0swaps\n"
     ]
    },
    {
     "name": "stdout",
     "output_type": "stream",
     "text": [
      "\n",
      "Running exec: lblrtm\n",
      "\n",
      "\n"
     ]
    },
    {
     "name": "stderr",
     "output_type": "stream",
     "text": [
      "Note: The following floating-point exceptions are signalling: IEEE_INVALID_FLAG IEEE_UNDERFLOW_FLAG IEEE_DENORMAL\n",
      "STOP  LBLRTM EXIT \n",
      "0.88user 0.74system 0:01.72elapsed 93%CPU (0avgtext+0avgdata 7624maxresident)k\n",
      "0inputs+0outputs (0major+1233minor)pagefaults 0swaps\n"
     ]
    },
    {
     "name": "stdout",
     "output_type": "stream",
     "text": [
      "1143628\n",
      "humidity: 50.0\n",
      " pressure: 10000.0\n",
      " temperature: 300.0\n",
      " lat: 32.78000000000001\n",
      " elevation: 2.797999999999601\n",
      " freqmin(cm-1): 11098.779134295226\n",
      " freqmax(cm-1): 14265.33523537803\n",
      " angle: 47.73236591064268\n",
      "\n",
      "\n",
      "Running exec: lblrtm\n",
      "\n",
      "\n"
     ]
    },
    {
     "name": "stderr",
     "output_type": "stream",
     "text": [
      "Note: The following floating-point exceptions are signalling: IEEE_INVALID_FLAG IEEE_UNDERFLOW_FLAG IEEE_DENORMAL\n",
      "STOP  LBLRTM EXIT \n",
      "2.11user 0.86system 0:03.28elapsed 90%CPU (0avgtext+0avgdata 7720maxresident)k\n",
      "0inputs+0outputs (0major+1237minor)pagefaults 0swaps\n"
     ]
    },
    {
     "name": "stdout",
     "output_type": "stream",
     "text": [
      "\n",
      "Running exec: lblrtm\n",
      "\n",
      "\n"
     ]
    },
    {
     "name": "stderr",
     "output_type": "stream",
     "text": [
      "Note: The following floating-point exceptions are signalling: IEEE_INVALID_FLAG IEEE_UNDERFLOW_FLAG IEEE_DENORMAL\n",
      "STOP  LBLRTM EXIT \n",
      "0.91user 0.70system 0:01.69elapsed 95%CPU (0avgtext+0avgdata 7672maxresident)k\n",
      "0inputs+0outputs (0major+1233minor)pagefaults 0swaps\n"
     ]
    },
    {
     "name": "stdout",
     "output_type": "stream",
     "text": [
      "1143628\n",
      "humidity: 50.0\n",
      " pressure: 10000.0\n",
      " temperature: 300.0\n",
      " lat: 32.78000000000001\n",
      " elevation: 2.797999999999601\n",
      " freqmin(cm-1): 11098.779134295226\n",
      " freqmax(cm-1): 14265.33523537803\n",
      " angle: 42.79961082627774\n",
      "\n",
      "\n",
      "Running exec: lblrtm\n",
      "\n",
      "\n"
     ]
    },
    {
     "name": "stderr",
     "output_type": "stream",
     "text": [
      "Note: The following floating-point exceptions are signalling: IEEE_INVALID_FLAG IEEE_UNDERFLOW_FLAG IEEE_DENORMAL\n",
      "STOP  LBLRTM EXIT \n",
      "2.13user 0.81system 0:03.15elapsed 93%CPU (0avgtext+0avgdata 7556maxresident)k\n",
      "0inputs+0outputs (0major+1233minor)pagefaults 0swaps\n"
     ]
    },
    {
     "name": "stdout",
     "output_type": "stream",
     "text": [
      "\n",
      "Running exec: lblrtm\n",
      "\n",
      "\n"
     ]
    },
    {
     "name": "stderr",
     "output_type": "stream",
     "text": [
      "Note: The following floating-point exceptions are signalling: IEEE_INVALID_FLAG IEEE_UNDERFLOW_FLAG IEEE_DENORMAL\n",
      "STOP  LBLRTM EXIT \n",
      "0.89user 0.74system 0:01.71elapsed 95%CPU (0avgtext+0avgdata 7688maxresident)k\n",
      "0inputs+0outputs (0major+1236minor)pagefaults 0swaps\n"
     ]
    },
    {
     "name": "stdout",
     "output_type": "stream",
     "text": [
      "1143628\n",
      "humidity: 50.0\n",
      " pressure: 10000.0\n",
      " temperature: 300.0\n",
      " lat: 32.78000000000001\n",
      " elevation: 2.797999999999601\n",
      " freqmin(cm-1): 11098.779134295226\n",
      " freqmax(cm-1): 14265.33523537803\n",
      " angle: 44.62927519288961\n",
      "\n",
      "\n",
      "Running exec: lblrtm\n",
      "\n",
      "\n"
     ]
    },
    {
     "name": "stderr",
     "output_type": "stream",
     "text": [
      "Note: The following floating-point exceptions are signalling: IEEE_INVALID_FLAG IEEE_UNDERFLOW_FLAG IEEE_DENORMAL\n",
      "STOP  LBLRTM EXIT \n",
      "2.14user 0.83system 0:03.17elapsed 93%CPU (0avgtext+0avgdata 7720maxresident)k\n",
      "0inputs+0outputs (0major+1237minor)pagefaults 0swaps\n"
     ]
    },
    {
     "name": "stdout",
     "output_type": "stream",
     "text": [
      "\n",
      "Running exec: lblrtm\n",
      "\n",
      "\n"
     ]
    },
    {
     "name": "stderr",
     "output_type": "stream",
     "text": [
      "Note: The following floating-point exceptions are signalling: IEEE_INVALID_FLAG IEEE_UNDERFLOW_FLAG IEEE_DENORMAL\n",
      "STOP  LBLRTM EXIT \n",
      "0.90user 0.72system 0:01.72elapsed 94%CPU (0avgtext+0avgdata 7672maxresident)k\n",
      "0inputs+0outputs (0major+1233minor)pagefaults 0swaps\n"
     ]
    },
    {
     "name": "stdout",
     "output_type": "stream",
     "text": [
      "1143628\n",
      "humidity: 50.0\n",
      " pressure: 10000.0\n",
      " temperature: 300.0\n",
      " lat: 32.78000000000001\n",
      " elevation: 2.797999999999601\n",
      " freqmin(cm-1): 11098.779134295226\n",
      " freqmax(cm-1): 14265.33523537803\n",
      " angle: 31.567632273477905\n",
      "\n",
      "\n",
      "Running exec: lblrtm\n",
      "\n",
      "\n"
     ]
    },
    {
     "name": "stderr",
     "output_type": "stream",
     "text": [
      "Note: The following floating-point exceptions are signalling: IEEE_INVALID_FLAG IEEE_UNDERFLOW_FLAG IEEE_DENORMAL\n",
      "STOP  LBLRTM EXIT \n",
      "2.11user 0.84system 0:03.20elapsed 92%CPU (0avgtext+0avgdata 7676maxresident)k\n",
      "0inputs+0outputs (0major+1233minor)pagefaults 0swaps\n"
     ]
    },
    {
     "name": "stdout",
     "output_type": "stream",
     "text": [
      "\n",
      "Running exec: lblrtm\n",
      "\n",
      "\n"
     ]
    },
    {
     "name": "stderr",
     "output_type": "stream",
     "text": [
      "Note: The following floating-point exceptions are signalling: IEEE_INVALID_FLAG IEEE_UNDERFLOW_FLAG IEEE_DENORMAL\n",
      "STOP  LBLRTM EXIT \n",
      "0.89user 0.72system 0:01.71elapsed 94%CPU (0avgtext+0avgdata 7680maxresident)k\n",
      "0inputs+0outputs (0major+1237minor)pagefaults 0swaps\n"
     ]
    },
    {
     "name": "stdout",
     "output_type": "stream",
     "text": [
      "1143628\n",
      "humidity: 50.0\n",
      " pressure: 10000.0\n",
      " temperature: 300.0\n",
      " lat: 32.78000000000001\n",
      " elevation: 2.797999999999601\n",
      " freqmin(cm-1): 11098.779134295226\n",
      " freqmax(cm-1): 14265.33523537803\n",
      " angle: 44.219986042892295\n",
      "\n",
      "\n",
      "Running exec: lblrtm\n",
      "\n",
      "\n"
     ]
    },
    {
     "name": "stderr",
     "output_type": "stream",
     "text": [
      "Note: The following floating-point exceptions are signalling: IEEE_INVALID_FLAG IEEE_UNDERFLOW_FLAG IEEE_DENORMAL\n",
      "STOP  LBLRTM EXIT \n",
      "2.13user 0.86system 0:03.20elapsed 93%CPU (0avgtext+0avgdata 7748maxresident)k\n",
      "0inputs+0outputs (0major+1234minor)pagefaults 0swaps\n"
     ]
    },
    {
     "name": "stdout",
     "output_type": "stream",
     "text": [
      "\n",
      "Running exec: lblrtm\n",
      "\n",
      "\n"
     ]
    },
    {
     "name": "stderr",
     "output_type": "stream",
     "text": [
      "Note: The following floating-point exceptions are signalling: IEEE_INVALID_FLAG IEEE_UNDERFLOW_FLAG IEEE_DENORMAL\n",
      "STOP  LBLRTM EXIT \n",
      "0.89user 0.74system 0:01.71elapsed 95%CPU (0avgtext+0avgdata 7552maxresident)k\n",
      "0inputs+0outputs (0major+1233minor)pagefaults 0swaps\n"
     ]
    },
    {
     "name": "stdout",
     "output_type": "stream",
     "text": [
      "1143628\n",
      "humidity: 50.0\n",
      " pressure: 10000.0\n",
      " temperature: 300.0\n",
      " lat: 32.78000000000001\n",
      " elevation: 2.797999999999601\n",
      " freqmin(cm-1): 11098.779134295226\n",
      " freqmax(cm-1): 14265.33523537803\n",
      " angle: 55.209073951412215\n",
      "\n",
      "\n",
      "Running exec: lblrtm\n",
      "\n",
      "\n"
     ]
    },
    {
     "name": "stderr",
     "output_type": "stream",
     "text": [
      "Note: The following floating-point exceptions are signalling: IEEE_INVALID_FLAG IEEE_UNDERFLOW_FLAG IEEE_DENORMAL\n",
      "STOP  LBLRTM EXIT \n",
      "2.12user 0.76system 0:03.18elapsed 90%CPU (0avgtext+0avgdata 7708maxresident)k\n",
      "0inputs+0outputs (0major+1235minor)pagefaults 0swaps\n"
     ]
    },
    {
     "name": "stdout",
     "output_type": "stream",
     "text": [
      "\n",
      "Running exec: lblrtm\n",
      "\n",
      "\n"
     ]
    },
    {
     "name": "stderr",
     "output_type": "stream",
     "text": [
      "Note: The following floating-point exceptions are signalling: IEEE_INVALID_FLAG IEEE_UNDERFLOW_FLAG IEEE_DENORMAL\n",
      "STOP  LBLRTM EXIT \n",
      "0.91user 0.73system 0:01.75elapsed 94%CPU (0avgtext+0avgdata 7748maxresident)k\n",
      "0inputs+0outputs (0major+1235minor)pagefaults 0swaps\n"
     ]
    },
    {
     "name": "stdout",
     "output_type": "stream",
     "text": [
      "1127403\n",
      "humidity: 50.0\n",
      " pressure: 10000.0\n",
      " temperature: 300.0\n",
      " lat: 32.78000000000001\n",
      " elevation: 2.797999999999601\n",
      " freqmin(cm-1): 11098.779134295226\n",
      " freqmax(cm-1): 14265.33523537803\n",
      " angle: 16.046253531664348\n",
      "\n",
      "\n",
      "Running exec: lblrtm\n",
      "\n",
      "\n"
     ]
    },
    {
     "name": "stderr",
     "output_type": "stream",
     "text": [
      "Note: The following floating-point exceptions are signalling: IEEE_INVALID_FLAG IEEE_UNDERFLOW_FLAG IEEE_DENORMAL\n",
      "STOP  LBLRTM EXIT \n",
      "2.16user 0.77system 0:03.11elapsed 94%CPU (0avgtext+0avgdata 7732maxresident)k\n",
      "0inputs+0outputs (0major+1237minor)pagefaults 0swaps\n"
     ]
    },
    {
     "name": "stdout",
     "output_type": "stream",
     "text": [
      "\n",
      "Running exec: lblrtm\n",
      "\n",
      "\n"
     ]
    },
    {
     "name": "stderr",
     "output_type": "stream",
     "text": [
      "Note: The following floating-point exceptions are signalling: IEEE_INVALID_FLAG IEEE_UNDERFLOW_FLAG IEEE_DENORMAL\n",
      "STOP  LBLRTM EXIT \n",
      "0.93user 0.68system 0:01.71elapsed 94%CPU (0avgtext+0avgdata 7628maxresident)k\n",
      "0inputs+0outputs (0major+1236minor)pagefaults 0swaps\n"
     ]
    },
    {
     "name": "stdout",
     "output_type": "stream",
     "text": [
      "1143628\n",
      "humidity: 50.0\n",
      " pressure: 10000.0\n",
      " temperature: 300.0\n",
      " lat: 32.78000000000001\n",
      " elevation: 2.797999999999601\n",
      " freqmin(cm-1): 11098.779134295226\n",
      " freqmax(cm-1): 14265.33523537803\n",
      " angle: 70.36083125348077\n",
      "\n",
      "\n",
      "Running exec: lblrtm\n",
      "\n",
      "\n"
     ]
    },
    {
     "name": "stderr",
     "output_type": "stream",
     "text": [
      "Note: The following floating-point exceptions are signalling: IEEE_INVALID_FLAG IEEE_UNDERFLOW_FLAG IEEE_DENORMAL\n",
      "STOP  LBLRTM EXIT \n",
      "2.14user 0.86system 0:03.30elapsed 91%CPU (0avgtext+0avgdata 7720maxresident)k\n",
      "0inputs+0outputs (0major+1238minor)pagefaults 0swaps\n"
     ]
    },
    {
     "name": "stdout",
     "output_type": "stream",
     "text": [
      "\n",
      "Running exec: lblrtm\n",
      "\n",
      "\n"
     ]
    },
    {
     "name": "stderr",
     "output_type": "stream",
     "text": [
      "Note: The following floating-point exceptions are signalling: IEEE_INVALID_FLAG IEEE_UNDERFLOW_FLAG IEEE_DENORMAL\n",
      "STOP  LBLRTM EXIT \n",
      "0.89user 0.73system 0:01.78elapsed 91%CPU (0avgtext+0avgdata 7516maxresident)k\n",
      "0inputs+0outputs (0major+1233minor)pagefaults 0swaps\n"
     ]
    },
    {
     "name": "stdout",
     "output_type": "stream",
     "text": [
      "1143628\n",
      "humidity: 50.0\n",
      " pressure: 10000.0\n",
      " temperature: 300.0\n",
      " lat: 32.78000000000001\n",
      " elevation: 2.797999999999601\n",
      " freqmin(cm-1): 11098.779134295226\n",
      " freqmax(cm-1): 14265.33523537803\n",
      " angle: 5.621114858253093\n",
      "\n",
      "\n",
      "Running exec: lblrtm\n",
      "\n",
      "\n"
     ]
    },
    {
     "name": "stderr",
     "output_type": "stream",
     "text": [
      "Note: The following floating-point exceptions are signalling: IEEE_INVALID_FLAG IEEE_UNDERFLOW_FLAG IEEE_DENORMAL\n",
      "STOP  LBLRTM EXIT \n",
      "2.11user 0.82system 0:03.12elapsed 93%CPU (0avgtext+0avgdata 7672maxresident)k\n",
      "0inputs+0outputs (0major+1234minor)pagefaults 0swaps\n"
     ]
    },
    {
     "name": "stdout",
     "output_type": "stream",
     "text": [
      "\n",
      "Running exec: lblrtm\n",
      "\n",
      "\n"
     ]
    },
    {
     "name": "stderr",
     "output_type": "stream",
     "text": [
      "Note: The following floating-point exceptions are signalling: IEEE_INVALID_FLAG IEEE_UNDERFLOW_FLAG IEEE_DENORMAL\n",
      "STOP  LBLRTM EXIT \n",
      "0.90user 0.70system 0:01.69elapsed 95%CPU (0avgtext+0avgdata 7728maxresident)k\n",
      "0inputs+0outputs (0major+1235minor)pagefaults 0swaps\n"
     ]
    },
    {
     "name": "stdout",
     "output_type": "stream",
     "text": [
      "1143628\n",
      "<simulacra.tellurics.TelFitModel object at 0x145c0d5fc9b0> [1.6178939077349241e-06, 2.1907587743896784e-07, 2.1907587743896784e-07, 2.1907587743896784e-07, 2.1907587743896784e-07, 2.2146180711501984e-07, 2.2147022882279543e-07, 2.1907587743896784e-07, 2.1907587743896784e-07, 2.1907587743896784e-07, 2.2717149938955572e-07, 2.1907587743896784e-07, 2.1907587743896784e-07, 2.1907587743896784e-07, 2.1907587743896784e-07, 2.1907587743896784e-07, 2.1907587743896784e-07, 2.1907587743896784e-07, 2.1907587743896784e-07, 2.1907587743896784e-07, 2.1907587743896784e-07, 2.1907587743896784e-07, 2.1907587743896784e-07, 2.1907587743896784e-07, 2.1907587743896784e-07, 2.1907587743896784e-07, 2.1907587743896784e-07, 2.1996264365498064e-07, 2.1907587743896784e-07, 2.1907587743896784e-07, 2.1907587743896784e-07]\n",
      "interpolating spline...\n",
      "0\n",
      "1\n",
      "2\n",
      "3\n",
      "4\n",
      "5\n",
      "6\n",
      "7\n",
      "8\n",
      "9\n",
      "10\n",
      "11\n",
      "12\n",
      "13\n",
      "14\n",
      "15\n",
      "16\n",
      "17\n",
      "18\n",
      "19\n",
      "20\n",
      "21\n",
      "22\n",
      "23\n",
      "24\n",
      "25\n",
      "26\n",
      "27\n",
      "28\n",
      "29\n",
      "combining grids...\n",
      "convolving...\n",
      "0\n",
      "1\n",
      "2\n",
      "3\n",
      "4\n",
      "5\n",
      "6\n",
      "7\n",
      "8\n",
      "9\n",
      "10\n",
      "11\n",
      "12\n",
      "13\n",
      "14\n",
      "15\n",
      "16\n",
      "17\n",
      "18\n",
      "19\n",
      "20\n",
      "21\n",
      "22\n",
      "23\n",
      "24\n",
      "25\n",
      "26\n",
      "27\n",
      "28\n",
      "29\n",
      "xs: 7005.007110494636 9004.98956196525\n",
      "xhat: 7010.007110494628 8999.990639003297\n",
      "interpolating lanczos...\n",
      "0\n",
      "1\n",
      "2\n",
      "3\n",
      "4\n",
      "5\n",
      "6\n",
      "7\n",
      "8\n",
      "9\n",
      "10\n",
      "11\n",
      "12\n",
      "13\n",
      "14\n",
      "15\n",
      "16\n",
      "17\n",
      "18\n",
      "19\n",
      "20\n",
      "21\n",
      "22\n",
      "23\n",
      "24\n",
      "25\n",
      "26\n",
      "27\n",
      "28\n",
      "29\n",
      "area: 14.522012041218817 m2\t avg d lambda: 0.05688267575202005 Angstrom\t avg lambda: 7963.6042297997865 Angstrom\t avg exp times: 8.0 min\n",
      "0 n mean: 3.75e+02\t n median: 4.53e+02\n",
      "1 n mean: 4.25e+02\t n median: 4.63e+02\n",
      "2 n mean: 3.95e+02\t n median: 4.49e+02\n",
      "3 n mean: 4.25e+02\t n median: 4.63e+02\n",
      "4 n mean: 4.05e+02\t n median: 4.54e+02\n",
      "5 n mean: 3.78e+02\t n median: 4.33e+02\n",
      "6 n mean: 4.28e+02\t n median: 4.64e+02\n",
      "7 n mean: 4.31e+02\t n median: 4.65e+02\n",
      "8 n mean: 4.31e+02\t n median: 4.65e+02\n",
      "9 n mean: 4.25e+02\t n median: 4.63e+02\n",
      "10 n mean: 4.28e+02\t n median: 4.64e+02\n",
      "11 n mean: 4.27e+02\t n median: 4.63e+02\n",
      "12 n mean: 4.31e+02\t n median: 4.65e+02\n",
      "13 n mean: 4.19e+02\t n median: 4.60e+02\n",
      "14 n mean: 4.01e+02\t n median: 4.52e+02\n",
      "15 n mean: 4.05e+02\t n median: 4.55e+02\n",
      "16 n mean: 4.31e+02\t n median: 4.65e+02\n",
      "17 n mean: 4.28e+02\t n median: 4.64e+02\n",
      "18 n mean: 4.23e+02\t n median: 4.62e+02\n",
      "19 n mean: 4.30e+02\t n median: 4.64e+02\n",
      "20 n mean: 4.25e+02\t n median: 4.63e+02\n",
      "21 n mean: 4.20e+02\t n median: 4.61e+02\n",
      "22 n mean: 4.23e+02\t n median: 4.62e+02\n",
      "23 n mean: 4.22e+02\t n median: 4.62e+02\n",
      "24 n mean: 4.27e+02\t n median: 4.63e+02\n",
      "25 n mean: 4.22e+02\t n median: 4.62e+02\n",
      "26 n mean: 3.75e+02\t n median: 4.63e+02\n",
      "27 n mean: 4.30e+02\t n median: 4.65e+02\n",
      "28 n mean: 3.92e+02\t n median: 4.48e+02\n",
      "29 n mean: 4.31e+02\t n median: 4.65e+02\n",
      "generating true signal to noise ratios...\n",
      "adding noise...\n",
      "generating exp signal to noise ratios...\n"
     ]
    },
    {
     "name": "stderr",
     "output_type": "stream",
     "text": [
      "../simulacra/detector.py:529: RuntimeWarning: invalid value encountered in add_noise_v\n",
      "  n_readout = add_noise_v(n_exp.flatten().value,snr_grid.flatten()).reshape(out_shape)\n"
     ]
    },
    {
     "name": "stdout",
     "output_type": "stream",
     "text": [
      "generating errors...\n",
      "done.\n",
      "/scratch/mdd423/simulacra/out/2021-11-02/data_e30_R70000.0_a2000.0_p40.3_l7.0e+039.0e+03_ep1.0_w0.0_snr1.4e+01_tp3e-07\n",
      "saving time\n",
      "quantity\n",
      "epoches  saving as string\n",
      "quantity\n",
      "quantity\n",
      "quantity\n",
      "quantity\n",
      "quantity\n"
     ]
    },
    {
     "name": "stderr",
     "output_type": "stream",
     "text": [
      "../simulacra/detector.py:541: RuntimeWarning: invalid value encountered in generate_errors_v\n",
      "  nerr_out = generate_errors_v(n_readout.flatten(),snr_readout.flatten()).reshape(out_shape)\n"
     ]
    },
    {
     "name": "stdout",
     "output_type": "stream",
     "text": [
      "quantity\n",
      "quantity\n",
      "flux  saving as string\n",
      "wave  saving as string\n",
      "quantity\n",
      "quantity\n",
      "quantity\n",
      "alpha  saving as string\n",
      "quantity\n",
      "quantity\n",
      "fluxname  saving as string\n",
      "generate_spectra  saving as string\n",
      "quantity\n",
      "quantity\n",
      "logg  saving as string\n",
      "outdir  saving as string\n",
      "quantity\n",
      "plot  saving as string\n",
      "plot_interpolated  saving as string\n",
      "quantity\n",
      "quantity\n",
      "saving target...340.28129510273834 deg 28.43612929851907 deg\n",
      "temperature  saving as string\n",
      "quantity\n",
      "quantity\n",
      "wavename  saving as string\n",
      "quantity\n",
      "z  saving as string\n",
      "quantity\n",
      "quantity\n",
      "quantity\n",
      "quantity\n",
      "a  saving as string\n",
      "add_model  saving as string\n",
      "quantity\n",
      "checkmax  saving as string\n",
      "checkmin  saving as string\n",
      "quantity\n",
      "epsilon  saving as string\n",
      "gamma  saving as string\n",
      "quantity\n",
      "quantity\n",
      "quantity\n",
      "lsf_centering  saving as string\n",
      "lsf_const_coeffs  saving as string\n",
      "resolution  saving as string\n",
      "sigma  saving as string\n",
      "sigma_range  saving as string\n",
      "simulate  saving as string\n",
      "stellar_model  saving as string\n",
      "through_put  saving as string\n",
      "transmission_cutoff  saving as string\n",
      "transmission_models  saving as string\n",
      "w  saving as string\n",
      "quantity\n",
      "quantity\n",
      "quantity\n",
      "_epoches  saving as string\n",
      "quantity\n",
      "quantity\n",
      "_name  saving as string\n",
      "quantity\n",
      "quantity\n",
      "check_property  saving as string\n",
      "check_shape_type  saving as string\n",
      "epoches  saving as string\n",
      "generate_transmission  saving as string\n",
      "quantity\n",
      "quantity\n",
      "quantity\n",
      "plot  saving as string\n",
      "plot_interpolated  saving as string\n",
      "quantity\n",
      "quantity\n",
      "quantity\n",
      "nan nan\n",
      "using saved wave file\n",
      "../data/stellar/PHOENIX/lte04800-1.00-1.0.Alpha=+0.40.PHOENIX-ACES-AGSS-COND-2011-HiRes.fits\n",
      "using saved flux file\n",
      "reading in ../data/stellar/PHOENIX/WAVE_PHOENIX-ACES-AGSS-COND-2011.fits\n",
      "wave_grid min -> 701.0 nm\n",
      "surface flux: mean 1.31e+14 erg / (cm3 s)\t median 1.14e+14 erg / (cm3 s)\n",
      "obs     flux: mean 6.05e-03 erg / (cm3 s)\t median 5.25e-03 erg / (cm3 s)\n",
      "generating spectra...\n",
      "humidity: 50.0\n",
      " pressure: 10000.0\n",
      " temperature: 300.0\n",
      " lat: 32.78000000000001\n",
      " elevation: 2.797999999999601\n",
      " freqmin(cm-1): 11098.779134295226\n",
      " freqmax(cm-1): 14265.33523537803\n",
      " angle: 62.8613757400191\n",
      "\n",
      "\n",
      "Running exec: lblrtm\n",
      "\n",
      "\n"
     ]
    },
    {
     "name": "stderr",
     "output_type": "stream",
     "text": [
      "Note: The following floating-point exceptions are signalling: IEEE_INVALID_FLAG IEEE_UNDERFLOW_FLAG IEEE_DENORMAL\n",
      "STOP  LBLRTM EXIT \n",
      "2.15user 1.11system 0:03.59elapsed 91%CPU (0avgtext+0avgdata 7672maxresident)k\n",
      "0inputs+0outputs (0major+1234minor)pagefaults 0swaps\n"
     ]
    },
    {
     "name": "stdout",
     "output_type": "stream",
     "text": [
      "\n",
      "Running exec: lblrtm\n",
      "\n",
      "\n"
     ]
    },
    {
     "name": "stderr",
     "output_type": "stream",
     "text": [
      "Note: The following floating-point exceptions are signalling: IEEE_INVALID_FLAG IEEE_UNDERFLOW_FLAG IEEE_DENORMAL\n",
      "STOP  LBLRTM EXIT \n",
      "0.91user 0.99system 0:01.99elapsed 96%CPU (0avgtext+0avgdata 7668maxresident)k\n",
      "0inputs+0outputs (0major+1233minor)pagefaults 0swaps\n"
     ]
    },
    {
     "name": "stdout",
     "output_type": "stream",
     "text": [
      "1143628\n",
      "humidity: 50.0\n",
      " pressure: 10000.0\n",
      " temperature: 300.0\n",
      " lat: 32.78000000000001\n",
      " elevation: 2.797999999999601\n",
      " freqmin(cm-1): 11098.779134295226\n",
      " freqmax(cm-1): 14265.33523537803\n",
      " angle: 36.420938571519066\n",
      "\n",
      "\n",
      "Running exec: lblrtm\n",
      "\n",
      "\n"
     ]
    },
    {
     "name": "stderr",
     "output_type": "stream",
     "text": [
      "Note: The following floating-point exceptions are signalling: IEEE_INVALID_FLAG IEEE_UNDERFLOW_FLAG IEEE_DENORMAL\n",
      "STOP  LBLRTM EXIT \n",
      "2.16user 1.09system 0:03.44elapsed 94%CPU (0avgtext+0avgdata 7792maxresident)k\n",
      "0inputs+0outputs (0major+1237minor)pagefaults 0swaps\n"
     ]
    },
    {
     "name": "stdout",
     "output_type": "stream",
     "text": [
      "\n",
      "Running exec: lblrtm\n",
      "\n",
      "\n"
     ]
    },
    {
     "name": "stderr",
     "output_type": "stream",
     "text": [
      "Note: The following floating-point exceptions are signalling: IEEE_INVALID_FLAG IEEE_UNDERFLOW_FLAG IEEE_DENORMAL\n",
      "STOP  LBLRTM EXIT \n",
      "0.93user 0.97system 0:02.03elapsed 93%CPU (0avgtext+0avgdata 7556maxresident)k\n",
      "0inputs+0outputs (0major+1234minor)pagefaults 0swaps\n"
     ]
    },
    {
     "name": "stdout",
     "output_type": "stream",
     "text": [
      "1143628\n",
      "humidity: 50.0\n",
      " pressure: 10000.0\n",
      " temperature: 300.0\n",
      " lat: 32.78000000000001\n",
      " elevation: 2.797999999999601\n",
      " freqmin(cm-1): 11098.779134295226\n",
      " freqmax(cm-1): 14265.33523537803\n",
      " angle: 70.23515457427514\n",
      "\n",
      "\n",
      "Running exec: lblrtm\n",
      "\n",
      "\n"
     ]
    },
    {
     "name": "stderr",
     "output_type": "stream",
     "text": [
      "Note: The following floating-point exceptions are signalling: IEEE_INVALID_FLAG IEEE_UNDERFLOW_FLAG IEEE_DENORMAL\n",
      "STOP  LBLRTM EXIT \n",
      "2.16user 1.12system 0:03.45elapsed 95%CPU (0avgtext+0avgdata 7572maxresident)k\n",
      "0inputs+0outputs (0major+1234minor)pagefaults 0swaps\n"
     ]
    },
    {
     "name": "stdout",
     "output_type": "stream",
     "text": [
      "\n",
      "Running exec: lblrtm\n",
      "\n",
      "\n"
     ]
    },
    {
     "name": "stderr",
     "output_type": "stream",
     "text": [
      "Note: The following floating-point exceptions are signalling: IEEE_INVALID_FLAG IEEE_UNDERFLOW_FLAG IEEE_DENORMAL\n",
      "STOP  LBLRTM EXIT \n",
      "0.93user 0.98system 0:02.17elapsed 88%CPU (0avgtext+0avgdata 7744maxresident)k\n",
      "0inputs+0outputs (0major+1233minor)pagefaults 0swaps\n"
     ]
    },
    {
     "name": "stdout",
     "output_type": "stream",
     "text": [
      "1143628\n",
      "humidity: 50.0\n",
      " pressure: 10000.0\n",
      " temperature: 300.0\n",
      " lat: 32.78000000000001\n",
      " elevation: 2.797999999999601\n",
      " freqmin(cm-1): 11098.779134295226\n",
      " freqmax(cm-1): 14265.33523537803\n",
      " angle: 37.41097711185363\n",
      "\n",
      "\n",
      "Running exec: lblrtm\n",
      "\n",
      "\n"
     ]
    },
    {
     "name": "stderr",
     "output_type": "stream",
     "text": [
      "Note: The following floating-point exceptions are signalling: IEEE_INVALID_FLAG IEEE_UNDERFLOW_FLAG IEEE_DENORMAL\n",
      "STOP  LBLRTM EXIT \n",
      "2.14user 1.11system 0:03.39elapsed 96%CPU (0avgtext+0avgdata 7720maxresident)k\n",
      "0inputs+0outputs (0major+1237minor)pagefaults 0swaps\n"
     ]
    },
    {
     "name": "stdout",
     "output_type": "stream",
     "text": [
      "\n",
      "Running exec: lblrtm\n",
      "\n",
      "\n"
     ]
    },
    {
     "name": "stderr",
     "output_type": "stream",
     "text": [
      "Note: The following floating-point exceptions are signalling: IEEE_INVALID_FLAG IEEE_UNDERFLOW_FLAG IEEE_DENORMAL\n",
      "STOP  LBLRTM EXIT \n",
      "0.89user 1.01system 0:02.00elapsed 94%CPU (0avgtext+0avgdata 7660maxresident)k\n",
      "0inputs+0outputs (0major+1238minor)pagefaults 0swaps\n"
     ]
    },
    {
     "name": "stdout",
     "output_type": "stream",
     "text": [
      "1143628\n",
      "humidity: 50.0\n",
      " pressure: 10000.0\n",
      " temperature: 300.0\n",
      " lat: 32.78000000000001\n",
      " elevation: 2.797999999999601\n",
      " freqmin(cm-1): 11098.779134295226\n",
      " freqmax(cm-1): 14265.33523537803\n",
      " angle: 65.09115788813192\n",
      "\n",
      "\n",
      "Running exec: lblrtm\n",
      "\n",
      "\n"
     ]
    },
    {
     "name": "stderr",
     "output_type": "stream",
     "text": [
      "Note: The following floating-point exceptions are signalling: IEEE_INVALID_FLAG IEEE_UNDERFLOW_FLAG IEEE_DENORMAL\n",
      "STOP  LBLRTM EXIT \n",
      "2.13user 1.10system 0:03.59elapsed 90%CPU (0avgtext+0avgdata 7684maxresident)k\n",
      "0inputs+0outputs (0major+1235minor)pagefaults 0swaps\n"
     ]
    },
    {
     "name": "stdout",
     "output_type": "stream",
     "text": [
      "\n",
      "Running exec: lblrtm\n",
      "\n",
      "\n"
     ]
    },
    {
     "name": "stderr",
     "output_type": "stream",
     "text": [
      "Note: The following floating-point exceptions are signalling: IEEE_INVALID_FLAG IEEE_UNDERFLOW_FLAG IEEE_DENORMAL\n",
      "STOP  LBLRTM EXIT \n",
      "0.89user 1.01system 0:01.98elapsed 96%CPU (0avgtext+0avgdata 7720maxresident)k\n",
      "0inputs+0outputs (0major+1237minor)pagefaults 0swaps\n"
     ]
    },
    {
     "name": "stdout",
     "output_type": "stream",
     "text": [
      "1127370\n",
      "humidity: 50.0\n",
      " pressure: 10000.0\n",
      " temperature: 300.0\n",
      " lat: 32.78000000000001\n",
      " elevation: 2.797999999999601\n",
      " freqmin(cm-1): 11098.779134295226\n",
      " freqmax(cm-1): 14265.33523537803\n",
      " angle: 59.94944845829285\n",
      "\n",
      "\n",
      "Running exec: lblrtm\n",
      "\n",
      "\n"
     ]
    },
    {
     "name": "stderr",
     "output_type": "stream",
     "text": [
      "Note: The following floating-point exceptions are signalling: IEEE_INVALID_FLAG IEEE_UNDERFLOW_FLAG IEEE_DENORMAL\n",
      "STOP  LBLRTM EXIT \n",
      "2.10user 1.11system 0:03.45elapsed 92%CPU (0avgtext+0avgdata 7560maxresident)k\n",
      "0inputs+0outputs (0major+1234minor)pagefaults 0swaps\n"
     ]
    },
    {
     "name": "stdout",
     "output_type": "stream",
     "text": [
      "\n",
      "Running exec: lblrtm\n",
      "\n",
      "\n"
     ]
    },
    {
     "name": "stderr",
     "output_type": "stream",
     "text": [
      "Note: The following floating-point exceptions are signalling: IEEE_INVALID_FLAG IEEE_UNDERFLOW_FLAG IEEE_DENORMAL\n",
      "STOP  LBLRTM EXIT \n",
      "0.95user 0.98system 0:02.08elapsed 93%CPU (0avgtext+0avgdata 7556maxresident)k\n",
      "0inputs+0outputs (0major+1233minor)pagefaults 0swaps\n"
     ]
    },
    {
     "name": "stdout",
     "output_type": "stream",
     "text": [
      "1124676\n",
      "humidity: 50.0\n",
      " pressure: 10000.0\n",
      " temperature: 300.0\n",
      " lat: 32.78000000000001\n",
      " elevation: 2.797999999999601\n",
      " freqmin(cm-1): 11098.779134295226\n",
      " freqmax(cm-1): 14265.33523537803\n",
      " angle: 27.811520651072378\n",
      "\n",
      "\n",
      "Running exec: lblrtm\n",
      "\n",
      "\n"
     ]
    },
    {
     "name": "stderr",
     "output_type": "stream",
     "text": [
      "Note: The following floating-point exceptions are signalling: IEEE_INVALID_FLAG IEEE_UNDERFLOW_FLAG IEEE_DENORMAL\n",
      "STOP  LBLRTM EXIT \n",
      "2.17user 1.07system 0:03.46elapsed 93%CPU (0avgtext+0avgdata 7672maxresident)k\n",
      "0inputs+0outputs (0major+1234minor)pagefaults 0swaps\n"
     ]
    },
    {
     "name": "stdout",
     "output_type": "stream",
     "text": [
      "\n",
      "Running exec: lblrtm\n",
      "\n",
      "\n"
     ]
    },
    {
     "name": "stderr",
     "output_type": "stream",
     "text": [
      "Note: The following floating-point exceptions are signalling: IEEE_INVALID_FLAG IEEE_UNDERFLOW_FLAG IEEE_DENORMAL\n",
      "STOP  LBLRTM EXIT \n",
      "0.91user 0.99system 0:02.00elapsed 95%CPU (0avgtext+0avgdata 7672maxresident)k\n",
      "0inputs+0outputs (0major+1233minor)pagefaults 0swaps\n"
     ]
    },
    {
     "name": "stdout",
     "output_type": "stream",
     "text": [
      "1143628\n",
      "humidity: 50.0\n",
      " pressure: 10000.0\n",
      " temperature: 300.0\n",
      " lat: 32.78000000000001\n",
      " elevation: 2.797999999999601\n",
      " freqmin(cm-1): 11098.779134295226\n",
      " freqmax(cm-1): 14265.33523537803\n",
      " angle: 4.6273790635876395\n",
      "\n",
      "\n",
      "Running exec: lblrtm\n",
      "\n",
      "\n"
     ]
    },
    {
     "name": "stderr",
     "output_type": "stream",
     "text": [
      "Note: The following floating-point exceptions are signalling: IEEE_INVALID_FLAG IEEE_UNDERFLOW_FLAG IEEE_DENORMAL\n",
      "STOP  LBLRTM EXIT \n",
      "2.13user 1.10system 0:03.38elapsed 95%CPU (0avgtext+0avgdata 7672maxresident)k\n",
      "0inputs+0outputs (0major+1234minor)pagefaults 0swaps\n"
     ]
    },
    {
     "name": "stdout",
     "output_type": "stream",
     "text": [
      "\n",
      "Running exec: lblrtm\n",
      "\n",
      "\n"
     ]
    },
    {
     "name": "stderr",
     "output_type": "stream",
     "text": [
      "Note: The following floating-point exceptions are signalling: IEEE_INVALID_FLAG IEEE_UNDERFLOW_FLAG IEEE_DENORMAL\n",
      "STOP  LBLRTM EXIT \n",
      "0.89user 1.01system 0:02.05elapsed 92%CPU (0avgtext+0avgdata 7748maxresident)k\n",
      "0inputs+0outputs (0major+1234minor)pagefaults 0swaps\n"
     ]
    },
    {
     "name": "stdout",
     "output_type": "stream",
     "text": [
      "1143628\n",
      "humidity: 50.0\n",
      " pressure: 10000.0\n",
      " temperature: 300.0\n",
      " lat: 32.78000000000001\n",
      " elevation: 2.797999999999601\n",
      " freqmin(cm-1): 11098.779134295226\n",
      " freqmax(cm-1): 14265.33523537803\n",
      " angle: 11.404396925323324\n",
      "\n",
      "\n",
      "Running exec: lblrtm\n",
      "\n",
      "\n"
     ]
    },
    {
     "name": "stderr",
     "output_type": "stream",
     "text": [
      "Note: The following floating-point exceptions are signalling: IEEE_INVALID_FLAG IEEE_UNDERFLOW_FLAG IEEE_DENORMAL\n",
      "STOP  LBLRTM EXIT \n",
      "2.12user 1.12system 0:03.42elapsed 95%CPU (0avgtext+0avgdata 7556maxresident)k\n",
      "0inputs+0outputs (0major+1233minor)pagefaults 0swaps\n"
     ]
    },
    {
     "name": "stdout",
     "output_type": "stream",
     "text": [
      "\n",
      "Running exec: lblrtm\n",
      "\n",
      "\n"
     ]
    },
    {
     "name": "stderr",
     "output_type": "stream",
     "text": [
      "Note: The following floating-point exceptions are signalling: IEEE_INVALID_FLAG IEEE_UNDERFLOW_FLAG IEEE_DENORMAL\n",
      "STOP  LBLRTM EXIT \n",
      "0.90user 0.98system 0:02.01elapsed 94%CPU (0avgtext+0avgdata 7636maxresident)k\n",
      "0inputs+0outputs (0major+1235minor)pagefaults 0swaps\n"
     ]
    },
    {
     "name": "stdout",
     "output_type": "stream",
     "text": [
      "1143628\n",
      "humidity: 50.0\n",
      " pressure: 10000.0\n",
      " temperature: 300.0\n",
      " lat: 32.78000000000001\n",
      " elevation: 2.797999999999601\n",
      " freqmin(cm-1): 11098.779134295226\n",
      " freqmax(cm-1): 14265.33523537803\n",
      " angle: 54.85857323188904\n",
      "\n",
      "\n",
      "Running exec: lblrtm\n",
      "\n",
      "\n"
     ]
    },
    {
     "name": "stderr",
     "output_type": "stream",
     "text": [
      "Note: The following floating-point exceptions are signalling: IEEE_INVALID_FLAG IEEE_UNDERFLOW_FLAG IEEE_DENORMAL\n",
      "STOP  LBLRTM EXIT \n",
      "2.14user 1.09system 0:03.53elapsed 91%CPU (0avgtext+0avgdata 7748maxresident)k\n",
      "0inputs+0outputs (0major+1237minor)pagefaults 0swaps\n"
     ]
    },
    {
     "name": "stdout",
     "output_type": "stream",
     "text": [
      "\n",
      "Running exec: lblrtm\n",
      "\n",
      "\n"
     ]
    },
    {
     "name": "stderr",
     "output_type": "stream",
     "text": [
      "Note: The following floating-point exceptions are signalling: IEEE_INVALID_FLAG IEEE_UNDERFLOW_FLAG IEEE_DENORMAL\n",
      "STOP  LBLRTM EXIT \n",
      "0.90user 0.99system 0:01.97elapsed 96%CPU (0avgtext+0avgdata 7684maxresident)k\n",
      "0inputs+0outputs (0major+1237minor)pagefaults 0swaps\n"
     ]
    },
    {
     "name": "stdout",
     "output_type": "stream",
     "text": [
      "1111626\n",
      "humidity: 50.0\n",
      " pressure: 10000.0\n",
      " temperature: 300.0\n",
      " lat: 32.78000000000001\n",
      " elevation: 2.797999999999601\n",
      " freqmin(cm-1): 11098.779134295226\n",
      " freqmax(cm-1): 14265.33523537803\n",
      " angle: 27.82399986133828\n",
      "\n",
      "\n",
      "Running exec: lblrtm\n",
      "\n",
      "\n"
     ]
    },
    {
     "name": "stderr",
     "output_type": "stream",
     "text": [
      "Note: The following floating-point exceptions are signalling: IEEE_INVALID_FLAG IEEE_UNDERFLOW_FLAG IEEE_DENORMAL\n",
      "STOP  LBLRTM EXIT \n",
      "2.14user 1.09system 0:03.42elapsed 94%CPU (0avgtext+0avgdata 7560maxresident)k\n",
      "0inputs+0outputs (0major+1232minor)pagefaults 0swaps\n"
     ]
    },
    {
     "name": "stdout",
     "output_type": "stream",
     "text": [
      "\n",
      "Running exec: lblrtm\n",
      "\n",
      "\n"
     ]
    },
    {
     "name": "stderr",
     "output_type": "stream",
     "text": [
      "Note: The following floating-point exceptions are signalling: IEEE_INVALID_FLAG IEEE_UNDERFLOW_FLAG IEEE_DENORMAL\n",
      "STOP  LBLRTM EXIT \n",
      "0.91user 0.98system 0:01.97elapsed 96%CPU (0avgtext+0avgdata 7544maxresident)k\n",
      "0inputs+0outputs (0major+1234minor)pagefaults 0swaps\n"
     ]
    },
    {
     "name": "stdout",
     "output_type": "stream",
     "text": [
      "1143628\n",
      "humidity: 50.0\n",
      " pressure: 10000.0\n",
      " temperature: 300.0\n",
      " lat: 32.78000000000001\n",
      " elevation: 2.797999999999601\n",
      " freqmin(cm-1): 11098.779134295226\n",
      " freqmax(cm-1): 14265.33523537803\n",
      " angle: 32.81380139483823\n",
      "\n",
      "\n",
      "Running exec: lblrtm\n",
      "\n",
      "\n"
     ]
    },
    {
     "name": "stderr",
     "output_type": "stream",
     "text": [
      "Note: The following floating-point exceptions are signalling: IEEE_INVALID_FLAG IEEE_UNDERFLOW_FLAG IEEE_DENORMAL\n",
      "STOP  LBLRTM EXIT \n",
      "2.14user 1.10system 0:03.47elapsed 93%CPU (0avgtext+0avgdata 7564maxresident)k\n",
      "0inputs+0outputs (0major+1232minor)pagefaults 0swaps\n"
     ]
    },
    {
     "name": "stdout",
     "output_type": "stream",
     "text": [
      "\n",
      "Running exec: lblrtm\n",
      "\n",
      "\n"
     ]
    },
    {
     "name": "stderr",
     "output_type": "stream",
     "text": [
      "Note: The following floating-point exceptions are signalling: IEEE_INVALID_FLAG IEEE_UNDERFLOW_FLAG IEEE_DENORMAL\n",
      "STOP  LBLRTM EXIT \n",
      "0.92user 0.97system 0:02.02elapsed 94%CPU (0avgtext+0avgdata 7748maxresident)k\n",
      "0inputs+0outputs (0major+1235minor)pagefaults 0swaps\n"
     ]
    },
    {
     "name": "stdout",
     "output_type": "stream",
     "text": [
      "1143628\n",
      "humidity: 50.0\n",
      " pressure: 10000.0\n",
      " temperature: 300.0\n",
      " lat: 32.78000000000001\n",
      " elevation: 2.797999999999601\n",
      " freqmin(cm-1): 11098.779134295226\n",
      " freqmax(cm-1): 14265.33523537803\n",
      " angle: 5.685228205863384\n",
      "\n",
      "\n",
      "Running exec: lblrtm\n",
      "\n",
      "\n"
     ]
    },
    {
     "name": "stderr",
     "output_type": "stream",
     "text": [
      "Note: The following floating-point exceptions are signalling: IEEE_INVALID_FLAG IEEE_UNDERFLOW_FLAG IEEE_DENORMAL\n",
      "STOP  LBLRTM EXIT \n",
      "2.13user 1.11system 0:03.44elapsed 94%CPU (0avgtext+0avgdata 7720maxresident)k\n",
      "0inputs+0outputs (0major+1234minor)pagefaults 0swaps\n"
     ]
    },
    {
     "name": "stdout",
     "output_type": "stream",
     "text": [
      "\n",
      "Running exec: lblrtm\n",
      "\n",
      "\n"
     ]
    },
    {
     "name": "stderr",
     "output_type": "stream",
     "text": [
      "Note: The following floating-point exceptions are signalling: IEEE_INVALID_FLAG IEEE_UNDERFLOW_FLAG IEEE_DENORMAL\n",
      "STOP  LBLRTM EXIT \n",
      "0.93user 0.97system 0:02.00elapsed 94%CPU (0avgtext+0avgdata 7792maxresident)k\n",
      "0inputs+0outputs (0major+1237minor)pagefaults 0swaps\n"
     ]
    },
    {
     "name": "stdout",
     "output_type": "stream",
     "text": [
      "1143628\n",
      "humidity: 50.0\n",
      " pressure: 10000.0\n",
      " temperature: 300.0\n",
      " lat: 32.78000000000001\n",
      " elevation: 2.797999999999601\n",
      " freqmin(cm-1): 11098.779134295226\n",
      " freqmax(cm-1): 14265.33523537803\n",
      " angle: 50.422615509223334\n",
      "\n",
      "\n",
      "Running exec: lblrtm\n",
      "\n",
      "\n"
     ]
    },
    {
     "name": "stderr",
     "output_type": "stream",
     "text": [
      "Note: The following floating-point exceptions are signalling: IEEE_INVALID_FLAG IEEE_UNDERFLOW_FLAG IEEE_DENORMAL\n",
      "STOP  LBLRTM EXIT \n",
      "2.17user 1.09system 0:03.46elapsed 94%CPU (0avgtext+0avgdata 7732maxresident)k\n",
      "0inputs+0outputs (0major+1236minor)pagefaults 0swaps\n"
     ]
    },
    {
     "name": "stdout",
     "output_type": "stream",
     "text": [
      "\n",
      "Running exec: lblrtm\n",
      "\n",
      "\n"
     ]
    },
    {
     "name": "stderr",
     "output_type": "stream",
     "text": [
      "Note: The following floating-point exceptions are signalling: IEEE_INVALID_FLAG IEEE_UNDERFLOW_FLAG IEEE_DENORMAL\n",
      "STOP  LBLRTM EXIT \n",
      "0.92user 0.98system 0:02.02elapsed 94%CPU (0avgtext+0avgdata 7752maxresident)k\n",
      "0inputs+0outputs (0major+1237minor)pagefaults 0swaps\n"
     ]
    },
    {
     "name": "stdout",
     "output_type": "stream",
     "text": [
      "1143628\n",
      "humidity: 50.0\n",
      " pressure: 10000.0\n",
      " temperature: 300.0\n",
      " lat: 32.78000000000001\n",
      " elevation: 2.797999999999601\n",
      " freqmin(cm-1): 11098.779134295226\n",
      " freqmax(cm-1): 14265.33523537803\n",
      " angle: 66.89041188034572\n",
      "\n",
      "\n",
      "Running exec: lblrtm\n",
      "\n",
      "\n"
     ]
    },
    {
     "name": "stderr",
     "output_type": "stream",
     "text": [
      "Note: The following floating-point exceptions are signalling: IEEE_INVALID_FLAG IEEE_UNDERFLOW_FLAG IEEE_DENORMAL\n",
      "STOP  LBLRTM EXIT \n",
      "2.15user 1.11system 0:03.53elapsed 92%CPU (0avgtext+0avgdata 7572maxresident)k\n",
      "0inputs+0outputs (0major+1234minor)pagefaults 0swaps\n"
     ]
    },
    {
     "name": "stdout",
     "output_type": "stream",
     "text": [
      "\n",
      "Running exec: lblrtm\n",
      "\n",
      "\n"
     ]
    },
    {
     "name": "stderr",
     "output_type": "stream",
     "text": [
      "Note: The following floating-point exceptions are signalling: IEEE_INVALID_FLAG IEEE_UNDERFLOW_FLAG IEEE_DENORMAL\n",
      "STOP  LBLRTM EXIT \n",
      "0.94user 0.98system 0:02.03elapsed 94%CPU (0avgtext+0avgdata 7624maxresident)k\n",
      "0inputs+0outputs (0major+1232minor)pagefaults 0swaps\n"
     ]
    },
    {
     "name": "stdout",
     "output_type": "stream",
     "text": [
      "1143628\n",
      "humidity: 50.0\n",
      " pressure: 10000.0\n",
      " temperature: 300.0\n",
      " lat: 32.78000000000001\n",
      " elevation: 2.797999999999601\n",
      " freqmin(cm-1): 11098.779134295226\n",
      " freqmax(cm-1): 14265.33523537803\n",
      " angle: 65.6425420077903\n",
      "\n",
      "\n",
      "Running exec: lblrtm\n",
      "\n",
      "\n"
     ]
    },
    {
     "name": "stderr",
     "output_type": "stream",
     "text": [
      "Note: The following floating-point exceptions are signalling: IEEE_INVALID_FLAG IEEE_UNDERFLOW_FLAG IEEE_DENORMAL\n",
      "STOP  LBLRTM EXIT \n",
      "2.19user 1.08system 0:03.54elapsed 92%CPU (0avgtext+0avgdata 7568maxresident)k\n",
      "0inputs+0outputs (0major+1233minor)pagefaults 0swaps\n"
     ]
    },
    {
     "name": "stdout",
     "output_type": "stream",
     "text": [
      "\n",
      "Running exec: lblrtm\n",
      "\n",
      "\n"
     ]
    },
    {
     "name": "stderr",
     "output_type": "stream",
     "text": [
      "Note: The following floating-point exceptions are signalling: IEEE_INVALID_FLAG IEEE_UNDERFLOW_FLAG IEEE_DENORMAL\n",
      "STOP  LBLRTM EXIT \n",
      "0.91user 0.99system 0:02.04elapsed 93%CPU (0avgtext+0avgdata 7720maxresident)k\n",
      "0inputs+0outputs (0major+1237minor)pagefaults 0swaps\n"
     ]
    },
    {
     "name": "stdout",
     "output_type": "stream",
     "text": [
      "1143628\n",
      "humidity: 50.0\n",
      " pressure: 10000.0\n",
      " temperature: 300.0\n",
      " lat: 32.78000000000001\n",
      " elevation: 2.797999999999601\n",
      " freqmin(cm-1): 11098.779134295226\n",
      " freqmax(cm-1): 14265.33523537803\n",
      " angle: 4.244341434002005\n",
      "\n",
      "\n",
      "Running exec: lblrtm\n",
      "\n",
      "\n"
     ]
    },
    {
     "name": "stderr",
     "output_type": "stream",
     "text": [
      "Note: The following floating-point exceptions are signalling: IEEE_INVALID_FLAG IEEE_UNDERFLOW_FLAG IEEE_DENORMAL\n",
      "STOP  LBLRTM EXIT \n",
      "2.10user 1.13system 0:03.50elapsed 92%CPU (0avgtext+0avgdata 7724maxresident)k\n",
      "0inputs+0outputs (0major+1236minor)pagefaults 0swaps\n"
     ]
    },
    {
     "name": "stdout",
     "output_type": "stream",
     "text": [
      "\n",
      "Running exec: lblrtm\n",
      "\n",
      "\n"
     ]
    },
    {
     "name": "stderr",
     "output_type": "stream",
     "text": [
      "Note: The following floating-point exceptions are signalling: IEEE_INVALID_FLAG IEEE_UNDERFLOW_FLAG IEEE_DENORMAL\n",
      "STOP  LBLRTM EXIT \n",
      "0.91user 0.98system 0:01.97elapsed 95%CPU (0avgtext+0avgdata 7672maxresident)k\n",
      "0inputs+0outputs (0major+1234minor)pagefaults 0swaps\n"
     ]
    },
    {
     "name": "stdout",
     "output_type": "stream",
     "text": [
      "1143628\n",
      "humidity: 50.0\n",
      " pressure: 10000.0\n",
      " temperature: 300.0\n",
      " lat: 32.78000000000001\n",
      " elevation: 2.797999999999601\n",
      " freqmin(cm-1): 11098.779134295226\n",
      " freqmax(cm-1): 14265.33523537803\n",
      " angle: 25.73402125733466\n",
      "\n",
      "\n",
      "Running exec: lblrtm\n",
      "\n",
      "\n"
     ]
    },
    {
     "name": "stderr",
     "output_type": "stream",
     "text": [
      "Note: The following floating-point exceptions are signalling: IEEE_INVALID_FLAG IEEE_UNDERFLOW_FLAG IEEE_DENORMAL\n",
      "STOP  LBLRTM EXIT \n",
      "2.13user 1.09system 0:03.42elapsed 94%CPU (0avgtext+0avgdata 7792maxresident)k\n",
      "0inputs+0outputs (0major+1237minor)pagefaults 0swaps\n"
     ]
    },
    {
     "name": "stdout",
     "output_type": "stream",
     "text": [
      "\n",
      "Running exec: lblrtm\n",
      "\n",
      "\n"
     ]
    },
    {
     "name": "stderr",
     "output_type": "stream",
     "text": [
      "Note: The following floating-point exceptions are signalling: IEEE_INVALID_FLAG IEEE_UNDERFLOW_FLAG IEEE_DENORMAL\n",
      "STOP  LBLRTM EXIT \n",
      "0.90user 1.00system 0:02.13elapsed 89%CPU (0avgtext+0avgdata 7748maxresident)k\n",
      "0inputs+0outputs (0major+1237minor)pagefaults 0swaps\n"
     ]
    },
    {
     "name": "stdout",
     "output_type": "stream",
     "text": [
      "1143628\n",
      "humidity: 50.0\n",
      " pressure: 10000.0\n",
      " temperature: 300.0\n",
      " lat: 32.78000000000001\n",
      " elevation: 2.797999999999601\n",
      " freqmin(cm-1): 11098.779134295226\n",
      " freqmax(cm-1): 14265.33523537803\n",
      " angle: 41.82411679419448\n",
      "\n",
      "\n",
      "Running exec: lblrtm\n",
      "\n",
      "\n"
     ]
    },
    {
     "name": "stderr",
     "output_type": "stream",
     "text": [
      "Note: The following floating-point exceptions are signalling: IEEE_INVALID_FLAG IEEE_UNDERFLOW_FLAG IEEE_DENORMAL\n",
      "STOP  LBLRTM EXIT \n",
      "2.15user 1.11system 0:03.48elapsed 93%CPU (0avgtext+0avgdata 7672maxresident)k\n",
      "0inputs+0outputs (0major+1234minor)pagefaults 0swaps\n"
     ]
    },
    {
     "name": "stdout",
     "output_type": "stream",
     "text": [
      "\n",
      "Running exec: lblrtm\n",
      "\n",
      "\n"
     ]
    },
    {
     "name": "stderr",
     "output_type": "stream",
     "text": [
      "Note: The following floating-point exceptions are signalling: IEEE_INVALID_FLAG IEEE_UNDERFLOW_FLAG IEEE_DENORMAL\n",
      "STOP  LBLRTM EXIT \n",
      "0.92user 0.97system 0:01.98elapsed 96%CPU (0avgtext+0avgdata 7732maxresident)k\n",
      "0inputs+0outputs (0major+1236minor)pagefaults 0swaps\n"
     ]
    },
    {
     "name": "stdout",
     "output_type": "stream",
     "text": [
      "1143628\n",
      "humidity: 50.0\n",
      " pressure: 10000.0\n",
      " temperature: 300.0\n",
      " lat: 32.78000000000001\n",
      " elevation: 2.797999999999601\n",
      " freqmin(cm-1): 11098.779134295226\n",
      " freqmax(cm-1): 14265.33523537803\n",
      " angle: 19.147041951230698\n",
      "\n",
      "\n",
      "Running exec: lblrtm\n",
      "\n",
      "\n"
     ]
    },
    {
     "name": "stderr",
     "output_type": "stream",
     "text": [
      "Note: The following floating-point exceptions are signalling: IEEE_INVALID_FLAG IEEE_UNDERFLOW_FLAG IEEE_DENORMAL\n",
      "STOP  LBLRTM EXIT \n",
      "2.14user 1.09system 0:03.39elapsed 95%CPU (0avgtext+0avgdata 7612maxresident)k\n",
      "0inputs+0outputs (0major+1235minor)pagefaults 0swaps\n"
     ]
    },
    {
     "name": "stdout",
     "output_type": "stream",
     "text": [
      "\n",
      "Running exec: lblrtm\n",
      "\n",
      "\n"
     ]
    },
    {
     "name": "stderr",
     "output_type": "stream",
     "text": [
      "Note: The following floating-point exceptions are signalling: IEEE_INVALID_FLAG IEEE_UNDERFLOW_FLAG IEEE_DENORMAL\n",
      "STOP  LBLRTM EXIT \n",
      "0.93user 0.97system 0:02.03elapsed 94%CPU (0avgtext+0avgdata 7624maxresident)k\n",
      "0inputs+0outputs (0major+1233minor)pagefaults 0swaps\n"
     ]
    },
    {
     "name": "stdout",
     "output_type": "stream",
     "text": [
      "1143628\n",
      "humidity: 50.0\n",
      " pressure: 10000.0\n",
      " temperature: 300.0\n",
      " lat: 32.78000000000001\n",
      " elevation: 2.797999999999601\n",
      " freqmin(cm-1): 11098.779134295226\n",
      " freqmax(cm-1): 14265.33523537803\n",
      " angle: 38.23670948006227\n",
      "\n",
      "\n",
      "Running exec: lblrtm\n",
      "\n",
      "\n"
     ]
    },
    {
     "name": "stderr",
     "output_type": "stream",
     "text": [
      "Note: The following floating-point exceptions are signalling: IEEE_INVALID_FLAG IEEE_UNDERFLOW_FLAG IEEE_DENORMAL\n",
      "STOP  LBLRTM EXIT \n",
      "2.16user 1.09system 0:03.44elapsed 94%CPU (0avgtext+0avgdata 7752maxresident)k\n",
      "0inputs+0outputs (0major+1238minor)pagefaults 0swaps\n"
     ]
    },
    {
     "name": "stdout",
     "output_type": "stream",
     "text": [
      "\n",
      "Running exec: lblrtm\n",
      "\n",
      "\n"
     ]
    },
    {
     "name": "stderr",
     "output_type": "stream",
     "text": [
      "Note: The following floating-point exceptions are signalling: IEEE_INVALID_FLAG IEEE_UNDERFLOW_FLAG IEEE_DENORMAL\n",
      "STOP  LBLRTM EXIT \n",
      "0.90user 0.98system 0:02.02elapsed 93%CPU (0avgtext+0avgdata 7752maxresident)k\n",
      "0inputs+0outputs (0major+1237minor)pagefaults 0swaps\n"
     ]
    },
    {
     "name": "stdout",
     "output_type": "stream",
     "text": [
      "1143628\n",
      "humidity: 50.0\n",
      " pressure: 10000.0\n",
      " temperature: 300.0\n",
      " lat: 32.78000000000001\n",
      " elevation: 2.797999999999601\n",
      " freqmin(cm-1): 11098.779134295226\n",
      " freqmax(cm-1): 14265.33523537803\n",
      " angle: 47.73236591064268\n",
      "\n",
      "\n",
      "Running exec: lblrtm\n",
      "\n",
      "\n"
     ]
    },
    {
     "name": "stderr",
     "output_type": "stream",
     "text": [
      "Note: The following floating-point exceptions are signalling: IEEE_INVALID_FLAG IEEE_UNDERFLOW_FLAG IEEE_DENORMAL\n",
      "STOP  LBLRTM EXIT \n",
      "2.14user 1.12system 0:03.54elapsed 92%CPU (0avgtext+0avgdata 7560maxresident)k\n",
      "0inputs+0outputs (0major+1233minor)pagefaults 0swaps\n"
     ]
    },
    {
     "name": "stdout",
     "output_type": "stream",
     "text": [
      "\n",
      "Running exec: lblrtm\n",
      "\n",
      "\n"
     ]
    },
    {
     "name": "stderr",
     "output_type": "stream",
     "text": [
      "Note: The following floating-point exceptions are signalling: IEEE_INVALID_FLAG IEEE_UNDERFLOW_FLAG IEEE_DENORMAL\n",
      "STOP  LBLRTM EXIT \n",
      "0.90user 1.01system 0:02.05elapsed 93%CPU (0avgtext+0avgdata 7792maxresident)k\n",
      "0inputs+0outputs (0major+1237minor)pagefaults 0swaps\n"
     ]
    },
    {
     "name": "stdout",
     "output_type": "stream",
     "text": [
      "1143628\n",
      "humidity: 50.0\n",
      " pressure: 10000.0\n",
      " temperature: 300.0\n",
      " lat: 32.78000000000001\n",
      " elevation: 2.797999999999601\n",
      " freqmin(cm-1): 11098.779134295226\n",
      " freqmax(cm-1): 14265.33523537803\n",
      " angle: 42.79961082627774\n",
      "\n",
      "\n",
      "Running exec: lblrtm\n",
      "\n",
      "\n"
     ]
    },
    {
     "name": "stderr",
     "output_type": "stream",
     "text": [
      "Note: The following floating-point exceptions are signalling: IEEE_INVALID_FLAG IEEE_UNDERFLOW_FLAG IEEE_DENORMAL\n",
      "STOP  LBLRTM EXIT \n",
      "2.14user 1.12system 0:03.47elapsed 93%CPU (0avgtext+0avgdata 7792maxresident)k\n",
      "0inputs+0outputs (0major+1237minor)pagefaults 0swaps\n"
     ]
    },
    {
     "name": "stdout",
     "output_type": "stream",
     "text": [
      "\n",
      "Running exec: lblrtm\n",
      "\n",
      "\n"
     ]
    },
    {
     "name": "stderr",
     "output_type": "stream",
     "text": [
      "Note: The following floating-point exceptions are signalling: IEEE_INVALID_FLAG IEEE_UNDERFLOW_FLAG IEEE_DENORMAL\n",
      "STOP  LBLRTM EXIT \n",
      "0.90user 0.99system 0:02.01elapsed 94%CPU (0avgtext+0avgdata 7624maxresident)k\n",
      "0inputs+0outputs (0major+1233minor)pagefaults 0swaps\n"
     ]
    },
    {
     "name": "stdout",
     "output_type": "stream",
     "text": [
      "1143628\n",
      "humidity: 50.0\n",
      " pressure: 10000.0\n",
      " temperature: 300.0\n",
      " lat: 32.78000000000001\n",
      " elevation: 2.797999999999601\n",
      " freqmin(cm-1): 11098.779134295226\n",
      " freqmax(cm-1): 14265.33523537803\n",
      " angle: 44.62927519288961\n",
      "\n",
      "\n",
      "Running exec: lblrtm\n",
      "\n",
      "\n"
     ]
    },
    {
     "name": "stderr",
     "output_type": "stream",
     "text": [
      "Note: The following floating-point exceptions are signalling: IEEE_INVALID_FLAG IEEE_UNDERFLOW_FLAG IEEE_DENORMAL\n",
      "STOP  LBLRTM EXIT \n",
      "2.17user 1.08system 0:03.47elapsed 93%CPU (0avgtext+0avgdata 7632maxresident)k\n",
      "0inputs+0outputs (0major+1234minor)pagefaults 0swaps\n"
     ]
    },
    {
     "name": "stdout",
     "output_type": "stream",
     "text": [
      "\n",
      "Running exec: lblrtm\n",
      "\n",
      "\n"
     ]
    },
    {
     "name": "stderr",
     "output_type": "stream",
     "text": [
      "Note: The following floating-point exceptions are signalling: IEEE_INVALID_FLAG IEEE_UNDERFLOW_FLAG IEEE_DENORMAL\n",
      "STOP  LBLRTM EXIT \n",
      "0.89user 1.02system 0:02.03elapsed 94%CPU (0avgtext+0avgdata 7556maxresident)k\n",
      "0inputs+0outputs (0major+1233minor)pagefaults 0swaps\n"
     ]
    },
    {
     "name": "stdout",
     "output_type": "stream",
     "text": [
      "1143628\n",
      "humidity: 50.0\n",
      " pressure: 10000.0\n",
      " temperature: 300.0\n",
      " lat: 32.78000000000001\n",
      " elevation: 2.797999999999601\n",
      " freqmin(cm-1): 11098.779134295226\n",
      " freqmax(cm-1): 14265.33523537803\n",
      " angle: 31.567632273477905\n",
      "\n",
      "\n",
      "Running exec: lblrtm\n",
      "\n",
      "\n"
     ]
    },
    {
     "name": "stderr",
     "output_type": "stream",
     "text": [
      "Note: The following floating-point exceptions are signalling: IEEE_INVALID_FLAG IEEE_UNDERFLOW_FLAG IEEE_DENORMAL\n",
      "STOP  LBLRTM EXIT \n",
      "2.18user 1.07system 0:03.44elapsed 94%CPU (0avgtext+0avgdata 7732maxresident)k\n",
      "0inputs+0outputs (0major+1236minor)pagefaults 0swaps\n"
     ]
    },
    {
     "name": "stdout",
     "output_type": "stream",
     "text": [
      "\n",
      "Running exec: lblrtm\n",
      "\n",
      "\n"
     ]
    },
    {
     "name": "stderr",
     "output_type": "stream",
     "text": [
      "Note: The following floating-point exceptions are signalling: IEEE_INVALID_FLAG IEEE_UNDERFLOW_FLAG IEEE_DENORMAL\n",
      "STOP  LBLRTM EXIT \n",
      "0.94user 0.94system 0:02.00elapsed 94%CPU (0avgtext+0avgdata 7680maxresident)k\n",
      "0inputs+0outputs (0major+1238minor)pagefaults 0swaps\n"
     ]
    },
    {
     "name": "stdout",
     "output_type": "stream",
     "text": [
      "1143628\n",
      "humidity: 50.0\n",
      " pressure: 10000.0\n",
      " temperature: 300.0\n",
      " lat: 32.78000000000001\n",
      " elevation: 2.797999999999601\n",
      " freqmin(cm-1): 11098.779134295226\n",
      " freqmax(cm-1): 14265.33523537803\n",
      " angle: 44.219986042892295\n",
      "\n",
      "\n",
      "Running exec: lblrtm\n",
      "\n",
      "\n"
     ]
    },
    {
     "name": "stderr",
     "output_type": "stream",
     "text": [
      "Note: The following floating-point exceptions are signalling: IEEE_INVALID_FLAG IEEE_UNDERFLOW_FLAG IEEE_DENORMAL\n",
      "STOP  LBLRTM EXIT \n",
      "2.14user 1.11system 0:03.42elapsed 94%CPU (0avgtext+0avgdata 7632maxresident)k\n",
      "0inputs+0outputs (0major+1233minor)pagefaults 0swaps\n"
     ]
    },
    {
     "name": "stdout",
     "output_type": "stream",
     "text": [
      "\n",
      "Running exec: lblrtm\n",
      "\n",
      "\n"
     ]
    },
    {
     "name": "stderr",
     "output_type": "stream",
     "text": [
      "Note: The following floating-point exceptions are signalling: IEEE_INVALID_FLAG IEEE_UNDERFLOW_FLAG IEEE_DENORMAL\n",
      "STOP  LBLRTM EXIT \n",
      "0.92user 0.99system 0:02.03elapsed 93%CPU (0avgtext+0avgdata 7752maxresident)k\n",
      "0inputs+0outputs (0major+1238minor)pagefaults 0swaps\n"
     ]
    },
    {
     "name": "stdout",
     "output_type": "stream",
     "text": [
      "1143628\n",
      "humidity: 50.0\n",
      " pressure: 10000.0\n",
      " temperature: 300.0\n",
      " lat: 32.78000000000001\n",
      " elevation: 2.797999999999601\n",
      " freqmin(cm-1): 11098.779134295226\n",
      " freqmax(cm-1): 14265.33523537803\n",
      " angle: 55.209073951412215\n",
      "\n",
      "\n",
      "Running exec: lblrtm\n",
      "\n",
      "\n"
     ]
    },
    {
     "name": "stderr",
     "output_type": "stream",
     "text": [
      "Note: The following floating-point exceptions are signalling: IEEE_INVALID_FLAG IEEE_UNDERFLOW_FLAG IEEE_DENORMAL\n",
      "STOP  LBLRTM EXIT \n",
      "2.06user 1.13system 0:03.49elapsed 91%CPU (0avgtext+0avgdata 7672maxresident)k\n",
      "0inputs+0outputs (0major+1233minor)pagefaults 0swaps\n"
     ]
    },
    {
     "name": "stdout",
     "output_type": "stream",
     "text": [
      "\n",
      "Running exec: lblrtm\n",
      "\n",
      "\n"
     ]
    },
    {
     "name": "stderr",
     "output_type": "stream",
     "text": [
      "Note: The following floating-point exceptions are signalling: IEEE_INVALID_FLAG IEEE_UNDERFLOW_FLAG IEEE_DENORMAL\n",
      "STOP  LBLRTM EXIT \n",
      "0.95user 0.97system 0:02.07elapsed 93%CPU (0avgtext+0avgdata 7816maxresident)k\n",
      "0inputs+0outputs (0major+1239minor)pagefaults 0swaps\n"
     ]
    },
    {
     "name": "stdout",
     "output_type": "stream",
     "text": [
      "1127403\n",
      "humidity: 50.0\n",
      " pressure: 10000.0\n",
      " temperature: 300.0\n",
      " lat: 32.78000000000001\n",
      " elevation: 2.797999999999601\n",
      " freqmin(cm-1): 11098.779134295226\n",
      " freqmax(cm-1): 14265.33523537803\n",
      " angle: 16.046253531664348\n",
      "\n",
      "\n",
      "Running exec: lblrtm\n",
      "\n",
      "\n"
     ]
    },
    {
     "name": "stderr",
     "output_type": "stream",
     "text": [
      "Note: The following floating-point exceptions are signalling: IEEE_INVALID_FLAG IEEE_UNDERFLOW_FLAG IEEE_DENORMAL\n",
      "STOP  LBLRTM EXIT \n",
      "2.13user 1.10system 0:03.54elapsed 91%CPU (0avgtext+0avgdata 7756maxresident)k\n",
      "0inputs+0outputs (0major+1237minor)pagefaults 0swaps\n"
     ]
    },
    {
     "name": "stdout",
     "output_type": "stream",
     "text": [
      "\n",
      "Running exec: lblrtm\n",
      "\n",
      "\n"
     ]
    },
    {
     "name": "stderr",
     "output_type": "stream",
     "text": [
      "Note: The following floating-point exceptions are signalling: IEEE_INVALID_FLAG IEEE_UNDERFLOW_FLAG IEEE_DENORMAL\n",
      "STOP  LBLRTM EXIT \n",
      "0.89user 1.00system 0:02.00elapsed 94%CPU (0avgtext+0avgdata 7708maxresident)k\n",
      "0inputs+0outputs (0major+1236minor)pagefaults 0swaps\n"
     ]
    },
    {
     "name": "stdout",
     "output_type": "stream",
     "text": [
      "1143628\n",
      "humidity: 50.0\n",
      " pressure: 10000.0\n",
      " temperature: 300.0\n",
      " lat: 32.78000000000001\n",
      " elevation: 2.797999999999601\n",
      " freqmin(cm-1): 11098.779134295226\n",
      " freqmax(cm-1): 14265.33523537803\n",
      " angle: 70.36083125348077\n",
      "\n",
      "\n",
      "Running exec: lblrtm\n",
      "\n",
      "\n"
     ]
    },
    {
     "name": "stderr",
     "output_type": "stream",
     "text": [
      "Note: The following floating-point exceptions are signalling: IEEE_INVALID_FLAG IEEE_UNDERFLOW_FLAG IEEE_DENORMAL\n",
      "STOP  LBLRTM EXIT \n",
      "2.17user 1.12system 0:03.56elapsed 92%CPU (0avgtext+0avgdata 7672maxresident)k\n",
      "0inputs+0outputs (0major+1233minor)pagefaults 0swaps\n"
     ]
    },
    {
     "name": "stdout",
     "output_type": "stream",
     "text": [
      "\n",
      "Running exec: lblrtm\n",
      "\n",
      "\n"
     ]
    },
    {
     "name": "stderr",
     "output_type": "stream",
     "text": [
      "Note: The following floating-point exceptions are signalling: IEEE_INVALID_FLAG IEEE_UNDERFLOW_FLAG IEEE_DENORMAL\n",
      "STOP  LBLRTM EXIT \n",
      "0.90user 1.00system 0:01.98elapsed 96%CPU (0avgtext+0avgdata 7684maxresident)k\n",
      "0inputs+0outputs (0major+1236minor)pagefaults 0swaps\n"
     ]
    },
    {
     "name": "stdout",
     "output_type": "stream",
     "text": [
      "1143628\n",
      "humidity: 50.0\n",
      " pressure: 10000.0\n",
      " temperature: 300.0\n",
      " lat: 32.78000000000001\n",
      " elevation: 2.797999999999601\n",
      " freqmin(cm-1): 11098.779134295226\n",
      " freqmax(cm-1): 14265.33523537803\n",
      " angle: 5.621114858253093\n",
      "\n",
      "\n",
      "Running exec: lblrtm\n",
      "\n",
      "\n"
     ]
    },
    {
     "name": "stderr",
     "output_type": "stream",
     "text": [
      "Note: The following floating-point exceptions are signalling: IEEE_INVALID_FLAG IEEE_UNDERFLOW_FLAG IEEE_DENORMAL\n",
      "STOP  LBLRTM EXIT \n",
      "2.15user 1.10system 0:03.51elapsed 92%CPU (0avgtext+0avgdata 7732maxresident)k\n",
      "0inputs+0outputs (0major+1236minor)pagefaults 0swaps\n"
     ]
    },
    {
     "name": "stdout",
     "output_type": "stream",
     "text": [
      "\n",
      "Running exec: lblrtm\n",
      "\n",
      "\n"
     ]
    },
    {
     "name": "stderr",
     "output_type": "stream",
     "text": [
      "Note: The following floating-point exceptions are signalling: IEEE_INVALID_FLAG IEEE_UNDERFLOW_FLAG IEEE_DENORMAL\n",
      "STOP  LBLRTM EXIT \n",
      "0.87user 1.01system 0:01.97elapsed 95%CPU (0avgtext+0avgdata 7552maxresident)k\n",
      "0inputs+0outputs (0major+1233minor)pagefaults 0swaps\n"
     ]
    },
    {
     "name": "stdout",
     "output_type": "stream",
     "text": [
      "1143628\n",
      "<simulacra.tellurics.TelFitModel object at 0x145c0d5fc9b0> [1.6178939077349241e-06, 2.1907587743896784e-07, 2.1907587743896784e-07, 2.1907587743896784e-07, 2.1907587743896784e-07, 2.2146180711501984e-07, 2.2147022882279543e-07, 2.1907587743896784e-07, 2.1907587743896784e-07, 2.1907587743896784e-07, 2.2717149938955572e-07, 2.1907587743896784e-07, 2.1907587743896784e-07, 2.1907587743896784e-07, 2.1907587743896784e-07, 2.1907587743896784e-07, 2.1907587743896784e-07, 2.1907587743896784e-07, 2.1907587743896784e-07, 2.1907587743896784e-07, 2.1907587743896784e-07, 2.1907587743896784e-07, 2.1907587743896784e-07, 2.1907587743896784e-07, 2.1907587743896784e-07, 2.1907587743896784e-07, 2.1907587743896784e-07, 2.1996264365498064e-07, 2.1907587743896784e-07, 2.1907587743896784e-07, 2.1907587743896784e-07]\n",
      "interpolating spline...\n",
      "0\n",
      "1\n",
      "2\n",
      "3\n",
      "4\n",
      "5\n",
      "6\n",
      "7\n",
      "8\n",
      "9\n",
      "10\n",
      "11\n",
      "12\n",
      "13\n",
      "14\n",
      "15\n",
      "16\n",
      "17\n",
      "18\n",
      "19\n",
      "20\n",
      "21\n",
      "22\n",
      "23\n",
      "24\n",
      "25\n",
      "26\n",
      "27\n",
      "28\n",
      "29\n",
      "combining grids...\n",
      "convolving...\n",
      "0\n",
      "1\n",
      "2\n",
      "3\n",
      "4\n",
      "5\n",
      "6\n",
      "7\n",
      "8\n",
      "9\n",
      "10\n",
      "11\n",
      "12\n",
      "13\n",
      "14\n",
      "15\n",
      "16\n",
      "17\n",
      "18\n",
      "19\n",
      "20\n",
      "21\n",
      "22\n",
      "23\n",
      "24\n",
      "25\n",
      "26\n",
      "27\n",
      "28\n",
      "29\n",
      "xs: 7005.007110494636 9004.98956196525\n",
      "xhat: 7010.007110494628 8999.990639003297\n",
      "interpolating lanczos...\n",
      "0\n",
      "1\n",
      "2\n",
      "3\n",
      "4\n",
      "5\n",
      "6\n",
      "7\n",
      "8\n",
      "9\n",
      "10\n",
      "11\n",
      "12\n",
      "13\n",
      "14\n",
      "15\n",
      "16\n",
      "17\n",
      "18\n",
      "19\n",
      "20\n",
      "21\n",
      "22\n",
      "23\n",
      "24\n",
      "25\n",
      "26\n",
      "27\n",
      "28\n",
      "29\n",
      "area: 14.522012041218817 m2\t avg d lambda: 0.05688267575202005 Angstrom\t avg lambda: 7963.6042297997865 Angstrom\t avg exp times: 8.0 min\n",
      "0 n mean: 2.40e+02\t n median: 2.90e+02\n",
      "1 n mean: 2.72e+02\t n median: 2.96e+02\n",
      "2 n mean: 2.53e+02\t n median: 2.87e+02\n",
      "3 n mean: 2.72e+02\t n median: 2.96e+02\n",
      "4 n mean: 2.59e+02\t n median: 2.91e+02\n",
      "5 n mean: 2.42e+02\t n median: 2.77e+02\n",
      "6 n mean: 2.74e+02\t n median: 2.97e+02\n",
      "7 n mean: 2.76e+02\t n median: 2.97e+02\n",
      "8 n mean: 2.76e+02\t n median: 2.97e+02\n",
      "9 n mean: 2.72e+02\t n median: 2.96e+02\n",
      "10 n mean: 2.74e+02\t n median: 2.97e+02\n",
      "11 n mean: 2.73e+02\t n median: 2.97e+02\n",
      "12 n mean: 2.76e+02\t n median: 2.97e+02\n",
      "13 n mean: 2.68e+02\t n median: 2.95e+02\n",
      "14 n mean: 2.57e+02\t n median: 2.89e+02\n",
      "15 n mean: 2.59e+02\t n median: 2.91e+02\n",
      "16 n mean: 2.76e+02\t n median: 2.97e+02\n",
      "17 n mean: 2.74e+02\t n median: 2.97e+02\n",
      "18 n mean: 2.71e+02\t n median: 2.96e+02\n",
      "19 n mean: 2.75e+02\t n median: 2.97e+02\n",
      "20 n mean: 2.72e+02\t n median: 2.96e+02\n",
      "21 n mean: 2.69e+02\t n median: 2.95e+02\n",
      "22 n mean: 2.71e+02\t n median: 2.96e+02\n",
      "23 n mean: 2.70e+02\t n median: 2.95e+02\n",
      "24 n mean: 2.73e+02\t n median: 2.97e+02\n",
      "25 n mean: 2.70e+02\t n median: 2.95e+02\n",
      "26 n mean: 2.40e+02\t n median: 2.96e+02\n",
      "27 n mean: 2.75e+02\t n median: 2.97e+02\n",
      "28 n mean: 2.51e+02\t n median: 2.86e+02\n",
      "29 n mean: 2.76e+02\t n median: 2.97e+02\n",
      "generating true signal to noise ratios...\n",
      "adding noise...\n",
      "generating exp signal to noise ratios...\n"
     ]
    },
    {
     "name": "stderr",
     "output_type": "stream",
     "text": [
      "../simulacra/detector.py:529: RuntimeWarning: invalid value encountered in add_noise_v\n",
      "  n_readout = add_noise_v(n_exp.flatten().value,snr_grid.flatten()).reshape(out_shape)\n"
     ]
    },
    {
     "name": "stdout",
     "output_type": "stream",
     "text": [
      "generating errors...\n",
      "done.\n",
      "/scratch/mdd423/simulacra/out/2021-11-02/data_e30_R70000.0_a2000.0_p40.3_l7.0e+039.0e+03_ep1.0_w0.0_snr9.6e+00_tp3e-07\n",
      "saving time\n",
      "quantity\n",
      "epoches  saving as string\n",
      "quantity\n",
      "quantity\n",
      "quantity\n",
      "quantity\n",
      "quantity\n"
     ]
    },
    {
     "name": "stderr",
     "output_type": "stream",
     "text": [
      "../simulacra/detector.py:541: RuntimeWarning: invalid value encountered in generate_errors_v\n",
      "  nerr_out = generate_errors_v(n_readout.flatten(),snr_readout.flatten()).reshape(out_shape)\n"
     ]
    },
    {
     "name": "stdout",
     "output_type": "stream",
     "text": [
      "quantity\n",
      "quantity\n",
      "flux  saving as string\n",
      "wave  saving as string\n",
      "quantity\n",
      "quantity\n",
      "quantity\n",
      "alpha  saving as string\n",
      "quantity\n",
      "quantity\n",
      "fluxname  saving as string\n",
      "generate_spectra  saving as string\n",
      "quantity\n",
      "quantity\n",
      "logg  saving as string\n",
      "outdir  saving as string\n",
      "quantity\n",
      "plot  saving as string\n",
      "plot_interpolated  saving as string\n",
      "quantity\n",
      "quantity\n",
      "saving target...340.28129510273834 deg 28.43612929851907 deg\n",
      "temperature  saving as string\n",
      "quantity\n",
      "quantity\n",
      "wavename  saving as string\n",
      "quantity\n",
      "z  saving as string\n",
      "quantity\n",
      "quantity\n",
      "quantity\n",
      "quantity\n",
      "a  saving as string\n",
      "add_model  saving as string\n",
      "quantity\n",
      "checkmax  saving as string\n",
      "checkmin  saving as string\n",
      "quantity\n",
      "epsilon  saving as string\n",
      "gamma  saving as string\n",
      "quantity\n",
      "quantity\n",
      "quantity\n",
      "lsf_centering  saving as string\n",
      "lsf_const_coeffs  saving as string\n",
      "resolution  saving as string\n",
      "sigma  saving as string\n",
      "sigma_range  saving as string\n",
      "simulate  saving as string\n",
      "stellar_model  saving as string\n",
      "through_put  saving as string\n",
      "transmission_cutoff  saving as string\n",
      "transmission_models  saving as string\n",
      "w  saving as string\n",
      "quantity\n",
      "quantity\n",
      "quantity\n",
      "_epoches  saving as string\n",
      "quantity\n",
      "quantity\n",
      "_name  saving as string\n",
      "quantity\n",
      "quantity\n",
      "check_property  saving as string\n",
      "check_shape_type  saving as string\n",
      "epoches  saving as string\n",
      "generate_transmission  saving as string\n",
      "quantity\n",
      "quantity\n",
      "quantity\n",
      "plot  saving as string\n",
      "plot_interpolated  saving as string\n",
      "quantity\n",
      "quantity\n",
      "quantity\n",
      "nan nan\n",
      "using saved wave file\n",
      "../data/stellar/PHOENIX/lte04800-1.00-1.0.Alpha=+0.40.PHOENIX-ACES-AGSS-COND-2011-HiRes.fits\n",
      "using saved flux file\n",
      "reading in ../data/stellar/PHOENIX/WAVE_PHOENIX-ACES-AGSS-COND-2011.fits\n",
      "wave_grid min -> 701.0 nm\n",
      "surface flux: mean 1.31e+14 erg / (cm3 s)\t median 1.14e+14 erg / (cm3 s)\n",
      "obs     flux: mean 4.20e-03 erg / (cm3 s)\t median 3.65e-03 erg / (cm3 s)\n",
      "generating spectra...\n",
      "humidity: 50.0\n",
      " pressure: 10000.0\n",
      " temperature: 300.0\n",
      " lat: 32.78000000000001\n",
      " elevation: 2.797999999999601\n",
      " freqmin(cm-1): 11098.779134295226\n",
      " freqmax(cm-1): 14265.33523537803\n",
      " angle: 62.8613757400191\n",
      "\n",
      "\n",
      "Running exec: lblrtm\n",
      "\n",
      "\n"
     ]
    },
    {
     "name": "stderr",
     "output_type": "stream",
     "text": [
      "Note: The following floating-point exceptions are signalling: IEEE_INVALID_FLAG IEEE_UNDERFLOW_FLAG IEEE_DENORMAL\n",
      "STOP  LBLRTM EXIT \n",
      "2.14user 1.15system 0:03.76elapsed 87%CPU (0avgtext+0avgdata 7720maxresident)k\n",
      "0inputs+0outputs (0major+1237minor)pagefaults 0swaps\n"
     ]
    },
    {
     "name": "stdout",
     "output_type": "stream",
     "text": [
      "\n",
      "Running exec: lblrtm\n",
      "\n",
      "\n"
     ]
    },
    {
     "name": "stderr",
     "output_type": "stream",
     "text": [
      "Note: The following floating-point exceptions are signalling: IEEE_INVALID_FLAG IEEE_UNDERFLOW_FLAG IEEE_DENORMAL\n",
      "STOP  LBLRTM EXIT \n",
      "0.94user 0.98system 0:02.05elapsed 93%CPU (0avgtext+0avgdata 7720maxresident)k\n",
      "0inputs+0outputs (0major+1234minor)pagefaults 0swaps\n"
     ]
    },
    {
     "name": "stdout",
     "output_type": "stream",
     "text": [
      "1143628\n",
      "humidity: 50.0\n",
      " pressure: 10000.0\n",
      " temperature: 300.0\n",
      " lat: 32.78000000000001\n",
      " elevation: 2.797999999999601\n",
      " freqmin(cm-1): 11098.779134295226\n",
      " freqmax(cm-1): 14265.33523537803\n",
      " angle: 36.420938571519066\n",
      "\n",
      "\n",
      "Running exec: lblrtm\n",
      "\n",
      "\n"
     ]
    },
    {
     "name": "stderr",
     "output_type": "stream",
     "text": [
      "Note: The following floating-point exceptions are signalling: IEEE_INVALID_FLAG IEEE_UNDERFLOW_FLAG IEEE_DENORMAL\n",
      "STOP  LBLRTM EXIT \n",
      "2.13user 1.14system 0:03.69elapsed 88%CPU (0avgtext+0avgdata 7732maxresident)k\n",
      "0inputs+0outputs (0major+1236minor)pagefaults 0swaps\n"
     ]
    },
    {
     "name": "stdout",
     "output_type": "stream",
     "text": [
      "\n",
      "Running exec: lblrtm\n",
      "\n",
      "\n"
     ]
    },
    {
     "name": "stderr",
     "output_type": "stream",
     "text": [
      "Note: The following floating-point exceptions are signalling: IEEE_INVALID_FLAG IEEE_UNDERFLOW_FLAG IEEE_DENORMAL\n",
      "STOP  LBLRTM EXIT \n",
      "0.90user 1.02system 0:02.03elapsed 95%CPU (0avgtext+0avgdata 7748maxresident)k\n",
      "0inputs+0outputs (0major+1234minor)pagefaults 0swaps\n"
     ]
    },
    {
     "name": "stdout",
     "output_type": "stream",
     "text": [
      "1143628\n",
      "humidity: 50.0\n",
      " pressure: 10000.0\n",
      " temperature: 300.0\n",
      " lat: 32.78000000000001\n",
      " elevation: 2.797999999999601\n",
      " freqmin(cm-1): 11098.779134295226\n",
      " freqmax(cm-1): 14265.33523537803\n",
      " angle: 70.23515457427514\n",
      "\n",
      "\n",
      "Running exec: lblrtm\n",
      "\n",
      "\n"
     ]
    },
    {
     "name": "stderr",
     "output_type": "stream",
     "text": [
      "Note: The following floating-point exceptions are signalling: IEEE_INVALID_FLAG IEEE_UNDERFLOW_FLAG IEEE_DENORMAL\n",
      "STOP  LBLRTM EXIT \n",
      "2.20user 1.11system 0:03.52elapsed 94%CPU (0avgtext+0avgdata 7556maxresident)k\n",
      "0inputs+0outputs (0major+1234minor)pagefaults 0swaps\n"
     ]
    },
    {
     "name": "stdout",
     "output_type": "stream",
     "text": [
      "\n",
      "Running exec: lblrtm\n",
      "\n",
      "\n"
     ]
    },
    {
     "name": "stderr",
     "output_type": "stream",
     "text": [
      "Note: The following floating-point exceptions are signalling: IEEE_INVALID_FLAG IEEE_UNDERFLOW_FLAG IEEE_DENORMAL\n",
      "STOP  LBLRTM EXIT \n",
      "0.92user 1.01system 0:02.04elapsed 94%CPU (0avgtext+0avgdata 7748maxresident)k\n",
      "0inputs+0outputs (0major+1236minor)pagefaults 0swaps\n"
     ]
    },
    {
     "name": "stdout",
     "output_type": "stream",
     "text": [
      "1143628\n",
      "humidity: 50.0\n",
      " pressure: 10000.0\n",
      " temperature: 300.0\n",
      " lat: 32.78000000000001\n",
      " elevation: 2.797999999999601\n",
      " freqmin(cm-1): 11098.779134295226\n",
      " freqmax(cm-1): 14265.33523537803\n",
      " angle: 37.41097711185363\n",
      "\n",
      "\n",
      "Running exec: lblrtm\n",
      "\n",
      "\n"
     ]
    },
    {
     "name": "stderr",
     "output_type": "stream",
     "text": [
      "Note: The following floating-point exceptions are signalling: IEEE_INVALID_FLAG IEEE_UNDERFLOW_FLAG IEEE_DENORMAL\n",
      "STOP  LBLRTM EXIT \n",
      "2.14user 1.15system 0:03.47elapsed 94%CPU (0avgtext+0avgdata 7636maxresident)k\n",
      "0inputs+0outputs (0major+1235minor)pagefaults 0swaps\n"
     ]
    },
    {
     "name": "stdout",
     "output_type": "stream",
     "text": [
      "\n",
      "Running exec: lblrtm\n",
      "\n",
      "\n"
     ]
    },
    {
     "name": "stderr",
     "output_type": "stream",
     "text": [
      "Note: The following floating-point exceptions are signalling: IEEE_INVALID_FLAG IEEE_UNDERFLOW_FLAG IEEE_DENORMAL\n",
      "STOP  LBLRTM EXIT \n",
      "0.92user 1.01system 0:02.01elapsed 96%CPU (0avgtext+0avgdata 7684maxresident)k\n",
      "0inputs+0outputs (0major+1238minor)pagefaults 0swaps\n"
     ]
    },
    {
     "name": "stdout",
     "output_type": "stream",
     "text": [
      "1143628\n",
      "humidity: 50.0\n",
      " pressure: 10000.0\n",
      " temperature: 300.0\n",
      " lat: 32.78000000000001\n",
      " elevation: 2.797999999999601\n",
      " freqmin(cm-1): 11098.779134295226\n",
      " freqmax(cm-1): 14265.33523537803\n",
      " angle: 65.09115788813192\n",
      "\n",
      "\n",
      "Running exec: lblrtm\n",
      "\n",
      "\n"
     ]
    },
    {
     "name": "stderr",
     "output_type": "stream",
     "text": [
      "Note: The following floating-point exceptions are signalling: IEEE_INVALID_FLAG IEEE_UNDERFLOW_FLAG IEEE_DENORMAL\n",
      "STOP  LBLRTM EXIT \n",
      "2.17user 1.09system 0:03.41elapsed 95%CPU (0avgtext+0avgdata 7672maxresident)k\n",
      "0inputs+0outputs (0major+1233minor)pagefaults 0swaps\n"
     ]
    },
    {
     "name": "stdout",
     "output_type": "stream",
     "text": [
      "\n",
      "Running exec: lblrtm\n",
      "\n",
      "\n"
     ]
    },
    {
     "name": "stderr",
     "output_type": "stream",
     "text": [
      "Note: The following floating-point exceptions are signalling: IEEE_INVALID_FLAG IEEE_UNDERFLOW_FLAG IEEE_DENORMAL\n",
      "STOP  LBLRTM EXIT \n",
      "0.88user 1.05system 0:02.05elapsed 94%CPU (0avgtext+0avgdata 7620maxresident)k\n",
      "0inputs+0outputs (0major+1233minor)pagefaults 0swaps\n"
     ]
    },
    {
     "name": "stdout",
     "output_type": "stream",
     "text": [
      "1127370\n",
      "humidity: 50.0\n",
      " pressure: 10000.0\n",
      " temperature: 300.0\n",
      " lat: 32.78000000000001\n",
      " elevation: 2.797999999999601\n",
      " freqmin(cm-1): 11098.779134295226\n",
      " freqmax(cm-1): 14265.33523537803\n",
      " angle: 59.94944845829285\n",
      "\n",
      "\n",
      "Running exec: lblrtm\n",
      "\n",
      "\n"
     ]
    },
    {
     "name": "stderr",
     "output_type": "stream",
     "text": [
      "Note: The following floating-point exceptions are signalling: IEEE_INVALID_FLAG IEEE_UNDERFLOW_FLAG IEEE_DENORMAL\n",
      "STOP  LBLRTM EXIT \n",
      "2.09user 1.13system 0:03.39elapsed 95%CPU (0avgtext+0avgdata 7720maxresident)k\n",
      "0inputs+0outputs (0major+1234minor)pagefaults 0swaps\n"
     ]
    },
    {
     "name": "stdout",
     "output_type": "stream",
     "text": [
      "\n",
      "Running exec: lblrtm\n",
      "\n",
      "\n"
     ]
    },
    {
     "name": "stderr",
     "output_type": "stream",
     "text": [
      "Note: The following floating-point exceptions are signalling: IEEE_INVALID_FLAG IEEE_UNDERFLOW_FLAG IEEE_DENORMAL\n",
      "STOP  LBLRTM EXIT \n",
      "0.92user 1.05system 0:02.07elapsed 94%CPU (0avgtext+0avgdata 7716maxresident)k\n",
      "0inputs+0outputs (0major+1236minor)pagefaults 0swaps\n"
     ]
    },
    {
     "name": "stdout",
     "output_type": "stream",
     "text": [
      "1124676\n",
      "humidity: 50.0\n",
      " pressure: 10000.0\n",
      " temperature: 300.0\n",
      " lat: 32.78000000000001\n",
      " elevation: 2.797999999999601\n",
      " freqmin(cm-1): 11098.779134295226\n",
      " freqmax(cm-1): 14265.33523537803\n",
      " angle: 27.811520651072378\n",
      "\n",
      "\n",
      "Running exec: lblrtm\n",
      "\n",
      "\n"
     ]
    },
    {
     "name": "stderr",
     "output_type": "stream",
     "text": [
      "Note: The following floating-point exceptions are signalling: IEEE_INVALID_FLAG IEEE_UNDERFLOW_FLAG IEEE_DENORMAL\n",
      "STOP  LBLRTM EXIT \n",
      "2.14user 1.14system 0:03.50elapsed 93%CPU (0avgtext+0avgdata 7628maxresident)k\n",
      "0inputs+0outputs (0major+1232minor)pagefaults 0swaps\n"
     ]
    },
    {
     "name": "stdout",
     "output_type": "stream",
     "text": [
      "\n",
      "Running exec: lblrtm\n",
      "\n",
      "\n"
     ]
    },
    {
     "name": "stderr",
     "output_type": "stream",
     "text": [
      "Note: The following floating-point exceptions are signalling: IEEE_INVALID_FLAG IEEE_UNDERFLOW_FLAG IEEE_DENORMAL\n",
      "STOP  LBLRTM EXIT \n",
      "0.90user 1.01system 0:02.02elapsed 94%CPU (0avgtext+0avgdata 7788maxresident)k\n",
      "0inputs+0outputs (0major+1236minor)pagefaults 0swaps\n"
     ]
    },
    {
     "name": "stdout",
     "output_type": "stream",
     "text": [
      "1143628\n",
      "humidity: 50.0\n",
      " pressure: 10000.0\n",
      " temperature: 300.0\n",
      " lat: 32.78000000000001\n",
      " elevation: 2.797999999999601\n",
      " freqmin(cm-1): 11098.779134295226\n",
      " freqmax(cm-1): 14265.33523537803\n",
      " angle: 4.6273790635876395\n",
      "\n",
      "\n",
      "Running exec: lblrtm\n",
      "\n",
      "\n"
     ]
    },
    {
     "name": "stderr",
     "output_type": "stream",
     "text": [
      "Note: The following floating-point exceptions are signalling: IEEE_INVALID_FLAG IEEE_UNDERFLOW_FLAG IEEE_DENORMAL\n",
      "STOP  LBLRTM EXIT \n",
      "2.12user 1.13system 0:03.50elapsed 93%CPU (0avgtext+0avgdata 7624maxresident)k\n",
      "0inputs+0outputs (0major+1233minor)pagefaults 0swaps\n"
     ]
    },
    {
     "name": "stdout",
     "output_type": "stream",
     "text": [
      "\n",
      "Running exec: lblrtm\n",
      "\n",
      "\n"
     ]
    },
    {
     "name": "stderr",
     "output_type": "stream",
     "text": [
      "Note: The following floating-point exceptions are signalling: IEEE_INVALID_FLAG IEEE_UNDERFLOW_FLAG IEEE_DENORMAL\n",
      "STOP  LBLRTM EXIT \n",
      "0.93user 0.98system 0:01.99elapsed 96%CPU (0avgtext+0avgdata 7720maxresident)k\n",
      "0inputs+0outputs (0major+1237minor)pagefaults 0swaps\n"
     ]
    },
    {
     "name": "stdout",
     "output_type": "stream",
     "text": [
      "1143628\n",
      "humidity: 50.0\n",
      " pressure: 10000.0\n",
      " temperature: 300.0\n",
      " lat: 32.78000000000001\n",
      " elevation: 2.797999999999601\n",
      " freqmin(cm-1): 11098.779134295226\n",
      " freqmax(cm-1): 14265.33523537803\n",
      " angle: 11.404396925323324\n",
      "\n",
      "\n",
      "Running exec: lblrtm\n",
      "\n",
      "\n"
     ]
    },
    {
     "name": "stderr",
     "output_type": "stream",
     "text": [
      "Note: The following floating-point exceptions are signalling: IEEE_INVALID_FLAG IEEE_UNDERFLOW_FLAG IEEE_DENORMAL\n",
      "STOP  LBLRTM EXIT \n",
      "2.11user 1.13system 0:03.46elapsed 93%CPU (0avgtext+0avgdata 7720maxresident)k\n",
      "0inputs+0outputs (0major+1234minor)pagefaults 0swaps\n"
     ]
    },
    {
     "name": "stdout",
     "output_type": "stream",
     "text": [
      "\n",
      "Running exec: lblrtm\n",
      "\n",
      "\n"
     ]
    },
    {
     "name": "stderr",
     "output_type": "stream",
     "text": [
      "Note: The following floating-point exceptions are signalling: IEEE_INVALID_FLAG IEEE_UNDERFLOW_FLAG IEEE_DENORMAL\n",
      "STOP  LBLRTM EXIT \n",
      "0.92user 0.99system 0:01.99elapsed 95%CPU (0avgtext+0avgdata 7720maxresident)k\n",
      "0inputs+0outputs (0major+1234minor)pagefaults 0swaps\n"
     ]
    },
    {
     "name": "stdout",
     "output_type": "stream",
     "text": [
      "1143628\n",
      "humidity: 50.0\n",
      " pressure: 10000.0\n",
      " temperature: 300.0\n",
      " lat: 32.78000000000001\n",
      " elevation: 2.797999999999601\n",
      " freqmin(cm-1): 11098.779134295226\n",
      " freqmax(cm-1): 14265.33523537803\n",
      " angle: 54.85857323188904\n",
      "\n",
      "\n",
      "Running exec: lblrtm\n",
      "\n",
      "\n"
     ]
    },
    {
     "name": "stderr",
     "output_type": "stream",
     "text": [
      "Note: The following floating-point exceptions are signalling: IEEE_INVALID_FLAG IEEE_UNDERFLOW_FLAG IEEE_DENORMAL\n",
      "STOP  LBLRTM EXIT \n",
      "2.15user 1.09system 0:03.44elapsed 94%CPU (0avgtext+0avgdata 7628maxresident)k\n",
      "0inputs+0outputs (0major+1233minor)pagefaults 0swaps\n"
     ]
    },
    {
     "name": "stdout",
     "output_type": "stream",
     "text": [
      "\n",
      "Running exec: lblrtm\n",
      "\n",
      "\n"
     ]
    },
    {
     "name": "stderr",
     "output_type": "stream",
     "text": [
      "Note: The following floating-point exceptions are signalling: IEEE_INVALID_FLAG IEEE_UNDERFLOW_FLAG IEEE_DENORMAL\n",
      "STOP  LBLRTM EXIT \n",
      "0.90user 0.99system 0:02.01elapsed 93%CPU (0avgtext+0avgdata 7688maxresident)k\n",
      "0inputs+0outputs (0major+1236minor)pagefaults 0swaps\n"
     ]
    },
    {
     "name": "stdout",
     "output_type": "stream",
     "text": [
      "1111626\n",
      "humidity: 50.0\n",
      " pressure: 10000.0\n",
      " temperature: 300.0\n",
      " lat: 32.78000000000001\n",
      " elevation: 2.797999999999601\n",
      " freqmin(cm-1): 11098.779134295226\n",
      " freqmax(cm-1): 14265.33523537803\n",
      " angle: 27.82399986133828\n",
      "\n",
      "\n",
      "Running exec: lblrtm\n",
      "\n",
      "\n"
     ]
    },
    {
     "name": "stderr",
     "output_type": "stream",
     "text": [
      "Note: The following floating-point exceptions are signalling: IEEE_INVALID_FLAG IEEE_UNDERFLOW_FLAG IEEE_DENORMAL\n",
      "STOP  LBLRTM EXIT \n",
      "2.11user 1.15system 0:03.39elapsed 96%CPU (0avgtext+0avgdata 7732maxresident)k\n",
      "0inputs+0outputs (0major+1237minor)pagefaults 0swaps\n"
     ]
    },
    {
     "name": "stdout",
     "output_type": "stream",
     "text": [
      "\n",
      "Running exec: lblrtm\n",
      "\n",
      "\n"
     ]
    },
    {
     "name": "stderr",
     "output_type": "stream",
     "text": [
      "Note: The following floating-point exceptions are signalling: IEEE_INVALID_FLAG IEEE_UNDERFLOW_FLAG IEEE_DENORMAL\n",
      "STOP  LBLRTM EXIT \n",
      "0.92user 0.98system 0:02.18elapsed 87%CPU (0avgtext+0avgdata 7560maxresident)k\n",
      "0inputs+0outputs (0major+1233minor)pagefaults 0swaps\n"
     ]
    },
    {
     "name": "stdout",
     "output_type": "stream",
     "text": [
      "1143628\n",
      "humidity: 50.0\n",
      " pressure: 10000.0\n",
      " temperature: 300.0\n",
      " lat: 32.78000000000001\n",
      " elevation: 2.797999999999601\n",
      " freqmin(cm-1): 11098.779134295226\n",
      " freqmax(cm-1): 14265.33523537803\n",
      " angle: 32.81380139483823\n",
      "\n",
      "\n",
      "Running exec: lblrtm\n",
      "\n",
      "\n"
     ]
    },
    {
     "name": "stderr",
     "output_type": "stream",
     "text": [
      "Note: The following floating-point exceptions are signalling: IEEE_INVALID_FLAG IEEE_UNDERFLOW_FLAG IEEE_DENORMAL\n",
      "STOP  LBLRTM EXIT \n",
      "2.17user 1.09system 0:03.45elapsed 94%CPU (0avgtext+0avgdata 7696maxresident)k\n",
      "0inputs+0outputs (0major+1236minor)pagefaults 0swaps\n"
     ]
    },
    {
     "name": "stdout",
     "output_type": "stream",
     "text": [
      "\n",
      "Running exec: lblrtm\n",
      "\n",
      "\n"
     ]
    },
    {
     "name": "stderr",
     "output_type": "stream",
     "text": [
      "Note: The following floating-point exceptions are signalling: IEEE_INVALID_FLAG IEEE_UNDERFLOW_FLAG IEEE_DENORMAL\n",
      "STOP  LBLRTM EXIT \n",
      "0.90user 1.01system 0:01.99elapsed 96%CPU (0avgtext+0avgdata 7752maxresident)k\n",
      "0inputs+0outputs (0major+1237minor)pagefaults 0swaps\n"
     ]
    },
    {
     "name": "stdout",
     "output_type": "stream",
     "text": [
      "1143628\n",
      "humidity: 50.0\n",
      " pressure: 10000.0\n",
      " temperature: 300.0\n",
      " lat: 32.78000000000001\n",
      " elevation: 2.797999999999601\n",
      " freqmin(cm-1): 11098.779134295226\n",
      " freqmax(cm-1): 14265.33523537803\n",
      " angle: 5.685228205863384\n",
      "\n",
      "\n",
      "Running exec: lblrtm\n",
      "\n",
      "\n"
     ]
    },
    {
     "name": "stderr",
     "output_type": "stream",
     "text": [
      "Note: The following floating-point exceptions are signalling: IEEE_INVALID_FLAG IEEE_UNDERFLOW_FLAG IEEE_DENORMAL\n",
      "STOP  LBLRTM EXIT \n",
      "2.13user 1.12system 0:03.52elapsed 92%CPU (0avgtext+0avgdata 7672maxresident)k\n",
      "0inputs+0outputs (0major+1234minor)pagefaults 0swaps\n"
     ]
    },
    {
     "name": "stdout",
     "output_type": "stream",
     "text": [
      "\n",
      "Running exec: lblrtm\n",
      "\n",
      "\n"
     ]
    },
    {
     "name": "stderr",
     "output_type": "stream",
     "text": [
      "Note: The following floating-point exceptions are signalling: IEEE_INVALID_FLAG IEEE_UNDERFLOW_FLAG IEEE_DENORMAL\n",
      "STOP  LBLRTM EXIT \n",
      "0.92user 0.99system 0:02.00elapsed 95%CPU (0avgtext+0avgdata 7552maxresident)k\n",
      "0inputs+0outputs (0major+1233minor)pagefaults 0swaps\n"
     ]
    },
    {
     "name": "stdout",
     "output_type": "stream",
     "text": [
      "1143628\n",
      "humidity: 50.0\n",
      " pressure: 10000.0\n",
      " temperature: 300.0\n",
      " lat: 32.78000000000001\n",
      " elevation: 2.797999999999601\n",
      " freqmin(cm-1): 11098.779134295226\n",
      " freqmax(cm-1): 14265.33523537803\n",
      " angle: 50.422615509223334\n",
      "\n",
      "\n",
      "Running exec: lblrtm\n",
      "\n",
      "\n"
     ]
    },
    {
     "name": "stderr",
     "output_type": "stream",
     "text": [
      "Note: The following floating-point exceptions are signalling: IEEE_INVALID_FLAG IEEE_UNDERFLOW_FLAG IEEE_DENORMAL\n",
      "STOP  LBLRTM EXIT \n",
      "2.15user 1.11system 0:03.43elapsed 95%CPU (0avgtext+0avgdata 7712maxresident)k\n",
      "0inputs+0outputs (0major+1236minor)pagefaults 0swaps\n"
     ]
    },
    {
     "name": "stdout",
     "output_type": "stream",
     "text": [
      "\n",
      "Running exec: lblrtm\n",
      "\n",
      "\n"
     ]
    },
    {
     "name": "stderr",
     "output_type": "stream",
     "text": [
      "Note: The following floating-point exceptions are signalling: IEEE_INVALID_FLAG IEEE_UNDERFLOW_FLAG IEEE_DENORMAL\n",
      "STOP  LBLRTM EXIT \n",
      "0.90user 1.02system 0:02.04elapsed 94%CPU (0avgtext+0avgdata 7732maxresident)k\n",
      "0inputs+0outputs (0major+1236minor)pagefaults 0swaps\n"
     ]
    },
    {
     "name": "stdout",
     "output_type": "stream",
     "text": [
      "1143628\n",
      "humidity: 50.0\n",
      " pressure: 10000.0\n",
      " temperature: 300.0\n",
      " lat: 32.78000000000001\n",
      " elevation: 2.797999999999601\n",
      " freqmin(cm-1): 11098.779134295226\n",
      " freqmax(cm-1): 14265.33523537803\n",
      " angle: 66.89041188034572\n",
      "\n",
      "\n",
      "Running exec: lblrtm\n",
      "\n",
      "\n"
     ]
    },
    {
     "name": "stderr",
     "output_type": "stream",
     "text": [
      "Note: The following floating-point exceptions are signalling: IEEE_INVALID_FLAG IEEE_UNDERFLOW_FLAG IEEE_DENORMAL\n",
      "STOP  LBLRTM EXIT \n",
      "2.17user 1.13system 0:03.83elapsed 86%CPU (0avgtext+0avgdata 7684maxresident)k\n",
      "0inputs+0outputs (0major+1237minor)pagefaults 0swaps\n"
     ]
    },
    {
     "name": "stdout",
     "output_type": "stream",
     "text": [
      "\n",
      "Running exec: lblrtm\n",
      "\n",
      "\n"
     ]
    },
    {
     "name": "stderr",
     "output_type": "stream",
     "text": [
      "Note: The following floating-point exceptions are signalling: IEEE_INVALID_FLAG IEEE_UNDERFLOW_FLAG IEEE_DENORMAL\n",
      "STOP  LBLRTM EXIT \n",
      "0.91user 1.01system 0:02.10elapsed 91%CPU (0avgtext+0avgdata 7748maxresident)k\n",
      "0inputs+0outputs (0major+1234minor)pagefaults 0swaps\n"
     ]
    },
    {
     "name": "stdout",
     "output_type": "stream",
     "text": [
      "1143628\n",
      "humidity: 50.0\n",
      " pressure: 10000.0\n",
      " temperature: 300.0\n",
      " lat: 32.78000000000001\n",
      " elevation: 2.797999999999601\n",
      " freqmin(cm-1): 11098.779134295226\n",
      " freqmax(cm-1): 14265.33523537803\n",
      " angle: 65.6425420077903\n",
      "\n",
      "\n",
      "Running exec: lblrtm\n",
      "\n",
      "\n"
     ]
    },
    {
     "name": "stderr",
     "output_type": "stream",
     "text": [
      "Note: The following floating-point exceptions are signalling: IEEE_INVALID_FLAG IEEE_UNDERFLOW_FLAG IEEE_DENORMAL\n",
      "STOP  LBLRTM EXIT \n",
      "2.14user 1.13system 0:03.50elapsed 93%CPU (0avgtext+0avgdata 7732maxresident)k\n",
      "0inputs+0outputs (0major+1237minor)pagefaults 0swaps\n"
     ]
    },
    {
     "name": "stdout",
     "output_type": "stream",
     "text": [
      "\n",
      "Running exec: lblrtm\n",
      "\n",
      "\n"
     ]
    },
    {
     "name": "stderr",
     "output_type": "stream",
     "text": [
      "Note: The following floating-point exceptions are signalling: IEEE_INVALID_FLAG IEEE_UNDERFLOW_FLAG IEEE_DENORMAL\n",
      "STOP  LBLRTM EXIT \n",
      "0.92user 1.01system 0:02.06elapsed 94%CPU (0avgtext+0avgdata 7720maxresident)k\n",
      "0inputs+0outputs (0major+1237minor)pagefaults 0swaps\n"
     ]
    },
    {
     "name": "stdout",
     "output_type": "stream",
     "text": [
      "1143628\n",
      "humidity: 50.0\n",
      " pressure: 10000.0\n",
      " temperature: 300.0\n",
      " lat: 32.78000000000001\n",
      " elevation: 2.797999999999601\n",
      " freqmin(cm-1): 11098.779134295226\n",
      " freqmax(cm-1): 14265.33523537803\n",
      " angle: 4.244341434002005\n",
      "\n",
      "\n",
      "Running exec: lblrtm\n",
      "\n",
      "\n"
     ]
    },
    {
     "name": "stderr",
     "output_type": "stream",
     "text": [
      "Note: The following floating-point exceptions are signalling: IEEE_INVALID_FLAG IEEE_UNDERFLOW_FLAG IEEE_DENORMAL\n",
      "STOP  LBLRTM EXIT \n",
      "2.13user 1.11system 0:03.44elapsed 94%CPU (0avgtext+0avgdata 7720maxresident)k\n",
      "0inputs+0outputs (0major+1234minor)pagefaults 0swaps\n"
     ]
    },
    {
     "name": "stdout",
     "output_type": "stream",
     "text": [
      "\n",
      "Running exec: lblrtm\n",
      "\n",
      "\n"
     ]
    },
    {
     "name": "stderr",
     "output_type": "stream",
     "text": [
      "Note: The following floating-point exceptions are signalling: IEEE_INVALID_FLAG IEEE_UNDERFLOW_FLAG IEEE_DENORMAL\n",
      "STOP  LBLRTM EXIT \n",
      "0.89user 1.02system 0:02.02elapsed 95%CPU (0avgtext+0avgdata 7748maxresident)k\n",
      "0inputs+0outputs (0major+1238minor)pagefaults 0swaps\n"
     ]
    },
    {
     "name": "stdout",
     "output_type": "stream",
     "text": [
      "1143628\n",
      "humidity: 50.0\n",
      " pressure: 10000.0\n",
      " temperature: 300.0\n",
      " lat: 32.78000000000001\n",
      " elevation: 2.797999999999601\n",
      " freqmin(cm-1): 11098.779134295226\n",
      " freqmax(cm-1): 14265.33523537803\n",
      " angle: 25.73402125733466\n",
      "\n",
      "\n",
      "Running exec: lblrtm\n",
      "\n",
      "\n"
     ]
    },
    {
     "name": "stderr",
     "output_type": "stream",
     "text": [
      "Note: The following floating-point exceptions are signalling: IEEE_INVALID_FLAG IEEE_UNDERFLOW_FLAG IEEE_DENORMAL\n",
      "STOP  LBLRTM EXIT \n",
      "2.13user 1.12system 0:03.48elapsed 93%CPU (0avgtext+0avgdata 7792maxresident)k\n",
      "0inputs+0outputs (0major+1237minor)pagefaults 0swaps\n"
     ]
    },
    {
     "name": "stdout",
     "output_type": "stream",
     "text": [
      "\n",
      "Running exec: lblrtm\n",
      "\n",
      "\n"
     ]
    },
    {
     "name": "stderr",
     "output_type": "stream",
     "text": [
      "Note: The following floating-point exceptions are signalling: IEEE_INVALID_FLAG IEEE_UNDERFLOW_FLAG IEEE_DENORMAL\n",
      "STOP  LBLRTM EXIT \n",
      "0.90user 1.02system 0:02.02elapsed 95%CPU (0avgtext+0avgdata 7716maxresident)k\n",
      "0inputs+0outputs (0major+1237minor)pagefaults 0swaps\n"
     ]
    },
    {
     "name": "stdout",
     "output_type": "stream",
     "text": [
      "1143628\n",
      "humidity: 50.0\n",
      " pressure: 10000.0\n",
      " temperature: 300.0\n",
      " lat: 32.78000000000001\n",
      " elevation: 2.797999999999601\n",
      " freqmin(cm-1): 11098.779134295226\n",
      " freqmax(cm-1): 14265.33523537803\n",
      " angle: 41.82411679419448\n",
      "\n",
      "\n",
      "Running exec: lblrtm\n",
      "\n",
      "\n"
     ]
    },
    {
     "name": "stderr",
     "output_type": "stream",
     "text": [
      "Note: The following floating-point exceptions are signalling: IEEE_INVALID_FLAG IEEE_UNDERFLOW_FLAG IEEE_DENORMAL\n",
      "STOP  LBLRTM EXIT \n",
      "2.12user 1.14system 0:03.48elapsed 93%CPU (0avgtext+0avgdata 7792maxresident)k\n",
      "0inputs+0outputs (0major+1238minor)pagefaults 0swaps\n"
     ]
    },
    {
     "name": "stdout",
     "output_type": "stream",
     "text": [
      "\n",
      "Running exec: lblrtm\n",
      "\n",
      "\n"
     ]
    },
    {
     "name": "stderr",
     "output_type": "stream",
     "text": [
      "Note: The following floating-point exceptions are signalling: IEEE_INVALID_FLAG IEEE_UNDERFLOW_FLAG IEEE_DENORMAL\n",
      "STOP  LBLRTM EXIT \n",
      "0.90user 1.02system 0:02.06elapsed 93%CPU (0avgtext+0avgdata 7636maxresident)k\n",
      "0inputs+0outputs (0major+1235minor)pagefaults 0swaps\n"
     ]
    },
    {
     "name": "stdout",
     "output_type": "stream",
     "text": [
      "1143628\n",
      "humidity: 50.0\n",
      " pressure: 10000.0\n",
      " temperature: 300.0\n",
      " lat: 32.78000000000001\n",
      " elevation: 2.797999999999601\n",
      " freqmin(cm-1): 11098.779134295226\n",
      " freqmax(cm-1): 14265.33523537803\n",
      " angle: 19.147041951230698\n",
      "\n",
      "\n",
      "Running exec: lblrtm\n",
      "\n",
      "\n"
     ]
    },
    {
     "name": "stderr",
     "output_type": "stream",
     "text": [
      "Note: The following floating-point exceptions are signalling: IEEE_INVALID_FLAG IEEE_UNDERFLOW_FLAG IEEE_DENORMAL\n",
      "STOP  LBLRTM EXIT \n",
      "2.10user 1.14system 0:03.62elapsed 89%CPU (0avgtext+0avgdata 7612maxresident)k\n",
      "0inputs+0outputs (0major+1232minor)pagefaults 0swaps\n"
     ]
    },
    {
     "name": "stdout",
     "output_type": "stream",
     "text": [
      "\n",
      "Running exec: lblrtm\n",
      "\n",
      "\n"
     ]
    },
    {
     "name": "stderr",
     "output_type": "stream",
     "text": [
      "Note: The following floating-point exceptions are signalling: IEEE_INVALID_FLAG IEEE_UNDERFLOW_FLAG IEEE_DENORMAL\n",
      "STOP  LBLRTM EXIT \n",
      "0.91user 1.00system 0:02.03elapsed 94%CPU (0avgtext+0avgdata 7732maxresident)k\n",
      "0inputs+0outputs (0major+1236minor)pagefaults 0swaps\n"
     ]
    },
    {
     "name": "stdout",
     "output_type": "stream",
     "text": [
      "1143628\n",
      "humidity: 50.0\n",
      " pressure: 10000.0\n",
      " temperature: 300.0\n",
      " lat: 32.78000000000001\n",
      " elevation: 2.797999999999601\n",
      " freqmin(cm-1): 11098.779134295226\n",
      " freqmax(cm-1): 14265.33523537803\n",
      " angle: 38.23670948006227\n",
      "\n",
      "\n",
      "Running exec: lblrtm\n",
      "\n",
      "\n"
     ]
    },
    {
     "name": "stderr",
     "output_type": "stream",
     "text": [
      "Note: The following floating-point exceptions are signalling: IEEE_INVALID_FLAG IEEE_UNDERFLOW_FLAG IEEE_DENORMAL\n",
      "STOP  LBLRTM EXIT \n",
      "2.13user 1.13system 0:03.44elapsed 94%CPU (0avgtext+0avgdata 7752maxresident)k\n",
      "0inputs+0outputs (0major+1237minor)pagefaults 0swaps\n"
     ]
    },
    {
     "name": "stdout",
     "output_type": "stream",
     "text": [
      "\n",
      "Running exec: lblrtm\n",
      "\n",
      "\n"
     ]
    },
    {
     "name": "stderr",
     "output_type": "stream",
     "text": [
      "Note: The following floating-point exceptions are signalling: IEEE_INVALID_FLAG IEEE_UNDERFLOW_FLAG IEEE_DENORMAL\n",
      "STOP  LBLRTM EXIT \n",
      "0.91user 1.00system 0:02.00elapsed 96%CPU (0avgtext+0avgdata 7684maxresident)k\n",
      "0inputs+0outputs (0major+1237minor)pagefaults 0swaps\n"
     ]
    },
    {
     "name": "stdout",
     "output_type": "stream",
     "text": [
      "1143628\n",
      "humidity: 50.0\n",
      " pressure: 10000.0\n",
      " temperature: 300.0\n",
      " lat: 32.78000000000001\n",
      " elevation: 2.797999999999601\n",
      " freqmin(cm-1): 11098.779134295226\n",
      " freqmax(cm-1): 14265.33523537803\n",
      " angle: 47.73236591064268\n",
      "\n",
      "\n",
      "Running exec: lblrtm\n",
      "\n",
      "\n"
     ]
    },
    {
     "name": "stderr",
     "output_type": "stream",
     "text": [
      "Note: The following floating-point exceptions are signalling: IEEE_INVALID_FLAG IEEE_UNDERFLOW_FLAG IEEE_DENORMAL\n",
      "STOP  LBLRTM EXIT \n",
      "2.16user 1.11system 0:03.60elapsed 90%CPU (0avgtext+0avgdata 7720maxresident)k\n",
      "0inputs+0outputs (0major+1234minor)pagefaults 0swaps\n"
     ]
    },
    {
     "name": "stdout",
     "output_type": "stream",
     "text": [
      "\n",
      "Running exec: lblrtm\n",
      "\n",
      "\n"
     ]
    },
    {
     "name": "stderr",
     "output_type": "stream",
     "text": [
      "Note: The following floating-point exceptions are signalling: IEEE_INVALID_FLAG IEEE_UNDERFLOW_FLAG IEEE_DENORMAL\n",
      "STOP  LBLRTM EXIT \n",
      "0.92user 1.00system 0:02.03elapsed 94%CPU (0avgtext+0avgdata 7744maxresident)k\n",
      "0inputs+0outputs (0major+1234minor)pagefaults 0swaps\n"
     ]
    },
    {
     "name": "stdout",
     "output_type": "stream",
     "text": [
      "1143628\n",
      "humidity: 50.0\n",
      " pressure: 10000.0\n",
      " temperature: 300.0\n",
      " lat: 32.78000000000001\n",
      " elevation: 2.797999999999601\n",
      " freqmin(cm-1): 11098.779134295226\n",
      " freqmax(cm-1): 14265.33523537803\n",
      " angle: 42.79961082627774\n",
      "\n",
      "\n",
      "Running exec: lblrtm\n",
      "\n",
      "\n"
     ]
    },
    {
     "name": "stderr",
     "output_type": "stream",
     "text": [
      "Note: The following floating-point exceptions are signalling: IEEE_INVALID_FLAG IEEE_UNDERFLOW_FLAG IEEE_DENORMAL\n",
      "STOP  LBLRTM EXIT \n",
      "2.14user 1.12system 0:03.49elapsed 93%CPU (0avgtext+0avgdata 7720maxresident)k\n",
      "0inputs+0outputs (0major+1237minor)pagefaults 0swaps\n"
     ]
    },
    {
     "name": "stdout",
     "output_type": "stream",
     "text": [
      "\n",
      "Running exec: lblrtm\n",
      "\n",
      "\n"
     ]
    },
    {
     "name": "stderr",
     "output_type": "stream",
     "text": [
      "Note: The following floating-point exceptions are signalling: IEEE_INVALID_FLAG IEEE_UNDERFLOW_FLAG IEEE_DENORMAL\n",
      "STOP  LBLRTM EXIT \n",
      "0.94user 0.98system 0:02.08elapsed 92%CPU (0avgtext+0avgdata 7552maxresident)k\n",
      "0inputs+0outputs (0major+1233minor)pagefaults 0swaps\n"
     ]
    },
    {
     "name": "stdout",
     "output_type": "stream",
     "text": [
      "1143628\n",
      "humidity: 50.0\n",
      " pressure: 10000.0\n",
      " temperature: 300.0\n",
      " lat: 32.78000000000001\n",
      " elevation: 2.797999999999601\n",
      " freqmin(cm-1): 11098.779134295226\n",
      " freqmax(cm-1): 14265.33523537803\n",
      " angle: 44.62927519288961\n",
      "\n",
      "\n",
      "Running exec: lblrtm\n",
      "\n",
      "\n"
     ]
    },
    {
     "name": "stderr",
     "output_type": "stream",
     "text": [
      "Note: The following floating-point exceptions are signalling: IEEE_INVALID_FLAG IEEE_UNDERFLOW_FLAG IEEE_DENORMAL\n",
      "STOP  LBLRTM EXIT \n",
      "2.18user 1.08system 0:03.43elapsed 95%CPU (0avgtext+0avgdata 7672maxresident)k\n",
      "0inputs+0outputs (0major+1234minor)pagefaults 0swaps\n"
     ]
    },
    {
     "name": "stdout",
     "output_type": "stream",
     "text": [
      "\n",
      "Running exec: lblrtm\n",
      "\n",
      "\n"
     ]
    },
    {
     "name": "stderr",
     "output_type": "stream",
     "text": [
      "Note: The following floating-point exceptions are signalling: IEEE_INVALID_FLAG IEEE_UNDERFLOW_FLAG IEEE_DENORMAL\n",
      "STOP  LBLRTM EXIT \n",
      "0.90user 1.04system 0:02.09elapsed 92%CPU (0avgtext+0avgdata 7700maxresident)k\n",
      "0inputs+0outputs (0major+1235minor)pagefaults 0swaps\n"
     ]
    },
    {
     "name": "stdout",
     "output_type": "stream",
     "text": [
      "1143628\n",
      "humidity: 50.0\n",
      " pressure: 10000.0\n",
      " temperature: 300.0\n",
      " lat: 32.78000000000001\n",
      " elevation: 2.797999999999601\n",
      " freqmin(cm-1): 11098.779134295226\n",
      " freqmax(cm-1): 14265.33523537803\n",
      " angle: 31.567632273477905\n",
      "\n",
      "\n",
      "Running exec: lblrtm\n",
      "\n",
      "\n"
     ]
    },
    {
     "name": "stderr",
     "output_type": "stream",
     "text": [
      "Note: The following floating-point exceptions are signalling: IEEE_INVALID_FLAG IEEE_UNDERFLOW_FLAG IEEE_DENORMAL\n",
      "STOP  LBLRTM EXIT \n",
      "2.13user 1.12system 0:03.46elapsed 93%CPU (0avgtext+0avgdata 7792maxresident)k\n",
      "0inputs+0outputs (0major+1238minor)pagefaults 0swaps\n"
     ]
    },
    {
     "name": "stdout",
     "output_type": "stream",
     "text": [
      "\n",
      "Running exec: lblrtm\n",
      "\n",
      "\n"
     ]
    },
    {
     "name": "stderr",
     "output_type": "stream",
     "text": [
      "Note: The following floating-point exceptions are signalling: IEEE_INVALID_FLAG IEEE_UNDERFLOW_FLAG IEEE_DENORMAL\n",
      "STOP  LBLRTM EXIT \n",
      "0.90user 1.01system 0:02.03elapsed 94%CPU (0avgtext+0avgdata 7720maxresident)k\n",
      "0inputs+0outputs (0major+1234minor)pagefaults 0swaps\n"
     ]
    },
    {
     "name": "stdout",
     "output_type": "stream",
     "text": [
      "1143628\n",
      "humidity: 50.0\n",
      " pressure: 10000.0\n",
      " temperature: 300.0\n",
      " lat: 32.78000000000001\n",
      " elevation: 2.797999999999601\n",
      " freqmin(cm-1): 11098.779134295226\n",
      " freqmax(cm-1): 14265.33523537803\n",
      " angle: 44.219986042892295\n",
      "\n",
      "\n",
      "Running exec: lblrtm\n",
      "\n",
      "\n"
     ]
    },
    {
     "name": "stderr",
     "output_type": "stream",
     "text": [
      "Note: The following floating-point exceptions are signalling: IEEE_INVALID_FLAG IEEE_UNDERFLOW_FLAG IEEE_DENORMAL\n",
      "STOP  LBLRTM EXIT \n",
      "2.15user 1.11system 0:03.73elapsed 87%CPU (0avgtext+0avgdata 7556maxresident)k\n",
      "0inputs+0outputs (0major+1232minor)pagefaults 0swaps\n"
     ]
    },
    {
     "name": "stdout",
     "output_type": "stream",
     "text": [
      "\n",
      "Running exec: lblrtm\n",
      "\n",
      "\n"
     ]
    },
    {
     "name": "stderr",
     "output_type": "stream",
     "text": [
      "Note: The following floating-point exceptions are signalling: IEEE_INVALID_FLAG IEEE_UNDERFLOW_FLAG IEEE_DENORMAL\n",
      "STOP  LBLRTM EXIT \n",
      "0.93user 0.99system 0:02.00elapsed 96%CPU (0avgtext+0avgdata 7672maxresident)k\n",
      "0inputs+0outputs (0major+1233minor)pagefaults 0swaps\n"
     ]
    },
    {
     "name": "stdout",
     "output_type": "stream",
     "text": [
      "1143628\n",
      "humidity: 50.0\n",
      " pressure: 10000.0\n",
      " temperature: 300.0\n",
      " lat: 32.78000000000001\n",
      " elevation: 2.797999999999601\n",
      " freqmin(cm-1): 11098.779134295226\n",
      " freqmax(cm-1): 14265.33523537803\n",
      " angle: 55.209073951412215\n",
      "\n",
      "\n",
      "Running exec: lblrtm\n",
      "\n",
      "\n"
     ]
    },
    {
     "name": "stderr",
     "output_type": "stream",
     "text": [
      "Note: The following floating-point exceptions are signalling: IEEE_INVALID_FLAG IEEE_UNDERFLOW_FLAG IEEE_DENORMAL\n",
      "STOP  LBLRTM EXIT \n",
      "2.14user 1.08system 0:03.41elapsed 94%CPU (0avgtext+0avgdata 7628maxresident)k\n",
      "0inputs+0outputs (0major+1233minor)pagefaults 0swaps\n"
     ]
    },
    {
     "name": "stdout",
     "output_type": "stream",
     "text": [
      "\n",
      "Running exec: lblrtm\n",
      "\n",
      "\n",
      "\n",
      "Running exec: lblrtm\n",
      "\n",
      "\n"
     ]
    },
    {
     "name": "stderr",
     "output_type": "stream",
     "text": [
      "Note: The following floating-point exceptions are signalling: IEEE_INVALID_FLAG IEEE_UNDERFLOW_FLAG IEEE_DENORMAL\n",
      "STOP  LBLRTM EXIT \n",
      "2.20user 1.06system 0:03.43elapsed 95%CPU (0avgtext+0avgdata 7788maxresident)k\n",
      "0inputs+0outputs (0major+1238minor)pagefaults 0swaps\n"
     ]
    },
    {
     "name": "stdout",
     "output_type": "stream",
     "text": [
      "\n",
      "Running exec: lblrtm\n",
      "\n",
      "\n"
     ]
    },
    {
     "name": "stderr",
     "output_type": "stream",
     "text": [
      "Note: The following floating-point exceptions are signalling: IEEE_INVALID_FLAG IEEE_UNDERFLOW_FLAG IEEE_DENORMAL\n",
      "STOP  LBLRTM EXIT \n",
      "0.92user 1.00system 0:02.02elapsed 95%CPU (0avgtext+0avgdata 7748maxresident)k\n",
      "0inputs+0outputs (0major+1234minor)pagefaults 0swaps\n"
     ]
    },
    {
     "name": "stdout",
     "output_type": "stream",
     "text": [
      "1143628\n",
      "humidity: 50.0\n",
      " pressure: 10000.0\n",
      " temperature: 300.0\n",
      " lat: 32.78000000000001\n",
      " elevation: 2.797999999999601\n",
      " freqmin(cm-1): 11098.779134295226\n",
      " freqmax(cm-1): 14265.33523537803\n",
      " angle: 70.36083125348077\n",
      "\n",
      "\n",
      "Running exec: lblrtm\n",
      "\n",
      "\n"
     ]
    },
    {
     "name": "stderr",
     "output_type": "stream",
     "text": [
      "Note: The following floating-point exceptions are signalling: IEEE_INVALID_FLAG IEEE_UNDERFLOW_FLAG IEEE_DENORMAL\n",
      "STOP  LBLRTM EXIT \n",
      "2.19user 1.11system 0:03.56elapsed 92%CPU (0avgtext+0avgdata 7708maxresident)k\n",
      "0inputs+0outputs (0major+1237minor)pagefaults 0swaps\n"
     ]
    },
    {
     "name": "stdout",
     "output_type": "stream",
     "text": [
      "\n",
      "Running exec: lblrtm\n",
      "\n",
      "\n"
     ]
    },
    {
     "name": "stderr",
     "output_type": "stream",
     "text": [
      "Note: The following floating-point exceptions are signalling: IEEE_INVALID_FLAG IEEE_UNDERFLOW_FLAG IEEE_DENORMAL\n",
      "STOP  LBLRTM EXIT \n",
      "0.93user 1.00system 0:02.01elapsed 96%CPU (0avgtext+0avgdata 7556maxresident)k\n",
      "0inputs+0outputs (0major+1234minor)pagefaults 0swaps\n"
     ]
    },
    {
     "name": "stdout",
     "output_type": "stream",
     "text": [
      "1143628\n",
      "humidity: 50.0\n",
      " pressure: 10000.0\n",
      " temperature: 300.0\n",
      " lat: 32.78000000000001\n",
      " elevation: 2.797999999999601\n",
      " freqmin(cm-1): 11098.779134295226\n",
      " freqmax(cm-1): 14265.33523537803\n",
      " angle: 5.621114858253093\n",
      "\n",
      "\n",
      "Running exec: lblrtm\n",
      "\n",
      "\n"
     ]
    },
    {
     "name": "stderr",
     "output_type": "stream",
     "text": [
      "Note: The following floating-point exceptions are signalling: IEEE_INVALID_FLAG IEEE_UNDERFLOW_FLAG IEEE_DENORMAL\n",
      "STOP  LBLRTM EXIT \n",
      "2.15user 1.11system 0:03.55elapsed 92%CPU (0avgtext+0avgdata 7752maxresident)k\n",
      "0inputs+0outputs (0major+1237minor)pagefaults 0swaps\n"
     ]
    },
    {
     "name": "stdout",
     "output_type": "stream",
     "text": [
      "\n",
      "Running exec: lblrtm\n",
      "\n",
      "\n"
     ]
    },
    {
     "name": "stderr",
     "output_type": "stream",
     "text": [
      "Note: The following floating-point exceptions are signalling: IEEE_INVALID_FLAG IEEE_UNDERFLOW_FLAG IEEE_DENORMAL\n",
      "STOP  LBLRTM EXIT \n",
      "0.94user 0.98system 0:02.05elapsed 94%CPU (0avgtext+0avgdata 7624maxresident)k\n",
      "0inputs+0outputs (0major+1233minor)pagefaults 0swaps\n"
     ]
    },
    {
     "name": "stdout",
     "output_type": "stream",
     "text": [
      "1143628\n",
      "<simulacra.tellurics.TelFitModel object at 0x145c0d5fc9b0> [1.6178939077349241e-06, 2.1907587743896784e-07, 2.1907587743896784e-07, 2.1907587743896784e-07, 2.1907587743896784e-07, 2.2146180711501984e-07, 2.2147022882279543e-07, 2.1907587743896784e-07, 2.1907587743896784e-07, 2.1907587743896784e-07, 2.2717149938955572e-07, 2.1907587743896784e-07, 2.1907587743896784e-07, 2.1907587743896784e-07, 2.1907587743896784e-07, 2.1907587743896784e-07, 2.1907587743896784e-07, 2.1907587743896784e-07, 2.1907587743896784e-07, 2.1907587743896784e-07, 2.1907587743896784e-07, 2.1907587743896784e-07, 2.1907587743896784e-07, 2.1907587743896784e-07, 2.1907587743896784e-07, 2.1907587743896784e-07, 2.1907587743896784e-07, 2.1996264365498064e-07, 2.1907587743896784e-07, 2.1907587743896784e-07, 2.1907587743896784e-07]\n",
      "interpolating spline...\n",
      "0\n",
      "1\n",
      "2\n",
      "3\n",
      "4\n",
      "5\n",
      "6\n",
      "7\n",
      "8\n",
      "9\n",
      "10\n",
      "11\n",
      "12\n",
      "13\n",
      "14\n",
      "15\n",
      "16\n",
      "17\n",
      "18\n",
      "19\n",
      "20\n",
      "21\n",
      "22\n",
      "23\n",
      "24\n",
      "25\n",
      "26\n",
      "27\n",
      "28\n",
      "29\n",
      "combining grids...\n",
      "convolving...\n",
      "0\n",
      "1\n",
      "2\n",
      "3\n",
      "4\n",
      "5\n",
      "6\n",
      "7\n",
      "8\n",
      "9\n",
      "10\n",
      "11\n",
      "12\n",
      "13\n",
      "14\n",
      "15\n",
      "16\n",
      "17\n",
      "18\n",
      "19\n",
      "20\n",
      "21\n",
      "22\n",
      "23\n",
      "24\n",
      "25\n",
      "26\n",
      "27\n",
      "28\n",
      "29\n",
      "xs: 7005.007110494636 9004.98956196525\n",
      "xhat: 7010.007110494628 8999.990639003297\n",
      "interpolating lanczos...\n",
      "0\n",
      "1\n",
      "2\n",
      "3\n",
      "4\n",
      "5\n",
      "6\n",
      "7\n",
      "8\n",
      "9\n",
      "10\n",
      "11\n",
      "12\n",
      "13\n",
      "14\n",
      "15\n",
      "16\n",
      "17\n",
      "18\n",
      "19\n",
      "20\n",
      "21\n",
      "22\n",
      "23\n",
      "24\n",
      "25\n",
      "26\n",
      "27\n",
      "28\n",
      "29\n",
      "area: 14.522012041218817 m2\t avg d lambda: 0.05688267575202005 Angstrom\t avg lambda: 7963.6042297997865 Angstrom\t avg exp times: 8.0 min\n",
      "0 n mean: 1.67e+02\t n median: 2.01e+02\n",
      "1 n mean: 1.89e+02\t n median: 2.06e+02\n",
      "2 n mean: 1.76e+02\t n median: 1.99e+02\n",
      "3 n mean: 1.89e+02\t n median: 2.06e+02\n",
      "4 n mean: 1.80e+02\t n median: 2.02e+02\n",
      "5 n mean: 1.68e+02\t n median: 1.92e+02\n",
      "6 n mean: 1.90e+02\t n median: 2.06e+02\n",
      "7 n mean: 1.92e+02\t n median: 2.07e+02\n",
      "8 n mean: 1.91e+02\t n median: 2.07e+02\n",
      "9 n mean: 1.89e+02\t n median: 2.06e+02\n",
      "10 n mean: 1.90e+02\t n median: 2.06e+02\n",
      "11 n mean: 1.90e+02\t n median: 2.06e+02\n",
      "12 n mean: 1.92e+02\t n median: 2.07e+02\n",
      "13 n mean: 1.86e+02\t n median: 2.05e+02\n",
      "14 n mean: 1.78e+02\t n median: 2.01e+02\n",
      "15 n mean: 1.80e+02\t n median: 2.02e+02\n",
      "16 n mean: 1.92e+02\t n median: 2.07e+02\n",
      "17 n mean: 1.90e+02\t n median: 2.06e+02\n",
      "18 n mean: 1.88e+02\t n median: 2.05e+02\n",
      "19 n mean: 1.91e+02\t n median: 2.06e+02\n",
      "20 n mean: 1.89e+02\t n median: 2.06e+02\n",
      "21 n mean: 1.87e+02\t n median: 2.05e+02\n",
      "22 n mean: 1.88e+02\t n median: 2.05e+02\n",
      "23 n mean: 1.88e+02\t n median: 2.05e+02\n",
      "24 n mean: 1.90e+02\t n median: 2.06e+02\n",
      "25 n mean: 1.88e+02\t n median: 2.05e+02\n",
      "26 n mean: 1.67e+02\t n median: 2.06e+02\n",
      "27 n mean: 1.91e+02\t n median: 2.06e+02\n",
      "28 n mean: 1.74e+02\t n median: 1.99e+02\n",
      "29 n mean: 1.92e+02\t n median: 2.07e+02\n",
      "generating true signal to noise ratios...\n",
      "adding noise...\n",
      "generating exp signal to noise ratios...\n"
     ]
    },
    {
     "name": "stderr",
     "output_type": "stream",
     "text": [
      "../simulacra/detector.py:529: RuntimeWarning: invalid value encountered in add_noise_v\n",
      "  n_readout = add_noise_v(n_exp.flatten().value,snr_grid.flatten()).reshape(out_shape)\n"
     ]
    },
    {
     "name": "stdout",
     "output_type": "stream",
     "text": [
      "generating errors...\n",
      "done.\n",
      "/scratch/mdd423/simulacra/out/2021-11-02/data_e30_R70000.0_a2000.0_p40.3_l7.0e+039.0e+03_ep1.0_w0.0_snr7.1e+00_tp3e-07\n",
      "saving time\n",
      "quantity\n",
      "epoches  saving as string\n",
      "quantity\n",
      "quantity\n",
      "quantity\n",
      "quantity\n",
      "quantity\n"
     ]
    },
    {
     "name": "stderr",
     "output_type": "stream",
     "text": [
      "../simulacra/detector.py:541: RuntimeWarning: invalid value encountered in generate_errors_v\n",
      "  nerr_out = generate_errors_v(n_readout.flatten(),snr_readout.flatten()).reshape(out_shape)\n"
     ]
    },
    {
     "name": "stdout",
     "output_type": "stream",
     "text": [
      "quantity\n",
      "quantity\n",
      "flux  saving as string\n",
      "wave  saving as string\n",
      "quantity\n",
      "quantity\n",
      "quantity\n",
      "alpha  saving as string\n",
      "quantity\n",
      "quantity\n",
      "fluxname  saving as string\n",
      "generate_spectra  saving as string\n",
      "quantity\n",
      "quantity\n",
      "logg  saving as string\n",
      "outdir  saving as string\n",
      "quantity\n",
      "plot  saving as string\n",
      "plot_interpolated  saving as string\n",
      "quantity\n",
      "quantity\n",
      "saving target...340.28129510273834 deg 28.43612929851907 deg\n",
      "temperature  saving as string\n",
      "quantity\n",
      "quantity\n",
      "wavename  saving as string\n",
      "quantity\n",
      "z  saving as string\n",
      "quantity\n",
      "quantity\n",
      "quantity\n",
      "quantity\n",
      "a  saving as string\n",
      "add_model  saving as string\n",
      "quantity\n",
      "checkmax  saving as string\n",
      "checkmin  saving as string\n",
      "quantity\n",
      "epsilon  saving as string\n",
      "gamma  saving as string\n",
      "quantity\n",
      "quantity\n",
      "quantity\n",
      "lsf_centering  saving as string\n",
      "lsf_const_coeffs  saving as string\n",
      "resolution  saving as string\n",
      "sigma  saving as string\n",
      "sigma_range  saving as string\n",
      "simulate  saving as string\n",
      "stellar_model  saving as string\n",
      "through_put  saving as string\n",
      "transmission_cutoff  saving as string\n",
      "transmission_models  saving as string\n",
      "w  saving as string\n",
      "quantity\n",
      "quantity\n",
      "quantity\n",
      "_epoches  saving as string\n",
      "quantity\n",
      "quantity\n",
      "_name  saving as string\n",
      "quantity\n",
      "quantity\n",
      "check_property  saving as string\n",
      "check_shape_type  saving as string\n",
      "epoches  saving as string\n",
      "generate_transmission  saving as string\n",
      "quantity\n",
      "quantity\n",
      "quantity\n",
      "plot  saving as string\n",
      "plot_interpolated  saving as string\n",
      "quantity\n",
      "quantity\n",
      "quantity\n",
      "nan nan\n",
      "using saved wave file\n",
      "../data/stellar/PHOENIX/lte04800-1.00-1.0.Alpha=+0.40.PHOENIX-ACES-AGSS-COND-2011-HiRes.fits\n",
      "using saved flux file\n",
      "reading in ../data/stellar/PHOENIX/WAVE_PHOENIX-ACES-AGSS-COND-2011.fits\n",
      "wave_grid min -> 701.0 nm\n",
      "surface flux: mean 1.31e+14 erg / (cm3 s)\t median 1.14e+14 erg / (cm3 s)\n",
      "obs     flux: mean 3.09e-03 erg / (cm3 s)\t median 2.68e-03 erg / (cm3 s)\n",
      "generating spectra...\n",
      "humidity: 50.0\n",
      " pressure: 10000.0\n",
      " temperature: 300.0\n",
      " lat: 32.78000000000001\n",
      " elevation: 2.797999999999601\n",
      " freqmin(cm-1): 11098.779134295226\n",
      " freqmax(cm-1): 14265.33523537803\n",
      " angle: 62.8613757400191\n",
      "\n",
      "\n",
      "Running exec: lblrtm\n",
      "\n",
      "\n"
     ]
    },
    {
     "name": "stderr",
     "output_type": "stream",
     "text": [
      "Note: The following floating-point exceptions are signalling: IEEE_INVALID_FLAG IEEE_UNDERFLOW_FLAG IEEE_DENORMAL\n",
      "STOP  LBLRTM EXIT \n",
      "2.20user 1.09system 0:04.08elapsed 80%CPU (0avgtext+0avgdata 7732maxresident)k\n",
      "0inputs+0outputs (0major+1236minor)pagefaults 0swaps\n"
     ]
    },
    {
     "name": "stdout",
     "output_type": "stream",
     "text": [
      "\n",
      "Running exec: lblrtm\n",
      "\n",
      "\n"
     ]
    },
    {
     "name": "stderr",
     "output_type": "stream",
     "text": [
      "Note: The following floating-point exceptions are signalling: IEEE_INVALID_FLAG IEEE_UNDERFLOW_FLAG IEEE_DENORMAL\n",
      "STOP  LBLRTM EXIT \n",
      "0.92user 1.02system 0:02.13elapsed 91%CPU (0avgtext+0avgdata 7680maxresident)k\n",
      "0inputs+0outputs (0major+1238minor)pagefaults 0swaps\n"
     ]
    },
    {
     "name": "stdout",
     "output_type": "stream",
     "text": [
      "1143628\n",
      "humidity: 50.0\n",
      " pressure: 10000.0\n",
      " temperature: 300.0\n",
      " lat: 32.78000000000001\n",
      " elevation: 2.797999999999601\n",
      " freqmin(cm-1): 11098.779134295226\n",
      " freqmax(cm-1): 14265.33523537803\n",
      " angle: 36.420938571519066\n",
      "\n",
      "\n",
      "Running exec: lblrtm\n",
      "\n",
      "\n"
     ]
    },
    {
     "name": "stderr",
     "output_type": "stream",
     "text": [
      "Note: The following floating-point exceptions are signalling: IEEE_INVALID_FLAG IEEE_UNDERFLOW_FLAG IEEE_DENORMAL\n",
      "STOP  LBLRTM EXIT \n",
      "2.15user 1.12system 0:03.69elapsed 88%CPU (0avgtext+0avgdata 7720maxresident)k\n",
      "0inputs+0outputs (0major+1234minor)pagefaults 0swaps\n"
     ]
    },
    {
     "name": "stdout",
     "output_type": "stream",
     "text": [
      "\n",
      "Running exec: lblrtm\n",
      "\n",
      "\n"
     ]
    },
    {
     "name": "stderr",
     "output_type": "stream",
     "text": [
      "Note: The following floating-point exceptions are signalling: IEEE_INVALID_FLAG IEEE_UNDERFLOW_FLAG IEEE_DENORMAL\n",
      "STOP  LBLRTM EXIT \n",
      "0.93user 0.99system 0:02.06elapsed 93%CPU (0avgtext+0avgdata 7636maxresident)k\n",
      "0inputs+0outputs (0major+1234minor)pagefaults 0swaps\n"
     ]
    },
    {
     "name": "stdout",
     "output_type": "stream",
     "text": [
      "1143628\n",
      "humidity: 50.0\n",
      " pressure: 10000.0\n",
      " temperature: 300.0\n",
      " lat: 32.78000000000001\n",
      " elevation: 2.797999999999601\n",
      " freqmin(cm-1): 11098.779134295226\n",
      " freqmax(cm-1): 14265.33523537803\n",
      " angle: 70.23515457427514\n",
      "\n",
      "\n",
      "Running exec: lblrtm\n",
      "\n",
      "\n"
     ]
    },
    {
     "name": "stderr",
     "output_type": "stream",
     "text": [
      "Note: The following floating-point exceptions are signalling: IEEE_INVALID_FLAG IEEE_UNDERFLOW_FLAG IEEE_DENORMAL\n",
      "STOP  LBLRTM EXIT \n",
      "2.15user 1.16system 0:03.70elapsed 89%CPU (0avgtext+0avgdata 7572maxresident)k\n",
      "0inputs+0outputs (0major+1234minor)pagefaults 0swaps\n"
     ]
    },
    {
     "name": "stdout",
     "output_type": "stream",
     "text": [
      "\n",
      "Running exec: lblrtm\n",
      "\n",
      "\n"
     ]
    },
    {
     "name": "stderr",
     "output_type": "stream",
     "text": [
      "Note: The following floating-point exceptions are signalling: IEEE_INVALID_FLAG IEEE_UNDERFLOW_FLAG IEEE_DENORMAL\n",
      "STOP  LBLRTM EXIT \n",
      "0.92user 1.02system 0:02.03elapsed 96%CPU (0avgtext+0avgdata 7672maxresident)k\n",
      "0inputs+0outputs (0major+1235minor)pagefaults 0swaps\n"
     ]
    },
    {
     "name": "stdout",
     "output_type": "stream",
     "text": [
      "1143628\n",
      "humidity: 50.0\n",
      " pressure: 10000.0\n",
      " temperature: 300.0\n",
      " lat: 32.78000000000001\n",
      " elevation: 2.797999999999601\n",
      " freqmin(cm-1): 11098.779134295226\n",
      " freqmax(cm-1): 14265.33523537803\n",
      " angle: 37.41097711185363\n",
      "\n",
      "\n",
      "Running exec: lblrtm\n",
      "\n",
      "\n"
     ]
    },
    {
     "name": "stderr",
     "output_type": "stream",
     "text": [
      "Note: The following floating-point exceptions are signalling: IEEE_INVALID_FLAG IEEE_UNDERFLOW_FLAG IEEE_DENORMAL\n",
      "STOP  LBLRTM EXIT \n",
      "2.16user 1.10system 0:03.63elapsed 89%CPU (0avgtext+0avgdata 7720maxresident)k\n",
      "0inputs+0outputs (0major+1238minor)pagefaults 0swaps\n"
     ]
    },
    {
     "name": "stdout",
     "output_type": "stream",
     "text": [
      "\n",
      "Running exec: lblrtm\n",
      "\n",
      "\n"
     ]
    },
    {
     "name": "stderr",
     "output_type": "stream",
     "text": [
      "Note: The following floating-point exceptions are signalling: IEEE_INVALID_FLAG IEEE_UNDERFLOW_FLAG IEEE_DENORMAL\n",
      "STOP  LBLRTM EXIT \n",
      "0.90user 1.03system 0:02.10elapsed 91%CPU (0avgtext+0avgdata 7692maxresident)k\n",
      "0inputs+0outputs (0major+1236minor)pagefaults 0swaps\n"
     ]
    },
    {
     "name": "stdout",
     "output_type": "stream",
     "text": [
      "1143628\n",
      "humidity: 50.0\n",
      " pressure: 10000.0\n",
      " temperature: 300.0\n",
      " lat: 32.78000000000001\n",
      " elevation: 2.797999999999601\n",
      " freqmin(cm-1): 11098.779134295226\n",
      " freqmax(cm-1): 14265.33523537803\n",
      " angle: 65.09115788813192\n",
      "\n",
      "\n",
      "Running exec: lblrtm\n",
      "\n",
      "\n"
     ]
    },
    {
     "name": "stderr",
     "output_type": "stream",
     "text": [
      "Note: The following floating-point exceptions are signalling: IEEE_INVALID_FLAG IEEE_UNDERFLOW_FLAG IEEE_DENORMAL\n",
      "STOP  LBLRTM EXIT \n",
      "2.15user 1.11system 0:03.75elapsed 87%CPU (0avgtext+0avgdata 7792maxresident)k\n",
      "0inputs+0outputs (0major+1238minor)pagefaults 0swaps\n"
     ]
    },
    {
     "name": "stdout",
     "output_type": "stream",
     "text": [
      "\n",
      "Running exec: lblrtm\n",
      "\n",
      "\n"
     ]
    },
    {
     "name": "stderr",
     "output_type": "stream",
     "text": [
      "Note: The following floating-point exceptions are signalling: IEEE_INVALID_FLAG IEEE_UNDERFLOW_FLAG IEEE_DENORMAL\n",
      "STOP  LBLRTM EXIT \n",
      "0.90user 1.02system 0:02.08elapsed 92%CPU (0avgtext+0avgdata 7684maxresident)k\n",
      "0inputs+0outputs (0major+1237minor)pagefaults 0swaps\n"
     ]
    },
    {
     "name": "stdout",
     "output_type": "stream",
     "text": [
      "1127370\n",
      "humidity: 50.0\n",
      " pressure: 10000.0\n",
      " temperature: 300.0\n",
      " lat: 32.78000000000001\n",
      " elevation: 2.797999999999601\n",
      " freqmin(cm-1): 11098.779134295226\n",
      " freqmax(cm-1): 14265.33523537803\n",
      " angle: 59.94944845829285\n",
      "\n",
      "\n",
      "Running exec: lblrtm\n",
      "\n",
      "\n"
     ]
    },
    {
     "name": "stderr",
     "output_type": "stream",
     "text": [
      "Note: The following floating-point exceptions are signalling: IEEE_INVALID_FLAG IEEE_UNDERFLOW_FLAG IEEE_DENORMAL\n",
      "STOP  LBLRTM EXIT \n",
      "2.11user 1.12system 0:03.58elapsed 90%CPU (0avgtext+0avgdata 7580maxresident)k\n",
      "0inputs+0outputs (0major+1234minor)pagefaults 0swaps\n"
     ]
    },
    {
     "name": "stdout",
     "output_type": "stream",
     "text": [
      "\n",
      "Running exec: lblrtm\n",
      "\n",
      "\n"
     ]
    },
    {
     "name": "stderr",
     "output_type": "stream",
     "text": [
      "Note: The following floating-point exceptions are signalling: IEEE_INVALID_FLAG IEEE_UNDERFLOW_FLAG IEEE_DENORMAL\n",
      "STOP  LBLRTM EXIT \n",
      "0.93user 1.03system 0:02.14elapsed 91%CPU (0avgtext+0avgdata 7688maxresident)k\n",
      "0inputs+0outputs (0major+1236minor)pagefaults 0swaps\n"
     ]
    },
    {
     "name": "stdout",
     "output_type": "stream",
     "text": [
      "1124676\n",
      "humidity: 50.0\n",
      " pressure: 10000.0\n",
      " temperature: 300.0\n",
      " lat: 32.78000000000001\n",
      " elevation: 2.797999999999601\n",
      " freqmin(cm-1): 11098.779134295226\n",
      " freqmax(cm-1): 14265.33523537803\n",
      " angle: 27.811520651072378\n",
      "\n",
      "\n",
      "Running exec: lblrtm\n",
      "\n",
      "\n"
     ]
    },
    {
     "name": "stderr",
     "output_type": "stream",
     "text": [
      "Note: The following floating-point exceptions are signalling: IEEE_INVALID_FLAG IEEE_UNDERFLOW_FLAG IEEE_DENORMAL\n",
      "STOP  LBLRTM EXIT \n",
      "2.13user 1.13system 0:03.54elapsed 92%CPU (0avgtext+0avgdata 7788maxresident)k\n",
      "0inputs+0outputs (0major+1237minor)pagefaults 0swaps\n"
     ]
    },
    {
     "name": "stdout",
     "output_type": "stream",
     "text": [
      "\n",
      "Running exec: lblrtm\n",
      "\n",
      "\n"
     ]
    },
    {
     "name": "stderr",
     "output_type": "stream",
     "text": [
      "Note: The following floating-point exceptions are signalling: IEEE_INVALID_FLAG IEEE_UNDERFLOW_FLAG IEEE_DENORMAL\n",
      "STOP  LBLRTM EXIT \n",
      "0.92user 1.00system 0:02.03elapsed 94%CPU (0avgtext+0avgdata 7724maxresident)k\n",
      "0inputs+0outputs (0major+1236minor)pagefaults 0swaps\n"
     ]
    },
    {
     "name": "stdout",
     "output_type": "stream",
     "text": [
      "1143628\n",
      "humidity: 50.0\n",
      " pressure: 10000.0\n",
      " temperature: 300.0\n",
      " lat: 32.78000000000001\n",
      " elevation: 2.797999999999601\n",
      " freqmin(cm-1): 11098.779134295226\n",
      " freqmax(cm-1): 14265.33523537803\n",
      " angle: 4.6273790635876395\n",
      "\n",
      "\n",
      "Running exec: lblrtm\n",
      "\n",
      "\n"
     ]
    },
    {
     "name": "stderr",
     "output_type": "stream",
     "text": [
      "Note: The following floating-point exceptions are signalling: IEEE_INVALID_FLAG IEEE_UNDERFLOW_FLAG IEEE_DENORMAL\n",
      "STOP  LBLRTM EXIT \n",
      "2.14user 1.11system 0:03.46elapsed 94%CPU (0avgtext+0avgdata 7752maxresident)k\n",
      "0inputs+0outputs (0major+1237minor)pagefaults 0swaps\n"
     ]
    },
    {
     "name": "stdout",
     "output_type": "stream",
     "text": [
      "\n",
      "Running exec: lblrtm\n",
      "\n",
      "\n"
     ]
    },
    {
     "name": "stderr",
     "output_type": "stream",
     "text": [
      "Note: The following floating-point exceptions are signalling: IEEE_INVALID_FLAG IEEE_UNDERFLOW_FLAG IEEE_DENORMAL\n",
      "STOP  LBLRTM EXIT \n",
      "0.90user 1.01system 0:02.00elapsed 95%CPU (0avgtext+0avgdata 7528maxresident)k\n",
      "0inputs+0outputs (0major+1234minor)pagefaults 0swaps\n"
     ]
    },
    {
     "name": "stdout",
     "output_type": "stream",
     "text": [
      "1143628\n",
      "humidity: 50.0\n",
      " pressure: 10000.0\n",
      " temperature: 300.0\n",
      " lat: 32.78000000000001\n",
      " elevation: 2.797999999999601\n",
      " freqmin(cm-1): 11098.779134295226\n",
      " freqmax(cm-1): 14265.33523537803\n",
      " angle: 11.404396925323324\n",
      "\n",
      "\n",
      "Running exec: lblrtm\n",
      "\n",
      "\n"
     ]
    },
    {
     "name": "stderr",
     "output_type": "stream",
     "text": [
      "Note: The following floating-point exceptions are signalling: IEEE_INVALID_FLAG IEEE_UNDERFLOW_FLAG IEEE_DENORMAL\n",
      "STOP  LBLRTM EXIT \n",
      "2.11user 1.15system 0:03.53elapsed 92%CPU (0avgtext+0avgdata 7748maxresident)k\n",
      "0inputs+0outputs (0major+1237minor)pagefaults 0swaps\n"
     ]
    },
    {
     "name": "stdout",
     "output_type": "stream",
     "text": [
      "\n",
      "Running exec: lblrtm\n",
      "\n",
      "\n"
     ]
    },
    {
     "name": "stderr",
     "output_type": "stream",
     "text": [
      "Note: The following floating-point exceptions are signalling: IEEE_INVALID_FLAG IEEE_UNDERFLOW_FLAG IEEE_DENORMAL\n",
      "STOP  LBLRTM EXIT \n",
      "0.90user 1.01system 0:02.07elapsed 92%CPU (0avgtext+0avgdata 7624maxresident)k\n",
      "0inputs+0outputs (0major+1233minor)pagefaults 0swaps\n"
     ]
    },
    {
     "name": "stdout",
     "output_type": "stream",
     "text": [
      "1143628\n",
      "humidity: 50.0\n",
      " pressure: 10000.0\n",
      " temperature: 300.0\n",
      " lat: 32.78000000000001\n",
      " elevation: 2.797999999999601\n",
      " freqmin(cm-1): 11098.779134295226\n",
      " freqmax(cm-1): 14265.33523537803\n",
      " angle: 54.85857323188904\n",
      "\n",
      "\n",
      "Running exec: lblrtm\n",
      "\n",
      "\n"
     ]
    },
    {
     "name": "stderr",
     "output_type": "stream",
     "text": [
      "Note: The following floating-point exceptions are signalling: IEEE_INVALID_FLAG IEEE_UNDERFLOW_FLAG IEEE_DENORMAL\n",
      "STOP  LBLRTM EXIT \n",
      "2.15user 1.10system 0:03.69elapsed 88%CPU (0avgtext+0avgdata 7672maxresident)k\n",
      "0inputs+0outputs (0major+1233minor)pagefaults 0swaps\n"
     ]
    },
    {
     "name": "stdout",
     "output_type": "stream",
     "text": [
      "\n",
      "Running exec: lblrtm\n",
      "\n",
      "\n"
     ]
    },
    {
     "name": "stderr",
     "output_type": "stream",
     "text": [
      "Note: The following floating-point exceptions are signalling: IEEE_INVALID_FLAG IEEE_UNDERFLOW_FLAG IEEE_DENORMAL\n",
      "STOP  LBLRTM EXIT \n",
      "0.91user 0.98system 0:02.01elapsed 93%CPU (0avgtext+0avgdata 7728maxresident)k\n",
      "0inputs+0outputs (0major+1235minor)pagefaults 0swaps\n"
     ]
    },
    {
     "name": "stdout",
     "output_type": "stream",
     "text": [
      "1111626\n",
      "humidity: 50.0\n",
      " pressure: 10000.0\n",
      " temperature: 300.0\n",
      " lat: 32.78000000000001\n",
      " elevation: 2.797999999999601\n",
      " freqmin(cm-1): 11098.779134295226\n",
      " freqmax(cm-1): 14265.33523537803\n",
      " angle: 27.82399986133828\n",
      "\n",
      "\n",
      "Running exec: lblrtm\n",
      "\n",
      "\n"
     ]
    },
    {
     "name": "stderr",
     "output_type": "stream",
     "text": [
      "Note: The following floating-point exceptions are signalling: IEEE_INVALID_FLAG IEEE_UNDERFLOW_FLAG IEEE_DENORMAL\n",
      "STOP  LBLRTM EXIT \n",
      "2.13user 1.12system 0:03.51elapsed 92%CPU (0avgtext+0avgdata 7752maxresident)k\n",
      "0inputs+0outputs (0major+1237minor)pagefaults 0swaps\n"
     ]
    },
    {
     "name": "stdout",
     "output_type": "stream",
     "text": [
      "\n",
      "Running exec: lblrtm\n",
      "\n",
      "\n"
     ]
    },
    {
     "name": "stderr",
     "output_type": "stream",
     "text": [
      "Note: The following floating-point exceptions are signalling: IEEE_INVALID_FLAG IEEE_UNDERFLOW_FLAG IEEE_DENORMAL\n",
      "STOP  LBLRTM EXIT \n",
      "0.89user 1.03system 0:02.02elapsed 94%CPU (0avgtext+0avgdata 7552maxresident)k\n",
      "0inputs+0outputs (0major+1233minor)pagefaults 0swaps\n"
     ]
    },
    {
     "name": "stdout",
     "output_type": "stream",
     "text": [
      "1143628\n",
      "humidity: 50.0\n",
      " pressure: 10000.0\n",
      " temperature: 300.0\n",
      " lat: 32.78000000000001\n",
      " elevation: 2.797999999999601\n",
      " freqmin(cm-1): 11098.779134295226\n",
      " freqmax(cm-1): 14265.33523537803\n",
      " angle: 32.81380139483823\n",
      "\n",
      "\n",
      "Running exec: lblrtm\n",
      "\n",
      "\n"
     ]
    },
    {
     "name": "stderr",
     "output_type": "stream",
     "text": [
      "Note: The following floating-point exceptions are signalling: IEEE_INVALID_FLAG IEEE_UNDERFLOW_FLAG IEEE_DENORMAL\n",
      "STOP  LBLRTM EXIT \n",
      "2.14user 1.11system 0:03.50elapsed 93%CPU (0avgtext+0avgdata 7560maxresident)k\n",
      "0inputs+0outputs (0major+1233minor)pagefaults 0swaps\n"
     ]
    },
    {
     "name": "stdout",
     "output_type": "stream",
     "text": [
      "\n",
      "Running exec: lblrtm\n",
      "\n",
      "\n"
     ]
    },
    {
     "name": "stderr",
     "output_type": "stream",
     "text": [
      "Note: The following floating-point exceptions are signalling: IEEE_INVALID_FLAG IEEE_UNDERFLOW_FLAG IEEE_DENORMAL\n",
      "STOP  LBLRTM EXIT \n",
      "0.91user 1.00system 0:02.03elapsed 94%CPU (0avgtext+0avgdata 7708maxresident)k\n",
      "0inputs+0outputs (0major+1236minor)pagefaults 0swaps\n"
     ]
    },
    {
     "name": "stdout",
     "output_type": "stream",
     "text": [
      "1143628\n",
      "humidity: 50.0\n",
      " pressure: 10000.0\n",
      " temperature: 300.0\n",
      " lat: 32.78000000000001\n",
      " elevation: 2.797999999999601\n",
      " freqmin(cm-1): 11098.779134295226\n",
      " freqmax(cm-1): 14265.33523537803\n",
      " angle: 5.685228205863384\n",
      "\n",
      "\n",
      "Running exec: lblrtm\n",
      "\n",
      "\n"
     ]
    },
    {
     "name": "stderr",
     "output_type": "stream",
     "text": [
      "Note: The following floating-point exceptions are signalling: IEEE_INVALID_FLAG IEEE_UNDERFLOW_FLAG IEEE_DENORMAL\n",
      "STOP  LBLRTM EXIT \n",
      "2.12user 1.12system 0:03.73elapsed 86%CPU (0avgtext+0avgdata 7812maxresident)k\n",
      "0inputs+0outputs (0major+1238minor)pagefaults 0swaps\n"
     ]
    },
    {
     "name": "stdout",
     "output_type": "stream",
     "text": [
      "\n",
      "Running exec: lblrtm\n",
      "\n",
      "\n"
     ]
    },
    {
     "name": "stderr",
     "output_type": "stream",
     "text": [
      "Note: The following floating-point exceptions are signalling: IEEE_INVALID_FLAG IEEE_UNDERFLOW_FLAG IEEE_DENORMAL\n",
      "STOP  LBLRTM EXIT \n",
      "0.90user 1.02system 0:02.08elapsed 92%CPU (0avgtext+0avgdata 7624maxresident)k\n",
      "0inputs+0outputs (0major+1233minor)pagefaults 0swaps\n"
     ]
    },
    {
     "name": "stdout",
     "output_type": "stream",
     "text": [
      "1143628\n",
      "humidity: 50.0\n",
      " pressure: 10000.0\n",
      " temperature: 300.0\n",
      " lat: 32.78000000000001\n",
      " elevation: 2.797999999999601\n",
      " freqmin(cm-1): 11098.779134295226\n",
      " freqmax(cm-1): 14265.33523537803\n",
      " angle: 50.422615509223334\n",
      "\n",
      "\n",
      "Running exec: lblrtm\n",
      "\n",
      "\n"
     ]
    },
    {
     "name": "stderr",
     "output_type": "stream",
     "text": [
      "Note: The following floating-point exceptions are signalling: IEEE_INVALID_FLAG IEEE_UNDERFLOW_FLAG IEEE_DENORMAL\n",
      "STOP  LBLRTM EXIT \n",
      "2.16user 1.11system 0:03.52elapsed 93%CPU (0avgtext+0avgdata 7688maxresident)k\n",
      "0inputs+0outputs (0major+1237minor)pagefaults 0swaps\n"
     ]
    },
    {
     "name": "stdout",
     "output_type": "stream",
     "text": [
      "\n",
      "Running exec: lblrtm\n",
      "\n",
      "\n"
     ]
    },
    {
     "name": "stderr",
     "output_type": "stream",
     "text": [
      "Note: The following floating-point exceptions are signalling: IEEE_INVALID_FLAG IEEE_UNDERFLOW_FLAG IEEE_DENORMAL\n",
      "STOP  LBLRTM EXIT \n",
      "0.90user 1.02system 0:02.00elapsed 96%CPU (0avgtext+0avgdata 7712maxresident)k\n",
      "0inputs+0outputs (0major+1236minor)pagefaults 0swaps\n"
     ]
    },
    {
     "name": "stdout",
     "output_type": "stream",
     "text": [
      "1143628\n",
      "humidity: 50.0\n",
      " pressure: 10000.0\n",
      " temperature: 300.0\n",
      " lat: 32.78000000000001\n",
      " elevation: 2.797999999999601\n",
      " freqmin(cm-1): 11098.779134295226\n",
      " freqmax(cm-1): 14265.33523537803\n",
      " angle: 66.89041188034572\n",
      "\n",
      "\n",
      "Running exec: lblrtm\n",
      "\n",
      "\n"
     ]
    },
    {
     "name": "stderr",
     "output_type": "stream",
     "text": [
      "Note: The following floating-point exceptions are signalling: IEEE_INVALID_FLAG IEEE_UNDERFLOW_FLAG IEEE_DENORMAL\n",
      "STOP  LBLRTM EXIT \n",
      "2.18user 1.11system 0:03.43elapsed 96%CPU (0avgtext+0avgdata 7520maxresident)k\n",
      "0inputs+0outputs (0major+1233minor)pagefaults 0swaps\n"
     ]
    },
    {
     "name": "stdout",
     "output_type": "stream",
     "text": [
      "\n",
      "Running exec: lblrtm\n",
      "\n",
      "\n"
     ]
    },
    {
     "name": "stderr",
     "output_type": "stream",
     "text": [
      "Note: The following floating-point exceptions are signalling: IEEE_INVALID_FLAG IEEE_UNDERFLOW_FLAG IEEE_DENORMAL\n",
      "STOP  LBLRTM EXIT \n",
      "0.92user 1.01system 0:02.01elapsed 96%CPU (0avgtext+0avgdata 7672maxresident)k\n",
      "0inputs+0outputs (0major+1233minor)pagefaults 0swaps\n"
     ]
    },
    {
     "name": "stdout",
     "output_type": "stream",
     "text": [
      "1143628\n",
      "humidity: 50.0\n",
      " pressure: 10000.0\n",
      " temperature: 300.0\n",
      " lat: 32.78000000000001\n",
      " elevation: 2.797999999999601\n",
      " freqmin(cm-1): 11098.779134295226\n",
      " freqmax(cm-1): 14265.33523537803\n",
      " angle: 65.6425420077903\n",
      "\n",
      "\n",
      "Running exec: lblrtm\n",
      "\n",
      "\n"
     ]
    },
    {
     "name": "stderr",
     "output_type": "stream",
     "text": [
      "Note: The following floating-point exceptions are signalling: IEEE_INVALID_FLAG IEEE_UNDERFLOW_FLAG IEEE_DENORMAL\n",
      "STOP  LBLRTM EXIT \n",
      "2.20user 1.09system 0:03.58elapsed 91%CPU (0avgtext+0avgdata 7720maxresident)k\n",
      "0inputs+0outputs (0major+1237minor)pagefaults 0swaps\n"
     ]
    },
    {
     "name": "stdout",
     "output_type": "stream",
     "text": [
      "\n",
      "Running exec: lblrtm\n",
      "\n",
      "\n"
     ]
    },
    {
     "name": "stderr",
     "output_type": "stream",
     "text": [
      "Note: The following floating-point exceptions are signalling: IEEE_INVALID_FLAG IEEE_UNDERFLOW_FLAG IEEE_DENORMAL\n",
      "STOP  LBLRTM EXIT \n",
      "0.95user 0.98system 0:02.05elapsed 93%CPU (0avgtext+0avgdata 7672maxresident)k\n",
      "0inputs+0outputs (0major+1233minor)pagefaults 0swaps\n"
     ]
    },
    {
     "name": "stdout",
     "output_type": "stream",
     "text": [
      "1143628\n",
      "humidity: 50.0\n",
      " pressure: 10000.0\n",
      " temperature: 300.0\n",
      " lat: 32.78000000000001\n",
      " elevation: 2.797999999999601\n",
      " freqmin(cm-1): 11098.779134295226\n",
      " freqmax(cm-1): 14265.33523537803\n",
      " angle: 4.244341434002005\n",
      "\n",
      "\n",
      "Running exec: lblrtm\n",
      "\n",
      "\n"
     ]
    },
    {
     "name": "stderr",
     "output_type": "stream",
     "text": [
      "Note: The following floating-point exceptions are signalling: IEEE_INVALID_FLAG IEEE_UNDERFLOW_FLAG IEEE_DENORMAL\n",
      "STOP  LBLRTM EXIT \n",
      "2.12user 1.12system 0:03.38elapsed 96%CPU (0avgtext+0avgdata 7720maxresident)k\n",
      "0inputs+0outputs (0major+1234minor)pagefaults 0swaps\n"
     ]
    },
    {
     "name": "stdout",
     "output_type": "stream",
     "text": [
      "\n",
      "Running exec: lblrtm\n",
      "\n",
      "\n"
     ]
    },
    {
     "name": "stderr",
     "output_type": "stream",
     "text": [
      "Note: The following floating-point exceptions are signalling: IEEE_INVALID_FLAG IEEE_UNDERFLOW_FLAG IEEE_DENORMAL\n",
      "STOP  LBLRTM EXIT \n",
      "0.90user 1.01system 0:02.02elapsed 94%CPU (0avgtext+0avgdata 7680maxresident)k\n",
      "0inputs+0outputs (0major+1236minor)pagefaults 0swaps\n"
     ]
    },
    {
     "name": "stdout",
     "output_type": "stream",
     "text": [
      "1143628\n",
      "humidity: 50.0\n",
      " pressure: 10000.0\n",
      " temperature: 300.0\n",
      " lat: 32.78000000000001\n",
      " elevation: 2.797999999999601\n",
      " freqmin(cm-1): 11098.779134295226\n",
      " freqmax(cm-1): 14265.33523537803\n",
      " angle: 25.73402125733466\n",
      "\n",
      "\n",
      "Running exec: lblrtm\n",
      "\n",
      "\n"
     ]
    },
    {
     "name": "stderr",
     "output_type": "stream",
     "text": [
      "Note: The following floating-point exceptions are signalling: IEEE_INVALID_FLAG IEEE_UNDERFLOW_FLAG IEEE_DENORMAL\n",
      "STOP  LBLRTM EXIT \n",
      "2.18user 1.07system 0:03.38elapsed 96%CPU (0avgtext+0avgdata 7556maxresident)k\n",
      "0inputs+0outputs (0major+1235minor)pagefaults 0swaps\n"
     ]
    },
    {
     "name": "stdout",
     "output_type": "stream",
     "text": [
      "\n",
      "Running exec: lblrtm\n",
      "\n",
      "\n"
     ]
    },
    {
     "name": "stderr",
     "output_type": "stream",
     "text": [
      "Note: The following floating-point exceptions are signalling: IEEE_INVALID_FLAG IEEE_UNDERFLOW_FLAG IEEE_DENORMAL\n",
      "STOP  LBLRTM EXIT \n",
      "0.90user 1.01system 0:02.03elapsed 94%CPU (0avgtext+0avgdata 7624maxresident)k\n",
      "0inputs+0outputs (0major+1233minor)pagefaults 0swaps\n"
     ]
    },
    {
     "name": "stdout",
     "output_type": "stream",
     "text": [
      "1143628\n",
      "humidity: 50.0\n",
      " pressure: 10000.0\n",
      " temperature: 300.0\n",
      " lat: 32.78000000000001\n",
      " elevation: 2.797999999999601\n",
      " freqmin(cm-1): 11098.779134295226\n",
      " freqmax(cm-1): 14265.33523537803\n",
      " angle: 41.82411679419448\n",
      "\n",
      "\n",
      "Running exec: lblrtm\n",
      "\n",
      "\n"
     ]
    },
    {
     "name": "stderr",
     "output_type": "stream",
     "text": [
      "Note: The following floating-point exceptions are signalling: IEEE_INVALID_FLAG IEEE_UNDERFLOW_FLAG IEEE_DENORMAL\n",
      "STOP  LBLRTM EXIT \n",
      "2.14user 1.12system 0:03.44elapsed 94%CPU (0avgtext+0avgdata 7732maxresident)k\n",
      "0inputs+0outputs (0major+1236minor)pagefaults 0swaps\n"
     ]
    },
    {
     "name": "stdout",
     "output_type": "stream",
     "text": [
      "\n",
      "Running exec: lblrtm\n",
      "\n",
      "\n"
     ]
    },
    {
     "name": "stderr",
     "output_type": "stream",
     "text": [
      "Note: The following floating-point exceptions are signalling: IEEE_INVALID_FLAG IEEE_UNDERFLOW_FLAG IEEE_DENORMAL\n",
      "STOP  LBLRTM EXIT \n",
      "0.92user 0.99system 0:02.04elapsed 94%CPU (0avgtext+0avgdata 7748maxresident)k\n",
      "0inputs+0outputs (0major+1234minor)pagefaults 0swaps\n"
     ]
    },
    {
     "name": "stdout",
     "output_type": "stream",
     "text": [
      "1143628\n",
      "humidity: 50.0\n",
      " pressure: 10000.0\n",
      " temperature: 300.0\n",
      " lat: 32.78000000000001\n",
      " elevation: 2.797999999999601\n",
      " freqmin(cm-1): 11098.779134295226\n",
      " freqmax(cm-1): 14265.33523537803\n",
      " angle: 19.147041951230698\n",
      "\n",
      "\n",
      "Running exec: lblrtm\n",
      "\n",
      "\n"
     ]
    },
    {
     "name": "stderr",
     "output_type": "stream",
     "text": [
      "Note: The following floating-point exceptions are signalling: IEEE_INVALID_FLAG IEEE_UNDERFLOW_FLAG IEEE_DENORMAL\n",
      "STOP  LBLRTM EXIT \n",
      "2.14user 1.11system 0:03.60elapsed 90%CPU (0avgtext+0avgdata 7564maxresident)k\n",
      "0inputs+0outputs (0major+1232minor)pagefaults 0swaps\n"
     ]
    },
    {
     "name": "stdout",
     "output_type": "stream",
     "text": [
      "\n",
      "Running exec: lblrtm\n",
      "\n",
      "\n"
     ]
    },
    {
     "name": "stderr",
     "output_type": "stream",
     "text": [
      "Note: The following floating-point exceptions are signalling: IEEE_INVALID_FLAG IEEE_UNDERFLOW_FLAG IEEE_DENORMAL\n",
      "STOP  LBLRTM EXIT \n",
      "0.91user 1.00system 0:02.00elapsed 96%CPU (0avgtext+0avgdata 7732maxresident)k\n",
      "0inputs+0outputs (0major+1236minor)pagefaults 0swaps\n"
     ]
    },
    {
     "name": "stdout",
     "output_type": "stream",
     "text": [
      "1143628\n",
      "humidity: 50.0\n",
      " pressure: 10000.0\n",
      " temperature: 300.0\n",
      " lat: 32.78000000000001\n",
      " elevation: 2.797999999999601\n",
      " freqmin(cm-1): 11098.779134295226\n",
      " freqmax(cm-1): 14265.33523537803\n",
      " angle: 38.23670948006227\n",
      "\n",
      "\n",
      "Running exec: lblrtm\n",
      "\n",
      "\n"
     ]
    },
    {
     "name": "stderr",
     "output_type": "stream",
     "text": [
      "Note: The following floating-point exceptions are signalling: IEEE_INVALID_FLAG IEEE_UNDERFLOW_FLAG IEEE_DENORMAL\n",
      "STOP  LBLRTM EXIT \n",
      "2.14user 1.12system 0:03.49elapsed 93%CPU (0avgtext+0avgdata 7556maxresident)k\n",
      "0inputs+0outputs (0major+1234minor)pagefaults 0swaps\n"
     ]
    },
    {
     "name": "stdout",
     "output_type": "stream",
     "text": [
      "\n",
      "Running exec: lblrtm\n",
      "\n",
      "\n"
     ]
    },
    {
     "name": "stderr",
     "output_type": "stream",
     "text": [
      "Note: The following floating-point exceptions are signalling: IEEE_INVALID_FLAG IEEE_UNDERFLOW_FLAG IEEE_DENORMAL\n",
      "STOP  LBLRTM EXIT \n",
      "0.90user 1.00system 0:02.03elapsed 93%CPU (0avgtext+0avgdata 7624maxresident)k\n",
      "0inputs+0outputs (0major+1233minor)pagefaults 0swaps\n"
     ]
    },
    {
     "name": "stdout",
     "output_type": "stream",
     "text": [
      "1143628\n",
      "humidity: 50.0\n",
      " pressure: 10000.0\n",
      " temperature: 300.0\n",
      " lat: 32.78000000000001\n",
      " elevation: 2.797999999999601\n",
      " freqmin(cm-1): 11098.779134295226\n",
      " freqmax(cm-1): 14265.33523537803\n",
      " angle: 47.73236591064268\n",
      "\n",
      "\n",
      "Running exec: lblrtm\n",
      "\n",
      "\n"
     ]
    },
    {
     "name": "stderr",
     "output_type": "stream",
     "text": [
      "Note: The following floating-point exceptions are signalling: IEEE_INVALID_FLAG IEEE_UNDERFLOW_FLAG IEEE_DENORMAL\n",
      "STOP  LBLRTM EXIT \n",
      "2.15user 1.11system 0:03.86elapsed 84%CPU (0avgtext+0avgdata 7628maxresident)k\n",
      "0inputs+0outputs (0major+1233minor)pagefaults 0swaps\n"
     ]
    },
    {
     "name": "stdout",
     "output_type": "stream",
     "text": [
      "\n",
      "Running exec: lblrtm\n",
      "\n",
      "\n"
     ]
    },
    {
     "name": "stderr",
     "output_type": "stream",
     "text": [
      "Note: The following floating-point exceptions are signalling: IEEE_INVALID_FLAG IEEE_UNDERFLOW_FLAG IEEE_DENORMAL\n",
      "STOP  LBLRTM EXIT \n",
      "0.91user 1.01system 0:02.06elapsed 93%CPU (0avgtext+0avgdata 7636maxresident)k\n",
      "0inputs+0outputs (0major+1235minor)pagefaults 0swaps\n"
     ]
    },
    {
     "name": "stdout",
     "output_type": "stream",
     "text": [
      "1143628\n",
      "humidity: 50.0\n",
      " pressure: 10000.0\n",
      " temperature: 300.0\n",
      " lat: 32.78000000000001\n",
      " elevation: 2.797999999999601\n",
      " freqmin(cm-1): 11098.779134295226\n",
      " freqmax(cm-1): 14265.33523537803\n",
      " angle: 42.79961082627774\n",
      "\n",
      "\n",
      "Running exec: lblrtm\n",
      "\n",
      "\n"
     ]
    },
    {
     "name": "stderr",
     "output_type": "stream",
     "text": [
      "Note: The following floating-point exceptions are signalling: IEEE_INVALID_FLAG IEEE_UNDERFLOW_FLAG IEEE_DENORMAL\n",
      "STOP  LBLRTM EXIT \n",
      "2.13user 1.13system 0:03.44elapsed 95%CPU (0avgtext+0avgdata 7752maxresident)k\n",
      "0inputs+0outputs (0major+1237minor)pagefaults 0swaps\n"
     ]
    },
    {
     "name": "stdout",
     "output_type": "stream",
     "text": [
      "\n",
      "Running exec: lblrtm\n",
      "\n",
      "\n"
     ]
    },
    {
     "name": "stderr",
     "output_type": "stream",
     "text": [
      "Note: The following floating-point exceptions are signalling: IEEE_INVALID_FLAG IEEE_UNDERFLOW_FLAG IEEE_DENORMAL\n",
      "STOP  LBLRTM EXIT \n",
      "0.91user 1.00system 0:02.02elapsed 94%CPU (0avgtext+0avgdata 7716maxresident)k\n",
      "0inputs+0outputs (0major+1236minor)pagefaults 0swaps\n"
     ]
    },
    {
     "name": "stdout",
     "output_type": "stream",
     "text": [
      "1143628\n",
      "humidity: 50.0\n",
      " pressure: 10000.0\n",
      " temperature: 300.0\n",
      " lat: 32.78000000000001\n",
      " elevation: 2.797999999999601\n",
      " freqmin(cm-1): 11098.779134295226\n",
      " freqmax(cm-1): 14265.33523537803\n",
      " angle: 44.62927519288961\n",
      "\n",
      "\n",
      "Running exec: lblrtm\n",
      "\n",
      "\n"
     ]
    },
    {
     "name": "stderr",
     "output_type": "stream",
     "text": [
      "Note: The following floating-point exceptions are signalling: IEEE_INVALID_FLAG IEEE_UNDERFLOW_FLAG IEEE_DENORMAL\n",
      "STOP  LBLRTM EXIT \n",
      "2.13user 1.13system 0:03.48elapsed 93%CPU (0avgtext+0avgdata 7720maxresident)k\n",
      "0inputs+0outputs (0major+1234minor)pagefaults 0swaps\n"
     ]
    },
    {
     "name": "stdout",
     "output_type": "stream",
     "text": [
      "\n",
      "Running exec: lblrtm\n",
      "\n",
      "\n"
     ]
    },
    {
     "name": "stderr",
     "output_type": "stream",
     "text": [
      "Note: The following floating-point exceptions are signalling: IEEE_INVALID_FLAG IEEE_UNDERFLOW_FLAG IEEE_DENORMAL\n",
      "STOP  LBLRTM EXIT \n",
      "0.92user 1.00system 0:02.07elapsed 92%CPU (0avgtext+0avgdata 7752maxresident)k\n",
      "0inputs+0outputs (0major+1238minor)pagefaults 0swaps\n"
     ]
    },
    {
     "name": "stdout",
     "output_type": "stream",
     "text": [
      "1143628\n",
      "humidity: 50.0\n",
      " pressure: 10000.0\n",
      " temperature: 300.0\n",
      " lat: 32.78000000000001\n",
      " elevation: 2.797999999999601\n",
      " freqmin(cm-1): 11098.779134295226\n",
      " freqmax(cm-1): 14265.33523537803\n",
      " angle: 31.567632273477905\n",
      "\n",
      "\n",
      "Running exec: lblrtm\n",
      "\n",
      "\n"
     ]
    },
    {
     "name": "stderr",
     "output_type": "stream",
     "text": [
      "Note: The following floating-point exceptions are signalling: IEEE_INVALID_FLAG IEEE_UNDERFLOW_FLAG IEEE_DENORMAL\n",
      "STOP  LBLRTM EXIT \n",
      "2.15user 1.11system 0:03.45elapsed 94%CPU (0avgtext+0avgdata 7672maxresident)k\n",
      "0inputs+0outputs (0major+1234minor)pagefaults 0swaps\n"
     ]
    },
    {
     "name": "stdout",
     "output_type": "stream",
     "text": [
      "\n",
      "Running exec: lblrtm\n",
      "\n",
      "\n"
     ]
    },
    {
     "name": "stderr",
     "output_type": "stream",
     "text": [
      "Note: The following floating-point exceptions are signalling: IEEE_INVALID_FLAG IEEE_UNDERFLOW_FLAG IEEE_DENORMAL\n",
      "STOP  LBLRTM EXIT \n",
      "0.92user 0.99system 0:02.03elapsed 94%CPU (0avgtext+0avgdata 7732maxresident)k\n",
      "0inputs+0outputs (0major+1237minor)pagefaults 0swaps\n"
     ]
    },
    {
     "name": "stdout",
     "output_type": "stream",
     "text": [
      "1143628\n",
      "humidity: 50.0\n",
      " pressure: 10000.0\n",
      " temperature: 300.0\n",
      " lat: 32.78000000000001\n",
      " elevation: 2.797999999999601\n",
      " freqmin(cm-1): 11098.779134295226\n",
      " freqmax(cm-1): 14265.33523537803\n",
      " angle: 44.219986042892295\n",
      "\n",
      "\n",
      "Running exec: lblrtm\n",
      "\n",
      "\n"
     ]
    },
    {
     "name": "stderr",
     "output_type": "stream",
     "text": [
      "Note: The following floating-point exceptions are signalling: IEEE_INVALID_FLAG IEEE_UNDERFLOW_FLAG IEEE_DENORMAL\n",
      "STOP  LBLRTM EXIT \n",
      "2.11user 1.16system 0:03.84elapsed 85%CPU (0avgtext+0avgdata 7752maxresident)k\n",
      "0inputs+0outputs (0major+1237minor)pagefaults 0swaps\n"
     ]
    },
    {
     "name": "stdout",
     "output_type": "stream",
     "text": [
      "\n",
      "Running exec: lblrtm\n",
      "\n",
      "\n"
     ]
    },
    {
     "name": "stderr",
     "output_type": "stream",
     "text": [
      "Note: The following floating-point exceptions are signalling: IEEE_INVALID_FLAG IEEE_UNDERFLOW_FLAG IEEE_DENORMAL\n",
      "STOP  LBLRTM EXIT \n",
      "0.90user 1.01system 0:02.02elapsed 94%CPU (0avgtext+0avgdata 7748maxresident)k\n",
      "0inputs+0outputs (0major+1234minor)pagefaults 0swaps\n"
     ]
    },
    {
     "name": "stdout",
     "output_type": "stream",
     "text": [
      "1143628\n",
      "humidity: 50.0\n",
      " pressure: 10000.0\n",
      " temperature: 300.0\n",
      " lat: 32.78000000000001\n",
      " elevation: 2.797999999999601\n",
      " freqmin(cm-1): 11098.779134295226\n",
      " freqmax(cm-1): 14265.33523537803\n",
      " angle: 55.209073951412215\n",
      "\n",
      "\n",
      "Running exec: lblrtm\n",
      "\n",
      "\n"
     ]
    },
    {
     "name": "stderr",
     "output_type": "stream",
     "text": [
      "Note: The following floating-point exceptions are signalling: IEEE_INVALID_FLAG IEEE_UNDERFLOW_FLAG IEEE_DENORMAL\n",
      "STOP  LBLRTM EXIT \n",
      "2.11user 1.09system 0:03.40elapsed 94%CPU (0avgtext+0avgdata 7732maxresident)k\n",
      "0inputs+0outputs (0major+1237minor)pagefaults 0swaps\n"
     ]
    },
    {
     "name": "stdout",
     "output_type": "stream",
     "text": [
      "\n",
      "Running exec: lblrtm\n",
      "\n",
      "\n"
     ]
    },
    {
     "name": "stderr",
     "output_type": "stream",
     "text": [
      "Note: The following floating-point exceptions are signalling: IEEE_INVALID_FLAG IEEE_UNDERFLOW_FLAG IEEE_DENORMAL\n",
      "STOP  LBLRTM EXIT \n",
      "0.94user 1.00system 0:02.06elapsed 94%CPU (0avgtext+0avgdata 7556maxresident)k\n",
      "0inputs+0outputs (0major+1235minor)pagefaults 0swaps\n"
     ]
    },
    {
     "name": "stdout",
     "output_type": "stream",
     "text": [
      "1127403\n",
      "humidity: 50.0\n",
      " pressure: 10000.0\n",
      " temperature: 300.0\n",
      " lat: 32.78000000000001\n",
      " elevation: 2.797999999999601\n",
      " freqmin(cm-1): 11098.779134295226\n",
      " freqmax(cm-1): 14265.33523537803\n",
      " angle: 16.046253531664348\n",
      "\n",
      "\n",
      "Running exec: lblrtm\n",
      "\n",
      "\n"
     ]
    },
    {
     "name": "stderr",
     "output_type": "stream",
     "text": [
      "Note: The following floating-point exceptions are signalling: IEEE_INVALID_FLAG IEEE_UNDERFLOW_FLAG IEEE_DENORMAL\n",
      "STOP  LBLRTM EXIT \n",
      "2.15user 1.10system 0:03.42elapsed 94%CPU (0avgtext+0avgdata 7712maxresident)k\n",
      "0inputs+0outputs (0major+1236minor)pagefaults 0swaps\n"
     ]
    },
    {
     "name": "stdout",
     "output_type": "stream",
     "text": [
      "\n",
      "Running exec: lblrtm\n",
      "\n",
      "\n"
     ]
    },
    {
     "name": "stderr",
     "output_type": "stream",
     "text": [
      "Note: The following floating-point exceptions are signalling: IEEE_INVALID_FLAG IEEE_UNDERFLOW_FLAG IEEE_DENORMAL\n",
      "STOP  LBLRTM EXIT \n",
      "0.90user 1.01system 0:02.00elapsed 95%CPU (0avgtext+0avgdata 7720maxresident)k\n",
      "0inputs+0outputs (0major+1234minor)pagefaults 0swaps\n"
     ]
    },
    {
     "name": "stdout",
     "output_type": "stream",
     "text": [
      "1143628\n",
      "humidity: 50.0\n",
      " pressure: 10000.0\n",
      " temperature: 300.0\n",
      " lat: 32.78000000000001\n",
      " elevation: 2.797999999999601\n",
      " freqmin(cm-1): 11098.779134295226\n",
      " freqmax(cm-1): 14265.33523537803\n",
      " angle: 70.36083125348077\n",
      "\n",
      "\n",
      "Running exec: lblrtm\n",
      "\n",
      "\n"
     ]
    },
    {
     "name": "stderr",
     "output_type": "stream",
     "text": [
      "Note: The following floating-point exceptions are signalling: IEEE_INVALID_FLAG IEEE_UNDERFLOW_FLAG IEEE_DENORMAL\n",
      "STOP  LBLRTM EXIT \n",
      "2.14user 1.15system 0:03.49elapsed 94%CPU (0avgtext+0avgdata 7572maxresident)k\n",
      "0inputs+0outputs (0major+1235minor)pagefaults 0swaps\n"
     ]
    },
    {
     "name": "stdout",
     "output_type": "stream",
     "text": [
      "\n",
      "Running exec: lblrtm\n",
      "\n",
      "\n"
     ]
    },
    {
     "name": "stderr",
     "output_type": "stream",
     "text": [
      "Note: The following floating-point exceptions are signalling: IEEE_INVALID_FLAG IEEE_UNDERFLOW_FLAG IEEE_DENORMAL\n",
      "STOP  LBLRTM EXIT \n",
      "0.91user 1.02system 0:02.01elapsed 96%CPU (0avgtext+0avgdata 7672maxresident)k\n",
      "0inputs+0outputs (0major+1233minor)pagefaults 0swaps\n"
     ]
    },
    {
     "name": "stdout",
     "output_type": "stream",
     "text": [
      "1143628\n",
      "humidity: 50.0\n",
      " pressure: 10000.0\n",
      " temperature: 300.0\n",
      " lat: 32.78000000000001\n",
      " elevation: 2.797999999999601\n",
      " freqmin(cm-1): 11098.779134295226\n",
      " freqmax(cm-1): 14265.33523537803\n",
      " angle: 5.621114858253093\n",
      "\n",
      "\n",
      "Running exec: lblrtm\n",
      "\n",
      "\n"
     ]
    },
    {
     "name": "stderr",
     "output_type": "stream",
     "text": [
      "Note: The following floating-point exceptions are signalling: IEEE_INVALID_FLAG IEEE_UNDERFLOW_FLAG IEEE_DENORMAL\n",
      "STOP  LBLRTM EXIT \n",
      "2.14user 1.11system 0:03.47elapsed 93%CPU (0avgtext+0avgdata 7672maxresident)k\n",
      "0inputs+0outputs (0major+1233minor)pagefaults 0swaps\n"
     ]
    },
    {
     "name": "stdout",
     "output_type": "stream",
     "text": [
      "\n",
      "Running exec: lblrtm\n",
      "\n",
      "\n"
     ]
    },
    {
     "name": "stderr",
     "output_type": "stream",
     "text": [
      "Note: The following floating-point exceptions are signalling: IEEE_INVALID_FLAG IEEE_UNDERFLOW_FLAG IEEE_DENORMAL\n",
      "STOP  LBLRTM EXIT \n",
      "0.90user 1.02system 0:02.04elapsed 94%CPU (0avgtext+0avgdata 7792maxresident)k\n",
      "0inputs+0outputs (0major+1237minor)pagefaults 0swaps\n"
     ]
    },
    {
     "name": "stdout",
     "output_type": "stream",
     "text": [
      "1143628\n",
      "<simulacra.tellurics.TelFitModel object at 0x145c0d5fc9b0> [1.6178939077349241e-06, 2.1907587743896784e-07, 2.1907587743896784e-07, 2.1907587743896784e-07, 2.1907587743896784e-07, 2.2146180711501984e-07, 2.2147022882279543e-07, 2.1907587743896784e-07, 2.1907587743896784e-07, 2.1907587743896784e-07, 2.2717149938955572e-07, 2.1907587743896784e-07, 2.1907587743896784e-07, 2.1907587743896784e-07, 2.1907587743896784e-07, 2.1907587743896784e-07, 2.1907587743896784e-07, 2.1907587743896784e-07, 2.1907587743896784e-07, 2.1907587743896784e-07, 2.1907587743896784e-07, 2.1907587743896784e-07, 2.1907587743896784e-07, 2.1907587743896784e-07, 2.1907587743896784e-07, 2.1907587743896784e-07, 2.1907587743896784e-07, 2.1996264365498064e-07, 2.1907587743896784e-07, 2.1907587743896784e-07, 2.1907587743896784e-07]\n",
      "interpolating spline...\n",
      "0\n",
      "1\n",
      "2\n",
      "3\n",
      "4\n",
      "5\n",
      "6\n",
      "7\n",
      "8\n",
      "9\n",
      "10\n",
      "11\n",
      "12\n",
      "13\n",
      "14\n",
      "15\n",
      "16\n",
      "17\n",
      "18\n",
      "19\n",
      "20\n",
      "21\n",
      "22\n",
      "23\n",
      "24\n",
      "25\n",
      "26\n",
      "27\n",
      "28\n",
      "29\n",
      "combining grids...\n",
      "convolving...\n",
      "0\n",
      "1\n",
      "2\n",
      "3\n",
      "4\n",
      "5\n",
      "6\n",
      "7\n",
      "8\n",
      "9\n",
      "10\n",
      "11\n",
      "12\n",
      "13\n",
      "14\n",
      "15\n",
      "16\n",
      "17\n",
      "18\n",
      "19\n",
      "20\n",
      "21\n",
      "22\n",
      "23\n",
      "24\n",
      "25\n",
      "26\n",
      "27\n",
      "28\n",
      "29\n",
      "xs: 7005.007110494636 9004.98956196525\n",
      "xhat: 7010.007110494628 8999.990639003297\n",
      "interpolating lanczos...\n",
      "0\n",
      "1\n",
      "2\n",
      "3\n",
      "4\n",
      "5\n",
      "6\n",
      "7\n",
      "8\n",
      "9\n",
      "10\n",
      "11\n",
      "12\n",
      "13\n",
      "14\n",
      "15\n",
      "16\n",
      "17\n",
      "18\n",
      "19\n",
      "20\n",
      "21\n",
      "22\n",
      "23\n",
      "24\n",
      "25\n",
      "26\n",
      "27\n",
      "28\n",
      "29\n",
      "area: 14.522012041218817 m2\t avg d lambda: 0.05688267575202005 Angstrom\t avg lambda: 7963.6042297997865 Angstrom\t avg exp times: 8.0 min\n",
      "0 n mean: 1.23e+02\t n median: 1.48e+02\n",
      "1 n mean: 1.39e+02\t n median: 1.51e+02\n",
      "2 n mean: 1.29e+02\t n median: 1.47e+02\n",
      "3 n mean: 1.39e+02\t n median: 1.51e+02\n",
      "4 n mean: 1.32e+02\t n median: 1.48e+02\n",
      "5 n mean: 1.23e+02\t n median: 1.41e+02\n",
      "6 n mean: 1.40e+02\t n median: 1.51e+02\n",
      "7 n mean: 1.41e+02\t n median: 1.52e+02\n",
      "8 n mean: 1.41e+02\t n median: 1.52e+02\n",
      "9 n mean: 1.39e+02\t n median: 1.51e+02\n",
      "10 n mean: 1.40e+02\t n median: 1.51e+02\n",
      "11 n mean: 1.39e+02\t n median: 1.51e+02\n",
      "12 n mean: 1.41e+02\t n median: 1.52e+02\n",
      "13 n mean: 1.37e+02\t n median: 1.50e+02\n",
      "14 n mean: 1.31e+02\t n median: 1.48e+02\n",
      "15 n mean: 1.32e+02\t n median: 1.49e+02\n",
      "16 n mean: 1.41e+02\t n median: 1.52e+02\n",
      "17 n mean: 1.40e+02\t n median: 1.51e+02\n",
      "18 n mean: 1.38e+02\t n median: 1.51e+02\n",
      "19 n mean: 1.40e+02\t n median: 1.52e+02\n",
      "20 n mean: 1.39e+02\t n median: 1.51e+02\n",
      "21 n mean: 1.37e+02\t n median: 1.51e+02\n",
      "22 n mean: 1.38e+02\t n median: 1.51e+02\n",
      "23 n mean: 1.38e+02\t n median: 1.51e+02\n",
      "24 n mean: 1.39e+02\t n median: 1.51e+02\n",
      "25 n mean: 1.38e+02\t n median: 1.51e+02\n",
      "26 n mean: 1.23e+02\t n median: 1.51e+02\n",
      "27 n mean: 1.40e+02\t n median: 1.52e+02\n",
      "28 n mean: 1.28e+02\t n median: 1.46e+02\n",
      "29 n mean: 1.41e+02\t n median: 1.52e+02\n",
      "generating true signal to noise ratios...\n",
      "adding noise...\n",
      "generating exp signal to noise ratios...\n"
     ]
    },
    {
     "name": "stderr",
     "output_type": "stream",
     "text": [
      "../simulacra/detector.py:529: RuntimeWarning: invalid value encountered in add_noise_v\n",
      "  n_readout = add_noise_v(n_exp.flatten().value,snr_grid.flatten()).reshape(out_shape)\n"
     ]
    },
    {
     "name": "stdout",
     "output_type": "stream",
     "text": [
      "generating errors...\n",
      "done.\n",
      "/scratch/mdd423/simulacra/out/2021-11-02/data_e30_R70000.0_a2000.0_p40.3_l7.0e+039.0e+03_ep1.0_w0.0_snr5.4e+00_tp3e-07\n",
      "saving time\n",
      "quantity\n",
      "epoches  saving as string\n",
      "quantity\n",
      "quantity\n"
     ]
    },
    {
     "name": "stderr",
     "output_type": "stream",
     "text": [
      "../simulacra/detector.py:541: RuntimeWarning: invalid value encountered in generate_errors_v\n",
      "  nerr_out = generate_errors_v(n_readout.flatten(),snr_readout.flatten()).reshape(out_shape)\n"
     ]
    },
    {
     "name": "stdout",
     "output_type": "stream",
     "text": [
      "quantity\n",
      "quantity\n",
      "quantity\n",
      "quantity\n",
      "quantity\n",
      "flux  saving as string\n",
      "wave  saving as string\n",
      "quantity\n",
      "quantity\n",
      "quantity\n",
      "alpha  saving as string\n",
      "quantity\n",
      "quantity\n",
      "fluxname  saving as string\n",
      "generate_spectra  saving as string\n",
      "quantity\n",
      "quantity\n",
      "logg  saving as string\n",
      "outdir  saving as string\n",
      "quantity\n",
      "plot  saving as string\n",
      "plot_interpolated  saving as string\n",
      "quantity\n",
      "quantity\n",
      "saving target...340.28129510273834 deg 28.43612929851907 deg\n",
      "temperature  saving as string\n",
      "quantity\n",
      "quantity\n",
      "wavename  saving as string\n",
      "quantity\n",
      "z  saving as string\n",
      "quantity\n",
      "quantity\n",
      "quantity\n",
      "quantity\n",
      "a  saving as string\n",
      "add_model  saving as string\n",
      "quantity\n",
      "checkmax  saving as string\n",
      "checkmin  saving as string\n",
      "quantity\n",
      "epsilon  saving as string\n",
      "gamma  saving as string\n",
      "quantity\n",
      "quantity\n",
      "quantity\n",
      "lsf_centering  saving as string\n",
      "lsf_const_coeffs  saving as string\n",
      "resolution  saving as string\n",
      "sigma  saving as string\n",
      "sigma_range  saving as string\n",
      "simulate  saving as string\n",
      "stellar_model  saving as string\n",
      "through_put  saving as string\n",
      "transmission_cutoff  saving as string\n",
      "transmission_models  saving as string\n",
      "w  saving as string\n",
      "quantity\n",
      "quantity\n",
      "quantity\n",
      "_epoches  saving as string\n",
      "quantity\n",
      "quantity\n",
      "_name  saving as string\n",
      "quantity\n",
      "quantity\n",
      "check_property  saving as string\n",
      "check_shape_type  saving as string\n",
      "epoches  saving as string\n",
      "generate_transmission  saving as string\n",
      "quantity\n",
      "quantity\n",
      "quantity\n",
      "plot  saving as string\n",
      "plot_interpolated  saving as string\n",
      "quantity\n",
      "quantity\n",
      "quantity\n",
      "nan nan\n",
      "using saved wave file\n",
      "../data/stellar/PHOENIX/lte04800-1.00-1.0.Alpha=+0.40.PHOENIX-ACES-AGSS-COND-2011-HiRes.fits\n",
      "using saved flux file\n",
      "reading in ../data/stellar/PHOENIX/WAVE_PHOENIX-ACES-AGSS-COND-2011.fits\n",
      "wave_grid min -> 701.0 nm\n",
      "surface flux: mean 1.31e+14 erg / (cm3 s)\t median 1.14e+14 erg / (cm3 s)\n",
      "obs     flux: mean 2.36e-03 erg / (cm3 s)\t median 2.05e-03 erg / (cm3 s)\n",
      "generating spectra...\n",
      "humidity: 50.0\n",
      " pressure: 10000.0\n",
      " temperature: 300.0\n",
      " lat: 32.78000000000001\n",
      " elevation: 2.797999999999601\n",
      " freqmin(cm-1): 11098.779134295226\n",
      " freqmax(cm-1): 14265.33523537803\n",
      " angle: 62.8613757400191\n",
      "\n",
      "\n",
      "Running exec: lblrtm\n",
      "\n",
      "\n"
     ]
    },
    {
     "name": "stderr",
     "output_type": "stream",
     "text": [
      "Note: The following floating-point exceptions are signalling: IEEE_INVALID_FLAG IEEE_UNDERFLOW_FLAG IEEE_DENORMAL\n",
      "STOP  LBLRTM EXIT \n",
      "2.16user 1.12system 0:03.65elapsed 89%CPU (0avgtext+0avgdata 7624maxresident)k\n",
      "0inputs+0outputs (0major+1234minor)pagefaults 0swaps\n"
     ]
    },
    {
     "name": "stdout",
     "output_type": "stream",
     "text": [
      "\n",
      "Running exec: lblrtm\n",
      "\n",
      "\n"
     ]
    },
    {
     "name": "stderr",
     "output_type": "stream",
     "text": [
      "Note: The following floating-point exceptions are signalling: IEEE_INVALID_FLAG IEEE_UNDERFLOW_FLAG IEEE_DENORMAL\n",
      "STOP  LBLRTM EXIT \n",
      "0.93user 0.98system 0:02.08elapsed 92%CPU (0avgtext+0avgdata 7624maxresident)k\n",
      "0inputs+0outputs (0major+1233minor)pagefaults 0swaps\n"
     ]
    },
    {
     "name": "stdout",
     "output_type": "stream",
     "text": [
      "1143628\n",
      "humidity: 50.0\n",
      " pressure: 10000.0\n",
      " temperature: 300.0\n",
      " lat: 32.78000000000001\n",
      " elevation: 2.797999999999601\n",
      " freqmin(cm-1): 11098.779134295226\n",
      " freqmax(cm-1): 14265.33523537803\n",
      " angle: 36.420938571519066\n",
      "\n",
      "\n",
      "Running exec: lblrtm\n",
      "\n",
      "\n"
     ]
    },
    {
     "name": "stderr",
     "output_type": "stream",
     "text": [
      "Note: The following floating-point exceptions are signalling: IEEE_INVALID_FLAG IEEE_UNDERFLOW_FLAG IEEE_DENORMAL\n",
      "STOP  LBLRTM EXIT \n",
      "2.16user 1.10system 0:03.43elapsed 95%CPU (0avgtext+0avgdata 7748maxresident)k\n",
      "0inputs+0outputs (0major+1234minor)pagefaults 0swaps\n"
     ]
    },
    {
     "name": "stdout",
     "output_type": "stream",
     "text": [
      "\n",
      "Running exec: lblrtm\n",
      "\n",
      "\n"
     ]
    },
    {
     "name": "stderr",
     "output_type": "stream",
     "text": [
      "Note: The following floating-point exceptions are signalling: IEEE_INVALID_FLAG IEEE_UNDERFLOW_FLAG IEEE_DENORMAL\n",
      "STOP  LBLRTM EXIT \n",
      "0.93user 0.99system 0:02.00elapsed 96%CPU (0avgtext+0avgdata 7672maxresident)k\n",
      "0inputs+0outputs (0major+1234minor)pagefaults 0swaps\n"
     ]
    },
    {
     "name": "stdout",
     "output_type": "stream",
     "text": [
      "1143628\n",
      "humidity: 50.0\n",
      " pressure: 10000.0\n",
      " temperature: 300.0\n",
      " lat: 32.78000000000001\n",
      " elevation: 2.797999999999601\n",
      " freqmin(cm-1): 11098.779134295226\n",
      " freqmax(cm-1): 14265.33523537803\n",
      " angle: 70.23515457427514\n",
      "\n",
      "\n",
      "Running exec: lblrtm\n",
      "\n",
      "\n"
     ]
    },
    {
     "name": "stderr",
     "output_type": "stream",
     "text": [
      "Note: The following floating-point exceptions are signalling: IEEE_INVALID_FLAG IEEE_UNDERFLOW_FLAG IEEE_DENORMAL\n",
      "STOP  LBLRTM EXIT \n",
      "2.18user 1.11system 0:03.50elapsed 94%CPU (0avgtext+0avgdata 7624maxresident)k\n",
      "0inputs+0outputs (0major+1233minor)pagefaults 0swaps\n"
     ]
    },
    {
     "name": "stdout",
     "output_type": "stream",
     "text": [
      "\n",
      "Running exec: lblrtm\n",
      "\n",
      "\n"
     ]
    },
    {
     "name": "stderr",
     "output_type": "stream",
     "text": [
      "Note: The following floating-point exceptions are signalling: IEEE_INVALID_FLAG IEEE_UNDERFLOW_FLAG IEEE_DENORMAL\n",
      "STOP  LBLRTM EXIT \n",
      "0.90user 1.04system 0:02.07elapsed 94%CPU (0avgtext+0avgdata 7576maxresident)k\n",
      "0inputs+0outputs (0major+1233minor)pagefaults 0swaps\n"
     ]
    },
    {
     "name": "stdout",
     "output_type": "stream",
     "text": [
      "1143628\n",
      "humidity: 50.0\n",
      " pressure: 10000.0\n",
      " temperature: 300.0\n",
      " lat: 32.78000000000001\n",
      " elevation: 2.797999999999601\n",
      " freqmin(cm-1): 11098.779134295226\n",
      " freqmax(cm-1): 14265.33523537803\n",
      " angle: 37.41097711185363\n",
      "\n",
      "\n",
      "Running exec: lblrtm\n",
      "\n",
      "\n"
     ]
    },
    {
     "name": "stderr",
     "output_type": "stream",
     "text": [
      "Note: The following floating-point exceptions are signalling: IEEE_INVALID_FLAG IEEE_UNDERFLOW_FLAG IEEE_DENORMAL\n",
      "STOP  LBLRTM EXIT \n",
      "2.14user 1.11system 0:03.42elapsed 95%CPU (0avgtext+0avgdata 7676maxresident)k\n",
      "0inputs+0outputs (0major+1233minor)pagefaults 0swaps\n"
     ]
    },
    {
     "name": "stdout",
     "output_type": "stream",
     "text": [
      "\n",
      "Running exec: lblrtm\n",
      "\n",
      "\n"
     ]
    },
    {
     "name": "stderr",
     "output_type": "stream",
     "text": [
      "Note: The following floating-point exceptions are signalling: IEEE_INVALID_FLAG IEEE_UNDERFLOW_FLAG IEEE_DENORMAL\n",
      "STOP  LBLRTM EXIT \n",
      "0.88user 1.03system 0:02.00elapsed 96%CPU (0avgtext+0avgdata 7620maxresident)k\n",
      "0inputs+0outputs (0major+1233minor)pagefaults 0swaps\n"
     ]
    },
    {
     "name": "stdout",
     "output_type": "stream",
     "text": [
      "1143628\n",
      "humidity: 50.0\n",
      " pressure: 10000.0\n",
      " temperature: 300.0\n",
      " lat: 32.78000000000001\n",
      " elevation: 2.797999999999601\n",
      " freqmin(cm-1): 11098.779134295226\n",
      " freqmax(cm-1): 14265.33523537803\n",
      " angle: 65.09115788813192\n",
      "\n",
      "\n",
      "Running exec: lblrtm\n",
      "\n",
      "\n"
     ]
    },
    {
     "name": "stderr",
     "output_type": "stream",
     "text": [
      "Note: The following floating-point exceptions are signalling: IEEE_INVALID_FLAG IEEE_UNDERFLOW_FLAG IEEE_DENORMAL\n",
      "STOP  LBLRTM EXIT \n",
      "2.13user 1.11system 0:03.41elapsed 95%CPU (0avgtext+0avgdata 7748maxresident)k\n",
      "0inputs+0outputs (0major+1234minor)pagefaults 0swaps\n"
     ]
    },
    {
     "name": "stdout",
     "output_type": "stream",
     "text": [
      "\n",
      "Running exec: lblrtm\n",
      "\n",
      "\n"
     ]
    },
    {
     "name": "stderr",
     "output_type": "stream",
     "text": [
      "Note: The following floating-point exceptions are signalling: IEEE_INVALID_FLAG IEEE_UNDERFLOW_FLAG IEEE_DENORMAL\n",
      "STOP  LBLRTM EXIT \n",
      "0.92user 0.99system 0:02.04elapsed 93%CPU (0avgtext+0avgdata 7684maxresident)k\n",
      "0inputs+0outputs (0major+1236minor)pagefaults 0swaps\n"
     ]
    },
    {
     "name": "stdout",
     "output_type": "stream",
     "text": [
      "1127370\n",
      "humidity: 50.0\n",
      " pressure: 10000.0\n",
      " temperature: 300.0\n",
      " lat: 32.78000000000001\n",
      " elevation: 2.797999999999601\n",
      " freqmin(cm-1): 11098.779134295226\n",
      " freqmax(cm-1): 14265.33523537803\n",
      " angle: 59.94944845829285\n",
      "\n",
      "\n",
      "Running exec: lblrtm\n",
      "\n",
      "\n"
     ]
    },
    {
     "name": "stderr",
     "output_type": "stream",
     "text": [
      "Note: The following floating-point exceptions are signalling: IEEE_INVALID_FLAG IEEE_UNDERFLOW_FLAG IEEE_DENORMAL\n",
      "STOP  LBLRTM EXIT \n",
      "2.06user 1.15system 0:03.49elapsed 92%CPU (0avgtext+0avgdata 7672maxresident)k\n",
      "0inputs+0outputs (0major+1233minor)pagefaults 0swaps\n"
     ]
    },
    {
     "name": "stdout",
     "output_type": "stream",
     "text": [
      "\n",
      "Running exec: lblrtm\n",
      "\n",
      "\n"
     ]
    },
    {
     "name": "stderr",
     "output_type": "stream",
     "text": [
      "Note: The following floating-point exceptions are signalling: IEEE_INVALID_FLAG IEEE_UNDERFLOW_FLAG IEEE_DENORMAL\n",
      "STOP  LBLRTM EXIT \n",
      "0.95user 1.00system 0:02.03elapsed 96%CPU (0avgtext+0avgdata 7576maxresident)k\n",
      "0inputs+0outputs (0major+1234minor)pagefaults 0swaps\n"
     ]
    },
    {
     "name": "stdout",
     "output_type": "stream",
     "text": [
      "1124676\n",
      "humidity: 50.0\n",
      " pressure: 10000.0\n",
      " temperature: 300.0\n",
      " lat: 32.78000000000001\n",
      " elevation: 2.797999999999601\n",
      " freqmin(cm-1): 11098.779134295226\n",
      " freqmax(cm-1): 14265.33523537803\n",
      " angle: 27.811520651072378\n",
      "\n",
      "\n",
      "Running exec: lblrtm\n",
      "\n",
      "\n"
     ]
    },
    {
     "name": "stderr",
     "output_type": "stream",
     "text": [
      "Note: The following floating-point exceptions are signalling: IEEE_INVALID_FLAG IEEE_UNDERFLOW_FLAG IEEE_DENORMAL\n",
      "STOP  LBLRTM EXIT \n",
      "2.15user 1.13system 0:03.47elapsed 94%CPU (0avgtext+0avgdata 7748maxresident)k\n",
      "0inputs+0outputs (0major+1234minor)pagefaults 0swaps\n"
     ]
    },
    {
     "name": "stdout",
     "output_type": "stream",
     "text": [
      "\n",
      "Running exec: lblrtm\n",
      "\n",
      "\n"
     ]
    },
    {
     "name": "stderr",
     "output_type": "stream",
     "text": [
      "Note: The following floating-point exceptions are signalling: IEEE_INVALID_FLAG IEEE_UNDERFLOW_FLAG IEEE_DENORMAL\n",
      "STOP  LBLRTM EXIT \n",
      "0.90user 1.01system 0:02.00elapsed 95%CPU (0avgtext+0avgdata 7684maxresident)k\n",
      "0inputs+0outputs (0major+1237minor)pagefaults 0swaps\n"
     ]
    },
    {
     "name": "stdout",
     "output_type": "stream",
     "text": [
      "1143628\n",
      "humidity: 50.0\n",
      " pressure: 10000.0\n",
      " temperature: 300.0\n",
      " lat: 32.78000000000001\n",
      " elevation: 2.797999999999601\n",
      " freqmin(cm-1): 11098.779134295226\n",
      " freqmax(cm-1): 14265.33523537803\n",
      " angle: 4.6273790635876395\n",
      "\n",
      "\n",
      "Running exec: lblrtm\n",
      "\n",
      "\n"
     ]
    },
    {
     "name": "stderr",
     "output_type": "stream",
     "text": [
      "Note: The following floating-point exceptions are signalling: IEEE_INVALID_FLAG IEEE_UNDERFLOW_FLAG IEEE_DENORMAL\n",
      "STOP  LBLRTM EXIT \n",
      "2.11user 1.13system 0:03.43elapsed 94%CPU (0avgtext+0avgdata 7672maxresident)k\n",
      "0inputs+0outputs (0major+1235minor)pagefaults 0swaps\n"
     ]
    },
    {
     "name": "stdout",
     "output_type": "stream",
     "text": [
      "\n",
      "Running exec: lblrtm\n",
      "\n",
      "\n"
     ]
    },
    {
     "name": "stderr",
     "output_type": "stream",
     "text": [
      "Note: The following floating-point exceptions are signalling: IEEE_INVALID_FLAG IEEE_UNDERFLOW_FLAG IEEE_DENORMAL\n",
      "STOP  LBLRTM EXIT \n",
      "0.92user 0.99system 0:02.00elapsed 96%CPU (0avgtext+0avgdata 7684maxresident)k\n",
      "0inputs+0outputs (0major+1238minor)pagefaults 0swaps\n"
     ]
    },
    {
     "name": "stdout",
     "output_type": "stream",
     "text": [
      "1143628\n",
      "humidity: 50.0\n",
      " pressure: 10000.0\n",
      " temperature: 300.0\n",
      " lat: 32.78000000000001\n",
      " elevation: 2.797999999999601\n",
      " freqmin(cm-1): 11098.779134295226\n",
      " freqmax(cm-1): 14265.33523537803\n",
      " angle: 11.404396925323324\n",
      "\n",
      "\n",
      "Running exec: lblrtm\n",
      "\n",
      "\n"
     ]
    },
    {
     "name": "stderr",
     "output_type": "stream",
     "text": [
      "Note: The following floating-point exceptions are signalling: IEEE_INVALID_FLAG IEEE_UNDERFLOW_FLAG IEEE_DENORMAL\n",
      "STOP  LBLRTM EXIT \n",
      "2.13user 1.12system 0:03.43elapsed 94%CPU (0avgtext+0avgdata 7672maxresident)k\n",
      "0inputs+0outputs (0major+1233minor)pagefaults 0swaps\n"
     ]
    },
    {
     "name": "stdout",
     "output_type": "stream",
     "text": [
      "\n",
      "Running exec: lblrtm\n",
      "\n",
      "\n"
     ]
    },
    {
     "name": "stderr",
     "output_type": "stream",
     "text": [
      "Note: The following floating-point exceptions are signalling: IEEE_INVALID_FLAG IEEE_UNDERFLOW_FLAG IEEE_DENORMAL\n",
      "STOP  LBLRTM EXIT \n",
      "0.90user 1.01system 0:02.03elapsed 94%CPU (0avgtext+0avgdata 7624maxresident)k\n",
      "0inputs+0outputs (0major+1233minor)pagefaults 0swaps\n"
     ]
    },
    {
     "name": "stdout",
     "output_type": "stream",
     "text": [
      "1143628\n",
      "humidity: 50.0\n",
      " pressure: 10000.0\n",
      " temperature: 300.0\n",
      " lat: 32.78000000000001\n",
      " elevation: 2.797999999999601\n",
      " freqmin(cm-1): 11098.779134295226\n",
      " freqmax(cm-1): 14265.33523537803\n",
      " angle: 54.85857323188904\n",
      "\n",
      "\n",
      "Running exec: lblrtm\n",
      "\n",
      "\n"
     ]
    },
    {
     "name": "stderr",
     "output_type": "stream",
     "text": [
      "Note: The following floating-point exceptions are signalling: IEEE_INVALID_FLAG IEEE_UNDERFLOW_FLAG IEEE_DENORMAL\n",
      "STOP  LBLRTM EXIT \n",
      "2.15user 1.10system 0:03.67elapsed 88%CPU (0avgtext+0avgdata 7628maxresident)k\n",
      "0inputs+0outputs (0major+1233minor)pagefaults 0swaps\n"
     ]
    },
    {
     "name": "stdout",
     "output_type": "stream",
     "text": [
      "\n",
      "Running exec: lblrtm\n",
      "\n",
      "\n"
     ]
    },
    {
     "name": "stderr",
     "output_type": "stream",
     "text": [
      "Note: The following floating-point exceptions are signalling: IEEE_INVALID_FLAG IEEE_UNDERFLOW_FLAG IEEE_DENORMAL\n",
      "STOP  LBLRTM EXIT \n",
      "0.87user 1.03system 0:02.03elapsed 93%CPU (0avgtext+0avgdata 7748maxresident)k\n",
      "0inputs+0outputs (0major+1237minor)pagefaults 0swaps\n"
     ]
    },
    {
     "name": "stdout",
     "output_type": "stream",
     "text": [
      "1111626\n",
      "humidity: 50.0\n",
      " pressure: 10000.0\n",
      " temperature: 300.0\n",
      " lat: 32.78000000000001\n",
      " elevation: 2.797999999999601\n",
      " freqmin(cm-1): 11098.779134295226\n",
      " freqmax(cm-1): 14265.33523537803\n",
      " angle: 27.82399986133828\n",
      "\n",
      "\n",
      "Running exec: lblrtm\n",
      "\n",
      "\n"
     ]
    },
    {
     "name": "stderr",
     "output_type": "stream",
     "text": [
      "Note: The following floating-point exceptions are signalling: IEEE_INVALID_FLAG IEEE_UNDERFLOW_FLAG IEEE_DENORMAL\n",
      "STOP  LBLRTM EXIT \n",
      "2.15user 1.12system 0:03.69elapsed 88%CPU (0avgtext+0avgdata 7672maxresident)k\n",
      "0inputs+0outputs (0major+1233minor)pagefaults 0swaps\n"
     ]
    },
    {
     "name": "stdout",
     "output_type": "stream",
     "text": [
      "\n",
      "Running exec: lblrtm\n",
      "\n",
      "\n"
     ]
    },
    {
     "name": "stderr",
     "output_type": "stream",
     "text": [
      "Note: The following floating-point exceptions are signalling: IEEE_INVALID_FLAG IEEE_UNDERFLOW_FLAG IEEE_DENORMAL\n",
      "STOP  LBLRTM EXIT \n",
      "0.91user 1.00system 0:02.02elapsed 94%CPU (0avgtext+0avgdata 7680maxresident)k\n",
      "0inputs+0outputs (0major+1237minor)pagefaults 0swaps\n"
     ]
    },
    {
     "name": "stdout",
     "output_type": "stream",
     "text": [
      "1143628\n",
      "humidity: 50.0\n",
      " pressure: 10000.0\n",
      " temperature: 300.0\n",
      " lat: 32.78000000000001\n",
      " elevation: 2.797999999999601\n",
      " freqmin(cm-1): 11098.779134295226\n",
      " freqmax(cm-1): 14265.33523537803\n",
      " angle: 32.81380139483823\n",
      "\n",
      "\n",
      "Running exec: lblrtm\n",
      "\n",
      "\n"
     ]
    },
    {
     "name": "stderr",
     "output_type": "stream",
     "text": [
      "Note: The following floating-point exceptions are signalling: IEEE_INVALID_FLAG IEEE_UNDERFLOW_FLAG IEEE_DENORMAL\n",
      "STOP  LBLRTM EXIT \n",
      "2.11user 1.15system 0:03.40elapsed 96%CPU (0avgtext+0avgdata 7792maxresident)k\n",
      "0inputs+0outputs (0major+1238minor)pagefaults 0swaps\n"
     ]
    },
    {
     "name": "stdout",
     "output_type": "stream",
     "text": [
      "\n",
      "Running exec: lblrtm\n",
      "\n",
      "\n"
     ]
    },
    {
     "name": "stderr",
     "output_type": "stream",
     "text": [
      "Note: The following floating-point exceptions are signalling: IEEE_INVALID_FLAG IEEE_UNDERFLOW_FLAG IEEE_DENORMAL\n",
      "STOP  LBLRTM EXIT \n",
      "0.91user 1.00system 0:02.03elapsed 94%CPU (0avgtext+0avgdata 7720maxresident)k\n",
      "0inputs+0outputs (0major+1238minor)pagefaults 0swaps\n"
     ]
    },
    {
     "name": "stdout",
     "output_type": "stream",
     "text": [
      "1143628\n",
      "humidity: 50.0\n",
      " pressure: 10000.0\n",
      " temperature: 300.0\n",
      " lat: 32.78000000000001\n",
      " elevation: 2.797999999999601\n",
      " freqmin(cm-1): 11098.779134295226\n",
      " freqmax(cm-1): 14265.33523537803\n",
      " angle: 5.685228205863384\n",
      "\n",
      "\n",
      "Running exec: lblrtm\n",
      "\n",
      "\n"
     ]
    },
    {
     "name": "stderr",
     "output_type": "stream",
     "text": [
      "Note: The following floating-point exceptions are signalling: IEEE_INVALID_FLAG IEEE_UNDERFLOW_FLAG IEEE_DENORMAL\n",
      "STOP  LBLRTM EXIT \n",
      "2.14user 1.10system 0:03.42elapsed 95%CPU (0avgtext+0avgdata 7748maxresident)k\n",
      "0inputs+0outputs (0major+1234minor)pagefaults 0swaps\n"
     ]
    },
    {
     "name": "stdout",
     "output_type": "stream",
     "text": [
      "\n",
      "Running exec: lblrtm\n",
      "\n",
      "\n"
     ]
    },
    {
     "name": "stderr",
     "output_type": "stream",
     "text": [
      "Note: The following floating-point exceptions are signalling: IEEE_INVALID_FLAG IEEE_UNDERFLOW_FLAG IEEE_DENORMAL\n",
      "STOP  LBLRTM EXIT \n",
      "0.93user 0.96system 0:02.03elapsed 93%CPU (0avgtext+0avgdata 7732maxresident)k\n",
      "0inputs+0outputs (0major+1236minor)pagefaults 0swaps\n"
     ]
    },
    {
     "name": "stdout",
     "output_type": "stream",
     "text": [
      "1143628\n",
      "humidity: 50.0\n",
      " pressure: 10000.0\n",
      " temperature: 300.0\n",
      " lat: 32.78000000000001\n",
      " elevation: 2.797999999999601\n",
      " freqmin(cm-1): 11098.779134295226\n",
      " freqmax(cm-1): 14265.33523537803\n",
      " angle: 50.422615509223334\n",
      "\n",
      "\n",
      "Running exec: lblrtm\n",
      "\n",
      "\n"
     ]
    },
    {
     "name": "stderr",
     "output_type": "stream",
     "text": [
      "Note: The following floating-point exceptions are signalling: IEEE_INVALID_FLAG IEEE_UNDERFLOW_FLAG IEEE_DENORMAL\n",
      "STOP  LBLRTM EXIT \n",
      "2.11user 1.15system 0:03.50elapsed 93%CPU (0avgtext+0avgdata 7560maxresident)k\n",
      "0inputs+0outputs (0major+1233minor)pagefaults 0swaps\n"
     ]
    },
    {
     "name": "stdout",
     "output_type": "stream",
     "text": [
      "\n",
      "Running exec: lblrtm\n",
      "\n",
      "\n"
     ]
    },
    {
     "name": "stderr",
     "output_type": "stream",
     "text": [
      "Note: The following floating-point exceptions are signalling: IEEE_INVALID_FLAG IEEE_UNDERFLOW_FLAG IEEE_DENORMAL\n",
      "STOP  LBLRTM EXIT \n",
      "0.89user 1.02system 0:01.99elapsed 96%CPU (0avgtext+0avgdata 7624maxresident)k\n",
      "0inputs+0outputs (0major+1233minor)pagefaults 0swaps\n"
     ]
    },
    {
     "name": "stdout",
     "output_type": "stream",
     "text": [
      "1143628\n",
      "humidity: 50.0\n",
      " pressure: 10000.0\n",
      " temperature: 300.0\n",
      " lat: 32.78000000000001\n",
      " elevation: 2.797999999999601\n",
      " freqmin(cm-1): 11098.779134295226\n",
      " freqmax(cm-1): 14265.33523537803\n",
      " angle: 66.89041188034572\n",
      "\n",
      "\n",
      "Running exec: lblrtm\n",
      "\n",
      "\n"
     ]
    },
    {
     "name": "stderr",
     "output_type": "stream",
     "text": [
      "Note: The following floating-point exceptions are signalling: IEEE_INVALID_FLAG IEEE_UNDERFLOW_FLAG IEEE_DENORMAL\n",
      "STOP  LBLRTM EXIT \n",
      "2.16user 1.13system 0:03.45elapsed 95%CPU (0avgtext+0avgdata 7564maxresident)k\n",
      "0inputs+0outputs (0major+1233minor)pagefaults 0swaps\n"
     ]
    },
    {
     "name": "stdout",
     "output_type": "stream",
     "text": [
      "\n",
      "Running exec: lblrtm\n",
      "\n",
      "\n"
     ]
    },
    {
     "name": "stderr",
     "output_type": "stream",
     "text": [
      "Note: The following floating-point exceptions are signalling: IEEE_INVALID_FLAG IEEE_UNDERFLOW_FLAG IEEE_DENORMAL\n",
      "STOP  LBLRTM EXIT \n",
      "0.91user 1.02system 0:02.01elapsed 96%CPU (0avgtext+0avgdata 7732maxresident)k\n",
      "0inputs+0outputs (0major+1236minor)pagefaults 0swaps\n"
     ]
    },
    {
     "name": "stdout",
     "output_type": "stream",
     "text": [
      "1143628\n",
      "humidity: 50.0\n",
      " pressure: 10000.0\n",
      " temperature: 300.0\n",
      " lat: 32.78000000000001\n",
      " elevation: 2.797999999999601\n",
      " freqmin(cm-1): 11098.779134295226\n",
      " freqmax(cm-1): 14265.33523537803\n",
      " angle: 65.6425420077903\n",
      "\n",
      "\n",
      "Running exec: lblrtm\n",
      "\n",
      "\n"
     ]
    },
    {
     "name": "stderr",
     "output_type": "stream",
     "text": [
      "Note: The following floating-point exceptions are signalling: IEEE_INVALID_FLAG IEEE_UNDERFLOW_FLAG IEEE_DENORMAL\n",
      "STOP  LBLRTM EXIT \n",
      "2.14user 1.14system 0:03.48elapsed 94%CPU (0avgtext+0avgdata 7752maxresident)k\n",
      "0inputs+0outputs (0major+1237minor)pagefaults 0swaps\n"
     ]
    },
    {
     "name": "stdout",
     "output_type": "stream",
     "text": [
      "\n",
      "Running exec: lblrtm\n",
      "\n",
      "\n"
     ]
    },
    {
     "name": "stderr",
     "output_type": "stream",
     "text": [
      "Note: The following floating-point exceptions are signalling: IEEE_INVALID_FLAG IEEE_UNDERFLOW_FLAG IEEE_DENORMAL\n",
      "STOP  LBLRTM EXIT \n",
      "0.88user 1.04system 0:02.01elapsed 96%CPU (0avgtext+0avgdata 7720maxresident)k\n",
      "0inputs+0outputs (0major+1234minor)pagefaults 0swaps\n"
     ]
    },
    {
     "name": "stdout",
     "output_type": "stream",
     "text": [
      "1143628\n",
      "humidity: 50.0\n",
      " pressure: 10000.0\n",
      " temperature: 300.0\n",
      " lat: 32.78000000000001\n",
      " elevation: 2.797999999999601\n",
      " freqmin(cm-1): 11098.779134295226\n",
      " freqmax(cm-1): 14265.33523537803\n",
      " angle: 4.244341434002005\n",
      "\n",
      "\n",
      "Running exec: lblrtm\n",
      "\n",
      "\n"
     ]
    },
    {
     "name": "stderr",
     "output_type": "stream",
     "text": [
      "Note: The following floating-point exceptions are signalling: IEEE_INVALID_FLAG IEEE_UNDERFLOW_FLAG IEEE_DENORMAL\n",
      "STOP  LBLRTM EXIT \n",
      "2.15user 1.09system 0:03.44elapsed 94%CPU (0avgtext+0avgdata 7672maxresident)k\n",
      "0inputs+0outputs (0major+1234minor)pagefaults 0swaps\n"
     ]
    },
    {
     "name": "stdout",
     "output_type": "stream",
     "text": [
      "\n",
      "Running exec: lblrtm\n",
      "\n",
      "\n"
     ]
    },
    {
     "name": "stderr",
     "output_type": "stream",
     "text": [
      "Note: The following floating-point exceptions are signalling: IEEE_INVALID_FLAG IEEE_UNDERFLOW_FLAG IEEE_DENORMAL\n",
      "STOP  LBLRTM EXIT \n",
      "0.89user 1.01system 0:02.02elapsed 94%CPU (0avgtext+0avgdata 7736maxresident)k\n",
      "0inputs+0outputs (0major+1238minor)pagefaults 0swaps\n"
     ]
    },
    {
     "name": "stdout",
     "output_type": "stream",
     "text": [
      "1143628\n",
      "humidity: 50.0\n",
      " pressure: 10000.0\n",
      " temperature: 300.0\n",
      " lat: 32.78000000000001\n",
      " elevation: 2.797999999999601\n",
      " freqmin(cm-1): 11098.779134295226\n",
      " freqmax(cm-1): 14265.33523537803\n",
      " angle: 25.73402125733466\n",
      "\n",
      "\n",
      "Running exec: lblrtm\n",
      "\n",
      "\n"
     ]
    },
    {
     "name": "stderr",
     "output_type": "stream",
     "text": [
      "Note: The following floating-point exceptions are signalling: IEEE_INVALID_FLAG IEEE_UNDERFLOW_FLAG IEEE_DENORMAL\n",
      "STOP  LBLRTM EXIT \n",
      "2.16user 1.09system 0:03.44elapsed 94%CPU (0avgtext+0avgdata 7560maxresident)k\n",
      "0inputs+0outputs (0major+1234minor)pagefaults 0swaps\n"
     ]
    },
    {
     "name": "stdout",
     "output_type": "stream",
     "text": [
      "\n",
      "Running exec: lblrtm\n",
      "\n",
      "\n"
     ]
    },
    {
     "name": "stderr",
     "output_type": "stream",
     "text": [
      "Note: The following floating-point exceptions are signalling: IEEE_INVALID_FLAG IEEE_UNDERFLOW_FLAG IEEE_DENORMAL\n",
      "STOP  LBLRTM EXIT \n",
      "0.92user 0.99system 0:02.01elapsed 94%CPU (0avgtext+0avgdata 7684maxresident)k\n",
      "0inputs+0outputs (0major+1237minor)pagefaults 0swaps\n"
     ]
    },
    {
     "name": "stdout",
     "output_type": "stream",
     "text": [
      "1143628\n",
      "humidity: 50.0\n",
      " pressure: 10000.0\n",
      " temperature: 300.0\n",
      " lat: 32.78000000000001\n",
      " elevation: 2.797999999999601\n",
      " freqmin(cm-1): 11098.779134295226\n",
      " freqmax(cm-1): 14265.33523537803\n",
      " angle: 41.82411679419448\n",
      "\n",
      "\n",
      "Running exec: lblrtm\n",
      "\n",
      "\n"
     ]
    },
    {
     "name": "stderr",
     "output_type": "stream",
     "text": [
      "Note: The following floating-point exceptions are signalling: IEEE_INVALID_FLAG IEEE_UNDERFLOW_FLAG IEEE_DENORMAL\n",
      "STOP  LBLRTM EXIT \n",
      "2.15user 1.11system 0:03.55elapsed 92%CPU (0avgtext+0avgdata 7732maxresident)k\n",
      "0inputs+0outputs (0major+1237minor)pagefaults 0swaps\n"
     ]
    },
    {
     "name": "stdout",
     "output_type": "stream",
     "text": [
      "\n",
      "Running exec: lblrtm\n",
      "\n",
      "\n"
     ]
    },
    {
     "name": "stderr",
     "output_type": "stream",
     "text": [
      "Note: The following floating-point exceptions are signalling: IEEE_INVALID_FLAG IEEE_UNDERFLOW_FLAG IEEE_DENORMAL\n",
      "STOP  LBLRTM EXIT \n",
      "0.94user 0.98system 0:02.02elapsed 94%CPU (0avgtext+0avgdata 7608maxresident)k\n",
      "0inputs+0outputs (0major+1232minor)pagefaults 0swaps\n"
     ]
    },
    {
     "name": "stdout",
     "output_type": "stream",
     "text": [
      "1143628\n",
      "humidity: 50.0\n",
      " pressure: 10000.0\n",
      " temperature: 300.0\n",
      " lat: 32.78000000000001\n",
      " elevation: 2.797999999999601\n",
      " freqmin(cm-1): 11098.779134295226\n",
      " freqmax(cm-1): 14265.33523537803\n",
      " angle: 19.147041951230698\n",
      "\n",
      "\n",
      "Running exec: lblrtm\n",
      "\n",
      "\n"
     ]
    },
    {
     "name": "stderr",
     "output_type": "stream",
     "text": [
      "Note: The following floating-point exceptions are signalling: IEEE_INVALID_FLAG IEEE_UNDERFLOW_FLAG IEEE_DENORMAL\n",
      "STOP  LBLRTM EXIT \n",
      "2.20user 1.05system 0:03.83elapsed 85%CPU (0avgtext+0avgdata 7624maxresident)k\n",
      "0inputs+0outputs (0major+1233minor)pagefaults 0swaps\n"
     ]
    },
    {
     "name": "stdout",
     "output_type": "stream",
     "text": [
      "\n",
      "Running exec: lblrtm\n",
      "\n",
      "\n"
     ]
    },
    {
     "name": "stderr",
     "output_type": "stream",
     "text": [
      "Note: The following floating-point exceptions are signalling: IEEE_INVALID_FLAG IEEE_UNDERFLOW_FLAG IEEE_DENORMAL\n",
      "STOP  LBLRTM EXIT \n",
      "0.90user 1.02system 0:02.00elapsed 96%CPU (0avgtext+0avgdata 7752maxresident)k\n",
      "0inputs+0outputs (0major+1237minor)pagefaults 0swaps\n"
     ]
    },
    {
     "name": "stdout",
     "output_type": "stream",
     "text": [
      "1143628\n",
      "humidity: 50.0\n",
      " pressure: 10000.0\n",
      " temperature: 300.0\n",
      " lat: 32.78000000000001\n",
      " elevation: 2.797999999999601\n",
      " freqmin(cm-1): 11098.779134295226\n",
      " freqmax(cm-1): 14265.33523537803\n",
      " angle: 38.23670948006227\n",
      "\n",
      "\n",
      "Running exec: lblrtm\n",
      "\n",
      "\n"
     ]
    },
    {
     "name": "stderr",
     "output_type": "stream",
     "text": [
      "Note: The following floating-point exceptions are signalling: IEEE_INVALID_FLAG IEEE_UNDERFLOW_FLAG IEEE_DENORMAL\n",
      "STOP  LBLRTM EXIT \n",
      "2.13user 1.12system 0:03.46elapsed 94%CPU (0avgtext+0avgdata 7676maxresident)k\n",
      "0inputs+0outputs (0major+1235minor)pagefaults 0swaps\n"
     ]
    },
    {
     "name": "stdout",
     "output_type": "stream",
     "text": [
      "\n",
      "Running exec: lblrtm\n",
      "\n",
      "\n"
     ]
    },
    {
     "name": "stderr",
     "output_type": "stream",
     "text": [
      "Note: The following floating-point exceptions are signalling: IEEE_INVALID_FLAG IEEE_UNDERFLOW_FLAG IEEE_DENORMAL\n",
      "STOP  LBLRTM EXIT \n",
      "0.90user 1.01system 0:02.03elapsed 94%CPU (0avgtext+0avgdata 7712maxresident)k\n",
      "0inputs+0outputs (0major+1237minor)pagefaults 0swaps\n"
     ]
    },
    {
     "name": "stdout",
     "output_type": "stream",
     "text": [
      "1143628\n",
      "humidity: 50.0\n",
      " pressure: 10000.0\n",
      " temperature: 300.0\n",
      " lat: 32.78000000000001\n",
      " elevation: 2.797999999999601\n",
      " freqmin(cm-1): 11098.779134295226\n",
      " freqmax(cm-1): 14265.33523537803\n",
      " angle: 47.73236591064268\n",
      "\n",
      "\n",
      "Running exec: lblrtm\n",
      "\n",
      "\n"
     ]
    },
    {
     "name": "stderr",
     "output_type": "stream",
     "text": [
      "Note: The following floating-point exceptions are signalling: IEEE_INVALID_FLAG IEEE_UNDERFLOW_FLAG IEEE_DENORMAL\n",
      "STOP  LBLRTM EXIT \n",
      "2.15user 1.12system 0:03.44elapsed 95%CPU (0avgtext+0avgdata 7748maxresident)k\n",
      "0inputs+0outputs (0major+1234minor)pagefaults 0swaps\n"
     ]
    },
    {
     "name": "stdout",
     "output_type": "stream",
     "text": [
      "\n",
      "Running exec: lblrtm\n",
      "\n",
      "\n"
     ]
    },
    {
     "name": "stderr",
     "output_type": "stream",
     "text": [
      "Note: The following floating-point exceptions are signalling: IEEE_INVALID_FLAG IEEE_UNDERFLOW_FLAG IEEE_DENORMAL\n",
      "STOP  LBLRTM EXIT \n",
      "0.91user 1.00system 0:02.02elapsed 94%CPU (0avgtext+0avgdata 7728maxresident)k\n",
      "0inputs+0outputs (0major+1236minor)pagefaults 0swaps\n"
     ]
    },
    {
     "name": "stdout",
     "output_type": "stream",
     "text": [
      "1143628\n",
      "humidity: 50.0\n",
      " pressure: 10000.0\n",
      " temperature: 300.0\n",
      " lat: 32.78000000000001\n",
      " elevation: 2.797999999999601\n",
      " freqmin(cm-1): 11098.779134295226\n",
      " freqmax(cm-1): 14265.33523537803\n",
      " angle: 42.79961082627774\n",
      "\n",
      "\n",
      "Running exec: lblrtm\n",
      "\n",
      "\n"
     ]
    },
    {
     "name": "stderr",
     "output_type": "stream",
     "text": [
      "Note: The following floating-point exceptions are signalling: IEEE_INVALID_FLAG IEEE_UNDERFLOW_FLAG IEEE_DENORMAL\n",
      "STOP  LBLRTM EXIT \n",
      "2.15user 1.09system 0:03.57elapsed 91%CPU (0avgtext+0avgdata 7688maxresident)k\n",
      "0inputs+0outputs (0major+1236minor)pagefaults 0swaps\n"
     ]
    },
    {
     "name": "stdout",
     "output_type": "stream",
     "text": [
      "\n",
      "Running exec: lblrtm\n",
      "\n",
      "\n"
     ]
    },
    {
     "name": "stderr",
     "output_type": "stream",
     "text": [
      "Note: The following floating-point exceptions are signalling: IEEE_INVALID_FLAG IEEE_UNDERFLOW_FLAG IEEE_DENORMAL\n",
      "STOP  LBLRTM EXIT \n",
      "0.92user 0.99system 0:01.99elapsed 95%CPU (0avgtext+0avgdata 7688maxresident)k\n",
      "0inputs+0outputs (0major+1236minor)pagefaults 0swaps\n"
     ]
    },
    {
     "name": "stdout",
     "output_type": "stream",
     "text": [
      "1143628\n",
      "humidity: 50.0\n",
      " pressure: 10000.0\n",
      " temperature: 300.0\n",
      " lat: 32.78000000000001\n",
      " elevation: 2.797999999999601\n",
      " freqmin(cm-1): 11098.779134295226\n",
      " freqmax(cm-1): 14265.33523537803\n",
      " angle: 44.62927519288961\n",
      "\n",
      "\n",
      "Running exec: lblrtm\n",
      "\n",
      "\n"
     ]
    },
    {
     "name": "stderr",
     "output_type": "stream",
     "text": [
      "Note: The following floating-point exceptions are signalling: IEEE_INVALID_FLAG IEEE_UNDERFLOW_FLAG IEEE_DENORMAL\n",
      "STOP  LBLRTM EXIT \n",
      "2.14user 1.12system 0:03.52elapsed 92%CPU (0avgtext+0avgdata 7732maxresident)k\n",
      "0inputs+0outputs (0major+1236minor)pagefaults 0swaps\n"
     ]
    },
    {
     "name": "stdout",
     "output_type": "stream",
     "text": [
      "\n",
      "Running exec: lblrtm\n",
      "\n",
      "\n"
     ]
    },
    {
     "name": "stderr",
     "output_type": "stream",
     "text": [
      "Note: The following floating-point exceptions are signalling: IEEE_INVALID_FLAG IEEE_UNDERFLOW_FLAG IEEE_DENORMAL\n",
      "STOP  LBLRTM EXIT \n",
      "0.94user 0.96system 0:02.03elapsed 94%CPU (0avgtext+0avgdata 7720maxresident)k\n",
      "0inputs+0outputs (0major+1235minor)pagefaults 0swaps\n"
     ]
    },
    {
     "name": "stdout",
     "output_type": "stream",
     "text": [
      "1143628\n",
      "humidity: 50.0\n",
      " pressure: 10000.0\n",
      " temperature: 300.0\n",
      " lat: 32.78000000000001\n",
      " elevation: 2.797999999999601\n",
      " freqmin(cm-1): 11098.779134295226\n",
      " freqmax(cm-1): 14265.33523537803\n",
      " angle: 31.567632273477905\n",
      "\n",
      "\n",
      "Running exec: lblrtm\n",
      "\n",
      "\n"
     ]
    },
    {
     "name": "stderr",
     "output_type": "stream",
     "text": [
      "Note: The following floating-point exceptions are signalling: IEEE_INVALID_FLAG IEEE_UNDERFLOW_FLAG IEEE_DENORMAL\n",
      "STOP  LBLRTM EXIT \n",
      "2.15user 1.10system 0:03.71elapsed 87%CPU (0avgtext+0avgdata 7752maxresident)k\n",
      "0inputs+0outputs (0major+1237minor)pagefaults 0swaps\n"
     ]
    },
    {
     "name": "stdout",
     "output_type": "stream",
     "text": [
      "\n",
      "Running exec: lblrtm\n",
      "\n",
      "\n"
     ]
    },
    {
     "name": "stderr",
     "output_type": "stream",
     "text": [
      "Note: The following floating-point exceptions are signalling: IEEE_INVALID_FLAG IEEE_UNDERFLOW_FLAG IEEE_DENORMAL\n",
      "STOP  LBLRTM EXIT \n",
      "0.90user 1.01system 0:02.01elapsed 94%CPU (0avgtext+0avgdata 7672maxresident)k\n",
      "0inputs+0outputs (0major+1234minor)pagefaults 0swaps\n"
     ]
    },
    {
     "name": "stdout",
     "output_type": "stream",
     "text": [
      "1143628\n",
      "humidity: 50.0\n",
      " pressure: 10000.0\n",
      " temperature: 300.0\n",
      " lat: 32.78000000000001\n",
      " elevation: 2.797999999999601\n",
      " freqmin(cm-1): 11098.779134295226\n",
      " freqmax(cm-1): 14265.33523537803\n",
      " angle: 44.219986042892295\n",
      "\n",
      "\n",
      "Running exec: lblrtm\n",
      "\n",
      "\n"
     ]
    },
    {
     "name": "stderr",
     "output_type": "stream",
     "text": [
      "Note: The following floating-point exceptions are signalling: IEEE_INVALID_FLAG IEEE_UNDERFLOW_FLAG IEEE_DENORMAL\n",
      "STOP  LBLRTM EXIT \n",
      "2.16user 1.10system 0:03.47elapsed 94%CPU (0avgtext+0avgdata 7624maxresident)k\n",
      "0inputs+0outputs (0major+1233minor)pagefaults 0swaps\n"
     ]
    },
    {
     "name": "stdout",
     "output_type": "stream",
     "text": [
      "\n",
      "Running exec: lblrtm\n",
      "\n",
      "\n"
     ]
    },
    {
     "name": "stderr",
     "output_type": "stream",
     "text": [
      "Note: The following floating-point exceptions are signalling: IEEE_INVALID_FLAG IEEE_UNDERFLOW_FLAG IEEE_DENORMAL\n",
      "STOP  LBLRTM EXIT \n",
      "0.90user 1.00system 0:01.99elapsed 95%CPU (0avgtext+0avgdata 7552maxresident)k\n",
      "0inputs+0outputs (0major+1233minor)pagefaults 0swaps\n"
     ]
    },
    {
     "name": "stdout",
     "output_type": "stream",
     "text": [
      "1143628\n",
      "humidity: 50.0\n",
      " pressure: 10000.0\n",
      " temperature: 300.0\n",
      " lat: 32.78000000000001\n",
      " elevation: 2.797999999999601\n",
      " freqmin(cm-1): 11098.779134295226\n",
      " freqmax(cm-1): 14265.33523537803\n",
      " angle: 55.209073951412215\n",
      "\n",
      "\n",
      "Running exec: lblrtm\n",
      "\n",
      "\n"
     ]
    },
    {
     "name": "stderr",
     "output_type": "stream",
     "text": [
      "Note: The following floating-point exceptions are signalling: IEEE_INVALID_FLAG IEEE_UNDERFLOW_FLAG IEEE_DENORMAL\n",
      "STOP  LBLRTM EXIT \n",
      "2.14user 1.06system 0:03.36elapsed 95%CPU (0avgtext+0avgdata 7572maxresident)k\n",
      "0inputs+0outputs (0major+1234minor)pagefaults 0swaps\n"
     ]
    },
    {
     "name": "stdout",
     "output_type": "stream",
     "text": [
      "\n",
      "Running exec: lblrtm\n",
      "\n",
      "\n"
     ]
    },
    {
     "name": "stderr",
     "output_type": "stream",
     "text": [
      "Note: The following floating-point exceptions are signalling: IEEE_INVALID_FLAG IEEE_UNDERFLOW_FLAG IEEE_DENORMAL\n",
      "STOP  LBLRTM EXIT \n",
      "0.95user 0.96system 0:02.03elapsed 94%CPU (0avgtext+0avgdata 7624maxresident)k\n",
      "0inputs+0outputs (0major+1233minor)pagefaults 0swaps\n"
     ]
    },
    {
     "name": "stdout",
     "output_type": "stream",
     "text": [
      "1127403\n",
      "humidity: 50.0\n",
      " pressure: 10000.0\n",
      " temperature: 300.0\n",
      " lat: 32.78000000000001\n",
      " elevation: 2.797999999999601\n",
      " freqmin(cm-1): 11098.779134295226\n",
      " freqmax(cm-1): 14265.33523537803\n",
      " angle: 16.046253531664348\n",
      "\n",
      "\n",
      "Running exec: lblrtm\n",
      "\n",
      "\n"
     ]
    },
    {
     "name": "stderr",
     "output_type": "stream",
     "text": [
      "Note: The following floating-point exceptions are signalling: IEEE_INVALID_FLAG IEEE_UNDERFLOW_FLAG IEEE_DENORMAL\n",
      "STOP  LBLRTM EXIT \n",
      "2.15user 1.11system 0:03.55elapsed 91%CPU (0avgtext+0avgdata 7752maxresident)k\n",
      "0inputs+0outputs (0major+1237minor)pagefaults 0swaps\n"
     ]
    },
    {
     "name": "stdout",
     "output_type": "stream",
     "text": [
      "\n",
      "Running exec: lblrtm\n",
      "\n",
      "\n"
     ]
    },
    {
     "name": "stderr",
     "output_type": "stream",
     "text": [
      "Note: The following floating-point exceptions are signalling: IEEE_INVALID_FLAG IEEE_UNDERFLOW_FLAG IEEE_DENORMAL\n",
      "STOP  LBLRTM EXIT \n",
      "0.92user 0.99system 0:02.00elapsed 96%CPU (0avgtext+0avgdata 7556maxresident)k\n",
      "0inputs+0outputs (0major+1233minor)pagefaults 0swaps\n"
     ]
    },
    {
     "name": "stdout",
     "output_type": "stream",
     "text": [
      "1143628\n",
      "humidity: 50.0\n",
      " pressure: 10000.0\n",
      " temperature: 300.0\n",
      " lat: 32.78000000000001\n",
      " elevation: 2.797999999999601\n",
      " freqmin(cm-1): 11098.779134295226\n",
      " freqmax(cm-1): 14265.33523537803\n",
      " angle: 70.36083125348077\n",
      "\n",
      "\n",
      "Running exec: lblrtm\n",
      "\n",
      "\n"
     ]
    },
    {
     "name": "stderr",
     "output_type": "stream",
     "text": [
      "Note: The following floating-point exceptions are signalling: IEEE_INVALID_FLAG IEEE_UNDERFLOW_FLAG IEEE_DENORMAL\n",
      "STOP  LBLRTM EXIT \n",
      "2.16user 1.13system 0:03.45elapsed 95%CPU (0avgtext+0avgdata 7568maxresident)k\n",
      "0inputs+0outputs (0major+1233minor)pagefaults 0swaps\n"
     ]
    },
    {
     "name": "stdout",
     "output_type": "stream",
     "text": [
      "\n",
      "Running exec: lblrtm\n",
      "\n",
      "\n"
     ]
    },
    {
     "name": "stderr",
     "output_type": "stream",
     "text": [
      "Note: The following floating-point exceptions are signalling: IEEE_INVALID_FLAG IEEE_UNDERFLOW_FLAG IEEE_DENORMAL\n",
      "STOP  LBLRTM EXIT \n",
      "0.94user 1.00system 0:02.01elapsed 96%CPU (0avgtext+0avgdata 7672maxresident)k\n",
      "0inputs+0outputs (0major+1233minor)pagefaults 0swaps\n"
     ]
    },
    {
     "name": "stdout",
     "output_type": "stream",
     "text": [
      "1143628\n",
      "humidity: 50.0\n",
      " pressure: 10000.0\n",
      " temperature: 300.0\n",
      " lat: 32.78000000000001\n",
      " elevation: 2.797999999999601\n",
      " freqmin(cm-1): 11098.779134295226\n",
      " freqmax(cm-1): 14265.33523537803\n",
      " angle: 5.621114858253093\n",
      "\n",
      "\n",
      "Running exec: lblrtm\n",
      "\n",
      "\n"
     ]
    },
    {
     "name": "stderr",
     "output_type": "stream",
     "text": [
      "Note: The following floating-point exceptions are signalling: IEEE_INVALID_FLAG IEEE_UNDERFLOW_FLAG IEEE_DENORMAL\n",
      "STOP  LBLRTM EXIT \n",
      "2.11user 1.14system 0:03.46elapsed 94%CPU (0avgtext+0avgdata 7560maxresident)k\n",
      "0inputs+0outputs (0major+1233minor)pagefaults 0swaps\n"
     ]
    },
    {
     "name": "stdout",
     "output_type": "stream",
     "text": [
      "\n",
      "Running exec: lblrtm\n",
      "\n",
      "\n"
     ]
    },
    {
     "name": "stderr",
     "output_type": "stream",
     "text": [
      "Note: The following floating-point exceptions are signalling: IEEE_INVALID_FLAG IEEE_UNDERFLOW_FLAG IEEE_DENORMAL\n",
      "STOP  LBLRTM EXIT \n",
      "0.91user 1.00system 0:02.04elapsed 93%CPU (0avgtext+0avgdata 7712maxresident)k\n",
      "0inputs+0outputs (0major+1236minor)pagefaults 0swaps\n"
     ]
    },
    {
     "name": "stdout",
     "output_type": "stream",
     "text": [
      "1143628\n",
      "<simulacra.tellurics.TelFitModel object at 0x145c0d5fc9b0> [1.6178939077349241e-06, 2.1907587743896784e-07, 2.1907587743896784e-07, 2.1907587743896784e-07, 2.1907587743896784e-07, 2.2146180711501984e-07, 2.2147022882279543e-07, 2.1907587743896784e-07, 2.1907587743896784e-07, 2.1907587743896784e-07, 2.2717149938955572e-07, 2.1907587743896784e-07, 2.1907587743896784e-07, 2.1907587743896784e-07, 2.1907587743896784e-07, 2.1907587743896784e-07, 2.1907587743896784e-07, 2.1907587743896784e-07, 2.1907587743896784e-07, 2.1907587743896784e-07, 2.1907587743896784e-07, 2.1907587743896784e-07, 2.1907587743896784e-07, 2.1907587743896784e-07, 2.1907587743896784e-07, 2.1907587743896784e-07, 2.1907587743896784e-07, 2.1996264365498064e-07, 2.1907587743896784e-07, 2.1907587743896784e-07, 2.1907587743896784e-07]\n",
      "interpolating spline...\n",
      "0\n",
      "1\n",
      "2\n",
      "3\n",
      "4\n",
      "5\n",
      "6\n",
      "7\n",
      "8\n",
      "9\n",
      "10\n",
      "11\n",
      "12\n",
      "13\n",
      "14\n",
      "15\n",
      "16\n",
      "17\n",
      "18\n",
      "19\n",
      "20\n",
      "21\n",
      "22\n",
      "23\n",
      "24\n",
      "25\n",
      "26\n",
      "27\n",
      "28\n",
      "29\n",
      "combining grids...\n",
      "convolving...\n",
      "0\n",
      "1\n",
      "2\n",
      "3\n",
      "4\n",
      "5\n",
      "6\n",
      "7\n",
      "8\n",
      "9\n",
      "10\n",
      "11\n",
      "12\n",
      "13\n",
      "14\n",
      "15\n",
      "16\n",
      "17\n",
      "18\n",
      "19\n",
      "20\n",
      "21\n",
      "22\n",
      "23\n",
      "24\n",
      "25\n",
      "26\n",
      "27\n",
      "28\n",
      "29\n",
      "xs: 7005.007110494636 9004.98956196525\n",
      "xhat: 7010.007110494628 8999.990639003297\n",
      "interpolating lanczos...\n",
      "0\n",
      "1\n",
      "2\n",
      "3\n",
      "4\n",
      "5\n",
      "6\n",
      "7\n",
      "8\n",
      "9\n",
      "10\n",
      "11\n",
      "12\n",
      "13\n",
      "14\n",
      "15\n",
      "16\n",
      "17\n",
      "18\n",
      "19\n",
      "20\n",
      "21\n",
      "22\n",
      "23\n",
      "24\n",
      "25\n",
      "26\n",
      "27\n",
      "28\n",
      "29\n",
      "area: 14.522012041218817 m2\t avg d lambda: 0.05688267575202005 Angstrom\t avg lambda: 7963.6042297997865 Angstrom\t avg exp times: 8.0 min\n",
      "0 n mean: 9.39e+01\t n median: 1.13e+02\n",
      "1 n mean: 1.06e+02\t n median: 1.16e+02\n",
      "2 n mean: 9.87e+01\t n median: 1.12e+02\n",
      "3 n mean: 1.06e+02\t n median: 1.16e+02\n",
      "4 n mean: 1.01e+02\t n median: 1.14e+02\n",
      "5 n mean: 9.45e+01\t n median: 1.08e+02\n",
      "6 n mean: 1.07e+02\t n median: 1.16e+02\n",
      "7 n mean: 1.08e+02\t n median: 1.16e+02\n",
      "8 n mean: 1.08e+02\t n median: 1.16e+02\n",
      "9 n mean: 1.06e+02\t n median: 1.16e+02\n",
      "10 n mean: 1.07e+02\t n median: 1.16e+02\n",
      "11 n mean: 1.07e+02\t n median: 1.16e+02\n",
      "12 n mean: 1.08e+02\t n median: 1.16e+02\n",
      "13 n mean: 1.05e+02\t n median: 1.15e+02\n",
      "14 n mean: 1.00e+02\t n median: 1.13e+02\n",
      "15 n mean: 1.01e+02\t n median: 1.14e+02\n",
      "16 n mean: 1.08e+02\t n median: 1.16e+02\n",
      "17 n mean: 1.07e+02\t n median: 1.16e+02\n",
      "18 n mean: 1.06e+02\t n median: 1.15e+02\n",
      "19 n mean: 1.07e+02\t n median: 1.16e+02\n",
      "20 n mean: 1.06e+02\t n median: 1.16e+02\n",
      "21 n mean: 1.05e+02\t n median: 1.15e+02\n",
      "22 n mean: 1.06e+02\t n median: 1.16e+02\n",
      "23 n mean: 1.05e+02\t n median: 1.15e+02\n",
      "24 n mean: 1.07e+02\t n median: 1.16e+02\n",
      "25 n mean: 1.06e+02\t n median: 1.15e+02\n",
      "26 n mean: 9.39e+01\t n median: 1.16e+02\n",
      "27 n mean: 1.08e+02\t n median: 1.16e+02\n",
      "28 n mean: 9.81e+01\t n median: 1.12e+02\n",
      "29 n mean: 1.08e+02\t n median: 1.16e+02\n",
      "generating true signal to noise ratios...\n",
      "adding noise...\n",
      "generating exp signal to noise ratios...\n"
     ]
    },
    {
     "name": "stderr",
     "output_type": "stream",
     "text": [
      "../simulacra/detector.py:529: RuntimeWarning: invalid value encountered in add_noise_v\n",
      "  n_readout = add_noise_v(n_exp.flatten().value,snr_grid.flatten()).reshape(out_shape)\n"
     ]
    },
    {
     "name": "stdout",
     "output_type": "stream",
     "text": [
      "generating errors...\n",
      "done.\n",
      "/scratch/mdd423/simulacra/out/2021-11-02/data_e30_R70000.0_a2000.0_p40.3_l7.0e+039.0e+03_ep1.0_w0.0_snr4.3e+00_tp3e-07\n",
      "saving time\n",
      "quantity\n",
      "epoches  saving as string\n",
      "quantity\n",
      "quantity\n",
      "quantity\n",
      "quantity\n",
      "quantity\n"
     ]
    },
    {
     "name": "stderr",
     "output_type": "stream",
     "text": [
      "../simulacra/detector.py:541: RuntimeWarning: invalid value encountered in generate_errors_v\n",
      "  nerr_out = generate_errors_v(n_readout.flatten(),snr_readout.flatten()).reshape(out_shape)\n"
     ]
    },
    {
     "name": "stdout",
     "output_type": "stream",
     "text": [
      "quantity\n",
      "quantity\n",
      "flux  saving as string\n",
      "wave  saving as string\n",
      "quantity\n",
      "quantity\n",
      "quantity\n",
      "alpha  saving as string\n",
      "quantity\n",
      "quantity\n",
      "fluxname  saving as string\n",
      "generate_spectra  saving as string\n",
      "quantity\n",
      "quantity\n",
      "logg  saving as string\n",
      "outdir  saving as string\n",
      "quantity\n",
      "plot  saving as string\n",
      "plot_interpolated  saving as string\n",
      "quantity\n",
      "quantity\n",
      "saving target...340.28129510273834 deg 28.43612929851907 deg\n",
      "temperature  saving as string\n",
      "quantity\n",
      "quantity\n",
      "wavename  saving as string\n",
      "quantity\n",
      "z  saving as string\n",
      "quantity\n",
      "quantity\n",
      "quantity\n",
      "quantity\n",
      "a  saving as string\n",
      "add_model  saving as string\n",
      "quantity\n",
      "checkmax  saving as string\n",
      "checkmin  saving as string\n",
      "quantity\n",
      "epsilon  saving as string\n",
      "gamma  saving as string\n",
      "quantity\n",
      "quantity\n",
      "quantity\n",
      "lsf_centering  saving as string\n",
      "lsf_const_coeffs  saving as string\n",
      "resolution  saving as string\n",
      "sigma  saving as string\n",
      "sigma_range  saving as string\n",
      "simulate  saving as string\n",
      "stellar_model  saving as string\n",
      "through_put  saving as string\n",
      "transmission_cutoff  saving as string\n",
      "transmission_models  saving as string\n",
      "w  saving as string\n",
      "quantity\n",
      "quantity\n",
      "quantity\n",
      "_epoches  saving as string\n",
      "quantity\n",
      "quantity\n",
      "_name  saving as string\n",
      "quantity\n",
      "quantity\n",
      "check_property  saving as string\n",
      "check_shape_type  saving as string\n",
      "epoches  saving as string\n",
      "generate_transmission  saving as string\n",
      "quantity\n",
      "quantity\n",
      "quantity\n",
      "plot  saving as string\n",
      "plot_interpolated  saving as string\n",
      "quantity\n",
      "quantity\n",
      "quantity\n",
      "nan nan\n"
     ]
    },
    {
     "data": {
      "image/png": "[encoded data removed]",
      "text/plain": [
       "<Figure size 7920x2880 with 11 Axes>"
      ]
     },
     "metadata": {
      "needs_background": "light"
     },
     "output_type": "display_data"
    },
    {
     "data": {
      "image/png": "[encoded data removed]",
      "text/plain": [
       "<Figure size 15840x1440 with 22 Axes>"
      ]
     },
     "metadata": {
      "needs_background": "light"
     },
     "output_type": "display_data"
    }
   ],
   "source": [
    "sigma = 200\n",
    "n_plots = 4\n",
    "plt_unit = u.Angstrom\n",
    "sort_times = np.argsort(obs_times)\n",
    "\n",
    "fig, axes = plt.subplots(len(distances),figsize=(10 * len(distances),10 * n_plots),sharex=True,sharey=True)\n",
    "fig.text(0.5, 0.04, 'Wavelength [{}]'.format(plt_unit), ha='center', va='center')\n",
    "fig.text(0.06, 0.5, 'Flux', ha='center', va='center', rotation='vertical')\n",
    "\n",
    "fig_rv, ax_rvs = plt.subplots(len(distances),2,figsize=(20 * len(distances),10 * 2))\n",
    "\n",
    "for i,distance in enumerate(distances):\n",
    "    stellar_model = PhoenixModel(distance,alpha,z,T,logg,target,amplitude,period)\n",
    "    \n",
    "    detector = Detector(stellar_model,resolution,loc,area,wave_grid,dark_current,read_noise,\\\n",
    "                        ccd_eff,through_put,gamma=gamma,epsilon=epsilon,w=w)\n",
    "    detector.add_model(tellurics_model)\n",
    "    data = detector.simulate(obs_times,exp_times)\n",
    "    \n",
    "    filename = os.path.join(outdir,'data_e{}_R{}_a{}_p{}_l{:3.1e}{:3.1e}_ep{}_w{}_snr{:2.1e}_tp{}'.format(epoches,resolution,\\\n",
    "                                                                amplitude.to(u.m/u.s).value,\\\n",
    "                                                                period.to(u.day).value,\\\n",
    "                                                                detector.lambmin.value,\\\n",
    "                                                                detector.lambmax.value,\\\n",
    "                                                               epsilon,w,np.mean(data['data']['snr_readout'][~np.isnan(data['data']['snr_readout'])]),\\\n",
    "                                                                  through_put))\n",
    "    print(filename)\n",
    "    data.to_h5(filename + '.h5')\n",
    "    # Defining and plotting flux from star on detector\n",
    "    j = 1\n",
    "    print('{:3.2e}'.format(np.mean(data['data']['flux'][j,:])),'{:3.2e}'.format(np.mean(data['data']['ferr'][j,:])))\n",
    "    flux, ferr = normalize(data['data']['flux'][j,:],data['data']['ferr'][j,:],sigma)\n",
    "    axes[i].errorbar(np.log(data['data']['wave'].to(u.Angstrom).value),flux,yerr=ferr,fmt='.k',alpha=0.5)\n",
    "    #     data.plot_data(axes[i],sort_times[i],xy='x',units=plt_unit)\n",
    "    #     data.plot_tellurics(axes[i],sort_times[i],xy='x',units=plt_unit)#,normalize=normalize,nargs=[sigma]\n",
    "    #     data.plot_gas(axes[i],sort_times[i],xy='x',units=plt_unit)\n",
    "    #     data.plot_theory(axes[i],sort_times[i],xy='x',units=plt_unit)\n",
    "    #     data.plot_lsf(axes[i],sort_times[i],xy='x',units=plt_unit)\n",
    "    #     data.plot_star(axes[i],sort_times[i],xy='x',units=plt_unit)\n",
    "    # plt.savefig('out/datatest5.png')\n",
    "    \n",
    "    times = at.Time([obs_times[k] + exp_times[k]/2 for k in range(len(obs_times))])\n",
    "    rv = data['data']['rvs'].to(u.km/u.s)\n",
    "    bc = target.radial_velocity_correction(obstime=times,location=loc).to(u.km/u.s)\n",
    "    eprv = rv - bc\n",
    "\n",
    "    v_unit = u.m/u.s\n",
    "#     ax_rvs[i,0].set_ylim(-2.1,2.1)\n",
    "    ax_rvs[i,0].plot((times - min(times)).to(u.day).value % period.to(u.day).value,eprv.to(v_unit).value,'.r')\n",
    "    ax_rvs[i,0].set_xlabel('time [d]')\n",
    "    ax_rvs[i,0].set_ylabel('vel [{}]'.format(v_unit))\n",
    "\n",
    "    v_unit = u.km/u.s\n",
    "#     ax_rvs[i,1].set_ylim(-35,35)\n",
    "    ax_rvs[i,1].plot((times - min(times)).to(u.day).value,rv.to(v_unit).value,'.k')\n",
    "    ax_rvs[i,1].set_xlabel('time [d]')\n",
    "    ax_rvs[i,1].set_ylabel('vel [{}]'.format(v_unit))\n",
    "plt.show()"
   ]
  },
  {
   "cell_type": "code",
   "execution_count": null,
   "metadata": {},
   "outputs": [],
   "source": []
  }
 ],
 "metadata": {
  "kernelspec": {
   "display_name": "Python 3 (ipykernel)",
   "language": "python",
   "name": "python3"
  },
  "language_info": {
   "codemirror_mode": {
    "name": "ipython",
    "version": 3
   },
   "file_extension": ".py",
   "mimetype": "text/x-python",
   "name": "python",
   "nbconvert_exporter": "python",
   "pygments_lexer": "ipython3",
   "version": "3.7.1"
  }
 },
 "nbformat": 4,
 "nbformat_minor": 4
}
