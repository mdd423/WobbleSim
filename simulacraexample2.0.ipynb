{
 "cells": [
  {
   "cell_type": "code",
   "execution_count": 1,
   "metadata": {},
   "outputs": [
    {
     "name": "stderr",
     "output_type": "stream",
     "text": [
      "/Library/Frameworks/Python.framework/Versions/3.7/lib/python3.7/site-packages/pysynphot/locations.py:46: UserWarning: PYSYN_CDBS is undefined; functionality will be SEVERELY crippled.\n",
      "  warnings.warn(\"PYSYN_CDBS is undefined; functionality will be SEVERELY \"\n",
      "/Library/Frameworks/Python.framework/Versions/3.7/lib/python3.7/site-packages/pysynphot/locations.py:345: UserWarning: Extinction files not found in extinction\n",
      "  warnings.warn('Extinction files not found in %s' % (extdir, ))\n"
     ]
    }
   ],
   "source": [
    "import simulacra.star\n",
    "import simulacra.tellurics\n",
    "from simulacra.star import PhoenixModel\n",
    "\n",
    "import random\n",
    "import numpy as np\n",
    "\n",
    "import astropy.io.fits\n",
    "import astropy.time as at\n",
    "\n",
    "import astropy.units as u\n",
    "import astropy.coordinates as coord\n",
    "import astropy.constants as const"
   ]
  },
  {
   "cell_type": "markdown",
   "metadata": {},
   "source": [
    "<h1>Simulacra: An Introduction to Simulating Spectrograph Data</h1>\n",
    "This package should be used to simulate spectrographs by creating a star with a given flux, various transmission models (gas cell and tellurics), and a detector. Then simulating the detector at given start times for an exposure time."
   ]
  },
  {
   "cell_type": "markdown",
   "metadata": {},
   "source": [
    "erg/cm^2/s/cm * SA * exposure_time * ratio_of_areas * lambda^2/ hbar c = N_photons"
   ]
  },
  {
   "cell_type": "code",
   "execution_count": 2,
   "metadata": {},
   "outputs": [],
   "source": [
    "ra, dec = np.random.uniform(0,360) * u.degree, np.random.uniform(0,80) * u.degree\n",
    "obs = 'APO'\n",
    "loc = coord.EarthLocation.of_site(obs)\n",
    "target = coord.SkyCoord(ra,dec,frame='icrs')"
   ]
  },
  {
   "cell_type": "markdown",
   "metadata": {},
   "source": [
    "Functions from the star module can be used to select times to view a given star from some observatory."
   ]
  },
  {
   "cell_type": "code",
   "execution_count": 3,
   "metadata": {
    "scrolled": false
   },
   "outputs": [
    {
     "name": "stderr",
     "output_type": "stream",
     "text": [
      "WARNING: Tried to get polar motions for times after IERS data is valid. Defaulting to polar motion from the 50-yr mean for those. This may affect precision at the 10s of arcsec level [astropy.coordinates.builtin_frames.utils]\n"
     ]
    }
   ],
   "source": [
    "tstart = at.Time.now()\n",
    "tend   = tstart + 365 * u.day\n",
    "night_grid = simulacra.star.get_night_grid(loc,tstart,tend)\n",
    "possible_times, airmass = simulacra.star.get_realistic_times(target,loc,night_grid)"
   ]
  },
  {
   "cell_type": "code",
   "execution_count": 4,
   "metadata": {},
   "outputs": [],
   "source": [
    "epoches = 2"
   ]
  },
  {
   "cell_type": "markdown",
   "metadata": {},
   "source": [
    "Now we selected some random sample of these to observe at and the airmasses at those times"
   ]
  },
  {
   "cell_type": "code",
   "execution_count": 5,
   "metadata": {},
   "outputs": [],
   "source": [
    "obs_ints = random.sample(range(len(airmass)),epoches)\n",
    "obs_times, obs_airmass = possible_times[obs_ints], airmass[obs_ints]"
   ]
  },
  {
   "cell_type": "markdown",
   "metadata": {},
   "source": [
    "<h2>Tellurics Model</h2>\n",
    "The tellurics model requires these airmasses at the time of observation. However each of the pressure, temperatures, and humidities can be set by the user after initialization. If a single value is passed that is used for every epoch. Or you can pass it an array of quantities of size equal to the number of epoches."
   ]
  },
  {
   "cell_type": "code",
   "execution_count": 6,
   "metadata": {},
   "outputs": [],
   "source": [
    "wave_min = 500*u.nm\n",
    "wave_max = 600*u.nm\n",
    "tellurics_model = simulacra.tellurics.TelFitModel(wave_min,wave_max,loc)"
   ]
  },
  {
   "cell_type": "code",
   "execution_count": 7,
   "metadata": {},
   "outputs": [],
   "source": [
    "tellurics_model.pressure    = 875 * u.hPa\n",
    "tellurics_model.temperature = 300 * u.Kelvin\n",
    "tellurics_model.humidity    = 50.0"
   ]
  },
  {
   "cell_type": "markdown",
   "metadata": {},
   "source": [
    "<h2>Star Model</h2>\n",
    "Here we define the star model with some temperature, distance, logg, and companion parameters. The logg, T, z, and alpha parameters must correspond to an appropriate atmosphere model from the PHOENIX libraray online. Then also give it some companion parameters that could affect its velocity. This is what we will be trying to find use jabble."
   ]
  },
  {
   "cell_type": "code",
   "execution_count": 8,
   "metadata": {},
   "outputs": [
    {
     "name": "stdout",
     "output_type": "stream",
     "text": [
      "using saved wave file\n",
      "data/stellar/PHOENIX/lte04800-1.00-1.0.Alpha=+0.40.PHOENIX-ACES-AGSS-COND-2011-HiRes.fits\n",
      "using saved flux file\n",
      "reading in data/stellar/PHOENIX/WAVE_PHOENIX-ACES-AGSS-COND-2011.fits\n"
     ]
    }
   ],
   "source": [
    "logg = 1.0\n",
    "T    = 4800\n",
    "z    = 1.0\n",
    "alpha= 0.4\n",
    "amplitude = 2 * u.m/u.s\n",
    "period    = 65 * u.day\n",
    "stellar_model = PhoenixModel(alpha,z,T,logg,target,amplitude,period)"
   ]
  },
  {
   "cell_type": "code",
   "execution_count": 9,
   "metadata": {},
   "outputs": [],
   "source": [
    "from simulacra.detector import Detector, spacing_from_res"
   ]
  },
  {
   "cell_type": "markdown",
   "metadata": {},
   "source": [
    "<h2>Detector</h2>\n",
    "Here we define our detector giving it an aperature area, resolution, dark current, read noise, and ccd efficiency. All of these can be except area can be given as an array of the same size as the wave_grid (eg. if the detector has varying resolution or noise levels)"
   ]
  },
  {
   "cell_type": "code",
   "execution_count": null,
   "metadata": {},
   "outputs": [],
   "source": [
    "resolution = 130_000\n",
    "area = 100 *u.m**2\n",
    "exp_times = 8 * np.ones(epoches)* u.minute \n",
    "dark_current = 0.01/u.s\n",
    "read_noise   = 0.01\n",
    "ccd_eff      = 0.9\n",
    "\n",
    "delta_x = spacing_from_res(resolution)\n",
    "x_grid = np.arange(np.log(wave_min.to(u.Angstrom).value),np.log(wave_max.to(u.Angstrom).value),delta_x)\n",
    "wave_grid = np.exp(x_grid) * u.Angstrom\n",
    "\n",
    "detector = Detector(stellar_model,resolution,loc,area,wave_grid,dark_current,read_noise,ccd_eff)"
   ]
  },
  {
   "cell_type": "code",
   "execution_count": null,
   "metadata": {},
   "outputs": [],
   "source": [
    "detector.add_model(tellurics_model)"
   ]
  },
  {
   "cell_type": "markdown",
   "metadata": {},
   "source": [
    "<h2>Gas Cell</h2>\n",
    "Optionally, add the gas cell to the detector for simulations of the Keck HiRES spectrograph."
   ]
  },
  {
   "cell_type": "code",
   "execution_count": null,
   "metadata": {},
   "outputs": [],
   "source": [
    "from simulacra.gascell import GasCellModel\n",
    "gascell_model = GasCellModel('data/gascell/keck_fts_inUse.idl')\n",
    "detector.add_model(gascell_model)"
   ]
  },
  {
   "cell_type": "markdown",
   "metadata": {},
   "source": [
    "<h2>Simulator</h2>\n",
    "Now comes the bulk of the work, run the simulation with the given transmission models, star, detector at the given times for some exposure times."
   ]
  },
  {
   "cell_type": "code",
   "execution_count": null,
   "metadata": {},
   "outputs": [],
   "source": [
    "data = detector.simulate(obs_times,exp_times)"
   ]
  },
  {
   "cell_type": "markdown",
   "metadata": {},
   "source": [
    "Save file to pickle jar and call it quits"
   ]
  },
  {
   "cell_type": "code",
   "execution_count": null,
   "metadata": {},
   "outputs": [],
   "source": [
    "filename = 'out/datatest4.pkl'\n",
    "data.to_pickle(filename)"
   ]
  },
  {
   "cell_type": "code",
   "execution_count": null,
   "metadata": {},
   "outputs": [],
   "source": [
    "import matplotlib.pyplot as plt\n",
    "def normalize(y,constant):\n",
    "    return y/constant"
   ]
  },
  {
   "cell_type": "code",
   "execution_count": null,
   "metadata": {},
   "outputs": [],
   "source": [
    "constant = np.mean(data['theory']['interpolated']['total']['flux'])\n",
    "fig, ax = plt.subplots(figsize=(20,8))\n",
    "plt.xlim(np.log(5990),np.log(6000))\n",
    "data.plot_flux(ax,0,['data','flux'],['data','wave'],ferr_keys=['data','ferr'],pargs=simulacra.dataset.data_plot_settings)\n",
    "data.plot_flux(ax,0,['theory','interpolated','PhoenixModel','flux'],['theory','interpolated','total','wave'],pargs={**simulacra.dataset.star_settings,**simulacra.dataset.interpolated_settings},normalize=normalize,nargs=[constant])\n",
    "data.plot_flux(ax,0,['theory','interpolated','TelFitModel','flux'],['theory','interpolated','total','wave'],pargs={**simulacra.dataset.tellurics_settings,**simulacra.dataset.interpolated_settings})\n",
    "data.plot_flux(ax,0,['theory','interpolated','GasCellModel','flux'],['theory','interpolated','total','wave'],pargs={**simulacra.dataset.gas_settings,**simulacra.dataset.interpolated_settings})\n",
    "data.plot_flux(ax,0,['theory','interpolated','total','flux'],['theory','interpolated','total','wave'],pargs={'color':'gray',**simulacra.dataset.interpolated_settings},normalize=normalize,nargs=[constant])\n",
    "data.plot_flux(ax,0,['theory','lsf','flux'],['theory','interpolated','total','wave'],pargs={'color':'pink',**simulacra.dataset.interpolated_settings},normalize=normalize,nargs=[constant])\n",
    "plt.show()"
   ]
  },
  {
   "cell_type": "code",
   "execution_count": null,
   "metadata": {},
   "outputs": [],
   "source": []
  }
 ],
 "metadata": {
  "kernelspec": {
   "display_name": "Python 3",
   "language": "python",
   "name": "python3"
  },
  "language_info": {
   "codemirror_mode": {
    "name": "ipython",
    "version": 3
   },
   "file_extension": ".py",
   "mimetype": "text/x-python",
   "name": "python",
   "nbconvert_exporter": "python",
   "pygments_lexer": "ipython3",
   "version": "3.7.1"
  }
 },
 "nbformat": 4,
 "nbformat_minor": 4
}
