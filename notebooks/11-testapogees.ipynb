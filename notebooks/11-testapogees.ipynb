{
 "cells": [
  {
   "cell_type": "code",
   "execution_count": 1,
   "metadata": {},
   "outputs": [
    {
     "name": "stderr",
     "output_type": "stream",
     "text": [
      "/ext3/miniconda3/envs/simulacraenv/lib/python3.7/site-packages/pysynphot/locations.py:46: UserWarning: PYSYN_CDBS is undefined; functionality will be SEVERELY crippled.\n",
      "  warnings.warn(\"PYSYN_CDBS is undefined; functionality will be SEVERELY \"\n",
      "/ext3/miniconda3/envs/simulacraenv/lib/python3.7/site-packages/pysynphot/locations.py:345: UserWarning: Extinction files not found in extinction\n",
      "  warnings.warn('Extinction files not found in %s' % (extdir, ))\n"
     ]
    }
   ],
   "source": [
    "import sys\n",
    "sys.path.insert(0,'..')\n",
    "import simulacra.star\n",
    "import simulacra.tellurics\n",
    "from simulacra.star import PhoenixModel\n",
    "\n",
    "import random\n",
    "random.seed(a=102102102)\n",
    "import numpy as np\n",
    "np.random.seed(102102102)\n",
    "\n",
    "import astropy.io.fits\n",
    "import astropy.time as at\n",
    "\n",
    "import astropy.units as u\n",
    "import astropy.coordinates as coord\n",
    "import astropy.constants as const"
   ]
  },
  {
   "cell_type": "markdown",
   "metadata": {},
   "source": [
    "<h1>11 - Making Some APOGEE Data</h1>\n",
    "In this test, we are going to generate data from the same star at multiple distances using the same conditions as apogee."
   ]
  },
  {
   "cell_type": "code",
   "execution_count": 2,
   "metadata": {},
   "outputs": [],
   "source": [
    "from datetime import datetime\n",
    "import os\n",
    "date = datetime.today().strftime('%Y-%m-%d')\n",
    "outdir = os.path.join('/scratch/mdd423/simulacra/out/',date)\n",
    "os.makedirs(outdir,exist_ok=True)"
   ]
  },
  {
   "cell_type": "markdown",
   "metadata": {},
   "source": [
    "<h2>Detector</h2>\n",
    "Here we define our detector giving it an aperature area, resolution, dark current, read noise, and ccd efficiency. All of these can be except area can be given as an array of the same size as the wave_grid (eg. if the detector has varying resolution or noise levels)"
   ]
  },
  {
   "cell_type": "code",
   "execution_count": 3,
   "metadata": {},
   "outputs": [],
   "source": [
    "import simulacra.detector\n",
    "det_dict = simulacra.detector.expres_dict"
   ]
  },
  {
   "cell_type": "code",
   "execution_count": 4,
   "metadata": {},
   "outputs": [],
   "source": [
    "loc = det_dict['loc']\n",
    "ra, dec = np.random.uniform(0,360) * u.degree, np.random.uniform(loc.lat.to(u.degree).value-30,loc.lat.to(u.degree).value+30) * u.degree\n",
    "target = coord.SkyCoord(ra,dec,frame='icrs')"
   ]
  },
  {
   "cell_type": "code",
   "execution_count": 5,
   "metadata": {
    "scrolled": false
   },
   "outputs": [],
   "source": [
    "tstart = at.Time('2020-01-01T08:10:00.123456789',format='isot',scale='utc')\n",
    "tend   = tstart + 720 * u.day\n",
    "night_grid = simulacra.star.get_night_grid(loc,tstart,tend,steps_per_night=20)\n",
    "possible_times, airmass = simulacra.star.get_realistic_times(target,loc,night_grid)"
   ]
  },
  {
   "cell_type": "code",
   "execution_count": 6,
   "metadata": {},
   "outputs": [],
   "source": [
    "epoches = 30"
   ]
  },
  {
   "cell_type": "markdown",
   "metadata": {},
   "source": [
    "Now we selected some random sample of these to observe at and the airmasses at those times"
   ]
  },
  {
   "cell_type": "code",
   "execution_count": 7,
   "metadata": {},
   "outputs": [],
   "source": [
    "obs_ints = random.sample(range(len(airmass)),epoches)\n",
    "obs_times, obs_airmass = possible_times[obs_ints], airmass[obs_ints]"
   ]
  },
  {
   "cell_type": "code",
   "execution_count": 8,
   "metadata": {},
   "outputs": [],
   "source": [
    "import matplotlib.pyplot as plt\n",
    "import scipy.ndimage\n",
    "def normalize(y,yerr,sigma):\n",
    "    y_low = scipy.ndimage.gaussian_filter(y,sigma)\n",
    "    return y/y_low, yerr/y"
   ]
  },
  {
   "cell_type": "code",
   "execution_count": 9,
   "metadata": {},
   "outputs": [],
   "source": [
    "exp_time = 8 * u.minute\n",
    "\n",
    "exp_times = np.ones(epoches)*exp_time "
   ]
  },
  {
   "cell_type": "markdown",
   "metadata": {},
   "source": [
    "<h2>Simulations</h2>\n",
    "Now we are going to simulate this star with the same detector defined by the above parameters at many different distances."
   ]
  },
  {
   "cell_type": "code",
   "execution_count": 10,
   "metadata": {},
   "outputs": [],
   "source": [
    "distances = [100 * u.pc, 150 * u.pc, 200 * u.pc, 250 * u.pc, 300 * u.pc, 350 * u.pc, 400 * u.pc, 450 * u.pc, 500 * u.pc, 550 * u.pc, 750 * u.pc, 1 * u.kpc]"
   ]
  },
  {
   "cell_type": "code",
   "execution_count": 11,
   "metadata": {},
   "outputs": [
    {
     "data": {
      "text/plain": [
       "12"
      ]
     },
     "execution_count": 11,
     "metadata": {},
     "output_type": "execute_result"
    }
   ],
   "source": [
    "len(distances)"
   ]
  },
  {
   "cell_type": "markdown",
   "metadata": {},
   "source": [
    "Now Simulate! And plot outputs before saving!"
   ]
  },
  {
   "cell_type": "code",
   "execution_count": 12,
   "metadata": {},
   "outputs": [],
   "source": [
    "logg = 1.0\n",
    "T    = 4800\n",
    "z    = -1.0\n",
    "alpha= 0.4\n",
    "amplitude = 4 * u.km/u.s\n",
    "period    = 67.3 * u.day"
   ]
  },
  {
   "cell_type": "code",
   "execution_count": null,
   "metadata": {
    "scrolled": true
   },
   "outputs": [
    {
     "name": "stdout",
     "output_type": "stream",
     "text": [
      "using saved wave file\n",
      "../data/stellar/PHOENIX/lte04800-1.00-1.0.Alpha=+0.40.PHOENIX-ACES-AGSS-COND-2011-HiRes.fits\n",
      "using saved flux file\n",
      "reading in ../data/stellar/PHOENIX/WAVE_PHOENIX-ACES-AGSS-COND-2011.fits\n",
      "surface flux: mean 1.31e+14 erg / (cm3 s)\t median 1.14e+14 erg / (cm3 s)\n",
      "obs     flux: mean 3.78e-02 erg / (cm3 s)\t median 3.28e-02 erg / (cm3 s)\n"
     ]
    },
    {
     "name": "stderr",
     "output_type": "stream",
     "text": [
      "WARNING:root:tellurics epoches not the same as obs times\n",
      "resetting...\n"
     ]
    },
    {
     "name": "stdout",
     "output_type": "stream",
     "text": [
      "generating spectra...\n",
      "humidity: 50.0\n",
      " pressure: 10000.0\n",
      " temperature: 300.0\n",
      " lat: 35.09666666666667\n",
      " elevation: 2.198000000000354\n",
      " freqmin(cm-1): 10509.73381181498\n",
      " freqmax(cm-1): 14316.392269148173\n",
      " angle: 36.69121090236324\n",
      "\n",
      "\n",
      "Running exec: lblrtm\n",
      "\n",
      "\n"
     ]
    },
    {
     "name": "stderr",
     "output_type": "stream",
     "text": [
      "Note: The following floating-point exceptions are signalling: IEEE_INVALID_FLAG IEEE_DIVIDE_BY_ZERO IEEE_UNDERFLOW_FLAG IEEE_DENORMAL\n",
      "STOP  LBLRTM EXIT \n",
      "2.04user 1.80system 0:08.28elapsed 46%CPU (0avgtext+0avgdata 7672maxresident)k\n",
      "0inputs+0outputs (0major+1235minor)pagefaults 0swaps\n"
     ]
    },
    {
     "name": "stdout",
     "output_type": "stream",
     "text": [
      "\n",
      "Running exec: lblrtm\n",
      "\n",
      "\n"
     ]
    },
    {
     "name": "stderr",
     "output_type": "stream",
     "text": [
      "Note: The following floating-point exceptions are signalling: IEEE_INVALID_FLAG IEEE_DIVIDE_BY_ZERO IEEE_UNDERFLOW_FLAG IEEE_DENORMAL\n",
      "STOP  LBLRTM EXIT \n",
      "1.45user 1.79system 0:06.11elapsed 53%CPU (0avgtext+0avgdata 7688maxresident)k\n",
      "0inputs+0outputs (0major+1237minor)pagefaults 0swaps\n"
     ]
    },
    {
     "name": "stdout",
     "output_type": "stream",
     "text": [
      "1332615\n",
      "humidity: 50.0\n",
      " pressure: 10000.0\n",
      " temperature: 300.0\n",
      " lat: 35.09666666666667\n",
      " elevation: 2.198000000000354\n",
      " freqmin(cm-1): 10509.73381181498\n",
      " freqmax(cm-1): 14316.392269148173\n",
      " angle: 54.53480592865937\n",
      "\n",
      "\n",
      "Running exec: lblrtm\n",
      "\n",
      "\n"
     ]
    },
    {
     "name": "stderr",
     "output_type": "stream",
     "text": [
      "Note: The following floating-point exceptions are signalling: IEEE_INVALID_FLAG IEEE_DIVIDE_BY_ZERO IEEE_UNDERFLOW_FLAG IEEE_DENORMAL\n",
      "STOP  LBLRTM EXIT \n",
      "1.98user 1.85system 0:09.40elapsed 40%CPU (0avgtext+0avgdata 7792maxresident)k\n",
      "0inputs+0outputs (0major+1238minor)pagefaults 0swaps\n"
     ]
    },
    {
     "name": "stdout",
     "output_type": "stream",
     "text": [
      "\n",
      "Running exec: lblrtm\n",
      "\n",
      "\n"
     ]
    },
    {
     "name": "stderr",
     "output_type": "stream",
     "text": [
      "Note: The following floating-point exceptions are signalling: IEEE_INVALID_FLAG IEEE_DIVIDE_BY_ZERO IEEE_UNDERFLOW_FLAG IEEE_DENORMAL\n",
      "STOP  LBLRTM EXIT \n",
      "1.49user 1.75system 0:05.68elapsed 57%CPU (0avgtext+0avgdata 7716maxresident)k\n",
      "0inputs+0outputs (0major+1235minor)pagefaults 0swaps\n"
     ]
    },
    {
     "name": "stdout",
     "output_type": "stream",
     "text": [
      "1332615\n",
      "humidity: 50.0\n",
      " pressure: 10000.0\n",
      " temperature: 300.0\n",
      " lat: 35.09666666666667\n",
      " elevation: 2.198000000000354\n",
      " freqmin(cm-1): 10509.73381181498\n",
      " freqmax(cm-1): 14316.392269148173\n",
      " angle: 58.125619210760185\n",
      "\n",
      "\n",
      "Running exec: lblrtm\n",
      "\n",
      "\n"
     ]
    },
    {
     "name": "stderr",
     "output_type": "stream",
     "text": [
      "Note: The following floating-point exceptions are signalling: IEEE_INVALID_FLAG IEEE_DIVIDE_BY_ZERO IEEE_UNDERFLOW_FLAG IEEE_DENORMAL\n",
      "STOP  LBLRTM EXIT \n",
      "2.03user 1.81system 0:08.29elapsed 46%CPU (0avgtext+0avgdata 7792maxresident)k\n",
      "0inputs+0outputs (0major+1238minor)pagefaults 0swaps\n"
     ]
    },
    {
     "name": "stdout",
     "output_type": "stream",
     "text": [
      "\n",
      "Running exec: lblrtm\n",
      "\n",
      "\n"
     ]
    },
    {
     "name": "stderr",
     "output_type": "stream",
     "text": [
      "Note: The following floating-point exceptions are signalling: IEEE_INVALID_FLAG IEEE_DIVIDE_BY_ZERO IEEE_UNDERFLOW_FLAG IEEE_DENORMAL\n",
      "STOP  LBLRTM EXIT \n",
      "1.49user 1.71system 0:05.93elapsed 54%CPU (0avgtext+0avgdata 7572maxresident)k\n",
      "0inputs+0outputs (0major+1235minor)pagefaults 0swaps\n"
     ]
    },
    {
     "name": "stdout",
     "output_type": "stream",
     "text": [
      "1332615\n",
      "humidity: 50.0\n",
      " pressure: 10000.0\n",
      " temperature: 300.0\n",
      " lat: 35.09666666666667\n",
      " elevation: 2.198000000000354\n",
      " freqmin(cm-1): 10509.73381181498\n",
      " freqmax(cm-1): 14316.392269148173\n",
      " angle: 55.32428194385217\n",
      "\n",
      "\n",
      "Running exec: lblrtm\n",
      "\n",
      "\n"
     ]
    },
    {
     "name": "stderr",
     "output_type": "stream",
     "text": [
      "Note: The following floating-point exceptions are signalling: IEEE_INVALID_FLAG IEEE_DIVIDE_BY_ZERO IEEE_UNDERFLOW_FLAG IEEE_DENORMAL\n",
      "STOP  LBLRTM EXIT \n",
      "2.01user 1.83system 0:06.66elapsed 57%CPU (0avgtext+0avgdata 7680maxresident)k\n",
      "0inputs+0outputs (0major+1238minor)pagefaults 0swaps\n"
     ]
    },
    {
     "name": "stdout",
     "output_type": "stream",
     "text": [
      "\n",
      "Running exec: lblrtm\n",
      "\n",
      "\n"
     ]
    },
    {
     "name": "stderr",
     "output_type": "stream",
     "text": [
      "Note: The following floating-point exceptions are signalling: IEEE_INVALID_FLAG IEEE_DIVIDE_BY_ZERO IEEE_UNDERFLOW_FLAG IEEE_DENORMAL\n",
      "STOP  LBLRTM EXIT \n",
      "1.41user 1.83system 0:06.59elapsed 49%CPU (0avgtext+0avgdata 7624maxresident)k\n",
      "0inputs+0outputs (0major+1234minor)pagefaults 0swaps\n"
     ]
    },
    {
     "name": "stdout",
     "output_type": "stream",
     "text": [
      "1332615\n",
      "humidity: 50.0\n",
      " pressure: 10000.0\n",
      " temperature: 300.0\n",
      " lat: 35.09666666666667\n",
      " elevation: 2.198000000000354\n",
      " freqmin(cm-1): 10509.73381181498\n",
      " freqmax(cm-1): 14316.392269148173\n",
      " angle: 20.965611225868095\n",
      "\n",
      "\n",
      "Running exec: lblrtm\n",
      "\n",
      "\n"
     ]
    },
    {
     "name": "stderr",
     "output_type": "stream",
     "text": [
      "Note: The following floating-point exceptions are signalling: IEEE_INVALID_FLAG IEEE_DIVIDE_BY_ZERO IEEE_UNDERFLOW_FLAG IEEE_DENORMAL\n",
      "STOP  LBLRTM EXIT \n",
      "1.96user 1.85system 0:07.52elapsed 50%CPU (0avgtext+0avgdata 7672maxresident)k\n",
      "0inputs+0outputs (0major+1235minor)pagefaults 0swaps\n"
     ]
    },
    {
     "name": "stdout",
     "output_type": "stream",
     "text": [
      "\n",
      "Running exec: lblrtm\n",
      "\n",
      "\n"
     ]
    },
    {
     "name": "stderr",
     "output_type": "stream",
     "text": [
      "Note: The following floating-point exceptions are signalling: IEEE_INVALID_FLAG IEEE_DIVIDE_BY_ZERO IEEE_UNDERFLOW_FLAG IEEE_DENORMAL\n",
      "STOP  LBLRTM EXIT \n",
      "1.45user 1.77system 0:07.22elapsed 44%CPU (0avgtext+0avgdata 7748maxresident)k\n",
      "0inputs+0outputs (0major+1235minor)pagefaults 0swaps\n"
     ]
    },
    {
     "name": "stdout",
     "output_type": "stream",
     "text": [
      "1332615\n",
      "humidity: 50.0\n",
      " pressure: 10000.0\n",
      " temperature: 300.0\n",
      " lat: 35.09666666666667\n",
      " elevation: 2.198000000000354\n",
      " freqmin(cm-1): 10509.73381181498\n",
      " freqmax(cm-1): 14316.392269148173\n",
      " angle: 59.87903794895467\n",
      "\n",
      "\n",
      "Running exec: lblrtm\n",
      "\n",
      "\n"
     ]
    },
    {
     "name": "stderr",
     "output_type": "stream",
     "text": [
      "Note: The following floating-point exceptions are signalling: IEEE_INVALID_FLAG IEEE_DIVIDE_BY_ZERO IEEE_UNDERFLOW_FLAG IEEE_DENORMAL\n",
      "STOP  LBLRTM EXIT \n",
      "2.09user 1.78system 0:07.99elapsed 48%CPU (0avgtext+0avgdata 7688maxresident)k\n",
      "0inputs+0outputs (0major+1237minor)pagefaults 0swaps\n"
     ]
    },
    {
     "name": "stdout",
     "output_type": "stream",
     "text": [
      "\n",
      "Running exec: lblrtm\n",
      "\n",
      "\n"
     ]
    },
    {
     "name": "stderr",
     "output_type": "stream",
     "text": [
      "Note: The following floating-point exceptions are signalling: IEEE_INVALID_FLAG IEEE_DIVIDE_BY_ZERO IEEE_UNDERFLOW_FLAG IEEE_DENORMAL\n",
      "STOP  LBLRTM EXIT \n",
      "1.48user 1.75system 0:06.08elapsed 53%CPU (0avgtext+0avgdata 7732maxresident)k\n",
      "0inputs+0outputs (0major+1236minor)pagefaults 0swaps\n"
     ]
    },
    {
     "name": "stdout",
     "output_type": "stream",
     "text": [
      "1332615\n",
      "humidity: 50.0\n",
      " pressure: 10000.0\n",
      " temperature: 300.0\n",
      " lat: 35.09666666666667\n",
      " elevation: 2.198000000000354\n",
      " freqmin(cm-1): 10509.73381181498\n",
      " freqmax(cm-1): 14316.392269148173\n",
      " angle: 34.28405220813725\n",
      "\n",
      "\n",
      "Running exec: lblrtm\n",
      "\n",
      "\n"
     ]
    },
    {
     "name": "stderr",
     "output_type": "stream",
     "text": [
      "Note: The following floating-point exceptions are signalling: IEEE_INVALID_FLAG IEEE_DIVIDE_BY_ZERO IEEE_UNDERFLOW_FLAG IEEE_DENORMAL\n",
      "STOP  LBLRTM EXIT \n",
      "1.98user 1.83system 0:08.26elapsed 46%CPU (0avgtext+0avgdata 7752maxresident)k\n",
      "0inputs+0outputs (0major+1238minor)pagefaults 0swaps\n"
     ]
    },
    {
     "name": "stdout",
     "output_type": "stream",
     "text": [
      "\n",
      "Running exec: lblrtm\n",
      "\n",
      "\n"
     ]
    },
    {
     "name": "stderr",
     "output_type": "stream",
     "text": [
      "Note: The following floating-point exceptions are signalling: IEEE_INVALID_FLAG IEEE_DIVIDE_BY_ZERO IEEE_UNDERFLOW_FLAG IEEE_DENORMAL\n",
      "STOP  LBLRTM EXIT \n",
      "1.51user 1.72system 0:06.25elapsed 51%CPU (0avgtext+0avgdata 7672maxresident)k\n",
      "0inputs+0outputs (0major+1234minor)pagefaults 0swaps\n"
     ]
    },
    {
     "name": "stdout",
     "output_type": "stream",
     "text": [
      "1332615\n",
      "humidity: 50.0\n",
      " pressure: 10000.0\n",
      " temperature: 300.0\n",
      " lat: 35.09666666666667\n",
      " elevation: 2.198000000000354\n",
      " freqmin(cm-1): 10509.73381181498\n",
      " freqmax(cm-1): 14316.392269148173\n",
      " angle: 57.049338052947554\n",
      "\n",
      "\n",
      "Running exec: lblrtm\n",
      "\n",
      "\n"
     ]
    },
    {
     "name": "stderr",
     "output_type": "stream",
     "text": [
      "Note: The following floating-point exceptions are signalling: IEEE_INVALID_FLAG IEEE_DIVIDE_BY_ZERO IEEE_UNDERFLOW_FLAG IEEE_DENORMAL\n",
      "STOP  LBLRTM EXIT \n",
      "2.01user 1.79system 0:07.49elapsed 50%CPU (0avgtext+0avgdata 7580maxresident)k\n",
      "0inputs+0outputs (0major+1236minor)pagefaults 0swaps\n"
     ]
    },
    {
     "name": "stdout",
     "output_type": "stream",
     "text": [
      "\n",
      "Running exec: lblrtm\n",
      "\n",
      "\n"
     ]
    },
    {
     "name": "stderr",
     "output_type": "stream",
     "text": [
      "Note: The following floating-point exceptions are signalling: IEEE_INVALID_FLAG IEEE_DIVIDE_BY_ZERO IEEE_UNDERFLOW_FLAG IEEE_DENORMAL\n",
      "STOP  LBLRTM EXIT \n",
      "1.52user 1.71system 0:06.21elapsed 52%CPU (0avgtext+0avgdata 7568maxresident)k\n",
      "0inputs+0outputs (0major+1235minor)pagefaults 0swaps\n"
     ]
    },
    {
     "name": "stdout",
     "output_type": "stream",
     "text": [
      "1332615\n",
      "humidity: 50.0\n",
      " pressure: 10000.0\n",
      " temperature: 300.0\n",
      " lat: 35.09666666666667\n",
      " elevation: 2.198000000000354\n",
      " freqmin(cm-1): 10509.73381181498\n",
      " freqmax(cm-1): 14316.392269148173\n",
      " angle: 13.813932021156777\n",
      "\n",
      "\n",
      "Running exec: lblrtm\n",
      "\n",
      "\n"
     ]
    },
    {
     "name": "stderr",
     "output_type": "stream",
     "text": [
      "Note: The following floating-point exceptions are signalling: IEEE_INVALID_FLAG IEEE_DIVIDE_BY_ZERO IEEE_UNDERFLOW_FLAG IEEE_DENORMAL\n",
      "STOP  LBLRTM EXIT \n",
      "1.94user 1.85system 0:08.53elapsed 44%CPU (0avgtext+0avgdata 7720maxresident)k\n",
      "0inputs+0outputs (0major+1238minor)pagefaults 0swaps\n"
     ]
    },
    {
     "name": "stdout",
     "output_type": "stream",
     "text": [
      "\n",
      "Running exec: lblrtm\n",
      "\n",
      "\n"
     ]
    },
    {
     "name": "stderr",
     "output_type": "stream",
     "text": [
      "Note: The following floating-point exceptions are signalling: IEEE_INVALID_FLAG IEEE_DIVIDE_BY_ZERO IEEE_UNDERFLOW_FLAG IEEE_DENORMAL\n",
      "STOP  LBLRTM EXIT \n",
      "1.49user 1.73system 0:06.03elapsed 53%CPU (0avgtext+0avgdata 7792maxresident)k\n",
      "0inputs+0outputs (0major+1239minor)pagefaults 0swaps\n"
     ]
    },
    {
     "name": "stdout",
     "output_type": "stream",
     "text": [
      "1332615\n",
      "humidity: 50.0\n",
      " pressure: 10000.0\n",
      " temperature: 300.0\n",
      " lat: 35.09666666666667\n",
      " elevation: 2.198000000000354\n",
      " freqmin(cm-1): 10509.73381181498\n",
      " freqmax(cm-1): 14316.392269148173\n",
      " angle: 61.45182335030382\n",
      "\n",
      "\n",
      "Running exec: lblrtm\n",
      "\n",
      "\n"
     ]
    },
    {
     "name": "stderr",
     "output_type": "stream",
     "text": [
      "Note: The following floating-point exceptions are signalling: IEEE_INVALID_FLAG IEEE_DIVIDE_BY_ZERO IEEE_UNDERFLOW_FLAG IEEE_DENORMAL\n",
      "STOP  LBLRTM EXIT \n",
      "2.02user 1.77system 0:07.62elapsed 49%CPU (0avgtext+0avgdata 7672maxresident)k\n",
      "0inputs+0outputs (0major+1234minor)pagefaults 0swaps\n"
     ]
    },
    {
     "name": "stdout",
     "output_type": "stream",
     "text": [
      "\n",
      "Running exec: lblrtm\n",
      "\n",
      "\n"
     ]
    },
    {
     "name": "stderr",
     "output_type": "stream",
     "text": [
      "Note: The following floating-point exceptions are signalling: IEEE_INVALID_FLAG IEEE_DIVIDE_BY_ZERO IEEE_UNDERFLOW_FLAG IEEE_DENORMAL\n",
      "STOP  LBLRTM EXIT \n",
      "1.46user 1.78system 0:06.19elapsed 52%CPU (0avgtext+0avgdata 7712maxresident)k\n",
      "0inputs+0outputs (0major+1237minor)pagefaults 0swaps\n"
     ]
    },
    {
     "name": "stdout",
     "output_type": "stream",
     "text": [
      "1332615\n",
      "humidity: 50.0\n",
      " pressure: 10000.0\n",
      " temperature: 300.0\n",
      " lat: 35.09666666666667\n",
      " elevation: 2.198000000000354\n",
      " freqmin(cm-1): 10509.73381181498\n",
      " freqmax(cm-1): 14316.392269148173\n",
      " angle: 28.01367339271228\n",
      "\n",
      "\n",
      "Running exec: lblrtm\n",
      "\n",
      "\n"
     ]
    },
    {
     "name": "stderr",
     "output_type": "stream",
     "text": [
      "Note: The following floating-point exceptions are signalling: IEEE_INVALID_FLAG IEEE_DIVIDE_BY_ZERO IEEE_UNDERFLOW_FLAG IEEE_DENORMAL\n",
      "STOP  LBLRTM EXIT \n",
      "2.00user 1.83system 0:08.61elapsed 44%CPU (0avgtext+0avgdata 7720maxresident)k\n",
      "0inputs+0outputs (0major+1235minor)pagefaults 0swaps\n"
     ]
    },
    {
     "name": "stdout",
     "output_type": "stream",
     "text": [
      "\n",
      "Running exec: lblrtm\n",
      "\n",
      "\n"
     ]
    },
    {
     "name": "stderr",
     "output_type": "stream",
     "text": [
      "Note: The following floating-point exceptions are signalling: IEEE_INVALID_FLAG IEEE_DIVIDE_BY_ZERO IEEE_UNDERFLOW_FLAG IEEE_DENORMAL\n",
      "STOP  LBLRTM EXIT \n",
      "1.50user 1.73system 0:05.87elapsed 55%CPU (0avgtext+0avgdata 7752maxresident)k\n",
      "0inputs+0outputs (0major+1238minor)pagefaults 0swaps\n"
     ]
    },
    {
     "name": "stdout",
     "output_type": "stream",
     "text": [
      "1332615\n",
      "humidity: 50.0\n",
      " pressure: 10000.0\n",
      " temperature: 300.0\n",
      " lat: 35.09666666666667\n",
      " elevation: 2.198000000000354\n",
      " freqmin(cm-1): 10509.73381181498\n",
      " freqmax(cm-1): 14316.392269148173\n",
      " angle: 41.51215397677257\n",
      "\n",
      "\n",
      "Running exec: lblrtm\n",
      "\n",
      "\n"
     ]
    },
    {
     "name": "stderr",
     "output_type": "stream",
     "text": [
      "Note: The following floating-point exceptions are signalling: IEEE_INVALID_FLAG IEEE_DIVIDE_BY_ZERO IEEE_UNDERFLOW_FLAG IEEE_DENORMAL\n",
      "STOP  LBLRTM EXIT \n",
      "2.00user 1.80system 0:08.07elapsed 47%CPU (0avgtext+0avgdata 7608maxresident)k\n",
      "0inputs+0outputs (0major+1233minor)pagefaults 0swaps\n"
     ]
    },
    {
     "name": "stdout",
     "output_type": "stream",
     "text": [
      "\n",
      "Running exec: lblrtm\n",
      "\n",
      "\n"
     ]
    },
    {
     "name": "stderr",
     "output_type": "stream",
     "text": [
      "Note: The following floating-point exceptions are signalling: IEEE_INVALID_FLAG IEEE_DIVIDE_BY_ZERO IEEE_UNDERFLOW_FLAG IEEE_DENORMAL\n",
      "STOP  LBLRTM EXIT \n",
      "1.49user 1.73system 0:06.97elapsed 46%CPU (0avgtext+0avgdata 7620maxresident)k\n",
      "0inputs+0outputs (0major+1233minor)pagefaults 0swaps\n"
     ]
    },
    {
     "name": "stdout",
     "output_type": "stream",
     "text": [
      "1332615\n",
      "humidity: 50.0\n",
      " pressure: 10000.0\n",
      " temperature: 300.0\n",
      " lat: 35.09666666666667\n",
      " elevation: 2.198000000000354\n",
      " freqmin(cm-1): 10509.73381181498\n",
      " freqmax(cm-1): 14316.392269148173\n",
      " angle: 9.240776626134643\n",
      "\n",
      "\n",
      "Running exec: lblrtm\n",
      "\n",
      "\n"
     ]
    },
    {
     "name": "stderr",
     "output_type": "stream",
     "text": [
      "Note: The following floating-point exceptions are signalling: IEEE_INVALID_FLAG IEEE_DIVIDE_BY_ZERO IEEE_UNDERFLOW_FLAG IEEE_DENORMAL\n",
      "STOP  LBLRTM EXIT \n",
      "1.97user 1.83system 0:07.20elapsed 52%CPU (0avgtext+0avgdata 7672maxresident)k\n",
      "0inputs+0outputs (0major+1235minor)pagefaults 0swaps\n"
     ]
    },
    {
     "name": "stdout",
     "output_type": "stream",
     "text": [
      "\n",
      "Running exec: lblrtm\n",
      "\n",
      "\n"
     ]
    },
    {
     "name": "stderr",
     "output_type": "stream",
     "text": [
      "Note: The following floating-point exceptions are signalling: IEEE_INVALID_FLAG IEEE_DIVIDE_BY_ZERO IEEE_UNDERFLOW_FLAG IEEE_DENORMAL\n",
      "STOP  LBLRTM EXIT \n",
      "1.47user 1.78system 0:06.08elapsed 53%CPU (0avgtext+0avgdata 7752maxresident)k\n",
      "0inputs+0outputs (0major+1238minor)pagefaults 0swaps\n"
     ]
    },
    {
     "name": "stdout",
     "output_type": "stream",
     "text": [
      "1332615\n",
      "humidity: 50.0\n",
      " pressure: 10000.0\n",
      " temperature: 300.0\n",
      " lat: 35.09666666666667\n",
      " elevation: 2.198000000000354\n",
      " freqmin(cm-1): 10509.73381181498\n",
      " freqmax(cm-1): 14316.392269148173\n",
      " angle: 50.45377300971178\n",
      "\n",
      "\n",
      "Running exec: lblrtm\n",
      "\n",
      "\n",
      "\n",
      "Running exec: lblrtm\n",
      "\n",
      "\n"
     ]
    },
    {
     "name": "stderr",
     "output_type": "stream",
     "text": [
      "Note: The following floating-point exceptions are signalling: IEEE_INVALID_FLAG IEEE_DIVIDE_BY_ZERO IEEE_UNDERFLOW_FLAG IEEE_DENORMAL\n",
      "STOP  LBLRTM EXIT \n",
      "1.47user 1.77system 0:05.49elapsed 59%CPU (0avgtext+0avgdata 7720maxresident)k\n",
      "0inputs+0outputs (0major+1235minor)pagefaults 0swaps\n"
     ]
    },
    {
     "name": "stdout",
     "output_type": "stream",
     "text": [
      "1332615\n",
      "humidity: 50.0\n",
      " pressure: 10000.0\n",
      " temperature: 300.0\n",
      " lat: 35.09666666666667\n",
      " elevation: 2.198000000000354\n",
      " freqmin(cm-1): 10509.73381181498\n",
      " freqmax(cm-1): 14316.392269148173\n",
      " angle: 66.50272325408055\n",
      "\n",
      "\n",
      "Running exec: lblrtm\n",
      "\n",
      "\n"
     ]
    },
    {
     "name": "stderr",
     "output_type": "stream",
     "text": [
      "Note: The following floating-point exceptions are signalling: IEEE_INVALID_FLAG IEEE_DIVIDE_BY_ZERO IEEE_UNDERFLOW_FLAG IEEE_DENORMAL\n",
      "STOP  LBLRTM EXIT \n",
      "2.03user 1.83system 0:07.60elapsed 50%CPU (0avgtext+0avgdata 7720maxresident)k\n",
      "0inputs+0outputs (0major+1235minor)pagefaults 0swaps\n"
     ]
    },
    {
     "name": "stdout",
     "output_type": "stream",
     "text": [
      "\n",
      "Running exec: lblrtm\n",
      "\n",
      "\n"
     ]
    },
    {
     "name": "stderr",
     "output_type": "stream",
     "text": [
      "Note: The following floating-point exceptions are signalling: IEEE_INVALID_FLAG IEEE_DIVIDE_BY_ZERO IEEE_UNDERFLOW_FLAG IEEE_DENORMAL\n",
      "STOP  LBLRTM EXIT \n",
      "1.47user 1.81system 0:05.82elapsed 56%CPU (0avgtext+0avgdata 7660maxresident)k\n",
      "0inputs+0outputs (0major+1236minor)pagefaults 0swaps\n"
     ]
    },
    {
     "name": "stdout",
     "output_type": "stream",
     "text": [
      "1332615\n",
      "humidity: 50.0\n",
      " pressure: 10000.0\n",
      " temperature: 300.0\n",
      " lat: 35.09666666666667\n",
      " elevation: 2.198000000000354\n",
      " freqmin(cm-1): 10509.73381181498\n",
      " freqmax(cm-1): 14316.392269148173\n",
      " angle: 47.40733099810307\n",
      "\n",
      "\n",
      "Running exec: lblrtm\n",
      "\n",
      "\n"
     ]
    },
    {
     "name": "stderr",
     "output_type": "stream",
     "text": [
      "Note: The following floating-point exceptions are signalling: IEEE_INVALID_FLAG IEEE_DIVIDE_BY_ZERO IEEE_UNDERFLOW_FLAG IEEE_DENORMAL\n",
      "STOP  LBLRTM EXIT \n",
      "1.98user 1.82system 0:07.04elapsed 54%CPU (0avgtext+0avgdata 7732maxresident)k\n",
      "0inputs+0outputs (0major+1237minor)pagefaults 0swaps\n"
     ]
    },
    {
     "name": "stdout",
     "output_type": "stream",
     "text": [
      "\n",
      "Running exec: lblrtm\n",
      "\n",
      "\n"
     ]
    },
    {
     "name": "stderr",
     "output_type": "stream",
     "text": [
      "Note: The following floating-point exceptions are signalling: IEEE_INVALID_FLAG IEEE_DIVIDE_BY_ZERO IEEE_UNDERFLOW_FLAG IEEE_DENORMAL\n",
      "STOP  LBLRTM EXIT \n",
      "1.50user 1.75system 0:06.81elapsed 47%CPU (0avgtext+0avgdata 7748maxresident)k\n",
      "0inputs+0outputs (0major+1235minor)pagefaults 0swaps\n"
     ]
    },
    {
     "name": "stdout",
     "output_type": "stream",
     "text": [
      "1332615\n",
      "humidity: 50.0\n",
      " pressure: 10000.0\n",
      " temperature: 300.0\n",
      " lat: 35.09666666666667\n",
      " elevation: 2.198000000000354\n",
      " freqmin(cm-1): 10509.73381181498\n",
      " freqmax(cm-1): 14316.392269148173\n",
      " angle: 8.567373478697155\n",
      "\n",
      "\n",
      "Running exec: lblrtm\n",
      "\n",
      "\n"
     ]
    },
    {
     "name": "stderr",
     "output_type": "stream",
     "text": [
      "Note: The following floating-point exceptions are signalling: IEEE_INVALID_FLAG IEEE_DIVIDE_BY_ZERO IEEE_UNDERFLOW_FLAG IEEE_DENORMAL\n",
      "STOP  LBLRTM EXIT \n",
      "1.97user 1.84system 0:07.91elapsed 48%CPU (0avgtext+0avgdata 7624maxresident)k\n",
      "0inputs+0outputs (0major+1234minor)pagefaults 0swaps\n"
     ]
    },
    {
     "name": "stdout",
     "output_type": "stream",
     "text": [
      "\n",
      "Running exec: lblrtm\n",
      "\n",
      "\n"
     ]
    },
    {
     "name": "stderr",
     "output_type": "stream",
     "text": [
      "Note: The following floating-point exceptions are signalling: IEEE_INVALID_FLAG IEEE_DIVIDE_BY_ZERO IEEE_UNDERFLOW_FLAG IEEE_DENORMAL\n",
      "STOP  LBLRTM EXIT \n",
      "1.48user 1.76system 0:05.58elapsed 58%CPU (0avgtext+0avgdata 7816maxresident)k\n",
      "0inputs+0outputs (0major+1239minor)pagefaults 0swaps\n"
     ]
    },
    {
     "name": "stdout",
     "output_type": "stream",
     "text": [
      "1332615\n",
      "humidity: 50.0\n",
      " pressure: 10000.0\n",
      " temperature: 300.0\n",
      " lat: 35.09666666666667\n",
      " elevation: 2.198000000000354\n",
      " freqmin(cm-1): 10509.73381181498\n",
      " freqmax(cm-1): 14316.392269148173\n",
      " angle: 14.782472150059622\n",
      "\n",
      "\n",
      "Running exec: lblrtm\n",
      "\n",
      "\n"
     ]
    },
    {
     "name": "stderr",
     "output_type": "stream",
     "text": [
      "Note: The following floating-point exceptions are signalling: IEEE_INVALID_FLAG IEEE_DIVIDE_BY_ZERO IEEE_UNDERFLOW_FLAG IEEE_DENORMAL\n",
      "STOP  LBLRTM EXIT \n",
      "1.99user 1.82system 0:06.96elapsed 54%CPU (0avgtext+0avgdata 7712maxresident)k\n",
      "0inputs+0outputs (0major+1238minor)pagefaults 0swaps\n"
     ]
    },
    {
     "name": "stdout",
     "output_type": "stream",
     "text": [
      "\n",
      "Running exec: lblrtm\n",
      "\n",
      "\n"
     ]
    },
    {
     "name": "stderr",
     "output_type": "stream",
     "text": [
      "Note: The following floating-point exceptions are signalling: IEEE_INVALID_FLAG IEEE_DIVIDE_BY_ZERO IEEE_UNDERFLOW_FLAG IEEE_DENORMAL\n",
      "STOP  LBLRTM EXIT \n",
      "1.44user 1.80system 0:05.57elapsed 58%CPU (0avgtext+0avgdata 7556maxresident)k\n",
      "0inputs+0outputs (0major+1234minor)pagefaults 0swaps\n"
     ]
    },
    {
     "name": "stdout",
     "output_type": "stream",
     "text": [
      "1332615\n",
      "humidity: 50.0\n",
      " pressure: 10000.0\n",
      " temperature: 300.0\n",
      " lat: 35.09666666666667\n",
      " elevation: 2.198000000000354\n",
      " freqmin(cm-1): 10509.73381181498\n",
      " freqmax(cm-1): 14316.392269148173\n",
      " angle: 29.916167683982994\n",
      "\n",
      "\n",
      "Running exec: lblrtm\n",
      "\n",
      "\n"
     ]
    },
    {
     "name": "stderr",
     "output_type": "stream",
     "text": [
      "Note: The following floating-point exceptions are signalling: IEEE_INVALID_FLAG IEEE_DIVIDE_BY_ZERO IEEE_UNDERFLOW_FLAG IEEE_DENORMAL\n",
      "STOP  LBLRTM EXIT \n",
      "1.98user 1.83system 0:06.63elapsed 57%CPU (0avgtext+0avgdata 7636maxresident)k\n",
      "0inputs+0outputs (0major+1236minor)pagefaults 0swaps\n"
     ]
    },
    {
     "name": "stdout",
     "output_type": "stream",
     "text": [
      "\n",
      "Running exec: lblrtm\n",
      "\n",
      "\n"
     ]
    },
    {
     "name": "stderr",
     "output_type": "stream",
     "text": [
      "Note: The following floating-point exceptions are signalling: IEEE_INVALID_FLAG IEEE_DIVIDE_BY_ZERO IEEE_UNDERFLOW_FLAG IEEE_DENORMAL\n",
      "STOP  LBLRTM EXIT \n",
      "1.49user 1.74system 0:05.54elapsed 58%CPU (0avgtext+0avgdata 7744maxresident)k\n",
      "0inputs+0outputs (0major+1235minor)pagefaults 0swaps\n"
     ]
    },
    {
     "name": "stdout",
     "output_type": "stream",
     "text": [
      "1332615\n",
      "humidity: 50.0\n",
      " pressure: 10000.0\n",
      " temperature: 300.0\n",
      " lat: 35.09666666666667\n",
      " elevation: 2.198000000000354\n",
      " freqmin(cm-1): 10509.73381181498\n",
      " freqmax(cm-1): 14316.392269148173\n",
      " angle: 14.468357454527371\n",
      "\n",
      "\n",
      "Running exec: lblrtm\n",
      "\n",
      "\n"
     ]
    },
    {
     "name": "stderr",
     "output_type": "stream",
     "text": [
      "Note: The following floating-point exceptions are signalling: IEEE_INVALID_FLAG IEEE_DIVIDE_BY_ZERO IEEE_UNDERFLOW_FLAG IEEE_DENORMAL\n",
      "STOP  LBLRTM EXIT \n",
      "1.98user 1.84system 0:06.23elapsed 61%CPU (0avgtext+0avgdata 7748maxresident)k\n",
      "0inputs+0outputs (0major+1235minor)pagefaults 0swaps\n"
     ]
    },
    {
     "name": "stdout",
     "output_type": "stream",
     "text": [
      "\n",
      "Running exec: lblrtm\n",
      "\n",
      "\n"
     ]
    },
    {
     "name": "stderr",
     "output_type": "stream",
     "text": [
      "Note: The following floating-point exceptions are signalling: IEEE_INVALID_FLAG IEEE_DIVIDE_BY_ZERO IEEE_UNDERFLOW_FLAG IEEE_DENORMAL\n",
      "STOP  LBLRTM EXIT \n",
      "1.47user 1.77system 0:05.81elapsed 55%CPU (0avgtext+0avgdata 7728maxresident)k\n",
      "0inputs+0outputs (0major+1236minor)pagefaults 0swaps\n"
     ]
    },
    {
     "name": "stdout",
     "output_type": "stream",
     "text": [
      "1332615\n",
      "humidity: 50.0\n",
      " pressure: 10000.0\n",
      " temperature: 300.0\n",
      " lat: 35.09666666666667\n",
      " elevation: 2.198000000000354\n",
      " freqmin(cm-1): 10509.73381181498\n",
      " freqmax(cm-1): 14316.392269148173\n",
      " angle: 47.521881271662686\n",
      "\n",
      "\n",
      "Running exec: lblrtm\n",
      "\n",
      "\n"
     ]
    },
    {
     "name": "stderr",
     "output_type": "stream",
     "text": [
      "Note: The following floating-point exceptions are signalling: IEEE_INVALID_FLAG IEEE_DIVIDE_BY_ZERO IEEE_UNDERFLOW_FLAG IEEE_DENORMAL\n",
      "STOP  LBLRTM EXIT \n",
      "2.04user 1.76system 0:06.04elapsed 63%CPU (0avgtext+0avgdata 7688maxresident)k\n",
      "0inputs+0outputs (0major+1237minor)pagefaults 0swaps\n"
     ]
    },
    {
     "name": "stdout",
     "output_type": "stream",
     "text": [
      "\n",
      "Running exec: lblrtm\n",
      "\n",
      "\n"
     ]
    },
    {
     "name": "stderr",
     "output_type": "stream",
     "text": [
      "Note: The following floating-point exceptions are signalling: IEEE_INVALID_FLAG IEEE_DIVIDE_BY_ZERO IEEE_UNDERFLOW_FLAG IEEE_DENORMAL\n",
      "STOP  LBLRTM EXIT \n",
      "1.47user 1.74system 0:05.20elapsed 61%CPU (0avgtext+0avgdata 7752maxresident)k\n",
      "0inputs+0outputs (0major+1238minor)pagefaults 0swaps\n"
     ]
    },
    {
     "name": "stdout",
     "output_type": "stream",
     "text": [
      "1332615\n",
      "humidity: 50.0\n",
      " pressure: 10000.0\n",
      " temperature: 300.0\n",
      " lat: 35.09666666666667\n",
      " elevation: 2.198000000000354\n",
      " freqmin(cm-1): 10509.73381181498\n",
      " freqmax(cm-1): 14316.392269148173\n",
      " angle: 35.904107279006176\n",
      "\n",
      "\n",
      "Running exec: lblrtm\n",
      "\n",
      "\n"
     ]
    },
    {
     "name": "stderr",
     "output_type": "stream",
     "text": [
      "Note: The following floating-point exceptions are signalling: IEEE_INVALID_FLAG IEEE_DIVIDE_BY_ZERO IEEE_UNDERFLOW_FLAG IEEE_DENORMAL\n",
      "STOP  LBLRTM EXIT \n",
      "1.97user 1.83system 0:06.02elapsed 63%CPU (0avgtext+0avgdata 7672maxresident)k\n",
      "0inputs+0outputs (0major+1235minor)pagefaults 0swaps\n"
     ]
    },
    {
     "name": "stdout",
     "output_type": "stream",
     "text": [
      "\n",
      "Running exec: lblrtm\n",
      "\n",
      "\n"
     ]
    },
    {
     "name": "stderr",
     "output_type": "stream",
     "text": [
      "Note: The following floating-point exceptions are signalling: IEEE_INVALID_FLAG IEEE_DIVIDE_BY_ZERO IEEE_UNDERFLOW_FLAG IEEE_DENORMAL\n",
      "STOP  LBLRTM EXIT \n",
      "1.52user 1.70system 0:05.46elapsed 59%CPU (0avgtext+0avgdata 7556maxresident)k\n",
      "0inputs+0outputs (0major+1234minor)pagefaults 0swaps\n"
     ]
    },
    {
     "name": "stdout",
     "output_type": "stream",
     "text": [
      "1332615\n",
      "humidity: 50.0\n",
      " pressure: 10000.0\n",
      " temperature: 300.0\n",
      " lat: 35.09666666666667\n",
      " elevation: 2.198000000000354\n",
      " freqmin(cm-1): 10509.73381181498\n",
      " freqmax(cm-1): 14316.392269148173\n",
      " angle: 43.288511351895885\n",
      "\n",
      "\n",
      "Running exec: lblrtm\n",
      "\n",
      "\n"
     ]
    },
    {
     "name": "stderr",
     "output_type": "stream",
     "text": [
      "Note: The following floating-point exceptions are signalling: IEEE_INVALID_FLAG IEEE_DIVIDE_BY_ZERO IEEE_UNDERFLOW_FLAG IEEE_DENORMAL\n",
      "STOP  LBLRTM EXIT \n",
      "2.01user 1.80system 0:05.00elapsed 76%CPU (0avgtext+0avgdata 7720maxresident)k\n",
      "0inputs+0outputs (0major+1239minor)pagefaults 0swaps\n"
     ]
    },
    {
     "name": "stdout",
     "output_type": "stream",
     "text": [
      "\n",
      "Running exec: lblrtm\n",
      "\n",
      "\n"
     ]
    },
    {
     "name": "stderr",
     "output_type": "stream",
     "text": [
      "Note: The following floating-point exceptions are signalling: IEEE_INVALID_FLAG IEEE_DIVIDE_BY_ZERO IEEE_UNDERFLOW_FLAG IEEE_DENORMAL\n",
      "STOP  LBLRTM EXIT \n",
      "1.48user 1.76system 0:04.28elapsed 75%CPU (0avgtext+0avgdata 7556maxresident)k\n",
      "0inputs+0outputs (0major+1234minor)pagefaults 0swaps\n"
     ]
    },
    {
     "name": "stdout",
     "output_type": "stream",
     "text": [
      "1332615\n",
      "humidity: 50.0\n",
      " pressure: 10000.0\n",
      " temperature: 300.0\n",
      " lat: 35.09666666666667\n",
      " elevation: 2.198000000000354\n",
      " freqmin(cm-1): 10509.73381181498\n",
      " freqmax(cm-1): 14316.392269148173\n",
      " angle: 32.8000252102742\n",
      "\n",
      "\n",
      "Running exec: lblrtm\n",
      "\n",
      "\n"
     ]
    },
    {
     "name": "stderr",
     "output_type": "stream",
     "text": [
      "Note: The following floating-point exceptions are signalling: IEEE_INVALID_FLAG IEEE_DIVIDE_BY_ZERO IEEE_UNDERFLOW_FLAG IEEE_DENORMAL\n",
      "STOP  LBLRTM EXIT \n",
      "1.98user 1.84system 0:05.35elapsed 71%CPU (0avgtext+0avgdata 7712maxresident)k\n",
      "0inputs+0outputs (0major+1239minor)pagefaults 0swaps\n"
     ]
    },
    {
     "name": "stdout",
     "output_type": "stream",
     "text": [
      "\n",
      "Running exec: lblrtm\n",
      "\n",
      "\n"
     ]
    },
    {
     "name": "stderr",
     "output_type": "stream",
     "text": [
      "Note: The following floating-point exceptions are signalling: IEEE_INVALID_FLAG IEEE_DIVIDE_BY_ZERO IEEE_UNDERFLOW_FLAG IEEE_DENORMAL\n",
      "STOP  LBLRTM EXIT \n",
      "1.46user 1.82system 0:04.31elapsed 76%CPU (0avgtext+0avgdata 7792maxresident)k\n",
      "0inputs+0outputs (0major+1238minor)pagefaults 0swaps\n"
     ]
    },
    {
     "name": "stdout",
     "output_type": "stream",
     "text": [
      "1332615\n",
      "humidity: 50.0\n",
      " pressure: 10000.0\n",
      " temperature: 300.0\n",
      " lat: 35.09666666666667\n",
      " elevation: 2.198000000000354\n",
      " freqmin(cm-1): 10509.73381181498\n",
      " freqmax(cm-1): 14316.392269148173\n",
      " angle: 39.04462717362295\n",
      "\n",
      "\n",
      "Running exec: lblrtm\n",
      "\n",
      "\n"
     ]
    },
    {
     "name": "stderr",
     "output_type": "stream",
     "text": [
      "Note: The following floating-point exceptions are signalling: IEEE_INVALID_FLAG IEEE_DIVIDE_BY_ZERO IEEE_UNDERFLOW_FLAG IEEE_DENORMAL\n",
      "STOP  LBLRTM EXIT \n",
      "1.99user 1.85system 0:05.24elapsed 73%CPU (0avgtext+0avgdata 7556maxresident)k\n",
      "0inputs+0outputs (0major+1234minor)pagefaults 0swaps\n"
     ]
    },
    {
     "name": "stdout",
     "output_type": "stream",
     "text": [
      "\n",
      "Running exec: lblrtm\n",
      "\n",
      "\n"
     ]
    },
    {
     "name": "stderr",
     "output_type": "stream",
     "text": [
      "Note: The following floating-point exceptions are signalling: IEEE_INVALID_FLAG IEEE_DIVIDE_BY_ZERO IEEE_UNDERFLOW_FLAG IEEE_DENORMAL\n",
      "STOP  LBLRTM EXIT \n",
      "1.50user 1.76system 0:04.71elapsed 69%CPU (0avgtext+0avgdata 7712maxresident)k\n",
      "0inputs+0outputs (0major+1238minor)pagefaults 0swaps\n"
     ]
    },
    {
     "name": "stdout",
     "output_type": "stream",
     "text": [
      "1332615\n",
      "humidity: 50.0\n",
      " pressure: 10000.0\n",
      " temperature: 300.0\n",
      " lat: 35.09666666666667\n",
      " elevation: 2.198000000000354\n",
      " freqmin(cm-1): 10509.73381181498\n",
      " freqmax(cm-1): 14316.392269148173\n",
      " angle: 32.17888125686679\n",
      "\n",
      "\n",
      "Running exec: lblrtm\n",
      "\n",
      "\n"
     ]
    },
    {
     "name": "stderr",
     "output_type": "stream",
     "text": [
      "Note: The following floating-point exceptions are signalling: IEEE_INVALID_FLAG IEEE_DIVIDE_BY_ZERO IEEE_UNDERFLOW_FLAG IEEE_DENORMAL\n",
      "STOP  LBLRTM EXIT \n",
      "1.96user 1.85system 0:06.04elapsed 63%CPU (0avgtext+0avgdata 7672maxresident)k\n",
      "0inputs+0outputs (0major+1234minor)pagefaults 0swaps\n"
     ]
    },
    {
     "name": "stdout",
     "output_type": "stream",
     "text": [
      "\n",
      "Running exec: lblrtm\n",
      "\n",
      "\n"
     ]
    },
    {
     "name": "stderr",
     "output_type": "stream",
     "text": [
      "Note: The following floating-point exceptions are signalling: IEEE_INVALID_FLAG IEEE_DIVIDE_BY_ZERO IEEE_UNDERFLOW_FLAG IEEE_DENORMAL\n",
      "STOP  LBLRTM EXIT \n",
      "1.49user 1.75system 0:04.41elapsed 73%CPU (0avgtext+0avgdata 7668maxresident)k\n",
      "0inputs+0outputs (0major+1233minor)pagefaults 0swaps\n"
     ]
    },
    {
     "name": "stdout",
     "output_type": "stream",
     "text": [
      "1332615\n",
      "humidity: 50.0\n",
      " pressure: 10000.0\n",
      " temperature: 300.0\n",
      " lat: 35.09666666666667\n",
      " elevation: 2.198000000000354\n",
      " freqmin(cm-1): 10509.73381181498\n",
      " freqmax(cm-1): 14316.392269148173\n",
      " angle: 55.21054773501998\n",
      "\n",
      "\n",
      "Running exec: lblrtm\n",
      "\n",
      "\n"
     ]
    },
    {
     "name": "stderr",
     "output_type": "stream",
     "text": [
      "Note: The following floating-point exceptions are signalling: IEEE_INVALID_FLAG IEEE_DIVIDE_BY_ZERO IEEE_UNDERFLOW_FLAG IEEE_DENORMAL\n",
      "STOP  LBLRTM EXIT \n",
      "2.01user 1.85system 0:05.47elapsed 70%CPU (0avgtext+0avgdata 7684maxresident)k\n",
      "0inputs+0outputs (0major+1239minor)pagefaults 0swaps\n"
     ]
    },
    {
     "name": "stdout",
     "output_type": "stream",
     "text": [
      "\n",
      "Running exec: lblrtm\n",
      "\n",
      "\n"
     ]
    },
    {
     "name": "stderr",
     "output_type": "stream",
     "text": [
      "Note: The following floating-point exceptions are signalling: IEEE_INVALID_FLAG IEEE_DIVIDE_BY_ZERO IEEE_UNDERFLOW_FLAG IEEE_DENORMAL\n",
      "STOP  LBLRTM EXIT \n",
      "1.49user 1.76system 0:04.86elapsed 67%CPU (0avgtext+0avgdata 7752maxresident)k\n",
      "0inputs+0outputs (0major+1238minor)pagefaults 0swaps\n"
     ]
    },
    {
     "name": "stdout",
     "output_type": "stream",
     "text": [
      "1332615\n",
      "humidity: 50.0\n",
      " pressure: 10000.0\n",
      " temperature: 300.0\n",
      " lat: 35.09666666666667\n",
      " elevation: 2.198000000000354\n",
      " freqmin(cm-1): 10509.73381181498\n",
      " freqmax(cm-1): 14316.392269148173\n",
      " angle: 17.62066088234454\n",
      "\n",
      "\n",
      "Running exec: lblrtm\n",
      "\n",
      "\n"
     ]
    },
    {
     "name": "stderr",
     "output_type": "stream",
     "text": [
      "Note: The following floating-point exceptions are signalling: IEEE_INVALID_FLAG IEEE_DIVIDE_BY_ZERO IEEE_UNDERFLOW_FLAG IEEE_DENORMAL\n",
      "STOP  LBLRTM EXIT \n",
      "2.00user 1.83system 0:05.11elapsed 74%CPU (0avgtext+0avgdata 7636maxresident)k\n",
      "0inputs+0outputs (0major+1236minor)pagefaults 0swaps\n"
     ]
    },
    {
     "name": "stdout",
     "output_type": "stream",
     "text": [
      "\n",
      "Running exec: lblrtm\n",
      "\n",
      "\n"
     ]
    },
    {
     "name": "stderr",
     "output_type": "stream",
     "text": [
      "Note: The following floating-point exceptions are signalling: IEEE_INVALID_FLAG IEEE_DIVIDE_BY_ZERO IEEE_UNDERFLOW_FLAG IEEE_DENORMAL\n",
      "STOP  LBLRTM EXIT \n",
      "1.48user 1.75system 0:04.34elapsed 74%CPU (0avgtext+0avgdata 7624maxresident)k\n",
      "0inputs+0outputs (0major+1235minor)pagefaults 0swaps\n"
     ]
    },
    {
     "name": "stdout",
     "output_type": "stream",
     "text": [
      "1332615\n",
      "humidity: 50.0\n",
      " pressure: 10000.0\n",
      " temperature: 300.0\n",
      " lat: 35.09666666666667\n",
      " elevation: 2.198000000000354\n",
      " freqmin(cm-1): 10509.73381181498\n",
      " freqmax(cm-1): 14316.392269148173\n",
      " angle: 61.66555563575567\n",
      "\n",
      "\n",
      "Running exec: lblrtm\n",
      "\n",
      "\n"
     ]
    },
    {
     "name": "stderr",
     "output_type": "stream",
     "text": [
      "Note: The following floating-point exceptions are signalling: IEEE_INVALID_FLAG IEEE_DIVIDE_BY_ZERO IEEE_UNDERFLOW_FLAG IEEE_DENORMAL\n",
      "STOP  LBLRTM EXIT \n",
      "1.98user 1.86system 0:06.14elapsed 62%CPU (0avgtext+0avgdata 7788maxresident)k\n",
      "0inputs+0outputs (0major+1237minor)pagefaults 0swaps\n"
     ]
    },
    {
     "name": "stdout",
     "output_type": "stream",
     "text": [
      "\n",
      "Running exec: lblrtm\n",
      "\n",
      "\n"
     ]
    },
    {
     "name": "stderr",
     "output_type": "stream",
     "text": [
      "Note: The following floating-point exceptions are signalling: IEEE_INVALID_FLAG IEEE_DIVIDE_BY_ZERO IEEE_UNDERFLOW_FLAG IEEE_DENORMAL\n",
      "STOP  LBLRTM EXIT \n",
      "1.45user 1.82system 0:04.35elapsed 75%CPU (0avgtext+0avgdata 7792maxresident)k\n",
      "0inputs+0outputs (0major+1238minor)pagefaults 0swaps\n"
     ]
    },
    {
     "name": "stdout",
     "output_type": "stream",
     "text": [
      "1332615\n",
      "humidity: 50.0\n",
      " pressure: 10000.0\n",
      " temperature: 300.0\n",
      " lat: 35.09666666666667\n",
      " elevation: 2.198000000000354\n",
      " freqmin(cm-1): 10509.73381181498\n",
      " freqmax(cm-1): 14316.392269148173\n",
      " angle: 12.009229830239954\n",
      "\n",
      "\n",
      "Running exec: lblrtm\n",
      "\n",
      "\n"
     ]
    },
    {
     "name": "stderr",
     "output_type": "stream",
     "text": [
      "Note: The following floating-point exceptions are signalling: IEEE_INVALID_FLAG IEEE_DIVIDE_BY_ZERO IEEE_UNDERFLOW_FLAG IEEE_DENORMAL\n",
      "STOP  LBLRTM EXIT \n",
      "1.97user 1.83system 0:05.13elapsed 74%CPU (0avgtext+0avgdata 7672maxresident)k\n",
      "0inputs+0outputs (0major+1236minor)pagefaults 0swaps\n"
     ]
    },
    {
     "name": "stdout",
     "output_type": "stream",
     "text": [
      "\n",
      "Running exec: lblrtm\n",
      "\n",
      "\n"
     ]
    },
    {
     "name": "stderr",
     "output_type": "stream",
     "text": [
      "Note: The following floating-point exceptions are signalling: IEEE_INVALID_FLAG IEEE_DIVIDE_BY_ZERO IEEE_UNDERFLOW_FLAG IEEE_DENORMAL\n",
      "STOP  LBLRTM EXIT \n",
      "1.47user 1.78system 0:04.71elapsed 69%CPU (0avgtext+0avgdata 7636maxresident)k\n",
      "0inputs+0outputs (0major+1236minor)pagefaults 0swaps\n"
     ]
    },
    {
     "name": "stdout",
     "output_type": "stream",
     "text": [
      "1332615\n",
      "<simulacra.tellurics.TelFitModel object at 0x151ae37c14a8> [1.6178939077349241e-06, 2.3041914776200656e-07, 2.3041914776200656e-07, 2.3041914776200656e-07, 2.3041914776200656e-07, 2.3041914776200656e-07, 2.3041914776200656e-07, 2.3041914776200656e-07, 2.3041914776200656e-07, 2.3041914776200656e-07, 2.3041914776200656e-07, 2.3041914776200656e-07, 2.3041914776200656e-07, 2.3041914776200656e-07, 2.3041914776200656e-07, 2.3041914776200656e-07, 2.3041914776200656e-07, 2.3041914776200656e-07, 2.3041914776200656e-07, 2.3041914776200656e-07, 2.3041914776200656e-07, 2.3041914776200656e-07, 2.3041914776200656e-07, 2.3041914776200656e-07, 2.3041914776200656e-07, 2.3041914776200656e-07, 2.3041914776200656e-07, 2.3041914776200656e-07, 2.3041914776200656e-07, 2.3041914776200656e-07, 2.3041914776200656e-07]\n",
      "interpolating spline...\n",
      "combining grids...\n",
      "convolving...\n",
      "0\n",
      "1\n",
      "2\n",
      "3\n",
      "4\n",
      "5\n",
      "6\n",
      "7\n",
      "8\n",
      "9\n",
      "10\n",
      "11\n",
      "12\n",
      "13\n",
      "14\n",
      "15\n",
      "16\n",
      "17\n",
      "18\n",
      "19\n",
      "20\n",
      "21\n",
      "22\n",
      "23\n",
      "24\n",
      "25\n",
      "26\n",
      "27\n",
      "28\n",
      "29\n",
      "xs: 6994.999999999997 9504.987597062134\n",
      "xhat: 6999.999999999999 9499.988846585304\n",
      "interpolating lanczos...\n",
      "0\n",
      "1\n",
      "2\n",
      "3\n",
      "4\n",
      "5\n",
      "6\n",
      "7\n",
      "8\n",
      "9\n",
      "10\n",
      "11\n",
      "12\n",
      "13\n",
      "14\n",
      "15\n",
      "16\n",
      "17\n",
      "18\n",
      "19\n",
      "20\n",
      "21\n",
      "22\n",
      "23\n",
      "24\n",
      "25\n",
      "26\n",
      "27\n",
      "28\n",
      "29\n",
      "area: 14.522012041218817 m2\t avg d lambda: 0.015743201089341834 Angstrom\t avg lambda: 8186.472840457828 Angstrom\t avg exp times: 8.0 min\n",
      "0 n mean: 6.93e+07\t n median: 8.01e+07\n",
      "1 n mean: 6.67e+07\t n median: 7.81e+07\n",
      "2 n mean: 6.67e+07\t n median: 7.82e+07\n",
      "3 n mean: 6.65e+07\t n median: 7.80e+07\n",
      "4 n mean: 7.05e+07\t n median: 8.10e+07\n",
      "5 n mean: 4.13e+07\t n median: 4.44e+07\n",
      "6 n mean: 6.95e+07\t n median: 8.03e+07\n",
      "7 n mean: 6.62e+07\t n median: 7.78e+07\n",
      "8 n mean: 7.08e+07\t n median: 8.11e+07\n",
      "9 n mean: 6.67e+07\t n median: 7.88e+07\n",
      "10 n mean: 7.00e+07\t n median: 8.06e+07\n",
      "11 n mean: 6.88e+07\t n median: 7.96e+07\n",
      "12 n mean: 7.09e+07\t n median: 8.12e+07\n",
      "13 n mean: 6.75e+07\t n median: 7.87e+07\n",
      "14 n mean: 6.03e+07\t n median: 7.32e+07\n",
      "15 n mean: 6.80e+07\t n median: 7.90e+07\n",
      "16 n mean: 7.09e+07\t n median: 8.12e+07\n",
      "17 n mean: 7.07e+07\t n median: 8.11e+07\n",
      "18 n mean: 6.99e+07\t n median: 8.05e+07\n",
      "19 n mean: 7.07e+07\t n median: 8.11e+07\n",
      "20 n mean: 6.79e+07\t n median: 7.90e+07\n",
      "21 n mean: 6.94e+07\t n median: 8.01e+07\n",
      "22 n mean: 6.85e+07\t n median: 7.95e+07\n",
      "23 n mean: 6.97e+07\t n median: 8.03e+07\n",
      "24 n mean: 6.90e+07\t n median: 7.99e+07\n",
      "25 n mean: 6.97e+07\t n median: 8.04e+07\n",
      "26 n mean: 6.66e+07\t n median: 7.81e+07\n",
      "27 n mean: 7.06e+07\t n median: 8.11e+07\n",
      "28 n mean: 5.85e+07\t n median: 7.28e+07\n",
      "29 n mean: 7.08e+07\t n median: 8.11e+07\n",
      "generating true signal to noise ratios...\n",
      "adding noise...\n",
      "generating exp signal to noise ratios...\n"
     ]
    },
    {
     "name": "stderr",
     "output_type": "stream",
     "text": [
      "../simulacra/detector.py:424: RuntimeWarning: invalid value encountered in add_noise_v\n",
      "  n_readout = add_noise_v(n_exp.flatten().value,snr_grid.flatten()).reshape(out_shape)\n"
     ]
    },
    {
     "name": "stdout",
     "output_type": "stream",
     "text": [
      "generating errors...\n",
      "done.\n",
      "/scratch/mdd423/simulacra/out/2021-11-18/expres_e30_d100.0_R130000.0_a4000.0_p67.3_l7.0e+039.5e+03_snr7.8e+03\n"
     ]
    },
    {
     "name": "stderr",
     "output_type": "stream",
     "text": [
      "../simulacra/detector.py:436: RuntimeWarning: invalid value encountered in generate_errors_v\n",
      "  nerr_out = generate_errors_v(n_readout.flatten(),snr_readout.flatten()).reshape(out_shape)\n"
     ]
    },
    {
     "name": "stdout",
     "output_type": "stream",
     "text": [
      "saving time\n",
      "quantity\n",
      "epoches  saving as string\n",
      "quantity\n",
      "quantity\n",
      "quantity\n",
      "quantity\n",
      "quantity\n",
      "quantity\n",
      "quantity\n",
      "flux  saving as string\n",
      "wave  saving as string\n",
      "quantity\n",
      "quantity\n",
      "quantity\n",
      "alpha  saving as string\n",
      "quantity\n",
      "quantity\n",
      "fluxname  saving as string\n",
      "generate_spectra  saving as string\n",
      "quantity\n",
      "quantity\n",
      "logg  saving as string\n",
      "outdir  saving as string\n",
      "quantity\n",
      "plot  saving as string\n",
      "plot_interpolated  saving as string\n",
      "quantity\n",
      "quantity\n",
      "saving target...340.28129510273834 deg 26.42376364055597 deg\n",
      "temperature  saving as string\n",
      "quantity\n",
      "quantity\n",
      "wavename  saving as string\n",
      "quantity\n",
      "z  saving as string\n",
      "quantity\n",
      "quantity\n",
      "quantity\n",
      "_resolution  saving as string\n",
      "quantity\n",
      "a  saving as string\n",
      "add_model  saving as string\n",
      "quantity\n",
      "checkmax  saving as string\n",
      "checkmin  saving as string\n",
      "convolve  saving as string\n",
      "quantity\n",
      "energy_to_photon  saving as string\n",
      "epsilon  saving as string\n",
      "gamma  saving as string\n",
      "interpolate_data  saving as string\n",
      "interpolate_grid  saving as string\n",
      "quantity\n",
      "quantity\n",
      "quantity\n",
      "lsf_centering  saving as string\n",
      "lsf_const_coeffs  saving as string\n",
      "res  saving as string\n",
      "sigma_range  saving as string\n",
      "signal_to_noise_ratio  saving as string\n",
      "simulate  saving as string\n",
      "stellar_model  saving as string\n",
      "through_put  saving as string\n",
      "transmission_cutoff  saving as string\n",
      "transmission_models  saving as string\n",
      "w  saving as string\n",
      "quantity\n",
      "quantity\n",
      "quantity\n",
      "wave_transform  saving as string\n",
      "_epoches  saving as string\n",
      "quantity\n",
      "quantity\n",
      "_name  saving as string\n",
      "quantity\n",
      "quantity\n",
      "check_property  saving as string\n",
      "check_shape_type  saving as string\n",
      "epoches  saving as string\n",
      "generate_transmission  saving as string\n",
      "quantity\n",
      "quantity\n",
      "quantity\n",
      "plot  saving as string\n",
      "plot_interpolated  saving as string\n",
      "quantity\n",
      "quantity\n",
      "quantity\n",
      "nan nan\n",
      "using saved wave file\n",
      "../data/stellar/PHOENIX/lte04800-1.00-1.0.Alpha=+0.40.PHOENIX-ACES-AGSS-COND-2011-HiRes.fits\n",
      "using saved flux file\n",
      "reading in ../data/stellar/PHOENIX/WAVE_PHOENIX-ACES-AGSS-COND-2011.fits\n",
      "surface flux: mean 1.31e+14 erg / (cm3 s)\t median 1.14e+14 erg / (cm3 s)\n",
      "obs     flux: mean 1.68e-02 erg / (cm3 s)\t median 1.46e-02 erg / (cm3 s)\n"
     ]
    },
    {
     "name": "stderr",
     "output_type": "stream",
     "text": [
      "WARNING:root:tellurics epoches not the same as obs times\n",
      "resetting...\n"
     ]
    },
    {
     "name": "stdout",
     "output_type": "stream",
     "text": [
      "generating spectra...\n",
      "humidity: 50.0\n",
      " pressure: 10000.0\n",
      " temperature: 300.0\n",
      " lat: 35.09666666666667\n",
      " elevation: 2.198000000000354\n",
      " freqmin(cm-1): 10509.73381181498\n",
      " freqmax(cm-1): 14316.392269148173\n",
      " angle: 36.69121090236324\n",
      "\n",
      "\n",
      "Running exec: lblrtm\n",
      "\n",
      "\n"
     ]
    },
    {
     "name": "stderr",
     "output_type": "stream",
     "text": [
      "Note: The following floating-point exceptions are signalling: IEEE_INVALID_FLAG IEEE_DIVIDE_BY_ZERO IEEE_UNDERFLOW_FLAG IEEE_DENORMAL\n",
      "STOP  LBLRTM EXIT \n",
      "2.02user 1.75system 0:05.64elapsed 67%CPU (0avgtext+0avgdata 7732maxresident)k\n",
      "0inputs+0outputs (0major+1237minor)pagefaults 0swaps\n"
     ]
    },
    {
     "name": "stdout",
     "output_type": "stream",
     "text": [
      "\n",
      "Running exec: lblrtm\n",
      "\n",
      "\n"
     ]
    },
    {
     "name": "stderr",
     "output_type": "stream",
     "text": [
      "Note: The following floating-point exceptions are signalling: IEEE_INVALID_FLAG IEEE_DIVIDE_BY_ZERO IEEE_UNDERFLOW_FLAG IEEE_DENORMAL\n",
      "STOP  LBLRTM EXIT \n",
      "1.46user 1.74system 0:04.27elapsed 75%CPU (0avgtext+0avgdata 7672maxresident)k\n",
      "0inputs+0outputs (0major+1234minor)pagefaults 0swaps\n"
     ]
    },
    {
     "name": "stdout",
     "output_type": "stream",
     "text": [
      "1332615\n",
      "humidity: 50.0\n",
      " pressure: 10000.0\n",
      " temperature: 300.0\n",
      " lat: 35.09666666666667\n",
      " elevation: 2.198000000000354\n",
      " freqmin(cm-1): 10509.73381181498\n",
      " freqmax(cm-1): 14316.392269148173\n",
      " angle: 54.53480592865937\n",
      "\n",
      "\n",
      "Running exec: lblrtm\n",
      "\n",
      "\n"
     ]
    },
    {
     "name": "stderr",
     "output_type": "stream",
     "text": [
      "Note: The following floating-point exceptions are signalling: IEEE_INVALID_FLAG IEEE_DIVIDE_BY_ZERO IEEE_UNDERFLOW_FLAG IEEE_DENORMAL\n",
      "STOP  LBLRTM EXIT \n",
      "1.98user 1.82system 0:04.80elapsed 79%CPU (0avgtext+0avgdata 7720maxresident)k\n",
      "0inputs+0outputs (0major+1235minor)pagefaults 0swaps\n"
     ]
    },
    {
     "name": "stdout",
     "output_type": "stream",
     "text": [
      "\n",
      "Running exec: lblrtm\n",
      "\n",
      "\n"
     ]
    },
    {
     "name": "stderr",
     "output_type": "stream",
     "text": [
      "Note: The following floating-point exceptions are signalling: IEEE_INVALID_FLAG IEEE_DIVIDE_BY_ZERO IEEE_UNDERFLOW_FLAG IEEE_DENORMAL\n",
      "STOP  LBLRTM EXIT \n",
      "1.50user 1.72system 0:04.21elapsed 76%CPU (0avgtext+0avgdata 7688maxresident)k\n",
      "0inputs+0outputs (0major+1238minor)pagefaults 0swaps\n"
     ]
    },
    {
     "name": "stdout",
     "output_type": "stream",
     "text": [
      "1332615\n",
      "humidity: 50.0\n",
      " pressure: 10000.0\n",
      " temperature: 300.0\n",
      " lat: 35.09666666666667\n",
      " elevation: 2.198000000000354\n",
      " freqmin(cm-1): 10509.73381181498\n",
      " freqmax(cm-1): 14316.392269148173\n",
      " angle: 58.125619210760185\n",
      "\n",
      "\n",
      "Running exec: lblrtm\n",
      "\n",
      "\n"
     ]
    },
    {
     "name": "stderr",
     "output_type": "stream",
     "text": [
      "Note: The following floating-point exceptions are signalling: IEEE_INVALID_FLAG IEEE_DIVIDE_BY_ZERO IEEE_UNDERFLOW_FLAG IEEE_DENORMAL\n",
      "STOP  LBLRTM EXIT \n",
      "2.00user 1.83system 0:04.85elapsed 79%CPU (0avgtext+0avgdata 7692maxresident)k\n",
      "0inputs+0outputs (0major+1237minor)pagefaults 0swaps\n"
     ]
    },
    {
     "name": "stdout",
     "output_type": "stream",
     "text": [
      "\n",
      "Running exec: lblrtm\n",
      "\n",
      "\n"
     ]
    },
    {
     "name": "stderr",
     "output_type": "stream",
     "text": [
      "Note: The following floating-point exceptions are signalling: IEEE_INVALID_FLAG IEEE_DIVIDE_BY_ZERO IEEE_UNDERFLOW_FLAG IEEE_DENORMAL\n",
      "STOP  LBLRTM EXIT \n",
      "1.47user 1.76system 0:04.06elapsed 79%CPU (0avgtext+0avgdata 7624maxresident)k\n",
      "0inputs+0outputs (0major+1234minor)pagefaults 0swaps\n"
     ]
    },
    {
     "name": "stdout",
     "output_type": "stream",
     "text": [
      "1332615\n",
      "humidity: 50.0\n",
      " pressure: 10000.0\n",
      " temperature: 300.0\n",
      " lat: 35.09666666666667\n",
      " elevation: 2.198000000000354\n",
      " freqmin(cm-1): 10509.73381181498\n",
      " freqmax(cm-1): 14316.392269148173\n",
      " angle: 55.32428194385217\n",
      "\n",
      "\n",
      "Running exec: lblrtm\n",
      "\n",
      "\n"
     ]
    },
    {
     "name": "stderr",
     "output_type": "stream",
     "text": [
      "Note: The following floating-point exceptions are signalling: IEEE_INVALID_FLAG IEEE_DIVIDE_BY_ZERO IEEE_UNDERFLOW_FLAG IEEE_DENORMAL\n",
      "STOP  LBLRTM EXIT \n",
      "2.03user 1.75system 0:04.76elapsed 79%CPU (0avgtext+0avgdata 7728maxresident)k\n",
      "0inputs+0outputs (0major+1237minor)pagefaults 0swaps\n"
     ]
    },
    {
     "name": "stdout",
     "output_type": "stream",
     "text": [
      "\n",
      "Running exec: lblrtm\n",
      "\n",
      "\n"
     ]
    },
    {
     "name": "stderr",
     "output_type": "stream",
     "text": [
      "Note: The following floating-point exceptions are signalling: IEEE_INVALID_FLAG IEEE_DIVIDE_BY_ZERO IEEE_UNDERFLOW_FLAG IEEE_DENORMAL\n",
      "STOP  LBLRTM EXIT \n",
      "1.45user 1.75system 0:04.27elapsed 74%CPU (0avgtext+0avgdata 7624maxresident)k\n",
      "0inputs+0outputs (0major+1234minor)pagefaults 0swaps\n"
     ]
    },
    {
     "name": "stdout",
     "output_type": "stream",
     "text": [
      "1332615\n",
      "humidity: 50.0\n",
      " pressure: 10000.0\n",
      " temperature: 300.0\n",
      " lat: 35.09666666666667\n",
      " elevation: 2.198000000000354\n",
      " freqmin(cm-1): 10509.73381181498\n",
      " freqmax(cm-1): 14316.392269148173\n",
      " angle: 20.965611225868095\n",
      "\n",
      "\n",
      "Running exec: lblrtm\n",
      "\n",
      "\n"
     ]
    },
    {
     "name": "stderr",
     "output_type": "stream",
     "text": [
      "Note: The following floating-point exceptions are signalling: IEEE_INVALID_FLAG IEEE_DIVIDE_BY_ZERO IEEE_UNDERFLOW_FLAG IEEE_DENORMAL\n",
      "STOP  LBLRTM EXIT \n",
      "1.98user 1.79system 0:05.00elapsed 75%CPU (0avgtext+0avgdata 7816maxresident)k\n",
      "0inputs+0outputs (0major+1239minor)pagefaults 0swaps\n"
     ]
    },
    {
     "name": "stdout",
     "output_type": "stream",
     "text": [
      "\n",
      "Running exec: lblrtm\n",
      "\n",
      "\n"
     ]
    },
    {
     "name": "stderr",
     "output_type": "stream",
     "text": [
      "Note: The following floating-point exceptions are signalling: IEEE_INVALID_FLAG IEEE_DIVIDE_BY_ZERO IEEE_UNDERFLOW_FLAG IEEE_DENORMAL\n",
      "STOP  LBLRTM EXIT \n",
      "1.43user 1.73system 0:04.01elapsed 79%CPU (0avgtext+0avgdata 7720maxresident)k\n",
      "0inputs+0outputs (0major+1235minor)pagefaults 0swaps\n"
     ]
    },
    {
     "name": "stdout",
     "output_type": "stream",
     "text": [
      "1332615\n",
      "humidity: 50.0\n",
      " pressure: 10000.0\n",
      " temperature: 300.0\n",
      " lat: 35.09666666666667\n",
      " elevation: 2.198000000000354\n",
      " freqmin(cm-1): 10509.73381181498\n",
      " freqmax(cm-1): 14316.392269148173\n",
      " angle: 59.87903794895467\n",
      "\n",
      "\n",
      "Running exec: lblrtm\n",
      "\n",
      "\n"
     ]
    },
    {
     "name": "stderr",
     "output_type": "stream",
     "text": [
      "Note: The following floating-point exceptions are signalling: IEEE_INVALID_FLAG IEEE_DIVIDE_BY_ZERO IEEE_UNDERFLOW_FLAG IEEE_DENORMAL\n",
      "STOP  LBLRTM EXIT \n",
      "2.06user 1.81system 0:05.08elapsed 76%CPU (0avgtext+0avgdata 7624maxresident)k\n",
      "0inputs+0outputs (0major+1234minor)pagefaults 0swaps\n"
     ]
    },
    {
     "name": "stdout",
     "output_type": "stream",
     "text": [
      "\n",
      "Running exec: lblrtm\n",
      "\n",
      "\n"
     ]
    },
    {
     "name": "stderr",
     "output_type": "stream",
     "text": [
      "Note: The following floating-point exceptions are signalling: IEEE_INVALID_FLAG IEEE_DIVIDE_BY_ZERO IEEE_UNDERFLOW_FLAG IEEE_DENORMAL\n",
      "STOP  LBLRTM EXIT \n",
      "1.52user 1.74system 0:05.41elapsed 60%CPU (0avgtext+0avgdata 7572maxresident)k\n",
      "0inputs+0outputs (0major+1234minor)pagefaults 0swaps\n"
     ]
    },
    {
     "name": "stdout",
     "output_type": "stream",
     "text": [
      "1332615\n",
      "humidity: 50.0\n",
      " pressure: 10000.0\n",
      " temperature: 300.0\n",
      " lat: 35.09666666666667\n",
      " elevation: 2.198000000000354\n",
      " freqmin(cm-1): 10509.73381181498\n",
      " freqmax(cm-1): 14316.392269148173\n",
      " angle: 34.28405220813725\n",
      "\n",
      "\n",
      "Running exec: lblrtm\n",
      "\n",
      "\n"
     ]
    },
    {
     "name": "stderr",
     "output_type": "stream",
     "text": [
      "Note: The following floating-point exceptions are signalling: IEEE_INVALID_FLAG IEEE_DIVIDE_BY_ZERO IEEE_UNDERFLOW_FLAG IEEE_DENORMAL\n",
      "STOP  LBLRTM EXIT \n",
      "1.98user 1.82system 0:05.25elapsed 72%CPU (0avgtext+0avgdata 7556maxresident)k\n",
      "0inputs+0outputs (0major+1234minor)pagefaults 0swaps\n"
     ]
    },
    {
     "name": "stdout",
     "output_type": "stream",
     "text": [
      "\n",
      "Running exec: lblrtm\n",
      "\n",
      "\n"
     ]
    },
    {
     "name": "stderr",
     "output_type": "stream",
     "text": [
      "Note: The following floating-point exceptions are signalling: IEEE_INVALID_FLAG IEEE_DIVIDE_BY_ZERO IEEE_UNDERFLOW_FLAG IEEE_DENORMAL\n",
      "STOP  LBLRTM EXIT \n",
      "1.47user 1.76system 0:04.14elapsed 78%CPU (0avgtext+0avgdata 7552maxresident)k\n",
      "0inputs+0outputs (0major+1234minor)pagefaults 0swaps\n"
     ]
    },
    {
     "name": "stdout",
     "output_type": "stream",
     "text": [
      "1332615\n",
      "humidity: 50.0\n",
      " pressure: 10000.0\n",
      " temperature: 300.0\n",
      " lat: 35.09666666666667\n",
      " elevation: 2.198000000000354\n",
      " freqmin(cm-1): 10509.73381181498\n",
      " freqmax(cm-1): 14316.392269148173\n",
      " angle: 57.049338052947554\n",
      "\n",
      "\n",
      "Running exec: lblrtm\n",
      "\n",
      "\n"
     ]
    },
    {
     "name": "stderr",
     "output_type": "stream",
     "text": [
      "Note: The following floating-point exceptions are signalling: IEEE_INVALID_FLAG IEEE_DIVIDE_BY_ZERO IEEE_UNDERFLOW_FLAG IEEE_DENORMAL\n",
      "STOP  LBLRTM EXIT \n",
      "2.01user 1.79system 0:04.91elapsed 77%CPU (0avgtext+0avgdata 7792maxresident)k\n",
      "0inputs+0outputs (0major+1238minor)pagefaults 0swaps\n"
     ]
    },
    {
     "name": "stdout",
     "output_type": "stream",
     "text": [
      "\n",
      "Running exec: lblrtm\n",
      "\n",
      "\n"
     ]
    },
    {
     "name": "stderr",
     "output_type": "stream",
     "text": [
      "Note: The following floating-point exceptions are signalling: IEEE_INVALID_FLAG IEEE_DIVIDE_BY_ZERO IEEE_UNDERFLOW_FLAG IEEE_DENORMAL\n",
      "STOP  LBLRTM EXIT \n",
      "1.47user 1.75system 0:04.06elapsed 79%CPU (0avgtext+0avgdata 7732maxresident)k\n",
      "0inputs+0outputs (0major+1237minor)pagefaults 0swaps\n"
     ]
    },
    {
     "name": "stdout",
     "output_type": "stream",
     "text": [
      "1332615\n",
      "humidity: 50.0\n",
      " pressure: 10000.0\n",
      " temperature: 300.0\n",
      " lat: 35.09666666666667\n",
      " elevation: 2.198000000000354\n",
      " freqmin(cm-1): 10509.73381181498\n",
      " freqmax(cm-1): 14316.392269148173\n",
      " angle: 13.813932021156777\n",
      "\n",
      "\n",
      "Running exec: lblrtm\n",
      "\n",
      "\n"
     ]
    },
    {
     "name": "stderr",
     "output_type": "stream",
     "text": [
      "Note: The following floating-point exceptions are signalling: IEEE_INVALID_FLAG IEEE_DIVIDE_BY_ZERO IEEE_UNDERFLOW_FLAG IEEE_DENORMAL\n",
      "STOP  LBLRTM EXIT \n",
      "2.00user 1.76system 0:05.39elapsed 69%CPU (0avgtext+0avgdata 7556maxresident)k\n",
      "0inputs+0outputs (0major+1234minor)pagefaults 0swaps\n"
     ]
    },
    {
     "name": "stdout",
     "output_type": "stream",
     "text": [
      "\n",
      "Running exec: lblrtm\n",
      "\n",
      "\n"
     ]
    },
    {
     "name": "stderr",
     "output_type": "stream",
     "text": [
      "Note: The following floating-point exceptions are signalling: IEEE_INVALID_FLAG IEEE_DIVIDE_BY_ZERO IEEE_UNDERFLOW_FLAG IEEE_DENORMAL\n",
      "STOP  LBLRTM EXIT \n",
      "1.47user 1.77system 0:04.02elapsed 80%CPU (0avgtext+0avgdata 7812maxresident)k\n",
      "0inputs+0outputs (0major+1238minor)pagefaults 0swaps\n"
     ]
    },
    {
     "name": "stdout",
     "output_type": "stream",
     "text": [
      "1332615\n",
      "humidity: 50.0\n",
      " pressure: 10000.0\n",
      " temperature: 300.0\n",
      " lat: 35.09666666666667\n",
      " elevation: 2.198000000000354\n",
      " freqmin(cm-1): 10509.73381181498\n",
      " freqmax(cm-1): 14316.392269148173\n",
      " angle: 61.45182335030382\n",
      "\n",
      "\n",
      "Running exec: lblrtm\n",
      "\n",
      "\n"
     ]
    },
    {
     "name": "stderr",
     "output_type": "stream",
     "text": [
      "Note: The following floating-point exceptions are signalling: IEEE_INVALID_FLAG IEEE_DIVIDE_BY_ZERO IEEE_UNDERFLOW_FLAG IEEE_DENORMAL\n",
      "STOP  LBLRTM EXIT \n",
      "2.01user 1.80system 0:05.03elapsed 75%CPU (0avgtext+0avgdata 7732maxresident)k\n",
      "0inputs+0outputs (0major+1236minor)pagefaults 0swaps\n"
     ]
    },
    {
     "name": "stdout",
     "output_type": "stream",
     "text": [
      "\n",
      "Running exec: lblrtm\n",
      "\n",
      "\n"
     ]
    },
    {
     "name": "stderr",
     "output_type": "stream",
     "text": [
      "Note: The following floating-point exceptions are signalling: IEEE_INVALID_FLAG IEEE_DIVIDE_BY_ZERO IEEE_UNDERFLOW_FLAG IEEE_DENORMAL\n",
      "STOP  LBLRTM EXIT \n",
      "1.50user 1.75system 0:04.27elapsed 76%CPU (0avgtext+0avgdata 7572maxresident)k\n",
      "0inputs+0outputs (0major+1235minor)pagefaults 0swaps\n"
     ]
    },
    {
     "name": "stdout",
     "output_type": "stream",
     "text": [
      "1332615\n",
      "humidity: 50.0\n",
      " pressure: 10000.0\n",
      " temperature: 300.0\n",
      " lat: 35.09666666666667\n",
      " elevation: 2.198000000000354\n",
      " freqmin(cm-1): 10509.73381181498\n",
      " freqmax(cm-1): 14316.392269148173\n",
      " angle: 28.01367339271228\n",
      "\n",
      "\n",
      "Running exec: lblrtm\n",
      "\n",
      "\n"
     ]
    },
    {
     "name": "stderr",
     "output_type": "stream",
     "text": [
      "Note: The following floating-point exceptions are signalling: IEEE_INVALID_FLAG IEEE_DIVIDE_BY_ZERO IEEE_UNDERFLOW_FLAG IEEE_DENORMAL\n",
      "STOP  LBLRTM EXIT \n",
      "1.98user 1.87system 0:05.45elapsed 70%CPU (0avgtext+0avgdata 7636maxresident)k\n",
      "0inputs+0outputs (0major+1236minor)pagefaults 0swaps\n"
     ]
    },
    {
     "name": "stdout",
     "output_type": "stream",
     "text": [
      "\n",
      "Running exec: lblrtm\n",
      "\n",
      "\n"
     ]
    },
    {
     "name": "stderr",
     "output_type": "stream",
     "text": [
      "Note: The following floating-point exceptions are signalling: IEEE_INVALID_FLAG IEEE_DIVIDE_BY_ZERO IEEE_UNDERFLOW_FLAG IEEE_DENORMAL\n",
      "STOP  LBLRTM EXIT \n",
      "1.48user 1.80system 0:04.39elapsed 74%CPU (0avgtext+0avgdata 7732maxresident)k\n",
      "0inputs+0outputs (0major+1237minor)pagefaults 0swaps\n"
     ]
    },
    {
     "name": "stdout",
     "output_type": "stream",
     "text": [
      "1332615\n",
      "humidity: 50.0\n",
      " pressure: 10000.0\n",
      " temperature: 300.0\n",
      " lat: 35.09666666666667\n",
      " elevation: 2.198000000000354\n",
      " freqmin(cm-1): 10509.73381181498\n",
      " freqmax(cm-1): 14316.392269148173\n",
      " angle: 41.51215397677257\n",
      "\n",
      "\n",
      "Running exec: lblrtm\n",
      "\n",
      "\n"
     ]
    },
    {
     "name": "stderr",
     "output_type": "stream",
     "text": [
      "Note: The following floating-point exceptions are signalling: IEEE_INVALID_FLAG IEEE_DIVIDE_BY_ZERO IEEE_UNDERFLOW_FLAG IEEE_DENORMAL\n",
      "STOP  LBLRTM EXIT \n",
      "2.01user 1.79system 0:05.35elapsed 71%CPU (0avgtext+0avgdata 7744maxresident)k\n",
      "0inputs+0outputs (0major+1235minor)pagefaults 0swaps\n"
     ]
    },
    {
     "name": "stdout",
     "output_type": "stream",
     "text": [
      "\n",
      "Running exec: lblrtm\n",
      "\n",
      "\n"
     ]
    },
    {
     "name": "stderr",
     "output_type": "stream",
     "text": [
      "Note: The following floating-point exceptions are signalling: IEEE_INVALID_FLAG IEEE_DIVIDE_BY_ZERO IEEE_UNDERFLOW_FLAG IEEE_DENORMAL\n",
      "STOP  LBLRTM EXIT \n",
      "1.47user 1.76system 0:04.30elapsed 74%CPU (0avgtext+0avgdata 7792maxresident)k\n",
      "0inputs+0outputs (0major+1238minor)pagefaults 0swaps\n"
     ]
    },
    {
     "name": "stdout",
     "output_type": "stream",
     "text": [
      "1332615\n",
      "humidity: 50.0\n",
      " pressure: 10000.0\n",
      " temperature: 300.0\n",
      " lat: 35.09666666666667\n",
      " elevation: 2.198000000000354\n",
      " freqmin(cm-1): 10509.73381181498\n",
      " freqmax(cm-1): 14316.392269148173\n",
      " angle: 9.240776626134643\n",
      "\n",
      "\n",
      "Running exec: lblrtm\n",
      "\n",
      "\n"
     ]
    },
    {
     "name": "stderr",
     "output_type": "stream",
     "text": [
      "Note: The following floating-point exceptions are signalling: IEEE_INVALID_FLAG IEEE_DIVIDE_BY_ZERO IEEE_UNDERFLOW_FLAG IEEE_DENORMAL\n",
      "STOP  LBLRTM EXIT \n",
      "1.97user 1.83system 0:04.77elapsed 79%CPU (0avgtext+0avgdata 7816maxresident)k\n",
      "0inputs+0outputs (0major+1239minor)pagefaults 0swaps\n"
     ]
    },
    {
     "name": "stdout",
     "output_type": "stream",
     "text": [
      "\n",
      "Running exec: lblrtm\n",
      "\n",
      "\n"
     ]
    },
    {
     "name": "stderr",
     "output_type": "stream",
     "text": [
      "Note: The following floating-point exceptions are signalling: IEEE_INVALID_FLAG IEEE_DIVIDE_BY_ZERO IEEE_UNDERFLOW_FLAG IEEE_DENORMAL\n",
      "STOP  LBLRTM EXIT \n",
      "1.47user 1.77system 0:04.13elapsed 78%CPU (0avgtext+0avgdata 7732maxresident)k\n",
      "0inputs+0outputs (0major+1237minor)pagefaults 0swaps\n"
     ]
    },
    {
     "name": "stdout",
     "output_type": "stream",
     "text": [
      "1332615\n",
      "humidity: 50.0\n",
      " pressure: 10000.0\n",
      " temperature: 300.0\n",
      " lat: 35.09666666666667\n",
      " elevation: 2.198000000000354\n",
      " freqmin(cm-1): 10509.73381181498\n",
      " freqmax(cm-1): 14316.392269148173\n",
      " angle: 50.45377300971178\n",
      "\n",
      "\n",
      "Running exec: lblrtm\n",
      "\n",
      "\n"
     ]
    },
    {
     "name": "stderr",
     "output_type": "stream",
     "text": [
      "Note: The following floating-point exceptions are signalling: IEEE_INVALID_FLAG IEEE_DIVIDE_BY_ZERO IEEE_UNDERFLOW_FLAG IEEE_DENORMAL\n",
      "STOP  LBLRTM EXIT \n",
      "1.98user 1.83system 0:05.21elapsed 73%CPU (0avgtext+0avgdata 7684maxresident)k\n",
      "0inputs+0outputs (0major+1238minor)pagefaults 0swaps\n"
     ]
    },
    {
     "name": "stdout",
     "output_type": "stream",
     "text": [
      "\n",
      "Running exec: lblrtm\n",
      "\n",
      "\n"
     ]
    },
    {
     "name": "stderr",
     "output_type": "stream",
     "text": [
      "Note: The following floating-point exceptions are signalling: IEEE_INVALID_FLAG IEEE_DIVIDE_BY_ZERO IEEE_UNDERFLOW_FLAG IEEE_DENORMAL\n",
      "STOP  LBLRTM EXIT \n",
      "1.43user 1.78system 0:04.28elapsed 75%CPU (0avgtext+0avgdata 7688maxresident)k\n",
      "0inputs+0outputs (0major+1237minor)pagefaults 0swaps\n"
     ]
    },
    {
     "name": "stdout",
     "output_type": "stream",
     "text": [
      "1332615\n",
      "humidity: 50.0\n",
      " pressure: 10000.0\n",
      " temperature: 300.0\n",
      " lat: 35.09666666666667\n",
      " elevation: 2.198000000000354\n",
      " freqmin(cm-1): 10509.73381181498\n",
      " freqmax(cm-1): 14316.392269148173\n",
      " angle: 66.50272325408055\n",
      "\n",
      "\n",
      "Running exec: lblrtm\n",
      "\n",
      "\n"
     ]
    },
    {
     "name": "stderr",
     "output_type": "stream",
     "text": [
      "Note: The following floating-point exceptions are signalling: IEEE_INVALID_FLAG IEEE_DIVIDE_BY_ZERO IEEE_UNDERFLOW_FLAG IEEE_DENORMAL\n",
      "STOP  LBLRTM EXIT \n",
      "2.05user 1.78system 0:04.98elapsed 77%CPU (0avgtext+0avgdata 7728maxresident)k\n",
      "0inputs+0outputs (0major+1236minor)pagefaults 0swaps\n"
     ]
    },
    {
     "name": "stdout",
     "output_type": "stream",
     "text": [
      "\n",
      "Running exec: lblrtm\n",
      "\n",
      "\n"
     ]
    },
    {
     "name": "stderr",
     "output_type": "stream",
     "text": [
      "Note: The following floating-point exceptions are signalling: IEEE_INVALID_FLAG IEEE_DIVIDE_BY_ZERO IEEE_UNDERFLOW_FLAG IEEE_DENORMAL\n",
      "STOP  LBLRTM EXIT \n",
      "1.50user 1.75system 0:04.18elapsed 77%CPU (0avgtext+0avgdata 7648maxresident)k\n",
      "0inputs+0outputs (0major+1237minor)pagefaults 0swaps\n"
     ]
    },
    {
     "name": "stdout",
     "output_type": "stream",
     "text": [
      "1332615\n",
      "humidity: 50.0\n",
      " pressure: 10000.0\n",
      " temperature: 300.0\n",
      " lat: 35.09666666666667\n",
      " elevation: 2.198000000000354\n",
      " freqmin(cm-1): 10509.73381181498\n",
      " freqmax(cm-1): 14316.392269148173\n",
      " angle: 47.40733099810307\n",
      "\n",
      "\n",
      "Running exec: lblrtm\n",
      "\n",
      "\n"
     ]
    },
    {
     "name": "stderr",
     "output_type": "stream",
     "text": [
      "Note: The following floating-point exceptions are signalling: IEEE_INVALID_FLAG IEEE_DIVIDE_BY_ZERO IEEE_UNDERFLOW_FLAG IEEE_DENORMAL\n",
      "STOP  LBLRTM EXIT \n",
      "2.01user 1.83system 0:05.37elapsed 71%CPU (0avgtext+0avgdata 7744maxresident)k\n",
      "0inputs+0outputs (0major+1235minor)pagefaults 0swaps\n"
     ]
    },
    {
     "name": "stdout",
     "output_type": "stream",
     "text": [
      "\n",
      "Running exec: lblrtm\n",
      "\n",
      "\n"
     ]
    },
    {
     "name": "stderr",
     "output_type": "stream",
     "text": [
      "Note: The following floating-point exceptions are signalling: IEEE_INVALID_FLAG IEEE_DIVIDE_BY_ZERO IEEE_UNDERFLOW_FLAG IEEE_DENORMAL\n",
      "STOP  LBLRTM EXIT \n",
      "1.46user 1.79system 0:04.12elapsed 79%CPU (0avgtext+0avgdata 7688maxresident)k\n",
      "0inputs+0outputs (0major+1237minor)pagefaults 0swaps\n"
     ]
    },
    {
     "name": "stdout",
     "output_type": "stream",
     "text": [
      "1332615\n",
      "humidity: 50.0\n",
      " pressure: 10000.0\n",
      " temperature: 300.0\n",
      " lat: 35.09666666666667\n",
      " elevation: 2.198000000000354\n",
      " freqmin(cm-1): 10509.73381181498\n",
      " freqmax(cm-1): 14316.392269148173\n",
      " angle: 8.567373478697155\n",
      "\n",
      "\n",
      "Running exec: lblrtm\n",
      "\n",
      "\n"
     ]
    },
    {
     "name": "stderr",
     "output_type": "stream",
     "text": [
      "Note: The following floating-point exceptions are signalling: IEEE_INVALID_FLAG IEEE_DIVIDE_BY_ZERO IEEE_UNDERFLOW_FLAG IEEE_DENORMAL\n",
      "STOP  LBLRTM EXIT \n",
      "1.98user 1.83system 0:05.10elapsed 74%CPU (0avgtext+0avgdata 7636maxresident)k\n",
      "0inputs+0outputs (0major+1236minor)pagefaults 0swaps\n"
     ]
    },
    {
     "name": "stdout",
     "output_type": "stream",
     "text": [
      "\n",
      "Running exec: lblrtm\n",
      "\n",
      "\n"
     ]
    },
    {
     "name": "stderr",
     "output_type": "stream",
     "text": [
      "Note: The following floating-point exceptions are signalling: IEEE_INVALID_FLAG IEEE_DIVIDE_BY_ZERO IEEE_UNDERFLOW_FLAG IEEE_DENORMAL\n",
      "STOP  LBLRTM EXIT \n",
      "1.45user 1.79system 0:04.21elapsed 77%CPU (0avgtext+0avgdata 7636maxresident)k\n",
      "0inputs+0outputs (0major+1236minor)pagefaults 0swaps\n"
     ]
    },
    {
     "name": "stdout",
     "output_type": "stream",
     "text": [
      "1332615\n",
      "humidity: 50.0\n",
      " pressure: 10000.0\n",
      " temperature: 300.0\n",
      " lat: 35.09666666666667\n",
      " elevation: 2.198000000000354\n",
      " freqmin(cm-1): 10509.73381181498\n",
      " freqmax(cm-1): 14316.392269148173\n",
      " angle: 14.782472150059622\n",
      "\n",
      "\n",
      "Running exec: lblrtm\n",
      "\n",
      "\n"
     ]
    },
    {
     "name": "stderr",
     "output_type": "stream",
     "text": [
      "Note: The following floating-point exceptions are signalling: IEEE_INVALID_FLAG IEEE_DIVIDE_BY_ZERO IEEE_UNDERFLOW_FLAG IEEE_DENORMAL\n",
      "STOP  LBLRTM EXIT \n",
      "1.99user 1.83system 0:05.39elapsed 71%CPU (0avgtext+0avgdata 7744maxresident)k\n",
      "0inputs+0outputs (0major+1235minor)pagefaults 0swaps\n"
     ]
    },
    {
     "name": "stdout",
     "output_type": "stream",
     "text": [
      "\n",
      "Running exec: lblrtm\n",
      "\n",
      "\n"
     ]
    },
    {
     "name": "stderr",
     "output_type": "stream",
     "text": [
      "Note: The following floating-point exceptions are signalling: IEEE_INVALID_FLAG IEEE_DIVIDE_BY_ZERO IEEE_UNDERFLOW_FLAG IEEE_DENORMAL\n",
      "STOP  LBLRTM EXIT \n",
      "1.43user 1.81system 0:04.17elapsed 78%CPU (0avgtext+0avgdata 7712maxresident)k\n",
      "0inputs+0outputs (0major+1237minor)pagefaults 0swaps\n"
     ]
    },
    {
     "name": "stdout",
     "output_type": "stream",
     "text": [
      "1332615\n",
      "humidity: 50.0\n",
      " pressure: 10000.0\n",
      " temperature: 300.0\n",
      " lat: 35.09666666666667\n",
      " elevation: 2.198000000000354\n",
      " freqmin(cm-1): 10509.73381181498\n",
      " freqmax(cm-1): 14316.392269148173\n",
      " angle: 29.916167683982994\n",
      "\n",
      "\n",
      "Running exec: lblrtm\n",
      "\n",
      "\n"
     ]
    },
    {
     "name": "stderr",
     "output_type": "stream",
     "text": [
      "Note: The following floating-point exceptions are signalling: IEEE_INVALID_FLAG IEEE_DIVIDE_BY_ZERO IEEE_UNDERFLOW_FLAG IEEE_DENORMAL\n",
      "STOP  LBLRTM EXIT \n",
      "1.99user 1.82system 0:04.94elapsed 77%CPU (0avgtext+0avgdata 7560maxresident)k\n",
      "0inputs+0outputs (0major+1234minor)pagefaults 0swaps\n"
     ]
    },
    {
     "name": "stdout",
     "output_type": "stream",
     "text": [
      "\n",
      "Running exec: lblrtm\n",
      "\n",
      "\n"
     ]
    },
    {
     "name": "stderr",
     "output_type": "stream",
     "text": [
      "Note: The following floating-point exceptions are signalling: IEEE_INVALID_FLAG IEEE_DIVIDE_BY_ZERO IEEE_UNDERFLOW_FLAG IEEE_DENORMAL\n",
      "STOP  LBLRTM EXIT \n",
      "1.47user 1.78system 0:04.51elapsed 72%CPU (0avgtext+0avgdata 7552maxresident)k\n",
      "0inputs+0outputs (0major+1234minor)pagefaults 0swaps\n"
     ]
    },
    {
     "name": "stdout",
     "output_type": "stream",
     "text": [
      "1332615\n",
      "humidity: 50.0\n",
      " pressure: 10000.0\n",
      " temperature: 300.0\n",
      " lat: 35.09666666666667\n",
      " elevation: 2.198000000000354\n",
      " freqmin(cm-1): 10509.73381181498\n",
      " freqmax(cm-1): 14316.392269148173\n",
      " angle: 14.468357454527371\n",
      "\n",
      "\n",
      "Running exec: lblrtm\n",
      "\n",
      "\n"
     ]
    },
    {
     "name": "stderr",
     "output_type": "stream",
     "text": [
      "Note: The following floating-point exceptions are signalling: IEEE_INVALID_FLAG IEEE_DIVIDE_BY_ZERO IEEE_UNDERFLOW_FLAG IEEE_DENORMAL\n",
      "STOP  LBLRTM EXIT \n",
      "1.95user 1.84system 0:04.87elapsed 77%CPU (0avgtext+0avgdata 7712maxresident)k\n",
      "0inputs+0outputs (0major+1238minor)pagefaults 0swaps\n"
     ]
    },
    {
     "name": "stdout",
     "output_type": "stream",
     "text": [
      "\n",
      "Running exec: lblrtm\n",
      "\n",
      "\n"
     ]
    },
    {
     "name": "stderr",
     "output_type": "stream",
     "text": [
      "Note: The following floating-point exceptions are signalling: IEEE_INVALID_FLAG IEEE_DIVIDE_BY_ZERO IEEE_UNDERFLOW_FLAG IEEE_DENORMAL\n",
      "STOP  LBLRTM EXIT \n",
      "1.48user 1.75system 0:04.16elapsed 77%CPU (0avgtext+0avgdata 7816maxresident)k\n",
      "0inputs+0outputs (0major+1239minor)pagefaults 0swaps\n"
     ]
    },
    {
     "name": "stdout",
     "output_type": "stream",
     "text": [
      "1332615\n",
      "humidity: 50.0\n",
      " pressure: 10000.0\n",
      " temperature: 300.0\n",
      " lat: 35.09666666666667\n",
      " elevation: 2.198000000000354\n",
      " freqmin(cm-1): 10509.73381181498\n",
      " freqmax(cm-1): 14316.392269148173\n",
      " angle: 47.521881271662686\n",
      "\n",
      "\n",
      "Running exec: lblrtm\n",
      "\n",
      "\n"
     ]
    },
    {
     "name": "stderr",
     "output_type": "stream",
     "text": [
      "Note: The following floating-point exceptions are signalling: IEEE_INVALID_FLAG IEEE_DIVIDE_BY_ZERO IEEE_UNDERFLOW_FLAG IEEE_DENORMAL\n",
      "STOP  LBLRTM EXIT \n",
      "1.95user 1.89system 0:04.98elapsed 77%CPU (0avgtext+0avgdata 7636maxresident)k\n",
      "0inputs+0outputs (0major+1236minor)pagefaults 0swaps\n"
     ]
    },
    {
     "name": "stdout",
     "output_type": "stream",
     "text": [
      "\n",
      "Running exec: lblrtm\n",
      "\n",
      "\n"
     ]
    },
    {
     "name": "stderr",
     "output_type": "stream",
     "text": [
      "Note: The following floating-point exceptions are signalling: IEEE_INVALID_FLAG IEEE_DIVIDE_BY_ZERO IEEE_UNDERFLOW_FLAG IEEE_DENORMAL\n",
      "STOP  LBLRTM EXIT \n",
      "1.45user 1.79system 0:04.83elapsed 67%CPU (0avgtext+0avgdata 7720maxresident)k\n",
      "0inputs+0outputs (0major+1238minor)pagefaults 0swaps\n"
     ]
    },
    {
     "name": "stdout",
     "output_type": "stream",
     "text": [
      "1332615\n",
      "humidity: 50.0\n",
      " pressure: 10000.0\n",
      " temperature: 300.0\n",
      " lat: 35.09666666666667\n",
      " elevation: 2.198000000000354\n",
      " freqmin(cm-1): 10509.73381181498\n",
      " freqmax(cm-1): 14316.392269148173\n",
      " angle: 35.904107279006176\n",
      "\n",
      "\n",
      "Running exec: lblrtm\n",
      "\n",
      "\n"
     ]
    },
    {
     "name": "stderr",
     "output_type": "stream",
     "text": [
      "Note: The following floating-point exceptions are signalling: IEEE_INVALID_FLAG IEEE_DIVIDE_BY_ZERO IEEE_UNDERFLOW_FLAG IEEE_DENORMAL\n",
      "STOP  LBLRTM EXIT \n",
      "1.95user 1.87system 0:05.17elapsed 73%CPU (0avgtext+0avgdata 7556maxresident)k\n",
      "0inputs+0outputs (0major+1234minor)pagefaults 0swaps\n"
     ]
    },
    {
     "name": "stdout",
     "output_type": "stream",
     "text": [
      "\n",
      "Running exec: lblrtm\n",
      "\n",
      "\n"
     ]
    },
    {
     "name": "stderr",
     "output_type": "stream",
     "text": [
      "Note: The following floating-point exceptions are signalling: IEEE_INVALID_FLAG IEEE_DIVIDE_BY_ZERO IEEE_UNDERFLOW_FLAG IEEE_DENORMAL\n",
      "STOP  LBLRTM EXIT \n",
      "1.46user 1.76system 0:06.55elapsed 49%CPU (0avgtext+0avgdata 7556maxresident)k\n",
      "0inputs+0outputs (0major+1234minor)pagefaults 0swaps\n"
     ]
    },
    {
     "name": "stdout",
     "output_type": "stream",
     "text": [
      "1332615\n",
      "humidity: 50.0\n",
      " pressure: 10000.0\n",
      " temperature: 300.0\n",
      " lat: 35.09666666666667\n",
      " elevation: 2.198000000000354\n",
      " freqmin(cm-1): 10509.73381181498\n",
      " freqmax(cm-1): 14316.392269148173\n",
      " angle: 43.288511351895885\n",
      "\n",
      "\n",
      "Running exec: lblrtm\n",
      "\n",
      "\n"
     ]
    },
    {
     "name": "stderr",
     "output_type": "stream",
     "text": [
      "Note: The following floating-point exceptions are signalling: IEEE_INVALID_FLAG IEEE_DIVIDE_BY_ZERO IEEE_UNDERFLOW_FLAG IEEE_DENORMAL\n",
      "STOP  LBLRTM EXIT \n",
      "1.96user 1.82system 0:05.82elapsed 65%CPU (0avgtext+0avgdata 7720maxresident)k\n",
      "0inputs+0outputs (0major+1238minor)pagefaults 0swaps\n"
     ]
    },
    {
     "name": "stdout",
     "output_type": "stream",
     "text": [
      "\n",
      "Running exec: lblrtm\n",
      "\n",
      "\n"
     ]
    },
    {
     "name": "stderr",
     "output_type": "stream",
     "text": [
      "Note: The following floating-point exceptions are signalling: IEEE_INVALID_FLAG IEEE_DIVIDE_BY_ZERO IEEE_UNDERFLOW_FLAG IEEE_DENORMAL\n",
      "STOP  LBLRTM EXIT \n",
      "1.50user 1.74system 0:04.95elapsed 65%CPU (0avgtext+0avgdata 7700maxresident)k\n",
      "0inputs+0outputs (0major+1236minor)pagefaults 0swaps\n"
     ]
    },
    {
     "name": "stdout",
     "output_type": "stream",
     "text": [
      "1332615\n",
      "humidity: 50.0\n",
      " pressure: 10000.0\n",
      " temperature: 300.0\n",
      " lat: 35.09666666666667\n",
      " elevation: 2.198000000000354\n",
      " freqmin(cm-1): 10509.73381181498\n",
      " freqmax(cm-1): 14316.392269148173\n",
      " angle: 32.8000252102742\n",
      "\n",
      "\n",
      "Running exec: lblrtm\n",
      "\n",
      "\n"
     ]
    },
    {
     "name": "stderr",
     "output_type": "stream",
     "text": [
      "Note: The following floating-point exceptions are signalling: IEEE_INVALID_FLAG IEEE_DIVIDE_BY_ZERO IEEE_UNDERFLOW_FLAG IEEE_DENORMAL\n",
      "STOP  LBLRTM EXIT \n",
      "2.04user 1.75system 0:05.39elapsed 70%CPU (0avgtext+0avgdata 7624maxresident)k\n",
      "0inputs+0outputs (0major+1234minor)pagefaults 0swaps\n"
     ]
    },
    {
     "name": "stdout",
     "output_type": "stream",
     "text": [
      "\n",
      "Running exec: lblrtm\n",
      "\n",
      "\n"
     ]
    },
    {
     "name": "stderr",
     "output_type": "stream",
     "text": [
      "Note: The following floating-point exceptions are signalling: IEEE_INVALID_FLAG IEEE_DIVIDE_BY_ZERO IEEE_UNDERFLOW_FLAG IEEE_DENORMAL\n",
      "STOP  LBLRTM EXIT \n",
      "1.49user 1.74system 0:04.67elapsed 69%CPU (0avgtext+0avgdata 7752maxresident)k\n",
      "0inputs+0outputs (0major+1238minor)pagefaults 0swaps\n"
     ]
    },
    {
     "name": "stdout",
     "output_type": "stream",
     "text": [
      "1332615\n",
      "humidity: 50.0\n",
      " pressure: 10000.0\n",
      " temperature: 300.0\n",
      " lat: 35.09666666666667\n",
      " elevation: 2.198000000000354\n",
      " freqmin(cm-1): 10509.73381181498\n",
      " freqmax(cm-1): 14316.392269148173\n",
      " angle: 39.04462717362295\n",
      "\n",
      "\n",
      "Running exec: lblrtm\n",
      "\n",
      "\n"
     ]
    },
    {
     "name": "stderr",
     "output_type": "stream",
     "text": [
      "Note: The following floating-point exceptions are signalling: IEEE_INVALID_FLAG IEEE_DIVIDE_BY_ZERO IEEE_UNDERFLOW_FLAG IEEE_DENORMAL\n",
      "STOP  LBLRTM EXIT \n",
      "2.01user 1.80system 0:05.12elapsed 74%CPU (0avgtext+0avgdata 7552maxresident)k\n",
      "0inputs+0outputs (0major+1234minor)pagefaults 0swaps\n"
     ]
    },
    {
     "name": "stdout",
     "output_type": "stream",
     "text": [
      "\n",
      "Running exec: lblrtm\n",
      "\n",
      "\n"
     ]
    },
    {
     "name": "stderr",
     "output_type": "stream",
     "text": [
      "Note: The following floating-point exceptions are signalling: IEEE_INVALID_FLAG IEEE_DIVIDE_BY_ZERO IEEE_UNDERFLOW_FLAG IEEE_DENORMAL\n",
      "STOP  LBLRTM EXIT \n",
      "1.45user 1.78system 0:04.48elapsed 72%CPU (0avgtext+0avgdata 7792maxresident)k\n",
      "0inputs+0outputs (0major+1238minor)pagefaults 0swaps\n"
     ]
    },
    {
     "name": "stdout",
     "output_type": "stream",
     "text": [
      "1332615\n",
      "humidity: 50.0\n",
      " pressure: 10000.0\n",
      " temperature: 300.0\n",
      " lat: 35.09666666666667\n",
      " elevation: 2.198000000000354\n",
      " freqmin(cm-1): 10509.73381181498\n",
      " freqmax(cm-1): 14316.392269148173\n",
      " angle: 32.17888125686679\n",
      "\n",
      "\n",
      "Running exec: lblrtm\n",
      "\n",
      "\n"
     ]
    },
    {
     "name": "stderr",
     "output_type": "stream",
     "text": [
      "Note: The following floating-point exceptions are signalling: IEEE_INVALID_FLAG IEEE_DIVIDE_BY_ZERO IEEE_UNDERFLOW_FLAG IEEE_DENORMAL\n",
      "STOP  LBLRTM EXIT \n",
      "1.98user 1.84system 0:04.99elapsed 76%CPU (0avgtext+0avgdata 7720maxresident)k\n",
      "0inputs+0outputs (0major+1238minor)pagefaults 0swaps\n"
     ]
    },
    {
     "name": "stdout",
     "output_type": "stream",
     "text": [
      "\n",
      "Running exec: lblrtm\n",
      "\n",
      "\n"
     ]
    },
    {
     "name": "stderr",
     "output_type": "stream",
     "text": [
      "Note: The following floating-point exceptions are signalling: IEEE_INVALID_FLAG IEEE_DIVIDE_BY_ZERO IEEE_UNDERFLOW_FLAG IEEE_DENORMAL\n",
      "STOP  LBLRTM EXIT \n",
      "1.46user 1.80system 0:04.26elapsed 76%CPU (0avgtext+0avgdata 7708maxresident)k\n",
      "0inputs+0outputs (0major+1237minor)pagefaults 0swaps\n"
     ]
    },
    {
     "name": "stdout",
     "output_type": "stream",
     "text": [
      "1332615\n",
      "humidity: 50.0\n",
      " pressure: 10000.0\n",
      " temperature: 300.0\n",
      " lat: 35.09666666666667\n",
      " elevation: 2.198000000000354\n",
      " freqmin(cm-1): 10509.73381181498\n",
      " freqmax(cm-1): 14316.392269148173\n",
      " angle: 55.21054773501998\n",
      "\n",
      "\n",
      "Running exec: lblrtm\n",
      "\n",
      "\n"
     ]
    },
    {
     "name": "stderr",
     "output_type": "stream",
     "text": [
      "Note: The following floating-point exceptions are signalling: IEEE_INVALID_FLAG IEEE_DIVIDE_BY_ZERO IEEE_UNDERFLOW_FLAG IEEE_DENORMAL\n",
      "STOP  LBLRTM EXIT \n",
      "1.98user 1.88system 0:04.93elapsed 78%CPU (0avgtext+0avgdata 7672maxresident)k\n",
      "0inputs+0outputs (0major+1234minor)pagefaults 0swaps\n"
     ]
    },
    {
     "name": "stdout",
     "output_type": "stream",
     "text": [
      "\n",
      "Running exec: lblrtm\n",
      "\n",
      "\n"
     ]
    },
    {
     "name": "stderr",
     "output_type": "stream",
     "text": [
      "Note: The following floating-point exceptions are signalling: IEEE_INVALID_FLAG IEEE_DIVIDE_BY_ZERO IEEE_UNDERFLOW_FLAG IEEE_DENORMAL\n",
      "STOP  LBLRTM EXIT \n",
      "1.47user 1.79system 0:04.18elapsed 78%CPU (0avgtext+0avgdata 7752maxresident)k\n",
      "0inputs+0outputs (0major+1238minor)pagefaults 0swaps\n"
     ]
    },
    {
     "name": "stdout",
     "output_type": "stream",
     "text": [
      "1332615\n",
      "humidity: 50.0\n",
      " pressure: 10000.0\n",
      " temperature: 300.0\n",
      " lat: 35.09666666666667\n",
      " elevation: 2.198000000000354\n",
      " freqmin(cm-1): 10509.73381181498\n",
      " freqmax(cm-1): 14316.392269148173\n",
      " angle: 17.62066088234454\n",
      "\n",
      "\n",
      "Running exec: lblrtm\n",
      "\n",
      "\n"
     ]
    },
    {
     "name": "stderr",
     "output_type": "stream",
     "text": [
      "Note: The following floating-point exceptions are signalling: IEEE_INVALID_FLAG IEEE_DIVIDE_BY_ZERO IEEE_UNDERFLOW_FLAG IEEE_DENORMAL\n",
      "STOP  LBLRTM EXIT \n",
      "1.98user 1.79system 0:05.35elapsed 70%CPU (0avgtext+0avgdata 7684maxresident)k\n",
      "0inputs+0outputs (0major+1238minor)pagefaults 0swaps\n"
     ]
    },
    {
     "name": "stdout",
     "output_type": "stream",
     "text": [
      "\n",
      "Running exec: lblrtm\n",
      "\n",
      "\n"
     ]
    },
    {
     "name": "stderr",
     "output_type": "stream",
     "text": [
      "Note: The following floating-point exceptions are signalling: IEEE_INVALID_FLAG IEEE_DIVIDE_BY_ZERO IEEE_UNDERFLOW_FLAG IEEE_DENORMAL\n",
      "STOP  LBLRTM EXIT \n",
      "1.48user 1.75system 0:04.80elapsed 67%CPU (0avgtext+0avgdata 7624maxresident)k\n",
      "0inputs+0outputs (0major+1234minor)pagefaults 0swaps\n"
     ]
    },
    {
     "name": "stdout",
     "output_type": "stream",
     "text": [
      "1332615\n",
      "humidity: 50.0\n",
      " pressure: 10000.0\n",
      " temperature: 300.0\n",
      " lat: 35.09666666666667\n",
      " elevation: 2.198000000000354\n",
      " freqmin(cm-1): 10509.73381181498\n",
      " freqmax(cm-1): 14316.392269148173\n",
      " angle: 61.66555563575567\n",
      "\n",
      "\n",
      "Running exec: lblrtm\n",
      "\n",
      "\n"
     ]
    },
    {
     "name": "stderr",
     "output_type": "stream",
     "text": [
      "Note: The following floating-point exceptions are signalling: IEEE_INVALID_FLAG IEEE_DIVIDE_BY_ZERO IEEE_UNDERFLOW_FLAG IEEE_DENORMAL\n",
      "STOP  LBLRTM EXIT \n",
      "2.04user 1.80system 0:05.26elapsed 73%CPU (0avgtext+0avgdata 7684maxresident)k\n",
      "0inputs+0outputs (0major+1238minor)pagefaults 0swaps\n"
     ]
    },
    {
     "name": "stdout",
     "output_type": "stream",
     "text": [
      "\n",
      "Running exec: lblrtm\n",
      "\n",
      "\n"
     ]
    },
    {
     "name": "stderr",
     "output_type": "stream",
     "text": [
      "Note: The following floating-point exceptions are signalling: IEEE_INVALID_FLAG IEEE_DIVIDE_BY_ZERO IEEE_UNDERFLOW_FLAG IEEE_DENORMAL\n",
      "STOP  LBLRTM EXIT \n",
      "1.48user 1.74system 0:05.03elapsed 64%CPU (0avgtext+0avgdata 7624maxresident)k\n",
      "0inputs+0outputs (0major+1235minor)pagefaults 0swaps\n"
     ]
    },
    {
     "name": "stdout",
     "output_type": "stream",
     "text": [
      "1332615\n",
      "humidity: 50.0\n",
      " pressure: 10000.0\n",
      " temperature: 300.0\n",
      " lat: 35.09666666666667\n",
      " elevation: 2.198000000000354\n",
      " freqmin(cm-1): 10509.73381181498\n",
      " freqmax(cm-1): 14316.392269148173\n",
      " angle: 12.009229830239954\n",
      "\n",
      "\n",
      "Running exec: lblrtm\n",
      "\n",
      "\n"
     ]
    },
    {
     "name": "stderr",
     "output_type": "stream",
     "text": [
      "Note: The following floating-point exceptions are signalling: IEEE_INVALID_FLAG IEEE_DIVIDE_BY_ZERO IEEE_UNDERFLOW_FLAG IEEE_DENORMAL\n",
      "STOP  LBLRTM EXIT \n",
      "1.96user 1.80system 0:04.94elapsed 76%CPU (0avgtext+0avgdata 7716maxresident)k\n",
      "0inputs+0outputs (0major+1238minor)pagefaults 0swaps\n"
     ]
    },
    {
     "name": "stdout",
     "output_type": "stream",
     "text": [
      "\n",
      "Running exec: lblrtm\n",
      "\n",
      "\n"
     ]
    },
    {
     "name": "stderr",
     "output_type": "stream",
     "text": [
      "Note: The following floating-point exceptions are signalling: IEEE_INVALID_FLAG IEEE_DIVIDE_BY_ZERO IEEE_UNDERFLOW_FLAG IEEE_DENORMAL\n",
      "STOP  LBLRTM EXIT \n",
      "1.47user 1.73system 0:04.14elapsed 77%CPU (0avgtext+0avgdata 7748maxresident)k\n",
      "0inputs+0outputs (0major+1235minor)pagefaults 0swaps\n"
     ]
    },
    {
     "name": "stdout",
     "output_type": "stream",
     "text": [
      "1332615\n",
      "<simulacra.tellurics.TelFitModel object at 0x151ae2cef4a8> [1.6178939077349241e-06, 2.3041914776200656e-07, 2.3041914776200656e-07, 2.3041914776200656e-07, 2.3041914776200656e-07, 2.3041914776200656e-07, 2.3041914776200656e-07, 2.3041914776200656e-07, 2.3041914776200656e-07, 2.3041914776200656e-07, 2.3041914776200656e-07, 2.3041914776200656e-07, 2.3041914776200656e-07, 2.3041914776200656e-07, 2.3041914776200656e-07, 2.3041914776200656e-07, 2.3041914776200656e-07, 2.3041914776200656e-07, 2.3041914776200656e-07, 2.3041914776200656e-07, 2.3041914776200656e-07, 2.3041914776200656e-07, 2.3041914776200656e-07, 2.3041914776200656e-07, 2.3041914776200656e-07, 2.3041914776200656e-07, 2.3041914776200656e-07, 2.3041914776200656e-07, 2.3041914776200656e-07, 2.3041914776200656e-07, 2.3041914776200656e-07]\n",
      "interpolating spline...\n",
      "combining grids...\n",
      "convolving...\n",
      "0\n",
      "1\n",
      "2\n",
      "3\n",
      "4\n",
      "5\n",
      "6\n",
      "7\n",
      "8\n",
      "9\n",
      "10\n",
      "11\n",
      "12\n",
      "13\n",
      "14\n",
      "15\n",
      "16\n",
      "17\n",
      "18\n",
      "19\n",
      "20\n",
      "21\n",
      "22\n",
      "23\n",
      "24\n",
      "25\n",
      "26\n",
      "27\n",
      "28\n",
      "29\n",
      "xs: 6994.999999999997 9504.987597062134\n",
      "xhat: 6999.999999999999 9499.988846585304\n",
      "interpolating lanczos...\n",
      "0\n",
      "1\n",
      "2\n",
      "3\n",
      "4\n",
      "5\n",
      "6\n",
      "7\n",
      "8\n",
      "9\n",
      "10\n",
      "11\n",
      "12\n",
      "13\n",
      "14\n",
      "15\n",
      "16\n",
      "17\n",
      "18\n",
      "19\n",
      "20\n",
      "21\n",
      "22\n",
      "23\n",
      "24\n",
      "25\n",
      "26\n",
      "27\n",
      "28\n",
      "29\n",
      "area: 14.522012041218817 m2\t avg d lambda: 0.015743201089341834 Angstrom\t avg lambda: 8186.472840457828 Angstrom\t avg exp times: 8.0 min\n",
      "0 n mean: 3.08e+07\t n median: 3.56e+07\n",
      "1 n mean: 2.96e+07\t n median: 3.47e+07\n",
      "2 n mean: 2.97e+07\t n median: 3.48e+07\n",
      "3 n mean: 2.96e+07\t n median: 3.47e+07\n",
      "4 n mean: 3.13e+07\t n median: 3.60e+07\n",
      "5 n mean: 1.84e+07\t n median: 1.97e+07\n",
      "6 n mean: 3.09e+07\t n median: 3.57e+07\n",
      "7 n mean: 2.94e+07\t n median: 3.46e+07\n",
      "8 n mean: 3.14e+07\t n median: 3.61e+07\n",
      "9 n mean: 2.97e+07\t n median: 3.50e+07\n",
      "10 n mean: 3.11e+07\t n median: 3.58e+07\n",
      "11 n mean: 3.06e+07\t n median: 3.54e+07\n",
      "12 n mean: 3.15e+07\t n median: 3.61e+07\n",
      "13 n mean: 3.00e+07\t n median: 3.50e+07\n",
      "14 n mean: 2.68e+07\t n median: 3.25e+07\n",
      "15 n mean: 3.02e+07\t n median: 3.51e+07\n",
      "16 n mean: 3.15e+07\t n median: 3.61e+07\n",
      "17 n mean: 3.14e+07\t n median: 3.60e+07\n",
      "18 n mean: 3.11e+07\t n median: 3.58e+07\n",
      "19 n mean: 3.14e+07\t n median: 3.60e+07\n",
      "20 n mean: 3.02e+07\t n median: 3.51e+07\n",
      "21 n mean: 3.08e+07\t n median: 3.56e+07\n",
      "22 n mean: 3.05e+07\t n median: 3.53e+07\n",
      "23 n mean: 3.10e+07\t n median: 3.57e+07\n",
      "24 n mean: 3.07e+07\t n median: 3.55e+07\n",
      "25 n mean: 3.10e+07\t n median: 3.57e+07\n",
      "26 n mean: 2.96e+07\t n median: 3.47e+07\n",
      "27 n mean: 3.14e+07\t n median: 3.60e+07\n",
      "28 n mean: 2.60e+07\t n median: 3.24e+07\n",
      "29 n mean: 3.15e+07\t n median: 3.61e+07\n",
      "generating true signal to noise ratios...\n",
      "adding noise...\n",
      "generating exp signal to noise ratios...\n",
      "generating errors...\n",
      "done.\n",
      "/scratch/mdd423/simulacra/out/2021-11-18/expres_e30_d150.0_R130000.0_a4000.0_p67.3_l7.0e+039.5e+03_snr5.2e+03\n",
      "saving time\n",
      "quantity\n",
      "epoches  saving as string\n",
      "quantity\n",
      "quantity\n",
      "quantity\n",
      "quantity\n",
      "quantity\n",
      "quantity\n",
      "quantity\n",
      "flux  saving as string\n",
      "wave  saving as string\n",
      "quantity\n",
      "quantity\n",
      "quantity\n",
      "alpha  saving as string\n",
      "quantity\n",
      "quantity\n",
      "fluxname  saving as string\n",
      "generate_spectra  saving as string\n",
      "quantity\n",
      "quantity\n",
      "logg  saving as string\n",
      "outdir  saving as string\n",
      "quantity\n",
      "plot  saving as string\n",
      "plot_interpolated  saving as string\n",
      "quantity\n",
      "quantity\n",
      "saving target...340.28129510273834 deg 26.42376364055597 deg\n",
      "temperature  saving as string\n",
      "quantity\n",
      "quantity\n",
      "wavename  saving as string\n",
      "quantity\n",
      "z  saving as string\n",
      "quantity\n",
      "quantity\n",
      "quantity\n",
      "_resolution  saving as string\n",
      "quantity\n",
      "a  saving as string\n",
      "add_model  saving as string\n",
      "quantity\n",
      "checkmax  saving as string\n",
      "checkmin  saving as string\n",
      "convolve  saving as string\n",
      "quantity\n",
      "energy_to_photon  saving as string\n",
      "epsilon  saving as string\n",
      "gamma  saving as string\n",
      "interpolate_data  saving as string\n",
      "interpolate_grid  saving as string\n",
      "quantity\n",
      "quantity\n",
      "quantity\n",
      "lsf_centering  saving as string\n",
      "lsf_const_coeffs  saving as string\n",
      "res  saving as string\n",
      "sigma_range  saving as string\n",
      "signal_to_noise_ratio  saving as string\n",
      "simulate  saving as string\n",
      "stellar_model  saving as string\n",
      "through_put  saving as string\n",
      "transmission_cutoff  saving as string\n",
      "transmission_models  saving as string\n",
      "w  saving as string\n",
      "quantity\n",
      "quantity\n",
      "quantity\n",
      "wave_transform  saving as string\n",
      "_epoches  saving as string\n",
      "quantity\n",
      "quantity\n",
      "_name  saving as string\n",
      "quantity\n",
      "quantity\n",
      "check_property  saving as string\n",
      "check_shape_type  saving as string\n",
      "epoches  saving as string\n",
      "generate_transmission  saving as string\n",
      "quantity\n",
      "quantity\n",
      "quantity\n",
      "plot  saving as string\n",
      "plot_interpolated  saving as string\n",
      "quantity\n",
      "quantity\n",
      "quantity\n",
      "nan nan\n",
      "using saved wave file\n",
      "../data/stellar/PHOENIX/lte04800-1.00-1.0.Alpha=+0.40.PHOENIX-ACES-AGSS-COND-2011-HiRes.fits\n",
      "using saved flux file\n",
      "reading in ../data/stellar/PHOENIX/WAVE_PHOENIX-ACES-AGSS-COND-2011.fits\n",
      "surface flux: mean 1.31e+14 erg / (cm3 s)\t median 1.14e+14 erg / (cm3 s)\n",
      "obs     flux: mean 9.45e-03 erg / (cm3 s)\t median 8.21e-03 erg / (cm3 s)\n"
     ]
    },
    {
     "name": "stderr",
     "output_type": "stream",
     "text": [
      "WARNING:root:tellurics epoches not the same as obs times\n",
      "resetting...\n"
     ]
    },
    {
     "name": "stdout",
     "output_type": "stream",
     "text": [
      "generating spectra...\n",
      "humidity: 50.0\n",
      " pressure: 10000.0\n",
      " temperature: 300.0\n",
      " lat: 35.09666666666667\n",
      " elevation: 2.198000000000354\n",
      " freqmin(cm-1): 10509.73381181498\n",
      " freqmax(cm-1): 14316.392269148173\n",
      " angle: 36.69121090236324\n",
      "\n",
      "\n",
      "Running exec: lblrtm\n",
      "\n",
      "\n"
     ]
    },
    {
     "name": "stderr",
     "output_type": "stream",
     "text": [
      "Note: The following floating-point exceptions are signalling: IEEE_INVALID_FLAG IEEE_DIVIDE_BY_ZERO IEEE_UNDERFLOW_FLAG IEEE_DENORMAL\n",
      "STOP  LBLRTM EXIT \n",
      "1.97user 1.83system 0:06.00elapsed 63%CPU (0avgtext+0avgdata 7720maxresident)k\n",
      "0inputs+0outputs (0major+1235minor)pagefaults 0swaps\n"
     ]
    },
    {
     "name": "stdout",
     "output_type": "stream",
     "text": [
      "\n",
      "Running exec: lblrtm\n",
      "\n",
      "\n"
     ]
    },
    {
     "name": "stderr",
     "output_type": "stream",
     "text": [
      "Note: The following floating-point exceptions are signalling: IEEE_INVALID_FLAG IEEE_DIVIDE_BY_ZERO IEEE_UNDERFLOW_FLAG IEEE_DENORMAL\n",
      "STOP  LBLRTM EXIT \n",
      "1.47user 1.77system 0:04.51elapsed 71%CPU (0avgtext+0avgdata 7732maxresident)k\n",
      "0inputs+0outputs (0major+1237minor)pagefaults 0swaps\n"
     ]
    },
    {
     "name": "stdout",
     "output_type": "stream",
     "text": [
      "1332615\n",
      "humidity: 50.0\n",
      " pressure: 10000.0\n",
      " temperature: 300.0\n",
      " lat: 35.09666666666667\n",
      " elevation: 2.198000000000354\n",
      " freqmin(cm-1): 10509.73381181498\n",
      " freqmax(cm-1): 14316.392269148173\n",
      " angle: 54.53480592865937\n",
      "\n",
      "\n",
      "Running exec: lblrtm\n",
      "\n",
      "\n"
     ]
    },
    {
     "name": "stderr",
     "output_type": "stream",
     "text": [
      "Note: The following floating-point exceptions are signalling: IEEE_INVALID_FLAG IEEE_DIVIDE_BY_ZERO IEEE_UNDERFLOW_FLAG IEEE_DENORMAL\n",
      "STOP  LBLRTM EXIT \n",
      "2.01user 1.80system 0:05.26elapsed 72%CPU (0avgtext+0avgdata 7712maxresident)k\n",
      "0inputs+0outputs (0major+1237minor)pagefaults 0swaps\n"
     ]
    },
    {
     "name": "stdout",
     "output_type": "stream",
     "text": [
      "\n",
      "Running exec: lblrtm\n",
      "\n",
      "\n"
     ]
    },
    {
     "name": "stderr",
     "output_type": "stream",
     "text": [
      "Note: The following floating-point exceptions are signalling: IEEE_INVALID_FLAG IEEE_DIVIDE_BY_ZERO IEEE_UNDERFLOW_FLAG IEEE_DENORMAL\n",
      "STOP  LBLRTM EXIT \n",
      "1.47user 1.79system 0:04.66elapsed 69%CPU (0avgtext+0avgdata 7672maxresident)k\n",
      "0inputs+0outputs (0major+1235minor)pagefaults 0swaps\n"
     ]
    },
    {
     "name": "stdout",
     "output_type": "stream",
     "text": [
      "1332615\n",
      "humidity: 50.0\n",
      " pressure: 10000.0\n",
      " temperature: 300.0\n",
      " lat: 35.09666666666667\n",
      " elevation: 2.198000000000354\n",
      " freqmin(cm-1): 10509.73381181498\n",
      " freqmax(cm-1): 14316.392269148173\n",
      " angle: 58.125619210760185\n",
      "\n",
      "\n",
      "Running exec: lblrtm\n",
      "\n",
      "\n"
     ]
    },
    {
     "name": "stderr",
     "output_type": "stream",
     "text": [
      "Note: The following floating-point exceptions are signalling: IEEE_INVALID_FLAG IEEE_DIVIDE_BY_ZERO IEEE_UNDERFLOW_FLAG IEEE_DENORMAL\n",
      "STOP  LBLRTM EXIT \n",
      "2.00user 1.82system 0:09.78elapsed 39%CPU (0avgtext+0avgdata 7624maxresident)k\n",
      "0inputs+0outputs (0major+1235minor)pagefaults 0swaps\n"
     ]
    },
    {
     "name": "stdout",
     "output_type": "stream",
     "text": [
      "\n",
      "Running exec: lblrtm\n",
      "\n",
      "\n"
     ]
    },
    {
     "name": "stderr",
     "output_type": "stream",
     "text": [
      "Note: The following floating-point exceptions are signalling: IEEE_INVALID_FLAG IEEE_DIVIDE_BY_ZERO IEEE_UNDERFLOW_FLAG IEEE_DENORMAL\n",
      "STOP  LBLRTM EXIT \n",
      "1.50user 1.75system 0:06.27elapsed 52%CPU (0avgtext+0avgdata 7620maxresident)k\n",
      "0inputs+0outputs (0major+1233minor)pagefaults 0swaps\n"
     ]
    },
    {
     "name": "stdout",
     "output_type": "stream",
     "text": [
      "1332615\n",
      "humidity: 50.0\n",
      " pressure: 10000.0\n",
      " temperature: 300.0\n",
      " lat: 35.09666666666667\n",
      " elevation: 2.198000000000354\n",
      " freqmin(cm-1): 10509.73381181498\n",
      " freqmax(cm-1): 14316.392269148173\n",
      " angle: 55.32428194385217\n",
      "\n",
      "\n",
      "Running exec: lblrtm\n",
      "\n",
      "\n"
     ]
    },
    {
     "name": "stderr",
     "output_type": "stream",
     "text": [
      "Note: The following floating-point exceptions are signalling: IEEE_INVALID_FLAG IEEE_DIVIDE_BY_ZERO IEEE_UNDERFLOW_FLAG IEEE_DENORMAL\n",
      "STOP  LBLRTM EXIT \n",
      "1.99user 1.84system 0:08.68elapsed 44%CPU (0avgtext+0avgdata 7664maxresident)k\n",
      "0inputs+0outputs (0major+1237minor)pagefaults 0swaps\n"
     ]
    },
    {
     "name": "stdout",
     "output_type": "stream",
     "text": [
      "\n",
      "Running exec: lblrtm\n",
      "\n",
      "\n"
     ]
    },
    {
     "name": "stderr",
     "output_type": "stream",
     "text": [
      "Note: The following floating-point exceptions are signalling: IEEE_INVALID_FLAG IEEE_DIVIDE_BY_ZERO IEEE_UNDERFLOW_FLAG IEEE_DENORMAL\n",
      "STOP  LBLRTM EXIT \n",
      "1.47user 1.78system 0:07.93elapsed 41%CPU (0avgtext+0avgdata 7624maxresident)k\n",
      "0inputs+0outputs (0major+1234minor)pagefaults 0swaps\n"
     ]
    },
    {
     "name": "stdout",
     "output_type": "stream",
     "text": [
      "1332615\n",
      "humidity: 50.0\n",
      " pressure: 10000.0\n",
      " temperature: 300.0\n",
      " lat: 35.09666666666667\n",
      " elevation: 2.198000000000354\n",
      " freqmin(cm-1): 10509.73381181498\n",
      " freqmax(cm-1): 14316.392269148173\n",
      " angle: 20.965611225868095\n",
      "\n",
      "\n",
      "Running exec: lblrtm\n",
      "\n",
      "\n"
     ]
    },
    {
     "name": "stderr",
     "output_type": "stream",
     "text": [
      "Note: The following floating-point exceptions are signalling: IEEE_INVALID_FLAG IEEE_DIVIDE_BY_ZERO IEEE_UNDERFLOW_FLAG IEEE_DENORMAL\n",
      "STOP  LBLRTM EXIT \n",
      "1.99user 1.82system 0:09.92elapsed 38%CPU (0avgtext+0avgdata 7720maxresident)k\n",
      "0inputs+0outputs (0major+1235minor)pagefaults 0swaps\n"
     ]
    },
    {
     "name": "stdout",
     "output_type": "stream",
     "text": [
      "\n",
      "Running exec: lblrtm\n",
      "\n",
      "\n"
     ]
    },
    {
     "name": "stderr",
     "output_type": "stream",
     "text": [
      "Note: The following floating-point exceptions are signalling: IEEE_INVALID_FLAG IEEE_DIVIDE_BY_ZERO IEEE_UNDERFLOW_FLAG IEEE_DENORMAL\n",
      "STOP  LBLRTM EXIT \n",
      "1.47user 1.76system 0:07.30elapsed 44%CPU (0avgtext+0avgdata 7792maxresident)k\n",
      "0inputs+0outputs (0major+1239minor)pagefaults 0swaps\n"
     ]
    },
    {
     "name": "stdout",
     "output_type": "stream",
     "text": [
      "1332615\n",
      "humidity: 50.0\n",
      " pressure: 10000.0\n",
      " temperature: 300.0\n",
      " lat: 35.09666666666667\n",
      " elevation: 2.198000000000354\n",
      " freqmin(cm-1): 10509.73381181498\n",
      " freqmax(cm-1): 14316.392269148173\n",
      " angle: 59.87903794895467\n",
      "\n",
      "\n",
      "Running exec: lblrtm\n",
      "\n",
      "\n"
     ]
    },
    {
     "name": "stderr",
     "output_type": "stream",
     "text": [
      "Note: The following floating-point exceptions are signalling: IEEE_INVALID_FLAG IEEE_DIVIDE_BY_ZERO IEEE_UNDERFLOW_FLAG IEEE_DENORMAL\n",
      "STOP  LBLRTM EXIT \n",
      "2.03user 1.83system 0:07.77elapsed 49%CPU (0avgtext+0avgdata 7684maxresident)k\n",
      "0inputs+0outputs (0major+1238minor)pagefaults 0swaps\n"
     ]
    },
    {
     "name": "stdout",
     "output_type": "stream",
     "text": [
      "\n",
      "Running exec: lblrtm\n",
      "\n",
      "\n"
     ]
    },
    {
     "name": "stderr",
     "output_type": "stream",
     "text": [
      "Note: The following floating-point exceptions are signalling: IEEE_INVALID_FLAG IEEE_DIVIDE_BY_ZERO IEEE_UNDERFLOW_FLAG IEEE_DENORMAL\n",
      "STOP  LBLRTM EXIT \n",
      "1.50user 1.74system 0:05.80elapsed 56%CPU (0avgtext+0avgdata 7572maxresident)k\n",
      "0inputs+0outputs (0major+1234minor)pagefaults 0swaps\n"
     ]
    },
    {
     "name": "stdout",
     "output_type": "stream",
     "text": [
      "1332615\n",
      "humidity: 50.0\n",
      " pressure: 10000.0\n",
      " temperature: 300.0\n",
      " lat: 35.09666666666667\n",
      " elevation: 2.198000000000354\n",
      " freqmin(cm-1): 10509.73381181498\n",
      " freqmax(cm-1): 14316.392269148173\n",
      " angle: 34.28405220813725\n",
      "\n",
      "\n",
      "Running exec: lblrtm\n",
      "\n",
      "\n"
     ]
    },
    {
     "name": "stderr",
     "output_type": "stream",
     "text": [
      "Note: The following floating-point exceptions are signalling: IEEE_INVALID_FLAG IEEE_DIVIDE_BY_ZERO IEEE_UNDERFLOW_FLAG IEEE_DENORMAL\n",
      "STOP  LBLRTM EXIT \n",
      "1.99user 1.80system 0:10.13elapsed 37%CPU (0avgtext+0avgdata 7636maxresident)k\n",
      "0inputs+0outputs (0major+1237minor)pagefaults 0swaps\n"
     ]
    },
    {
     "name": "stdout",
     "output_type": "stream",
     "text": [
      "\n",
      "Running exec: lblrtm\n",
      "\n",
      "\n"
     ]
    },
    {
     "name": "stderr",
     "output_type": "stream",
     "text": [
      "Note: The following floating-point exceptions are signalling: IEEE_INVALID_FLAG IEEE_DIVIDE_BY_ZERO IEEE_UNDERFLOW_FLAG IEEE_DENORMAL\n",
      "STOP  LBLRTM EXIT \n",
      "1.48user 1.76system 0:07.51elapsed 43%CPU (0avgtext+0avgdata 7668maxresident)k\n",
      "0inputs+0outputs (0major+1234minor)pagefaults 0swaps\n"
     ]
    },
    {
     "name": "stdout",
     "output_type": "stream",
     "text": [
      "1332615\n",
      "humidity: 50.0\n",
      " pressure: 10000.0\n",
      " temperature: 300.0\n",
      " lat: 35.09666666666667\n",
      " elevation: 2.198000000000354\n",
      " freqmin(cm-1): 10509.73381181498\n",
      " freqmax(cm-1): 14316.392269148173\n",
      " angle: 57.049338052947554\n",
      "\n",
      "\n",
      "Running exec: lblrtm\n",
      "\n",
      "\n"
     ]
    },
    {
     "name": "stderr",
     "output_type": "stream",
     "text": [
      "Note: The following floating-point exceptions are signalling: IEEE_INVALID_FLAG IEEE_DIVIDE_BY_ZERO IEEE_UNDERFLOW_FLAG IEEE_DENORMAL\n",
      "STOP  LBLRTM EXIT \n",
      "1.99user 1.84system 0:09.26elapsed 41%CPU (0avgtext+0avgdata 7620maxresident)k\n",
      "0inputs+0outputs (0major+1234minor)pagefaults 0swaps\n"
     ]
    },
    {
     "name": "stdout",
     "output_type": "stream",
     "text": [
      "\n",
      "Running exec: lblrtm\n",
      "\n",
      "\n"
     ]
    },
    {
     "name": "stderr",
     "output_type": "stream",
     "text": [
      "Note: The following floating-point exceptions are signalling: IEEE_INVALID_FLAG IEEE_DIVIDE_BY_ZERO IEEE_UNDERFLOW_FLAG IEEE_DENORMAL\n",
      "STOP  LBLRTM EXIT \n",
      "1.48user 1.75system 0:07.07elapsed 45%CPU (0avgtext+0avgdata 7792maxresident)k\n",
      "0inputs+0outputs (0major+1238minor)pagefaults 0swaps\n"
     ]
    },
    {
     "name": "stdout",
     "output_type": "stream",
     "text": [
      "1332615\n",
      "humidity: 50.0\n",
      " pressure: 10000.0\n",
      " temperature: 300.0\n",
      " lat: 35.09666666666667\n",
      " elevation: 2.198000000000354\n",
      " freqmin(cm-1): 10509.73381181498\n",
      " freqmax(cm-1): 14316.392269148173\n",
      " angle: 13.813932021156777\n",
      "\n",
      "\n",
      "Running exec: lblrtm\n",
      "\n",
      "\n"
     ]
    },
    {
     "name": "stderr",
     "output_type": "stream",
     "text": [
      "Note: The following floating-point exceptions are signalling: IEEE_INVALID_FLAG IEEE_DIVIDE_BY_ZERO IEEE_UNDERFLOW_FLAG IEEE_DENORMAL\n",
      "STOP  LBLRTM EXIT \n",
      "1.94user 1.85system 0:10.90elapsed 34%CPU (0avgtext+0avgdata 7636maxresident)k\n",
      "0inputs+0outputs (0major+1236minor)pagefaults 0swaps\n"
     ]
    },
    {
     "name": "stdout",
     "output_type": "stream",
     "text": [
      "\n",
      "Running exec: lblrtm\n",
      "\n",
      "\n"
     ]
    },
    {
     "name": "stderr",
     "output_type": "stream",
     "text": [
      "Note: The following floating-point exceptions are signalling: IEEE_INVALID_FLAG IEEE_DIVIDE_BY_ZERO IEEE_UNDERFLOW_FLAG IEEE_DENORMAL\n",
      "STOP  LBLRTM EXIT \n",
      "1.48user 1.75system 0:07.43elapsed 43%CPU (0avgtext+0avgdata 7516maxresident)k\n",
      "0inputs+0outputs (0major+1234minor)pagefaults 0swaps\n"
     ]
    },
    {
     "name": "stdout",
     "output_type": "stream",
     "text": [
      "1332615\n",
      "humidity: 50.0\n",
      " pressure: 10000.0\n",
      " temperature: 300.0\n",
      " lat: 35.09666666666667\n",
      " elevation: 2.198000000000354\n",
      " freqmin(cm-1): 10509.73381181498\n",
      " freqmax(cm-1): 14316.392269148173\n",
      " angle: 61.45182335030382\n",
      "\n",
      "\n",
      "Running exec: lblrtm\n",
      "\n",
      "\n"
     ]
    },
    {
     "name": "stderr",
     "output_type": "stream",
     "text": [
      "Note: The following floating-point exceptions are signalling: IEEE_INVALID_FLAG IEEE_DIVIDE_BY_ZERO IEEE_UNDERFLOW_FLAG IEEE_DENORMAL\n",
      "STOP  LBLRTM EXIT \n",
      "1.96user 1.84system 0:08.48elapsed 44%CPU (0avgtext+0avgdata 7720maxresident)k\n",
      "0inputs+0outputs (0major+1234minor)pagefaults 0swaps\n"
     ]
    },
    {
     "name": "stdout",
     "output_type": "stream",
     "text": [
      "\n",
      "Running exec: lblrtm\n",
      "\n",
      "\n"
     ]
    },
    {
     "name": "stderr",
     "output_type": "stream",
     "text": [
      "Note: The following floating-point exceptions are signalling: IEEE_INVALID_FLAG IEEE_DIVIDE_BY_ZERO IEEE_UNDERFLOW_FLAG IEEE_DENORMAL\n",
      "STOP  LBLRTM EXIT \n",
      "1.48user 1.75system 0:06.11elapsed 52%CPU (0avgtext+0avgdata 7688maxresident)k\n",
      "0inputs+0outputs (0major+1237minor)pagefaults 0swaps\n"
     ]
    },
    {
     "name": "stdout",
     "output_type": "stream",
     "text": [
      "1332615\n",
      "humidity: 50.0\n",
      " pressure: 10000.0\n",
      " temperature: 300.0\n",
      " lat: 35.09666666666667\n",
      " elevation: 2.198000000000354\n",
      " freqmin(cm-1): 10509.73381181498\n",
      " freqmax(cm-1): 14316.392269148173\n",
      " angle: 28.01367339271228\n",
      "\n",
      "\n",
      "Running exec: lblrtm\n",
      "\n",
      "\n"
     ]
    },
    {
     "name": "stderr",
     "output_type": "stream",
     "text": [
      "Note: The following floating-point exceptions are signalling: IEEE_INVALID_FLAG IEEE_DIVIDE_BY_ZERO IEEE_UNDERFLOW_FLAG IEEE_DENORMAL\n",
      "STOP  LBLRTM EXIT \n",
      "1.95user 1.86system 0:08.45elapsed 45%CPU (0avgtext+0avgdata 7672maxresident)k\n",
      "0inputs+0outputs (0major+1235minor)pagefaults 0swaps\n"
     ]
    },
    {
     "name": "stdout",
     "output_type": "stream",
     "text": [
      "\n",
      "Running exec: lblrtm\n",
      "\n",
      "\n"
     ]
    },
    {
     "name": "stderr",
     "output_type": "stream",
     "text": [
      "Note: The following floating-point exceptions are signalling: IEEE_INVALID_FLAG IEEE_DIVIDE_BY_ZERO IEEE_UNDERFLOW_FLAG IEEE_DENORMAL\n",
      "STOP  LBLRTM EXIT \n",
      "1.43user 1.78system 0:07.01elapsed 45%CPU (0avgtext+0avgdata 7792maxresident)k\n",
      "0inputs+0outputs (0major+1238minor)pagefaults 0swaps\n"
     ]
    },
    {
     "name": "stdout",
     "output_type": "stream",
     "text": [
      "1332615\n",
      "humidity: 50.0\n",
      " pressure: 10000.0\n",
      " temperature: 300.0\n",
      " lat: 35.09666666666667\n",
      " elevation: 2.198000000000354\n",
      " freqmin(cm-1): 10509.73381181498\n",
      " freqmax(cm-1): 14316.392269148173\n",
      " angle: 41.51215397677257\n",
      "\n",
      "\n",
      "Running exec: lblrtm\n",
      "\n",
      "\n"
     ]
    },
    {
     "name": "stderr",
     "output_type": "stream",
     "text": [
      "Note: The following floating-point exceptions are signalling: IEEE_INVALID_FLAG IEEE_DIVIDE_BY_ZERO IEEE_UNDERFLOW_FLAG IEEE_DENORMAL\n",
      "STOP  LBLRTM EXIT \n",
      "2.00user 1.84system 0:08.36elapsed 46%CPU (0avgtext+0avgdata 7748maxresident)k\n",
      "0inputs+0outputs (0major+1235minor)pagefaults 0swaps\n"
     ]
    },
    {
     "name": "stdout",
     "output_type": "stream",
     "text": [
      "\n",
      "Running exec: lblrtm\n",
      "\n",
      "\n"
     ]
    },
    {
     "name": "stderr",
     "output_type": "stream",
     "text": [
      "Note: The following floating-point exceptions are signalling: IEEE_INVALID_FLAG IEEE_DIVIDE_BY_ZERO IEEE_UNDERFLOW_FLAG IEEE_DENORMAL\n",
      "STOP  LBLRTM EXIT \n",
      "1.49user 1.74system 0:05.12elapsed 63%CPU (0avgtext+0avgdata 7636maxresident)k\n",
      "0inputs+0outputs (0major+1236minor)pagefaults 0swaps\n"
     ]
    },
    {
     "name": "stdout",
     "output_type": "stream",
     "text": [
      "1332615\n",
      "humidity: 50.0\n",
      " pressure: 10000.0\n",
      " temperature: 300.0\n",
      " lat: 35.09666666666667\n",
      " elevation: 2.198000000000354\n",
      " freqmin(cm-1): 10509.73381181498\n",
      " freqmax(cm-1): 14316.392269148173\n",
      " angle: 9.240776626134643\n",
      "\n",
      "\n",
      "Running exec: lblrtm\n",
      "\n",
      "\n"
     ]
    },
    {
     "name": "stderr",
     "output_type": "stream",
     "text": [
      "Note: The following floating-point exceptions are signalling: IEEE_INVALID_FLAG IEEE_DIVIDE_BY_ZERO IEEE_UNDERFLOW_FLAG IEEE_DENORMAL\n",
      "STOP  LBLRTM EXIT \n",
      "1.97user 1.81system 0:07.49elapsed 50%CPU (0avgtext+0avgdata 7660maxresident)k\n",
      "0inputs+0outputs (0major+1239minor)pagefaults 0swaps\n"
     ]
    },
    {
     "name": "stdout",
     "output_type": "stream",
     "text": [
      "\n",
      "Running exec: lblrtm\n",
      "\n",
      "\n"
     ]
    },
    {
     "name": "stderr",
     "output_type": "stream",
     "text": [
      "Note: The following floating-point exceptions are signalling: IEEE_INVALID_FLAG IEEE_DIVIDE_BY_ZERO IEEE_UNDERFLOW_FLAG IEEE_DENORMAL\n",
      "STOP  LBLRTM EXIT \n",
      "1.44user 1.81system 0:07.04elapsed 46%CPU (0avgtext+0avgdata 7556maxresident)k\n",
      "0inputs+0outputs (0major+1235minor)pagefaults 0swaps\n"
     ]
    },
    {
     "name": "stdout",
     "output_type": "stream",
     "text": [
      "1332615\n",
      "humidity: 50.0\n",
      " pressure: 10000.0\n",
      " temperature: 300.0\n",
      " lat: 35.09666666666667\n",
      " elevation: 2.198000000000354\n",
      " freqmin(cm-1): 10509.73381181498\n",
      " freqmax(cm-1): 14316.392269148173\n",
      " angle: 50.45377300971178\n",
      "\n",
      "\n",
      "Running exec: lblrtm\n",
      "\n",
      "\n"
     ]
    },
    {
     "name": "stderr",
     "output_type": "stream",
     "text": [
      "Note: The following floating-point exceptions are signalling: IEEE_INVALID_FLAG IEEE_DIVIDE_BY_ZERO IEEE_UNDERFLOW_FLAG IEEE_DENORMAL\n",
      "STOP  LBLRTM EXIT \n",
      "1.99user 1.83system 0:09.49elapsed 40%CPU (0avgtext+0avgdata 7752maxresident)k\n",
      "0inputs+0outputs (0major+1239minor)pagefaults 0swaps\n"
     ]
    },
    {
     "name": "stdout",
     "output_type": "stream",
     "text": [
      "\n",
      "Running exec: lblrtm\n",
      "\n",
      "\n"
     ]
    },
    {
     "name": "stderr",
     "output_type": "stream",
     "text": [
      "Note: The following floating-point exceptions are signalling: IEEE_INVALID_FLAG IEEE_DIVIDE_BY_ZERO IEEE_UNDERFLOW_FLAG IEEE_DENORMAL\n",
      "STOP  LBLRTM EXIT \n",
      "1.47user 1.75system 0:07.43elapsed 43%CPU (0avgtext+0avgdata 7792maxresident)k\n",
      "0inputs+0outputs (0major+1238minor)pagefaults 0swaps\n"
     ]
    },
    {
     "name": "stdout",
     "output_type": "stream",
     "text": [
      "1332615\n",
      "humidity: 50.0\n",
      " pressure: 10000.0\n",
      " temperature: 300.0\n",
      " lat: 35.09666666666667\n",
      " elevation: 2.198000000000354\n",
      " freqmin(cm-1): 10509.73381181498\n",
      " freqmax(cm-1): 14316.392269148173\n",
      " angle: 66.50272325408055\n",
      "\n",
      "\n",
      "Running exec: lblrtm\n",
      "\n",
      "\n"
     ]
    },
    {
     "name": "stderr",
     "output_type": "stream",
     "text": [
      "Note: The following floating-point exceptions are signalling: IEEE_INVALID_FLAG IEEE_DIVIDE_BY_ZERO IEEE_UNDERFLOW_FLAG IEEE_DENORMAL\n",
      "STOP  LBLRTM EXIT \n",
      "2.04user 1.80system 0:07.12elapsed 54%CPU (0avgtext+0avgdata 7560maxresident)k\n",
      "0inputs+0outputs (0major+1234minor)pagefaults 0swaps\n"
     ]
    },
    {
     "name": "stdout",
     "output_type": "stream",
     "text": [
      "\n",
      "Running exec: lblrtm\n",
      "\n",
      "\n"
     ]
    },
    {
     "name": "stderr",
     "output_type": "stream",
     "text": [
      "Note: The following floating-point exceptions are signalling: IEEE_INVALID_FLAG IEEE_DIVIDE_BY_ZERO IEEE_UNDERFLOW_FLAG IEEE_DENORMAL\n",
      "STOP  LBLRTM EXIT \n",
      "1.52user 1.76system 0:06.57elapsed 49%CPU (0avgtext+0avgdata 7548maxresident)k\n",
      "0inputs+0outputs (0major+1234minor)pagefaults 0swaps\n"
     ]
    },
    {
     "name": "stdout",
     "output_type": "stream",
     "text": [
      "1332615\n",
      "humidity: 50.0\n",
      " pressure: 10000.0\n",
      " temperature: 300.0\n",
      " lat: 35.09666666666667\n",
      " elevation: 2.198000000000354\n",
      " freqmin(cm-1): 10509.73381181498\n",
      " freqmax(cm-1): 14316.392269148173\n",
      " angle: 47.40733099810307\n",
      "\n",
      "\n",
      "Running exec: lblrtm\n",
      "\n",
      "\n"
     ]
    },
    {
     "name": "stderr",
     "output_type": "stream",
     "text": [
      "Note: The following floating-point exceptions are signalling: IEEE_INVALID_FLAG IEEE_DIVIDE_BY_ZERO IEEE_UNDERFLOW_FLAG IEEE_DENORMAL\n",
      "STOP  LBLRTM EXIT \n",
      "1.98user 1.85system 0:07.82elapsed 49%CPU (0avgtext+0avgdata 7636maxresident)k\n",
      "0inputs+0outputs (0major+1236minor)pagefaults 0swaps\n"
     ]
    },
    {
     "name": "stdout",
     "output_type": "stream",
     "text": [
      "\n",
      "Running exec: lblrtm\n",
      "\n",
      "\n"
     ]
    },
    {
     "name": "stderr",
     "output_type": "stream",
     "text": [
      "Note: The following floating-point exceptions are signalling: IEEE_INVALID_FLAG IEEE_DIVIDE_BY_ZERO IEEE_UNDERFLOW_FLAG IEEE_DENORMAL\n",
      "STOP  LBLRTM EXIT \n",
      "1.49user 1.77system 0:06.32elapsed 51%CPU (0avgtext+0avgdata 7556maxresident)k\n",
      "0inputs+0outputs (0major+1234minor)pagefaults 0swaps\n"
     ]
    },
    {
     "name": "stdout",
     "output_type": "stream",
     "text": [
      "1332615\n",
      "humidity: 50.0\n",
      " pressure: 10000.0\n",
      " temperature: 300.0\n",
      " lat: 35.09666666666667\n",
      " elevation: 2.198000000000354\n",
      " freqmin(cm-1): 10509.73381181498\n",
      " freqmax(cm-1): 14316.392269148173\n",
      " angle: 8.567373478697155\n",
      "\n",
      "\n",
      "Running exec: lblrtm\n",
      "\n",
      "\n"
     ]
    },
    {
     "name": "stderr",
     "output_type": "stream",
     "text": [
      "Note: The following floating-point exceptions are signalling: IEEE_INVALID_FLAG IEEE_DIVIDE_BY_ZERO IEEE_UNDERFLOW_FLAG IEEE_DENORMAL\n",
      "STOP  LBLRTM EXIT \n",
      "1.96user 1.85system 0:08.26elapsed 46%CPU (0avgtext+0avgdata 7748maxresident)k\n",
      "0inputs+0outputs (0major+1235minor)pagefaults 0swaps\n"
     ]
    },
    {
     "name": "stdout",
     "output_type": "stream",
     "text": [
      "\n",
      "Running exec: lblrtm\n",
      "\n",
      "\n"
     ]
    },
    {
     "name": "stderr",
     "output_type": "stream",
     "text": [
      "Note: The following floating-point exceptions are signalling: IEEE_INVALID_FLAG IEEE_DIVIDE_BY_ZERO IEEE_UNDERFLOW_FLAG IEEE_DENORMAL\n",
      "STOP  LBLRTM EXIT \n",
      "1.45user 1.77system 0:06.77elapsed 47%CPU (0avgtext+0avgdata 7752maxresident)k\n",
      "0inputs+0outputs (0major+1238minor)pagefaults 0swaps\n"
     ]
    },
    {
     "name": "stdout",
     "output_type": "stream",
     "text": [
      "1332615\n",
      "humidity: 50.0\n",
      " pressure: 10000.0\n",
      " temperature: 300.0\n",
      " lat: 35.09666666666667\n",
      " elevation: 2.198000000000354\n",
      " freqmin(cm-1): 10509.73381181498\n",
      " freqmax(cm-1): 14316.392269148173\n",
      " angle: 14.782472150059622\n",
      "\n",
      "\n",
      "Running exec: lblrtm\n",
      "\n",
      "\n"
     ]
    },
    {
     "name": "stderr",
     "output_type": "stream",
     "text": [
      "Note: The following floating-point exceptions are signalling: IEEE_INVALID_FLAG IEEE_DIVIDE_BY_ZERO IEEE_UNDERFLOW_FLAG IEEE_DENORMAL\n",
      "STOP  LBLRTM EXIT \n",
      "2.03user 1.80system 0:07.96elapsed 48%CPU (0avgtext+0avgdata 7720maxresident)k\n",
      "0inputs+0outputs (0major+1238minor)pagefaults 0swaps\n"
     ]
    },
    {
     "name": "stdout",
     "output_type": "stream",
     "text": [
      "\n",
      "Running exec: lblrtm\n",
      "\n",
      "\n"
     ]
    },
    {
     "name": "stderr",
     "output_type": "stream",
     "text": [
      "Note: The following floating-point exceptions are signalling: IEEE_INVALID_FLAG IEEE_DIVIDE_BY_ZERO IEEE_UNDERFLOW_FLAG IEEE_DENORMAL\n",
      "STOP  LBLRTM EXIT \n",
      "1.47user 1.77system 0:07.22elapsed 44%CPU (0avgtext+0avgdata 7548maxresident)k\n",
      "0inputs+0outputs (0major+1234minor)pagefaults 0swaps\n"
     ]
    },
    {
     "name": "stdout",
     "output_type": "stream",
     "text": [
      "1332615\n",
      "humidity: 50.0\n",
      " pressure: 10000.0\n",
      " temperature: 300.0\n",
      " lat: 35.09666666666667\n",
      " elevation: 2.198000000000354\n",
      " freqmin(cm-1): 10509.73381181498\n",
      " freqmax(cm-1): 14316.392269148173\n",
      " angle: 29.916167683982994\n",
      "\n",
      "\n",
      "Running exec: lblrtm\n",
      "\n",
      "\n"
     ]
    },
    {
     "name": "stderr",
     "output_type": "stream",
     "text": [
      "Note: The following floating-point exceptions are signalling: IEEE_INVALID_FLAG IEEE_DIVIDE_BY_ZERO IEEE_UNDERFLOW_FLAG IEEE_DENORMAL\n",
      "STOP  LBLRTM EXIT \n",
      "1.98user 1.85system 0:06.89elapsed 55%CPU (0avgtext+0avgdata 7712maxresident)k\n",
      "0inputs+0outputs (0major+1238minor)pagefaults 0swaps\n"
     ]
    },
    {
     "name": "stdout",
     "output_type": "stream",
     "text": [
      "\n",
      "Running exec: lblrtm\n",
      "\n",
      "\n"
     ]
    },
    {
     "name": "stderr",
     "output_type": "stream",
     "text": [
      "Note: The following floating-point exceptions are signalling: IEEE_INVALID_FLAG IEEE_DIVIDE_BY_ZERO IEEE_UNDERFLOW_FLAG IEEE_DENORMAL\n",
      "STOP  LBLRTM EXIT \n",
      "1.45user 1.81system 0:05.71elapsed 57%CPU (0avgtext+0avgdata 7712maxresident)k\n",
      "0inputs+0outputs (0major+1237minor)pagefaults 0swaps\n"
     ]
    },
    {
     "name": "stdout",
     "output_type": "stream",
     "text": [
      "1332615\n",
      "humidity: 50.0\n",
      " pressure: 10000.0\n",
      " temperature: 300.0\n",
      " lat: 35.09666666666667\n",
      " elevation: 2.198000000000354\n",
      " freqmin(cm-1): 10509.73381181498\n",
      " freqmax(cm-1): 14316.392269148173\n",
      " angle: 14.468357454527371\n",
      "\n",
      "\n",
      "Running exec: lblrtm\n",
      "\n",
      "\n"
     ]
    },
    {
     "name": "stderr",
     "output_type": "stream",
     "text": [
      "Note: The following floating-point exceptions are signalling: IEEE_INVALID_FLAG IEEE_DIVIDE_BY_ZERO IEEE_UNDERFLOW_FLAG IEEE_DENORMAL\n",
      "STOP  LBLRTM EXIT \n",
      "1.95user 1.84system 0:07.50elapsed 50%CPU (0avgtext+0avgdata 7552maxresident)k\n",
      "0inputs+0outputs (0major+1234minor)pagefaults 0swaps\n"
     ]
    },
    {
     "name": "stdout",
     "output_type": "stream",
     "text": [
      "\n",
      "Running exec: lblrtm\n",
      "\n",
      "\n"
     ]
    },
    {
     "name": "stderr",
     "output_type": "stream",
     "text": [
      "Note: The following floating-point exceptions are signalling: IEEE_INVALID_FLAG IEEE_DIVIDE_BY_ZERO IEEE_UNDERFLOW_FLAG IEEE_DENORMAL\n",
      "STOP  LBLRTM EXIT \n",
      "1.45user 1.79system 0:06.38elapsed 50%CPU (0avgtext+0avgdata 7748maxresident)k\n",
      "0inputs+0outputs (0major+1236minor)pagefaults 0swaps\n"
     ]
    },
    {
     "name": "stdout",
     "output_type": "stream",
     "text": [
      "1332615\n",
      "humidity: 50.0\n",
      " pressure: 10000.0\n",
      " temperature: 300.0\n",
      " lat: 35.09666666666667\n",
      " elevation: 2.198000000000354\n",
      " freqmin(cm-1): 10509.73381181498\n",
      " freqmax(cm-1): 14316.392269148173\n",
      " angle: 47.521881271662686\n",
      "\n",
      "\n",
      "Running exec: lblrtm\n",
      "\n",
      "\n"
     ]
    },
    {
     "name": "stderr",
     "output_type": "stream",
     "text": [
      "Note: The following floating-point exceptions are signalling: IEEE_INVALID_FLAG IEEE_DIVIDE_BY_ZERO IEEE_UNDERFLOW_FLAG IEEE_DENORMAL\n",
      "STOP  LBLRTM EXIT \n",
      "1.97user 1.86system 0:06.63elapsed 57%CPU (0avgtext+0avgdata 7632maxresident)k\n",
      "0inputs+0outputs (0major+1236minor)pagefaults 0swaps\n"
     ]
    },
    {
     "name": "stdout",
     "output_type": "stream",
     "text": [
      "\n",
      "Running exec: lblrtm\n",
      "\n",
      "\n"
     ]
    },
    {
     "name": "stderr",
     "output_type": "stream",
     "text": [
      "Note: The following floating-point exceptions are signalling: IEEE_INVALID_FLAG IEEE_DIVIDE_BY_ZERO IEEE_UNDERFLOW_FLAG IEEE_DENORMAL\n",
      "STOP  LBLRTM EXIT \n",
      "1.45user 1.79system 0:04.94elapsed 65%CPU (0avgtext+0avgdata 7716maxresident)k\n",
      "0inputs+0outputs (0major+1235minor)pagefaults 0swaps\n"
     ]
    },
    {
     "name": "stdout",
     "output_type": "stream",
     "text": [
      "1332615\n",
      "humidity: 50.0\n",
      " pressure: 10000.0\n",
      " temperature: 300.0\n",
      " lat: 35.09666666666667\n",
      " elevation: 2.198000000000354\n",
      " freqmin(cm-1): 10509.73381181498\n",
      " freqmax(cm-1): 14316.392269148173\n",
      " angle: 35.904107279006176\n",
      "\n",
      "\n",
      "Running exec: lblrtm\n",
      "\n",
      "\n"
     ]
    },
    {
     "name": "stderr",
     "output_type": "stream",
     "text": [
      "Note: The following floating-point exceptions are signalling: IEEE_INVALID_FLAG IEEE_DIVIDE_BY_ZERO IEEE_UNDERFLOW_FLAG IEEE_DENORMAL\n",
      "STOP  LBLRTM EXIT \n",
      "1.96user 1.83system 0:06.99elapsed 54%CPU (0avgtext+0avgdata 7720maxresident)k\n",
      "0inputs+0outputs (0major+1238minor)pagefaults 0swaps\n"
     ]
    },
    {
     "name": "stdout",
     "output_type": "stream",
     "text": [
      "\n",
      "Running exec: lblrtm\n",
      "\n",
      "\n"
     ]
    },
    {
     "name": "stderr",
     "output_type": "stream",
     "text": [
      "Note: The following floating-point exceptions are signalling: IEEE_INVALID_FLAG IEEE_DIVIDE_BY_ZERO IEEE_UNDERFLOW_FLAG IEEE_DENORMAL\n",
      "STOP  LBLRTM EXIT \n",
      "1.48user 1.76system 0:05.57elapsed 58%CPU (0avgtext+0avgdata 7604maxresident)k\n",
      "0inputs+0outputs (0major+1234minor)pagefaults 0swaps\n"
     ]
    },
    {
     "name": "stdout",
     "output_type": "stream",
     "text": [
      "1332615\n",
      "humidity: 50.0\n",
      " pressure: 10000.0\n",
      " temperature: 300.0\n",
      " lat: 35.09666666666667\n",
      " elevation: 2.198000000000354\n",
      " freqmin(cm-1): 10509.73381181498\n",
      " freqmax(cm-1): 14316.392269148173\n",
      " angle: 43.288511351895885\n",
      "\n",
      "\n",
      "Running exec: lblrtm\n",
      "\n",
      "\n"
     ]
    },
    {
     "name": "stderr",
     "output_type": "stream",
     "text": [
      "Note: The following floating-point exceptions are signalling: IEEE_INVALID_FLAG IEEE_DIVIDE_BY_ZERO IEEE_UNDERFLOW_FLAG IEEE_DENORMAL\n",
      "STOP  LBLRTM EXIT \n",
      "2.00user 1.84system 0:06.97elapsed 55%CPU (0avgtext+0avgdata 7576maxresident)k\n",
      "0inputs+0outputs (0major+1234minor)pagefaults 0swaps\n"
     ]
    },
    {
     "name": "stdout",
     "output_type": "stream",
     "text": [
      "\n",
      "Running exec: lblrtm\n",
      "\n",
      "\n"
     ]
    },
    {
     "name": "stderr",
     "output_type": "stream",
     "text": [
      "Note: The following floating-point exceptions are signalling: IEEE_INVALID_FLAG IEEE_DIVIDE_BY_ZERO IEEE_UNDERFLOW_FLAG IEEE_DENORMAL\n",
      "STOP  LBLRTM EXIT \n",
      "1.48user 1.79system 0:04.53elapsed 72%CPU (0avgtext+0avgdata 7748maxresident)k\n",
      "0inputs+0outputs (0major+1236minor)pagefaults 0swaps\n"
     ]
    },
    {
     "name": "stdout",
     "output_type": "stream",
     "text": [
      "1332615\n",
      "humidity: 50.0\n",
      " pressure: 10000.0\n",
      " temperature: 300.0\n",
      " lat: 35.09666666666667\n",
      " elevation: 2.198000000000354\n",
      " freqmin(cm-1): 10509.73381181498\n",
      " freqmax(cm-1): 14316.392269148173\n",
      " angle: 32.8000252102742\n",
      "\n",
      "\n",
      "Running exec: lblrtm\n",
      "\n",
      "\n"
     ]
    },
    {
     "name": "stderr",
     "output_type": "stream",
     "text": [
      "Note: The following floating-point exceptions are signalling: IEEE_INVALID_FLAG IEEE_DIVIDE_BY_ZERO IEEE_UNDERFLOW_FLAG IEEE_DENORMAL\n",
      "STOP  LBLRTM EXIT \n",
      "1.95user 1.85system 0:06.23elapsed 61%CPU (0avgtext+0avgdata 7560maxresident)k\n",
      "0inputs+0outputs (0major+1234minor)pagefaults 0swaps\n"
     ]
    },
    {
     "name": "stdout",
     "output_type": "stream",
     "text": [
      "\n",
      "Running exec: lblrtm\n",
      "\n",
      "\n"
     ]
    },
    {
     "name": "stderr",
     "output_type": "stream",
     "text": [
      "Note: The following floating-point exceptions are signalling: IEEE_INVALID_FLAG IEEE_DIVIDE_BY_ZERO IEEE_UNDERFLOW_FLAG IEEE_DENORMAL\n",
      "STOP  LBLRTM EXIT \n",
      "1.48user 1.76system 0:05.79elapsed 56%CPU (0avgtext+0avgdata 7732maxresident)k\n",
      "0inputs+0outputs (0major+1238minor)pagefaults 0swaps\n"
     ]
    },
    {
     "name": "stdout",
     "output_type": "stream",
     "text": [
      "1332615\n",
      "humidity: 50.0\n",
      " pressure: 10000.0\n",
      " temperature: 300.0\n",
      " lat: 35.09666666666667\n",
      " elevation: 2.198000000000354\n",
      " freqmin(cm-1): 10509.73381181498\n",
      " freqmax(cm-1): 14316.392269148173\n",
      " angle: 39.04462717362295\n",
      "\n",
      "\n",
      "Running exec: lblrtm\n",
      "\n",
      "\n"
     ]
    },
    {
     "name": "stderr",
     "output_type": "stream",
     "text": [
      "Note: The following floating-point exceptions are signalling: IEEE_INVALID_FLAG IEEE_DIVIDE_BY_ZERO IEEE_UNDERFLOW_FLAG IEEE_DENORMAL\n",
      "STOP  LBLRTM EXIT \n",
      "1.98user 1.84system 0:06.72elapsed 56%CPU (0avgtext+0avgdata 7672maxresident)k\n",
      "0inputs+0outputs (0major+1235minor)pagefaults 0swaps\n"
     ]
    },
    {
     "name": "stdout",
     "output_type": "stream",
     "text": [
      "\n",
      "Running exec: lblrtm\n",
      "\n",
      "\n"
     ]
    },
    {
     "name": "stderr",
     "output_type": "stream",
     "text": [
      "Note: The following floating-point exceptions are signalling: IEEE_INVALID_FLAG IEEE_DIVIDE_BY_ZERO IEEE_UNDERFLOW_FLAG IEEE_DENORMAL\n",
      "STOP  LBLRTM EXIT \n",
      "1.45user 1.78system 0:05.71elapsed 56%CPU (0avgtext+0avgdata 7720maxresident)k\n",
      "0inputs+0outputs (0major+1235minor)pagefaults 0swaps\n"
     ]
    },
    {
     "name": "stdout",
     "output_type": "stream",
     "text": [
      "1332615\n",
      "humidity: 50.0\n",
      " pressure: 10000.0\n",
      " temperature: 300.0\n",
      " lat: 35.09666666666667\n",
      " elevation: 2.198000000000354\n",
      " freqmin(cm-1): 10509.73381181498\n",
      " freqmax(cm-1): 14316.392269148173\n",
      " angle: 32.17888125686679\n",
      "\n",
      "\n",
      "Running exec: lblrtm\n",
      "\n",
      "\n"
     ]
    },
    {
     "name": "stderr",
     "output_type": "stream",
     "text": [
      "Note: The following floating-point exceptions are signalling: IEEE_INVALID_FLAG IEEE_DIVIDE_BY_ZERO IEEE_UNDERFLOW_FLAG IEEE_DENORMAL\n",
      "STOP  LBLRTM EXIT \n",
      "1.98user 1.85system 0:05.80elapsed 65%CPU (0avgtext+0avgdata 7684maxresident)k\n",
      "0inputs+0outputs (0major+1238minor)pagefaults 0swaps\n"
     ]
    },
    {
     "name": "stdout",
     "output_type": "stream",
     "text": [
      "\n",
      "Running exec: lblrtm\n",
      "\n",
      "\n"
     ]
    },
    {
     "name": "stderr",
     "output_type": "stream",
     "text": [
      "Note: The following floating-point exceptions are signalling: IEEE_INVALID_FLAG IEEE_DIVIDE_BY_ZERO IEEE_UNDERFLOW_FLAG IEEE_DENORMAL\n",
      "STOP  LBLRTM EXIT \n",
      "1.50user 1.75system 0:05.33elapsed 60%CPU (0avgtext+0avgdata 7700maxresident)k\n",
      "0inputs+0outputs (0major+1236minor)pagefaults 0swaps\n"
     ]
    },
    {
     "name": "stdout",
     "output_type": "stream",
     "text": [
      "1332615\n",
      "humidity: 50.0\n",
      " pressure: 10000.0\n",
      " temperature: 300.0\n",
      " lat: 35.09666666666667\n",
      " elevation: 2.198000000000354\n",
      " freqmin(cm-1): 10509.73381181498\n",
      " freqmax(cm-1): 14316.392269148173\n",
      " angle: 55.21054773501998\n",
      "\n",
      "\n",
      "Running exec: lblrtm\n",
      "\n",
      "\n"
     ]
    },
    {
     "name": "stderr",
     "output_type": "stream",
     "text": [
      "Note: The following floating-point exceptions are signalling: IEEE_INVALID_FLAG IEEE_DIVIDE_BY_ZERO IEEE_UNDERFLOW_FLAG IEEE_DENORMAL\n",
      "STOP  LBLRTM EXIT \n",
      "2.02user 1.80system 0:05.81elapsed 65%CPU (0avgtext+0avgdata 7748maxresident)k\n",
      "0inputs+0outputs (0major+1235minor)pagefaults 0swaps\n"
     ]
    },
    {
     "name": "stdout",
     "output_type": "stream",
     "text": [
      "\n",
      "Running exec: lblrtm\n",
      "\n",
      "\n"
     ]
    },
    {
     "name": "stderr",
     "output_type": "stream",
     "text": [
      "Note: The following floating-point exceptions are signalling: IEEE_INVALID_FLAG IEEE_DIVIDE_BY_ZERO IEEE_UNDERFLOW_FLAG IEEE_DENORMAL\n",
      "STOP  LBLRTM EXIT \n",
      "1.45user 1.77system 0:05.45elapsed 59%CPU (0avgtext+0avgdata 7672maxresident)k\n",
      "0inputs+0outputs (0major+1235minor)pagefaults 0swaps\n"
     ]
    },
    {
     "name": "stdout",
     "output_type": "stream",
     "text": [
      "1332615\n",
      "humidity: 50.0\n",
      " pressure: 10000.0\n",
      " temperature: 300.0\n",
      " lat: 35.09666666666667\n",
      " elevation: 2.198000000000354\n",
      " freqmin(cm-1): 10509.73381181498\n",
      " freqmax(cm-1): 14316.392269148173\n",
      " angle: 17.62066088234454\n",
      "\n",
      "\n",
      "Running exec: lblrtm\n",
      "\n",
      "\n"
     ]
    },
    {
     "name": "stderr",
     "output_type": "stream",
     "text": [
      "Note: The following floating-point exceptions are signalling: IEEE_INVALID_FLAG IEEE_DIVIDE_BY_ZERO IEEE_UNDERFLOW_FLAG IEEE_DENORMAL\n",
      "STOP  LBLRTM EXIT \n",
      "1.94user 1.83system 0:07.10elapsed 53%CPU (0avgtext+0avgdata 7752maxresident)k\n",
      "0inputs+0outputs (0major+1238minor)pagefaults 0swaps\n"
     ]
    },
    {
     "name": "stdout",
     "output_type": "stream",
     "text": [
      "\n",
      "Running exec: lblrtm\n",
      "\n",
      "\n"
     ]
    },
    {
     "name": "stderr",
     "output_type": "stream",
     "text": [
      "Note: The following floating-point exceptions are signalling: IEEE_INVALID_FLAG IEEE_DIVIDE_BY_ZERO IEEE_UNDERFLOW_FLAG IEEE_DENORMAL\n",
      "STOP  LBLRTM EXIT \n",
      "1.47user 1.76system 0:05.85elapsed 55%CPU (0avgtext+0avgdata 7672maxresident)k\n",
      "0inputs+0outputs (0major+1234minor)pagefaults 0swaps\n"
     ]
    },
    {
     "name": "stdout",
     "output_type": "stream",
     "text": [
      "1332615\n",
      "humidity: 50.0\n",
      " pressure: 10000.0\n",
      " temperature: 300.0\n",
      " lat: 35.09666666666667\n",
      " elevation: 2.198000000000354\n",
      " freqmin(cm-1): 10509.73381181498\n",
      " freqmax(cm-1): 14316.392269148173\n",
      " angle: 61.66555563575567\n",
      "\n",
      "\n",
      "Running exec: lblrtm\n",
      "\n",
      "\n"
     ]
    },
    {
     "name": "stderr",
     "output_type": "stream",
     "text": [
      "Note: The following floating-point exceptions are signalling: IEEE_INVALID_FLAG IEEE_DIVIDE_BY_ZERO IEEE_UNDERFLOW_FLAG IEEE_DENORMAL\n",
      "STOP  LBLRTM EXIT \n",
      "2.01user 1.79system 0:06.94elapsed 54%CPU (0avgtext+0avgdata 7688maxresident)k\n",
      "0inputs+0outputs (0major+1237minor)pagefaults 0swaps\n"
     ]
    },
    {
     "name": "stdout",
     "output_type": "stream",
     "text": [
      "\n",
      "Running exec: lblrtm\n",
      "\n",
      "\n"
     ]
    },
    {
     "name": "stderr",
     "output_type": "stream",
     "text": [
      "Note: The following floating-point exceptions are signalling: IEEE_INVALID_FLAG IEEE_DIVIDE_BY_ZERO IEEE_UNDERFLOW_FLAG IEEE_DENORMAL\n",
      "STOP  LBLRTM EXIT \n",
      "1.46user 1.80system 0:05.15elapsed 63%CPU (0avgtext+0avgdata 7572maxresident)k\n",
      "0inputs+0outputs (0major+1235minor)pagefaults 0swaps\n"
     ]
    },
    {
     "name": "stdout",
     "output_type": "stream",
     "text": [
      "1332615\n",
      "humidity: 50.0\n",
      " pressure: 10000.0\n",
      " temperature: 300.0\n",
      " lat: 35.09666666666667\n",
      " elevation: 2.198000000000354\n",
      " freqmin(cm-1): 10509.73381181498\n",
      " freqmax(cm-1): 14316.392269148173\n",
      " angle: 12.009229830239954\n",
      "\n",
      "\n",
      "Running exec: lblrtm\n",
      "\n",
      "\n"
     ]
    },
    {
     "name": "stderr",
     "output_type": "stream",
     "text": [
      "Note: The following floating-point exceptions are signalling: IEEE_INVALID_FLAG IEEE_DIVIDE_BY_ZERO IEEE_UNDERFLOW_FLAG IEEE_DENORMAL\n",
      "STOP  LBLRTM EXIT \n",
      "1.98user 1.84system 0:06.08elapsed 62%CPU (0avgtext+0avgdata 7628maxresident)k\n",
      "0inputs+0outputs (0major+1234minor)pagefaults 0swaps\n"
     ]
    },
    {
     "name": "stdout",
     "output_type": "stream",
     "text": [
      "\n",
      "Running exec: lblrtm\n",
      "\n",
      "\n"
     ]
    },
    {
     "name": "stderr",
     "output_type": "stream",
     "text": [
      "Note: The following floating-point exceptions are signalling: IEEE_INVALID_FLAG IEEE_DIVIDE_BY_ZERO IEEE_UNDERFLOW_FLAG IEEE_DENORMAL\n",
      "STOP  LBLRTM EXIT \n",
      "1.45user 1.82system 0:04.91elapsed 66%CPU (0avgtext+0avgdata 7816maxresident)k\n",
      "0inputs+0outputs (0major+1239minor)pagefaults 0swaps\n"
     ]
    },
    {
     "name": "stdout",
     "output_type": "stream",
     "text": [
      "1332615\n",
      "<simulacra.tellurics.TelFitModel object at 0x151ae2c480b8> [1.6178939077349241e-06, 2.3041914776200656e-07, 2.3041914776200656e-07, 2.3041914776200656e-07, 2.3041914776200656e-07, 2.3041914776200656e-07, 2.3041914776200656e-07, 2.3041914776200656e-07, 2.3041914776200656e-07, 2.3041914776200656e-07, 2.3041914776200656e-07, 2.3041914776200656e-07, 2.3041914776200656e-07, 2.3041914776200656e-07, 2.3041914776200656e-07, 2.3041914776200656e-07, 2.3041914776200656e-07, 2.3041914776200656e-07, 2.3041914776200656e-07, 2.3041914776200656e-07, 2.3041914776200656e-07, 2.3041914776200656e-07, 2.3041914776200656e-07, 2.3041914776200656e-07, 2.3041914776200656e-07, 2.3041914776200656e-07, 2.3041914776200656e-07, 2.3041914776200656e-07, 2.3041914776200656e-07, 2.3041914776200656e-07, 2.3041914776200656e-07]\n",
      "interpolating spline...\n",
      "combining grids...\n",
      "convolving...\n",
      "0\n",
      "1\n",
      "2\n",
      "3\n",
      "4\n",
      "5\n",
      "6\n",
      "7\n",
      "8\n",
      "9\n",
      "10\n",
      "11\n",
      "12\n",
      "13\n",
      "14\n",
      "15\n",
      "16\n",
      "17\n",
      "18\n",
      "19\n",
      "20\n",
      "21\n",
      "22\n",
      "23\n",
      "24\n",
      "25\n",
      "26\n",
      "27\n",
      "28\n",
      "29\n",
      "xs: 6994.999999999997 9504.987597062134\n",
      "xhat: 6999.999999999999 9499.988846585304\n",
      "interpolating lanczos...\n",
      "0\n",
      "1\n",
      "2\n",
      "3\n",
      "4\n",
      "5\n",
      "6\n",
      "7\n",
      "8\n",
      "9\n",
      "10\n",
      "11\n",
      "12\n",
      "13\n",
      "14\n",
      "15\n",
      "16\n",
      "17\n",
      "18\n",
      "19\n",
      "20\n",
      "21\n",
      "22\n",
      "23\n",
      "24\n",
      "25\n",
      "26\n",
      "27\n",
      "28\n",
      "29\n"
     ]
    }
   ],
   "source": [
    "sigma = 200\n",
    "n_plots = 4\n",
    "plt_unit = u.Angstrom\n",
    "sort_times = np.argsort(obs_times)\n",
    "\n",
    "# fig, axes = plt.subplots(len(distances),figsize=(10 * len(distances),10 * n_plots),sharex=True,sharey=True)\n",
    "# fig.text(0.5, 0.04, 'Wavelength [{}]'.format(plt_unit), ha='center', va='center')\n",
    "# fig.text(0.06, 0.5, 'Flux', ha='center', va='center', rotation='vertical')\n",
    "\n",
    "# fig_rv, ax_rvs = plt.subplots(len(distances),2,figsize=(20 * len(distances),10 * 2))\n",
    "\n",
    "for i,distance in enumerate(distances):\n",
    "    stellar_model = PhoenixModel(distance,alpha,z,T,logg,target,amplitude,period)\n",
    "\n",
    "    \n",
    "    detector = simulacra.detector.Detector(stellar_model,**det_dict)\n",
    "    \n",
    "    tellurics_model = simulacra.tellurics.TelFitModel(detector.lambmin,detector.lambmax,loc)\n",
    "    detector.add_model(tellurics_model)\n",
    "    data = detector.simulate(obs_times,exp_times)\n",
    "    \n",
    "    filename = os.path.join(outdir,'expres_e{}_d{}_R{}_a{}_p{}_l{:3.1e}{:3.1e}_snr{:2.1e}'.format(epoches,distance.to(u.pc).value,det_dict['resolution'],\\\n",
    "                                                                amplitude.to(u.m/u.s).value,\\\n",
    "                                                                period.to(u.day).value,\\\n",
    "                                                                detector.lambmin.value,\\\n",
    "                                                                detector.lambmax.value,\\\n",
    "                                                                np.mean(data['data']['snr_readout'][~np.isnan(data['data']['snr_readout'])])))\n",
    "    print(filename)\n",
    "    data.to_h5(filename + '.h5')\n",
    "    # Defining and plotting flux from star on detector\n",
    "    j = 1\n",
    "    print('{:3.2e}'.format(np.mean(data['data']['flux'][j,:])),'{:3.2e}'.format(np.mean(data['data']['ferr'][j,:])))\n",
    "#     flux, ferr = normalize(data['data']['flux'][j,:],data['data']['ferr'][j,:],sigma)\n",
    "#     axes[i].errorbar(np.log(data['data']['wave'].to(u.Angstrom).value),flux,yerr=ferr,fmt='.k',alpha=0.5)\n",
    "#     #     data.plot_data(axes[i],sort_times[i],xy='x',units=plt_unit)\n",
    "#     #     data.plot_tellurics(axes[i],sort_times[i],xy='x',units=plt_unit)#,normalize=normalize,nargs=[sigma]\n",
    "#     #     data.plot_gas(axes[i],sort_times[i],xy='x',units=plt_unit)\n",
    "#     #     data.plot_theory(axes[i],sort_times[i],xy='x',units=plt_unit)\n",
    "#     #     data.plot_lsf(axes[i],sort_times[i],xy='x',units=plt_unit)\n",
    "#     #     data.plot_star(axes[i],sort_times[i],xy='x',units=plt_unit)\n",
    "#     # plt.savefig('out/datatest5.png')\n",
    "    \n",
    "#     times = at.Time([obs_times[k] + exp_times[k]/2 for k in range(len(obs_times))])\n",
    "#     rv = data['data']['rvs'].to(u.km/u.s)\n",
    "#     bc = target.radial_velocity_correction(obstime=times,location=loc).to(u.km/u.s)\n",
    "#     eprv = rv - bc\n",
    "\n",
    "#     v_unit = u.m/u.s\n",
    "# #     ax_rvs[i,0].set_ylim(-2.1,2.1)\n",
    "#     ax_rvs[i,0].plot((times - min(times)).to(u.day).value % period.to(u.day).value,eprv.to(v_unit).value,'.r')\n",
    "#     ax_rvs[i,0].set_xlabel('time [d]')\n",
    "#     ax_rvs[i,0].set_ylabel('vel [{}]'.format(v_unit))\n",
    "\n",
    "#     v_unit = u.km/u.s\n",
    "# #     ax_rvs[i,1].set_ylim(-35,35)\n",
    "#     ax_rvs[i,1].plot((times - min(times)).to(u.day).value,rv.to(v_unit).value,'.k')\n",
    "#     ax_rvs[i,1].set_xlabel('time [d]')\n",
    "#     ax_rvs[i,1].set_ylabel('vel [{}]'.format(v_unit))\n",
    "# plt.show()"
   ]
  },
  {
   "cell_type": "code",
   "execution_count": null,
   "metadata": {},
   "outputs": [],
   "source": []
  }
 ],
 "metadata": {
  "kernelspec": {
   "display_name": "Python 3 (ipykernel)",
   "language": "python",
   "name": "python3"
  },
  "language_info": {
   "codemirror_mode": {
    "name": "ipython",
    "version": 3
   },
   "file_extension": ".py",
   "mimetype": "text/x-python",
   "name": "python",
   "nbconvert_exporter": "python",
   "pygments_lexer": "ipython3",
   "version": "3.7.1"
  }
 },
 "nbformat": 4,
 "nbformat_minor": 4
}
