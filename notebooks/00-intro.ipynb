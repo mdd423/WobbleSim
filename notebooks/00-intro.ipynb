{
 "cells": [
  {
   "cell_type": "code",
   "execution_count": 1,
   "metadata": {},
   "outputs": [
    {
     "name": "stderr",
     "output_type": "stream",
     "text": [
      "/Library/Frameworks/Python.framework/Versions/3.7/lib/python3.7/site-packages/pysynphot/locations.py:46: UserWarning: PYSYN_CDBS is undefined; functionality will be SEVERELY crippled.\n",
      "  warnings.warn(\"PYSYN_CDBS is undefined; functionality will be SEVERELY \"\n",
      "/Library/Frameworks/Python.framework/Versions/3.7/lib/python3.7/site-packages/pysynphot/locations.py:345: UserWarning: Extinction files not found in extinction\n",
      "  warnings.warn('Extinction files not found in %s' % (extdir, ))\n"
     ]
    }
   ],
   "source": [
    "import sys\n",
    "sys.path.insert(0,'..')\n",
    "import simulacra.star\n",
    "import simulacra.tellurics\n",
    "from simulacra.star import PhoenixModel\n",
    "\n",
    "import random\n",
    "import numpy as np\n",
    "\n",
    "import astropy.io.fits\n",
    "import astropy.time as at\n",
    "\n",
    "import astropy.units as u\n",
    "import astropy.coordinates as coord\n",
    "import astropy.constants as const"
   ]
  },
  {
   "cell_type": "markdown",
   "metadata": {},
   "source": [
    "<h1>Simulacra: An Introduction to Simulating Spectrograph Data</h1>\n",
    "This package should be used to simulate spectrographs by creating a star with a given flux, various transmission models (gas cell and tellurics), and a detector. Then simulating the detector at given start times for an exposure time."
   ]
  },
  {
   "cell_type": "markdown",
   "metadata": {},
   "source": [
    "### Theory\n",
    "$$ F^{tot}_{ij} = Spline(x^{new}_j + \\Delta(v_i) | x^s_{ij}, f^s_{ij}) \\prod_{k \\in T} Spline(x^{new}_j | x^k_{ij}, f^k_{ij})$$\n",
    "\n",
    "$$ F^{lsf}_{ij} = k(R_j) \\otimes F^{tot}_{ij}$$\n",
    "\n",
    "$$ F^{det}_{\\lambda ij} = Lanc(x^{det}_{j} | x^{new}_j, F^{lsf}_{ij}, a)$$ <br>\n",
    "\n",
    "$$ N^{exp}_{ij} = F^{det}_{\\lambda ij} t_{exp} A_{det}  \\frac{R^2_{ste}}{D^2_{ste}} d \\lambda_j$$"
   ]
  },
  {
   "cell_type": "markdown",
   "metadata": {},
   "source": [
    "### Generating\n",
    "Inside the detector, there is one stellar model that generates emission spectra, then a list of transmission models that are multiplied together to get this expected number of photons. The star model should output from `generate_spectra` three items: a 1d array of wavelength, a 1d array of flux in astropy units, and a 1d array of radial velocities at the given times. Once all the transmission grids are generated. Then lowest median grid spacing is used to a generate a new wavelength grid with equal spacing in log lambda space. Then all the transmission grids and spectra grid are interpolated onto the new grid using cubic splines. Finally these grids are multiplied element-wise to create the total theoretical flux. Now it's time to convolve the total flux with line spread function of the detector. This line spread function should be able to change over the pixel elements or the epoches. Once convolved, this is sampled at the `wave_grid` of the detector using Lanczos `a` Interpolation. This is the expected flux per pixel, which is convert to the expected number of photons using the above formula. d lambda is the difference over wavelength that is being measured at that ccd pixel. This can be set by the user but by default it takes element-wise differences and cates with the average. \n",
    "\n",
    "\n",
    "### Error Generating Process\n",
    "c: read noise <br>\n",
    "d: dark current <br>\n",
    "Q: ccd efficiency <br>\n",
    "f^{exp}: expected flux in photon number <br>\n",
    "f^{readout}: readout flux in photon number\n",
    "\n",
    "$$ SNR^{true}_{ij} = \\frac{Q_j N^{exp}_{ij}}{\\sqrt{c_j + d_j t_{exp} + Q_j N^{exp}_{ij}}} $$ <br>\n",
    "$$ n_{ij} \\sim Normal(0., N^{exp}_{ij}/SNR^{true}_{i,j}) $$ <br>\n",
    "$$ N^{readout}_{ij} = N^{exp}_{ij} + n_{ij}$$ <br>\n",
    "$$ SNR^{readout}_{ij} = \\frac{Q_j N^{readout}_{ij}}{\\sqrt{c_j + d_j t_{exp} + Q_j N^{readout}_{ij}}}$$ <br>\n",
    "$$ \\sigma^{N}_{ij} = \\frac{N^{readout}_{ij}}{SNR^{readout}_{ij}} $$\n",
    "Most in Nexp dominanted regime\n",
    "\n",
    "through put 20%\n",
    "\n",
    "1_000_000 photons is more normal."
   ]
  },
  {
   "cell_type": "markdown",
   "metadata": {},
   "source": [
    "this formula converts from the stellar flux denisty to the expected photon number on the detector."
   ]
  },
  {
   "cell_type": "code",
   "execution_count": 2,
   "metadata": {},
   "outputs": [],
   "source": [
    "ra, dec = np.random.uniform(0,360) * u.degree, np.random.uniform(0,80) * u.degree\n",
    "obs = 'APO'\n",
    "loc = coord.EarthLocation.of_site(obs)\n",
    "target = coord.SkyCoord(ra,dec,frame='icrs')"
   ]
  },
  {
   "cell_type": "markdown",
   "metadata": {},
   "source": [
    "Functions from the star module can be used to select times to view a given star from some observatory."
   ]
  },
  {
   "cell_type": "code",
   "execution_count": 3,
   "metadata": {
    "scrolled": false
   },
   "outputs": [],
   "source": [
    "tstart = at.Time('2020-01-01T08:10:00.123456789',format='isot',scale='utc')\n",
    "tend   = tstart + 180 * u.day\n",
    "night_grid = simulacra.star.get_night_grid(loc,tstart,tend,steps_per_night=5)\n",
    "possible_times, airmass = simulacra.star.get_realistic_times(target,loc,night_grid)"
   ]
  },
  {
   "cell_type": "code",
   "execution_count": 4,
   "metadata": {},
   "outputs": [],
   "source": [
    "epoches = 3"
   ]
  },
  {
   "cell_type": "markdown",
   "metadata": {},
   "source": [
    "Now we selected some random sample of these to observe at and the airmasses at those times"
   ]
  },
  {
   "cell_type": "code",
   "execution_count": 5,
   "metadata": {},
   "outputs": [],
   "source": [
    "obs_ints = random.sample(range(len(airmass)),epoches)\n",
    "obs_times, obs_airmass = possible_times[obs_ints], airmass[obs_ints]"
   ]
  },
  {
   "cell_type": "markdown",
   "metadata": {},
   "source": [
    "<h2>Tellurics Model</h2>\n",
    "The tellurics model requires these airmasses at the time of observation. However each of the pressure, temperatures, and humidities can be set by the user after initialization. If a single value is passed that is used for every epoch. Or you can pass it an array of quantities of size equal to the number of epoches."
   ]
  },
  {
   "cell_type": "code",
   "execution_count": 6,
   "metadata": {},
   "outputs": [],
   "source": [
    "wave_min = 620*u.nm\n",
    "wave_max = 630*u.nm\n",
    "tellurics_model = simulacra.tellurics.TelFitModel(wave_min,wave_max,loc)"
   ]
  },
  {
   "cell_type": "markdown",
   "metadata": {},
   "source": [
    "Define some atmospheric parameters for the tellurics. These can either be constant over all time or an array with the same length as the number of epoches."
   ]
  },
  {
   "cell_type": "code",
   "execution_count": 7,
   "metadata": {},
   "outputs": [],
   "source": [
    "tellurics_model.pressure    = np.random.uniform(870,880,epoches) * u.hPa\n",
    "tellurics_model.humidity    = np.random.uniform(45.0,55.0,epoches)\n",
    "tellurics_model.temperature = np.random.uniform(300,310,epoches) * u.Kelvin"
   ]
  },
  {
   "cell_type": "markdown",
   "metadata": {},
   "source": [
    "<h2>Star Model</h2>\n",
    "Here we define the star model with some temperature, distance, logg, and companion parameters. The logg, T, z, and alpha parameters must correspond to an appropriate atmosphere model from the PHOENIX libraray online. Then also give it some companion parameters that could affect its velocity. This is what we will be trying to find use jabble."
   ]
  },
  {
   "cell_type": "markdown",
   "metadata": {},
   "source": [
    "z is metallicity. And distance can be set to whatever you want."
   ]
  },
  {
   "cell_type": "code",
   "execution_count": 8,
   "metadata": {},
   "outputs": [
    {
     "name": "stdout",
     "output_type": "stream",
     "text": [
      "using saved wave file\n",
      "../data/stellar/PHOENIX/lte04800-1.00-1.0.Alpha=+0.40.PHOENIX-ACES-AGSS-COND-2011-HiRes.fits\n",
      "using saved flux file\n",
      "reading in ../data/stellar/PHOENIX/WAVE_PHOENIX-ACES-AGSS-COND-2011.fits\n"
     ]
    }
   ],
   "source": [
    "logg = 1.0\n",
    "T    = 4800\n",
    "z    = -1.0\n",
    "alpha= 0.4\n",
    "distance  = 100 * u.pc\n",
    "amplitude = 10 * u.m/u.s\n",
    "period    = 7 * u.day\n",
    "stellar_model = PhoenixModel(distance,alpha,z,T,logg,target,amplitude,period)"
   ]
  },
  {
   "cell_type": "code",
   "execution_count": 9,
   "metadata": {},
   "outputs": [],
   "source": [
    "from simulacra.detector import Detector, spacing_from_res"
   ]
  },
  {
   "cell_type": "markdown",
   "metadata": {},
   "source": [
    "<h2>Detector</h2>\n",
    "Here we define our detector giving it an aperature area, resolution, dark current, read noise, and ccd efficiency. All of these can be except area can be given as an array of the same size as the wave_grid (eg. if the detector has varying resolution or noise levels)"
   ]
  },
  {
   "cell_type": "code",
   "execution_count": 10,
   "metadata": {},
   "outputs": [],
   "source": [
    "resolution = 100_000\n",
    "area = np.pi*(4.3 * u.m/2)**2\n",
    "exp_times = 8 * np.ones(epoches)* u.minute \n",
    "dark_current = 1/u.s\n",
    "read_noise   = 1\n",
    "ccd_eff      = 0.99\n",
    "through_put  = 0.05\n",
    "\n",
    "gamma = 1.0\n",
    "\n",
    "delta_x = spacing_from_res(2*resolution)\n",
    "x_grid = np.arange(np.log(wave_min.to(u.Angstrom).value),np.log(wave_max.to(u.Angstrom).value),delta_x)\n",
    "wave_grid = np.exp(x_grid) * u.Angstrom\n",
    "\n",
    "detector = Detector(stellar_model,resolution,loc,area,wave_grid,dark_current,read_noise,ccd_eff,through_put,gamma=gamma,epsilon=0.01,w=1.5)"
   ]
  },
  {
   "cell_type": "code",
   "execution_count": 11,
   "metadata": {},
   "outputs": [
    {
     "name": "stdout",
     "output_type": "stream",
     "text": [
      "wave_grid min -> 621.0 nm\n"
     ]
    }
   ],
   "source": [
    "detector.add_model(tellurics_model)"
   ]
  },
  {
   "cell_type": "markdown",
   "metadata": {},
   "source": [
    "<h2>Gas Cell</h2>\n",
    "Optionally, add the gas cell to the detector for simulations of the Keck HiRES spectrograph."
   ]
  },
  {
   "cell_type": "code",
   "execution_count": 12,
   "metadata": {},
   "outputs": [],
   "source": [
    "from simulacra.gascell import GasCellModel\n",
    "gascell_model = GasCellModel('../data/gascell/keck_fts_inUse.idl')\n",
    "detector.add_model(gascell_model)"
   ]
  },
  {
   "cell_type": "markdown",
   "metadata": {},
   "source": [
    "<h2>Simulator</h2>\n",
    "Now comes the bulk of the work, run the simulation with the given transmission models, star, detector at the given times for some exposure times."
   ]
  },
  {
   "cell_type": "code",
   "execution_count": 13,
   "metadata": {},
   "outputs": [
    {
     "name": "stdout",
     "output_type": "stream",
     "text": [
      "surface flux: mean 1.31e+14 erg / (cm3 s)\t median 1.14e+14 erg / (cm3 s)\n",
      "obs     flux: mean 3.78e-02 erg / (cm3 s)\t median 3.28e-02 erg / (cm3 s)\n"
     ]
    },
    {
     "data": {
      "image/png": "[encoded data removed]",
      "text/plain": [
       "<Figure size 1440x360 with 1 Axes>"
      ]
     },
     "metadata": {
      "needs_background": "light"
     },
     "output_type": "display_data"
    },
    {
     "name": "stdout",
     "output_type": "stream",
     "text": [
      "right after generate spectra:  (array([], dtype=int64), array([], dtype=int64))\n",
      "generating spectra...\n",
      "humidity: 49.74295095673791\n",
      " pressure: 876.2227245255684\n",
      " temperature: 302.9533750674482\n",
      " lat: 32.78000000000001\n",
      " elevation: 2.797999999999601\n",
      " freqmin(cm-1): 15847.860538827257\n",
      " freqmax(cm-1): 16103.059581320449\n",
      " angle: 19.976760625285902\n",
      "\n",
      "78006\n",
      "humidity: 53.71030427294201\n",
      " pressure: 875.8310644656252\n",
      " temperature: 309.13885206114895\n",
      " lat: 32.78000000000001\n",
      " elevation: 2.797999999999601\n",
      " freqmin(cm-1): 15847.860538827257\n",
      " freqmax(cm-1): 16103.059581320449\n",
      " angle: 10.594542564467869\n",
      "\n",
      "78301\n",
      "humidity: 47.91398592762878\n",
      " pressure: 874.3604839627471\n",
      " temperature: 302.95650305882276\n",
      " lat: 32.78000000000001\n",
      " elevation: 2.797999999999601\n",
      " freqmin(cm-1): 15847.860538827257\n",
      " freqmax(cm-1): 16103.059581320449\n",
      " angle: 55.99810172287887\n",
      "\n",
      "78006\n",
      "<simulacra.tellurics.TelFitModel object at 0x7f9514c3c9e8> [1.6178939059585673e-06, 2.0479091311642605e-07, 2.0401815881143648e-07, 2.0479091311642605e-07]\n",
      "<simulacra.gascell.GasCellModel object at 0x7f9518b7e550> [1.6178939059585673e-06, 2.0479091311642605e-07, 2.0401815881143648e-07, 2.0479091311642605e-07, 7.868814098088706e-07, 7.868814098088706e-07, 7.868814098088706e-07]\n",
      "interpolating spline...\n",
      "0\n",
      "1\n",
      "2\n",
      "combining grids...\n",
      "convolving...\n",
      "0\n",
      "1\n",
      "2\n",
      "xs: 6205.021064778156 6304.996486066631\n",
      "xhat: 6210.009697586885 6300.017218554045\n",
      "interpolating lanczos...\n",
      "0\n",
      "1\n",
      "2\n",
      "area: 14.522012041218817 m2\t avg d lambda: 0.03127442917323659 Angstrom\t avg lambda: 6254.901509906888 Angstrom\t avg exp times: 8.0 min\n",
      "0 n mean: 2.18e+09\t n median: 2.18e+09\n",
      "1 n mean: 2.18e+09\t n median: 2.18e+09\n",
      "2 n mean: 2.18e+09\t n median: 2.18e+09\n",
      "generating true signal to noise ratios...\n",
      "adding noise...\n",
      "snr 0: 46427.9874790028\n",
      "snr 1: 46427.236290960514\n",
      "snr 2: 46428.87365320836\n",
      "generating exp signal to noise ratios...\n",
      "generating errors...\n"
     ]
    }
   ],
   "source": [
    "data = detector.simulate(obs_times,exp_times)"
   ]
  },
  {
   "cell_type": "code",
   "execution_count": 14,
   "metadata": {},
   "outputs": [
    {
     "data": {
      "text/latex": [
       "$1.301605 \\times 10^{13} \\; \\mathrm{}$"
      ],
      "text/plain": [
       "<Quantity 1.30160505e+13>"
      ]
     },
     "execution_count": 14,
     "metadata": {},
     "output_type": "execute_result"
    }
   ],
   "source": [
    "(14 * u.m**2 * 0.03 * u.Angstrom * 6300 * u.Angstrom * 8 * u.min * 324 * u.erg/(u.s*u.cm**3) /(const.hbar * const.c)).to(1)"
   ]
  },
  {
   "cell_type": "markdown",
   "metadata": {},
   "source": [
    "Save file to pickle jar"
   ]
  },
  {
   "cell_type": "code",
   "execution_count": 15,
   "metadata": {},
   "outputs": [
    {
     "name": "stdout",
     "output_type": "stream",
     "text": [
      "saving time\n",
      "quantity\n",
      "epoches  saving as string\n",
      "quantity\n",
      "quantity\n",
      "quantity\n",
      "quantity\n",
      "quantity\n",
      "quantity\n",
      "quantity\n",
      "flux  saving as string\n",
      "wave  saving as string\n",
      "flux  saving as string\n",
      "wave  saving as string\n",
      "quantity\n",
      "quantity\n",
      "quantity\n",
      "alpha  saving as string\n",
      "quantity\n",
      "quantity\n",
      "fluxname  saving as string\n",
      "generate_spectra  saving as string\n",
      "quantity\n",
      "quantity\n",
      "logg  saving as string\n",
      "outdir  saving as string\n",
      "quantity\n",
      "plot  saving as string\n",
      "plot_interpolated  saving as string\n",
      "quantity\n",
      "quantity\n",
      "saving target...51.22581864135156 deg 28.646049321890885 deg\n",
      "temperature  saving as string\n",
      "quantity\n",
      "quantity\n",
      "wavename  saving as string\n",
      "quantity\n",
      "z  saving as string\n",
      "quantity\n",
      "quantity\n",
      "quantity\n",
      "quantity\n",
      "a  saving as string\n",
      "add_model  saving as string\n",
      "quantity\n",
      "checkmax  saving as string\n",
      "checkmin  saving as string\n",
      "quantity\n",
      "epsilon  saving as string\n",
      "gamma  saving as string\n",
      "quantity\n",
      "quantity\n",
      "quantity\n",
      "lsf_centering  saving as string\n",
      "lsf_const_coeffs  saving as string\n",
      "resolution  saving as string\n",
      "sigma  saving as string\n",
      "sigma_range  saving as string\n",
      "simulate  saving as string\n",
      "stellar_model  saving as string\n",
      "through_put  saving as string\n",
      "trans_cutoff  saving as string\n",
      "transmission_models  saving as string\n",
      "w  saving as string\n",
      "quantity\n",
      "quantity\n",
      "quantity\n",
      "_epoches  saving as string\n",
      "quantity\n",
      "quantity\n",
      "_name  saving as string\n",
      "quantity\n",
      "quantity\n",
      "check_property  saving as string\n",
      "check_shape_type  saving as string\n",
      "epoches  saving as string\n",
      "generate_transmission  saving as string\n",
      "quantity\n",
      "quantity\n",
      "quantity\n",
      "plot  saving as string\n",
      "plot_interpolated  saving as string\n",
      "quantity\n",
      "quantity\n",
      "quantity\n",
      "quantity\n",
      "quantity\n",
      "_name  saving as string\n",
      "quantity\n",
      "filename  saving as string\n",
      "generate_transmission  saving as string\n",
      "quantity\n",
      "quantity\n",
      "plot  saving as string\n",
      "plot_interpolated  saving as string\n",
      "quantity\n",
      "quantity\n"
     ]
    }
   ],
   "source": [
    "filename = '../out/data_e{}_a{}_p{}_l{:3.1e}{:3.1e}'.format(epoches,amplitude.to(u.m/u.s).value,period.to(u.day).value,detector.lambmin.value,detector.lambmax.value)\n",
    "data.to_pickle(filename + '.pkl')\n",
    "data.to_h5(filename + '.h5')"
   ]
  },
  {
   "cell_type": "code",
   "execution_count": 16,
   "metadata": {},
   "outputs": [
    {
     "name": "stdout",
     "output_type": "stream",
     "text": [
      "<SkyCoord (ICRS): (ra, dec) in deg\n",
      "    (51.22581864, 28.64604932)>\n"
     ]
    }
   ],
   "source": [
    "print(target)"
   ]
  },
  {
   "cell_type": "code",
   "execution_count": 17,
   "metadata": {},
   "outputs": [],
   "source": [
    "import matplotlib.pyplot as plt\n",
    "import scipy.ndimage\n",
    "def normalize(y,yerr,sigma):\n",
    "    y_low = scipy.ndimage.gaussian_filter(y,sigma)\n",
    "    return y/y_low, yerr/y"
   ]
  },
  {
   "cell_type": "code",
   "execution_count": 18,
   "metadata": {},
   "outputs": [
    {
     "name": "stdout",
     "output_type": "stream",
     "text": [
      "2.18e+09 4.69e+04\n",
      "2.18e+09 4.69e+04\n"
     ]
    },
    {
     "data": {
      "image/png": "[encoded data removed]",
      "text/plain": [
       "<Figure size 1440x720 with 2 Axes>"
      ]
     },
     "metadata": {
      "needs_background": "light"
     },
     "output_type": "display_data"
    }
   ],
   "source": [
    "sigma = 200\n",
    "n_plots = 2\n",
    "plt_unit = u.Angstrom\n",
    "sort_times = np.argsort(obs_times)\n",
    "fig, axes = plt.subplots(n_plots,figsize=(20,5 * n_plots),sharex=True,sharey=True)\n",
    "\n",
    "fig.text(0.5, 0.04, 'Wavelength [{}]'.format(plt_unit), ha='center', va='center')\n",
    "fig.text(0.06, 0.5, 'Flux', ha='center', va='center', rotation='vertical')\n",
    "for i in range(n_plots):\n",
    "    axes[i].set_xlim(np.log(6297),np.log(6300))\n",
    "#     axes[i].set_ylim(-1.2,1.2)\n",
    "    print('{:3.2e}'.format(np.mean(data['data']['flux'][i,:])),'{:3.2e}'.format(np.mean(data['data']['ferr'][i,:])))\n",
    "    axes[i].errorbar(np.log(data['data']['wave'].to(u.Angstrom).value),data['data']['flux'][i,:],yerr=data['data']['ferr'][i,:],fmt='.k',alpha=0.5)\n",
    "#     data.plot_data(axes[i],sort_times[i],xy='x',units=plt_unit)\n",
    "    data.plot_tellurics(axes[i],sort_times[i],xy='x',units=plt_unit)#,normalize=normalize,nargs=[sigma]\n",
    "    data.plot_gas(axes[i],sort_times[i],xy='x',units=plt_unit)\n",
    "    data.plot_theory(axes[i],sort_times[i],xy='x',units=plt_unit)\n",
    "    data.plot_lsf(axes[i],sort_times[i],xy='x',units=plt_unit)\n",
    "    data.plot_star(axes[i],sort_times[i],xy='x',units=plt_unit)\n",
    "# plt.savefig('out/datatest5.png')\n",
    "plt.show()"
   ]
  },
  {
   "cell_type": "code",
   "execution_count": 19,
   "metadata": {
    "scrolled": false
   },
   "outputs": [
    {
     "name": "stdout",
     "output_type": "stream",
     "text": [
      "data: <class 'dict'>\n",
      "--obs_times: <class 'numpy.ndarray'>\n",
      "--exp_times: <class 'astropy.units.quantity.Quantity'>\n",
      "--epoches: <class 'int'>\n",
      "--rvs: <class 'astropy.units.quantity.Quantity'>\n",
      "--mask: <class 'numpy.ndarray'>\n",
      "--flux_expected: <class 'astropy.units.quantity.Quantity'>\n",
      "--flux: <class 'numpy.ndarray'>\n",
      "--wave: <class 'astropy.units.quantity.Quantity'>\n",
      "--snr_readout: <class 'numpy.ndarray'>\n",
      "--ferr: <class 'numpy.ndarray'>\n",
      "theory: <class 'dict'>\n",
      "--star: <class 'dict'>\n",
      "----deltas: <class 'astropy.units.quantity.Quantity'>\n",
      "----flux: <class 'astropy.units.quantity.Quantity'>\n",
      "----wave: <class 'astropy.units.quantity.Quantity'>\n",
      "--interpolated: <class 'dict'>\n",
      "----tellurics: <class 'dict'>\n",
      "------flux: <class 'numpy.ndarray'>\n",
      "----gascell: <class 'dict'>\n",
      "------flux: <class 'numpy.ndarray'>\n",
      "----star: <class 'dict'>\n",
      "------flux: <class 'numpy.ndarray'>\n",
      "----total: <class 'dict'>\n",
      "------flux: <class 'numpy.ndarray'>\n",
      "------wave: <class 'astropy.units.quantity.Quantity'>\n",
      "------mask: <class 'numpy.ndarray'>\n",
      "--tellurics: <class 'dict'>\n",
      "----flux: <class 'list'>\n",
      "----wave: <class 'list'>\n",
      "--gascell: <class 'dict'>\n",
      "----flux: <class 'list'>\n",
      "----wave: <class 'list'>\n",
      "--lsf: <class 'dict'>\n",
      "----flux: <class 'numpy.ndarray'>\n",
      "parameters: <class 'dict'>\n",
      "--wavetransform: <class 'dict'>\n",
      "----m: <class 'numpy.ndarray'>\n",
      "----delt: <class 'numpy.ndarray'>\n",
      "--true_snr: <class 'numpy.ndarray'>\n",
      "--star: <class 'dict'>\n",
      "----_flux: <class 'numpy.ndarray'>\n",
      "----_lambmax: <class 'astropy.units.quantity.Quantity'>\n",
      "----_lambmin: <class 'astropy.units.quantity.Quantity'>\n",
      "----_wave: <class 'astropy.units.quantity.Quantity'>\n",
      "----alpha: <class 'float'>\n",
      "----amplitude: <class 'astropy.units.quantity.Quantity'>\n",
      "----distance: <class 'astropy.coordinates.distances.Distance'>\n",
      "----fluxname: <class 'str'>\n",
      "----generate_spectra: <class 'method'>\n",
      "----lambmax: <class 'astropy.units.quantity.Quantity'>\n",
      "----lambmin: <class 'astropy.units.quantity.Quantity'>\n",
      "----logg: <class 'float'>\n",
      "----outdir: <class 'str'>\n",
      "----period: <class 'astropy.units.quantity.Quantity'>\n",
      "----plot: <class 'method'>\n",
      "----plot_interpolated: <class 'method'>\n",
      "----stellar_radius: <class 'astropy.units.quantity.Quantity'>\n",
      "----surface_flux: <class 'astropy.units.quantity.Quantity'>\n",
      "----target: <class 'astropy.coordinates.sky_coordinate.SkyCoord'>\n",
      "----temperature: <class 'int'>\n",
      "----wave: <class 'astropy.units.quantity.Quantity'>\n",
      "----wave_difference: <class 'astropy.units.quantity.Quantity'>\n",
      "----wavename: <class 'str'>\n",
      "----x: <class 'astropy.units.quantity.Quantity'>\n",
      "----z: <class 'float'>\n",
      "--detector: <class 'dict'>\n",
      "----_ccd_eff: <class 'numpy.ndarray'>\n",
      "----_dark_current: <class 'astropy.units.quantity.Quantity'>\n",
      "----_lambmax: <class 'astropy.units.quantity.Quantity'>\n",
      "----_lambmin: <class 'astropy.units.quantity.Quantity'>\n",
      "----_read_noise: <class 'numpy.ndarray'>\n",
      "----_wave_grid: <class 'astropy.units.quantity.Quantity'>\n",
      "----a: <class 'int'>\n",
      "----add_model: <class 'method'>\n",
      "----area: <class 'astropy.units.quantity.Quantity'>\n",
      "----ccd_eff: <class 'numpy.ndarray'>\n",
      "----checkmax: <class 'method'>\n",
      "----checkmin: <class 'method'>\n",
      "----dark_current: <class 'astropy.units.quantity.Quantity'>\n",
      "----epsilon: <class 'float'>\n",
      "----gamma: <class 'float'>\n",
      "----lambmax: <class 'astropy.units.quantity.Quantity'>\n",
      "----lambmin: <class 'astropy.units.quantity.Quantity'>\n",
      "----loc: <class 'astropy.coordinates.earth.EarthLocation'>\n",
      "----lsf_centering: <class 'str'>\n",
      "----lsf_coeffs: <class 'numpy.ndarray'>\n",
      "----lsf_const_coeffs: <class 'list'>\n",
      "----read_noise: <class 'numpy.ndarray'>\n",
      "----resolution: <class 'int'>\n",
      "----sigma: <class 'float'>\n",
      "----sigma_range: <class 'float'>\n",
      "----simulate: <class 'method'>\n",
      "----stellar_model: <class 'simulacra.star.PhoenixModel'>\n",
      "----through_put: <class 'float'>\n",
      "----trans_cutoff: <class 'float'>\n",
      "----transmission_models: <class 'list'>\n",
      "----w: <class 'float'>\n",
      "----wave_difference: <class 'astropy.units.quantity.Quantity'>\n",
      "----wave_grid: <class 'astropy.units.quantity.Quantity'>\n",
      "----wave_padding: <class 'astropy.units.quantity.Quantity'>\n",
      "--tellurics: <class 'dict'>\n",
      "----_epoches: <class 'int'>\n",
      "----_humidity: <class 'numpy.ndarray'>\n",
      "----_lambmax: <class 'astropy.units.quantity.Quantity'>\n",
      "----_lambmin: <class 'astropy.units.quantity.Quantity'>\n",
      "----_name: <class 'str'>\n",
      "----_pressure: <class 'astropy.units.quantity.Quantity'>\n",
      "----_temperature: <class 'astropy.units.quantity.Quantity'>\n",
      "----check_property: <class 'method'>\n",
      "----check_shape_type: <class 'method'>\n",
      "----epoches: <class 'int'>\n",
      "----generate_transmission: <class 'method'>\n",
      "----humidity: <class 'numpy.ndarray'>\n",
      "----lambmax: <class 'astropy.units.quantity.Quantity'>\n",
      "----lambmin: <class 'astropy.units.quantity.Quantity'>\n",
      "----loc: <class 'astropy.coordinates.earth.EarthLocation'>\n",
      "----plot: <class 'method'>\n",
      "----plot_interpolated: <class 'method'>\n",
      "----pressure: <class 'astropy.units.quantity.Quantity'>\n",
      "----temperature: <class 'astropy.units.quantity.Quantity'>\n",
      "----wave_padding: <class 'astropy.units.quantity.Quantity'>\n",
      "--gascell: <class 'dict'>\n",
      "----_lambmax: <class 'astropy.units.quantity.Quantity'>\n",
      "----_lambmin: <class 'astropy.units.quantity.Quantity'>\n",
      "----_name: <class 'str'>\n",
      "----_wave: <class 'astropy.units.quantity.Quantity'>\n",
      "----filename: <class 'str'>\n",
      "----flux: <class 'numpy.ndarray'>\n",
      "----generate_transmission: <class 'method'>\n",
      "----lambmax: <class 'astropy.units.quantity.Quantity'>\n",
      "----lambmin: <class 'astropy.units.quantity.Quantity'>\n",
      "----plot: <class 'method'>\n",
      "----plot_interpolated: <class 'method'>\n",
      "----wave: <class 'astropy.units.quantity.Quantity'>\n",
      "----x: <class 'astropy.units.quantity.Quantity'>\n"
     ]
    }
   ],
   "source": [
    "from simulacra.dataset import print_keys\n",
    "print_keys(data)"
   ]
  },
  {
   "cell_type": "code",
   "execution_count": 20,
   "metadata": {
    "scrolled": false
   },
   "outputs": [
    {
     "data": {
      "image/png": "[encoded data removed]",
      "text/plain": [
       "<Figure size 720x216 with 1 Axes>"
      ]
     },
     "metadata": {
      "needs_background": "light"
     },
     "output_type": "display_data"
    },
    {
     "data": {
      "image/png": "[encoded data removed]",
      "text/plain": [
       "<Figure size 720x216 with 1 Axes>"
      ]
     },
     "metadata": {
      "needs_background": "light"
     },
     "output_type": "display_data"
    }
   ],
   "source": [
    "times = at.Time([obs_times[i] + exp_times[i]/2 for i in range(len(obs_times))])\n",
    "rv = data['data']['rvs'].to(u.km/u.s)\n",
    "bc  = target.radial_velocity_correction(obstime=times,location=loc).to(u.km/u.s)\n",
    "eprv = rv - bc\n",
    "\n",
    "plt.figure(figsize=(10,3))\n",
    "plt.title('EPRV')\n",
    "v_unit = u.m/u.s\n",
    "plt.plot((times - min(times)).to(u.day).value % period.to(u.day).value,eprv.to(v_unit).value,'.r')\n",
    "plt.ylabel('vel [{}]'.format(v_unit))\n",
    "plt.xlabel('time [d]')\n",
    "plt.show()\n",
    "\n",
    "plt.figure(figsize=(10,3))\n",
    "plt.title('RV')\n",
    "v_unit = u.km/u.s\n",
    "plt.plot((times - min(times)).to(u.day).value,rv.to(v_unit).value,'.k')\n",
    "plt.ylabel('vel [{}]'.format(v_unit))\n",
    "plt.xlabel('time [d]')\n",
    "plt.show()"
   ]
  },
  {
   "cell_type": "code",
   "execution_count": null,
   "metadata": {},
   "outputs": [],
   "source": []
  }
 ],
 "metadata": {
  "kernelspec": {
   "display_name": "Python 3",
   "language": "python",
   "name": "python3"
  },
  "language_info": {
   "codemirror_mode": {
    "name": "ipython",
    "version": 3
   },
   "file_extension": ".py",
   "mimetype": "text/x-python",
   "name": "python",
   "nbconvert_exporter": "python",
   "pygments_lexer": "ipython3",
   "version": "3.7.1"
  }
 },
 "nbformat": 4,
 "nbformat_minor": 4
}
