{
 "cells": [
  {
   "cell_type": "code",
   "execution_count": 1,
   "id": "31fa5d59",
   "metadata": {},
   "outputs": [],
   "source": [
    "from simulacra.detector import Detector\n",
    "from simulacra.star import PhoenixModel\n",
    "import astropy.units as u\n",
    "import numpy as np"
   ]
  },
  {
   "cell_type": "code",
   "execution_count": 2,
   "id": "272dd933",
   "metadata": {},
   "outputs": [
    {
     "name": "stdout",
     "output_type": "stream",
     "text": [
      "using saved wave file\n",
      "reading in data/stellar/PHOENIX/WAVE_PHOENIX-ACES-AGSS-COND-2011.fits\n"
     ]
    }
   ],
   "source": [
    "logg = 1.0\n",
    "T    = 4800\n",
    "z    = -1.0\n",
    "alpha= 0.4\n",
    "ra, dec = np.random.uniform(0,360) * u.degree, np.random.uniform(-90,90) * u.degree\n",
    "amplitude = 2 * u.m/u.s\n",
    "period    = 10 * u.day\n",
    "velocity_drift = 10 * u.km/u.s\n",
    "obs = 'APO'\n",
    "stellar_model = PhoenixModel(alpha,z,T,logg,ra,dec,obs,amplitude,period,velocity_drift)"
   ]
  },
  {
   "cell_type": "code",
   "execution_count": 3,
   "id": "ac27a299",
   "metadata": {},
   "outputs": [
    {
     "name": "stderr",
     "output_type": "stream",
     "text": [
      "/ext3/miniconda3/envs/simulacraenv/lib/python3.7/site-packages/pysynphot/locations.py:46: UserWarning: PYSYN_CDBS is undefined; functionality will be SEVERELY crippled.\n",
      "  warnings.warn(\"PYSYN_CDBS is undefined; functionality will be SEVERELY \"\n",
      "/ext3/miniconda3/envs/simulacraenv/lib/python3.7/site-packages/pysynphot/locations.py:345: UserWarning: Extinction files not found in extinction\n",
      "  warnings.warn('Extinction files not found in %s' % (extdir, ))\n"
     ]
    }
   ],
   "source": [
    "wave_min = 700*u.nm\n",
    "wave_max = 1000*u.nm\n",
    "from simulacra.tellurics import TelFitModel\n",
    "tellurics_model = TelFitModel(wave_min,wave_max)"
   ]
  },
  {
   "cell_type": "code",
   "execution_count": 4,
   "id": "f9b36977",
   "metadata": {},
   "outputs": [],
   "source": [
    "# from simulacra.gascell import GasCellModel\n",
    "# gascell_model = GasCellModel('data/gascell/keck_fts_inUse.idl')"
   ]
  },
  {
   "cell_type": "code",
   "execution_count": 5,
   "id": "015e6ee5",
   "metadata": {},
   "outputs": [],
   "source": [
    "resolution = 25_000\n",
    "detector = Detector(stellar_model,resolution)"
   ]
  },
  {
   "cell_type": "code",
   "execution_count": 6,
   "id": "59b5bdea",
   "metadata": {},
   "outputs": [
    {
     "name": "stdout",
     "output_type": "stream",
     "text": [
      "lambmin to low for all grids\n",
      "setting to lambmin to 700.0 nm\n",
      "lambmax to high for all grids\n",
      "setting to lambmax to 1000.0 nm\n"
     ]
    }
   ],
   "source": [
    "detector.add_model(tellurics_model)\n",
    "# detector.add_model(gascell_model)"
   ]
  },
  {
   "cell_type": "code",
   "execution_count": 7,
   "id": "928b9fe9",
   "metadata": {},
   "outputs": [
    {
     "name": "stdout",
     "output_type": "stream",
     "text": [
      "using saved wave file\n",
      "reading in data/stellar/PHOENIX/lte04800-1.00-1.0.Alpha=+0.40.PHOENIX-ACES-AGSS-COND-2011-HiRes.fits\n",
      "generating spectra...\n",
      "\n",
      "Running exec: lblrtm\n",
      "\n",
      "\n"
     ]
    },
    {
     "name": "stderr",
     "output_type": "stream",
     "text": [
      "Note: The following floating-point exceptions are signalling: IEEE_INVALID_FLAG IEEE_UNDERFLOW_FLAG IEEE_DENORMAL\n",
      "STOP  LBLRTM EXIT \n",
      "2.25user 0.93system 0:04.11elapsed 77%CPU (0avgtext+0avgdata 7792maxresident)k\n",
      "0inputs+0outputs (0major+1238minor)pagefaults 0swaps\n"
     ]
    },
    {
     "name": "stdout",
     "output_type": "stream",
     "text": [
      "\n",
      "Running exec: lblrtm\n",
      "\n",
      "\n"
     ]
    },
    {
     "name": "stderr",
     "output_type": "stream",
     "text": [
      "Note: The following floating-point exceptions are signalling: IEEE_INVALID_FLAG IEEE_UNDERFLOW_FLAG IEEE_DENORMAL\n",
      "STOP  LBLRTM EXIT \n",
      "1.96user 0.89system 0:03.46elapsed 82%CPU (0avgtext+0avgdata 7520maxresident)k\n",
      "0inputs+0outputs (0major+1234minor)pagefaults 0swaps\n"
     ]
    },
    {
     "name": "stdout",
     "output_type": "stream",
     "text": [
      "\n",
      "Running exec: lblrtm\n",
      "\n",
      "\n"
     ]
    },
    {
     "name": "stderr",
     "output_type": "stream",
     "text": [
      "Note: The following floating-point exceptions are signalling: IEEE_INVALID_FLAG IEEE_UNDERFLOW_FLAG IEEE_DENORMAL\n",
      "STOP  LBLRTM EXIT \n",
      "0.46user 0.67system 0:01.38elapsed 82%CPU (0avgtext+0avgdata 7588maxresident)k\n",
      "0inputs+0outputs (0major+1224minor)pagefaults 0swaps\n"
     ]
    },
    {
     "name": "stdout",
     "output_type": "stream",
     "text": [
      "\n",
      "Running exec: lblrtm\n",
      "\n",
      "\n"
     ]
    },
    {
     "name": "stderr",
     "output_type": "stream",
     "text": [
      "Note: The following floating-point exceptions are signalling: IEEE_INVALID_FLAG IEEE_UNDERFLOW_FLAG IEEE_DENORMAL\n",
      "STOP  LBLRTM EXIT \n",
      "2.27user 0.94system 0:05.24elapsed 61%CPU (0avgtext+0avgdata 7628maxresident)k\n",
      "0inputs+0outputs (0major+1233minor)pagefaults 0swaps\n"
     ]
    },
    {
     "name": "stdout",
     "output_type": "stream",
     "text": [
      "\n",
      "Running exec: lblrtm\n",
      "\n",
      "\n"
     ]
    },
    {
     "name": "stderr",
     "output_type": "stream",
     "text": [
      "Note: The following floating-point exceptions are signalling: IEEE_INVALID_FLAG IEEE_UNDERFLOW_FLAG IEEE_DENORMAL\n",
      "STOP  LBLRTM EXIT \n",
      "1.95user 0.92system 0:04.38elapsed 65%CPU (0avgtext+0avgdata 7560maxresident)k\n",
      "0inputs+0outputs (0major+1234minor)pagefaults 0swaps\n"
     ]
    },
    {
     "name": "stdout",
     "output_type": "stream",
     "text": [
      "\n",
      "Running exec: lblrtm\n",
      "\n",
      "\n"
     ]
    },
    {
     "name": "stderr",
     "output_type": "stream",
     "text": [
      "Note: The following floating-point exceptions are signalling: IEEE_INVALID_FLAG IEEE_UNDERFLOW_FLAG IEEE_DENORMAL\n",
      "STOP  LBLRTM EXIT \n",
      "0.47user 0.66system 0:01.31elapsed 86%CPU (0avgtext+0avgdata 7720maxresident)k\n",
      "0inputs+0outputs (0major+1225minor)pagefaults 0swaps\n"
     ]
    },
    {
     "name": "stdout",
     "output_type": "stream",
     "text": [
      "\n",
      "Running exec: lblrtm\n",
      "\n",
      "\n"
     ]
    },
    {
     "name": "stderr",
     "output_type": "stream",
     "text": [
      "Note: The following floating-point exceptions are signalling: IEEE_INVALID_FLAG IEEE_UNDERFLOW_FLAG IEEE_DENORMAL\n",
      "STOP  LBLRTM EXIT \n",
      "2.35user 0.99system 0:06.07elapsed 55%CPU (0avgtext+0avgdata 7624maxresident)k\n",
      "0inputs+0outputs (0major+1233minor)pagefaults 0swaps\n"
     ]
    },
    {
     "name": "stdout",
     "output_type": "stream",
     "text": [
      "\n",
      "Running exec: lblrtm\n",
      "\n",
      "\n"
     ]
    },
    {
     "name": "stderr",
     "output_type": "stream",
     "text": [
      "Note: The following floating-point exceptions are signalling: IEEE_INVALID_FLAG IEEE_UNDERFLOW_FLAG IEEE_DENORMAL\n",
      "STOP  LBLRTM EXIT \n",
      "1.95user 0.91system 0:04.46elapsed 64%CPU (0avgtext+0avgdata 7792maxresident)k\n",
      "0inputs+0outputs (0major+1238minor)pagefaults 0swaps\n"
     ]
    },
    {
     "name": "stdout",
     "output_type": "stream",
     "text": [
      "\n",
      "Running exec: lblrtm\n",
      "\n",
      "\n"
     ]
    },
    {
     "name": "stderr",
     "output_type": "stream",
     "text": [
      "Note: The following floating-point exceptions are signalling: IEEE_INVALID_FLAG IEEE_UNDERFLOW_FLAG IEEE_DENORMAL\n",
      "STOP  LBLRTM EXIT \n",
      "0.46user 0.69system 0:01.68elapsed 68%CPU (0avgtext+0avgdata 7552maxresident)k\n",
      "0inputs+0outputs (0major+1222minor)pagefaults 0swaps\n"
     ]
    },
    {
     "name": "stdout",
     "output_type": "stream",
     "text": [
      "\n",
      "Running exec: lblrtm\n",
      "\n",
      "\n"
     ]
    },
    {
     "name": "stderr",
     "output_type": "stream",
     "text": [
      "Note: The following floating-point exceptions are signalling: IEEE_INVALID_FLAG IEEE_UNDERFLOW_FLAG IEEE_DENORMAL\n",
      "STOP  LBLRTM EXIT \n",
      "2.29user 0.92system 0:04.50elapsed 71%CPU (0avgtext+0avgdata 7752maxresident)k\n",
      "0inputs+0outputs (0major+1237minor)pagefaults 0swaps\n"
     ]
    },
    {
     "name": "stdout",
     "output_type": "stream",
     "text": [
      "\n",
      "Running exec: lblrtm\n",
      "\n",
      "\n"
     ]
    },
    {
     "name": "stderr",
     "output_type": "stream",
     "text": [
      "Note: The following floating-point exceptions are signalling: IEEE_INVALID_FLAG IEEE_UNDERFLOW_FLAG IEEE_DENORMAL\n",
      "STOP  LBLRTM EXIT \n",
      "1.96user 0.92system 0:03.81elapsed 75%CPU (0avgtext+0avgdata 7728maxresident)k\n",
      "0inputs+0outputs (0major+1237minor)pagefaults 0swaps\n"
     ]
    },
    {
     "name": "stdout",
     "output_type": "stream",
     "text": [
      "\n",
      "Running exec: lblrtm\n",
      "\n",
      "\n"
     ]
    },
    {
     "name": "stderr",
     "output_type": "stream",
     "text": [
      "Note: The following floating-point exceptions are signalling: IEEE_INVALID_FLAG IEEE_UNDERFLOW_FLAG IEEE_DENORMAL\n",
      "STOP  LBLRTM EXIT \n",
      "0.45user 0.66system 0:01.57elapsed 71%CPU (0avgtext+0avgdata 7704maxresident)k\n",
      "0inputs+0outputs (0major+1226minor)pagefaults 0swaps\n"
     ]
    },
    {
     "name": "stdout",
     "output_type": "stream",
     "text": [
      "\n",
      "Running exec: lblrtm\n",
      "\n",
      "\n"
     ]
    },
    {
     "name": "stderr",
     "output_type": "stream",
     "text": [
      "Note: The following floating-point exceptions are signalling: IEEE_INVALID_FLAG IEEE_UNDERFLOW_FLAG IEEE_DENORMAL\n",
      "STOP  LBLRTM EXIT \n",
      "2.29user 0.92system 0:04.52elapsed 71%CPU (0avgtext+0avgdata 7628maxresident)k\n",
      "0inputs+0outputs (0major+1232minor)pagefaults 0swaps\n"
     ]
    },
    {
     "name": "stdout",
     "output_type": "stream",
     "text": [
      "\n",
      "Running exec: lblrtm\n",
      "\n",
      "\n"
     ]
    },
    {
     "name": "stderr",
     "output_type": "stream",
     "text": [
      "Note: The following floating-point exceptions are signalling: IEEE_INVALID_FLAG IEEE_UNDERFLOW_FLAG IEEE_DENORMAL\n",
      "STOP  LBLRTM EXIT \n",
      "1.98user 0.89system 0:05.42elapsed 53%CPU (0avgtext+0avgdata 7648maxresident)k\n",
      "0inputs+0outputs (0major+1236minor)pagefaults 0swaps\n"
     ]
    },
    {
     "name": "stdout",
     "output_type": "stream",
     "text": [
      "\n",
      "Running exec: lblrtm\n",
      "\n",
      "\n"
     ]
    },
    {
     "name": "stderr",
     "output_type": "stream",
     "text": [
      "Note: The following floating-point exceptions are signalling: IEEE_INVALID_FLAG IEEE_UNDERFLOW_FLAG IEEE_DENORMAL\n",
      "STOP  LBLRTM EXIT \n",
      "0.47user 0.64system 0:01.29elapsed 87%CPU (0avgtext+0avgdata 7668maxresident)k\n",
      "0inputs+0outputs (0major+1223minor)pagefaults 0swaps\n"
     ]
    },
    {
     "name": "stdout",
     "output_type": "stream",
     "text": [
      "\n",
      "Running exec: lblrtm\n",
      "\n",
      "\n"
     ]
    },
    {
     "name": "stderr",
     "output_type": "stream",
     "text": [
      "Note: The following floating-point exceptions are signalling: IEEE_INVALID_FLAG IEEE_UNDERFLOW_FLAG IEEE_DENORMAL\n",
      "STOP  LBLRTM EXIT \n",
      "2.23user 0.95system 0:05.37elapsed 59%CPU (0avgtext+0avgdata 7556maxresident)k\n",
      "0inputs+0outputs (0major+1233minor)pagefaults 0swaps\n"
     ]
    },
    {
     "name": "stdout",
     "output_type": "stream",
     "text": [
      "\n",
      "Running exec: lblrtm\n",
      "\n",
      "\n"
     ]
    },
    {
     "name": "stderr",
     "output_type": "stream",
     "text": [
      "Note: The following floating-point exceptions are signalling: IEEE_INVALID_FLAG IEEE_UNDERFLOW_FLAG IEEE_DENORMAL\n",
      "STOP  LBLRTM EXIT \n",
      "1.98user 0.88system 0:04.44elapsed 64%CPU (0avgtext+0avgdata 7624maxresident)k\n",
      "0inputs+0outputs (0major+1234minor)pagefaults 0swaps\n"
     ]
    },
    {
     "name": "stdout",
     "output_type": "stream",
     "text": [
      "\n",
      "Running exec: lblrtm\n",
      "\n",
      "\n"
     ]
    },
    {
     "name": "stderr",
     "output_type": "stream",
     "text": [
      "Note: The following floating-point exceptions are signalling: IEEE_INVALID_FLAG IEEE_UNDERFLOW_FLAG IEEE_DENORMAL\n",
      "STOP  LBLRTM EXIT \n",
      "0.46user 0.67system 0:01.30elapsed 87%CPU (0avgtext+0avgdata 7744maxresident)k\n",
      "0inputs+0outputs (0major+1223minor)pagefaults 0swaps\n"
     ]
    },
    {
     "name": "stdout",
     "output_type": "stream",
     "text": [
      "\n",
      "Running exec: lblrtm\n",
      "\n",
      "\n"
     ]
    },
    {
     "name": "stderr",
     "output_type": "stream",
     "text": [
      "Note: The following floating-point exceptions are signalling: IEEE_INVALID_FLAG IEEE_UNDERFLOW_FLAG IEEE_DENORMAL\n",
      "STOP  LBLRTM EXIT \n",
      "2.22user 0.94system 0:05.01elapsed 63%CPU (0avgtext+0avgdata 7572maxresident)k\n",
      "0inputs+0outputs (0major+1234minor)pagefaults 0swaps\n"
     ]
    },
    {
     "name": "stdout",
     "output_type": "stream",
     "text": [
      "\n",
      "Running exec: lblrtm\n",
      "\n",
      "\n"
     ]
    },
    {
     "name": "stderr",
     "output_type": "stream",
     "text": [
      "Note: The following floating-point exceptions are signalling: IEEE_INVALID_FLAG IEEE_UNDERFLOW_FLAG IEEE_DENORMAL\n",
      "STOP  LBLRTM EXIT \n",
      "1.91user 0.92system 0:04.37elapsed 64%CPU (0avgtext+0avgdata 7556maxresident)k\n",
      "0inputs+0outputs (0major+1235minor)pagefaults 0swaps\n"
     ]
    },
    {
     "name": "stdout",
     "output_type": "stream",
     "text": [
      "\n",
      "Running exec: lblrtm\n",
      "\n",
      "\n"
     ]
    },
    {
     "name": "stderr",
     "output_type": "stream",
     "text": [
      "Note: The following floating-point exceptions are signalling: IEEE_INVALID_FLAG IEEE_UNDERFLOW_FLAG IEEE_DENORMAL\n",
      "STOP  LBLRTM EXIT \n",
      "0.51user 0.61system 0:01.29elapsed 87%CPU (0avgtext+0avgdata 7664maxresident)k\n",
      "0inputs+0outputs (0major+1226minor)pagefaults 0swaps\n"
     ]
    },
    {
     "name": "stdout",
     "output_type": "stream",
     "text": [
      "\n",
      "Running exec: lblrtm\n",
      "\n",
      "\n"
     ]
    },
    {
     "name": "stderr",
     "output_type": "stream",
     "text": [
      "Note: The following floating-point exceptions are signalling: IEEE_INVALID_FLAG IEEE_UNDERFLOW_FLAG IEEE_DENORMAL\n",
      "STOP  LBLRTM EXIT \n",
      "2.26user 0.96system 0:06.31elapsed 51%CPU (0avgtext+0avgdata 7792maxresident)k\n",
      "0inputs+0outputs (0major+1237minor)pagefaults 0swaps\n"
     ]
    },
    {
     "name": "stdout",
     "output_type": "stream",
     "text": [
      "\n",
      "Running exec: lblrtm\n",
      "\n",
      "\n"
     ]
    },
    {
     "name": "stderr",
     "output_type": "stream",
     "text": [
      "Note: The following floating-point exceptions are signalling: IEEE_INVALID_FLAG IEEE_UNDERFLOW_FLAG IEEE_DENORMAL\n",
      "STOP  LBLRTM EXIT \n",
      "1.97user 0.94system 0:04.84elapsed 60%CPU (0avgtext+0avgdata 7716maxresident)k\n",
      "0inputs+0outputs (0major+1238minor)pagefaults 0swaps\n"
     ]
    },
    {
     "name": "stdout",
     "output_type": "stream",
     "text": [
      "\n",
      "Running exec: lblrtm\n",
      "\n",
      "\n"
     ]
    },
    {
     "name": "stderr",
     "output_type": "stream",
     "text": [
      "Note: The following floating-point exceptions are signalling: IEEE_INVALID_FLAG IEEE_UNDERFLOW_FLAG IEEE_DENORMAL\n",
      "STOP  LBLRTM EXIT \n",
      "0.46user 0.66system 0:01.54elapsed 73%CPU (0avgtext+0avgdata 7556maxresident)k\n",
      "0inputs+0outputs (0major+1222minor)pagefaults 0swaps\n"
     ]
    },
    {
     "name": "stdout",
     "output_type": "stream",
     "text": [
      "\n",
      "Running exec: lblrtm\n",
      "\n",
      "\n"
     ]
    },
    {
     "name": "stderr",
     "output_type": "stream",
     "text": [
      "Note: The following floating-point exceptions are signalling: IEEE_INVALID_FLAG IEEE_UNDERFLOW_FLAG IEEE_DENORMAL\n",
      "STOP  LBLRTM EXIT \n",
      "2.25user 0.95system 0:05.26elapsed 60%CPU (0avgtext+0avgdata 7748maxresident)k\n",
      "0inputs+0outputs (0major+1234minor)pagefaults 0swaps\n"
     ]
    },
    {
     "name": "stdout",
     "output_type": "stream",
     "text": [
      "\n",
      "Running exec: lblrtm\n",
      "\n",
      "\n"
     ]
    },
    {
     "name": "stderr",
     "output_type": "stream",
     "text": [
      "Note: The following floating-point exceptions are signalling: IEEE_INVALID_FLAG IEEE_UNDERFLOW_FLAG IEEE_DENORMAL\n",
      "STOP  LBLRTM EXIT \n",
      "1.93user 0.94system 0:04.32elapsed 66%CPU (0avgtext+0avgdata 7684maxresident)k\n",
      "0inputs+0outputs (0major+1238minor)pagefaults 0swaps\n"
     ]
    },
    {
     "name": "stdout",
     "output_type": "stream",
     "text": [
      "\n",
      "Running exec: lblrtm\n",
      "\n",
      "\n"
     ]
    },
    {
     "name": "stderr",
     "output_type": "stream",
     "text": [
      "Note: The following floating-point exceptions are signalling: IEEE_INVALID_FLAG IEEE_UNDERFLOW_FLAG IEEE_DENORMAL\n",
      "STOP  LBLRTM EXIT \n",
      "0.47user 0.66system 0:01.30elapsed 86%CPU (0avgtext+0avgdata 7672maxresident)k\n",
      "0inputs+0outputs (0major+1223minor)pagefaults 0swaps\n"
     ]
    },
    {
     "name": "stdout",
     "output_type": "stream",
     "text": [
      "\n",
      "Running exec: lblrtm\n",
      "\n",
      "\n"
     ]
    },
    {
     "name": "stderr",
     "output_type": "stream",
     "text": [
      "Note: The following floating-point exceptions are signalling: IEEE_INVALID_FLAG IEEE_UNDERFLOW_FLAG IEEE_DENORMAL\n",
      "STOP  LBLRTM EXIT \n",
      "2.21user 0.93system 0:04.13elapsed 76%CPU (0avgtext+0avgdata 7752maxresident)k\n",
      "0inputs+0outputs (0major+1237minor)pagefaults 0swaps\n"
     ]
    },
    {
     "name": "stdout",
     "output_type": "stream",
     "text": [
      "\n",
      "Running exec: lblrtm\n",
      "\n",
      "\n"
     ]
    },
    {
     "name": "stderr",
     "output_type": "stream",
     "text": [
      "Note: The following floating-point exceptions are signalling: IEEE_INVALID_FLAG IEEE_UNDERFLOW_FLAG IEEE_DENORMAL\n",
      "STOP  LBLRTM EXIT \n",
      "1.96user 0.92system 0:04.78elapsed 60%CPU (0avgtext+0avgdata 7636maxresident)k\n",
      "0inputs+0outputs (0major+1236minor)pagefaults 0swaps\n"
     ]
    },
    {
     "name": "stdout",
     "output_type": "stream",
     "text": [
      "\n",
      "Running exec: lblrtm\n",
      "\n",
      "\n"
     ]
    },
    {
     "name": "stderr",
     "output_type": "stream",
     "text": [
      "Note: The following floating-point exceptions are signalling: IEEE_INVALID_FLAG IEEE_UNDERFLOW_FLAG IEEE_DENORMAL\n",
      "STOP  LBLRTM EXIT \n",
      "0.48user 0.65system 0:01.29elapsed 87%CPU (0avgtext+0avgdata 7668maxresident)k\n",
      "0inputs+0outputs (0major+1222minor)pagefaults 0swaps\n"
     ]
    },
    {
     "name": "stdout",
     "output_type": "stream",
     "text": [
      "\n",
      "Running exec: lblrtm\n",
      "\n",
      "\n"
     ]
    },
    {
     "name": "stderr",
     "output_type": "stream",
     "text": [
      "Note: The following floating-point exceptions are signalling: IEEE_INVALID_FLAG IEEE_UNDERFLOW_FLAG IEEE_DENORMAL\n",
      "STOP  LBLRTM EXIT \n",
      "2.24user 0.97system 0:05.62elapsed 57%CPU (0avgtext+0avgdata 7720maxresident)k\n",
      "0inputs+0outputs (0major+1237minor)pagefaults 0swaps\n"
     ]
    },
    {
     "name": "stdout",
     "output_type": "stream",
     "text": [
      "\n",
      "Running exec: lblrtm\n",
      "\n",
      "\n"
     ]
    },
    {
     "name": "stderr",
     "output_type": "stream",
     "text": [
      "Note: The following floating-point exceptions are signalling: IEEE_INVALID_FLAG IEEE_UNDERFLOW_FLAG IEEE_DENORMAL\n",
      "STOP  LBLRTM EXIT \n",
      "2.01user 0.90system 0:04.60elapsed 63%CPU (0avgtext+0avgdata 7672maxresident)k\n",
      "0inputs+0outputs (0major+1236minor)pagefaults 0swaps\n"
     ]
    },
    {
     "name": "stdout",
     "output_type": "stream",
     "text": [
      "\n",
      "Running exec: lblrtm\n",
      "\n",
      "\n"
     ]
    },
    {
     "name": "stderr",
     "output_type": "stream",
     "text": [
      "Note: The following floating-point exceptions are signalling: IEEE_INVALID_FLAG IEEE_UNDERFLOW_FLAG IEEE_DENORMAL\n",
      "STOP  LBLRTM EXIT \n",
      "0.47user 0.64system 0:01.27elapsed 87%CPU (0avgtext+0avgdata 7704maxresident)k\n",
      "0inputs+0outputs (0major+1226minor)pagefaults 0swaps\n"
     ]
    },
    {
     "name": "stdout",
     "output_type": "stream",
     "text": [
      "\n",
      "Running exec: lblrtm\n",
      "\n",
      "\n"
     ]
    },
    {
     "name": "stderr",
     "output_type": "stream",
     "text": [
      "Note: The following floating-point exceptions are signalling: IEEE_INVALID_FLAG IEEE_UNDERFLOW_FLAG IEEE_DENORMAL\n",
      "STOP  LBLRTM EXIT \n",
      "2.20user 0.96system 0:04.40elapsed 71%CPU (0avgtext+0avgdata 7792maxresident)k\n",
      "0inputs+0outputs (0major+1237minor)pagefaults 0swaps\n"
     ]
    },
    {
     "name": "stdout",
     "output_type": "stream",
     "text": [
      "\n",
      "Running exec: lblrtm\n",
      "\n",
      "\n"
     ]
    },
    {
     "name": "stderr",
     "output_type": "stream",
     "text": [
      "Note: The following floating-point exceptions are signalling: IEEE_INVALID_FLAG IEEE_UNDERFLOW_FLAG IEEE_DENORMAL\n",
      "STOP  LBLRTM EXIT \n",
      "1.97user 0.91system 0:05.45elapsed 52%CPU (0avgtext+0avgdata 7732maxresident)k\n",
      "0inputs+0outputs (0major+1237minor)pagefaults 0swaps\n"
     ]
    },
    {
     "name": "stdout",
     "output_type": "stream",
     "text": [
      "\n",
      "Running exec: lblrtm\n",
      "\n",
      "\n"
     ]
    },
    {
     "name": "stderr",
     "output_type": "stream",
     "text": [
      "Note: The following floating-point exceptions are signalling: IEEE_INVALID_FLAG IEEE_UNDERFLOW_FLAG IEEE_DENORMAL\n",
      "STOP  LBLRTM EXIT \n",
      "0.48user 0.64system 0:01.29elapsed 87%CPU (0avgtext+0avgdata 7668maxresident)k\n",
      "0inputs+0outputs (0major+1224minor)pagefaults 0swaps\n"
     ]
    },
    {
     "name": "stdout",
     "output_type": "stream",
     "text": [
      "\n",
      "Running exec: lblrtm\n",
      "\n",
      "\n"
     ]
    },
    {
     "name": "stderr",
     "output_type": "stream",
     "text": [
      "Note: The following floating-point exceptions are signalling: IEEE_INVALID_FLAG IEEE_UNDERFLOW_FLAG IEEE_DENORMAL\n",
      "STOP  LBLRTM EXIT \n",
      "2.29user 0.93system 0:04.85elapsed 66%CPU (0avgtext+0avgdata 7748maxresident)k\n",
      "0inputs+0outputs (0major+1234minor)pagefaults 0swaps\n"
     ]
    },
    {
     "name": "stdout",
     "output_type": "stream",
     "text": [
      "\n",
      "Running exec: lblrtm\n",
      "\n",
      "\n"
     ]
    },
    {
     "name": "stderr",
     "output_type": "stream",
     "text": [
      "Note: The following floating-point exceptions are signalling: IEEE_INVALID_FLAG IEEE_UNDERFLOW_FLAG IEEE_DENORMAL\n",
      "STOP  LBLRTM EXIT \n",
      "2.00user 0.88system 0:04.30elapsed 67%CPU (0avgtext+0avgdata 7720maxresident)k\n",
      "0inputs+0outputs (0major+1235minor)pagefaults 0swaps\n"
     ]
    },
    {
     "name": "stdout",
     "output_type": "stream",
     "text": [
      "\n",
      "Running exec: lblrtm\n",
      "\n",
      "\n"
     ]
    },
    {
     "name": "stderr",
     "output_type": "stream",
     "text": [
      "Note: The following floating-point exceptions are signalling: IEEE_INVALID_FLAG IEEE_UNDERFLOW_FLAG IEEE_DENORMAL\n",
      "STOP  LBLRTM EXIT \n",
      "0.43user 0.69system 0:01.76elapsed 64%CPU (0avgtext+0avgdata 7668maxresident)k\n",
      "0inputs+0outputs (0major+1223minor)pagefaults 0swaps\n"
     ]
    },
    {
     "name": "stdout",
     "output_type": "stream",
     "text": [
      "\n",
      "Running exec: lblrtm\n",
      "\n",
      "\n"
     ]
    },
    {
     "name": "stderr",
     "output_type": "stream",
     "text": [
      "Note: The following floating-point exceptions are signalling: IEEE_INVALID_FLAG IEEE_UNDERFLOW_FLAG IEEE_DENORMAL\n",
      "STOP  LBLRTM EXIT \n",
      "2.33user 0.92system 0:04.75elapsed 68%CPU (0avgtext+0avgdata 7684maxresident)k\n",
      "0inputs+0outputs (0major+1237minor)pagefaults 0swaps\n"
     ]
    },
    {
     "name": "stdout",
     "output_type": "stream",
     "text": [
      "\n",
      "Running exec: lblrtm\n",
      "\n",
      "\n"
     ]
    },
    {
     "name": "stderr",
     "output_type": "stream",
     "text": [
      "Note: The following floating-point exceptions are signalling: IEEE_INVALID_FLAG IEEE_UNDERFLOW_FLAG IEEE_DENORMAL\n",
      "STOP  LBLRTM EXIT \n",
      "1.98user 0.86system 0:04.26elapsed 66%CPU (0avgtext+0avgdata 7672maxresident)k\n",
      "0inputs+0outputs (0major+1235minor)pagefaults 0swaps\n"
     ]
    },
    {
     "name": "stdout",
     "output_type": "stream",
     "text": [
      "\n",
      "Running exec: lblrtm\n",
      "\n",
      "\n"
     ]
    },
    {
     "name": "stderr",
     "output_type": "stream",
     "text": [
      "Note: The following floating-point exceptions are signalling: IEEE_INVALID_FLAG IEEE_UNDERFLOW_FLAG IEEE_DENORMAL\n",
      "STOP  LBLRTM EXIT \n",
      "0.48user 0.65system 0:01.30elapsed 87%CPU (0avgtext+0avgdata 7512maxresident)k\n",
      "0inputs+0outputs (0major+1224minor)pagefaults 0swaps\n"
     ]
    },
    {
     "name": "stdout",
     "output_type": "stream",
     "text": [
      "\n",
      "Running exec: lblrtm\n",
      "\n",
      "\n"
     ]
    },
    {
     "name": "stderr",
     "output_type": "stream",
     "text": [
      "Note: The following floating-point exceptions are signalling: IEEE_INVALID_FLAG IEEE_UNDERFLOW_FLAG IEEE_DENORMAL\n",
      "STOP  LBLRTM EXIT \n",
      "2.23user 0.99system 0:05.05elapsed 63%CPU (0avgtext+0avgdata 7720maxresident)k\n",
      "0inputs+0outputs (0major+1237minor)pagefaults 0swaps\n"
     ]
    },
    {
     "name": "stdout",
     "output_type": "stream",
     "text": [
      "\n",
      "Running exec: lblrtm\n",
      "\n",
      "\n"
     ]
    },
    {
     "name": "stderr",
     "output_type": "stream",
     "text": [
      "Note: The following floating-point exceptions are signalling: IEEE_INVALID_FLAG IEEE_UNDERFLOW_FLAG IEEE_DENORMAL\n",
      "STOP  LBLRTM EXIT \n",
      "1.93user 0.93system 0:04.32elapsed 66%CPU (0avgtext+0avgdata 7624maxresident)k\n",
      "0inputs+0outputs (0major+1236minor)pagefaults 0swaps\n"
     ]
    },
    {
     "name": "stdout",
     "output_type": "stream",
     "text": [
      "\n",
      "Running exec: lblrtm\n",
      "\n",
      "\n"
     ]
    },
    {
     "name": "stderr",
     "output_type": "stream",
     "text": [
      "Note: The following floating-point exceptions are signalling: IEEE_INVALID_FLAG IEEE_UNDERFLOW_FLAG IEEE_DENORMAL\n",
      "STOP  LBLRTM EXIT \n",
      "0.47user 0.64system 0:01.28elapsed 86%CPU (0avgtext+0avgdata 7668maxresident)k\n",
      "0inputs+0outputs (0major+1223minor)pagefaults 0swaps\n"
     ]
    },
    {
     "name": "stdout",
     "output_type": "stream",
     "text": [
      "\n",
      "Running exec: lblrtm\n",
      "\n",
      "\n"
     ]
    },
    {
     "name": "stderr",
     "output_type": "stream",
     "text": [
      "Note: The following floating-point exceptions are signalling: IEEE_INVALID_FLAG IEEE_UNDERFLOW_FLAG IEEE_DENORMAL\n",
      "STOP  LBLRTM EXIT \n",
      "2.23user 0.95system 0:05.20elapsed 61%CPU (0avgtext+0avgdata 7556maxresident)k\n",
      "0inputs+0outputs (0major+1235minor)pagefaults 0swaps\n"
     ]
    },
    {
     "name": "stdout",
     "output_type": "stream",
     "text": [
      "\n",
      "Running exec: lblrtm\n",
      "\n",
      "\n"
     ]
    },
    {
     "name": "stderr",
     "output_type": "stream",
     "text": [
      "Note: The following floating-point exceptions are signalling: IEEE_INVALID_FLAG IEEE_UNDERFLOW_FLAG IEEE_DENORMAL\n",
      "STOP  LBLRTM EXIT \n",
      "0.46user 0.69system 0:01.33elapsed 87%CPU (0avgtext+0avgdata 7560maxresident)k\n",
      "0inputs+0outputs (0major+1222minor)pagefaults 0swaps\n"
     ]
    },
    {
     "name": "stdout",
     "output_type": "stream",
     "text": [
      "\n",
      "Running exec: lblrtm\n",
      "\n",
      "\n"
     ]
    },
    {
     "name": "stderr",
     "output_type": "stream",
     "text": [
      "Note: The following floating-point exceptions are signalling: IEEE_INVALID_FLAG IEEE_UNDERFLOW_FLAG IEEE_DENORMAL\n",
      "STOP  LBLRTM EXIT \n",
      "2.24user 0.93system 0:04.04elapsed 78%CPU (0avgtext+0avgdata 7684maxresident)k\n",
      "0inputs+0outputs (0major+1237minor)pagefaults 0swaps\n"
     ]
    },
    {
     "name": "stdout",
     "output_type": "stream",
     "text": [
      "\n",
      "Running exec: lblrtm\n",
      "\n",
      "\n"
     ]
    },
    {
     "name": "stderr",
     "output_type": "stream",
     "text": [
      "Note: The following floating-point exceptions are signalling: IEEE_INVALID_FLAG IEEE_UNDERFLOW_FLAG IEEE_DENORMAL\n",
      "STOP  LBLRTM EXIT \n",
      "1.95user 0.92system 0:04.79elapsed 60%CPU (0avgtext+0avgdata 7624maxresident)k\n",
      "0inputs+0outputs (0major+1234minor)pagefaults 0swaps\n"
     ]
    },
    {
     "name": "stdout",
     "output_type": "stream",
     "text": [
      "\n",
      "Running exec: lblrtm\n",
      "\n",
      "\n"
     ]
    },
    {
     "name": "stderr",
     "output_type": "stream",
     "text": [
      "Note: The following floating-point exceptions are signalling: IEEE_INVALID_FLAG IEEE_UNDERFLOW_FLAG IEEE_DENORMAL\n",
      "STOP  LBLRTM EXIT \n",
      "0.46user 0.66system 0:01.29elapsed 87%CPU (0avgtext+0avgdata 7636maxresident)k\n",
      "0inputs+0outputs (0major+1225minor)pagefaults 0swaps\n"
     ]
    },
    {
     "name": "stdout",
     "output_type": "stream",
     "text": [
      "\n",
      "Running exec: lblrtm\n",
      "\n",
      "\n"
     ]
    },
    {
     "name": "stderr",
     "output_type": "stream",
     "text": [
      "Note: The following floating-point exceptions are signalling: IEEE_INVALID_FLAG IEEE_UNDERFLOW_FLAG IEEE_DENORMAL\n",
      "STOP  LBLRTM EXIT \n",
      "2.25user 1.00system 0:05.70elapsed 57%CPU (0avgtext+0avgdata 7688maxresident)k\n",
      "0inputs+0outputs (0major+1236minor)pagefaults 0swaps\n"
     ]
    },
    {
     "name": "stdout",
     "output_type": "stream",
     "text": [
      "\n",
      "Running exec: lblrtm\n",
      "\n",
      "\n"
     ]
    },
    {
     "name": "stderr",
     "output_type": "stream",
     "text": [
      "Note: The following floating-point exceptions are signalling: IEEE_INVALID_FLAG IEEE_UNDERFLOW_FLAG IEEE_DENORMAL\n",
      "STOP  LBLRTM EXIT \n",
      "1.95user 0.89system 0:03.78elapsed 75%CPU (0avgtext+0avgdata 7524maxresident)k\n",
      "0inputs+0outputs (0major+1235minor)pagefaults 0swaps\n"
     ]
    },
    {
     "name": "stdout",
     "output_type": "stream",
     "text": [
      "\n",
      "Running exec: lblrtm\n",
      "\n",
      "\n"
     ]
    },
    {
     "name": "stderr",
     "output_type": "stream",
     "text": [
      "Note: The following floating-point exceptions are signalling: IEEE_INVALID_FLAG IEEE_UNDERFLOW_FLAG IEEE_DENORMAL\n",
      "STOP  LBLRTM EXIT \n",
      "0.45user 0.67system 0:01.40elapsed 80%CPU (0avgtext+0avgdata 7668maxresident)k\n",
      "0inputs+0outputs (0major+1223minor)pagefaults 0swaps\n"
     ]
    },
    {
     "name": "stdout",
     "output_type": "stream",
     "text": [
      "\n",
      "Running exec: lblrtm\n",
      "\n",
      "\n"
     ]
    },
    {
     "name": "stderr",
     "output_type": "stream",
     "text": [
      "Note: The following floating-point exceptions are signalling: IEEE_INVALID_FLAG IEEE_UNDERFLOW_FLAG IEEE_DENORMAL\n",
      "STOP  LBLRTM EXIT \n",
      "2.25user 0.92system 0:03.81elapsed 83%CPU (0avgtext+0avgdata 7624maxresident)k\n",
      "0inputs+0outputs (0major+1233minor)pagefaults 0swaps\n"
     ]
    },
    {
     "name": "stdout",
     "output_type": "stream",
     "text": [
      "\n",
      "Running exec: lblrtm\n",
      "\n",
      "\n"
     ]
    },
    {
     "name": "stderr",
     "output_type": "stream",
     "text": [
      "Note: The following floating-point exceptions are signalling: IEEE_INVALID_FLAG IEEE_UNDERFLOW_FLAG IEEE_DENORMAL\n",
      "STOP  LBLRTM EXIT \n",
      "1.97user 0.90system 0:03.80elapsed 75%CPU (0avgtext+0avgdata 7620maxresident)k\n",
      "0inputs+0outputs (0major+1234minor)pagefaults 0swaps\n"
     ]
    },
    {
     "name": "stdout",
     "output_type": "stream",
     "text": [
      "\n",
      "Running exec: lblrtm\n",
      "\n",
      "\n"
     ]
    },
    {
     "name": "stderr",
     "output_type": "stream",
     "text": [
      "Note: The following floating-point exceptions are signalling: IEEE_INVALID_FLAG IEEE_UNDERFLOW_FLAG IEEE_DENORMAL\n",
      "STOP  LBLRTM EXIT \n",
      "0.47user 0.64system 0:01.30elapsed 85%CPU (0avgtext+0avgdata 7524maxresident)k\n",
      "0inputs+0outputs (0major+1224minor)pagefaults 0swaps\n"
     ]
    },
    {
     "name": "stdout",
     "output_type": "stream",
     "text": [
      "\n",
      "Running exec: lblrtm\n",
      "\n",
      "\n"
     ]
    },
    {
     "name": "stderr",
     "output_type": "stream",
     "text": [
      "Note: The following floating-point exceptions are signalling: IEEE_INVALID_FLAG IEEE_UNDERFLOW_FLAG IEEE_DENORMAL\n",
      "STOP  LBLRTM EXIT \n",
      "2.21user 0.95system 0:04.90elapsed 64%CPU (0avgtext+0avgdata 7556maxresident)k\n",
      "0inputs+0outputs (0major+1233minor)pagefaults 0swaps\n"
     ]
    },
    {
     "name": "stdout",
     "output_type": "stream",
     "text": [
      "\n",
      "Running exec: lblrtm\n",
      "\n",
      "\n"
     ]
    },
    {
     "name": "stderr",
     "output_type": "stream",
     "text": [
      "Note: The following floating-point exceptions are signalling: IEEE_INVALID_FLAG IEEE_UNDERFLOW_FLAG IEEE_DENORMAL\n",
      "STOP  LBLRTM EXIT \n",
      "1.90user 0.97system 0:04.00elapsed 72%CPU (0avgtext+0avgdata 7624maxresident)k\n",
      "0inputs+0outputs (0major+1235minor)pagefaults 0swaps\n"
     ]
    },
    {
     "name": "stdout",
     "output_type": "stream",
     "text": [
      "\n",
      "Running exec: lblrtm\n",
      "\n",
      "\n"
     ]
    },
    {
     "name": "stderr",
     "output_type": "stream",
     "text": [
      "Note: The following floating-point exceptions are signalling: IEEE_INVALID_FLAG IEEE_UNDERFLOW_FLAG IEEE_DENORMAL\n",
      "STOP  LBLRTM EXIT \n",
      "0.47user 0.64system 0:01.27elapsed 87%CPU (0avgtext+0avgdata 7664maxresident)k\n",
      "0inputs+0outputs (0major+1225minor)pagefaults 0swaps\n"
     ]
    },
    {
     "name": "stdout",
     "output_type": "stream",
     "text": [
      "\n",
      "Running exec: lblrtm\n",
      "\n",
      "\n"
     ]
    },
    {
     "name": "stderr",
     "output_type": "stream",
     "text": [
      "Note: The following floating-point exceptions are signalling: IEEE_INVALID_FLAG IEEE_UNDERFLOW_FLAG IEEE_DENORMAL\n",
      "STOP  LBLRTM EXIT \n",
      "2.28user 0.97system 0:05.50elapsed 59%CPU (0avgtext+0avgdata 7720maxresident)k\n",
      "0inputs+0outputs (0major+1237minor)pagefaults 0swaps\n"
     ]
    },
    {
     "name": "stdout",
     "output_type": "stream",
     "text": [
      "\n",
      "Running exec: lblrtm\n",
      "\n",
      "\n"
     ]
    },
    {
     "name": "stderr",
     "output_type": "stream",
     "text": [
      "Note: The following floating-point exceptions are signalling: IEEE_INVALID_FLAG IEEE_UNDERFLOW_FLAG IEEE_DENORMAL\n",
      "STOP  LBLRTM EXIT \n",
      "1.95user 0.90system 0:03.59elapsed 79%CPU (0avgtext+0avgdata 7672maxresident)k\n",
      "0inputs+0outputs (0major+1235minor)pagefaults 0swaps\n"
     ]
    },
    {
     "name": "stdout",
     "output_type": "stream",
     "text": [
      "\n",
      "Running exec: lblrtm\n",
      "\n",
      "\n"
     ]
    },
    {
     "name": "stderr",
     "output_type": "stream",
     "text": [
      "Note: The following floating-point exceptions are signalling: IEEE_INVALID_FLAG IEEE_UNDERFLOW_FLAG IEEE_DENORMAL\n",
      "STOP  LBLRTM EXIT \n",
      "0.47user 0.65system 0:01.28elapsed 87%CPU (0avgtext+0avgdata 7524maxresident)k\n",
      "0inputs+0outputs (0major+1223minor)pagefaults 0swaps\n"
     ]
    },
    {
     "name": "stdout",
     "output_type": "stream",
     "text": [
      "\n",
      "Running exec: lblrtm\n",
      "\n",
      "\n"
     ]
    },
    {
     "name": "stderr",
     "output_type": "stream",
     "text": [
      "Note: The following floating-point exceptions are signalling: IEEE_INVALID_FLAG IEEE_UNDERFLOW_FLAG IEEE_DENORMAL\n",
      "STOP  LBLRTM EXIT \n",
      "2.22user 0.99system 0:03.81elapsed 84%CPU (0avgtext+0avgdata 7648maxresident)k\n",
      "0inputs+0outputs (0major+1235minor)pagefaults 0swaps\n"
     ]
    },
    {
     "name": "stdout",
     "output_type": "stream",
     "text": [
      "\n",
      "Running exec: lblrtm\n",
      "\n",
      "\n"
     ]
    },
    {
     "name": "stderr",
     "output_type": "stream",
     "text": [
      "Note: The following floating-point exceptions are signalling: IEEE_INVALID_FLAG IEEE_UNDERFLOW_FLAG IEEE_DENORMAL\n",
      "STOP  LBLRTM EXIT \n",
      "2.00user 0.88system 0:05.00elapsed 57%CPU (0avgtext+0avgdata 7732maxresident)k\n",
      "0inputs+0outputs (0major+1238minor)pagefaults 0swaps\n"
     ]
    },
    {
     "name": "stdout",
     "output_type": "stream",
     "text": [
      "\n",
      "Running exec: lblrtm\n",
      "\n",
      "\n"
     ]
    },
    {
     "name": "stderr",
     "output_type": "stream",
     "text": [
      "Note: The following floating-point exceptions are signalling: IEEE_INVALID_FLAG IEEE_UNDERFLOW_FLAG IEEE_DENORMAL\n",
      "STOP  LBLRTM EXIT \n",
      "0.45user 0.67system 0:01.28elapsed 87%CPU (0avgtext+0avgdata 7620maxresident)k\n",
      "0inputs+0outputs (0major+1222minor)pagefaults 0swaps\n"
     ]
    },
    {
     "name": "stdout",
     "output_type": "stream",
     "text": [
      "\n",
      "Running exec: lblrtm\n",
      "\n",
      "\n"
     ]
    },
    {
     "name": "stderr",
     "output_type": "stream",
     "text": [
      "Note: The following floating-point exceptions are signalling: IEEE_INVALID_FLAG IEEE_UNDERFLOW_FLAG IEEE_DENORMAL\n",
      "STOP  LBLRTM EXIT \n",
      "2.27user 0.98system 0:05.97elapsed 54%CPU (0avgtext+0avgdata 7628maxresident)k\n",
      "0inputs+0outputs (0major+1233minor)pagefaults 0swaps\n"
     ]
    },
    {
     "name": "stdout",
     "output_type": "stream",
     "text": [
      "\n",
      "Running exec: lblrtm\n",
      "\n",
      "\n"
     ]
    },
    {
     "name": "stderr",
     "output_type": "stream",
     "text": [
      "Note: The following floating-point exceptions are signalling: IEEE_INVALID_FLAG IEEE_UNDERFLOW_FLAG IEEE_DENORMAL\n",
      "STOP  LBLRTM EXIT \n",
      "2.03user 0.93system 0:05.61elapsed 52%CPU (0avgtext+0avgdata 7720maxresident)k\n",
      "0inputs+0outputs (0major+1235minor)pagefaults 0swaps\n"
     ]
    },
    {
     "name": "stdout",
     "output_type": "stream",
     "text": [
      "\n",
      "Running exec: lblrtm\n",
      "\n",
      "\n"
     ]
    },
    {
     "name": "stderr",
     "output_type": "stream",
     "text": [
      "Note: The following floating-point exceptions are signalling: IEEE_INVALID_FLAG IEEE_UNDERFLOW_FLAG IEEE_DENORMAL\n",
      "STOP  LBLRTM EXIT \n",
      "0.47user 0.66system 0:01.29elapsed 87%CPU (0avgtext+0avgdata 7704maxresident)k\n",
      "0inputs+0outputs (0major+1226minor)pagefaults 0swaps\n"
     ]
    },
    {
     "name": "stdout",
     "output_type": "stream",
     "text": [
      "\n",
      "Running exec: lblrtm\n",
      "\n",
      "\n"
     ]
    },
    {
     "name": "stderr",
     "output_type": "stream",
     "text": [
      "Note: The following floating-point exceptions are signalling: IEEE_INVALID_FLAG IEEE_UNDERFLOW_FLAG IEEE_DENORMAL\n",
      "STOP  LBLRTM EXIT \n",
      "2.24user 0.93system 0:04.16elapsed 76%CPU (0avgtext+0avgdata 7748maxresident)k\n",
      "0inputs+0outputs (0major+1234minor)pagefaults 0swaps\n"
     ]
    },
    {
     "name": "stdout",
     "output_type": "stream",
     "text": [
      "\n",
      "Running exec: lblrtm\n",
      "\n",
      "\n"
     ]
    },
    {
     "name": "stderr",
     "output_type": "stream",
     "text": [
      "Note: The following floating-point exceptions are signalling: IEEE_INVALID_FLAG IEEE_UNDERFLOW_FLAG IEEE_DENORMAL\n",
      "STOP  LBLRTM EXIT \n"
     ]
    },
    {
     "name": "stdout",
     "output_type": "stream",
     "text": [
      "\n",
      "Running exec: lblrtm\n",
      "\n",
      "\n"
     ]
    },
    {
     "name": "stderr",
     "output_type": "stream",
     "text": [
      "1.96user 0.92system 0:04.16elapsed 69%CPU (0avgtext+0avgdata 7668maxresident)k\n",
      "0inputs+0outputs (0major+1235minor)pagefaults 0swaps\n",
      "Note: The following floating-point exceptions are signalling: IEEE_INVALID_FLAG IEEE_UNDERFLOW_FLAG IEEE_DENORMAL\n",
      "STOP  LBLRTM EXIT \n",
      "0.45user 0.69system 0:01.31elapsed 87%CPU (0avgtext+0avgdata 7672maxresident)k\n",
      "0inputs+0outputs (0major+1222minor)pagefaults 0swaps\n"
     ]
    },
    {
     "name": "stdout",
     "output_type": "stream",
     "text": [
      "\n",
      "Running exec: lblrtm\n",
      "\n",
      "\n"
     ]
    },
    {
     "name": "stderr",
     "output_type": "stream",
     "text": [
      "Note: The following floating-point exceptions are signalling: IEEE_INVALID_FLAG IEEE_UNDERFLOW_FLAG IEEE_DENORMAL\n",
      "STOP  LBLRTM EXIT \n",
      "2.20user 0.96system 0:03.97elapsed 79%CPU (0avgtext+0avgdata 7720maxresident)k\n",
      "0inputs+0outputs (0major+1234minor)pagefaults 0swaps\n"
     ]
    },
    {
     "name": "stdout",
     "output_type": "stream",
     "text": [
      "\n",
      "Running exec: lblrtm\n",
      "\n",
      "\n"
     ]
    },
    {
     "name": "stderr",
     "output_type": "stream",
     "text": [
      "Note: The following floating-point exceptions are signalling: IEEE_INVALID_FLAG IEEE_UNDERFLOW_FLAG IEEE_DENORMAL\n",
      "STOP  LBLRTM EXIT \n",
      "1.93user 0.92system 0:04.00elapsed 71%CPU (0avgtext+0avgdata 7552maxresident)k\n",
      "0inputs+0outputs (0major+1236minor)pagefaults 0swaps\n"
     ]
    },
    {
     "name": "stdout",
     "output_type": "stream",
     "text": [
      "\n",
      "Running exec: lblrtm\n",
      "\n",
      "\n"
     ]
    },
    {
     "name": "stderr",
     "output_type": "stream",
     "text": [
      "Note: The following floating-point exceptions are signalling: IEEE_INVALID_FLAG IEEE_UNDERFLOW_FLAG IEEE_DENORMAL\n",
      "STOP  LBLRTM EXIT \n",
      "0.46user 0.68system 0:01.31elapsed 87%CPU (0avgtext+0avgdata 7640maxresident)k\n",
      "0inputs+0outputs (0major+1225minor)pagefaults 0swaps\n"
     ]
    },
    {
     "name": "stdout",
     "output_type": "stream",
     "text": [
      "\n",
      "Running exec: lblrtm\n",
      "\n",
      "\n"
     ]
    },
    {
     "name": "stderr",
     "output_type": "stream",
     "text": [
      "Note: The following floating-point exceptions are signalling: IEEE_INVALID_FLAG IEEE_UNDERFLOW_FLAG IEEE_DENORMAL\n",
      "STOP  LBLRTM EXIT \n",
      "2.20user 0.97system 0:04.36elapsed 72%CPU (0avgtext+0avgdata 7560maxresident)k\n",
      "0inputs+0outputs (0major+1233minor)pagefaults 0swaps\n"
     ]
    },
    {
     "name": "stdout",
     "output_type": "stream",
     "text": [
      "\n",
      "Running exec: lblrtm\n",
      "\n",
      "\n"
     ]
    },
    {
     "name": "stderr",
     "output_type": "stream",
     "text": [
      "Note: The following floating-point exceptions are signalling: IEEE_INVALID_FLAG IEEE_UNDERFLOW_FLAG IEEE_DENORMAL\n",
      "STOP  LBLRTM EXIT \n",
      "1.98user 0.87system 0:04.40elapsed 64%CPU (0avgtext+0avgdata 7684maxresident)k\n",
      "0inputs+0outputs (0major+1238minor)pagefaults 0swaps\n"
     ]
    },
    {
     "name": "stdout",
     "output_type": "stream",
     "text": [
      "\n",
      "Running exec: lblrtm\n",
      "\n",
      "\n"
     ]
    },
    {
     "name": "stderr",
     "output_type": "stream",
     "text": [
      "Note: The following floating-point exceptions are signalling: IEEE_INVALID_FLAG IEEE_UNDERFLOW_FLAG IEEE_DENORMAL\n",
      "STOP  LBLRTM EXIT \n",
      "0.45user 0.68system 0:01.30elapsed 87%CPU (0avgtext+0avgdata 7620maxresident)k\n",
      "0inputs+0outputs (0major+1223minor)pagefaults 0swaps\n"
     ]
    },
    {
     "name": "stdout",
     "output_type": "stream",
     "text": [
      "\n",
      "Running exec: lblrtm\n",
      "\n",
      "\n"
     ]
    },
    {
     "name": "stderr",
     "output_type": "stream",
     "text": [
      "Note: The following floating-point exceptions are signalling: IEEE_INVALID_FLAG IEEE_UNDERFLOW_FLAG IEEE_DENORMAL\n",
      "STOP  LBLRTM EXIT \n",
      "2.19user 0.96system 0:05.06elapsed 62%CPU (0avgtext+0avgdata 7624maxresident)k\n",
      "0inputs+0outputs (0major+1233minor)pagefaults 0swaps\n"
     ]
    },
    {
     "name": "stdout",
     "output_type": "stream",
     "text": [
      "\n",
      "Running exec: lblrtm\n",
      "\n",
      "\n"
     ]
    },
    {
     "name": "stderr",
     "output_type": "stream",
     "text": [
      "Note: The following floating-point exceptions are signalling: IEEE_INVALID_FLAG IEEE_UNDERFLOW_FLAG IEEE_DENORMAL\n",
      "STOP  LBLRTM EXIT \n",
      "1.96user 0.90system 0:04.53elapsed 63%CPU (0avgtext+0avgdata 7680maxresident)k\n",
      "0inputs+0outputs (0major+1238minor)pagefaults 0swaps\n"
     ]
    },
    {
     "name": "stdout",
     "output_type": "stream",
     "text": [
      "\n",
      "Running exec: lblrtm\n",
      "\n",
      "\n"
     ]
    },
    {
     "name": "stderr",
     "output_type": "stream",
     "text": [
      "Note: The following floating-point exceptions are signalling: IEEE_INVALID_FLAG IEEE_UNDERFLOW_FLAG IEEE_DENORMAL\n",
      "STOP  LBLRTM EXIT \n",
      "0.46user 0.69system 0:01.37elapsed 83%CPU (0avgtext+0avgdata 7624maxresident)k\n",
      "0inputs+0outputs (0major+1222minor)pagefaults 0swaps\n"
     ]
    },
    {
     "name": "stdout",
     "output_type": "stream",
     "text": [
      "\n",
      "Running exec: lblrtm\n",
      "\n",
      "\n"
     ]
    },
    {
     "name": "stderr",
     "output_type": "stream",
     "text": [
      "Note: The following floating-point exceptions are signalling: IEEE_INVALID_FLAG IEEE_UNDERFLOW_FLAG IEEE_DENORMAL\n",
      "STOP  LBLRTM EXIT \n",
      "2.19user 0.98system 0:04.60elapsed 68%CPU (0avgtext+0avgdata 7712maxresident)k\n",
      "0inputs+0outputs (0major+1236minor)pagefaults 0swaps\n"
     ]
    },
    {
     "name": "stdout",
     "output_type": "stream",
     "text": [
      "\n",
      "Running exec: lblrtm\n",
      "\n",
      "\n"
     ]
    },
    {
     "name": "stderr",
     "output_type": "stream",
     "text": [
      "Note: The following floating-point exceptions are signalling: IEEE_INVALID_FLAG IEEE_UNDERFLOW_FLAG IEEE_DENORMAL\n",
      "STOP  LBLRTM EXIT \n",
      "1.93user 0.91system 0:04.53elapsed 62%CPU (0avgtext+0avgdata 7684maxresident)k\n",
      "0inputs+0outputs (0major+1238minor)pagefaults 0swaps\n"
     ]
    },
    {
     "name": "stdout",
     "output_type": "stream",
     "text": [
      "\n",
      "Running exec: lblrtm\n",
      "\n",
      "\n"
     ]
    },
    {
     "name": "stderr",
     "output_type": "stream",
     "text": [
      "Note: The following floating-point exceptions are signalling: IEEE_INVALID_FLAG IEEE_UNDERFLOW_FLAG IEEE_DENORMAL\n",
      "STOP  LBLRTM EXIT \n",
      "0.47user 0.66system 0:01.29elapsed 87%CPU (0avgtext+0avgdata 7672maxresident)k\n",
      "0inputs+0outputs (0major+1223minor)pagefaults 0swaps\n"
     ]
    },
    {
     "name": "stdout",
     "output_type": "stream",
     "text": [
      "\n",
      "Running exec: lblrtm\n",
      "\n",
      "\n"
     ]
    },
    {
     "name": "stderr",
     "output_type": "stream",
     "text": [
      "Note: The following floating-point exceptions are signalling: IEEE_INVALID_FLAG IEEE_UNDERFLOW_FLAG IEEE_DENORMAL\n",
      "STOP  LBLRTM EXIT \n",
      "2.27user 0.98system 0:05.42elapsed 60%CPU (0avgtext+0avgdata 7720maxresident)k\n",
      "0inputs+0outputs (0major+1234minor)pagefaults 0swaps\n"
     ]
    },
    {
     "name": "stdout",
     "output_type": "stream",
     "text": [
      "\n",
      "Running exec: lblrtm\n",
      "\n",
      "\n"
     ]
    },
    {
     "name": "stderr",
     "output_type": "stream",
     "text": [
      "Note: The following floating-point exceptions are signalling: IEEE_INVALID_FLAG IEEE_UNDERFLOW_FLAG IEEE_DENORMAL\n",
      "STOP  LBLRTM EXIT \n",
      "1.95user 0.93system 0:03.66elapsed 78%CPU (0avgtext+0avgdata 7720maxresident)k\n",
      "0inputs+0outputs (0major+1235minor)pagefaults 0swaps\n"
     ]
    },
    {
     "name": "stdout",
     "output_type": "stream",
     "text": [
      "\n",
      "Running exec: lblrtm\n",
      "\n",
      "\n"
     ]
    },
    {
     "name": "stderr",
     "output_type": "stream",
     "text": [
      "Note: The following floating-point exceptions are signalling: IEEE_INVALID_FLAG IEEE_UNDERFLOW_FLAG IEEE_DENORMAL\n",
      "STOP  LBLRTM EXIT \n",
      "0.46user 0.70system 0:01.34elapsed 87%CPU (0avgtext+0avgdata 7704maxresident)k\n",
      "0inputs+0outputs (0major+1226minor)pagefaults 0swaps\n"
     ]
    },
    {
     "name": "stdout",
     "output_type": "stream",
     "text": [
      "\n",
      "Running exec: lblrtm\n",
      "\n",
      "\n"
     ]
    },
    {
     "name": "stderr",
     "output_type": "stream",
     "text": [
      "Note: The following floating-point exceptions are signalling: IEEE_INVALID_FLAG IEEE_UNDERFLOW_FLAG IEEE_DENORMAL\n",
      "STOP  LBLRTM EXIT \n",
      "2.25user 0.95system 0:04.23elapsed 76%CPU (0avgtext+0avgdata 7792maxresident)k\n",
      "0inputs+0outputs (0major+1237minor)pagefaults 0swaps\n"
     ]
    },
    {
     "name": "stdout",
     "output_type": "stream",
     "text": [
      "\n",
      "Running exec: lblrtm\n",
      "\n",
      "\n"
     ]
    },
    {
     "name": "stderr",
     "output_type": "stream",
     "text": [
      "Note: The following floating-point exceptions are signalling: IEEE_INVALID_FLAG IEEE_UNDERFLOW_FLAG IEEE_DENORMAL\n",
      "STOP  LBLRTM EXIT \n",
      "1.93user 0.93system 0:04.30elapsed 66%CPU (0avgtext+0avgdata 7720maxresident)k\n",
      "0inputs+0outputs (0major+1238minor)pagefaults 0swaps\n"
     ]
    },
    {
     "name": "stdout",
     "output_type": "stream",
     "text": [
      "\n",
      "Running exec: lblrtm\n",
      "\n",
      "\n"
     ]
    },
    {
     "name": "stderr",
     "output_type": "stream",
     "text": [
      "Note: The following floating-point exceptions are signalling: IEEE_INVALID_FLAG IEEE_UNDERFLOW_FLAG IEEE_DENORMAL\n",
      "STOP  LBLRTM EXIT \n",
      "0.47user 0.64system 0:01.28elapsed 87%CPU (0avgtext+0avgdata 7764maxresident)k\n",
      "0inputs+0outputs (0major+1226minor)pagefaults 0swaps\n"
     ]
    },
    {
     "name": "stdout",
     "output_type": "stream",
     "text": [
      "<simulacra.tellurics.TelFitModel object at 0x14c613024518> [1.6178939077349241e-06, 2.2691137502306447e-07, 2.2691137502306447e-07, 2.2691137502306447e-07, 2.2691137502306447e-07, 2.2691137502306447e-07, 2.2691137502306447e-07, 2.2691137502306447e-07, 2.2691137502306447e-07, 2.2691137502306447e-07, 2.2691137502306447e-07, 2.2691137502306447e-07, 2.2691137502306447e-07, 2.2691137502306447e-07, 2.2691137502306447e-07, 2.2691137502306447e-07, 2.2691137502306447e-07, 2.2691137502306447e-07, 2.2691137502306447e-07, 2.2691137502306447e-07, 2.2691137502306447e-07, 2.2691137502306447e-07, 2.2691137502306447e-07, 2.2691137502306447e-07, 2.2691137502306447e-07, 2.2691137502306447e-07, 2.2691137502306447e-07, 2.2691137502306447e-07, 2.2691137502306447e-07, 2.2691137502306447e-07, 2.2691137502306447e-07]\n",
      "2.2691137502306447e-07\n",
      "interpolating spline...\n",
      "0\n",
      "1\n",
      "2\n",
      "3\n",
      "4\n",
      "5\n",
      "6\n",
      "7\n",
      "8\n",
      "9\n",
      "10\n",
      "11\n",
      "12\n",
      "13\n",
      "14\n",
      "15\n",
      "16\n",
      "17\n",
      "18\n",
      "19\n",
      "20\n",
      "21\n",
      "22\n",
      "23\n",
      "24\n",
      "25\n",
      "26\n",
      "27\n",
      "28\n",
      "29\n",
      "convolving...\n",
      "interpolating lanczos...\n",
      "0\n",
      "1\n",
      "2\n",
      "3\n",
      "4\n",
      "5\n",
      "6\n",
      "7\n",
      "8\n",
      "9\n",
      "10\n",
      "11\n",
      "12\n",
      "13\n",
      "14\n",
      "15\n",
      "16\n",
      "17\n",
      "18\n",
      "19\n",
      "20\n",
      "21\n",
      "22\n",
      "23\n",
      "24\n",
      "25\n",
      "26\n",
      "27\n",
      "28\n",
      "29\n"
     ]
    }
   ],
   "source": [
    "epoches = 30\n",
    "data = detector.simulate(epoches,convolve_on=True)"
   ]
  },
  {
   "cell_type": "code",
   "execution_count": 8,
   "id": "18b4469c",
   "metadata": {},
   "outputs": [
    {
     "name": "stdout",
     "output_type": "stream",
     "text": [
      "dict_keys(['data', 'parameters', 'theory'])\n",
      "data\n",
      "\twave <class 'astropy.units.quantity.Quantity'>\n",
      "\twave_unit <class 'astropy.units.core.Unit'>\n",
      "wave_unit  saving as string\n",
      "\tflux <class 'numpy.ndarray'>\n",
      "\tflux_exp <class 'numpy.ndarray'>\n",
      "\tferr <class 'numpy.ndarray'>\n",
      "\ttimes <class 'astropy.time.core.Time'>\n",
      "['2022-03-24T10:27:15.736' '2022-02-05T20:05:23.508'\n",
      " '2022-03-04T21:24:45.223' '2022-03-25T01:42:28.118'\n",
      " '2022-10-06T13:18:14.116' '2021-10-31T20:52:51.694'\n",
      " '2022-07-12T06:51:07.560' '2021-10-09T03:06:14.534'\n",
      " '2021-10-16T08:43:26.107' '2022-03-15T07:15:06.633'\n",
      " '2022-01-10T22:38:55.536' '2022-03-31T07:31:07.091'\n",
      " '2021-11-18T03:34:08.845' '2021-10-29T08:13:17.397'\n",
      " '2022-05-31T21:37:55.275' '2022-05-02T12:53:03.073'\n",
      " '2022-02-18T14:00:58.968' '2022-04-03T08:18:21.328'\n",
      " '2022-06-06T04:44:51.892' '2022-01-11T22:32:48.335'\n",
      " '2022-04-15T00:10:40.627' '2022-01-27T10:32:15.270'\n",
      " '2022-09-27T01:31:00.728' '2022-02-27T20:59:30.656'\n",
      " '2022-05-03T11:49:56.334' '2021-11-30T23:05:57.148'\n",
      " '2021-11-12T23:07:29.207' '2021-10-21T14:12:17.760'\n",
      " '2022-05-18T19:27:52.070' '2022-09-01T05:10:51.196']\n",
      "parameters\n",
      "\tdel <class 'numpy.ndarray'>\n",
      "\tm <class 'numpy.ndarray'>\n",
      "\ta <class 'int'>\n",
      "\tlsf_coeffs <class 'numpy.ndarray'>\n",
      "\tra <class 'astropy.units.quantity.Quantity'>\n",
      "\tra_unit <class 'astropy.units.core.Unit'>\n",
      "ra_unit  saving as string\n",
      "\tdec <class 'astropy.units.quantity.Quantity'>\n",
      "\tdec_unit <class 'astropy.units.core.Unit'>\n",
      "dec_unit  saving as string\n",
      "\tobs <class 'str'>\n",
      "\trvs <class 'astropy.units.quantity.Quantity'>\n",
      "\trv_unit <class 'astropy.units.core.CompositeUnit'>\n",
      "rv_unit  saving as string\n",
      "\tperiod <class 'astropy.units.quantity.Quantity'>\n",
      "\tperiod_unit <class 'astropy.units.core.Unit'>\n",
      "period_unit  saving as string\n",
      "\tresolution <class 'int'>\n",
      "theory\n",
      "\twave_the <class 'astropy.units.quantity.Quantity'>\n",
      "\twave_the_unit <class 'astropy.units.core.Unit'>\n",
      "wave_the_unit  saving as string\n",
      "\tflux_lsf <class 'numpy.ndarray'>\n",
      "\tflux_the <class 'numpy.ndarray'>\n",
      "\tflux_star <class 'numpy.ndarray'>\n",
      "\ttrans TelFitModel <class 'numpy.ndarray'>\n"
     ]
    }
   ],
   "source": [
    "filename = 'out/datatest_apogee.h5'\n",
    "data.to_h5(filename)"
   ]
  },
  {
   "cell_type": "code",
   "execution_count": null,
   "id": "f304a886",
   "metadata": {},
   "outputs": [],
   "source": []
  }
 ],
 "metadata": {
  "kernelspec": {
   "display_name": "Python 3 (ipykernel)",
   "language": "python",
   "name": "python3"
  },
  "language_info": {
   "codemirror_mode": {
    "name": "ipython",
    "version": 3
   },
   "file_extension": ".py",
   "mimetype": "text/x-python",
   "name": "python",
   "nbconvert_exporter": "python",
   "pygments_lexer": "ipython3",
   "version": "3.7.1"
  }
 },
 "nbformat": 4,
 "nbformat_minor": 5
}
