{
 "cells": [
  {
   "cell_type": "code",
   "execution_count": 1,
   "metadata": {},
   "outputs": [
    {
     "name": "stderr",
     "output_type": "stream",
     "text": [
      "/Library/Frameworks/Python.framework/Versions/3.7/lib/python3.7/site-packages/pysynphot/locations.py:46: UserWarning: PYSYN_CDBS is undefined; functionality will be SEVERELY crippled.\n",
      "  warnings.warn(\"PYSYN_CDBS is undefined; functionality will be SEVERELY \"\n",
      "/Library/Frameworks/Python.framework/Versions/3.7/lib/python3.7/site-packages/pysynphot/locations.py:345: UserWarning: Extinction files not found in extinction\n",
      "  warnings.warn('Extinction files not found in %s' % (extdir, ))\n"
     ]
    }
   ],
   "source": [
    "import simulacra.star\n",
    "import simulacra.tellurics\n",
    "from simulacra.star import PhoenixModel\n",
    "\n",
    "import random\n",
    "import numpy as np\n",
    "\n",
    "import astropy.io.fits\n",
    "import astropy.time as at\n",
    "\n",
    "import astropy.units as u\n",
    "import astropy.coordinates as coord\n",
    "import astropy.constants as const"
   ]
  },
  {
   "cell_type": "markdown",
   "metadata": {},
   "source": [
    "<h1>Simulacra: An Introduction to Simulating Spectrograph Data</h1>\n",
    "This package should be used to simulate spectrographs by creating a star with a given flux, various transmission models (gas cell and tellurics), and a detector. Then simulating the detector at given start times for an exposure time."
   ]
  },
  {
   "cell_type": "markdown",
   "metadata": {},
   "source": [
    "### Theory\n",
    "$$ F_{\\lambda ij} t_{exp} A_{ste} \\frac{A_{telescope}}{A_{sphere}} d \\lambda_j = N\n",
    "^{exp}_{ij}$$"
   ]
  },
  {
   "cell_type": "markdown",
   "metadata": {},
   "source": [
    "### Sampling\n",
    "c: read noise <br>\n",
    "d: dark current <br>\n",
    "Q: ccd efficiency <br>\n",
    "f^{exp}: expected flux in photon number <br>\n",
    "f^{readout}: readout flux in photon number\n",
    "\n",
    "$$ SNR_{ij} = \\frac{Q_j N^{exp}_{ij}}{\\sqrt{c_j + d_j t_{exp} + Q_j N^{exp}_{ij}}} $$ <br>\n",
    "$$ n_{ij} \\sim Normal(0., 1/SNR_{i,j}) $$ <br>\n",
    "$$ N^{readout}_{ij} = N^{exp}_{ij} + n_{ij}$$ <br>\n",
    "$$ \\sigma^{N}_{ij} = \\frac{N^{readout}_{ij}}{SNR_{ij}} $$\n",
    "Most in Nexp dominanted regime\n",
    "\n",
    "through put 20%\n",
    "\n",
    "1_000_000 photons is more normal."
   ]
  },
  {
   "cell_type": "markdown",
   "metadata": {},
   "source": [
    "this formula converts from the stellar flux denisty to the expected photon number on the detector."
   ]
  },
  {
   "cell_type": "code",
   "execution_count": 2,
   "metadata": {},
   "outputs": [],
   "source": [
    "ra, dec = np.random.uniform(0,360) * u.degree, np.random.uniform(0,80) * u.degree\n",
    "obs = 'APO'\n",
    "loc = coord.EarthLocation.of_site(obs)\n",
    "target = coord.SkyCoord(ra,dec,frame='icrs')"
   ]
  },
  {
   "cell_type": "markdown",
   "metadata": {},
   "source": [
    "Functions from the star module can be used to select times to view a given star from some observatory."
   ]
  },
  {
   "cell_type": "code",
   "execution_count": 3,
   "metadata": {
    "scrolled": false
   },
   "outputs": [],
   "source": [
    "tstart = at.Time('2020-01-01T08:10:00.123456789',format='isot',scale='utc')\n",
    "tend   = tstart + 180 * u.day\n",
    "night_grid = simulacra.star.get_night_grid(loc,tstart,tend,steps_per_night=5)\n",
    "possible_times, airmass = simulacra.star.get_realistic_times(target,loc,night_grid)"
   ]
  },
  {
   "cell_type": "code",
   "execution_count": 4,
   "metadata": {},
   "outputs": [],
   "source": [
    "epoches = 4"
   ]
  },
  {
   "cell_type": "markdown",
   "metadata": {},
   "source": [
    "Now we selected some random sample of these to observe at and the airmasses at those times"
   ]
  },
  {
   "cell_type": "code",
   "execution_count": 5,
   "metadata": {},
   "outputs": [],
   "source": [
    "obs_ints = random.sample(range(len(airmass)),epoches)\n",
    "obs_times, obs_airmass = possible_times[obs_ints], airmass[obs_ints]"
   ]
  },
  {
   "cell_type": "markdown",
   "metadata": {},
   "source": [
    "<h2>Tellurics Model</h2>\n",
    "The tellurics model requires these airmasses at the time of observation. However each of the pressure, temperatures, and humidities can be set by the user after initialization. If a single value is passed that is used for every epoch. Or you can pass it an array of quantities of size equal to the number of epoches."
   ]
  },
  {
   "cell_type": "code",
   "execution_count": 6,
   "metadata": {},
   "outputs": [],
   "source": [
    "wave_min = 900*u.nm\n",
    "wave_max = 930*u.nm\n",
    "tellurics_model = simulacra.tellurics.TelFitModel(wave_min,wave_max,loc)"
   ]
  },
  {
   "cell_type": "markdown",
   "metadata": {},
   "source": [
    "Define some atmospheric parameters for the tellurics. These can either be constant over all time or an array with the same length as the number of epoches."
   ]
  },
  {
   "cell_type": "code",
   "execution_count": 7,
   "metadata": {},
   "outputs": [],
   "source": [
    "tellurics_model.pressure    = np.random.uniform(870,880,epoches) * u.hPa\n",
    "tellurics_model.humidity    = np.random.uniform(45.0,55.0,epoches)\n",
    "tellurics_model.temperature = np.random.uniform(300,310,epoches) * u.Kelvin"
   ]
  },
  {
   "cell_type": "markdown",
   "metadata": {},
   "source": [
    "<h2>Star Model</h2>\n",
    "Here we define the star model with some temperature, distance, logg, and companion parameters. The logg, T, z, and alpha parameters must correspond to an appropriate atmosphere model from the PHOENIX libraray online. Then also give it some companion parameters that could affect its velocity. This is what we will be trying to find use jabble."
   ]
  },
  {
   "cell_type": "markdown",
   "metadata": {},
   "source": [
    "z is metallicity. And distance can be set to whatever you want."
   ]
  },
  {
   "cell_type": "code",
   "execution_count": 8,
   "metadata": {},
   "outputs": [
    {
     "name": "stdout",
     "output_type": "stream",
     "text": [
      "using saved wave file\n",
      "data/stellar/PHOENIX/lte04800-1.00-1.0.Alpha=+0.40.PHOENIX-ACES-AGSS-COND-2011-HiRes.fits\n",
      "using saved flux file\n",
      "reading in data/stellar/PHOENIX/WAVE_PHOENIX-ACES-AGSS-COND-2011.fits\n"
     ]
    }
   ],
   "source": [
    "logg = 1.0\n",
    "T    = 4800\n",
    "z    = -1.0\n",
    "alpha= 0.4\n",
    "distance  = 20 * u.lyr\n",
    "amplitude = 4 * u.km/u.s\n",
    "period    = 6 * u.day\n",
    "stellar_model = PhoenixModel(distance,alpha,z,T,logg,target,amplitude,period)"
   ]
  },
  {
   "cell_type": "code",
   "execution_count": 9,
   "metadata": {},
   "outputs": [],
   "source": [
    "from simulacra.detector import Detector, spacing_from_res"
   ]
  },
  {
   "cell_type": "markdown",
   "metadata": {},
   "source": [
    "<h2>Detector</h2>\n",
    "Here we define our detector giving it an aperature area, resolution, dark current, read noise, and ccd efficiency. All of these can be except area can be given as an array of the same size as the wave_grid (eg. if the detector has varying resolution or noise levels)"
   ]
  },
  {
   "cell_type": "code",
   "execution_count": 10,
   "metadata": {},
   "outputs": [],
   "source": [
    "resolution = 100_000\n",
    "area = 10 * u.m**2\n",
    "exp_times = 8 * np.ones(epoches)* u.minute \n",
    "dark_current = 1/u.s\n",
    "read_noise   = 1\n",
    "ccd_eff      = 0.99\n",
    "through_put  = 0.2\n",
    "\n",
    "delta_x = spacing_from_res(2*resolution)\n",
    "x_grid = np.arange(np.log(wave_min.to(u.Angstrom).value),np.log(wave_max.to(u.Angstrom).value),delta_x)\n",
    "wave_grid = np.exp(x_grid) * u.Angstrom\n",
    "\n",
    "detector = Detector(stellar_model,resolution,loc,area,wave_grid,dark_current,read_noise,ccd_eff,through_put)"
   ]
  },
  {
   "cell_type": "code",
   "execution_count": 11,
   "metadata": {},
   "outputs": [],
   "source": [
    "detector.add_model(tellurics_model)"
   ]
  },
  {
   "cell_type": "markdown",
   "metadata": {},
   "source": [
    "<h2>Gas Cell</h2>\n",
    "Optionally, add the gas cell to the detector for simulations of the Keck HiRES spectrograph."
   ]
  },
  {
   "cell_type": "code",
   "execution_count": 12,
   "metadata": {},
   "outputs": [],
   "source": [
    "# from simulacra.gascell import GasCellModel\n",
    "# gascell_model = GasCellModel('data/gascell/keck_fts_inUse.idl')\n",
    "# detector.add_model(gascell_model)"
   ]
  },
  {
   "cell_type": "markdown",
   "metadata": {},
   "source": [
    "<h2>Simulator</h2>\n",
    "Now comes the bulk of the work, run the simulation with the given transmission models, star, detector at the given times for some exposure times."
   ]
  },
  {
   "cell_type": "code",
   "execution_count": 13,
   "metadata": {},
   "outputs": [
    {
     "name": "stdout",
     "output_type": "stream",
     "text": [
      "photon flux: 5.33e+20\n",
      "ratios: 2.22e-35\n",
      "exposures: 4.80e+02\n",
      "star area: 3.46e+22\n",
      "det flux: 3.93e+10\n",
      "generating spectra...\n",
      "humidity: 51.8621593823319\n",
      " pressure: 872.5575810794128\n",
      " temperature: 307.0298934918144\n",
      " lat: 32.78000000000001\n",
      " elevation: 2.797999999999601\n",
      " freqmin(cm-1): 10752.68817204301\n",
      " freqmax(cm-1): 11111.111111111111\n",
      " angle: 46.280082850158315\n",
      "\n",
      "146333\n",
      "humidity: 53.73312815716558\n",
      " pressure: 871.0087482579603\n",
      " temperature: 305.3493701076093\n",
      " lat: 32.78000000000001\n",
      " elevation: 2.797999999999601\n",
      " freqmin(cm-1): 10752.68817204301\n",
      " freqmax(cm-1): 11111.111111111111\n",
      " angle: 32.1373121814609\n",
      "\n",
      "146629\n",
      "humidity: 49.19564158115183\n",
      " pressure: 873.343360127242\n",
      " temperature: 306.2657220140465\n",
      " lat: 32.78000000000001\n",
      " elevation: 2.797999999999601\n",
      " freqmin(cm-1): 10752.68817204301\n",
      " freqmax(cm-1): 11111.111111111111\n",
      " angle: 57.247668972999314\n",
      "\n",
      "153048\n",
      "humidity: 52.87531893667516\n",
      " pressure: 875.9248542401795\n",
      " temperature: 307.3975867344624\n",
      " lat: 32.78000000000001\n",
      " elevation: 2.797999999999601\n",
      " freqmin(cm-1): 10752.68817204301\n",
      " freqmax(cm-1): 11111.111111111111\n",
      " angle: 21.85323996008645\n",
      "\n",
      "151211\n",
      "<simulacra.tellurics.TelFitModel object at 0x7f8b23d4dac8> [1.6178939059585673e-06, 2.2405908595146684e-07, 2.236072971228964e-07, 2.1422929918912814e-07, 2.168313546491163e-07]\n",
      "interpolating spline...\n",
      "0\n",
      "1\n",
      "2\n",
      "3\n",
      "combining grids...\n",
      "fs:  (4, 158140)\n",
      "convolving...\n",
      "0\n",
      "1\n",
      "2\n",
      "3\n",
      "xs: 8995.000000000005 9304.953330449898\n",
      "xhat: 9000.000000000004 9299.954385581657\n",
      "interpolating lanczos...\n",
      "f_exp 0: 52613948227.35892\n",
      "f_exp 1: 54985835028.38236\n",
      "f_exp 2: 51129246119.63182\n",
      "f_exp 3: 54681943740.70361\n",
      "generating signal to noise ratios...\n",
      "1.0 480.0 8040081958.138782\n",
      "1.0 480.0 1884853651.639204\n",
      "1.0 480.0 63511098821.566826\n",
      "1.0 480.0 52553828377.14424\n",
      "1.0 480.0 15527471783.611038\n",
      "1.0 480.0 59336104539.87828\n",
      "1.0 480.0 650881996.5259062\n",
      "1.0 480.0 55740614725.029854\n",
      "1.0 480.0 56547096959.821915\n",
      "1.0 480.0 61053638444.63715\n",
      "1.0 480.0 61120236691.71234\n",
      "1.0 480.0 22861413637.15439\n",
      "1.0 480.0 52236733674.67731\n",
      "1.0 480.0 20474741492.385593\n",
      "1.0 480.0 12114670538.481375\n",
      "1.0 480.0 3239218389.587967\n",
      "1.0 480.0 63544783108.63266\n",
      "1.0 480.0 54801539957.266975\n",
      "1.0 480.0 27744148267.89898\n",
      "1.0 480.0 60373605613.0929\n",
      "1.0 480.0 1306106117.2604854\n",
      "1.0 480.0 56248596740.30225\n",
      "1.0 480.0 58314819806.802475\n",
      "1.0 480.0 61572095224.41274\n",
      "1.0 480.0 61546359988.86481\n",
      "1.0 480.0 29023383251.012432\n",
      "1.0 480.0 54520400137.15103\n",
      "1.0 480.0 26567581768.03008\n",
      "1.0 480.0 6099431371.420643\n",
      "1.0 480.0 1292906428.4656298\n",
      "1.0 480.0 63429242085.42453\n",
      "1.0 480.0 50987368856.786606\n",
      "1.0 480.0 13885926649.707365\n",
      "1.0 480.0 58596205626.55624\n",
      "1.0 480.0 405580478.4745111\n",
      "1.0 480.0 54667270196.37577\n",
      "1.0 480.0 55612628176.5919\n",
      "1.0 480.0 60682846320.91227\n",
      "1.0 480.0 60862603811.29768\n",
      "1.0 480.0 20021256929.07461\n",
      "1.0 480.0 50650410189.788025\n",
      "1.0 480.0 17205347599.36271\n",
      "1.0 480.0 11991875982.875248\n",
      "1.0 480.0 3246393232.614061\n",
      "1.0 480.0 63621382990.66643\n",
      "1.0 480.0 54729839293.32437\n",
      "1.0 480.0 34412143236.79528\n",
      "1.0 480.0 60363107729.59117\n",
      "1.0 480.0 1288017577.2685573\n",
      "1.0 480.0 56873054480.719315\n",
      "1.0 480.0 55514835064.30598\n",
      "1.0 480.0 59256437110.72106\n",
      "1.0 480.0 56801961619.06909\n",
      "1.0 480.0 28950213308.984703\n",
      "1.0 480.0 54415683163.68417\n",
      "1.0 480.0 25998376119.844322\n",
      "adding noise...\n",
      "snr 0: 228227.5356955483\n",
      "snr 1: 233315.1862838608\n",
      "snr 2: 224984.3398434788\n",
      "snr 3: 232669.5592205351\n"
     ]
    }
   ],
   "source": [
    "data = detector.simulate(obs_times,exp_times)"
   ]
  },
  {
   "cell_type": "markdown",
   "metadata": {},
   "source": [
    "Save file to pickle jar"
   ]
  },
  {
   "cell_type": "code",
   "execution_count": 14,
   "metadata": {},
   "outputs": [
    {
     "name": "stdout",
     "output_type": "stream",
     "text": [
      "saving time\n",
      "quantity\n",
      "epoches  saving as string\n",
      "quantity\n",
      "quantity\n",
      "quantity\n",
      "quantity\n",
      "quantity\n",
      "quantity\n",
      "flux  saving as string\n",
      "wave  saving as string\n",
      "quantity\n",
      "quantity\n",
      "quantity\n",
      "alpha  saving as string\n",
      "quantity\n",
      "quantity\n",
      "fluxname  saving as string\n",
      "generate_spectra  saving as string\n",
      "quantity\n",
      "quantity\n",
      "logg  saving as string\n",
      "outdir  saving as string\n",
      "quantity\n",
      "plot  saving as string\n",
      "plot_interpolated  saving as string\n",
      "quantity\n",
      "quantity\n",
      "saving target...13.268780931851417 deg 28.64377425474278 deg\n",
      "temperature  saving as string\n",
      "quantity\n",
      "quantity\n",
      "wavename  saving as string\n",
      "quantity\n",
      "z  saving as string\n",
      "quantity\n",
      "quantity\n",
      "quantity\n",
      "quantity\n",
      "a  saving as string\n",
      "add_model  saving as string\n",
      "quantity\n",
      "checkmax  saving as string\n",
      "checkmin  saving as string\n",
      "quantity\n",
      "epsilon  saving as string\n",
      "gamma  saving as string\n",
      "quantity\n",
      "quantity\n",
      "quantity\n",
      "lsf_centering  saving as string\n",
      "lsf_const_coeffs  saving as string\n",
      "resolution  saving as string\n",
      "sigma  saving as string\n",
      "sigma_range  saving as string\n",
      "simulate  saving as string\n",
      "stellar_model  saving as string\n",
      "through_put  saving as string\n",
      "transmission_models  saving as string\n",
      "w  saving as string\n",
      "quantity\n",
      "quantity\n",
      "_epoches  saving as string\n",
      "quantity\n",
      "quantity\n",
      "_name  saving as string\n",
      "quantity\n",
      "quantity\n",
      "check_property  saving as string\n",
      "check_shape_type  saving as string\n",
      "epoches  saving as string\n",
      "generate_transmission  saving as string\n",
      "quantity\n",
      "quantity\n",
      "quantity\n",
      "plot  saving as string\n",
      "plot_interpolated  saving as string\n",
      "quantity\n",
      "quantity\n"
     ]
    }
   ],
   "source": [
    "filename = 'out/data_e{}_a{}_p{}_l{:3.1e}{:3.1e}'.format(epoches,amplitude.to(u.m/u.s).value,period.to(u.day).value,detector.lambmin.value,detector.lambmax.value)\n",
    "data.to_pickle(filename + '.pkl')\n",
    "data.to_h5(filename + '.h5')"
   ]
  },
  {
   "cell_type": "code",
   "execution_count": 15,
   "metadata": {},
   "outputs": [
    {
     "name": "stdout",
     "output_type": "stream",
     "text": [
      "<SkyCoord (ICRS): (ra, dec) in deg\n",
      "    (13.26878093, 28.64377425)>\n"
     ]
    }
   ],
   "source": [
    "print(target)"
   ]
  },
  {
   "cell_type": "code",
   "execution_count": 16,
   "metadata": {},
   "outputs": [],
   "source": [
    "import matplotlib.pyplot as plt\n",
    "import scipy.ndimage\n",
    "def normalize(y,yerr,sigma):\n",
    "    y_low = scipy.ndimage.gaussian_filter(y,sigma)\n",
    "    return y/y_low, yerr/y"
   ]
  },
  {
   "cell_type": "code",
   "execution_count": 17,
   "metadata": {
    "scrolled": true
   },
   "outputs": [
    {
     "data": {
      "image/png": "[encoded data removed]",
      "text/plain": [
       "<Figure size 1440x1440 with 4 Axes>"
      ]
     },
     "metadata": {
      "needs_background": "light"
     },
     "output_type": "display_data"
    }
   ],
   "source": [
    "sigma = 200\n",
    "n_plots = 4\n",
    "plt_unit = u.Angstrom\n",
    "sort_times = np.argsort(obs_times)\n",
    "fig, axes = plt.subplots(n_plots,figsize=(20,5 * n_plots),sharex=True,sharey=True)\n",
    "\n",
    "fig.text(0.5, 0.04, 'Wavelength [{}]'.format(plt_unit), ha='center', va='center')\n",
    "fig.text(0.06, 0.5, 'Flux', ha='center', va='center', rotation='vertical')\n",
    "for i in range(n_plots):\n",
    "    axes[i].set_xlim(np.log(9297),np.log(9300))\n",
    "#     axes[i].set_ylim(-1.2,1.2)\n",
    "#     data.plot_data(axes[i],sort_times[i],xy='x',units=plt_unit,normalize=normalize,nargs=[sigma])\n",
    "    data.plot_tellurics(axes[i],sort_times[i],xy='x',units=plt_unit)#,normalize=normalize,nargs=[sigma]\n",
    "#     data.plot_gas(axes[i],sort_times[i],xy='x',units=plt_unit)\n",
    "    data.plot_theory(axes[i],sort_times[i],xy='x',units=plt_unit)\n",
    "#     data.plot_lsf(axes[i],sort_times[i],xy='x',units=plt_unit)\n",
    "    data.plot_star(axes[i],sort_times[i],xy='x',units=plt_unit)\n",
    "plt.savefig('out/datatest5.png')\n",
    "plt.show()"
   ]
  },
  {
   "cell_type": "code",
   "execution_count": 18,
   "metadata": {},
   "outputs": [
    {
     "name": "stdout",
     "output_type": "stream",
     "text": [
      "data: <class 'dict'>\n",
      "--obs_times: <class 'numpy.ndarray'>\n",
      "--exp_times: <class 'astropy.units.quantity.Quantity'>\n",
      "--epoches: <class 'int'>\n",
      "--rvs: <class 'astropy.units.quantity.Quantity'>\n",
      "--mask: <class 'numpy.ndarray'>\n",
      "--snr: <class 'numpy.ndarray'>\n",
      "--flux_expected: <class 'numpy.ndarray'>\n",
      "--flux: <class 'numpy.ndarray'>\n",
      "--wave: <class 'astropy.units.quantity.Quantity'>\n",
      "--ferr: <class 'numpy.ndarray'>\n",
      "theory: <class 'dict'>\n",
      "--star: <class 'dict'>\n",
      "----deltas: <class 'astropy.units.quantity.Quantity'>\n",
      "----flux: <class 'astropy.units.quantity.Quantity'>\n",
      "----wave: <class 'astropy.units.quantity.Quantity'>\n",
      "--interpolated: <class 'dict'>\n",
      "----tellurics: <class 'dict'>\n",
      "------flux: <class 'numpy.ndarray'>\n",
      "----star: <class 'dict'>\n",
      "------flux: <class 'numpy.ndarray'>\n",
      "----total: <class 'dict'>\n",
      "------flux: <class 'numpy.ndarray'>\n",
      "------wave: <class 'astropy.units.quantity.Quantity'>\n",
      "------mask: <class 'numpy.ndarray'>\n",
      "--tellurics: <class 'dict'>\n",
      "----flux: <class 'list'>\n",
      "----wave: <class 'list'>\n",
      "--lsf: <class 'dict'>\n",
      "----flux: <class 'numpy.ndarray'>\n",
      "parameters: <class 'dict'>\n",
      "--star: <class 'dict'>\n",
      "----_flux: <class 'numpy.ndarray'>\n",
      "----_lambmax: <class 'astropy.units.quantity.Quantity'>\n",
      "----_lambmin: <class 'astropy.units.quantity.Quantity'>\n",
      "----_wave: <class 'astropy.units.quantity.Quantity'>\n",
      "----alpha: <class 'float'>\n",
      "----amplitude: <class 'astropy.units.quantity.Quantity'>\n",
      "----distance: <class 'astropy.coordinates.distances.Distance'>\n",
      "----fluxname: <class 'str'>\n",
      "----generate_spectra: <class 'method'>\n",
      "----lambmax: <class 'astropy.units.quantity.Quantity'>\n",
      "----lambmin: <class 'astropy.units.quantity.Quantity'>\n",
      "----logg: <class 'float'>\n",
      "----outdir: <class 'str'>\n",
      "----period: <class 'astropy.units.quantity.Quantity'>\n",
      "----plot: <class 'method'>\n",
      "----plot_interpolated: <class 'method'>\n",
      "----stellar_radius: <class 'astropy.units.quantity.Quantity'>\n",
      "----surface_flux: <class 'astropy.units.quantity.Quantity'>\n",
      "----target: <class 'astropy.coordinates.sky_coordinate.SkyCoord'>\n",
      "----temperature: <class 'int'>\n",
      "----wave: <class 'astropy.units.quantity.Quantity'>\n",
      "----wave_difference: <class 'astropy.units.quantity.Quantity'>\n",
      "----wavename: <class 'str'>\n",
      "----x: <class 'astropy.units.quantity.Quantity'>\n",
      "----z: <class 'float'>\n",
      "--detector: <class 'dict'>\n",
      "----_ccd_eff: <class 'numpy.ndarray'>\n",
      "----_dark_current: <class 'astropy.units.quantity.Quantity'>\n",
      "----_lambmax: <class 'astropy.units.quantity.Quantity'>\n",
      "----_lambmin: <class 'astropy.units.quantity.Quantity'>\n",
      "----_read_noise: <class 'numpy.ndarray'>\n",
      "----_wave_grid: <class 'astropy.units.quantity.Quantity'>\n",
      "----a: <class 'int'>\n",
      "----add_model: <class 'method'>\n",
      "----area: <class 'astropy.units.quantity.Quantity'>\n",
      "----ccd_eff: <class 'numpy.ndarray'>\n",
      "----checkmax: <class 'method'>\n",
      "----checkmin: <class 'method'>\n",
      "----dark_current: <class 'astropy.units.quantity.Quantity'>\n",
      "----epsilon: <class 'float'>\n",
      "----gamma: <class 'float'>\n",
      "----lambmax: <class 'astropy.units.quantity.Quantity'>\n",
      "----lambmin: <class 'astropy.units.quantity.Quantity'>\n",
      "----loc: <class 'astropy.coordinates.earth.EarthLocation'>\n",
      "----lsf_centering: <class 'str'>\n",
      "----lsf_coeffs: <class 'numpy.ndarray'>\n",
      "----lsf_const_coeffs: <class 'list'>\n",
      "----read_noise: <class 'numpy.ndarray'>\n",
      "----resolution: <class 'int'>\n",
      "----sigma: <class 'float'>\n",
      "----sigma_range: <class 'float'>\n",
      "----simulate: <class 'method'>\n",
      "----stellar_model: <class 'simulacra.star.PhoenixModel'>\n",
      "----through_put: <class 'float'>\n",
      "----transmission_models: <class 'list'>\n",
      "----w: <class 'float'>\n",
      "----wave_grid: <class 'astropy.units.quantity.Quantity'>\n",
      "----wave_padding: <class 'astropy.units.quantity.Quantity'>\n",
      "--tellurics: <class 'dict'>\n",
      "----_epoches: <class 'int'>\n",
      "----_humidity: <class 'numpy.ndarray'>\n",
      "----_lambmax: <class 'astropy.units.quantity.Quantity'>\n",
      "----_lambmin: <class 'astropy.units.quantity.Quantity'>\n",
      "----_name: <class 'str'>\n",
      "----_pressure: <class 'astropy.units.quantity.Quantity'>\n",
      "----_temperature: <class 'astropy.units.quantity.Quantity'>\n",
      "----check_property: <class 'method'>\n",
      "----check_shape_type: <class 'method'>\n",
      "----epoches: <class 'int'>\n",
      "----generate_transmission: <class 'method'>\n",
      "----humidity: <class 'numpy.ndarray'>\n",
      "----lambmax: <class 'astropy.units.quantity.Quantity'>\n",
      "----lambmin: <class 'astropy.units.quantity.Quantity'>\n",
      "----loc: <class 'astropy.coordinates.earth.EarthLocation'>\n",
      "----plot: <class 'method'>\n",
      "----plot_interpolated: <class 'method'>\n",
      "----pressure: <class 'astropy.units.quantity.Quantity'>\n",
      "----temperature: <class 'astropy.units.quantity.Quantity'>\n"
     ]
    }
   ],
   "source": [
    "from simulacra.dataset import print_keys\n",
    "print_keys(data)"
   ]
  },
  {
   "cell_type": "code",
   "execution_count": 19,
   "metadata": {
    "scrolled": true
   },
   "outputs": [
    {
     "data": {
      "image/png": "[encoded data removed]",
      "text/plain": [
       "<Figure size 720x216 with 1 Axes>"
      ]
     },
     "metadata": {
      "needs_background": "light"
     },
     "output_type": "display_data"
    },
    {
     "data": {
      "image/png": "[encoded data removed]",
      "text/plain": [
       "<Figure size 720x216 with 1 Axes>"
      ]
     },
     "metadata": {
      "needs_background": "light"
     },
     "output_type": "display_data"
    }
   ],
   "source": [
    "times = at.Time([obs_times[i] + exp_times[i]/2 for i in range(len(obs_times))])\n",
    "rv = data['data']['rvs'].to(u.km/u.s)\n",
    "bc  = target.radial_velocity_correction(obstime=times,location=loc).to(u.km/u.s)\n",
    "eprv = rv - bc\n",
    "\n",
    "plt.figure(figsize=(10,3))\n",
    "plt.title('EPRV')\n",
    "v_unit = u.m/u.s\n",
    "plt.plot((times - min(times)).to(u.day).value % period.to(u.day).value,eprv.to(v_unit).value,'.r')\n",
    "plt.ylabel('vel [{}]'.format(v_unit))\n",
    "plt.xlabel('time [d]')\n",
    "plt.show()\n",
    "\n",
    "plt.figure(figsize=(10,3))\n",
    "plt.title('RV')\n",
    "v_unit = u.km/u.s\n",
    "plt.plot((times - min(times)).to(u.day).value,rv.to(v_unit).value,'.k')\n",
    "plt.ylabel('vel [{}]'.format(v_unit))\n",
    "plt.xlabel('time [d]')\n",
    "plt.show()"
   ]
  },
  {
   "cell_type": "code",
   "execution_count": null,
   "metadata": {},
   "outputs": [],
   "source": []
  }
 ],
 "metadata": {
  "kernelspec": {
   "display_name": "Python 3",
   "language": "python",
   "name": "python3"
  },
  "language_info": {
   "codemirror_mode": {
    "name": "ipython",
    "version": 3
   },
   "file_extension": ".py",
   "mimetype": "text/x-python",
   "name": "python",
   "nbconvert_exporter": "python",
   "pygments_lexer": "ipython3",
   "version": "3.7.1"
  }
 },
 "nbformat": 4,
 "nbformat_minor": 4
}
